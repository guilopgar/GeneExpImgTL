{
 "cells": [
  {
   "cell_type": "markdown",
   "metadata": {},
   "source": [
    "# Traditional ML approach\n",
    "\n",
    "In this notebook, a ML approach is followed to solve a cancer prediction task on gene-expression samples from a concrete tumor type. Here, gene expression profiles are directly modelled as vectors. For ML models to deal with the curse of dimensionality present in the gene expression dataset, feature selection/extraction methods are inlcuded in the current workflow."
   ]
  },
  {
   "cell_type": "code",
   "execution_count": 1,
   "metadata": {},
   "outputs": [
    {
     "name": "stderr",
     "output_type": "stream",
     "text": [
      "Using TensorFlow backend.\n"
     ]
    }
   ],
   "source": [
    "import numpy as np\n",
    "import pandas as pd\n",
    "import warnings\n",
    "\n",
    "# Auxiliary components\n",
    "from bio_dl_utils import *"
   ]
  },
  {
   "cell_type": "markdown",
   "metadata": {},
   "source": [
    "## Progression free-interval\n",
    "\n",
    "Here, we predict the discrete progression-free interval (PFI) of each patient (sample), which correponds to a binary classification task:"
   ]
  },
  {
   "cell_type": "code",
   "execution_count": 2,
   "metadata": {},
   "outputs": [],
   "source": [
    "# Define survival variable of interest\n",
    "surv_variable = \"PFI\"\n",
    "surv_variable_time = \"PFI.time\""
   ]
  },
  {
   "cell_type": "markdown",
   "metadata": {},
   "source": [
    "### Lung cancer"
   ]
  },
  {
   "cell_type": "code",
   "execution_count": 3,
   "metadata": {},
   "outputs": [
    {
     "data": {
      "text/plain": [
       "(999, 33)"
      ]
     },
     "execution_count": 3,
     "metadata": {},
     "output_type": "execute_result"
    }
   ],
   "source": [
    "# Load samples-info dataset\n",
    "Y_info_ft = pd.read_hdf(\"../data/PanCancer/Lung_pancan.h5\", key=\"sample\")\n",
    "# Load survival clinical outcome dataset\n",
    "Y_surv_ft = pd.read_hdf(\"../data/PanCancer/Lung_pancan.h5\", key=\"survival_outcome\")\n",
    "# Filter tumor samples from survival clinical outcome dataset\n",
    "Y_surv_ft = Y_surv_ft.loc[Y_info_ft.tumor_normal==\"Tumor\"]\n",
    "# Drop rows where surv_variable or surv_variable_time is NA\n",
    "Y_surv_ft.dropna(subset=[surv_variable, surv_variable_time], inplace=True)\n",
    "Y_surv_ft.shape"
   ]
  },
  {
   "cell_type": "markdown",
   "metadata": {},
   "source": [
    "We create a discrete time class variable using the fixed-time point selected in `Lung_PFI_Prediction` notebook:"
   ]
  },
  {
   "cell_type": "code",
   "execution_count": 4,
   "metadata": {},
   "outputs": [
    {
     "data": {
      "text/plain": [
       "(855,)"
      ]
     },
     "execution_count": 4,
     "metadata": {},
     "output_type": "execute_result"
    }
   ],
   "source": [
    "time = 230\n",
    "Y_surv_disc_ft = Y_surv_ft[['PFI', 'PFI.time']].apply(\n",
    "    lambda row: survival_fixed_time(time, row['PFI.time'], row['PFI']), axis=1)\n",
    "\n",
    "Y_surv_disc_ft.dropna(inplace=True)\n",
    "Y_surv_disc_ft.shape"
   ]
  },
  {
   "cell_type": "code",
   "execution_count": 5,
   "metadata": {},
   "outputs": [
    {
     "data": {
      "text/plain": [
       "0.09473684210526316"
      ]
     },
     "execution_count": 5,
     "metadata": {},
     "output_type": "execute_result"
    }
   ],
   "source": [
    "# Event class fraction\n",
    "sum(Y_surv_disc_ft)/len(Y_surv_disc_ft)"
   ]
  },
  {
   "cell_type": "markdown",
   "metadata": {},
   "source": [
    "We also load the gene expression dataset, and select the samples with the survival information of interest:"
   ]
  },
  {
   "cell_type": "code",
   "execution_count": 6,
   "metadata": {},
   "outputs": [
    {
     "name": "stdout",
     "output_type": "stream",
     "text": [
      "CPU times: user 10.7 s, sys: 434 ms, total: 11.1 s\n",
      "Wall time: 11.1 s\n"
     ]
    }
   ],
   "source": [
    "%%time\n",
    "# Load gene-exp vectors: this dataset was obtained from the final KEGG BRITE functional hierarchies dataset generated in\n",
    "# 1-KEGG_BRITE_Hierarchy notebook, by selecting only the columns corresponding to PanCancer samples, removing the \n",
    "# duplicated genes (rows) and transposing it\n",
    "df_gene_exp = pd.read_csv(\"./KEGG_gene_exp.csv\")"
   ]
  },
  {
   "cell_type": "code",
   "execution_count": 7,
   "metadata": {},
   "outputs": [
    {
     "data": {
      "text/plain": [
       "(10535, 7509)"
      ]
     },
     "execution_count": 7,
     "metadata": {},
     "output_type": "execute_result"
    }
   ],
   "source": [
    "df_gene_exp.shape"
   ]
  },
  {
   "cell_type": "code",
   "execution_count": 10,
   "metadata": {},
   "outputs": [
    {
     "data": {
      "text/html": [
       "<div>\n",
       "<style scoped>\n",
       "    .dataframe tbody tr th:only-of-type {\n",
       "        vertical-align: middle;\n",
       "    }\n",
       "\n",
       "    .dataframe tbody tr th {\n",
       "        vertical-align: top;\n",
       "    }\n",
       "\n",
       "    .dataframe thead th {\n",
       "        text-align: right;\n",
       "    }\n",
       "</style>\n",
       "<table border=\"1\" class=\"dataframe\">\n",
       "  <thead>\n",
       "    <tr style=\"text-align: right;\">\n",
       "      <th></th>\n",
       "      <th>ENSG00000187961.13</th>\n",
       "      <th>ENSG00000188290.10</th>\n",
       "      <th>ENSG00000187608.8</th>\n",
       "      <th>ENSG00000188157.13</th>\n",
       "      <th>ENSG00000186891.13</th>\n",
       "      <th>ENSG00000186827.10</th>\n",
       "      <th>ENSG00000184163.3</th>\n",
       "      <th>ENSG00000162572.19</th>\n",
       "      <th>ENSG00000131584.18</th>\n",
       "      <th>ENSG00000169962.4</th>\n",
       "      <th>...</th>\n",
       "      <th>ENSG00000067048.16</th>\n",
       "      <th>ENSG00000183878.15</th>\n",
       "      <th>ENSG00000154620.5</th>\n",
       "      <th>ENSG00000165246.12</th>\n",
       "      <th>ENSG00000012817.15</th>\n",
       "      <th>ENSG00000198692.9</th>\n",
       "      <th>ENSG00000105227.14</th>\n",
       "      <th>ENSG00000164237.8</th>\n",
       "      <th>ENSG00000175048.16</th>\n",
       "      <th>ENSG00000188706.12</th>\n",
       "    </tr>\n",
       "  </thead>\n",
       "  <tbody>\n",
       "    <tr>\n",
       "      <th>TCGA.02.0047.01</th>\n",
       "      <td>1.3225</td>\n",
       "      <td>4.1604</td>\n",
       "      <td>5.8166</td>\n",
       "      <td>6.3983</td>\n",
       "      <td>-1.9942</td>\n",
       "      <td>0.7493</td>\n",
       "      <td>0.3346</td>\n",
       "      <td>0.7321</td>\n",
       "      <td>5.7493</td>\n",
       "      <td>-2.1779</td>\n",
       "      <td>...</td>\n",
       "      <td>4.5760</td>\n",
       "      <td>2.1013</td>\n",
       "      <td>1.2815</td>\n",
       "      <td>3.6497</td>\n",
       "      <td>3.7614</td>\n",
       "      <td>4.6508</td>\n",
       "      <td>1.2815</td>\n",
       "      <td>4.3618</td>\n",
       "      <td>4.9426</td>\n",
       "      <td>5.7748</td>\n",
       "    </tr>\n",
       "    <tr>\n",
       "      <th>TCGA.02.0055.01</th>\n",
       "      <td>2.3135</td>\n",
       "      <td>3.6148</td>\n",
       "      <td>6.9599</td>\n",
       "      <td>4.3356</td>\n",
       "      <td>2.9281</td>\n",
       "      <td>1.5266</td>\n",
       "      <td>0.4016</td>\n",
       "      <td>1.1316</td>\n",
       "      <td>4.1692</td>\n",
       "      <td>-3.4580</td>\n",
       "      <td>...</td>\n",
       "      <td>-3.8160</td>\n",
       "      <td>-6.5064</td>\n",
       "      <td>-9.9658</td>\n",
       "      <td>-5.5735</td>\n",
       "      <td>-3.0469</td>\n",
       "      <td>-4.0350</td>\n",
       "      <td>0.2881</td>\n",
       "      <td>2.5924</td>\n",
       "      <td>2.9488</td>\n",
       "      <td>5.6056</td>\n",
       "    </tr>\n",
       "    <tr>\n",
       "      <th>TCGA.02.2483.01</th>\n",
       "      <td>2.5707</td>\n",
       "      <td>3.8729</td>\n",
       "      <td>5.9072</td>\n",
       "      <td>6.3946</td>\n",
       "      <td>-1.9379</td>\n",
       "      <td>2.2813</td>\n",
       "      <td>0.2029</td>\n",
       "      <td>0.9419</td>\n",
       "      <td>5.3995</td>\n",
       "      <td>-2.9324</td>\n",
       "      <td>...</td>\n",
       "      <td>3.8391</td>\n",
       "      <td>1.2085</td>\n",
       "      <td>1.7744</td>\n",
       "      <td>3.0428</td>\n",
       "      <td>2.7270</td>\n",
       "      <td>5.3042</td>\n",
       "      <td>-1.1172</td>\n",
       "      <td>3.5523</td>\n",
       "      <td>3.3450</td>\n",
       "      <td>4.8360</td>\n",
       "    </tr>\n",
       "    <tr>\n",
       "      <th>TCGA.02.2485.01</th>\n",
       "      <td>3.3814</td>\n",
       "      <td>5.8875</td>\n",
       "      <td>9.9433</td>\n",
       "      <td>6.2132</td>\n",
       "      <td>-0.8599</td>\n",
       "      <td>1.3051</td>\n",
       "      <td>0.0014</td>\n",
       "      <td>1.8801</td>\n",
       "      <td>6.0637</td>\n",
       "      <td>-2.4659</td>\n",
       "      <td>...</td>\n",
       "      <td>4.1036</td>\n",
       "      <td>1.5661</td>\n",
       "      <td>0.5568</td>\n",
       "      <td>2.7095</td>\n",
       "      <td>4.0019</td>\n",
       "      <td>4.8090</td>\n",
       "      <td>0.9642</td>\n",
       "      <td>3.6635</td>\n",
       "      <td>3.9468</td>\n",
       "      <td>4.5571</td>\n",
       "    </tr>\n",
       "    <tr>\n",
       "      <th>TCGA.04.1331.01</th>\n",
       "      <td>2.0500</td>\n",
       "      <td>4.7661</td>\n",
       "      <td>8.6119</td>\n",
       "      <td>6.6414</td>\n",
       "      <td>-1.6850</td>\n",
       "      <td>1.3846</td>\n",
       "      <td>0.7664</td>\n",
       "      <td>2.4831</td>\n",
       "      <td>3.6961</td>\n",
       "      <td>-3.1714</td>\n",
       "      <td>...</td>\n",
       "      <td>-9.9658</td>\n",
       "      <td>-9.9658</td>\n",
       "      <td>-9.9658</td>\n",
       "      <td>-9.9658</td>\n",
       "      <td>-9.9658</td>\n",
       "      <td>-9.9658</td>\n",
       "      <td>0.5955</td>\n",
       "      <td>4.3660</td>\n",
       "      <td>1.4547</td>\n",
       "      <td>5.1486</td>\n",
       "    </tr>\n",
       "  </tbody>\n",
       "</table>\n",
       "<p>5 rows × 7509 columns</p>\n",
       "</div>"
      ],
      "text/plain": [
       "                 ENSG00000187961.13  ENSG00000188290.10  ENSG00000187608.8  \\\n",
       "TCGA.02.0047.01              1.3225              4.1604             5.8166   \n",
       "TCGA.02.0055.01              2.3135              3.6148             6.9599   \n",
       "TCGA.02.2483.01              2.5707              3.8729             5.9072   \n",
       "TCGA.02.2485.01              3.3814              5.8875             9.9433   \n",
       "TCGA.04.1331.01              2.0500              4.7661             8.6119   \n",
       "\n",
       "                 ENSG00000188157.13  ENSG00000186891.13  ENSG00000186827.10  \\\n",
       "TCGA.02.0047.01              6.3983             -1.9942              0.7493   \n",
       "TCGA.02.0055.01              4.3356              2.9281              1.5266   \n",
       "TCGA.02.2483.01              6.3946             -1.9379              2.2813   \n",
       "TCGA.02.2485.01              6.2132             -0.8599              1.3051   \n",
       "TCGA.04.1331.01              6.6414             -1.6850              1.3846   \n",
       "\n",
       "                 ENSG00000184163.3  ENSG00000162572.19  ENSG00000131584.18  \\\n",
       "TCGA.02.0047.01             0.3346              0.7321              5.7493   \n",
       "TCGA.02.0055.01             0.4016              1.1316              4.1692   \n",
       "TCGA.02.2483.01             0.2029              0.9419              5.3995   \n",
       "TCGA.02.2485.01             0.0014              1.8801              6.0637   \n",
       "TCGA.04.1331.01             0.7664              2.4831              3.6961   \n",
       "\n",
       "                 ENSG00000169962.4         ...          ENSG00000067048.16  \\\n",
       "TCGA.02.0047.01            -2.1779         ...                      4.5760   \n",
       "TCGA.02.0055.01            -3.4580         ...                     -3.8160   \n",
       "TCGA.02.2483.01            -2.9324         ...                      3.8391   \n",
       "TCGA.02.2485.01            -2.4659         ...                      4.1036   \n",
       "TCGA.04.1331.01            -3.1714         ...                     -9.9658   \n",
       "\n",
       "                 ENSG00000183878.15  ENSG00000154620.5  ENSG00000165246.12  \\\n",
       "TCGA.02.0047.01              2.1013             1.2815              3.6497   \n",
       "TCGA.02.0055.01             -6.5064            -9.9658             -5.5735   \n",
       "TCGA.02.2483.01              1.2085             1.7744              3.0428   \n",
       "TCGA.02.2485.01              1.5661             0.5568              2.7095   \n",
       "TCGA.04.1331.01             -9.9658            -9.9658             -9.9658   \n",
       "\n",
       "                 ENSG00000012817.15  ENSG00000198692.9  ENSG00000105227.14  \\\n",
       "TCGA.02.0047.01              3.7614             4.6508              1.2815   \n",
       "TCGA.02.0055.01             -3.0469            -4.0350              0.2881   \n",
       "TCGA.02.2483.01              2.7270             5.3042             -1.1172   \n",
       "TCGA.02.2485.01              4.0019             4.8090              0.9642   \n",
       "TCGA.04.1331.01             -9.9658            -9.9658              0.5955   \n",
       "\n",
       "                 ENSG00000164237.8  ENSG00000175048.16  ENSG00000188706.12  \n",
       "TCGA.02.0047.01             4.3618              4.9426              5.7748  \n",
       "TCGA.02.0055.01             2.5924              2.9488              5.6056  \n",
       "TCGA.02.2483.01             3.5523              3.3450              4.8360  \n",
       "TCGA.02.2485.01             3.6635              3.9468              4.5571  \n",
       "TCGA.04.1331.01             4.3660              1.4547              5.1486  \n",
       "\n",
       "[5 rows x 7509 columns]"
      ]
     },
     "execution_count": 10,
     "metadata": {},
     "output_type": "execute_result"
    }
   ],
   "source": [
    "df_gene_exp.head()"
   ]
  },
  {
   "cell_type": "code",
   "execution_count": 11,
   "metadata": {},
   "outputs": [
    {
     "name": "stdout",
     "output_type": "stream",
     "text": [
      "CPU times: user 13.7 ms, sys: 116 µs, total: 13.8 ms\n",
      "Wall time: 13.3 ms\n"
     ]
    }
   ],
   "source": [
    "%%time\n",
    "# Select samples with discrete time survival information associated\n",
    "df_gene_exp_disc_ft = df_gene_exp.loc[[s.replace(\"-\", \".\") for s in Y_surv_disc_ft.index]]"
   ]
  },
  {
   "cell_type": "code",
   "execution_count": 12,
   "metadata": {},
   "outputs": [
    {
     "data": {
      "text/plain": [
       "(855, 7509)"
      ]
     },
     "execution_count": 12,
     "metadata": {},
     "output_type": "execute_result"
    }
   ],
   "source": [
    "df_gene_exp_disc_ft.shape"
   ]
  },
  {
   "cell_type": "markdown",
   "metadata": {},
   "source": [
    "Finally, we create the binary class variable to be predicted by the models:"
   ]
  },
  {
   "cell_type": "code",
   "execution_count": 13,
   "metadata": {},
   "outputs": [
    {
     "data": {
      "text/plain": [
       "array([0, 1])"
      ]
     },
     "execution_count": 13,
     "metadata": {},
     "output_type": "execute_result"
    }
   ],
   "source": [
    "from sklearn.preprocessing import LabelEncoder\n",
    "\n",
    "# Convert discrete time survival numerical variables into binary variables\n",
    "Y_surv_disc_class_ft = LabelEncoder().fit_transform(Y_surv_disc_ft)\n",
    "np.unique(Y_surv_disc_class_ft)"
   ]
  },
  {
   "cell_type": "code",
   "execution_count": 14,
   "metadata": {},
   "outputs": [
    {
     "data": {
      "text/plain": [
       "0.09473684210526316"
      ]
     },
     "execution_count": 14,
     "metadata": {},
     "output_type": "execute_result"
    }
   ],
   "source": [
    "# Event class fraction\n",
    "sum(Y_surv_disc_class_ft)/len(Y_surv_disc_class_ft)"
   ]
  },
  {
   "cell_type": "markdown",
   "metadata": {},
   "source": [
    "#### Classical machine learning approach\n",
    "\n",
    "We use classical ML methods to perform feature selection as well as to predict PFI fixed time period survival. Also, different resampling techniques are applied to deal with the severe class imbalance of the lung cancer survival data used in this work."
   ]
  },
  {
   "cell_type": "code",
   "execution_count": 15,
   "metadata": {},
   "outputs": [],
   "source": [
    "from sklearn.linear_model import LogisticRegression\n",
    "from sklearn.ensemble import RandomForestClassifier\n",
    "from sklearn.model_selection import RepeatedStratifiedKFold\n",
    "from sklearn.preprocessing import StandardScaler\n",
    "from sklearn.feature_selection import SelectKBest, f_classif\n",
    "from sklearn.decomposition import PCA, KernelPCA\n",
    "from sklearn.svm import SVC\n",
    "from sklearn.neural_network import MLPClassifier\n",
    "from sklearn.metrics import make_scorer, roc_auc_score\n",
    "from hyperopt import hp\n",
    "\n",
    "warnings.filterwarnings('ignore')\n",
    "\n",
    "# Define the training data and the label to be predicted\n",
    "X = df_gene_exp_disc_ft\n",
    "# Using the numeric binary class variable\n",
    "y = Y_surv_disc_class_ft\n",
    "\n",
    "# Define the scaler\n",
    "sc = StandardScaler()\n",
    "\n",
    "# Define the dimensionality reduction techniques along with the hyperparameter space\n",
    "# Feature selection methods\n",
    "feat_sel_space = {'dim_reducer__k': hp.choice('k', [150, 200, 250, 300, 350])}\n",
    "# Using ANOVA\n",
    "anova = SelectKBest(score_func=f_classif)\n",
    "# Feature extraction methods\n",
    "feat_ext_space = {'dim_reducer__n_components': hp.choice('n_components', [150, 200, 250, 300, 350])}\n",
    "# Using PCA\n",
    "pca = PCA()\n",
    "# Using KPCA\n",
    "kpca = KernelPCA(kernel='rbf')\n",
    "\n",
    "# Define the classifier along with the hyperparameter space\n",
    "# Using logistic regression\n",
    "log_reg = LogisticRegression(solver='saga', random_state=123)\n",
    "log_reg_space = {\n",
    "    'clf__penalty': hp.choice('penalty', ['l1', 'l2']), \n",
    "    'clf__C': hp.loguniform('C', np.log(1e-4), np.log(1e+3)), \n",
    "    'clf__max_iter': hp.choice('max_iter', [1e4, 1e5, 1e6, 1e7])}\n",
    "# Using SVM\n",
    "svm = SVC(kernel='rbf', probability=True, random_state=123)\n",
    "svm_space = {\n",
    "    'clf__C': hp.loguniform('C', np.log(1e-4), np.log(1e+3)),\n",
    "    'clf__gamma': hp.loguniform('gamma', np.log(1e-4), np.log(1e+3)),\n",
    "    'clf__max_iter': hp.choice('max_iter', [1e4, 1e5, 1e6, 1e7])\n",
    "}\n",
    "# Using ANN (adjust the number of hidden units depending on the number of selected features)\n",
    "ann = MLPClassifier(learning_rate='constant', shuffle=True, \n",
    "                    tol=1e-5, verbose=False, early_stopping=True, validation_fraction=0.1, max_iter=200, \n",
    "                    solver='adam', activation='relu', random_state=123)\n",
    "ann_space = {'clf__hidden_layer_sizes': hp.choice('hidden_layer_sizes', [(100,), (75,), (50,), (25,)]),\n",
    "            'clf__alpha': hp.loguniform('alpha', np.log(1e-6), np.log(1e-1)),\n",
    "            'clf__batch_size': hp.choice('batch_size', [20, 50, 80, 110, 140, 170]),\n",
    "            'clf__learning_rate_init': hp.loguniform('learning_rate_init', np.log(5e-5), np.log(1e-1))}\n",
    "# Using Random-Forest\n",
    "rf = RandomForestClassifier(max_features=\"auto\", criterion='gini', bootstrap=True, random_state=123)\n",
    "rf_space = {'clf__n_estimators': hp.choice('n_estimators', [50, 100, 300, 500, 700]),\n",
    "            'clf__max_depth': hp.choice('max_depth', [10, 30, 50, 70, 90]),\n",
    "            'clf__min_samples_split': hp.choice('min_samples_split', [0.05, 0.1, 0.15, 0.2, 0.3]),\n",
    "            'clf__min_samples_leaf': hp.choice('min_samples_leaf', [0.03, 0.06, 0.1, 0.2])}\n",
    "\n",
    "# Define estimators hyper-parameter space\n",
    "log_reg_feat_sel_space = dict(feat_sel_space, **log_reg_space)\n",
    "log_reg_feat_ext_space = dict(feat_ext_space, **log_reg_space)\n",
    "svm_feat_sel_space = dict(feat_sel_space, **svm_space)\n",
    "svm_feat_ext_space = dict(feat_ext_space, **svm_space)\n",
    "ann_feat_sel_space = dict(feat_sel_space, **ann_space)\n",
    "ann_feat_ext_space = dict(feat_ext_space, **ann_space)\n",
    "rf_feat_sel_space = dict(feat_sel_space, **rf_space)\n",
    "rf_feat_ext_space = dict(feat_ext_space, **rf_space)\n",
    "\n",
    "# Define dict where estimators Pipelines are stored\n",
    "estim_pipeline = {}\n",
    "\n",
    "# Define cross-validation iterator\n",
    "outer_cv_split = RepeatedStratifiedKFold(n_splits=5, n_repeats=10, random_state=23)\n",
    "\n",
    "# Define evaluation metrics\n",
    "model_sel_metric = 'auc'\n",
    "eval_metric = {'auc': 'roc_auc', \n",
    "               'acc': make_scorer(opt_accuracy_score, needs_proba=True), \n",
    "               'sens': make_scorer(opt_recall_score, needs_proba=True),\n",
    "               'spec': make_scorer(opt_specificity_score, needs_proba=True),\n",
    "               'prec': make_scorer(opt_precision_score, needs_proba=True),\n",
    "               'f1': make_scorer(opt_f1_score, needs_proba=True),\n",
    "               'mcc': make_scorer(opt_mcc_score, needs_proba=True),\n",
    "               'thres': make_scorer(opt_threshold_score, needs_proba=True)\n",
    "              }\n",
    "\n",
    "# Bayesian-optimization parameters\n",
    "n = 100\n",
    "random_state = 666"
   ]
  },
  {
   "cell_type": "code",
   "execution_count": 16,
   "metadata": {},
   "outputs": [],
   "source": [
    "from imblearn.pipeline import Pipeline\n",
    "\n",
    "def create_pipelines(dict_pipe, re_sampler):\n",
    "    \"\"\"\n",
    "    Auxiliary procedure to create/update the Pipeline of every estimator in order to include a re-sampling method,\n",
    "    with the goal of dealing with imbalanced datasets. Pipelines are stored in a dictionary.\n",
    "    \"\"\"\n",
    "    # LR\n",
    "    dict_pipe['log_reg_anova_sc_pipe'] = Pipeline([('dim_reducer', anova), ('scaler', sc), ('re_sample', re_sampler), \n",
    "                                                   ('clf', log_reg)])\n",
    "    dict_pipe['log_reg_sc_pca_pipe'] = Pipeline([('scaler', sc), ('dim_reducer', pca), ('re_sample', re_sampler), \n",
    "                                                 ('clf', log_reg)])\n",
    "    dict_pipe['log_reg_sc_kpca_pipe'] = Pipeline([('scaler', sc), ('dim_reducer', kpca), ('re_sample', re_sampler), \n",
    "                                                  ('clf', log_reg)])\n",
    "    # SVM\n",
    "    dict_pipe['svm_anova_sc_pipe'] = Pipeline([('dim_reducer', anova), ('scaler', sc), ('re_sample', re_sampler), \n",
    "                                               ('clf', svm)])\n",
    "    dict_pipe['svm_sc_pca_pipe'] = Pipeline([('scaler', sc), ('dim_reducer', pca), ('re_sample', re_sampler), \n",
    "                                             ('clf', svm)])\n",
    "    dict_pipe['svm_sc_kpca_pipe'] = Pipeline([('scaler', sc), ('dim_reducer', kpca), ('re_sample', re_sampler), \n",
    "                                              ('clf', svm)])\n",
    "    # ANN\n",
    "    dict_pipe['ann_anova_sc_pipe'] = Pipeline([('dim_reducer', anova), ('scaler', sc), ('re_sample', re_sampler), \n",
    "                                               ('clf', ann)])\n",
    "    dict_pipe['ann_sc_pca_pipe'] = Pipeline([('scaler', sc), ('dim_reducer', pca), ('re_sample', re_sampler), \n",
    "                                             ('clf', ann)])\n",
    "    dict_pipe['ann_sc_kpca_pipe'] = Pipeline([('scaler', sc), ('dim_reducer', kpca), ('re_sample', re_sampler), \n",
    "                                              ('clf', ann)])\n",
    "    # RF\n",
    "    dict_pipe['rf_anova_sc_pipe'] = Pipeline([('dim_reducer', anova), ('scaler', sc), ('re_sample', re_sampler), \n",
    "                                              ('clf', rf)])\n",
    "    dict_pipe['rf_sc_pca_pipe'] = Pipeline([('scaler', sc), ('dim_reducer', pca), ('re_sample', re_sampler), \n",
    "                                            ('clf', rf)])\n",
    "    dict_pipe['rf_sc_kpca_pipe'] = Pipeline([('scaler', sc), ('dim_reducer', kpca), ('re_sample', re_sampler), \n",
    "                                             ('clf', rf)])\n",
    "    \n",
    "    return None\n"
   ]
  },
  {
   "cell_type": "markdown",
   "metadata": {},
   "source": [
    "#### Under-sampling"
   ]
  },
  {
   "cell_type": "code",
   "execution_count": 17,
   "metadata": {},
   "outputs": [],
   "source": [
    "from imblearn.under_sampling import RandomUnderSampler\n",
    "\n",
    "# Define the re-sampling method along with the hyper-parameter space\n",
    "rus = RandomUnderSampler(replacement=False, random_state=69)\n",
    "rus_space = {'re_sample__sampling_strategy': hp.choice('sampling_strategy', [1, 1/2, 1/3, 1/4])}\n",
    "\n",
    "# Update Pipelines\n",
    "create_pipelines(dict_pipe=estim_pipeline, re_sampler=rus)"
   ]
  },
  {
   "cell_type": "markdown",
   "metadata": {},
   "source": [
    "##### RF"
   ]
  },
  {
   "cell_type": "markdown",
   "metadata": {},
   "source": [
    "###### ANOVA"
   ]
  },
  {
   "cell_type": "code",
   "execution_count": 18,
   "metadata": {},
   "outputs": [],
   "source": [
    "rf_anova_sc_search = HyperoptCV(estimator=estim_pipeline['rf_anova_sc_pipe'], \n",
    "                                hyper_space=dict(rf_feat_sel_space, **rus_space), cv=outer_cv_split, \n",
    "                                scoring=eval_metric, opt_metric=model_sel_metric, n_iter=n, \n",
    "                                random_seed=random_state, parallel=8)"
   ]
  },
  {
   "cell_type": "code",
   "execution_count": 22,
   "metadata": {
    "scrolled": true
   },
   "outputs": [
    {
     "name": "stdout",
     "output_type": "stream",
     "text": [
      "100%|██████████| 100/100 [08:04<00:00,  4.17s/it, best loss: 0.30676600581581615]\n",
      "CPU times: user 32.8 s, sys: 2.2 s, total: 35 s\n",
      "Wall time: 8min 4s\n"
     ]
    }
   ],
   "source": [
    "%%time\n",
    "best_trial = rf_anova_sc_search.model_selection(X, y)"
   ]
  },
  {
   "cell_type": "code",
   "execution_count": 23,
   "metadata": {},
   "outputs": [
    {
     "data": {
      "text/plain": [
       "{'clf__max_depth': 50,\n",
       " 'clf__min_samples_leaf': 0.03,\n",
       " 'clf__min_samples_split': 0.05,\n",
       " 'clf__n_estimators': 500,\n",
       " 'dim_reducer__k': 300,\n",
       " 're_sample__sampling_strategy': 0.3333333333333333}"
      ]
     },
     "execution_count": 23,
     "metadata": {},
     "output_type": "execute_result"
    }
   ],
   "source": [
    "best_trial['result']['params']"
   ]
  },
  {
   "cell_type": "code",
   "execution_count": 24,
   "metadata": {},
   "outputs": [
    {
     "data": {
      "text/html": [
       "<div>\n",
       "<style scoped>\n",
       "    .dataframe tbody tr th:only-of-type {\n",
       "        vertical-align: middle;\n",
       "    }\n",
       "\n",
       "    .dataframe tbody tr th {\n",
       "        vertical-align: top;\n",
       "    }\n",
       "\n",
       "    .dataframe thead th {\n",
       "        text-align: right;\n",
       "    }\n",
       "</style>\n",
       "<table border=\"1\" class=\"dataframe\">\n",
       "  <thead>\n",
       "    <tr style=\"text-align: right;\">\n",
       "      <th></th>\n",
       "      <th>ACC</th>\n",
       "      <th>AUC</th>\n",
       "      <th>F-1</th>\n",
       "      <th>MCC</th>\n",
       "      <th>Prec</th>\n",
       "      <th>Sens</th>\n",
       "      <th>Spec</th>\n",
       "      <th>Thres</th>\n",
       "    </tr>\n",
       "  </thead>\n",
       "  <tbody>\n",
       "    <tr>\n",
       "      <th>count</th>\n",
       "      <td>50.000000</td>\n",
       "      <td>50.000000</td>\n",
       "      <td>50.000000</td>\n",
       "      <td>50.000000</td>\n",
       "      <td>50.000000</td>\n",
       "      <td>50.000000</td>\n",
       "      <td>50.000000</td>\n",
       "      <td>50.000000</td>\n",
       "    </tr>\n",
       "    <tr>\n",
       "      <th>mean</th>\n",
       "      <td>0.672398</td>\n",
       "      <td>0.693234</td>\n",
       "      <td>0.283892</td>\n",
       "      <td>0.210725</td>\n",
       "      <td>0.196749</td>\n",
       "      <td>0.637279</td>\n",
       "      <td>0.676102</td>\n",
       "      <td>0.270109</td>\n",
       "    </tr>\n",
       "    <tr>\n",
       "      <th>std</th>\n",
       "      <td>0.144455</td>\n",
       "      <td>0.065399</td>\n",
       "      <td>0.059464</td>\n",
       "      <td>0.071510</td>\n",
       "      <td>0.068716</td>\n",
       "      <td>0.168411</td>\n",
       "      <td>0.174136</td>\n",
       "      <td>0.073313</td>\n",
       "    </tr>\n",
       "    <tr>\n",
       "      <th>min</th>\n",
       "      <td>0.210526</td>\n",
       "      <td>0.510887</td>\n",
       "      <td>0.179487</td>\n",
       "      <td>0.050075</td>\n",
       "      <td>0.100671</td>\n",
       "      <td>0.235294</td>\n",
       "      <td>0.135484</td>\n",
       "      <td>0.114305</td>\n",
       "    </tr>\n",
       "    <tr>\n",
       "      <th>25%</th>\n",
       "      <td>0.609649</td>\n",
       "      <td>0.663508</td>\n",
       "      <td>0.250525</td>\n",
       "      <td>0.170617</td>\n",
       "      <td>0.151834</td>\n",
       "      <td>0.562500</td>\n",
       "      <td>0.600974</td>\n",
       "      <td>0.231930</td>\n",
       "    </tr>\n",
       "    <tr>\n",
       "      <th>50%</th>\n",
       "      <td>0.684211</td>\n",
       "      <td>0.696976</td>\n",
       "      <td>0.269281</td>\n",
       "      <td>0.195411</td>\n",
       "      <td>0.179144</td>\n",
       "      <td>0.625000</td>\n",
       "      <td>0.686112</td>\n",
       "      <td>0.269156</td>\n",
       "    </tr>\n",
       "    <tr>\n",
       "      <th>75%</th>\n",
       "      <td>0.783626</td>\n",
       "      <td>0.727923</td>\n",
       "      <td>0.309317</td>\n",
       "      <td>0.253294</td>\n",
       "      <td>0.241848</td>\n",
       "      <td>0.750000</td>\n",
       "      <td>0.791935</td>\n",
       "      <td>0.293791</td>\n",
       "    </tr>\n",
       "    <tr>\n",
       "      <th>max</th>\n",
       "      <td>0.888889</td>\n",
       "      <td>0.829032</td>\n",
       "      <td>0.444444</td>\n",
       "      <td>0.382941</td>\n",
       "      <td>0.411765</td>\n",
       "      <td>0.937500</td>\n",
       "      <td>0.935484</td>\n",
       "      <td>0.421881</td>\n",
       "    </tr>\n",
       "  </tbody>\n",
       "</table>\n",
       "</div>"
      ],
      "text/plain": [
       "             ACC        AUC        F-1        MCC       Prec       Sens  \\\n",
       "count  50.000000  50.000000  50.000000  50.000000  50.000000  50.000000   \n",
       "mean    0.672398   0.693234   0.283892   0.210725   0.196749   0.637279   \n",
       "std     0.144455   0.065399   0.059464   0.071510   0.068716   0.168411   \n",
       "min     0.210526   0.510887   0.179487   0.050075   0.100671   0.235294   \n",
       "25%     0.609649   0.663508   0.250525   0.170617   0.151834   0.562500   \n",
       "50%     0.684211   0.696976   0.269281   0.195411   0.179144   0.625000   \n",
       "75%     0.783626   0.727923   0.309317   0.253294   0.241848   0.750000   \n",
       "max     0.888889   0.829032   0.444444   0.382941   0.411765   0.937500   \n",
       "\n",
       "            Spec      Thres  \n",
       "count  50.000000  50.000000  \n",
       "mean    0.676102   0.270109  \n",
       "std     0.174136   0.073313  \n",
       "min     0.135484   0.114305  \n",
       "25%     0.600974   0.231930  \n",
       "50%     0.686112   0.269156  \n",
       "75%     0.791935   0.293791  \n",
       "max     0.935484   0.421881  "
      ]
     },
     "execution_count": 24,
     "metadata": {},
     "output_type": "execute_result"
    }
   ],
   "source": [
    "scores = best_trial['result']['score']\n",
    "res = pd.DataFrame({'AUC': scores['test_auc'], \n",
    "              'ACC': scores['test_acc'], \n",
    "              'Sens': scores['test_sens'], \n",
    "              'Spec': scores['test_spec'],\n",
    "              'Prec': scores['test_prec'],\n",
    "              'F-1': scores['test_f1'],\n",
    "              'MCC': scores['test_mcc'],\n",
    "              'Thres': scores['test_thres']\n",
    "                   })\n",
    "res.describe()"
   ]
  },
  {
   "cell_type": "code",
   "execution_count": 26,
   "metadata": {},
   "outputs": [],
   "source": [
    "file_path = 'results/rus_rf_anova_disc_pfi_lung_ml_100_iter_rep_kfold.csv'\n",
    "res.to_csv(file_path, index=False)"
   ]
  },
  {
   "cell_type": "markdown",
   "metadata": {},
   "source": [
    "###### PCA"
   ]
  },
  {
   "cell_type": "code",
   "execution_count": 25,
   "metadata": {},
   "outputs": [],
   "source": [
    "rf_sc_pca_search = HyperoptCV(estimator=estim_pipeline['rf_sc_pca_pipe'], \n",
    "                                hyper_space=dict(rf_feat_ext_space, **rus_space), cv=outer_cv_split, \n",
    "                                scoring=eval_metric, opt_metric=model_sel_metric, n_iter=n, \n",
    "                                random_seed=random_state, parallel=8)"
   ]
  },
  {
   "cell_type": "code",
   "execution_count": null,
   "metadata": {
    "scrolled": true
   },
   "outputs": [],
   "source": [
    "%%time\n",
    "best_trial = rf_sc_pca_search.model_selection(X, y)"
   ]
  },
  {
   "cell_type": "code",
   "execution_count": 31,
   "metadata": {},
   "outputs": [
    {
     "data": {
      "text/plain": [
       "{'clf__max_depth': 30,\n",
       " 'clf__min_samples_leaf': 0.03,\n",
       " 'clf__min_samples_split': 0.1,\n",
       " 'clf__n_estimators': 700,\n",
       " 'dim_reducer__n_components': 150,\n",
       " 're_sample__sampling_strategy': 0.3333333333333333}"
      ]
     },
     "execution_count": 31,
     "metadata": {},
     "output_type": "execute_result"
    }
   ],
   "source": [
    "best_trial['result']['params']"
   ]
  },
  {
   "cell_type": "code",
   "execution_count": 32,
   "metadata": {},
   "outputs": [
    {
     "data": {
      "text/html": [
       "<div>\n",
       "<style scoped>\n",
       "    .dataframe tbody tr th:only-of-type {\n",
       "        vertical-align: middle;\n",
       "    }\n",
       "\n",
       "    .dataframe tbody tr th {\n",
       "        vertical-align: top;\n",
       "    }\n",
       "\n",
       "    .dataframe thead th {\n",
       "        text-align: right;\n",
       "    }\n",
       "</style>\n",
       "<table border=\"1\" class=\"dataframe\">\n",
       "  <thead>\n",
       "    <tr style=\"text-align: right;\">\n",
       "      <th></th>\n",
       "      <th>ACC</th>\n",
       "      <th>AUC</th>\n",
       "      <th>F-1</th>\n",
       "      <th>MCC</th>\n",
       "      <th>Prec</th>\n",
       "      <th>Sens</th>\n",
       "      <th>Spec</th>\n",
       "      <th>Thres</th>\n",
       "    </tr>\n",
       "  </thead>\n",
       "  <tbody>\n",
       "    <tr>\n",
       "      <th>count</th>\n",
       "      <td>50.000000</td>\n",
       "      <td>50.000000</td>\n",
       "      <td>50.000000</td>\n",
       "      <td>50.000000</td>\n",
       "      <td>50.000000</td>\n",
       "      <td>50.000000</td>\n",
       "      <td>50.000000</td>\n",
       "      <td>50.000000</td>\n",
       "    </tr>\n",
       "    <tr>\n",
       "      <th>mean</th>\n",
       "      <td>0.681404</td>\n",
       "      <td>0.646792</td>\n",
       "      <td>0.265345</td>\n",
       "      <td>0.182397</td>\n",
       "      <td>0.196930</td>\n",
       "      <td>0.563088</td>\n",
       "      <td>0.693779</td>\n",
       "      <td>0.221167</td>\n",
       "    </tr>\n",
       "    <tr>\n",
       "      <th>std</th>\n",
       "      <td>0.161991</td>\n",
       "      <td>0.072039</td>\n",
       "      <td>0.062905</td>\n",
       "      <td>0.080831</td>\n",
       "      <td>0.090288</td>\n",
       "      <td>0.194815</td>\n",
       "      <td>0.196347</td>\n",
       "      <td>0.038388</td>\n",
       "    </tr>\n",
       "    <tr>\n",
       "      <th>min</th>\n",
       "      <td>0.146199</td>\n",
       "      <td>0.423387</td>\n",
       "      <td>0.071429</td>\n",
       "      <td>-0.009654</td>\n",
       "      <td>0.083333</td>\n",
       "      <td>0.062500</td>\n",
       "      <td>0.064516</td>\n",
       "      <td>0.098705</td>\n",
       "    </tr>\n",
       "    <tr>\n",
       "      <th>25%</th>\n",
       "      <td>0.565789</td>\n",
       "      <td>0.601499</td>\n",
       "      <td>0.226829</td>\n",
       "      <td>0.135929</td>\n",
       "      <td>0.141123</td>\n",
       "      <td>0.437500</td>\n",
       "      <td>0.553226</td>\n",
       "      <td>0.200106</td>\n",
       "    </tr>\n",
       "    <tr>\n",
       "      <th>50%</th>\n",
       "      <td>0.719298</td>\n",
       "      <td>0.654637</td>\n",
       "      <td>0.256372</td>\n",
       "      <td>0.176081</td>\n",
       "      <td>0.171241</td>\n",
       "      <td>0.562500</td>\n",
       "      <td>0.735484</td>\n",
       "      <td>0.222818</td>\n",
       "    </tr>\n",
       "    <tr>\n",
       "      <th>75%</th>\n",
       "      <td>0.795322</td>\n",
       "      <td>0.701714</td>\n",
       "      <td>0.300489</td>\n",
       "      <td>0.232742</td>\n",
       "      <td>0.218688</td>\n",
       "      <td>0.734375</td>\n",
       "      <td>0.832258</td>\n",
       "      <td>0.242230</td>\n",
       "    </tr>\n",
       "    <tr>\n",
       "      <th>max</th>\n",
       "      <td>0.900585</td>\n",
       "      <td>0.770565</td>\n",
       "      <td>0.439024</td>\n",
       "      <td>0.378575</td>\n",
       "      <td>0.500000</td>\n",
       "      <td>0.937500</td>\n",
       "      <td>0.961290</td>\n",
       "      <td>0.299016</td>\n",
       "    </tr>\n",
       "  </tbody>\n",
       "</table>\n",
       "</div>"
      ],
      "text/plain": [
       "             ACC        AUC        F-1        MCC       Prec       Sens  \\\n",
       "count  50.000000  50.000000  50.000000  50.000000  50.000000  50.000000   \n",
       "mean    0.681404   0.646792   0.265345   0.182397   0.196930   0.563088   \n",
       "std     0.161991   0.072039   0.062905   0.080831   0.090288   0.194815   \n",
       "min     0.146199   0.423387   0.071429  -0.009654   0.083333   0.062500   \n",
       "25%     0.565789   0.601499   0.226829   0.135929   0.141123   0.437500   \n",
       "50%     0.719298   0.654637   0.256372   0.176081   0.171241   0.562500   \n",
       "75%     0.795322   0.701714   0.300489   0.232742   0.218688   0.734375   \n",
       "max     0.900585   0.770565   0.439024   0.378575   0.500000   0.937500   \n",
       "\n",
       "            Spec      Thres  \n",
       "count  50.000000  50.000000  \n",
       "mean    0.693779   0.221167  \n",
       "std     0.196347   0.038388  \n",
       "min     0.064516   0.098705  \n",
       "25%     0.553226   0.200106  \n",
       "50%     0.735484   0.222818  \n",
       "75%     0.832258   0.242230  \n",
       "max     0.961290   0.299016  "
      ]
     },
     "execution_count": 32,
     "metadata": {},
     "output_type": "execute_result"
    }
   ],
   "source": [
    "scores = best_trial['result']['score']\n",
    "res = pd.DataFrame({'AUC': scores['test_auc'], \n",
    "              'ACC': scores['test_acc'], \n",
    "              'Sens': scores['test_sens'], \n",
    "              'Spec': scores['test_spec'],\n",
    "              'Prec': scores['test_prec'],\n",
    "              'F-1': scores['test_f1'],\n",
    "              'MCC': scores['test_mcc'],\n",
    "              'Thres': scores['test_thres']\n",
    "                   })\n",
    "res.describe()"
   ]
  },
  {
   "cell_type": "code",
   "execution_count": 33,
   "metadata": {},
   "outputs": [],
   "source": [
    "file_path = 'results/rus_rf_pca_disc_pfi_lung_ml_100_iter_rep_kfold.csv'\n",
    "res.to_csv(file_path, index=False)"
   ]
  },
  {
   "cell_type": "markdown",
   "metadata": {},
   "source": [
    "###### KPCA"
   ]
  },
  {
   "cell_type": "code",
   "execution_count": 34,
   "metadata": {},
   "outputs": [],
   "source": [
    "rf_sc_kpca_search = HyperoptCV(estimator=estim_pipeline['rf_sc_kpca_pipe'], \n",
    "                                hyper_space=dict(rf_feat_ext_space, **rus_space), cv=outer_cv_split, \n",
    "                                scoring=eval_metric, opt_metric=model_sel_metric, n_iter=n, \n",
    "                                random_seed=random_state, parallel=8)"
   ]
  },
  {
   "cell_type": "code",
   "execution_count": 35,
   "metadata": {
    "scrolled": true
   },
   "outputs": [
    {
     "name": "stdout",
     "output_type": "stream",
     "text": [
      "100%|██████████| 100/100 [12:20<00:00,  8.14s/it, best loss: 0.3508594654870746]\n",
      "CPU times: user 56.7 s, sys: 2.43 s, total: 59.1 s\n",
      "Wall time: 12min 20s\n"
     ]
    },
    {
     "data": {
      "text/plain": [
       "HyperoptCV(cv=RepeatedStratifiedKFold(n_repeats=10, n_splits=5, random_state=23),\n",
       "           estimator=Pipeline(memory=None,\n",
       "                              steps=[('scaler',\n",
       "                                      StandardScaler(copy=True, with_mean=True,\n",
       "                                                     with_std=True)),\n",
       "                                     ('dim_reducer',\n",
       "                                      KernelPCA(alpha=1.0, coef0=1, copy_X=True,\n",
       "                                                degree=3, eigen_solver='auto',\n",
       "                                                fit_inverse_transform=False,\n",
       "                                                gamma=None, kernel='rbf',\n",
       "                                                kernel_params=None,\n",
       "                                                max_iter=Non...\n",
       "                    'auc': 'roc_auc',\n",
       "                    'f1': make_scorer(opt_f1_score, needs_proba=True),\n",
       "                    'mcc': make_scorer(opt_mcc_score, needs_proba=True),\n",
       "                    'prec': make_scorer(opt_precision_score, needs_proba=True),\n",
       "                    'sens': make_scorer(opt_recall_score, needs_proba=True),\n",
       "                    'spec': make_scorer(opt_specificity_score, needs_proba=True),\n",
       "                    'thres': make_scorer(opt_threshold_score, needs_proba=True)},\n",
       "           train_score=False)"
      ]
     },
     "execution_count": 35,
     "metadata": {},
     "output_type": "execute_result"
    }
   ],
   "source": [
    "%%time\n",
    "best_trial = rf_sc_kpca_search.model_selection(X, y)"
   ]
  },
  {
   "cell_type": "code",
   "execution_count": 36,
   "metadata": {},
   "outputs": [
    {
     "data": {
      "text/plain": [
       "{'clf__max_depth': 10,\n",
       " 'clf__min_samples_leaf': 0.1,\n",
       " 'clf__min_samples_split': 0.15,\n",
       " 'clf__n_estimators': 500,\n",
       " 'dim_reducer__n_components': 150,\n",
       " 're_sample__sampling_strategy': 0.25}"
      ]
     },
     "execution_count": 36,
     "metadata": {},
     "output_type": "execute_result"
    }
   ],
   "source": [
    "best_trial['result']['params']"
   ]
  },
  {
   "cell_type": "code",
   "execution_count": 37,
   "metadata": {},
   "outputs": [
    {
     "data": {
      "text/html": [
       "<div>\n",
       "<style scoped>\n",
       "    .dataframe tbody tr th:only-of-type {\n",
       "        vertical-align: middle;\n",
       "    }\n",
       "\n",
       "    .dataframe tbody tr th {\n",
       "        vertical-align: top;\n",
       "    }\n",
       "\n",
       "    .dataframe thead th {\n",
       "        text-align: right;\n",
       "    }\n",
       "</style>\n",
       "<table border=\"1\" class=\"dataframe\">\n",
       "  <thead>\n",
       "    <tr style=\"text-align: right;\">\n",
       "      <th></th>\n",
       "      <th>ACC</th>\n",
       "      <th>AUC</th>\n",
       "      <th>F-1</th>\n",
       "      <th>MCC</th>\n",
       "      <th>Prec</th>\n",
       "      <th>Sens</th>\n",
       "      <th>Spec</th>\n",
       "      <th>Thres</th>\n",
       "    </tr>\n",
       "  </thead>\n",
       "  <tbody>\n",
       "    <tr>\n",
       "      <th>count</th>\n",
       "      <td>50.000000</td>\n",
       "      <td>50.000000</td>\n",
       "      <td>50.000000</td>\n",
       "      <td>50.000000</td>\n",
       "      <td>50.000000</td>\n",
       "      <td>50.000000</td>\n",
       "      <td>50.000000</td>\n",
       "      <td>50.000000</td>\n",
       "    </tr>\n",
       "    <tr>\n",
       "      <th>mean</th>\n",
       "      <td>0.680351</td>\n",
       "      <td>0.649141</td>\n",
       "      <td>0.262376</td>\n",
       "      <td>0.177802</td>\n",
       "      <td>0.180270</td>\n",
       "      <td>0.576544</td>\n",
       "      <td>0.691233</td>\n",
       "      <td>0.167337</td>\n",
       "    </tr>\n",
       "    <tr>\n",
       "      <th>std</th>\n",
       "      <td>0.114697</td>\n",
       "      <td>0.062462</td>\n",
       "      <td>0.046896</td>\n",
       "      <td>0.061862</td>\n",
       "      <td>0.053077</td>\n",
       "      <td>0.149235</td>\n",
       "      <td>0.138904</td>\n",
       "      <td>0.013942</td>\n",
       "    </tr>\n",
       "    <tr>\n",
       "      <th>min</th>\n",
       "      <td>0.356725</td>\n",
       "      <td>0.511841</td>\n",
       "      <td>0.170213</td>\n",
       "      <td>0.028292</td>\n",
       "      <td>0.102564</td>\n",
       "      <td>0.187500</td>\n",
       "      <td>0.303226</td>\n",
       "      <td>0.133536</td>\n",
       "    </tr>\n",
       "    <tr>\n",
       "      <th>25%</th>\n",
       "      <td>0.615497</td>\n",
       "      <td>0.617036</td>\n",
       "      <td>0.231579</td>\n",
       "      <td>0.146847</td>\n",
       "      <td>0.145138</td>\n",
       "      <td>0.477941</td>\n",
       "      <td>0.611290</td>\n",
       "      <td>0.159147</td>\n",
       "    </tr>\n",
       "    <tr>\n",
       "      <th>50%</th>\n",
       "      <td>0.690058</td>\n",
       "      <td>0.646407</td>\n",
       "      <td>0.256410</td>\n",
       "      <td>0.175421</td>\n",
       "      <td>0.175735</td>\n",
       "      <td>0.606618</td>\n",
       "      <td>0.705509</td>\n",
       "      <td>0.167739</td>\n",
       "    </tr>\n",
       "    <tr>\n",
       "      <th>75%</th>\n",
       "      <td>0.758772</td>\n",
       "      <td>0.691459</td>\n",
       "      <td>0.281690</td>\n",
       "      <td>0.206263</td>\n",
       "      <td>0.195933</td>\n",
       "      <td>0.677390</td>\n",
       "      <td>0.791935</td>\n",
       "      <td>0.175140</td>\n",
       "    </tr>\n",
       "    <tr>\n",
       "      <th>max</th>\n",
       "      <td>0.883041</td>\n",
       "      <td>0.801757</td>\n",
       "      <td>0.444444</td>\n",
       "      <td>0.382941</td>\n",
       "      <td>0.400000</td>\n",
       "      <td>0.875000</td>\n",
       "      <td>0.954839</td>\n",
       "      <td>0.196634</td>\n",
       "    </tr>\n",
       "  </tbody>\n",
       "</table>\n",
       "</div>"
      ],
      "text/plain": [
       "             ACC        AUC        F-1        MCC       Prec       Sens  \\\n",
       "count  50.000000  50.000000  50.000000  50.000000  50.000000  50.000000   \n",
       "mean    0.680351   0.649141   0.262376   0.177802   0.180270   0.576544   \n",
       "std     0.114697   0.062462   0.046896   0.061862   0.053077   0.149235   \n",
       "min     0.356725   0.511841   0.170213   0.028292   0.102564   0.187500   \n",
       "25%     0.615497   0.617036   0.231579   0.146847   0.145138   0.477941   \n",
       "50%     0.690058   0.646407   0.256410   0.175421   0.175735   0.606618   \n",
       "75%     0.758772   0.691459   0.281690   0.206263   0.195933   0.677390   \n",
       "max     0.883041   0.801757   0.444444   0.382941   0.400000   0.875000   \n",
       "\n",
       "            Spec      Thres  \n",
       "count  50.000000  50.000000  \n",
       "mean    0.691233   0.167337  \n",
       "std     0.138904   0.013942  \n",
       "min     0.303226   0.133536  \n",
       "25%     0.611290   0.159147  \n",
       "50%     0.705509   0.167739  \n",
       "75%     0.791935   0.175140  \n",
       "max     0.954839   0.196634  "
      ]
     },
     "execution_count": 37,
     "metadata": {},
     "output_type": "execute_result"
    }
   ],
   "source": [
    "scores = best_trial['result']['score']\n",
    "res = pd.DataFrame({'AUC': scores['test_auc'], \n",
    "              'ACC': scores['test_acc'], \n",
    "              'Sens': scores['test_sens'], \n",
    "              'Spec': scores['test_spec'],\n",
    "              'Prec': scores['test_prec'],\n",
    "              'F-1': scores['test_f1'],\n",
    "              'MCC': scores['test_mcc'],\n",
    "              'Thres': scores['test_thres']\n",
    "                   })\n",
    "res.describe()"
   ]
  },
  {
   "cell_type": "code",
   "execution_count": 38,
   "metadata": {},
   "outputs": [],
   "source": [
    "file_path = 'results/rus_rf_kpca_disc_pfi_lung_ml_100_iter_rep_kfold.csv'\n",
    "res.to_csv(file_path, index=False)"
   ]
  },
  {
   "cell_type": "markdown",
   "metadata": {},
   "source": [
    "##### LR"
   ]
  },
  {
   "cell_type": "markdown",
   "metadata": {},
   "source": [
    "###### ANOVA"
   ]
  },
  {
   "cell_type": "code",
   "execution_count": 29,
   "metadata": {},
   "outputs": [],
   "source": [
    "log_reg_anova_sc_search = HyperoptCV(estimator=estim_pipeline['log_reg_anova_sc_pipe'], \n",
    "                                hyper_space=dict(log_reg_feat_sel_space, **rus_space), cv=outer_cv_split, \n",
    "                                scoring=eval_metric, opt_metric=model_sel_metric, n_iter=n, \n",
    "                                random_seed=random_state, parallel=8)"
   ]
  },
  {
   "cell_type": "code",
   "execution_count": 30,
   "metadata": {
    "scrolled": true
   },
   "outputs": [
    {
     "name": "stdout",
     "output_type": "stream",
     "text": [
      "100%|██████████| 100/100 [06:27<00:00,  3.78s/it, best loss: 0.2998064762561916]\n",
      "CPU times: user 32 s, sys: 2.8 s, total: 34.8 s\n",
      "Wall time: 6min 27s\n"
     ]
    }
   ],
   "source": [
    "%%time\n",
    "best_trial = log_reg_anova_sc_search.model_selection(X, y)"
   ]
  },
  {
   "cell_type": "code",
   "execution_count": 31,
   "metadata": {},
   "outputs": [
    {
     "data": {
      "text/plain": [
       "{'clf__C': 0.0013207106162047982,\n",
       " 'clf__max_iter': 10000.0,\n",
       " 'clf__penalty': 'l2',\n",
       " 'dim_reducer__k': 350,\n",
       " 're_sample__sampling_strategy': 0.25}"
      ]
     },
     "execution_count": 31,
     "metadata": {},
     "output_type": "execute_result"
    }
   ],
   "source": [
    "best_trial['result']['params']"
   ]
  },
  {
   "cell_type": "code",
   "execution_count": 32,
   "metadata": {},
   "outputs": [
    {
     "data": {
      "text/html": [
       "<div>\n",
       "<style scoped>\n",
       "    .dataframe tbody tr th:only-of-type {\n",
       "        vertical-align: middle;\n",
       "    }\n",
       "\n",
       "    .dataframe tbody tr th {\n",
       "        vertical-align: top;\n",
       "    }\n",
       "\n",
       "    .dataframe thead th {\n",
       "        text-align: right;\n",
       "    }\n",
       "</style>\n",
       "<table border=\"1\" class=\"dataframe\">\n",
       "  <thead>\n",
       "    <tr style=\"text-align: right;\">\n",
       "      <th></th>\n",
       "      <th>ACC</th>\n",
       "      <th>AUC</th>\n",
       "      <th>F-1</th>\n",
       "      <th>MCC</th>\n",
       "      <th>Prec</th>\n",
       "      <th>Sens</th>\n",
       "      <th>Spec</th>\n",
       "      <th>Thres</th>\n",
       "    </tr>\n",
       "  </thead>\n",
       "  <tbody>\n",
       "    <tr>\n",
       "      <th>count</th>\n",
       "      <td>50.000000</td>\n",
       "      <td>50.000000</td>\n",
       "      <td>50.000000</td>\n",
       "      <td>50.000000</td>\n",
       "      <td>50.000000</td>\n",
       "      <td>50.000000</td>\n",
       "      <td>50.000000</td>\n",
       "      <td>50.000000</td>\n",
       "    </tr>\n",
       "    <tr>\n",
       "      <th>mean</th>\n",
       "      <td>0.711696</td>\n",
       "      <td>0.700194</td>\n",
       "      <td>0.300485</td>\n",
       "      <td>0.230781</td>\n",
       "      <td>0.216070</td>\n",
       "      <td>0.614191</td>\n",
       "      <td>0.721763</td>\n",
       "      <td>0.216991</td>\n",
       "    </tr>\n",
       "    <tr>\n",
       "      <th>std</th>\n",
       "      <td>0.112564</td>\n",
       "      <td>0.060311</td>\n",
       "      <td>0.062791</td>\n",
       "      <td>0.077979</td>\n",
       "      <td>0.082899</td>\n",
       "      <td>0.158498</td>\n",
       "      <td>0.136840</td>\n",
       "      <td>0.066727</td>\n",
       "    </tr>\n",
       "    <tr>\n",
       "      <th>min</th>\n",
       "      <td>0.456140</td>\n",
       "      <td>0.558065</td>\n",
       "      <td>0.196078</td>\n",
       "      <td>0.085860</td>\n",
       "      <td>0.118812</td>\n",
       "      <td>0.250000</td>\n",
       "      <td>0.422078</td>\n",
       "      <td>0.121258</td>\n",
       "    </tr>\n",
       "    <tr>\n",
       "      <th>25%</th>\n",
       "      <td>0.649123</td>\n",
       "      <td>0.663911</td>\n",
       "      <td>0.257792</td>\n",
       "      <td>0.176071</td>\n",
       "      <td>0.165293</td>\n",
       "      <td>0.500000</td>\n",
       "      <td>0.647832</td>\n",
       "      <td>0.173209</td>\n",
       "    </tr>\n",
       "    <tr>\n",
       "      <th>50%</th>\n",
       "      <td>0.713450</td>\n",
       "      <td>0.706250</td>\n",
       "      <td>0.297769</td>\n",
       "      <td>0.230388</td>\n",
       "      <td>0.193277</td>\n",
       "      <td>0.625000</td>\n",
       "      <td>0.722581</td>\n",
       "      <td>0.210211</td>\n",
       "    </tr>\n",
       "    <tr>\n",
       "      <th>75%</th>\n",
       "      <td>0.783626</td>\n",
       "      <td>0.742344</td>\n",
       "      <td>0.339631</td>\n",
       "      <td>0.279667</td>\n",
       "      <td>0.236264</td>\n",
       "      <td>0.738971</td>\n",
       "      <td>0.806452</td>\n",
       "      <td>0.239766</td>\n",
       "    </tr>\n",
       "    <tr>\n",
       "      <th>max</th>\n",
       "      <td>0.900585</td>\n",
       "      <td>0.839919</td>\n",
       "      <td>0.452830</td>\n",
       "      <td>0.416365</td>\n",
       "      <td>0.500000</td>\n",
       "      <td>0.882353</td>\n",
       "      <td>0.961290</td>\n",
       "      <td>0.444247</td>\n",
       "    </tr>\n",
       "  </tbody>\n",
       "</table>\n",
       "</div>"
      ],
      "text/plain": [
       "             ACC        AUC        F-1        MCC       Prec       Sens  \\\n",
       "count  50.000000  50.000000  50.000000  50.000000  50.000000  50.000000   \n",
       "mean    0.711696   0.700194   0.300485   0.230781   0.216070   0.614191   \n",
       "std     0.112564   0.060311   0.062791   0.077979   0.082899   0.158498   \n",
       "min     0.456140   0.558065   0.196078   0.085860   0.118812   0.250000   \n",
       "25%     0.649123   0.663911   0.257792   0.176071   0.165293   0.500000   \n",
       "50%     0.713450   0.706250   0.297769   0.230388   0.193277   0.625000   \n",
       "75%     0.783626   0.742344   0.339631   0.279667   0.236264   0.738971   \n",
       "max     0.900585   0.839919   0.452830   0.416365   0.500000   0.882353   \n",
       "\n",
       "            Spec      Thres  \n",
       "count  50.000000  50.000000  \n",
       "mean    0.721763   0.216991  \n",
       "std     0.136840   0.066727  \n",
       "min     0.422078   0.121258  \n",
       "25%     0.647832   0.173209  \n",
       "50%     0.722581   0.210211  \n",
       "75%     0.806452   0.239766  \n",
       "max     0.961290   0.444247  "
      ]
     },
     "execution_count": 32,
     "metadata": {},
     "output_type": "execute_result"
    }
   ],
   "source": [
    "scores = best_trial['result']['score']\n",
    "res = pd.DataFrame({'AUC': scores['test_auc'], \n",
    "              'ACC': scores['test_acc'], \n",
    "              'Sens': scores['test_sens'], \n",
    "              'Spec': scores['test_spec'],\n",
    "              'Prec': scores['test_prec'],\n",
    "              'F-1': scores['test_f1'],\n",
    "              'MCC': scores['test_mcc'],\n",
    "              'Thres': scores['test_thres']\n",
    "                   })\n",
    "res.describe()"
   ]
  },
  {
   "cell_type": "code",
   "execution_count": 48,
   "metadata": {},
   "outputs": [],
   "source": [
    "file_path = 'results/rus_lr_anova_disc_pfi_lung_ml_100_iter_rep_kfold.csv'\n",
    "res.to_csv(file_path, index=False)"
   ]
  },
  {
   "cell_type": "markdown",
   "metadata": {},
   "source": [
    "###### PCA"
   ]
  },
  {
   "cell_type": "code",
   "execution_count": 49,
   "metadata": {},
   "outputs": [],
   "source": [
    "log_reg_sc_pca_search = HyperoptCV(estimator=estim_pipeline['log_reg_sc_pca_pipe'], \n",
    "                                hyper_space=dict(log_reg_feat_ext_space, **rus_space), cv=outer_cv_split, \n",
    "                                scoring=eval_metric, opt_metric=model_sel_metric, n_iter=n, \n",
    "                                random_seed=random_state, parallel=8)"
   ]
  },
  {
   "cell_type": "code",
   "execution_count": 50,
   "metadata": {
    "scrolled": true
   },
   "outputs": [
    {
     "name": "stdout",
     "output_type": "stream",
     "text": [
      "100%|██████████| 100/100 [35:13<00:00, 21.04s/it, best loss: 0.30410006407254997]\n",
      "CPU times: user 1min 1s, sys: 2.3 s, total: 1min 4s\n",
      "Wall time: 35min 13s\n"
     ]
    },
    {
     "data": {
      "text/plain": [
       "HyperoptCV(cv=RepeatedStratifiedKFold(n_repeats=10, n_splits=5, random_state=23),\n",
       "           estimator=Pipeline(memory=None,\n",
       "                              steps=[('scaler',\n",
       "                                      StandardScaler(copy=True, with_mean=True,\n",
       "                                                     with_std=True)),\n",
       "                                     ('dim_reducer',\n",
       "                                      PCA(copy=True, iterated_power='auto',\n",
       "                                          n_components=350, random_state=None,\n",
       "                                          svd_solver='auto', tol=0.0,\n",
       "                                          whiten=False)),\n",
       "                                     ('re_sample',\n",
       "                                      RandomUnderSampler(random_s...\n",
       "                    'auc': 'roc_auc',\n",
       "                    'f1': make_scorer(opt_f1_score, needs_proba=True),\n",
       "                    'mcc': make_scorer(opt_mcc_score, needs_proba=True),\n",
       "                    'prec': make_scorer(opt_precision_score, needs_proba=True),\n",
       "                    'sens': make_scorer(opt_recall_score, needs_proba=True),\n",
       "                    'spec': make_scorer(opt_specificity_score, needs_proba=True),\n",
       "                    'thres': make_scorer(opt_threshold_score, needs_proba=True)},\n",
       "           train_score=False)"
      ]
     },
     "execution_count": 50,
     "metadata": {},
     "output_type": "execute_result"
    }
   ],
   "source": [
    "%%time\n",
    "best_trial = log_reg_sc_pca_search.model_selection(X, y)"
   ]
  },
  {
   "cell_type": "code",
   "execution_count": 51,
   "metadata": {},
   "outputs": [
    {
     "data": {
      "text/plain": [
       "{'clf__C': 0.0001046612729527639,\n",
       " 'clf__max_iter': 100000.0,\n",
       " 'clf__penalty': 'l2',\n",
       " 'dim_reducer__n_components': 150,\n",
       " 're_sample__sampling_strategy': 0.25}"
      ]
     },
     "execution_count": 51,
     "metadata": {},
     "output_type": "execute_result"
    }
   ],
   "source": [
    "best_trial['result']['params']"
   ]
  },
  {
   "cell_type": "code",
   "execution_count": 52,
   "metadata": {},
   "outputs": [
    {
     "data": {
      "text/html": [
       "<div>\n",
       "<style scoped>\n",
       "    .dataframe tbody tr th:only-of-type {\n",
       "        vertical-align: middle;\n",
       "    }\n",
       "\n",
       "    .dataframe tbody tr th {\n",
       "        vertical-align: top;\n",
       "    }\n",
       "\n",
       "    .dataframe thead th {\n",
       "        text-align: right;\n",
       "    }\n",
       "</style>\n",
       "<table border=\"1\" class=\"dataframe\">\n",
       "  <thead>\n",
       "    <tr style=\"text-align: right;\">\n",
       "      <th></th>\n",
       "      <th>ACC</th>\n",
       "      <th>AUC</th>\n",
       "      <th>F-1</th>\n",
       "      <th>MCC</th>\n",
       "      <th>Prec</th>\n",
       "      <th>Sens</th>\n",
       "      <th>Spec</th>\n",
       "      <th>Thres</th>\n",
       "    </tr>\n",
       "  </thead>\n",
       "  <tbody>\n",
       "    <tr>\n",
       "      <th>count</th>\n",
       "      <td>50.000000</td>\n",
       "      <td>50.000000</td>\n",
       "      <td>50.000000</td>\n",
       "      <td>50.000000</td>\n",
       "      <td>50.000000</td>\n",
       "      <td>50.000000</td>\n",
       "      <td>50.000000</td>\n",
       "      <td>50.000000</td>\n",
       "    </tr>\n",
       "    <tr>\n",
       "      <th>mean</th>\n",
       "      <td>0.698596</td>\n",
       "      <td>0.695900</td>\n",
       "      <td>0.290983</td>\n",
       "      <td>0.219282</td>\n",
       "      <td>0.199180</td>\n",
       "      <td>0.623382</td>\n",
       "      <td>0.706444</td>\n",
       "      <td>0.238072</td>\n",
       "    </tr>\n",
       "    <tr>\n",
       "      <th>std</th>\n",
       "      <td>0.116062</td>\n",
       "      <td>0.055998</td>\n",
       "      <td>0.051132</td>\n",
       "      <td>0.063231</td>\n",
       "      <td>0.053166</td>\n",
       "      <td>0.157551</td>\n",
       "      <td>0.141379</td>\n",
       "      <td>0.036238</td>\n",
       "    </tr>\n",
       "    <tr>\n",
       "      <th>min</th>\n",
       "      <td>0.280702</td>\n",
       "      <td>0.560081</td>\n",
       "      <td>0.196078</td>\n",
       "      <td>0.107077</td>\n",
       "      <td>0.109489</td>\n",
       "      <td>0.312500</td>\n",
       "      <td>0.212903</td>\n",
       "      <td>0.147955</td>\n",
       "    </tr>\n",
       "    <tr>\n",
       "      <th>25%</th>\n",
       "      <td>0.638889</td>\n",
       "      <td>0.667816</td>\n",
       "      <td>0.250718</td>\n",
       "      <td>0.178140</td>\n",
       "      <td>0.155523</td>\n",
       "      <td>0.529412</td>\n",
       "      <td>0.625597</td>\n",
       "      <td>0.212248</td>\n",
       "    </tr>\n",
       "    <tr>\n",
       "      <th>50%</th>\n",
       "      <td>0.707602</td>\n",
       "      <td>0.703429</td>\n",
       "      <td>0.291404</td>\n",
       "      <td>0.216609</td>\n",
       "      <td>0.188578</td>\n",
       "      <td>0.625000</td>\n",
       "      <td>0.722581</td>\n",
       "      <td>0.239153</td>\n",
       "    </tr>\n",
       "    <tr>\n",
       "      <th>75%</th>\n",
       "      <td>0.789474</td>\n",
       "      <td>0.730444</td>\n",
       "      <td>0.320000</td>\n",
       "      <td>0.264531</td>\n",
       "      <td>0.224026</td>\n",
       "      <td>0.738971</td>\n",
       "      <td>0.823900</td>\n",
       "      <td>0.263083</td>\n",
       "    </tr>\n",
       "    <tr>\n",
       "      <th>max</th>\n",
       "      <td>0.871345</td>\n",
       "      <td>0.814516</td>\n",
       "      <td>0.423077</td>\n",
       "      <td>0.375895</td>\n",
       "      <td>0.333333</td>\n",
       "      <td>0.937500</td>\n",
       "      <td>0.929032</td>\n",
       "      <td>0.355704</td>\n",
       "    </tr>\n",
       "  </tbody>\n",
       "</table>\n",
       "</div>"
      ],
      "text/plain": [
       "             ACC        AUC        F-1        MCC       Prec       Sens  \\\n",
       "count  50.000000  50.000000  50.000000  50.000000  50.000000  50.000000   \n",
       "mean    0.698596   0.695900   0.290983   0.219282   0.199180   0.623382   \n",
       "std     0.116062   0.055998   0.051132   0.063231   0.053166   0.157551   \n",
       "min     0.280702   0.560081   0.196078   0.107077   0.109489   0.312500   \n",
       "25%     0.638889   0.667816   0.250718   0.178140   0.155523   0.529412   \n",
       "50%     0.707602   0.703429   0.291404   0.216609   0.188578   0.625000   \n",
       "75%     0.789474   0.730444   0.320000   0.264531   0.224026   0.738971   \n",
       "max     0.871345   0.814516   0.423077   0.375895   0.333333   0.937500   \n",
       "\n",
       "            Spec      Thres  \n",
       "count  50.000000  50.000000  \n",
       "mean    0.706444   0.238072  \n",
       "std     0.141379   0.036238  \n",
       "min     0.212903   0.147955  \n",
       "25%     0.625597   0.212248  \n",
       "50%     0.722581   0.239153  \n",
       "75%     0.823900   0.263083  \n",
       "max     0.929032   0.355704  "
      ]
     },
     "execution_count": 52,
     "metadata": {},
     "output_type": "execute_result"
    }
   ],
   "source": [
    "scores = best_trial['result']['score']\n",
    "res = pd.DataFrame({'AUC': scores['test_auc'], \n",
    "              'ACC': scores['test_acc'], \n",
    "              'Sens': scores['test_sens'], \n",
    "              'Spec': scores['test_spec'],\n",
    "              'Prec': scores['test_prec'],\n",
    "              'F-1': scores['test_f1'],\n",
    "              'MCC': scores['test_mcc'],\n",
    "              'Thres': scores['test_thres']\n",
    "                   })\n",
    "res.describe()"
   ]
  },
  {
   "cell_type": "code",
   "execution_count": 53,
   "metadata": {},
   "outputs": [],
   "source": [
    "file_path = 'results/rus_lr_pca_disc_pfi_lung_ml_100_iter_rep_kfold.csv'\n",
    "res.to_csv(file_path, index=False)"
   ]
  },
  {
   "cell_type": "markdown",
   "metadata": {},
   "source": [
    "###### KPCA"
   ]
  },
  {
   "cell_type": "code",
   "execution_count": 54,
   "metadata": {},
   "outputs": [],
   "source": [
    "log_reg_sc_kpca_search = HyperoptCV(estimator=estim_pipeline['log_reg_sc_kpca_pipe'], \n",
    "                                hyper_space=dict(log_reg_feat_ext_space, **rus_space), cv=outer_cv_split, \n",
    "                                scoring=eval_metric, opt_metric=model_sel_metric, n_iter=n, \n",
    "                                random_seed=random_state, parallel=8)"
   ]
  },
  {
   "cell_type": "code",
   "execution_count": 55,
   "metadata": {
    "scrolled": true
   },
   "outputs": [
    {
     "name": "stdout",
     "output_type": "stream",
     "text": [
      "100%|██████████| 100/100 [11:01<00:00,  5.94s/it, best loss: 0.31659106311146157]\n",
      "CPU times: user 59 s, sys: 2.66 s, total: 1min 1s\n",
      "Wall time: 11min 1s\n"
     ]
    },
    {
     "data": {
      "text/plain": [
       "HyperoptCV(cv=RepeatedStratifiedKFold(n_repeats=10, n_splits=5, random_state=23),\n",
       "           estimator=Pipeline(memory=None,\n",
       "                              steps=[('scaler',\n",
       "                                      StandardScaler(copy=True, with_mean=True,\n",
       "                                                     with_std=True)),\n",
       "                                     ('dim_reducer',\n",
       "                                      KernelPCA(alpha=1.0, coef0=1, copy_X=True,\n",
       "                                                degree=3, eigen_solver='auto',\n",
       "                                                fit_inverse_transform=False,\n",
       "                                                gamma=None, kernel='rbf',\n",
       "                                                kernel_params=None,\n",
       "                                                max_iter=Non...\n",
       "                    'auc': 'roc_auc',\n",
       "                    'f1': make_scorer(opt_f1_score, needs_proba=True),\n",
       "                    'mcc': make_scorer(opt_mcc_score, needs_proba=True),\n",
       "                    'prec': make_scorer(opt_precision_score, needs_proba=True),\n",
       "                    'sens': make_scorer(opt_recall_score, needs_proba=True),\n",
       "                    'spec': make_scorer(opt_specificity_score, needs_proba=True),\n",
       "                    'thres': make_scorer(opt_threshold_score, needs_proba=True)},\n",
       "           train_score=False)"
      ]
     },
     "execution_count": 55,
     "metadata": {},
     "output_type": "execute_result"
    }
   ],
   "source": [
    "%%time\n",
    "best_trial = log_reg_sc_kpca_search.model_selection(X, y)"
   ]
  },
  {
   "cell_type": "code",
   "execution_count": 56,
   "metadata": {},
   "outputs": [
    {
     "data": {
      "text/plain": [
       "{'clf__C': 1.6622342338780551,\n",
       " 'clf__max_iter': 100000.0,\n",
       " 'clf__penalty': 'l2',\n",
       " 'dim_reducer__n_components': 250,\n",
       " 're_sample__sampling_strategy': 0.25}"
      ]
     },
     "execution_count": 56,
     "metadata": {},
     "output_type": "execute_result"
    }
   ],
   "source": [
    "best_trial['result']['params']"
   ]
  },
  {
   "cell_type": "code",
   "execution_count": 57,
   "metadata": {},
   "outputs": [
    {
     "data": {
      "text/html": [
       "<div>\n",
       "<style scoped>\n",
       "    .dataframe tbody tr th:only-of-type {\n",
       "        vertical-align: middle;\n",
       "    }\n",
       "\n",
       "    .dataframe tbody tr th {\n",
       "        vertical-align: top;\n",
       "    }\n",
       "\n",
       "    .dataframe thead th {\n",
       "        text-align: right;\n",
       "    }\n",
       "</style>\n",
       "<table border=\"1\" class=\"dataframe\">\n",
       "  <thead>\n",
       "    <tr style=\"text-align: right;\">\n",
       "      <th></th>\n",
       "      <th>ACC</th>\n",
       "      <th>AUC</th>\n",
       "      <th>F-1</th>\n",
       "      <th>MCC</th>\n",
       "      <th>Prec</th>\n",
       "      <th>Sens</th>\n",
       "      <th>Spec</th>\n",
       "      <th>Thres</th>\n",
       "    </tr>\n",
       "  </thead>\n",
       "  <tbody>\n",
       "    <tr>\n",
       "      <th>count</th>\n",
       "      <td>50.000000</td>\n",
       "      <td>50.000000</td>\n",
       "      <td>50.000000</td>\n",
       "      <td>50.000000</td>\n",
       "      <td>50.000000</td>\n",
       "      <td>50.000000</td>\n",
       "      <td>50.000000</td>\n",
       "      <td>50.000000</td>\n",
       "    </tr>\n",
       "    <tr>\n",
       "      <th>mean</th>\n",
       "      <td>0.687836</td>\n",
       "      <td>0.683409</td>\n",
       "      <td>0.283096</td>\n",
       "      <td>0.207468</td>\n",
       "      <td>0.193705</td>\n",
       "      <td>0.617279</td>\n",
       "      <td>0.695207</td>\n",
       "      <td>0.209891</td>\n",
       "    </tr>\n",
       "    <tr>\n",
       "      <th>std</th>\n",
       "      <td>0.111740</td>\n",
       "      <td>0.062393</td>\n",
       "      <td>0.058542</td>\n",
       "      <td>0.074935</td>\n",
       "      <td>0.061827</td>\n",
       "      <td>0.153248</td>\n",
       "      <td>0.135100</td>\n",
       "      <td>0.025148</td>\n",
       "    </tr>\n",
       "    <tr>\n",
       "      <th>min</th>\n",
       "      <td>0.444444</td>\n",
       "      <td>0.520161</td>\n",
       "      <td>0.174757</td>\n",
       "      <td>0.034530</td>\n",
       "      <td>0.103448</td>\n",
       "      <td>0.312500</td>\n",
       "      <td>0.396104</td>\n",
       "      <td>0.169291</td>\n",
       "    </tr>\n",
       "    <tr>\n",
       "      <th>25%</th>\n",
       "      <td>0.596491</td>\n",
       "      <td>0.653327</td>\n",
       "      <td>0.245077</td>\n",
       "      <td>0.170765</td>\n",
       "      <td>0.153846</td>\n",
       "      <td>0.507353</td>\n",
       "      <td>0.578603</td>\n",
       "      <td>0.188077</td>\n",
       "    </tr>\n",
       "    <tr>\n",
       "      <th>50%</th>\n",
       "      <td>0.687135</td>\n",
       "      <td>0.685256</td>\n",
       "      <td>0.271010</td>\n",
       "      <td>0.196833</td>\n",
       "      <td>0.176327</td>\n",
       "      <td>0.588235</td>\n",
       "      <td>0.695790</td>\n",
       "      <td>0.205961</td>\n",
       "    </tr>\n",
       "    <tr>\n",
       "      <th>75%</th>\n",
       "      <td>0.788012</td>\n",
       "      <td>0.727781</td>\n",
       "      <td>0.321071</td>\n",
       "      <td>0.257018</td>\n",
       "      <td>0.238068</td>\n",
       "      <td>0.750000</td>\n",
       "      <td>0.816129</td>\n",
       "      <td>0.225822</td>\n",
       "    </tr>\n",
       "    <tr>\n",
       "      <th>max</th>\n",
       "      <td>0.883041</td>\n",
       "      <td>0.820161</td>\n",
       "      <td>0.473684</td>\n",
       "      <td>0.416313</td>\n",
       "      <td>0.409091</td>\n",
       "      <td>0.882353</td>\n",
       "      <td>0.941935</td>\n",
       "      <td>0.257685</td>\n",
       "    </tr>\n",
       "  </tbody>\n",
       "</table>\n",
       "</div>"
      ],
      "text/plain": [
       "             ACC        AUC        F-1        MCC       Prec       Sens  \\\n",
       "count  50.000000  50.000000  50.000000  50.000000  50.000000  50.000000   \n",
       "mean    0.687836   0.683409   0.283096   0.207468   0.193705   0.617279   \n",
       "std     0.111740   0.062393   0.058542   0.074935   0.061827   0.153248   \n",
       "min     0.444444   0.520161   0.174757   0.034530   0.103448   0.312500   \n",
       "25%     0.596491   0.653327   0.245077   0.170765   0.153846   0.507353   \n",
       "50%     0.687135   0.685256   0.271010   0.196833   0.176327   0.588235   \n",
       "75%     0.788012   0.727781   0.321071   0.257018   0.238068   0.750000   \n",
       "max     0.883041   0.820161   0.473684   0.416313   0.409091   0.882353   \n",
       "\n",
       "            Spec      Thres  \n",
       "count  50.000000  50.000000  \n",
       "mean    0.695207   0.209891  \n",
       "std     0.135100   0.025148  \n",
       "min     0.396104   0.169291  \n",
       "25%     0.578603   0.188077  \n",
       "50%     0.695790   0.205961  \n",
       "75%     0.816129   0.225822  \n",
       "max     0.941935   0.257685  "
      ]
     },
     "execution_count": 57,
     "metadata": {},
     "output_type": "execute_result"
    }
   ],
   "source": [
    "scores = best_trial['result']['score']\n",
    "res = pd.DataFrame({'AUC': scores['test_auc'], \n",
    "              'ACC': scores['test_acc'], \n",
    "              'Sens': scores['test_sens'], \n",
    "              'Spec': scores['test_spec'],\n",
    "              'Prec': scores['test_prec'],\n",
    "              'F-1': scores['test_f1'],\n",
    "              'MCC': scores['test_mcc'],\n",
    "              'Thres': scores['test_thres']\n",
    "                   })\n",
    "res.describe()"
   ]
  },
  {
   "cell_type": "code",
   "execution_count": 58,
   "metadata": {},
   "outputs": [],
   "source": [
    "file_path = 'results/rus_lr_kpca_disc_pfi_lung_ml_100_iter_rep_kfold.csv'\n",
    "res.to_csv(file_path, index=False)"
   ]
  },
  {
   "cell_type": "markdown",
   "metadata": {},
   "source": [
    "##### SVM"
   ]
  },
  {
   "cell_type": "markdown",
   "metadata": {},
   "source": [
    "###### ANOVA"
   ]
  },
  {
   "cell_type": "code",
   "execution_count": 35,
   "metadata": {},
   "outputs": [],
   "source": [
    "svm_anova_sc_search = HyperoptCV(estimator=estim_pipeline['svm_anova_sc_pipe'], \n",
    "                                hyper_space=dict(svm_feat_sel_space, **rus_space), cv=outer_cv_split, \n",
    "                                scoring=eval_metric, opt_metric=model_sel_metric, n_iter=n, \n",
    "                                random_seed=random_state, parallel=1)"
   ]
  },
  {
   "cell_type": "code",
   "execution_count": 36,
   "metadata": {
    "scrolled": true
   },
   "outputs": [
    {
     "name": "stdout",
     "output_type": "stream",
     "text": [
      "100%|██████████| 100/100 [12:51<00:00,  7.07s/it, best loss: 0.29726027625126306]\n",
      "CPU times: user 1h 15min 21s, sys: 1min 2s, total: 1h 16min 23s\n",
      "Wall time: 12min 51s\n"
     ]
    },
    {
     "data": {
      "text/plain": [
       "HyperoptCV(cv=RepeatedStratifiedKFold(n_repeats=10, n_splits=5, random_state=23),\n",
       "           estimator=Pipeline(memory=None,\n",
       "                              steps=[('dim_reducer',\n",
       "                                      SelectKBest(k=350,\n",
       "                                                  score_func=<function f_classif at 0x7f440998f400>)),\n",
       "                                     ('scaler',\n",
       "                                      StandardScaler(copy=True, with_mean=True,\n",
       "                                                     with_std=True)),\n",
       "                                     ('re_sample',\n",
       "                                      RandomUnderSampler(random_state=69,\n",
       "                                                         replacement=False,\n",
       "                                                         sampling_strategy=1...\n",
       "                    'auc': 'roc_auc',\n",
       "                    'f1': make_scorer(opt_f1_score, needs_proba=True),\n",
       "                    'mcc': make_scorer(opt_mcc_score, needs_proba=True),\n",
       "                    'prec': make_scorer(opt_precision_score, needs_proba=True),\n",
       "                    'sens': make_scorer(opt_recall_score, needs_proba=True),\n",
       "                    'spec': make_scorer(opt_specificity_score, needs_proba=True),\n",
       "                    'thres': make_scorer(opt_threshold_score, needs_proba=True)},\n",
       "           train_score=False)"
      ]
     },
     "execution_count": 36,
     "metadata": {},
     "output_type": "execute_result"
    }
   ],
   "source": [
    "%%time\n",
    "best_trial = svm_anova_sc_search.model_selection(X, y)"
   ]
  },
  {
   "cell_type": "code",
   "execution_count": 37,
   "metadata": {},
   "outputs": [
    {
     "data": {
      "text/plain": [
       "{'clf__C': 0.0025543413087670383,\n",
       " 'clf__gamma': 0.0002681678316978474,\n",
       " 'clf__max_iter': 100000.0,\n",
       " 'dim_reducer__k': 250,\n",
       " 're_sample__sampling_strategy': 0.3333333333333333}"
      ]
     },
     "execution_count": 37,
     "metadata": {},
     "output_type": "execute_result"
    }
   ],
   "source": [
    "best_trial['result']['params']"
   ]
  },
  {
   "cell_type": "code",
   "execution_count": 38,
   "metadata": {},
   "outputs": [
    {
     "data": {
      "text/html": [
       "<div>\n",
       "<style scoped>\n",
       "    .dataframe tbody tr th:only-of-type {\n",
       "        vertical-align: middle;\n",
       "    }\n",
       "\n",
       "    .dataframe tbody tr th {\n",
       "        vertical-align: top;\n",
       "    }\n",
       "\n",
       "    .dataframe thead th {\n",
       "        text-align: right;\n",
       "    }\n",
       "</style>\n",
       "<table border=\"1\" class=\"dataframe\">\n",
       "  <thead>\n",
       "    <tr style=\"text-align: right;\">\n",
       "      <th></th>\n",
       "      <th>ACC</th>\n",
       "      <th>AUC</th>\n",
       "      <th>F-1</th>\n",
       "      <th>MCC</th>\n",
       "      <th>Prec</th>\n",
       "      <th>Sens</th>\n",
       "      <th>Spec</th>\n",
       "      <th>Thres</th>\n",
       "    </tr>\n",
       "  </thead>\n",
       "  <tbody>\n",
       "    <tr>\n",
       "      <th>count</th>\n",
       "      <td>50.000000</td>\n",
       "      <td>50.000000</td>\n",
       "      <td>50.000000</td>\n",
       "      <td>50.000000</td>\n",
       "      <td>50.000000</td>\n",
       "      <td>50.000000</td>\n",
       "      <td>50.000000</td>\n",
       "      <td>50.000000</td>\n",
       "    </tr>\n",
       "    <tr>\n",
       "      <th>mean</th>\n",
       "      <td>0.694737</td>\n",
       "      <td>0.702740</td>\n",
       "      <td>0.299555</td>\n",
       "      <td>0.235347</td>\n",
       "      <td>0.219123</td>\n",
       "      <td>0.641912</td>\n",
       "      <td>0.700246</td>\n",
       "      <td>0.305218</td>\n",
       "    </tr>\n",
       "    <tr>\n",
       "      <th>std</th>\n",
       "      <td>0.127505</td>\n",
       "      <td>0.061456</td>\n",
       "      <td>0.064747</td>\n",
       "      <td>0.075949</td>\n",
       "      <td>0.098112</td>\n",
       "      <td>0.178659</td>\n",
       "      <td>0.156429</td>\n",
       "      <td>0.135905</td>\n",
       "    </tr>\n",
       "    <tr>\n",
       "      <th>min</th>\n",
       "      <td>0.327485</td>\n",
       "      <td>0.567339</td>\n",
       "      <td>0.206897</td>\n",
       "      <td>0.107077</td>\n",
       "      <td>0.116279</td>\n",
       "      <td>0.235294</td>\n",
       "      <td>0.264516</td>\n",
       "      <td>0.108230</td>\n",
       "    </tr>\n",
       "    <tr>\n",
       "      <th>25%</th>\n",
       "      <td>0.608187</td>\n",
       "      <td>0.670665</td>\n",
       "      <td>0.255319</td>\n",
       "      <td>0.189558</td>\n",
       "      <td>0.157728</td>\n",
       "      <td>0.529412</td>\n",
       "      <td>0.590909</td>\n",
       "      <td>0.230638</td>\n",
       "    </tr>\n",
       "    <tr>\n",
       "      <th>50%</th>\n",
       "      <td>0.690058</td>\n",
       "      <td>0.702379</td>\n",
       "      <td>0.282642</td>\n",
       "      <td>0.221728</td>\n",
       "      <td>0.179505</td>\n",
       "      <td>0.687500</td>\n",
       "      <td>0.693548</td>\n",
       "      <td>0.254266</td>\n",
       "    </tr>\n",
       "    <tr>\n",
       "      <th>75%</th>\n",
       "      <td>0.788012</td>\n",
       "      <td>0.744456</td>\n",
       "      <td>0.327152</td>\n",
       "      <td>0.283981</td>\n",
       "      <td>0.239531</td>\n",
       "      <td>0.761029</td>\n",
       "      <td>0.814516</td>\n",
       "      <td>0.335761</td>\n",
       "    </tr>\n",
       "    <tr>\n",
       "      <th>max</th>\n",
       "      <td>0.918129</td>\n",
       "      <td>0.857258</td>\n",
       "      <td>0.478261</td>\n",
       "      <td>0.433390</td>\n",
       "      <td>0.600000</td>\n",
       "      <td>0.937500</td>\n",
       "      <td>0.974194</td>\n",
       "      <td>0.736252</td>\n",
       "    </tr>\n",
       "  </tbody>\n",
       "</table>\n",
       "</div>"
      ],
      "text/plain": [
       "             ACC        AUC        F-1        MCC       Prec       Sens  \\\n",
       "count  50.000000  50.000000  50.000000  50.000000  50.000000  50.000000   \n",
       "mean    0.694737   0.702740   0.299555   0.235347   0.219123   0.641912   \n",
       "std     0.127505   0.061456   0.064747   0.075949   0.098112   0.178659   \n",
       "min     0.327485   0.567339   0.206897   0.107077   0.116279   0.235294   \n",
       "25%     0.608187   0.670665   0.255319   0.189558   0.157728   0.529412   \n",
       "50%     0.690058   0.702379   0.282642   0.221728   0.179505   0.687500   \n",
       "75%     0.788012   0.744456   0.327152   0.283981   0.239531   0.761029   \n",
       "max     0.918129   0.857258   0.478261   0.433390   0.600000   0.937500   \n",
       "\n",
       "            Spec      Thres  \n",
       "count  50.000000  50.000000  \n",
       "mean    0.700246   0.305218  \n",
       "std     0.156429   0.135905  \n",
       "min     0.264516   0.108230  \n",
       "25%     0.590909   0.230638  \n",
       "50%     0.693548   0.254266  \n",
       "75%     0.814516   0.335761  \n",
       "max     0.974194   0.736252  "
      ]
     },
     "execution_count": 38,
     "metadata": {},
     "output_type": "execute_result"
    }
   ],
   "source": [
    "scores = best_trial['result']['score']\n",
    "res = pd.DataFrame({'AUC': scores['test_auc'], \n",
    "              'ACC': scores['test_acc'], \n",
    "              'Sens': scores['test_sens'], \n",
    "              'Spec': scores['test_spec'],\n",
    "              'Prec': scores['test_prec'],\n",
    "              'F-1': scores['test_f1'],\n",
    "              'MCC': scores['test_mcc'],\n",
    "              'Thres': scores['test_thres']\n",
    "                   })\n",
    "res.describe()"
   ]
  },
  {
   "cell_type": "code",
   "execution_count": 39,
   "metadata": {},
   "outputs": [],
   "source": [
    "file_path = 'results/rus_svm_anova_disc_pfi_lung_ml_100_iter_rep_kfold.csv'\n",
    "res.to_csv(file_path, index=False)"
   ]
  },
  {
   "cell_type": "markdown",
   "metadata": {},
   "source": [
    "###### PCA"
   ]
  },
  {
   "cell_type": "code",
   "execution_count": 22,
   "metadata": {},
   "outputs": [],
   "source": [
    "svm_sc_pca_search = HyperoptCV(estimator=estim_pipeline['svm_sc_pca_pipe'], \n",
    "                                hyper_space=dict(svm_feat_ext_space, **rus_space), cv=outer_cv_split, \n",
    "                                scoring=eval_metric, opt_metric=model_sel_metric, n_iter=n, \n",
    "                                random_seed=random_state, parallel=8)"
   ]
  },
  {
   "cell_type": "code",
   "execution_count": 23,
   "metadata": {
    "scrolled": true
   },
   "outputs": [
    {
     "name": "stdout",
     "output_type": "stream",
     "text": [
      "100%|██████████| 100/100 [25:52<00:00, 17.88s/it, best loss: 0.31929430247172175]\n",
      "CPU times: user 1min 6s, sys: 2.81 s, total: 1min 9s\n",
      "Wall time: 25min 52s\n"
     ]
    },
    {
     "data": {
      "text/plain": [
       "HyperoptCV(cv=RepeatedStratifiedKFold(n_repeats=10, n_splits=5, random_state=23),\n",
       "           estimator=Pipeline(memory=None,\n",
       "                              steps=[('scaler',\n",
       "                                      StandardScaler(copy=True, with_mean=True,\n",
       "                                                     with_std=True)),\n",
       "                                     ('dim_reducer',\n",
       "                                      PCA(copy=True, iterated_power='auto',\n",
       "                                          n_components=250, random_state=None,\n",
       "                                          svd_solver='auto', tol=0.0,\n",
       "                                          whiten=False)),\n",
       "                                     ('re_sample',\n",
       "                                      RandomUnderSampler(random_s...\n",
       "                    'auc': 'roc_auc',\n",
       "                    'f1': make_scorer(opt_f1_score, needs_proba=True),\n",
       "                    'mcc': make_scorer(opt_mcc_score, needs_proba=True),\n",
       "                    'prec': make_scorer(opt_precision_score, needs_proba=True),\n",
       "                    'sens': make_scorer(opt_recall_score, needs_proba=True),\n",
       "                    'spec': make_scorer(opt_specificity_score, needs_proba=True),\n",
       "                    'thres': make_scorer(opt_threshold_score, needs_proba=True)},\n",
       "           train_score=False)"
      ]
     },
     "execution_count": 23,
     "metadata": {},
     "output_type": "execute_result"
    }
   ],
   "source": [
    "%%time\n",
    "best_trial = svm_sc_pca_search.model_selection(X, y)"
   ]
  },
  {
   "cell_type": "code",
   "execution_count": 24,
   "metadata": {},
   "outputs": [
    {
     "data": {
      "text/plain": [
       "{'clf__C': 1.3249043228863913,\n",
       " 'clf__gamma': 0.00010200925988061845,\n",
       " 'clf__max_iter': 10000.0,\n",
       " 'dim_reducer__n_components': 250,\n",
       " 're_sample__sampling_strategy': 0.5}"
      ]
     },
     "execution_count": 24,
     "metadata": {},
     "output_type": "execute_result"
    }
   ],
   "source": [
    "best_trial['result']['params']"
   ]
  },
  {
   "cell_type": "code",
   "execution_count": 25,
   "metadata": {},
   "outputs": [
    {
     "data": {
      "text/html": [
       "<div>\n",
       "<style scoped>\n",
       "    .dataframe tbody tr th:only-of-type {\n",
       "        vertical-align: middle;\n",
       "    }\n",
       "\n",
       "    .dataframe tbody tr th {\n",
       "        vertical-align: top;\n",
       "    }\n",
       "\n",
       "    .dataframe thead th {\n",
       "        text-align: right;\n",
       "    }\n",
       "</style>\n",
       "<table border=\"1\" class=\"dataframe\">\n",
       "  <thead>\n",
       "    <tr style=\"text-align: right;\">\n",
       "      <th></th>\n",
       "      <th>ACC</th>\n",
       "      <th>AUC</th>\n",
       "      <th>F-1</th>\n",
       "      <th>MCC</th>\n",
       "      <th>Prec</th>\n",
       "      <th>Sens</th>\n",
       "      <th>Spec</th>\n",
       "      <th>Thres</th>\n",
       "    </tr>\n",
       "  </thead>\n",
       "  <tbody>\n",
       "    <tr>\n",
       "      <th>count</th>\n",
       "      <td>50.000000</td>\n",
       "      <td>50.000000</td>\n",
       "      <td>50.000000</td>\n",
       "      <td>50.000000</td>\n",
       "      <td>50.000000</td>\n",
       "      <td>50.000000</td>\n",
       "      <td>50.000000</td>\n",
       "      <td>50.000000</td>\n",
       "    </tr>\n",
       "    <tr>\n",
       "      <th>mean</th>\n",
       "      <td>0.703860</td>\n",
       "      <td>0.680706</td>\n",
       "      <td>0.283962</td>\n",
       "      <td>0.211193</td>\n",
       "      <td>0.209679</td>\n",
       "      <td>0.589118</td>\n",
       "      <td>0.715911</td>\n",
       "      <td>0.362495</td>\n",
       "    </tr>\n",
       "    <tr>\n",
       "      <th>std</th>\n",
       "      <td>0.127438</td>\n",
       "      <td>0.062484</td>\n",
       "      <td>0.053664</td>\n",
       "      <td>0.067200</td>\n",
       "      <td>0.085832</td>\n",
       "      <td>0.177201</td>\n",
       "      <td>0.156205</td>\n",
       "      <td>0.096856</td>\n",
       "    </tr>\n",
       "    <tr>\n",
       "      <th>min</th>\n",
       "      <td>0.245614</td>\n",
       "      <td>0.507258</td>\n",
       "      <td>0.178344</td>\n",
       "      <td>0.042607</td>\n",
       "      <td>0.099291</td>\n",
       "      <td>0.176471</td>\n",
       "      <td>0.180645</td>\n",
       "      <td>0.131149</td>\n",
       "    </tr>\n",
       "    <tr>\n",
       "      <th>25%</th>\n",
       "      <td>0.621345</td>\n",
       "      <td>0.640320</td>\n",
       "      <td>0.252632</td>\n",
       "      <td>0.170278</td>\n",
       "      <td>0.160714</td>\n",
       "      <td>0.500000</td>\n",
       "      <td>0.627419</td>\n",
       "      <td>0.295567</td>\n",
       "    </tr>\n",
       "    <tr>\n",
       "      <th>50%</th>\n",
       "      <td>0.716374</td>\n",
       "      <td>0.683266</td>\n",
       "      <td>0.278674</td>\n",
       "      <td>0.202816</td>\n",
       "      <td>0.186773</td>\n",
       "      <td>0.575368</td>\n",
       "      <td>0.719355</td>\n",
       "      <td>0.354678</td>\n",
       "    </tr>\n",
       "    <tr>\n",
       "      <th>75%</th>\n",
       "      <td>0.788012</td>\n",
       "      <td>0.730042</td>\n",
       "      <td>0.310140</td>\n",
       "      <td>0.249751</td>\n",
       "      <td>0.226010</td>\n",
       "      <td>0.750000</td>\n",
       "      <td>0.817742</td>\n",
       "      <td>0.400000</td>\n",
       "    </tr>\n",
       "    <tr>\n",
       "      <th>max</th>\n",
       "      <td>0.906433</td>\n",
       "      <td>0.797984</td>\n",
       "      <td>0.512821</td>\n",
       "      <td>0.461883</td>\n",
       "      <td>0.600000</td>\n",
       "      <td>0.937500</td>\n",
       "      <td>0.987013</td>\n",
       "      <td>0.629479</td>\n",
       "    </tr>\n",
       "  </tbody>\n",
       "</table>\n",
       "</div>"
      ],
      "text/plain": [
       "             ACC        AUC        F-1        MCC       Prec       Sens  \\\n",
       "count  50.000000  50.000000  50.000000  50.000000  50.000000  50.000000   \n",
       "mean    0.703860   0.680706   0.283962   0.211193   0.209679   0.589118   \n",
       "std     0.127438   0.062484   0.053664   0.067200   0.085832   0.177201   \n",
       "min     0.245614   0.507258   0.178344   0.042607   0.099291   0.176471   \n",
       "25%     0.621345   0.640320   0.252632   0.170278   0.160714   0.500000   \n",
       "50%     0.716374   0.683266   0.278674   0.202816   0.186773   0.575368   \n",
       "75%     0.788012   0.730042   0.310140   0.249751   0.226010   0.750000   \n",
       "max     0.906433   0.797984   0.512821   0.461883   0.600000   0.937500   \n",
       "\n",
       "            Spec      Thres  \n",
       "count  50.000000  50.000000  \n",
       "mean    0.715911   0.362495  \n",
       "std     0.156205   0.096856  \n",
       "min     0.180645   0.131149  \n",
       "25%     0.627419   0.295567  \n",
       "50%     0.719355   0.354678  \n",
       "75%     0.817742   0.400000  \n",
       "max     0.987013   0.629479  "
      ]
     },
     "execution_count": 25,
     "metadata": {},
     "output_type": "execute_result"
    }
   ],
   "source": [
    "scores = best_trial['result']['score']\n",
    "res = pd.DataFrame({'AUC': scores['test_auc'], \n",
    "              'ACC': scores['test_acc'], \n",
    "              'Sens': scores['test_sens'], \n",
    "              'Spec': scores['test_spec'],\n",
    "              'Prec': scores['test_prec'],\n",
    "              'F-1': scores['test_f1'],\n",
    "              'MCC': scores['test_mcc'],\n",
    "              'Thres': scores['test_thres']\n",
    "                   })\n",
    "res.describe()"
   ]
  },
  {
   "cell_type": "code",
   "execution_count": 26,
   "metadata": {},
   "outputs": [],
   "source": [
    "file_path = 'results/rus_svm_pca_disc_pfi_lung_ml_100_iter_rep_kfold.csv'\n",
    "res.to_csv(file_path, index=False)"
   ]
  },
  {
   "cell_type": "markdown",
   "metadata": {},
   "source": [
    "###### KPCA"
   ]
  },
  {
   "cell_type": "code",
   "execution_count": 22,
   "metadata": {},
   "outputs": [],
   "source": [
    "svm_sc_kpca_search = HyperoptCV(estimator=estim_pipeline['svm_sc_kpca_pipe'], \n",
    "                                hyper_space=dict(svm_feat_ext_space, **rus_space), cv=outer_cv_split, \n",
    "                                scoring=eval_metric, opt_metric=model_sel_metric, n_iter=n, \n",
    "                                random_seed=random_state, parallel=8)"
   ]
  },
  {
   "cell_type": "code",
   "execution_count": 23,
   "metadata": {
    "scrolled": true
   },
   "outputs": [
    {
     "name": "stdout",
     "output_type": "stream",
     "text": [
      "100%|██████████| 100/100 [10:35<00:00,  6.08s/it, best loss: 0.31152989846965184]\n",
      "CPU times: user 58.5 s, sys: 2.8 s, total: 1min 1s\n",
      "Wall time: 10min 35s\n"
     ]
    },
    {
     "data": {
      "text/plain": [
       "HyperoptCV(cv=RepeatedStratifiedKFold(n_repeats=10, n_splits=5, random_state=23),\n",
       "           estimator=Pipeline(memory=None,\n",
       "                              steps=[('scaler',\n",
       "                                      StandardScaler(copy=True, with_mean=True,\n",
       "                                                     with_std=True)),\n",
       "                                     ('dim_reducer',\n",
       "                                      KernelPCA(alpha=1.0, coef0=1, copy_X=True,\n",
       "                                                degree=3, eigen_solver='auto',\n",
       "                                                fit_inverse_transform=False,\n",
       "                                                gamma=None, kernel='rbf',\n",
       "                                                kernel_params=None,\n",
       "                                                max_iter=Non...\n",
       "                    'auc': 'roc_auc',\n",
       "                    'f1': make_scorer(opt_f1_score, needs_proba=True),\n",
       "                    'mcc': make_scorer(opt_mcc_score, needs_proba=True),\n",
       "                    'prec': make_scorer(opt_precision_score, needs_proba=True),\n",
       "                    'sens': make_scorer(opt_recall_score, needs_proba=True),\n",
       "                    'spec': make_scorer(opt_specificity_score, needs_proba=True),\n",
       "                    'thres': make_scorer(opt_threshold_score, needs_proba=True)},\n",
       "           train_score=False)"
      ]
     },
     "execution_count": 23,
     "metadata": {},
     "output_type": "execute_result"
    }
   ],
   "source": [
    "%%time\n",
    "best_trial = svm_sc_kpca_search.model_selection(X, y)"
   ]
  },
  {
   "cell_type": "code",
   "execution_count": 24,
   "metadata": {},
   "outputs": [
    {
     "data": {
      "text/plain": [
       "{'clf__C': 0.009057060972495206,\n",
       " 'clf__gamma': 0.62408134956178,\n",
       " 'clf__max_iter': 10000.0,\n",
       " 'dim_reducer__n_components': 250,\n",
       " 're_sample__sampling_strategy': 0.3333333333333333}"
      ]
     },
     "execution_count": 24,
     "metadata": {},
     "output_type": "execute_result"
    }
   ],
   "source": [
    "best_trial['result']['params']"
   ]
  },
  {
   "cell_type": "code",
   "execution_count": 25,
   "metadata": {},
   "outputs": [
    {
     "data": {
      "text/html": [
       "<div>\n",
       "<style scoped>\n",
       "    .dataframe tbody tr th:only-of-type {\n",
       "        vertical-align: middle;\n",
       "    }\n",
       "\n",
       "    .dataframe tbody tr th {\n",
       "        vertical-align: top;\n",
       "    }\n",
       "\n",
       "    .dataframe thead th {\n",
       "        text-align: right;\n",
       "    }\n",
       "</style>\n",
       "<table border=\"1\" class=\"dataframe\">\n",
       "  <thead>\n",
       "    <tr style=\"text-align: right;\">\n",
       "      <th></th>\n",
       "      <th>ACC</th>\n",
       "      <th>AUC</th>\n",
       "      <th>F-1</th>\n",
       "      <th>MCC</th>\n",
       "      <th>Prec</th>\n",
       "      <th>Sens</th>\n",
       "      <th>Spec</th>\n",
       "      <th>Thres</th>\n",
       "    </tr>\n",
       "  </thead>\n",
       "  <tbody>\n",
       "    <tr>\n",
       "      <th>count</th>\n",
       "      <td>50.000000</td>\n",
       "      <td>50.000000</td>\n",
       "      <td>50.000000</td>\n",
       "      <td>50.000000</td>\n",
       "      <td>50.000000</td>\n",
       "      <td>50.000000</td>\n",
       "      <td>50.000000</td>\n",
       "      <td>50.000000</td>\n",
       "    </tr>\n",
       "    <tr>\n",
       "      <th>mean</th>\n",
       "      <td>0.711696</td>\n",
       "      <td>0.688470</td>\n",
       "      <td>0.288697</td>\n",
       "      <td>0.217802</td>\n",
       "      <td>0.205059</td>\n",
       "      <td>0.598088</td>\n",
       "      <td>0.723681</td>\n",
       "      <td>0.249849</td>\n",
       "    </tr>\n",
       "    <tr>\n",
       "      <th>std</th>\n",
       "      <td>0.110536</td>\n",
       "      <td>0.067041</td>\n",
       "      <td>0.064055</td>\n",
       "      <td>0.074227</td>\n",
       "      <td>0.063099</td>\n",
       "      <td>0.180308</td>\n",
       "      <td>0.136772</td>\n",
       "      <td>0.055994</td>\n",
       "    </tr>\n",
       "    <tr>\n",
       "      <th>min</th>\n",
       "      <td>0.467836</td>\n",
       "      <td>0.501210</td>\n",
       "      <td>0.090909</td>\n",
       "      <td>0.047865</td>\n",
       "      <td>0.121212</td>\n",
       "      <td>0.062500</td>\n",
       "      <td>0.438710</td>\n",
       "      <td>0.165042</td>\n",
       "    </tr>\n",
       "    <tr>\n",
       "      <th>25%</th>\n",
       "      <td>0.644737</td>\n",
       "      <td>0.637601</td>\n",
       "      <td>0.256824</td>\n",
       "      <td>0.183072</td>\n",
       "      <td>0.168931</td>\n",
       "      <td>0.477941</td>\n",
       "      <td>0.634740</td>\n",
       "      <td>0.218272</td>\n",
       "    </tr>\n",
       "    <tr>\n",
       "      <th>50%</th>\n",
       "      <td>0.704678</td>\n",
       "      <td>0.691129</td>\n",
       "      <td>0.287187</td>\n",
       "      <td>0.220125</td>\n",
       "      <td>0.188090</td>\n",
       "      <td>0.625000</td>\n",
       "      <td>0.709677</td>\n",
       "      <td>0.240577</td>\n",
       "    </tr>\n",
       "    <tr>\n",
       "      <th>75%</th>\n",
       "      <td>0.812865</td>\n",
       "      <td>0.731754</td>\n",
       "      <td>0.314620</td>\n",
       "      <td>0.255015</td>\n",
       "      <td>0.225333</td>\n",
       "      <td>0.687500</td>\n",
       "      <td>0.850000</td>\n",
       "      <td>0.270247</td>\n",
       "    </tr>\n",
       "    <tr>\n",
       "      <th>max</th>\n",
       "      <td>0.883041</td>\n",
       "      <td>0.838710</td>\n",
       "      <td>0.523810</td>\n",
       "      <td>0.479116</td>\n",
       "      <td>0.423077</td>\n",
       "      <td>0.875000</td>\n",
       "      <td>0.967742</td>\n",
       "      <td>0.520237</td>\n",
       "    </tr>\n",
       "  </tbody>\n",
       "</table>\n",
       "</div>"
      ],
      "text/plain": [
       "             ACC        AUC        F-1        MCC       Prec       Sens  \\\n",
       "count  50.000000  50.000000  50.000000  50.000000  50.000000  50.000000   \n",
       "mean    0.711696   0.688470   0.288697   0.217802   0.205059   0.598088   \n",
       "std     0.110536   0.067041   0.064055   0.074227   0.063099   0.180308   \n",
       "min     0.467836   0.501210   0.090909   0.047865   0.121212   0.062500   \n",
       "25%     0.644737   0.637601   0.256824   0.183072   0.168931   0.477941   \n",
       "50%     0.704678   0.691129   0.287187   0.220125   0.188090   0.625000   \n",
       "75%     0.812865   0.731754   0.314620   0.255015   0.225333   0.687500   \n",
       "max     0.883041   0.838710   0.523810   0.479116   0.423077   0.875000   \n",
       "\n",
       "            Spec      Thres  \n",
       "count  50.000000  50.000000  \n",
       "mean    0.723681   0.249849  \n",
       "std     0.136772   0.055994  \n",
       "min     0.438710   0.165042  \n",
       "25%     0.634740   0.218272  \n",
       "50%     0.709677   0.240577  \n",
       "75%     0.850000   0.270247  \n",
       "max     0.967742   0.520237  "
      ]
     },
     "execution_count": 25,
     "metadata": {},
     "output_type": "execute_result"
    }
   ],
   "source": [
    "scores = best_trial['result']['score']\n",
    "res = pd.DataFrame({'AUC': scores['test_auc'], \n",
    "              'ACC': scores['test_acc'], \n",
    "              'Sens': scores['test_sens'], \n",
    "              'Spec': scores['test_spec'],\n",
    "              'Prec': scores['test_prec'],\n",
    "              'F-1': scores['test_f1'],\n",
    "              'MCC': scores['test_mcc'],\n",
    "              'Thres': scores['test_thres']\n",
    "                   })\n",
    "res.describe()"
   ]
  },
  {
   "cell_type": "code",
   "execution_count": 26,
   "metadata": {},
   "outputs": [],
   "source": [
    "file_path = 'results/rus_svm_kpca_disc_pfi_lung_ml_100_iter_rep_kfold.csv'\n",
    "res.to_csv(file_path, index=False)"
   ]
  },
  {
   "cell_type": "markdown",
   "metadata": {},
   "source": [
    "##### ANN"
   ]
  },
  {
   "cell_type": "markdown",
   "metadata": {},
   "source": [
    "###### ANOVA"
   ]
  },
  {
   "cell_type": "code",
   "execution_count": 27,
   "metadata": {},
   "outputs": [],
   "source": [
    "ann_anova_sc_search = HyperoptCV(estimator=estim_pipeline['ann_anova_sc_pipe'], \n",
    "                                hyper_space=dict(ann_feat_sel_space, **rus_space), cv=outer_cv_split, \n",
    "                                scoring=eval_metric, opt_metric=model_sel_metric, n_iter=n, \n",
    "                                random_seed=random_state, parallel=8)"
   ]
  },
  {
   "cell_type": "code",
   "execution_count": 28,
   "metadata": {
    "scrolled": true
   },
   "outputs": [
    {
     "name": "stdout",
     "output_type": "stream",
     "text": [
      "100%|██████████| 100/100 [03:47<00:00,  2.17s/it, best loss: 0.31728751324576765]\n",
      "CPU times: user 1min 1s, sys: 2.88 s, total: 1min 4s\n",
      "Wall time: 3min 47s\n"
     ]
    },
    {
     "data": {
      "text/plain": [
       "HyperoptCV(cv=RepeatedStratifiedKFold(n_repeats=10, n_splits=5, random_state=23),\n",
       "           estimator=Pipeline(memory=None,\n",
       "                              steps=[('dim_reducer',\n",
       "                                      SelectKBest(k=150,\n",
       "                                                  score_func=<function f_classif at 0x7f47b28e0400>)),\n",
       "                                     ('scaler',\n",
       "                                      StandardScaler(copy=True, with_mean=True,\n",
       "                                                     with_std=True)),\n",
       "                                     ('re_sample',\n",
       "                                      RandomUnderSampler(random_state=69,\n",
       "                                                         replacement=False,\n",
       "                                                         sampling_strategy=0...\n",
       "                    'auc': 'roc_auc',\n",
       "                    'f1': make_scorer(opt_f1_score, needs_proba=True),\n",
       "                    'mcc': make_scorer(opt_mcc_score, needs_proba=True),\n",
       "                    'prec': make_scorer(opt_precision_score, needs_proba=True),\n",
       "                    'sens': make_scorer(opt_recall_score, needs_proba=True),\n",
       "                    'spec': make_scorer(opt_specificity_score, needs_proba=True),\n",
       "                    'thres': make_scorer(opt_threshold_score, needs_proba=True)},\n",
       "           train_score=False)"
      ]
     },
     "execution_count": 28,
     "metadata": {},
     "output_type": "execute_result"
    }
   ],
   "source": [
    "%%time\n",
    "best_trial = ann_anova_sc_search.model_selection(X, y)"
   ]
  },
  {
   "cell_type": "code",
   "execution_count": 29,
   "metadata": {},
   "outputs": [
    {
     "data": {
      "text/plain": [
       "{'clf__alpha': 0.00015117148382438425,\n",
       " 'clf__batch_size': 140,\n",
       " 'clf__hidden_layer_sizes': (25,),\n",
       " 'clf__learning_rate_init': 0.012822228449225715,\n",
       " 'dim_reducer__k': 250,\n",
       " 're_sample__sampling_strategy': 0.3333333333333333}"
      ]
     },
     "execution_count": 29,
     "metadata": {},
     "output_type": "execute_result"
    }
   ],
   "source": [
    "best_trial['result']['params']"
   ]
  },
  {
   "cell_type": "code",
   "execution_count": 30,
   "metadata": {},
   "outputs": [
    {
     "data": {
      "text/html": [
       "<div>\n",
       "<style scoped>\n",
       "    .dataframe tbody tr th:only-of-type {\n",
       "        vertical-align: middle;\n",
       "    }\n",
       "\n",
       "    .dataframe tbody tr th {\n",
       "        vertical-align: top;\n",
       "    }\n",
       "\n",
       "    .dataframe thead th {\n",
       "        text-align: right;\n",
       "    }\n",
       "</style>\n",
       "<table border=\"1\" class=\"dataframe\">\n",
       "  <thead>\n",
       "    <tr style=\"text-align: right;\">\n",
       "      <th></th>\n",
       "      <th>ACC</th>\n",
       "      <th>AUC</th>\n",
       "      <th>F-1</th>\n",
       "      <th>MCC</th>\n",
       "      <th>Prec</th>\n",
       "      <th>Sens</th>\n",
       "      <th>Spec</th>\n",
       "      <th>Thres</th>\n",
       "    </tr>\n",
       "  </thead>\n",
       "  <tbody>\n",
       "    <tr>\n",
       "      <th>count</th>\n",
       "      <td>50.000000</td>\n",
       "      <td>50.000000</td>\n",
       "      <td>50.000000</td>\n",
       "      <td>50.000000</td>\n",
       "      <td>50.000000</td>\n",
       "      <td>50.000000</td>\n",
       "      <td>50.000000</td>\n",
       "      <td>50.000000</td>\n",
       "    </tr>\n",
       "    <tr>\n",
       "      <th>mean</th>\n",
       "      <td>0.684561</td>\n",
       "      <td>0.682712</td>\n",
       "      <td>0.285145</td>\n",
       "      <td>0.212896</td>\n",
       "      <td>0.199683</td>\n",
       "      <td>0.622721</td>\n",
       "      <td>0.691137</td>\n",
       "      <td>0.313345</td>\n",
       "    </tr>\n",
       "    <tr>\n",
       "      <th>std</th>\n",
       "      <td>0.139495</td>\n",
       "      <td>0.065031</td>\n",
       "      <td>0.059942</td>\n",
       "      <td>0.071412</td>\n",
       "      <td>0.067856</td>\n",
       "      <td>0.183428</td>\n",
       "      <td>0.170055</td>\n",
       "      <td>0.202978</td>\n",
       "    </tr>\n",
       "    <tr>\n",
       "      <th>min</th>\n",
       "      <td>0.321637</td>\n",
       "      <td>0.539919</td>\n",
       "      <td>0.200000</td>\n",
       "      <td>0.084140</td>\n",
       "      <td>0.115385</td>\n",
       "      <td>0.235294</td>\n",
       "      <td>0.258065</td>\n",
       "      <td>0.001407</td>\n",
       "    </tr>\n",
       "    <tr>\n",
       "      <th>25%</th>\n",
       "      <td>0.583333</td>\n",
       "      <td>0.641641</td>\n",
       "      <td>0.247432</td>\n",
       "      <td>0.166060</td>\n",
       "      <td>0.157895</td>\n",
       "      <td>0.500000</td>\n",
       "      <td>0.578603</td>\n",
       "      <td>0.141287</td>\n",
       "    </tr>\n",
       "    <tr>\n",
       "      <th>50%</th>\n",
       "      <td>0.687135</td>\n",
       "      <td>0.689315</td>\n",
       "      <td>0.273828</td>\n",
       "      <td>0.209346</td>\n",
       "      <td>0.184524</td>\n",
       "      <td>0.625000</td>\n",
       "      <td>0.693548</td>\n",
       "      <td>0.253265</td>\n",
       "    </tr>\n",
       "    <tr>\n",
       "      <th>75%</th>\n",
       "      <td>0.786550</td>\n",
       "      <td>0.726714</td>\n",
       "      <td>0.311985</td>\n",
       "      <td>0.241631</td>\n",
       "      <td>0.228077</td>\n",
       "      <td>0.750000</td>\n",
       "      <td>0.824194</td>\n",
       "      <td>0.454065</td>\n",
       "    </tr>\n",
       "    <tr>\n",
       "      <th>max</th>\n",
       "      <td>0.888889</td>\n",
       "      <td>0.825806</td>\n",
       "      <td>0.434783</td>\n",
       "      <td>0.379760</td>\n",
       "      <td>0.411765</td>\n",
       "      <td>0.937500</td>\n",
       "      <td>0.935484</td>\n",
       "      <td>0.710420</td>\n",
       "    </tr>\n",
       "  </tbody>\n",
       "</table>\n",
       "</div>"
      ],
      "text/plain": [
       "             ACC        AUC        F-1        MCC       Prec       Sens  \\\n",
       "count  50.000000  50.000000  50.000000  50.000000  50.000000  50.000000   \n",
       "mean    0.684561   0.682712   0.285145   0.212896   0.199683   0.622721   \n",
       "std     0.139495   0.065031   0.059942   0.071412   0.067856   0.183428   \n",
       "min     0.321637   0.539919   0.200000   0.084140   0.115385   0.235294   \n",
       "25%     0.583333   0.641641   0.247432   0.166060   0.157895   0.500000   \n",
       "50%     0.687135   0.689315   0.273828   0.209346   0.184524   0.625000   \n",
       "75%     0.786550   0.726714   0.311985   0.241631   0.228077   0.750000   \n",
       "max     0.888889   0.825806   0.434783   0.379760   0.411765   0.937500   \n",
       "\n",
       "            Spec      Thres  \n",
       "count  50.000000  50.000000  \n",
       "mean    0.691137   0.313345  \n",
       "std     0.170055   0.202978  \n",
       "min     0.258065   0.001407  \n",
       "25%     0.578603   0.141287  \n",
       "50%     0.693548   0.253265  \n",
       "75%     0.824194   0.454065  \n",
       "max     0.935484   0.710420  "
      ]
     },
     "execution_count": 30,
     "metadata": {},
     "output_type": "execute_result"
    }
   ],
   "source": [
    "scores = best_trial['result']['score']\n",
    "res = pd.DataFrame({'AUC': scores['test_auc'], \n",
    "              'ACC': scores['test_acc'], \n",
    "              'Sens': scores['test_sens'], \n",
    "              'Spec': scores['test_spec'],\n",
    "              'Prec': scores['test_prec'],\n",
    "              'F-1': scores['test_f1'],\n",
    "              'MCC': scores['test_mcc'],\n",
    "              'Thres': scores['test_thres']\n",
    "                   })\n",
    "res.describe()"
   ]
  },
  {
   "cell_type": "code",
   "execution_count": 31,
   "metadata": {},
   "outputs": [],
   "source": [
    "file_path = 'results/rus_ann_anova_disc_pfi_lung_ml_100_iter_rep_kfold.csv'\n",
    "res.to_csv(file_path, index=False)"
   ]
  },
  {
   "cell_type": "markdown",
   "metadata": {},
   "source": [
    "###### PCA"
   ]
  },
  {
   "cell_type": "code",
   "execution_count": 32,
   "metadata": {},
   "outputs": [],
   "source": [
    "ann_sc_pca_search = HyperoptCV(estimator=estim_pipeline['ann_sc_pca_pipe'], \n",
    "                                hyper_space=dict(ann_feat_ext_space, **rus_space), cv=outer_cv_split, \n",
    "                                scoring=eval_metric, opt_metric=model_sel_metric, n_iter=n, \n",
    "                                random_seed=random_state, parallel=8)"
   ]
  },
  {
   "cell_type": "code",
   "execution_count": 33,
   "metadata": {
    "scrolled": true
   },
   "outputs": [
    {
     "name": "stdout",
     "output_type": "stream",
     "text": [
      "100%|██████████| 100/100 [31:16<00:00, 16.58s/it, best loss: 0.34365018852115625]\n",
      "CPU times: user 1min 13s, sys: 3.12 s, total: 1min 16s\n",
      "Wall time: 31min 16s\n"
     ]
    },
    {
     "data": {
      "text/plain": [
       "HyperoptCV(cv=RepeatedStratifiedKFold(n_repeats=10, n_splits=5, random_state=23),\n",
       "           estimator=Pipeline(memory=None,\n",
       "                              steps=[('scaler',\n",
       "                                      StandardScaler(copy=True, with_mean=True,\n",
       "                                                     with_std=True)),\n",
       "                                     ('dim_reducer',\n",
       "                                      PCA(copy=True, iterated_power='auto',\n",
       "                                          n_components=150, random_state=None,\n",
       "                                          svd_solver='auto', tol=0.0,\n",
       "                                          whiten=False)),\n",
       "                                     ('re_sample',\n",
       "                                      RandomUnderSampler(random_s...\n",
       "                    'auc': 'roc_auc',\n",
       "                    'f1': make_scorer(opt_f1_score, needs_proba=True),\n",
       "                    'mcc': make_scorer(opt_mcc_score, needs_proba=True),\n",
       "                    'prec': make_scorer(opt_precision_score, needs_proba=True),\n",
       "                    'sens': make_scorer(opt_recall_score, needs_proba=True),\n",
       "                    'spec': make_scorer(opt_specificity_score, needs_proba=True),\n",
       "                    'thres': make_scorer(opt_threshold_score, needs_proba=True)},\n",
       "           train_score=False)"
      ]
     },
     "execution_count": 33,
     "metadata": {},
     "output_type": "execute_result"
    }
   ],
   "source": [
    "%%time\n",
    "best_trial = ann_sc_pca_search.model_selection(X, y)"
   ]
  },
  {
   "cell_type": "code",
   "execution_count": 34,
   "metadata": {},
   "outputs": [
    {
     "data": {
      "text/plain": [
       "{'clf__alpha': 0.020998685122069965,\n",
       " 'clf__batch_size': 80,\n",
       " 'clf__hidden_layer_sizes': (50,),\n",
       " 'clf__learning_rate_init': 0.010261410386712157,\n",
       " 'dim_reducer__n_components': 250,\n",
       " 're_sample__sampling_strategy': 0.25}"
      ]
     },
     "execution_count": 34,
     "metadata": {},
     "output_type": "execute_result"
    }
   ],
   "source": [
    "best_trial['result']['params']"
   ]
  },
  {
   "cell_type": "code",
   "execution_count": 35,
   "metadata": {},
   "outputs": [
    {
     "data": {
      "text/html": [
       "<div>\n",
       "<style scoped>\n",
       "    .dataframe tbody tr th:only-of-type {\n",
       "        vertical-align: middle;\n",
       "    }\n",
       "\n",
       "    .dataframe tbody tr th {\n",
       "        vertical-align: top;\n",
       "    }\n",
       "\n",
       "    .dataframe thead th {\n",
       "        text-align: right;\n",
       "    }\n",
       "</style>\n",
       "<table border=\"1\" class=\"dataframe\">\n",
       "  <thead>\n",
       "    <tr style=\"text-align: right;\">\n",
       "      <th></th>\n",
       "      <th>ACC</th>\n",
       "      <th>AUC</th>\n",
       "      <th>F-1</th>\n",
       "      <th>MCC</th>\n",
       "      <th>Prec</th>\n",
       "      <th>Sens</th>\n",
       "      <th>Spec</th>\n",
       "      <th>Thres</th>\n",
       "    </tr>\n",
       "  </thead>\n",
       "  <tbody>\n",
       "    <tr>\n",
       "      <th>count</th>\n",
       "      <td>50.000000</td>\n",
       "      <td>50.000000</td>\n",
       "      <td>50.000000</td>\n",
       "      <td>50.000000</td>\n",
       "      <td>50.000000</td>\n",
       "      <td>50.000000</td>\n",
       "      <td>50.000000</td>\n",
       "      <td>5.000000e+01</td>\n",
       "    </tr>\n",
       "    <tr>\n",
       "      <th>mean</th>\n",
       "      <td>0.693333</td>\n",
       "      <td>0.656350</td>\n",
       "      <td>0.268916</td>\n",
       "      <td>0.185840</td>\n",
       "      <td>0.193224</td>\n",
       "      <td>0.557500</td>\n",
       "      <td>0.707426</td>\n",
       "      <td>2.885086e-01</td>\n",
       "    </tr>\n",
       "    <tr>\n",
       "      <th>std</th>\n",
       "      <td>0.149819</td>\n",
       "      <td>0.066670</td>\n",
       "      <td>0.055234</td>\n",
       "      <td>0.067506</td>\n",
       "      <td>0.066059</td>\n",
       "      <td>0.185139</td>\n",
       "      <td>0.182494</td>\n",
       "      <td>3.246532e-01</td>\n",
       "    </tr>\n",
       "    <tr>\n",
       "      <th>min</th>\n",
       "      <td>0.263158</td>\n",
       "      <td>0.522984</td>\n",
       "      <td>0.166667</td>\n",
       "      <td>0.070523</td>\n",
       "      <td>0.107143</td>\n",
       "      <td>0.187500</td>\n",
       "      <td>0.193548</td>\n",
       "      <td>3.911994e-07</td>\n",
       "    </tr>\n",
       "    <tr>\n",
       "      <th>25%</th>\n",
       "      <td>0.640351</td>\n",
       "      <td>0.610484</td>\n",
       "      <td>0.229823</td>\n",
       "      <td>0.134417</td>\n",
       "      <td>0.147794</td>\n",
       "      <td>0.418199</td>\n",
       "      <td>0.636364</td>\n",
       "      <td>1.893532e-02</td>\n",
       "    </tr>\n",
       "    <tr>\n",
       "      <th>50%</th>\n",
       "      <td>0.719298</td>\n",
       "      <td>0.649156</td>\n",
       "      <td>0.258342</td>\n",
       "      <td>0.181125</td>\n",
       "      <td>0.173163</td>\n",
       "      <td>0.562500</td>\n",
       "      <td>0.732258</td>\n",
       "      <td>1.531315e-01</td>\n",
       "    </tr>\n",
       "    <tr>\n",
       "      <th>75%</th>\n",
       "      <td>0.812865</td>\n",
       "      <td>0.712702</td>\n",
       "      <td>0.303030</td>\n",
       "      <td>0.230688</td>\n",
       "      <td>0.228632</td>\n",
       "      <td>0.687500</td>\n",
       "      <td>0.859677</td>\n",
       "      <td>4.973549e-01</td>\n",
       "    </tr>\n",
       "    <tr>\n",
       "      <th>max</th>\n",
       "      <td>0.888889</td>\n",
       "      <td>0.785081</td>\n",
       "      <td>0.391304</td>\n",
       "      <td>0.326964</td>\n",
       "      <td>0.400000</td>\n",
       "      <td>0.937500</td>\n",
       "      <td>0.941935</td>\n",
       "      <td>9.828282e-01</td>\n",
       "    </tr>\n",
       "  </tbody>\n",
       "</table>\n",
       "</div>"
      ],
      "text/plain": [
       "             ACC        AUC        F-1        MCC       Prec       Sens  \\\n",
       "count  50.000000  50.000000  50.000000  50.000000  50.000000  50.000000   \n",
       "mean    0.693333   0.656350   0.268916   0.185840   0.193224   0.557500   \n",
       "std     0.149819   0.066670   0.055234   0.067506   0.066059   0.185139   \n",
       "min     0.263158   0.522984   0.166667   0.070523   0.107143   0.187500   \n",
       "25%     0.640351   0.610484   0.229823   0.134417   0.147794   0.418199   \n",
       "50%     0.719298   0.649156   0.258342   0.181125   0.173163   0.562500   \n",
       "75%     0.812865   0.712702   0.303030   0.230688   0.228632   0.687500   \n",
       "max     0.888889   0.785081   0.391304   0.326964   0.400000   0.937500   \n",
       "\n",
       "            Spec         Thres  \n",
       "count  50.000000  5.000000e+01  \n",
       "mean    0.707426  2.885086e-01  \n",
       "std     0.182494  3.246532e-01  \n",
       "min     0.193548  3.911994e-07  \n",
       "25%     0.636364  1.893532e-02  \n",
       "50%     0.732258  1.531315e-01  \n",
       "75%     0.859677  4.973549e-01  \n",
       "max     0.941935  9.828282e-01  "
      ]
     },
     "execution_count": 35,
     "metadata": {},
     "output_type": "execute_result"
    }
   ],
   "source": [
    "scores = best_trial['result']['score']\n",
    "res = pd.DataFrame({'AUC': scores['test_auc'], \n",
    "              'ACC': scores['test_acc'], \n",
    "              'Sens': scores['test_sens'], \n",
    "              'Spec': scores['test_spec'],\n",
    "              'Prec': scores['test_prec'],\n",
    "              'F-1': scores['test_f1'],\n",
    "              'MCC': scores['test_mcc'],\n",
    "              'Thres': scores['test_thres']\n",
    "                   })\n",
    "res.describe()"
   ]
  },
  {
   "cell_type": "code",
   "execution_count": 36,
   "metadata": {},
   "outputs": [],
   "source": [
    "file_path = 'results/rus_ann_pca_disc_pfi_lung_ml_100_iter_rep_kfold.csv'\n",
    "res.to_csv(file_path, index=False)"
   ]
  },
  {
   "cell_type": "markdown",
   "metadata": {},
   "source": [
    "###### KPCA"
   ]
  },
  {
   "cell_type": "code",
   "execution_count": 37,
   "metadata": {},
   "outputs": [],
   "source": [
    "ann_sc_kpca_search = HyperoptCV(estimator=estim_pipeline['ann_sc_kpca_pipe'], \n",
    "                                hyper_space=dict(ann_feat_ext_space, **rus_space), cv=outer_cv_split, \n",
    "                                scoring=eval_metric, opt_metric=model_sel_metric, n_iter=n, \n",
    "                                random_seed=random_state, parallel=8)"
   ]
  },
  {
   "cell_type": "code",
   "execution_count": 38,
   "metadata": {
    "scrolled": true
   },
   "outputs": [
    {
     "name": "stdout",
     "output_type": "stream",
     "text": [
      "100%|██████████| 100/100 [09:04<00:00,  5.44s/it, best loss: 0.3297474186155399]\n",
      "CPU times: user 1min 1s, sys: 2.66 s, total: 1min 3s\n",
      "Wall time: 9min 4s\n"
     ]
    },
    {
     "data": {
      "text/plain": [
       "HyperoptCV(cv=RepeatedStratifiedKFold(n_repeats=10, n_splits=5, random_state=23),\n",
       "           estimator=Pipeline(memory=None,\n",
       "                              steps=[('scaler',\n",
       "                                      StandardScaler(copy=True, with_mean=True,\n",
       "                                                     with_std=True)),\n",
       "                                     ('dim_reducer',\n",
       "                                      KernelPCA(alpha=1.0, coef0=1, copy_X=True,\n",
       "                                                degree=3, eigen_solver='auto',\n",
       "                                                fit_inverse_transform=False,\n",
       "                                                gamma=None, kernel='rbf',\n",
       "                                                kernel_params=None,\n",
       "                                                max_iter=Non...\n",
       "                    'auc': 'roc_auc',\n",
       "                    'f1': make_scorer(opt_f1_score, needs_proba=True),\n",
       "                    'mcc': make_scorer(opt_mcc_score, needs_proba=True),\n",
       "                    'prec': make_scorer(opt_precision_score, needs_proba=True),\n",
       "                    'sens': make_scorer(opt_recall_score, needs_proba=True),\n",
       "                    'spec': make_scorer(opt_specificity_score, needs_proba=True),\n",
       "                    'thres': make_scorer(opt_threshold_score, needs_proba=True)},\n",
       "           train_score=False)"
      ]
     },
     "execution_count": 38,
     "metadata": {},
     "output_type": "execute_result"
    }
   ],
   "source": [
    "%%time\n",
    "best_trial = ann_sc_kpca_search.model_selection(X, y)"
   ]
  },
  {
   "cell_type": "code",
   "execution_count": 39,
   "metadata": {},
   "outputs": [
    {
     "data": {
      "text/plain": [
       "{'clf__alpha': 0.00017780552652702216,\n",
       " 'clf__batch_size': 20,\n",
       " 'clf__hidden_layer_sizes': (75,),\n",
       " 'clf__learning_rate_init': 0.022808100391533744,\n",
       " 'dim_reducer__n_components': 150,\n",
       " 're_sample__sampling_strategy': 0.25}"
      ]
     },
     "execution_count": 39,
     "metadata": {},
     "output_type": "execute_result"
    }
   ],
   "source": [
    "best_trial['result']['params']"
   ]
  },
  {
   "cell_type": "code",
   "execution_count": 40,
   "metadata": {},
   "outputs": [
    {
     "data": {
      "text/html": [
       "<div>\n",
       "<style scoped>\n",
       "    .dataframe tbody tr th:only-of-type {\n",
       "        vertical-align: middle;\n",
       "    }\n",
       "\n",
       "    .dataframe tbody tr th {\n",
       "        vertical-align: top;\n",
       "    }\n",
       "\n",
       "    .dataframe thead th {\n",
       "        text-align: right;\n",
       "    }\n",
       "</style>\n",
       "<table border=\"1\" class=\"dataframe\">\n",
       "  <thead>\n",
       "    <tr style=\"text-align: right;\">\n",
       "      <th></th>\n",
       "      <th>ACC</th>\n",
       "      <th>AUC</th>\n",
       "      <th>F-1</th>\n",
       "      <th>MCC</th>\n",
       "      <th>Prec</th>\n",
       "      <th>Sens</th>\n",
       "      <th>Spec</th>\n",
       "      <th>Thres</th>\n",
       "    </tr>\n",
       "  </thead>\n",
       "  <tbody>\n",
       "    <tr>\n",
       "      <th>count</th>\n",
       "      <td>50.000000</td>\n",
       "      <td>50.000000</td>\n",
       "      <td>50.000000</td>\n",
       "      <td>50.000000</td>\n",
       "      <td>50.000000</td>\n",
       "      <td>50.000000</td>\n",
       "      <td>50.000000</td>\n",
       "      <td>50.000000</td>\n",
       "    </tr>\n",
       "    <tr>\n",
       "      <th>mean</th>\n",
       "      <td>0.722690</td>\n",
       "      <td>0.670253</td>\n",
       "      <td>0.288381</td>\n",
       "      <td>0.212992</td>\n",
       "      <td>0.215446</td>\n",
       "      <td>0.559853</td>\n",
       "      <td>0.739605</td>\n",
       "      <td>0.164094</td>\n",
       "    </tr>\n",
       "    <tr>\n",
       "      <th>std</th>\n",
       "      <td>0.124285</td>\n",
       "      <td>0.070582</td>\n",
       "      <td>0.069722</td>\n",
       "      <td>0.081705</td>\n",
       "      <td>0.085251</td>\n",
       "      <td>0.176331</td>\n",
       "      <td>0.151725</td>\n",
       "      <td>0.098807</td>\n",
       "    </tr>\n",
       "    <tr>\n",
       "      <th>min</th>\n",
       "      <td>0.315789</td>\n",
       "      <td>0.537051</td>\n",
       "      <td>0.193103</td>\n",
       "      <td>0.079694</td>\n",
       "      <td>0.108527</td>\n",
       "      <td>0.187500</td>\n",
       "      <td>0.258065</td>\n",
       "      <td>0.014521</td>\n",
       "    </tr>\n",
       "    <tr>\n",
       "      <th>25%</th>\n",
       "      <td>0.666667</td>\n",
       "      <td>0.632661</td>\n",
       "      <td>0.245077</td>\n",
       "      <td>0.166570</td>\n",
       "      <td>0.160995</td>\n",
       "      <td>0.437500</td>\n",
       "      <td>0.670968</td>\n",
       "      <td>0.126802</td>\n",
       "    </tr>\n",
       "    <tr>\n",
       "      <th>50%</th>\n",
       "      <td>0.725146</td>\n",
       "      <td>0.676149</td>\n",
       "      <td>0.270552</td>\n",
       "      <td>0.193833</td>\n",
       "      <td>0.185737</td>\n",
       "      <td>0.575368</td>\n",
       "      <td>0.745161</td>\n",
       "      <td>0.142502</td>\n",
       "    </tr>\n",
       "    <tr>\n",
       "      <th>75%</th>\n",
       "      <td>0.815789</td>\n",
       "      <td>0.714415</td>\n",
       "      <td>0.311683</td>\n",
       "      <td>0.244171</td>\n",
       "      <td>0.265476</td>\n",
       "      <td>0.687500</td>\n",
       "      <td>0.845161</td>\n",
       "      <td>0.167078</td>\n",
       "    </tr>\n",
       "    <tr>\n",
       "      <th>max</th>\n",
       "      <td>0.912281</td>\n",
       "      <td>0.856048</td>\n",
       "      <td>0.571429</td>\n",
       "      <td>0.525365</td>\n",
       "      <td>0.526316</td>\n",
       "      <td>0.875000</td>\n",
       "      <td>0.974194</td>\n",
       "      <td>0.726844</td>\n",
       "    </tr>\n",
       "  </tbody>\n",
       "</table>\n",
       "</div>"
      ],
      "text/plain": [
       "             ACC        AUC        F-1        MCC       Prec       Sens  \\\n",
       "count  50.000000  50.000000  50.000000  50.000000  50.000000  50.000000   \n",
       "mean    0.722690   0.670253   0.288381   0.212992   0.215446   0.559853   \n",
       "std     0.124285   0.070582   0.069722   0.081705   0.085251   0.176331   \n",
       "min     0.315789   0.537051   0.193103   0.079694   0.108527   0.187500   \n",
       "25%     0.666667   0.632661   0.245077   0.166570   0.160995   0.437500   \n",
       "50%     0.725146   0.676149   0.270552   0.193833   0.185737   0.575368   \n",
       "75%     0.815789   0.714415   0.311683   0.244171   0.265476   0.687500   \n",
       "max     0.912281   0.856048   0.571429   0.525365   0.526316   0.875000   \n",
       "\n",
       "            Spec      Thres  \n",
       "count  50.000000  50.000000  \n",
       "mean    0.739605   0.164094  \n",
       "std     0.151725   0.098807  \n",
       "min     0.258065   0.014521  \n",
       "25%     0.670968   0.126802  \n",
       "50%     0.745161   0.142502  \n",
       "75%     0.845161   0.167078  \n",
       "max     0.974194   0.726844  "
      ]
     },
     "execution_count": 40,
     "metadata": {},
     "output_type": "execute_result"
    }
   ],
   "source": [
    "scores = best_trial['result']['score']\n",
    "res = pd.DataFrame({'AUC': scores['test_auc'], \n",
    "              'ACC': scores['test_acc'], \n",
    "              'Sens': scores['test_sens'], \n",
    "              'Spec': scores['test_spec'],\n",
    "              'Prec': scores['test_prec'],\n",
    "              'F-1': scores['test_f1'],\n",
    "              'MCC': scores['test_mcc'],\n",
    "              'Thres': scores['test_thres']\n",
    "                   })\n",
    "res.describe()"
   ]
  },
  {
   "cell_type": "code",
   "execution_count": 41,
   "metadata": {},
   "outputs": [],
   "source": [
    "file_path = 'results/rus_ann_kpca_disc_pfi_lung_ml_100_iter_rep_kfold.csv'\n",
    "res.to_csv(file_path, index=False)"
   ]
  },
  {
   "cell_type": "markdown",
   "metadata": {},
   "source": [
    "#### Over-sampling"
   ]
  },
  {
   "cell_type": "code",
   "execution_count": 21,
   "metadata": {},
   "outputs": [],
   "source": [
    "from imblearn.over_sampling import RandomOverSampler\n",
    "\n",
    "# Define the re-sampling method along with the hyper-parameter space\n",
    "ros = RandomOverSampler(random_state=69)\n",
    "ros_space = {'re_sample__sampling_strategy': hp.choice('sampling_strategy', [1, 1/2, 1/3, 1/4])}\n",
    "\n",
    "# Update Pipelines\n",
    "create_pipelines(dict_pipe=estim_pipeline, re_sampler=ros)"
   ]
  },
  {
   "cell_type": "markdown",
   "metadata": {},
   "source": [
    "##### RF"
   ]
  },
  {
   "cell_type": "markdown",
   "metadata": {},
   "source": [
    "###### ANOVA"
   ]
  },
  {
   "cell_type": "code",
   "execution_count": 45,
   "metadata": {},
   "outputs": [],
   "source": [
    "rf_anova_sc_search = HyperoptCV(estimator=estim_pipeline['rf_anova_sc_pipe'], \n",
    "                                hyper_space=dict(rf_feat_sel_space, **ros_space), cv=outer_cv_split, \n",
    "                                scoring=eval_metric, opt_metric=model_sel_metric, n_iter=n, \n",
    "                                random_seed=random_state, parallel=8)"
   ]
  },
  {
   "cell_type": "code",
   "execution_count": 46,
   "metadata": {
    "scrolled": true
   },
   "outputs": [
    {
     "name": "stdout",
     "output_type": "stream",
     "text": [
      "100%|██████████| 100/100 [12:38<00:00,  6.98s/it, best loss: 0.3077235207866137]\n",
      "CPU times: user 51.9 s, sys: 2.45 s, total: 54.3 s\n",
      "Wall time: 12min 38s\n"
     ]
    },
    {
     "data": {
      "text/plain": [
       "HyperoptCV(cv=RepeatedStratifiedKFold(n_repeats=10, n_splits=5, random_state=23),\n",
       "           estimator=Pipeline(memory=None,\n",
       "                              steps=[('dim_reducer',\n",
       "                                      SelectKBest(k=250,\n",
       "                                                  score_func=<function f_classif at 0x7f47b28e0400>)),\n",
       "                                     ('scaler',\n",
       "                                      StandardScaler(copy=True, with_mean=True,\n",
       "                                                     with_std=True)),\n",
       "                                     ('re_sample',\n",
       "                                      RandomOverSampler(random_state=69,\n",
       "                                                        sampling_strategy=1)),\n",
       "                                     ('clf',\n",
       "                                      RandomFor...\n",
       "                    'auc': 'roc_auc',\n",
       "                    'f1': make_scorer(opt_f1_score, needs_proba=True),\n",
       "                    'mcc': make_scorer(opt_mcc_score, needs_proba=True),\n",
       "                    'prec': make_scorer(opt_precision_score, needs_proba=True),\n",
       "                    'sens': make_scorer(opt_recall_score, needs_proba=True),\n",
       "                    'spec': make_scorer(opt_specificity_score, needs_proba=True),\n",
       "                    'thres': make_scorer(opt_threshold_score, needs_proba=True)},\n",
       "           train_score=False)"
      ]
     },
     "execution_count": 46,
     "metadata": {},
     "output_type": "execute_result"
    }
   ],
   "source": [
    "%%time\n",
    "best_trial = rf_anova_sc_search.model_selection(X, y)"
   ]
  },
  {
   "cell_type": "code",
   "execution_count": 47,
   "metadata": {},
   "outputs": [
    {
     "data": {
      "text/plain": [
       "{'clf__max_depth': 70,\n",
       " 'clf__min_samples_leaf': 0.03,\n",
       " 'clf__min_samples_split': 0.1,\n",
       " 'clf__n_estimators': 300,\n",
       " 'dim_reducer__k': 300,\n",
       " 're_sample__sampling_strategy': 0.25}"
      ]
     },
     "execution_count": 47,
     "metadata": {},
     "output_type": "execute_result"
    }
   ],
   "source": [
    "best_trial['result']['params']"
   ]
  },
  {
   "cell_type": "code",
   "execution_count": 48,
   "metadata": {},
   "outputs": [
    {
     "data": {
      "text/html": [
       "<div>\n",
       "<style scoped>\n",
       "    .dataframe tbody tr th:only-of-type {\n",
       "        vertical-align: middle;\n",
       "    }\n",
       "\n",
       "    .dataframe tbody tr th {\n",
       "        vertical-align: top;\n",
       "    }\n",
       "\n",
       "    .dataframe thead th {\n",
       "        text-align: right;\n",
       "    }\n",
       "</style>\n",
       "<table border=\"1\" class=\"dataframe\">\n",
       "  <thead>\n",
       "    <tr style=\"text-align: right;\">\n",
       "      <th></th>\n",
       "      <th>ACC</th>\n",
       "      <th>AUC</th>\n",
       "      <th>F-1</th>\n",
       "      <th>MCC</th>\n",
       "      <th>Prec</th>\n",
       "      <th>Sens</th>\n",
       "      <th>Spec</th>\n",
       "      <th>Thres</th>\n",
       "    </tr>\n",
       "  </thead>\n",
       "  <tbody>\n",
       "    <tr>\n",
       "      <th>count</th>\n",
       "      <td>50.000000</td>\n",
       "      <td>50.000000</td>\n",
       "      <td>50.000000</td>\n",
       "      <td>50.000000</td>\n",
       "      <td>50.000000</td>\n",
       "      <td>50.000000</td>\n",
       "      <td>50.000000</td>\n",
       "      <td>50.000000</td>\n",
       "    </tr>\n",
       "    <tr>\n",
       "      <th>mean</th>\n",
       "      <td>0.678713</td>\n",
       "      <td>0.692276</td>\n",
       "      <td>0.278092</td>\n",
       "      <td>0.205847</td>\n",
       "      <td>0.192439</td>\n",
       "      <td>0.626176</td>\n",
       "      <td>0.683982</td>\n",
       "      <td>0.206607</td>\n",
       "    </tr>\n",
       "    <tr>\n",
       "      <th>std</th>\n",
       "      <td>0.124875</td>\n",
       "      <td>0.065255</td>\n",
       "      <td>0.049412</td>\n",
       "      <td>0.064848</td>\n",
       "      <td>0.058235</td>\n",
       "      <td>0.185588</td>\n",
       "      <td>0.154012</td>\n",
       "      <td>0.060886</td>\n",
       "    </tr>\n",
       "    <tr>\n",
       "      <th>min</th>\n",
       "      <td>0.421053</td>\n",
       "      <td>0.506048</td>\n",
       "      <td>0.164706</td>\n",
       "      <td>0.022260</td>\n",
       "      <td>0.101449</td>\n",
       "      <td>0.187500</td>\n",
       "      <td>0.383117</td>\n",
       "      <td>0.113508</td>\n",
       "    </tr>\n",
       "    <tr>\n",
       "      <th>25%</th>\n",
       "      <td>0.589181</td>\n",
       "      <td>0.651411</td>\n",
       "      <td>0.248067</td>\n",
       "      <td>0.176762</td>\n",
       "      <td>0.152386</td>\n",
       "      <td>0.453125</td>\n",
       "      <td>0.581588</td>\n",
       "      <td>0.165416</td>\n",
       "    </tr>\n",
       "    <tr>\n",
       "      <th>50%</th>\n",
       "      <td>0.666667</td>\n",
       "      <td>0.699100</td>\n",
       "      <td>0.276596</td>\n",
       "      <td>0.209314</td>\n",
       "      <td>0.180461</td>\n",
       "      <td>0.687500</td>\n",
       "      <td>0.664516</td>\n",
       "      <td>0.187053</td>\n",
       "    </tr>\n",
       "    <tr>\n",
       "      <th>75%</th>\n",
       "      <td>0.766082</td>\n",
       "      <td>0.732560</td>\n",
       "      <td>0.304748</td>\n",
       "      <td>0.245788</td>\n",
       "      <td>0.225000</td>\n",
       "      <td>0.750000</td>\n",
       "      <td>0.785484</td>\n",
       "      <td>0.258245</td>\n",
       "    </tr>\n",
       "    <tr>\n",
       "      <th>max</th>\n",
       "      <td>0.877193</td>\n",
       "      <td>0.816532</td>\n",
       "      <td>0.400000</td>\n",
       "      <td>0.333678</td>\n",
       "      <td>0.368421</td>\n",
       "      <td>0.882353</td>\n",
       "      <td>0.941935</td>\n",
       "      <td>0.348811</td>\n",
       "    </tr>\n",
       "  </tbody>\n",
       "</table>\n",
       "</div>"
      ],
      "text/plain": [
       "             ACC        AUC        F-1        MCC       Prec       Sens  \\\n",
       "count  50.000000  50.000000  50.000000  50.000000  50.000000  50.000000   \n",
       "mean    0.678713   0.692276   0.278092   0.205847   0.192439   0.626176   \n",
       "std     0.124875   0.065255   0.049412   0.064848   0.058235   0.185588   \n",
       "min     0.421053   0.506048   0.164706   0.022260   0.101449   0.187500   \n",
       "25%     0.589181   0.651411   0.248067   0.176762   0.152386   0.453125   \n",
       "50%     0.666667   0.699100   0.276596   0.209314   0.180461   0.687500   \n",
       "75%     0.766082   0.732560   0.304748   0.245788   0.225000   0.750000   \n",
       "max     0.877193   0.816532   0.400000   0.333678   0.368421   0.882353   \n",
       "\n",
       "            Spec      Thres  \n",
       "count  50.000000  50.000000  \n",
       "mean    0.683982   0.206607  \n",
       "std     0.154012   0.060886  \n",
       "min     0.383117   0.113508  \n",
       "25%     0.581588   0.165416  \n",
       "50%     0.664516   0.187053  \n",
       "75%     0.785484   0.258245  \n",
       "max     0.941935   0.348811  "
      ]
     },
     "execution_count": 48,
     "metadata": {},
     "output_type": "execute_result"
    }
   ],
   "source": [
    "scores = best_trial['result']['score']\n",
    "res = pd.DataFrame({'AUC': scores['test_auc'], \n",
    "              'ACC': scores['test_acc'], \n",
    "              'Sens': scores['test_sens'], \n",
    "              'Spec': scores['test_spec'],\n",
    "              'Prec': scores['test_prec'],\n",
    "              'F-1': scores['test_f1'],\n",
    "              'MCC': scores['test_mcc'],\n",
    "              'Thres': scores['test_thres']\n",
    "                   })\n",
    "res.describe()"
   ]
  },
  {
   "cell_type": "code",
   "execution_count": 49,
   "metadata": {},
   "outputs": [],
   "source": [
    "file_path = 'results/ros_rf_anova_disc_pfi_lung_ml_100_iter_rep_kfold.csv'\n",
    "res.to_csv(file_path, index=False)"
   ]
  },
  {
   "cell_type": "markdown",
   "metadata": {},
   "source": [
    "###### PCA"
   ]
  },
  {
   "cell_type": "code",
   "execution_count": 50,
   "metadata": {},
   "outputs": [],
   "source": [
    "rf_sc_pca_search = HyperoptCV(estimator=estim_pipeline['rf_sc_pca_pipe'], \n",
    "                                hyper_space=dict(rf_feat_ext_space, **ros_space), cv=outer_cv_split, \n",
    "                                scoring=eval_metric, opt_metric=model_sel_metric, n_iter=n, \n",
    "                                random_seed=random_state, parallel=8)"
   ]
  },
  {
   "cell_type": "code",
   "execution_count": 51,
   "metadata": {
    "scrolled": true
   },
   "outputs": [
    {
     "name": "stdout",
     "output_type": "stream",
     "text": [
      "100%|██████████| 100/100 [38:29<00:00, 14.34s/it, best loss: 0.3517438638211883]\n",
      "CPU times: user 1min, sys: 2.9 s, total: 1min 3s\n",
      "Wall time: 38min 29s\n"
     ]
    },
    {
     "data": {
      "text/plain": [
       "HyperoptCV(cv=RepeatedStratifiedKFold(n_repeats=10, n_splits=5, random_state=23),\n",
       "           estimator=Pipeline(memory=None,\n",
       "                              steps=[('scaler',\n",
       "                                      StandardScaler(copy=True, with_mean=True,\n",
       "                                                     with_std=True)),\n",
       "                                     ('dim_reducer',\n",
       "                                      PCA(copy=True, iterated_power='auto',\n",
       "                                          n_components=150, random_state=None,\n",
       "                                          svd_solver='auto', tol=0.0,\n",
       "                                          whiten=False)),\n",
       "                                     ('re_sample',\n",
       "                                      RandomOverSampler(random_st...\n",
       "                    'auc': 'roc_auc',\n",
       "                    'f1': make_scorer(opt_f1_score, needs_proba=True),\n",
       "                    'mcc': make_scorer(opt_mcc_score, needs_proba=True),\n",
       "                    'prec': make_scorer(opt_precision_score, needs_proba=True),\n",
       "                    'sens': make_scorer(opt_recall_score, needs_proba=True),\n",
       "                    'spec': make_scorer(opt_specificity_score, needs_proba=True),\n",
       "                    'thres': make_scorer(opt_threshold_score, needs_proba=True)},\n",
       "           train_score=False)"
      ]
     },
     "execution_count": 51,
     "metadata": {},
     "output_type": "execute_result"
    }
   ],
   "source": [
    "%%time\n",
    "best_trial = rf_sc_pca_search.model_selection(X, y)"
   ]
  },
  {
   "cell_type": "code",
   "execution_count": 52,
   "metadata": {},
   "outputs": [
    {
     "data": {
      "text/plain": [
       "{'clf__max_depth': 50,\n",
       " 'clf__min_samples_leaf': 0.03,\n",
       " 'clf__min_samples_split': 0.1,\n",
       " 'clf__n_estimators': 700,\n",
       " 'dim_reducer__n_components': 200,\n",
       " 're_sample__sampling_strategy': 0.3333333333333333}"
      ]
     },
     "execution_count": 52,
     "metadata": {},
     "output_type": "execute_result"
    }
   ],
   "source": [
    "best_trial['result']['params']"
   ]
  },
  {
   "cell_type": "code",
   "execution_count": 53,
   "metadata": {},
   "outputs": [
    {
     "data": {
      "text/html": [
       "<div>\n",
       "<style scoped>\n",
       "    .dataframe tbody tr th:only-of-type {\n",
       "        vertical-align: middle;\n",
       "    }\n",
       "\n",
       "    .dataframe tbody tr th {\n",
       "        vertical-align: top;\n",
       "    }\n",
       "\n",
       "    .dataframe thead th {\n",
       "        text-align: right;\n",
       "    }\n",
       "</style>\n",
       "<table border=\"1\" class=\"dataframe\">\n",
       "  <thead>\n",
       "    <tr style=\"text-align: right;\">\n",
       "      <th></th>\n",
       "      <th>ACC</th>\n",
       "      <th>AUC</th>\n",
       "      <th>F-1</th>\n",
       "      <th>MCC</th>\n",
       "      <th>Prec</th>\n",
       "      <th>Sens</th>\n",
       "      <th>Spec</th>\n",
       "      <th>Thres</th>\n",
       "    </tr>\n",
       "  </thead>\n",
       "  <tbody>\n",
       "    <tr>\n",
       "      <th>count</th>\n",
       "      <td>50.000000</td>\n",
       "      <td>50.000000</td>\n",
       "      <td>50.000000</td>\n",
       "      <td>50.000000</td>\n",
       "      <td>50.000000</td>\n",
       "      <td>50.000000</td>\n",
       "      <td>50.000000</td>\n",
       "      <td>50.000000</td>\n",
       "    </tr>\n",
       "    <tr>\n",
       "      <th>mean</th>\n",
       "      <td>0.704912</td>\n",
       "      <td>0.648256</td>\n",
       "      <td>0.264626</td>\n",
       "      <td>0.185152</td>\n",
       "      <td>0.199569</td>\n",
       "      <td>0.541838</td>\n",
       "      <td>0.722174</td>\n",
       "      <td>0.185202</td>\n",
       "    </tr>\n",
       "    <tr>\n",
       "      <th>std</th>\n",
       "      <td>0.146541</td>\n",
       "      <td>0.079916</td>\n",
       "      <td>0.054291</td>\n",
       "      <td>0.071247</td>\n",
       "      <td>0.084613</td>\n",
       "      <td>0.201085</td>\n",
       "      <td>0.179328</td>\n",
       "      <td>0.036978</td>\n",
       "    </tr>\n",
       "    <tr>\n",
       "      <th>min</th>\n",
       "      <td>0.140351</td>\n",
       "      <td>0.441935</td>\n",
       "      <td>0.076923</td>\n",
       "      <td>-0.005505</td>\n",
       "      <td>0.093168</td>\n",
       "      <td>0.062500</td>\n",
       "      <td>0.058065</td>\n",
       "      <td>0.066306</td>\n",
       "    </tr>\n",
       "    <tr>\n",
       "      <th>25%</th>\n",
       "      <td>0.656433</td>\n",
       "      <td>0.602502</td>\n",
       "      <td>0.242424</td>\n",
       "      <td>0.146870</td>\n",
       "      <td>0.160858</td>\n",
       "      <td>0.418199</td>\n",
       "      <td>0.653226</td>\n",
       "      <td>0.170097</td>\n",
       "    </tr>\n",
       "    <tr>\n",
       "      <th>50%</th>\n",
       "      <td>0.725146</td>\n",
       "      <td>0.646662</td>\n",
       "      <td>0.270209</td>\n",
       "      <td>0.187034</td>\n",
       "      <td>0.184413</td>\n",
       "      <td>0.545956</td>\n",
       "      <td>0.735484</td>\n",
       "      <td>0.182354</td>\n",
       "    </tr>\n",
       "    <tr>\n",
       "      <th>75%</th>\n",
       "      <td>0.786550</td>\n",
       "      <td>0.703931</td>\n",
       "      <td>0.292753</td>\n",
       "      <td>0.234298</td>\n",
       "      <td>0.210978</td>\n",
       "      <td>0.687500</td>\n",
       "      <td>0.827922</td>\n",
       "      <td>0.201170</td>\n",
       "    </tr>\n",
       "    <tr>\n",
       "      <th>max</th>\n",
       "      <td>0.906433</td>\n",
       "      <td>0.803226</td>\n",
       "      <td>0.428571</td>\n",
       "      <td>0.390860</td>\n",
       "      <td>0.545455</td>\n",
       "      <td>0.937500</td>\n",
       "      <td>0.987013</td>\n",
       "      <td>0.296600</td>\n",
       "    </tr>\n",
       "  </tbody>\n",
       "</table>\n",
       "</div>"
      ],
      "text/plain": [
       "             ACC        AUC        F-1        MCC       Prec       Sens  \\\n",
       "count  50.000000  50.000000  50.000000  50.000000  50.000000  50.000000   \n",
       "mean    0.704912   0.648256   0.264626   0.185152   0.199569   0.541838   \n",
       "std     0.146541   0.079916   0.054291   0.071247   0.084613   0.201085   \n",
       "min     0.140351   0.441935   0.076923  -0.005505   0.093168   0.062500   \n",
       "25%     0.656433   0.602502   0.242424   0.146870   0.160858   0.418199   \n",
       "50%     0.725146   0.646662   0.270209   0.187034   0.184413   0.545956   \n",
       "75%     0.786550   0.703931   0.292753   0.234298   0.210978   0.687500   \n",
       "max     0.906433   0.803226   0.428571   0.390860   0.545455   0.937500   \n",
       "\n",
       "            Spec      Thres  \n",
       "count  50.000000  50.000000  \n",
       "mean    0.722174   0.185202  \n",
       "std     0.179328   0.036978  \n",
       "min     0.058065   0.066306  \n",
       "25%     0.653226   0.170097  \n",
       "50%     0.735484   0.182354  \n",
       "75%     0.827922   0.201170  \n",
       "max     0.987013   0.296600  "
      ]
     },
     "execution_count": 53,
     "metadata": {},
     "output_type": "execute_result"
    }
   ],
   "source": [
    "scores = best_trial['result']['score']\n",
    "res = pd.DataFrame({'AUC': scores['test_auc'], \n",
    "              'ACC': scores['test_acc'], \n",
    "              'Sens': scores['test_sens'], \n",
    "              'Spec': scores['test_spec'],\n",
    "              'Prec': scores['test_prec'],\n",
    "              'F-1': scores['test_f1'],\n",
    "              'MCC': scores['test_mcc'],\n",
    "              'Thres': scores['test_thres']\n",
    "                   })\n",
    "res.describe()"
   ]
  },
  {
   "cell_type": "code",
   "execution_count": 54,
   "metadata": {},
   "outputs": [],
   "source": [
    "file_path = 'results/ros_rf_pca_disc_pfi_lung_ml_100_iter_rep_kfold.csv'\n",
    "res.to_csv(file_path, index=False)"
   ]
  },
  {
   "cell_type": "markdown",
   "metadata": {},
   "source": [
    "###### KPCA"
   ]
  },
  {
   "cell_type": "code",
   "execution_count": 55,
   "metadata": {},
   "outputs": [],
   "source": [
    "rf_sc_kpca_search = HyperoptCV(estimator=estim_pipeline['rf_sc_kpca_pipe'], \n",
    "                                hyper_space=dict(rf_feat_ext_space, **ros_space), cv=outer_cv_split, \n",
    "                                scoring=eval_metric, opt_metric=model_sel_metric, n_iter=n, \n",
    "                                random_seed=random_state, parallel=8)"
   ]
  },
  {
   "cell_type": "code",
   "execution_count": 57,
   "metadata": {
    "scrolled": false
   },
   "outputs": [
    {
     "name": "stdout",
     "output_type": "stream",
     "text": [
      "100%|██████████| 100/100 [21:18<00:00, 10.06s/it, best loss: 0.3402348505384558]\n",
      "CPU times: user 54.3 s, sys: 2.6 s, total: 56.9 s\n",
      "Wall time: 21min 18s\n"
     ]
    },
    {
     "data": {
      "text/plain": [
       "HyperoptCV(cv=RepeatedStratifiedKFold(n_repeats=10, n_splits=5, random_state=23),\n",
       "           estimator=Pipeline(memory=None,\n",
       "                              steps=[('scaler',\n",
       "                                      StandardScaler(copy=True, with_mean=True,\n",
       "                                                     with_std=True)),\n",
       "                                     ('dim_reducer',\n",
       "                                      KernelPCA(alpha=1.0, coef0=1, copy_X=True,\n",
       "                                                degree=3, eigen_solver='auto',\n",
       "                                                fit_inverse_transform=False,\n",
       "                                                gamma=None, kernel='rbf',\n",
       "                                                kernel_params=None,\n",
       "                                                max_iter=Non...\n",
       "                    'auc': 'roc_auc',\n",
       "                    'f1': make_scorer(opt_f1_score, needs_proba=True),\n",
       "                    'mcc': make_scorer(opt_mcc_score, needs_proba=True),\n",
       "                    'prec': make_scorer(opt_precision_score, needs_proba=True),\n",
       "                    'sens': make_scorer(opt_recall_score, needs_proba=True),\n",
       "                    'spec': make_scorer(opt_specificity_score, needs_proba=True),\n",
       "                    'thres': make_scorer(opt_threshold_score, needs_proba=True)},\n",
       "           train_score=False)"
      ]
     },
     "execution_count": 57,
     "metadata": {},
     "output_type": "execute_result"
    }
   ],
   "source": [
    "%%time\n",
    "best_trial = rf_sc_kpca_search.model_selection(X, y)"
   ]
  },
  {
   "cell_type": "code",
   "execution_count": 58,
   "metadata": {},
   "outputs": [
    {
     "data": {
      "text/plain": [
       "{'clf__max_depth': 90,\n",
       " 'clf__min_samples_leaf': 0.03,\n",
       " 'clf__min_samples_split': 0.2,\n",
       " 'clf__n_estimators': 700,\n",
       " 'dim_reducer__n_components': 150,\n",
       " 're_sample__sampling_strategy': 1}"
      ]
     },
     "execution_count": 58,
     "metadata": {},
     "output_type": "execute_result"
    }
   ],
   "source": [
    "best_trial['result']['params']"
   ]
  },
  {
   "cell_type": "code",
   "execution_count": 59,
   "metadata": {},
   "outputs": [
    {
     "data": {
      "text/html": [
       "<div>\n",
       "<style scoped>\n",
       "    .dataframe tbody tr th:only-of-type {\n",
       "        vertical-align: middle;\n",
       "    }\n",
       "\n",
       "    .dataframe tbody tr th {\n",
       "        vertical-align: top;\n",
       "    }\n",
       "\n",
       "    .dataframe thead th {\n",
       "        text-align: right;\n",
       "    }\n",
       "</style>\n",
       "<table border=\"1\" class=\"dataframe\">\n",
       "  <thead>\n",
       "    <tr style=\"text-align: right;\">\n",
       "      <th></th>\n",
       "      <th>ACC</th>\n",
       "      <th>AUC</th>\n",
       "      <th>F-1</th>\n",
       "      <th>MCC</th>\n",
       "      <th>Prec</th>\n",
       "      <th>Sens</th>\n",
       "      <th>Spec</th>\n",
       "      <th>Thres</th>\n",
       "    </tr>\n",
       "  </thead>\n",
       "  <tbody>\n",
       "    <tr>\n",
       "      <th>count</th>\n",
       "      <td>50.000000</td>\n",
       "      <td>50.000000</td>\n",
       "      <td>50.000000</td>\n",
       "      <td>50.000000</td>\n",
       "      <td>50.000000</td>\n",
       "      <td>50.000000</td>\n",
       "      <td>50.000000</td>\n",
       "      <td>50.000000</td>\n",
       "    </tr>\n",
       "    <tr>\n",
       "      <th>mean</th>\n",
       "      <td>0.692047</td>\n",
       "      <td>0.659765</td>\n",
       "      <td>0.267242</td>\n",
       "      <td>0.187933</td>\n",
       "      <td>0.197292</td>\n",
       "      <td>0.559706</td>\n",
       "      <td>0.706202</td>\n",
       "      <td>0.406887</td>\n",
       "    </tr>\n",
       "    <tr>\n",
       "      <th>std</th>\n",
       "      <td>0.148247</td>\n",
       "      <td>0.062003</td>\n",
       "      <td>0.054997</td>\n",
       "      <td>0.071126</td>\n",
       "      <td>0.080277</td>\n",
       "      <td>0.207221</td>\n",
       "      <td>0.182519</td>\n",
       "      <td>0.045592</td>\n",
       "    </tr>\n",
       "    <tr>\n",
       "      <th>min</th>\n",
       "      <td>0.315789</td>\n",
       "      <td>0.517953</td>\n",
       "      <td>0.181818</td>\n",
       "      <td>0.045428</td>\n",
       "      <td>0.114504</td>\n",
       "      <td>0.187500</td>\n",
       "      <td>0.251613</td>\n",
       "      <td>0.316110</td>\n",
       "    </tr>\n",
       "    <tr>\n",
       "      <th>25%</th>\n",
       "      <td>0.602339</td>\n",
       "      <td>0.624798</td>\n",
       "      <td>0.225893</td>\n",
       "      <td>0.136705</td>\n",
       "      <td>0.142857</td>\n",
       "      <td>0.384191</td>\n",
       "      <td>0.606452</td>\n",
       "      <td>0.375975</td>\n",
       "    </tr>\n",
       "    <tr>\n",
       "      <th>50%</th>\n",
       "      <td>0.710526</td>\n",
       "      <td>0.660685</td>\n",
       "      <td>0.271977</td>\n",
       "      <td>0.190742</td>\n",
       "      <td>0.181831</td>\n",
       "      <td>0.562500</td>\n",
       "      <td>0.729032</td>\n",
       "      <td>0.407045</td>\n",
       "    </tr>\n",
       "    <tr>\n",
       "      <th>75%</th>\n",
       "      <td>0.830409</td>\n",
       "      <td>0.699798</td>\n",
       "      <td>0.297917</td>\n",
       "      <td>0.225488</td>\n",
       "      <td>0.209978</td>\n",
       "      <td>0.687500</td>\n",
       "      <td>0.866883</td>\n",
       "      <td>0.435894</td>\n",
       "    </tr>\n",
       "    <tr>\n",
       "      <th>max</th>\n",
       "      <td>0.912281</td>\n",
       "      <td>0.782258</td>\n",
       "      <td>0.410256</td>\n",
       "      <td>0.373908</td>\n",
       "      <td>0.555556</td>\n",
       "      <td>0.937500</td>\n",
       "      <td>0.974194</td>\n",
       "      <td>0.494709</td>\n",
       "    </tr>\n",
       "  </tbody>\n",
       "</table>\n",
       "</div>"
      ],
      "text/plain": [
       "             ACC        AUC        F-1        MCC       Prec       Sens  \\\n",
       "count  50.000000  50.000000  50.000000  50.000000  50.000000  50.000000   \n",
       "mean    0.692047   0.659765   0.267242   0.187933   0.197292   0.559706   \n",
       "std     0.148247   0.062003   0.054997   0.071126   0.080277   0.207221   \n",
       "min     0.315789   0.517953   0.181818   0.045428   0.114504   0.187500   \n",
       "25%     0.602339   0.624798   0.225893   0.136705   0.142857   0.384191   \n",
       "50%     0.710526   0.660685   0.271977   0.190742   0.181831   0.562500   \n",
       "75%     0.830409   0.699798   0.297917   0.225488   0.209978   0.687500   \n",
       "max     0.912281   0.782258   0.410256   0.373908   0.555556   0.937500   \n",
       "\n",
       "            Spec      Thres  \n",
       "count  50.000000  50.000000  \n",
       "mean    0.706202   0.406887  \n",
       "std     0.182519   0.045592  \n",
       "min     0.251613   0.316110  \n",
       "25%     0.606452   0.375975  \n",
       "50%     0.729032   0.407045  \n",
       "75%     0.866883   0.435894  \n",
       "max     0.974194   0.494709  "
      ]
     },
     "execution_count": 59,
     "metadata": {},
     "output_type": "execute_result"
    }
   ],
   "source": [
    "scores = best_trial['result']['score']\n",
    "res = pd.DataFrame({'AUC': scores['test_auc'], \n",
    "              'ACC': scores['test_acc'], \n",
    "              'Sens': scores['test_sens'], \n",
    "              'Spec': scores['test_spec'],\n",
    "              'Prec': scores['test_prec'],\n",
    "              'F-1': scores['test_f1'],\n",
    "              'MCC': scores['test_mcc'],\n",
    "              'Thres': scores['test_thres']\n",
    "                   })\n",
    "res.describe()"
   ]
  },
  {
   "cell_type": "code",
   "execution_count": 60,
   "metadata": {},
   "outputs": [],
   "source": [
    "file_path = 'results/ros_rf_kpca_disc_pfi_lung_ml_100_iter_rep_kfold.csv'\n",
    "res.to_csv(file_path, index=False)"
   ]
  },
  {
   "cell_type": "markdown",
   "metadata": {},
   "source": [
    "##### LR"
   ]
  },
  {
   "cell_type": "markdown",
   "metadata": {},
   "source": [
    "###### ANOVA"
   ]
  },
  {
   "cell_type": "code",
   "execution_count": 61,
   "metadata": {},
   "outputs": [],
   "source": [
    "log_reg_anova_sc_search = HyperoptCV(estimator=estim_pipeline['log_reg_anova_sc_pipe'], \n",
    "                                hyper_space=dict(log_reg_feat_sel_space, **ros_space), cv=outer_cv_split, \n",
    "                                scoring=eval_metric, opt_metric=model_sel_metric, n_iter=n, \n",
    "                                random_seed=random_state, parallel=8)"
   ]
  },
  {
   "cell_type": "code",
   "execution_count": 62,
   "metadata": {
    "scrolled": true
   },
   "outputs": [
    {
     "name": "stdout",
     "output_type": "stream",
     "text": [
      "100%|██████████| 100/100 [18:52<00:00,  7.07s/it, best loss: 0.3029773836220706]\n",
      "CPU times: user 52.4 s, sys: 2.83 s, total: 55.2 s\n",
      "Wall time: 18min 52s\n"
     ]
    },
    {
     "data": {
      "text/plain": [
       "HyperoptCV(cv=RepeatedStratifiedKFold(n_repeats=10, n_splits=5, random_state=23),\n",
       "           estimator=Pipeline(memory=None,\n",
       "                              steps=[('dim_reducer',\n",
       "                                      SelectKBest(k=200,\n",
       "                                                  score_func=<function f_classif at 0x7f47b28e0400>)),\n",
       "                                     ('scaler',\n",
       "                                      StandardScaler(copy=True, with_mean=True,\n",
       "                                                     with_std=True)),\n",
       "                                     ('re_sample',\n",
       "                                      RandomOverSampler(random_state=69,\n",
       "                                                        sampling_strategy=1)),\n",
       "                                     ('clf',\n",
       "                                      LogisticR...\n",
       "                    'auc': 'roc_auc',\n",
       "                    'f1': make_scorer(opt_f1_score, needs_proba=True),\n",
       "                    'mcc': make_scorer(opt_mcc_score, needs_proba=True),\n",
       "                    'prec': make_scorer(opt_precision_score, needs_proba=True),\n",
       "                    'sens': make_scorer(opt_recall_score, needs_proba=True),\n",
       "                    'spec': make_scorer(opt_specificity_score, needs_proba=True),\n",
       "                    'thres': make_scorer(opt_threshold_score, needs_proba=True)},\n",
       "           train_score=False)"
      ]
     },
     "execution_count": 62,
     "metadata": {},
     "output_type": "execute_result"
    }
   ],
   "source": [
    "%%time\n",
    "best_trial = log_reg_anova_sc_search.model_selection(X, y)"
   ]
  },
  {
   "cell_type": "code",
   "execution_count": 63,
   "metadata": {},
   "outputs": [
    {
     "data": {
      "text/plain": [
       "{'clf__C': 0.0008899666034336689,\n",
       " 'clf__max_iter': 10000000.0,\n",
       " 'clf__penalty': 'l2',\n",
       " 'dim_reducer__k': 350,\n",
       " 're_sample__sampling_strategy': 0.25}"
      ]
     },
     "execution_count": 63,
     "metadata": {},
     "output_type": "execute_result"
    }
   ],
   "source": [
    "best_trial['result']['params']"
   ]
  },
  {
   "cell_type": "code",
   "execution_count": 64,
   "metadata": {},
   "outputs": [
    {
     "data": {
      "text/html": [
       "<div>\n",
       "<style scoped>\n",
       "    .dataframe tbody tr th:only-of-type {\n",
       "        vertical-align: middle;\n",
       "    }\n",
       "\n",
       "    .dataframe tbody tr th {\n",
       "        vertical-align: top;\n",
       "    }\n",
       "\n",
       "    .dataframe thead th {\n",
       "        text-align: right;\n",
       "    }\n",
       "</style>\n",
       "<table border=\"1\" class=\"dataframe\">\n",
       "  <thead>\n",
       "    <tr style=\"text-align: right;\">\n",
       "      <th></th>\n",
       "      <th>ACC</th>\n",
       "      <th>AUC</th>\n",
       "      <th>F-1</th>\n",
       "      <th>MCC</th>\n",
       "      <th>Prec</th>\n",
       "      <th>Sens</th>\n",
       "      <th>Spec</th>\n",
       "      <th>Thres</th>\n",
       "    </tr>\n",
       "  </thead>\n",
       "  <tbody>\n",
       "    <tr>\n",
       "      <th>count</th>\n",
       "      <td>50.000000</td>\n",
       "      <td>50.000000</td>\n",
       "      <td>50.000000</td>\n",
       "      <td>50.000000</td>\n",
       "      <td>50.000000</td>\n",
       "      <td>50.000000</td>\n",
       "      <td>50.000000</td>\n",
       "      <td>50.000000</td>\n",
       "    </tr>\n",
       "    <tr>\n",
       "      <th>mean</th>\n",
       "      <td>0.666901</td>\n",
       "      <td>0.697023</td>\n",
       "      <td>0.282791</td>\n",
       "      <td>0.212394</td>\n",
       "      <td>0.190323</td>\n",
       "      <td>0.658750</td>\n",
       "      <td>0.667879</td>\n",
       "      <td>0.186245</td>\n",
       "    </tr>\n",
       "    <tr>\n",
       "      <th>std</th>\n",
       "      <td>0.117203</td>\n",
       "      <td>0.060820</td>\n",
       "      <td>0.052405</td>\n",
       "      <td>0.064666</td>\n",
       "      <td>0.057811</td>\n",
       "      <td>0.152517</td>\n",
       "      <td>0.142197</td>\n",
       "      <td>0.062628</td>\n",
       "    </tr>\n",
       "    <tr>\n",
       "      <th>min</th>\n",
       "      <td>0.409357</td>\n",
       "      <td>0.556855</td>\n",
       "      <td>0.203390</td>\n",
       "      <td>0.091485</td>\n",
       "      <td>0.117117</td>\n",
       "      <td>0.235294</td>\n",
       "      <td>0.367742</td>\n",
       "      <td>0.099132</td>\n",
       "    </tr>\n",
       "    <tr>\n",
       "      <th>25%</th>\n",
       "      <td>0.592105</td>\n",
       "      <td>0.663407</td>\n",
       "      <td>0.247340</td>\n",
       "      <td>0.163577</td>\n",
       "      <td>0.151057</td>\n",
       "      <td>0.562500</td>\n",
       "      <td>0.575806</td>\n",
       "      <td>0.140055</td>\n",
       "    </tr>\n",
       "    <tr>\n",
       "      <th>50%</th>\n",
       "      <td>0.652047</td>\n",
       "      <td>0.698185</td>\n",
       "      <td>0.276545</td>\n",
       "      <td>0.214265</td>\n",
       "      <td>0.173342</td>\n",
       "      <td>0.687500</td>\n",
       "      <td>0.640783</td>\n",
       "      <td>0.166131</td>\n",
       "    </tr>\n",
       "    <tr>\n",
       "      <th>75%</th>\n",
       "      <td>0.763158</td>\n",
       "      <td>0.736593</td>\n",
       "      <td>0.314967</td>\n",
       "      <td>0.249434</td>\n",
       "      <td>0.215675</td>\n",
       "      <td>0.750000</td>\n",
       "      <td>0.778666</td>\n",
       "      <td>0.211176</td>\n",
       "    </tr>\n",
       "    <tr>\n",
       "      <th>max</th>\n",
       "      <td>0.877193</td>\n",
       "      <td>0.839113</td>\n",
       "      <td>0.409091</td>\n",
       "      <td>0.369189</td>\n",
       "      <td>0.333333</td>\n",
       "      <td>0.875000</td>\n",
       "      <td>0.948052</td>\n",
       "      <td>0.400811</td>\n",
       "    </tr>\n",
       "  </tbody>\n",
       "</table>\n",
       "</div>"
      ],
      "text/plain": [
       "             ACC        AUC        F-1        MCC       Prec       Sens  \\\n",
       "count  50.000000  50.000000  50.000000  50.000000  50.000000  50.000000   \n",
       "mean    0.666901   0.697023   0.282791   0.212394   0.190323   0.658750   \n",
       "std     0.117203   0.060820   0.052405   0.064666   0.057811   0.152517   \n",
       "min     0.409357   0.556855   0.203390   0.091485   0.117117   0.235294   \n",
       "25%     0.592105   0.663407   0.247340   0.163577   0.151057   0.562500   \n",
       "50%     0.652047   0.698185   0.276545   0.214265   0.173342   0.687500   \n",
       "75%     0.763158   0.736593   0.314967   0.249434   0.215675   0.750000   \n",
       "max     0.877193   0.839113   0.409091   0.369189   0.333333   0.875000   \n",
       "\n",
       "            Spec      Thres  \n",
       "count  50.000000  50.000000  \n",
       "mean    0.667879   0.186245  \n",
       "std     0.142197   0.062628  \n",
       "min     0.367742   0.099132  \n",
       "25%     0.575806   0.140055  \n",
       "50%     0.640783   0.166131  \n",
       "75%     0.778666   0.211176  \n",
       "max     0.948052   0.400811  "
      ]
     },
     "execution_count": 64,
     "metadata": {},
     "output_type": "execute_result"
    }
   ],
   "source": [
    "scores = best_trial['result']['score']\n",
    "res = pd.DataFrame({'AUC': scores['test_auc'], \n",
    "              'ACC': scores['test_acc'], \n",
    "              'Sens': scores['test_sens'], \n",
    "              'Spec': scores['test_spec'],\n",
    "              'Prec': scores['test_prec'],\n",
    "              'F-1': scores['test_f1'],\n",
    "              'MCC': scores['test_mcc'],\n",
    "              'Thres': scores['test_thres']\n",
    "                   })\n",
    "res.describe()"
   ]
  },
  {
   "cell_type": "code",
   "execution_count": 65,
   "metadata": {},
   "outputs": [],
   "source": [
    "file_path = 'results/ros_lr_anova_disc_pfi_lung_ml_100_iter_rep_kfold.csv'\n",
    "res.to_csv(file_path, index=False)"
   ]
  },
  {
   "cell_type": "markdown",
   "metadata": {},
   "source": [
    "###### PCA"
   ]
  },
  {
   "cell_type": "code",
   "execution_count": 66,
   "metadata": {},
   "outputs": [],
   "source": [
    "log_reg_sc_pca_search = HyperoptCV(estimator=estim_pipeline['log_reg_sc_pca_pipe'], \n",
    "                                hyper_space=dict(log_reg_feat_ext_space, **ros_space), cv=outer_cv_split, \n",
    "                                scoring=eval_metric, opt_metric=model_sel_metric, n_iter=n, \n",
    "                                random_seed=random_state, parallel=8)"
   ]
  },
  {
   "cell_type": "code",
   "execution_count": 68,
   "metadata": {
    "scrolled": true
   },
   "outputs": [
    {
     "name": "stdout",
     "output_type": "stream",
     "text": [
      "100%|██████████| 100/100 [1:12:17<00:00, 43.25s/it, best loss: 0.3080619409053945]\n",
      "CPU times: user 56.9 s, sys: 2.77 s, total: 59.6 s\n",
      "Wall time: 1h 12min 17s\n"
     ]
    },
    {
     "data": {
      "text/plain": [
       "HyperoptCV(cv=RepeatedStratifiedKFold(n_repeats=10, n_splits=5, random_state=23),\n",
       "           estimator=Pipeline(memory=None,\n",
       "                              steps=[('scaler',\n",
       "                                      StandardScaler(copy=True, with_mean=True,\n",
       "                                                     with_std=True)),\n",
       "                                     ('dim_reducer',\n",
       "                                      PCA(copy=True, iterated_power='auto',\n",
       "                                          n_components=350, random_state=None,\n",
       "                                          svd_solver='auto', tol=0.0,\n",
       "                                          whiten=False)),\n",
       "                                     ('re_sample',\n",
       "                                      RandomOverSampler(random_st...\n",
       "                    'auc': 'roc_auc',\n",
       "                    'f1': make_scorer(opt_f1_score, needs_proba=True),\n",
       "                    'mcc': make_scorer(opt_mcc_score, needs_proba=True),\n",
       "                    'prec': make_scorer(opt_precision_score, needs_proba=True),\n",
       "                    'sens': make_scorer(opt_recall_score, needs_proba=True),\n",
       "                    'spec': make_scorer(opt_specificity_score, needs_proba=True),\n",
       "                    'thres': make_scorer(opt_threshold_score, needs_proba=True)},\n",
       "           train_score=False)"
      ]
     },
     "execution_count": 68,
     "metadata": {},
     "output_type": "execute_result"
    }
   ],
   "source": [
    "%%time\n",
    "best_trial = log_reg_sc_pca_search.model_selection(X, y)"
   ]
  },
  {
   "cell_type": "code",
   "execution_count": 69,
   "metadata": {},
   "outputs": [
    {
     "data": {
      "text/plain": [
       "{'clf__C': 0.006178318151879314,\n",
       " 'clf__max_iter': 100000.0,\n",
       " 'clf__penalty': 'l1',\n",
       " 'dim_reducer__n_components': 300,\n",
       " 're_sample__sampling_strategy': 0.25}"
      ]
     },
     "execution_count": 69,
     "metadata": {},
     "output_type": "execute_result"
    }
   ],
   "source": [
    "best_trial['result']['params']"
   ]
  },
  {
   "cell_type": "code",
   "execution_count": 70,
   "metadata": {},
   "outputs": [
    {
     "data": {
      "text/html": [
       "<div>\n",
       "<style scoped>\n",
       "    .dataframe tbody tr th:only-of-type {\n",
       "        vertical-align: middle;\n",
       "    }\n",
       "\n",
       "    .dataframe tbody tr th {\n",
       "        vertical-align: top;\n",
       "    }\n",
       "\n",
       "    .dataframe thead th {\n",
       "        text-align: right;\n",
       "    }\n",
       "</style>\n",
       "<table border=\"1\" class=\"dataframe\">\n",
       "  <thead>\n",
       "    <tr style=\"text-align: right;\">\n",
       "      <th></th>\n",
       "      <th>ACC</th>\n",
       "      <th>AUC</th>\n",
       "      <th>F-1</th>\n",
       "      <th>MCC</th>\n",
       "      <th>Prec</th>\n",
       "      <th>Sens</th>\n",
       "      <th>Spec</th>\n",
       "      <th>Thres</th>\n",
       "    </tr>\n",
       "  </thead>\n",
       "  <tbody>\n",
       "    <tr>\n",
       "      <th>count</th>\n",
       "      <td>50.000000</td>\n",
       "      <td>50.000000</td>\n",
       "      <td>50.000000</td>\n",
       "      <td>50.000000</td>\n",
       "      <td>50.000000</td>\n",
       "      <td>50.000000</td>\n",
       "      <td>50.000000</td>\n",
       "      <td>50.000000</td>\n",
       "    </tr>\n",
       "    <tr>\n",
       "      <th>mean</th>\n",
       "      <td>0.659532</td>\n",
       "      <td>0.691938</td>\n",
       "      <td>0.279486</td>\n",
       "      <td>0.207420</td>\n",
       "      <td>0.194953</td>\n",
       "      <td>0.648529</td>\n",
       "      <td>0.660761</td>\n",
       "      <td>0.206646</td>\n",
       "    </tr>\n",
       "    <tr>\n",
       "      <th>std</th>\n",
       "      <td>0.145801</td>\n",
       "      <td>0.059406</td>\n",
       "      <td>0.051682</td>\n",
       "      <td>0.065584</td>\n",
       "      <td>0.078777</td>\n",
       "      <td>0.169103</td>\n",
       "      <td>0.176217</td>\n",
       "      <td>0.059609</td>\n",
       "    </tr>\n",
       "    <tr>\n",
       "      <th>min</th>\n",
       "      <td>0.274854</td>\n",
       "      <td>0.556452</td>\n",
       "      <td>0.183486</td>\n",
       "      <td>0.052341</td>\n",
       "      <td>0.107527</td>\n",
       "      <td>0.250000</td>\n",
       "      <td>0.206452</td>\n",
       "      <td>0.094360</td>\n",
       "    </tr>\n",
       "    <tr>\n",
       "      <th>25%</th>\n",
       "      <td>0.583333</td>\n",
       "      <td>0.661895</td>\n",
       "      <td>0.244654</td>\n",
       "      <td>0.154249</td>\n",
       "      <td>0.145370</td>\n",
       "      <td>0.562500</td>\n",
       "      <td>0.570968</td>\n",
       "      <td>0.173993</td>\n",
       "    </tr>\n",
       "    <tr>\n",
       "      <th>50%</th>\n",
       "      <td>0.692982</td>\n",
       "      <td>0.703629</td>\n",
       "      <td>0.280065</td>\n",
       "      <td>0.210978</td>\n",
       "      <td>0.179744</td>\n",
       "      <td>0.687500</td>\n",
       "      <td>0.693548</td>\n",
       "      <td>0.199100</td>\n",
       "    </tr>\n",
       "    <tr>\n",
       "      <th>75%</th>\n",
       "      <td>0.752924</td>\n",
       "      <td>0.732661</td>\n",
       "      <td>0.307692</td>\n",
       "      <td>0.257448</td>\n",
       "      <td>0.215127</td>\n",
       "      <td>0.750000</td>\n",
       "      <td>0.767742</td>\n",
       "      <td>0.229403</td>\n",
       "    </tr>\n",
       "    <tr>\n",
       "      <th>max</th>\n",
       "      <td>0.906433</td>\n",
       "      <td>0.791129</td>\n",
       "      <td>0.387097</td>\n",
       "      <td>0.359313</td>\n",
       "      <td>0.555556</td>\n",
       "      <td>0.941176</td>\n",
       "      <td>0.974026</td>\n",
       "      <td>0.392206</td>\n",
       "    </tr>\n",
       "  </tbody>\n",
       "</table>\n",
       "</div>"
      ],
      "text/plain": [
       "             ACC        AUC        F-1        MCC       Prec       Sens  \\\n",
       "count  50.000000  50.000000  50.000000  50.000000  50.000000  50.000000   \n",
       "mean    0.659532   0.691938   0.279486   0.207420   0.194953   0.648529   \n",
       "std     0.145801   0.059406   0.051682   0.065584   0.078777   0.169103   \n",
       "min     0.274854   0.556452   0.183486   0.052341   0.107527   0.250000   \n",
       "25%     0.583333   0.661895   0.244654   0.154249   0.145370   0.562500   \n",
       "50%     0.692982   0.703629   0.280065   0.210978   0.179744   0.687500   \n",
       "75%     0.752924   0.732661   0.307692   0.257448   0.215127   0.750000   \n",
       "max     0.906433   0.791129   0.387097   0.359313   0.555556   0.941176   \n",
       "\n",
       "            Spec      Thres  \n",
       "count  50.000000  50.000000  \n",
       "mean    0.660761   0.206646  \n",
       "std     0.176217   0.059609  \n",
       "min     0.206452   0.094360  \n",
       "25%     0.570968   0.173993  \n",
       "50%     0.693548   0.199100  \n",
       "75%     0.767742   0.229403  \n",
       "max     0.974026   0.392206  "
      ]
     },
     "execution_count": 70,
     "metadata": {},
     "output_type": "execute_result"
    }
   ],
   "source": [
    "scores = best_trial['result']['score']\n",
    "res = pd.DataFrame({'AUC': scores['test_auc'], \n",
    "              'ACC': scores['test_acc'], \n",
    "              'Sens': scores['test_sens'], \n",
    "              'Spec': scores['test_spec'],\n",
    "              'Prec': scores['test_prec'],\n",
    "              'F-1': scores['test_f1'],\n",
    "              'MCC': scores['test_mcc'],\n",
    "              'Thres': scores['test_thres']\n",
    "                   })\n",
    "res.describe()"
   ]
  },
  {
   "cell_type": "code",
   "execution_count": 71,
   "metadata": {},
   "outputs": [],
   "source": [
    "file_path = 'results/ros_lr_pca_disc_pfi_lung_ml_100_iter_rep_kfold.csv'\n",
    "res.to_csv(file_path, index=False)"
   ]
  },
  {
   "cell_type": "markdown",
   "metadata": {},
   "source": [
    "###### KPCA"
   ]
  },
  {
   "cell_type": "code",
   "execution_count": 72,
   "metadata": {},
   "outputs": [],
   "source": [
    "log_reg_sc_kpca_search = HyperoptCV(estimator=estim_pipeline['log_reg_sc_kpca_pipe'], \n",
    "                                hyper_space=dict(log_reg_feat_ext_space, **ros_space), cv=outer_cv_split, \n",
    "                                scoring=eval_metric, opt_metric=model_sel_metric, n_iter=n, \n",
    "                                random_seed=random_state, parallel=8)"
   ]
  },
  {
   "cell_type": "code",
   "execution_count": 73,
   "metadata": {
    "scrolled": true
   },
   "outputs": [
    {
     "name": "stdout",
     "output_type": "stream",
     "text": [
      "100%|██████████| 100/100 [16:35<00:00,  8.50s/it, best loss: 0.31834321323837456]\n",
      "CPU times: user 1min 1s, sys: 2.82 s, total: 1min 3s\n",
      "Wall time: 16min 35s\n"
     ]
    },
    {
     "data": {
      "text/plain": [
       "HyperoptCV(cv=RepeatedStratifiedKFold(n_repeats=10, n_splits=5, random_state=23),\n",
       "           estimator=Pipeline(memory=None,\n",
       "                              steps=[('scaler',\n",
       "                                      StandardScaler(copy=True, with_mean=True,\n",
       "                                                     with_std=True)),\n",
       "                                     ('dim_reducer',\n",
       "                                      KernelPCA(alpha=1.0, coef0=1, copy_X=True,\n",
       "                                                degree=3, eigen_solver='auto',\n",
       "                                                fit_inverse_transform=False,\n",
       "                                                gamma=None, kernel='rbf',\n",
       "                                                kernel_params=None,\n",
       "                                                max_iter=Non...\n",
       "                    'auc': 'roc_auc',\n",
       "                    'f1': make_scorer(opt_f1_score, needs_proba=True),\n",
       "                    'mcc': make_scorer(opt_mcc_score, needs_proba=True),\n",
       "                    'prec': make_scorer(opt_precision_score, needs_proba=True),\n",
       "                    'sens': make_scorer(opt_recall_score, needs_proba=True),\n",
       "                    'spec': make_scorer(opt_specificity_score, needs_proba=True),\n",
       "                    'thres': make_scorer(opt_threshold_score, needs_proba=True)},\n",
       "           train_score=False)"
      ]
     },
     "execution_count": 73,
     "metadata": {},
     "output_type": "execute_result"
    }
   ],
   "source": [
    "%%time\n",
    "best_trial = log_reg_sc_kpca_search.model_selection(X, y)"
   ]
  },
  {
   "cell_type": "code",
   "execution_count": 74,
   "metadata": {},
   "outputs": [
    {
     "data": {
      "text/plain": [
       "{'clf__C': 1.1370513943378124,\n",
       " 'clf__max_iter': 10000000.0,\n",
       " 'clf__penalty': 'l2',\n",
       " 'dim_reducer__n_components': 250,\n",
       " 're_sample__sampling_strategy': 0.25}"
      ]
     },
     "execution_count": 74,
     "metadata": {},
     "output_type": "execute_result"
    }
   ],
   "source": [
    "best_trial['result']['params']"
   ]
  },
  {
   "cell_type": "code",
   "execution_count": 75,
   "metadata": {},
   "outputs": [
    {
     "data": {
      "text/html": [
       "<div>\n",
       "<style scoped>\n",
       "    .dataframe tbody tr th:only-of-type {\n",
       "        vertical-align: middle;\n",
       "    }\n",
       "\n",
       "    .dataframe tbody tr th {\n",
       "        vertical-align: top;\n",
       "    }\n",
       "\n",
       "    .dataframe thead th {\n",
       "        text-align: right;\n",
       "    }\n",
       "</style>\n",
       "<table border=\"1\" class=\"dataframe\">\n",
       "  <thead>\n",
       "    <tr style=\"text-align: right;\">\n",
       "      <th></th>\n",
       "      <th>ACC</th>\n",
       "      <th>AUC</th>\n",
       "      <th>F-1</th>\n",
       "      <th>MCC</th>\n",
       "      <th>Prec</th>\n",
       "      <th>Sens</th>\n",
       "      <th>Spec</th>\n",
       "      <th>Thres</th>\n",
       "    </tr>\n",
       "  </thead>\n",
       "  <tbody>\n",
       "    <tr>\n",
       "      <th>count</th>\n",
       "      <td>50.000000</td>\n",
       "      <td>50.000000</td>\n",
       "      <td>50.000000</td>\n",
       "      <td>50.000000</td>\n",
       "      <td>50.000000</td>\n",
       "      <td>50.000000</td>\n",
       "      <td>50.000000</td>\n",
       "      <td>50.000000</td>\n",
       "    </tr>\n",
       "    <tr>\n",
       "      <th>mean</th>\n",
       "      <td>0.634386</td>\n",
       "      <td>0.681657</td>\n",
       "      <td>0.264821</td>\n",
       "      <td>0.188067</td>\n",
       "      <td>0.175218</td>\n",
       "      <td>0.659779</td>\n",
       "      <td>0.631584</td>\n",
       "      <td>0.177715</td>\n",
       "    </tr>\n",
       "    <tr>\n",
       "      <th>std</th>\n",
       "      <td>0.138243</td>\n",
       "      <td>0.062244</td>\n",
       "      <td>0.046519</td>\n",
       "      <td>0.063077</td>\n",
       "      <td>0.051926</td>\n",
       "      <td>0.167882</td>\n",
       "      <td>0.167112</td>\n",
       "      <td>0.034987</td>\n",
       "    </tr>\n",
       "    <tr>\n",
       "      <th>min</th>\n",
       "      <td>0.269006</td>\n",
       "      <td>0.537500</td>\n",
       "      <td>0.180328</td>\n",
       "      <td>0.044754</td>\n",
       "      <td>0.102190</td>\n",
       "      <td>0.250000</td>\n",
       "      <td>0.206452</td>\n",
       "      <td>0.102662</td>\n",
       "    </tr>\n",
       "    <tr>\n",
       "      <th>25%</th>\n",
       "      <td>0.540936</td>\n",
       "      <td>0.645238</td>\n",
       "      <td>0.233835</td>\n",
       "      <td>0.156260</td>\n",
       "      <td>0.141484</td>\n",
       "      <td>0.562500</td>\n",
       "      <td>0.514610</td>\n",
       "      <td>0.154720</td>\n",
       "    </tr>\n",
       "    <tr>\n",
       "      <th>50%</th>\n",
       "      <td>0.654971</td>\n",
       "      <td>0.686895</td>\n",
       "      <td>0.267662</td>\n",
       "      <td>0.188183</td>\n",
       "      <td>0.167840</td>\n",
       "      <td>0.687500</td>\n",
       "      <td>0.660222</td>\n",
       "      <td>0.173186</td>\n",
       "    </tr>\n",
       "    <tr>\n",
       "      <th>75%</th>\n",
       "      <td>0.719298</td>\n",
       "      <td>0.721270</td>\n",
       "      <td>0.292017</td>\n",
       "      <td>0.225445</td>\n",
       "      <td>0.191850</td>\n",
       "      <td>0.761029</td>\n",
       "      <td>0.733871</td>\n",
       "      <td>0.195163</td>\n",
       "    </tr>\n",
       "    <tr>\n",
       "      <th>max</th>\n",
       "      <td>0.871345</td>\n",
       "      <td>0.803629</td>\n",
       "      <td>0.421053</td>\n",
       "      <td>0.356339</td>\n",
       "      <td>0.363636</td>\n",
       "      <td>0.941176</td>\n",
       "      <td>0.922581</td>\n",
       "      <td>0.279620</td>\n",
       "    </tr>\n",
       "  </tbody>\n",
       "</table>\n",
       "</div>"
      ],
      "text/plain": [
       "             ACC        AUC        F-1        MCC       Prec       Sens  \\\n",
       "count  50.000000  50.000000  50.000000  50.000000  50.000000  50.000000   \n",
       "mean    0.634386   0.681657   0.264821   0.188067   0.175218   0.659779   \n",
       "std     0.138243   0.062244   0.046519   0.063077   0.051926   0.167882   \n",
       "min     0.269006   0.537500   0.180328   0.044754   0.102190   0.250000   \n",
       "25%     0.540936   0.645238   0.233835   0.156260   0.141484   0.562500   \n",
       "50%     0.654971   0.686895   0.267662   0.188183   0.167840   0.687500   \n",
       "75%     0.719298   0.721270   0.292017   0.225445   0.191850   0.761029   \n",
       "max     0.871345   0.803629   0.421053   0.356339   0.363636   0.941176   \n",
       "\n",
       "            Spec      Thres  \n",
       "count  50.000000  50.000000  \n",
       "mean    0.631584   0.177715  \n",
       "std     0.167112   0.034987  \n",
       "min     0.206452   0.102662  \n",
       "25%     0.514610   0.154720  \n",
       "50%     0.660222   0.173186  \n",
       "75%     0.733871   0.195163  \n",
       "max     0.922581   0.279620  "
      ]
     },
     "execution_count": 75,
     "metadata": {},
     "output_type": "execute_result"
    }
   ],
   "source": [
    "scores = best_trial['result']['score']\n",
    "res = pd.DataFrame({'AUC': scores['test_auc'], \n",
    "              'ACC': scores['test_acc'], \n",
    "              'Sens': scores['test_sens'], \n",
    "              'Spec': scores['test_spec'],\n",
    "              'Prec': scores['test_prec'],\n",
    "              'F-1': scores['test_f1'],\n",
    "              'MCC': scores['test_mcc'],\n",
    "              'Thres': scores['test_thres']\n",
    "                   })\n",
    "res.describe()"
   ]
  },
  {
   "cell_type": "code",
   "execution_count": 76,
   "metadata": {},
   "outputs": [],
   "source": [
    "file_path = 'results/ros_lr_kpca_disc_pfi_lung_ml_100_iter_rep_kfold.csv'\n",
    "res.to_csv(file_path, index=False)"
   ]
  },
  {
   "cell_type": "markdown",
   "metadata": {},
   "source": [
    "##### SVM"
   ]
  },
  {
   "cell_type": "markdown",
   "metadata": {},
   "source": [
    "###### ANOVA"
   ]
  },
  {
   "cell_type": "code",
   "execution_count": 77,
   "metadata": {},
   "outputs": [],
   "source": [
    "svm_anova_sc_search = HyperoptCV(estimator=estim_pipeline['svm_anova_sc_pipe'], \n",
    "                                hyper_space=dict(svm_feat_sel_space, **ros_space), cv=outer_cv_split, \n",
    "                                scoring=eval_metric, opt_metric=model_sel_metric, n_iter=n, \n",
    "                                random_seed=random_state, parallel=1)"
   ]
  },
  {
   "cell_type": "code",
   "execution_count": 78,
   "metadata": {
    "scrolled": true
   },
   "outputs": [
    {
     "name": "stdout",
     "output_type": "stream",
     "text": [
      "100%|██████████| 100/100 [1:28:07<00:00, 51.06s/it, best loss: 0.2993629032258065]\n",
      "CPU times: user 2h 54min 33s, sys: 1min 24s, total: 2h 55min 57s\n",
      "Wall time: 1h 28min 7s\n"
     ]
    },
    {
     "data": {
      "text/plain": [
       "HyperoptCV(cv=RepeatedStratifiedKFold(n_repeats=10, n_splits=5, random_state=23),\n",
       "           estimator=Pipeline(memory=None,\n",
       "                              steps=[('dim_reducer',\n",
       "                                      SelectKBest(k=350,\n",
       "                                                  score_func=<function f_classif at 0x7f47b28e0400>)),\n",
       "                                     ('scaler',\n",
       "                                      StandardScaler(copy=True, with_mean=True,\n",
       "                                                     with_std=True)),\n",
       "                                     ('re_sample',\n",
       "                                      RandomOverSampler(random_state=69,\n",
       "                                                        sampling_strategy=0.3333333333333333))...\n",
       "                    'auc': 'roc_auc',\n",
       "                    'f1': make_scorer(opt_f1_score, needs_proba=True),\n",
       "                    'mcc': make_scorer(opt_mcc_score, needs_proba=True),\n",
       "                    'prec': make_scorer(opt_precision_score, needs_proba=True),\n",
       "                    'sens': make_scorer(opt_recall_score, needs_proba=True),\n",
       "                    'spec': make_scorer(opt_specificity_score, needs_proba=True),\n",
       "                    'thres': make_scorer(opt_threshold_score, needs_proba=True)},\n",
       "           train_score=False)"
      ]
     },
     "execution_count": 78,
     "metadata": {},
     "output_type": "execute_result"
    }
   ],
   "source": [
    "%%time\n",
    "best_trial = svm_anova_sc_search.model_selection(X, y)"
   ]
  },
  {
   "cell_type": "code",
   "execution_count": 79,
   "metadata": {},
   "outputs": [
    {
     "data": {
      "text/plain": [
       "{'clf__C': 0.4435748143532496,\n",
       " 'clf__gamma': 0.00010571037988085505,\n",
       " 'clf__max_iter': 100000.0,\n",
       " 'dim_reducer__k': 350,\n",
       " 're_sample__sampling_strategy': 0.3333333333333333}"
      ]
     },
     "execution_count": 79,
     "metadata": {},
     "output_type": "execute_result"
    }
   ],
   "source": [
    "best_trial['result']['params']"
   ]
  },
  {
   "cell_type": "code",
   "execution_count": 80,
   "metadata": {},
   "outputs": [
    {
     "data": {
      "text/html": [
       "<div>\n",
       "<style scoped>\n",
       "    .dataframe tbody tr th:only-of-type {\n",
       "        vertical-align: middle;\n",
       "    }\n",
       "\n",
       "    .dataframe tbody tr th {\n",
       "        vertical-align: top;\n",
       "    }\n",
       "\n",
       "    .dataframe thead th {\n",
       "        text-align: right;\n",
       "    }\n",
       "</style>\n",
       "<table border=\"1\" class=\"dataframe\">\n",
       "  <thead>\n",
       "    <tr style=\"text-align: right;\">\n",
       "      <th></th>\n",
       "      <th>ACC</th>\n",
       "      <th>AUC</th>\n",
       "      <th>F-1</th>\n",
       "      <th>MCC</th>\n",
       "      <th>Prec</th>\n",
       "      <th>Sens</th>\n",
       "      <th>Spec</th>\n",
       "      <th>Thres</th>\n",
       "    </tr>\n",
       "  </thead>\n",
       "  <tbody>\n",
       "    <tr>\n",
       "      <th>count</th>\n",
       "      <td>50.000000</td>\n",
       "      <td>50.000000</td>\n",
       "      <td>50.000000</td>\n",
       "      <td>50.000000</td>\n",
       "      <td>50.000000</td>\n",
       "      <td>50.000000</td>\n",
       "      <td>50.000000</td>\n",
       "      <td>50.000000</td>\n",
       "    </tr>\n",
       "    <tr>\n",
       "      <th>mean</th>\n",
       "      <td>0.715789</td>\n",
       "      <td>0.700637</td>\n",
       "      <td>0.303570</td>\n",
       "      <td>0.234896</td>\n",
       "      <td>0.222296</td>\n",
       "      <td>0.611912</td>\n",
       "      <td>0.726801</td>\n",
       "      <td>0.256317</td>\n",
       "    </tr>\n",
       "    <tr>\n",
       "      <th>std</th>\n",
       "      <td>0.108785</td>\n",
       "      <td>0.061760</td>\n",
       "      <td>0.065450</td>\n",
       "      <td>0.079905</td>\n",
       "      <td>0.091334</td>\n",
       "      <td>0.155198</td>\n",
       "      <td>0.132230</td>\n",
       "      <td>0.148631</td>\n",
       "    </tr>\n",
       "    <tr>\n",
       "      <th>min</th>\n",
       "      <td>0.485380</td>\n",
       "      <td>0.568145</td>\n",
       "      <td>0.197531</td>\n",
       "      <td>0.079348</td>\n",
       "      <td>0.123077</td>\n",
       "      <td>0.235294</td>\n",
       "      <td>0.458065</td>\n",
       "      <td>0.106409</td>\n",
       "    </tr>\n",
       "    <tr>\n",
       "      <th>25%</th>\n",
       "      <td>0.643275</td>\n",
       "      <td>0.666734</td>\n",
       "      <td>0.262085</td>\n",
       "      <td>0.195215</td>\n",
       "      <td>0.161949</td>\n",
       "      <td>0.500000</td>\n",
       "      <td>0.640323</td>\n",
       "      <td>0.156302</td>\n",
       "    </tr>\n",
       "    <tr>\n",
       "      <th>50%</th>\n",
       "      <td>0.698830</td>\n",
       "      <td>0.702623</td>\n",
       "      <td>0.298833</td>\n",
       "      <td>0.230788</td>\n",
       "      <td>0.195054</td>\n",
       "      <td>0.625000</td>\n",
       "      <td>0.709677</td>\n",
       "      <td>0.197198</td>\n",
       "    </tr>\n",
       "    <tr>\n",
       "      <th>75%</th>\n",
       "      <td>0.811404</td>\n",
       "      <td>0.738609</td>\n",
       "      <td>0.325979</td>\n",
       "      <td>0.265348</td>\n",
       "      <td>0.252914</td>\n",
       "      <td>0.738971</td>\n",
       "      <td>0.835484</td>\n",
       "      <td>0.324671</td>\n",
       "    </tr>\n",
       "    <tr>\n",
       "      <th>max</th>\n",
       "      <td>0.900585</td>\n",
       "      <td>0.848790</td>\n",
       "      <td>0.473684</td>\n",
       "      <td>0.416313</td>\n",
       "      <td>0.500000</td>\n",
       "      <td>0.875000</td>\n",
       "      <td>0.961290</td>\n",
       "      <td>0.720578</td>\n",
       "    </tr>\n",
       "  </tbody>\n",
       "</table>\n",
       "</div>"
      ],
      "text/plain": [
       "             ACC        AUC        F-1        MCC       Prec       Sens  \\\n",
       "count  50.000000  50.000000  50.000000  50.000000  50.000000  50.000000   \n",
       "mean    0.715789   0.700637   0.303570   0.234896   0.222296   0.611912   \n",
       "std     0.108785   0.061760   0.065450   0.079905   0.091334   0.155198   \n",
       "min     0.485380   0.568145   0.197531   0.079348   0.123077   0.235294   \n",
       "25%     0.643275   0.666734   0.262085   0.195215   0.161949   0.500000   \n",
       "50%     0.698830   0.702623   0.298833   0.230788   0.195054   0.625000   \n",
       "75%     0.811404   0.738609   0.325979   0.265348   0.252914   0.738971   \n",
       "max     0.900585   0.848790   0.473684   0.416313   0.500000   0.875000   \n",
       "\n",
       "            Spec      Thres  \n",
       "count  50.000000  50.000000  \n",
       "mean    0.726801   0.256317  \n",
       "std     0.132230   0.148631  \n",
       "min     0.458065   0.106409  \n",
       "25%     0.640323   0.156302  \n",
       "50%     0.709677   0.197198  \n",
       "75%     0.835484   0.324671  \n",
       "max     0.961290   0.720578  "
      ]
     },
     "execution_count": 80,
     "metadata": {},
     "output_type": "execute_result"
    }
   ],
   "source": [
    "scores = best_trial['result']['score']\n",
    "res = pd.DataFrame({'AUC': scores['test_auc'], \n",
    "              'ACC': scores['test_acc'], \n",
    "              'Sens': scores['test_sens'], \n",
    "              'Spec': scores['test_spec'],\n",
    "              'Prec': scores['test_prec'],\n",
    "              'F-1': scores['test_f1'],\n",
    "              'MCC': scores['test_mcc'],\n",
    "              'Thres': scores['test_thres']\n",
    "                   })\n",
    "res.describe()"
   ]
  },
  {
   "cell_type": "code",
   "execution_count": 81,
   "metadata": {},
   "outputs": [],
   "source": [
    "file_path = 'results/ros_svm_anova_disc_pfi_lung_ml_100_iter_rep_kfold.csv'\n",
    "res.to_csv(file_path, index=False)"
   ]
  },
  {
   "cell_type": "markdown",
   "metadata": {},
   "source": [
    "###### PCA"
   ]
  },
  {
   "cell_type": "code",
   "execution_count": 82,
   "metadata": {},
   "outputs": [],
   "source": [
    "svm_sc_pca_search = HyperoptCV(estimator=estim_pipeline['svm_sc_pca_pipe'], \n",
    "                                hyper_space=dict(svm_feat_ext_space, **ros_space), cv=outer_cv_split, \n",
    "                                scoring=eval_metric, opt_metric=model_sel_metric, n_iter=n, \n",
    "                                random_seed=random_state, parallel=8)"
   ]
  },
  {
   "cell_type": "code",
   "execution_count": 83,
   "metadata": {
    "scrolled": true
   },
   "outputs": [
    {
     "name": "stdout",
     "output_type": "stream",
     "text": [
      "100%|██████████| 100/100 [47:28<00:00, 35.16s/it, best loss: 0.3161337884127259] \n",
      "CPU times: user 59.9 s, sys: 3.13 s, total: 1min 3s\n",
      "Wall time: 47min 28s\n"
     ]
    },
    {
     "data": {
      "text/plain": [
       "HyperoptCV(cv=RepeatedStratifiedKFold(n_repeats=10, n_splits=5, random_state=23),\n",
       "           estimator=Pipeline(memory=None,\n",
       "                              steps=[('scaler',\n",
       "                                      StandardScaler(copy=True, with_mean=True,\n",
       "                                                     with_std=True)),\n",
       "                                     ('dim_reducer',\n",
       "                                      PCA(copy=True, iterated_power='auto',\n",
       "                                          n_components=300, random_state=None,\n",
       "                                          svd_solver='auto', tol=0.0,\n",
       "                                          whiten=False)),\n",
       "                                     ('re_sample',\n",
       "                                      RandomOverSampler(random_st...\n",
       "                    'auc': 'roc_auc',\n",
       "                    'f1': make_scorer(opt_f1_score, needs_proba=True),\n",
       "                    'mcc': make_scorer(opt_mcc_score, needs_proba=True),\n",
       "                    'prec': make_scorer(opt_precision_score, needs_proba=True),\n",
       "                    'sens': make_scorer(opt_recall_score, needs_proba=True),\n",
       "                    'spec': make_scorer(opt_specificity_score, needs_proba=True),\n",
       "                    'thres': make_scorer(opt_threshold_score, needs_proba=True)},\n",
       "           train_score=False)"
      ]
     },
     "execution_count": 83,
     "metadata": {},
     "output_type": "execute_result"
    }
   ],
   "source": [
    "%%time\n",
    "best_trial = svm_sc_pca_search.model_selection(X, y)"
   ]
  },
  {
   "cell_type": "code",
   "execution_count": 84,
   "metadata": {},
   "outputs": [
    {
     "data": {
      "text/plain": [
       "{'clf__C': 0.0394993205122062,\n",
       " 'clf__gamma': 0.00010007342141313602,\n",
       " 'clf__max_iter': 1000000.0,\n",
       " 'dim_reducer__n_components': 300,\n",
       " 're_sample__sampling_strategy': 0.5}"
      ]
     },
     "execution_count": 84,
     "metadata": {},
     "output_type": "execute_result"
    }
   ],
   "source": [
    "best_trial['result']['params']"
   ]
  },
  {
   "cell_type": "code",
   "execution_count": 85,
   "metadata": {},
   "outputs": [
    {
     "data": {
      "text/html": [
       "<div>\n",
       "<style scoped>\n",
       "    .dataframe tbody tr th:only-of-type {\n",
       "        vertical-align: middle;\n",
       "    }\n",
       "\n",
       "    .dataframe tbody tr th {\n",
       "        vertical-align: top;\n",
       "    }\n",
       "\n",
       "    .dataframe thead th {\n",
       "        text-align: right;\n",
       "    }\n",
       "</style>\n",
       "<table border=\"1\" class=\"dataframe\">\n",
       "  <thead>\n",
       "    <tr style=\"text-align: right;\">\n",
       "      <th></th>\n",
       "      <th>ACC</th>\n",
       "      <th>AUC</th>\n",
       "      <th>F-1</th>\n",
       "      <th>MCC</th>\n",
       "      <th>Prec</th>\n",
       "      <th>Sens</th>\n",
       "      <th>Spec</th>\n",
       "      <th>Thres</th>\n",
       "    </tr>\n",
       "  </thead>\n",
       "  <tbody>\n",
       "    <tr>\n",
       "      <th>count</th>\n",
       "      <td>50.000000</td>\n",
       "      <td>50.000000</td>\n",
       "      <td>50.000000</td>\n",
       "      <td>50.000000</td>\n",
       "      <td>50.000000</td>\n",
       "      <td>50.000000</td>\n",
       "      <td>50.000000</td>\n",
       "      <td>50.000000</td>\n",
       "    </tr>\n",
       "    <tr>\n",
       "      <th>mean</th>\n",
       "      <td>0.676374</td>\n",
       "      <td>0.683866</td>\n",
       "      <td>0.278871</td>\n",
       "      <td>0.202346</td>\n",
       "      <td>0.186766</td>\n",
       "      <td>0.628824</td>\n",
       "      <td>0.681411</td>\n",
       "      <td>0.182694</td>\n",
       "    </tr>\n",
       "    <tr>\n",
       "      <th>std</th>\n",
       "      <td>0.113891</td>\n",
       "      <td>0.065804</td>\n",
       "      <td>0.056964</td>\n",
       "      <td>0.075991</td>\n",
       "      <td>0.053550</td>\n",
       "      <td>0.149137</td>\n",
       "      <td>0.136457</td>\n",
       "      <td>0.118921</td>\n",
       "    </tr>\n",
       "    <tr>\n",
       "      <th>min</th>\n",
       "      <td>0.350877</td>\n",
       "      <td>0.539113</td>\n",
       "      <td>0.177778</td>\n",
       "      <td>0.037780</td>\n",
       "      <td>0.100840</td>\n",
       "      <td>0.312500</td>\n",
       "      <td>0.309677</td>\n",
       "      <td>0.036010</td>\n",
       "    </tr>\n",
       "    <tr>\n",
       "      <th>25%</th>\n",
       "      <td>0.608187</td>\n",
       "      <td>0.644355</td>\n",
       "      <td>0.240000</td>\n",
       "      <td>0.157296</td>\n",
       "      <td>0.146315</td>\n",
       "      <td>0.537684</td>\n",
       "      <td>0.584835</td>\n",
       "      <td>0.112658</td>\n",
       "    </tr>\n",
       "    <tr>\n",
       "      <th>50%</th>\n",
       "      <td>0.684211</td>\n",
       "      <td>0.686081</td>\n",
       "      <td>0.267480</td>\n",
       "      <td>0.202366</td>\n",
       "      <td>0.165612</td>\n",
       "      <td>0.625000</td>\n",
       "      <td>0.683871</td>\n",
       "      <td>0.142428</td>\n",
       "    </tr>\n",
       "    <tr>\n",
       "      <th>75%</th>\n",
       "      <td>0.770468</td>\n",
       "      <td>0.721371</td>\n",
       "      <td>0.314967</td>\n",
       "      <td>0.258212</td>\n",
       "      <td>0.223245</td>\n",
       "      <td>0.750000</td>\n",
       "      <td>0.787097</td>\n",
       "      <td>0.234987</td>\n",
       "    </tr>\n",
       "    <tr>\n",
       "      <th>max</th>\n",
       "      <td>0.853801</td>\n",
       "      <td>0.812903</td>\n",
       "      <td>0.392857</td>\n",
       "      <td>0.348495</td>\n",
       "      <td>0.320000</td>\n",
       "      <td>0.882353</td>\n",
       "      <td>0.890323</td>\n",
       "      <td>0.560509</td>\n",
       "    </tr>\n",
       "  </tbody>\n",
       "</table>\n",
       "</div>"
      ],
      "text/plain": [
       "             ACC        AUC        F-1        MCC       Prec       Sens  \\\n",
       "count  50.000000  50.000000  50.000000  50.000000  50.000000  50.000000   \n",
       "mean    0.676374   0.683866   0.278871   0.202346   0.186766   0.628824   \n",
       "std     0.113891   0.065804   0.056964   0.075991   0.053550   0.149137   \n",
       "min     0.350877   0.539113   0.177778   0.037780   0.100840   0.312500   \n",
       "25%     0.608187   0.644355   0.240000   0.157296   0.146315   0.537684   \n",
       "50%     0.684211   0.686081   0.267480   0.202366   0.165612   0.625000   \n",
       "75%     0.770468   0.721371   0.314967   0.258212   0.223245   0.750000   \n",
       "max     0.853801   0.812903   0.392857   0.348495   0.320000   0.882353   \n",
       "\n",
       "            Spec      Thres  \n",
       "count  50.000000  50.000000  \n",
       "mean    0.681411   0.182694  \n",
       "std     0.136457   0.118921  \n",
       "min     0.309677   0.036010  \n",
       "25%     0.584835   0.112658  \n",
       "50%     0.683871   0.142428  \n",
       "75%     0.787097   0.234987  \n",
       "max     0.890323   0.560509  "
      ]
     },
     "execution_count": 85,
     "metadata": {},
     "output_type": "execute_result"
    }
   ],
   "source": [
    "scores = best_trial['result']['score']\n",
    "res = pd.DataFrame({'AUC': scores['test_auc'], \n",
    "              'ACC': scores['test_acc'], \n",
    "              'Sens': scores['test_sens'], \n",
    "              'Spec': scores['test_spec'],\n",
    "              'Prec': scores['test_prec'],\n",
    "              'F-1': scores['test_f1'],\n",
    "              'MCC': scores['test_mcc'],\n",
    "              'Thres': scores['test_thres']\n",
    "                   })\n",
    "res.describe()"
   ]
  },
  {
   "cell_type": "code",
   "execution_count": 86,
   "metadata": {},
   "outputs": [],
   "source": [
    "file_path = 'results/ros_svm_pca_disc_pfi_lung_ml_100_iter_rep_kfold.csv'\n",
    "res.to_csv(file_path, index=False)"
   ]
  },
  {
   "cell_type": "markdown",
   "metadata": {},
   "source": [
    "###### KPCA"
   ]
  },
  {
   "cell_type": "code",
   "execution_count": 87,
   "metadata": {},
   "outputs": [],
   "source": [
    "svm_sc_kpca_search = HyperoptCV(estimator=estim_pipeline['svm_sc_kpca_pipe'], \n",
    "                                hyper_space=dict(svm_feat_ext_space, **ros_space), cv=outer_cv_split, \n",
    "                                scoring=eval_metric, opt_metric=model_sel_metric, n_iter=n, \n",
    "                                random_seed=random_state, parallel=8)"
   ]
  },
  {
   "cell_type": "code",
   "execution_count": 88,
   "metadata": {
    "scrolled": true
   },
   "outputs": [
    {
     "name": "stdout",
     "output_type": "stream",
     "text": [
      "100%|██████████| 100/100 [24:27<00:00, 13.06s/it, best loss: 0.31165946671923916]\n",
      "CPU times: user 55 s, sys: 2.86 s, total: 57.9 s\n",
      "Wall time: 24min 27s\n"
     ]
    },
    {
     "data": {
      "text/plain": [
       "HyperoptCV(cv=RepeatedStratifiedKFold(n_repeats=10, n_splits=5, random_state=23),\n",
       "           estimator=Pipeline(memory=None,\n",
       "                              steps=[('scaler',\n",
       "                                      StandardScaler(copy=True, with_mean=True,\n",
       "                                                     with_std=True)),\n",
       "                                     ('dim_reducer',\n",
       "                                      KernelPCA(alpha=1.0, coef0=1, copy_X=True,\n",
       "                                                degree=3, eigen_solver='auto',\n",
       "                                                fit_inverse_transform=False,\n",
       "                                                gamma=None, kernel='rbf',\n",
       "                                                kernel_params=None,\n",
       "                                                max_iter=Non...\n",
       "                    'auc': 'roc_auc',\n",
       "                    'f1': make_scorer(opt_f1_score, needs_proba=True),\n",
       "                    'mcc': make_scorer(opt_mcc_score, needs_proba=True),\n",
       "                    'prec': make_scorer(opt_precision_score, needs_proba=True),\n",
       "                    'sens': make_scorer(opt_recall_score, needs_proba=True),\n",
       "                    'spec': make_scorer(opt_specificity_score, needs_proba=True),\n",
       "                    'thres': make_scorer(opt_threshold_score, needs_proba=True)},\n",
       "           train_score=False)"
      ]
     },
     "execution_count": 88,
     "metadata": {},
     "output_type": "execute_result"
    }
   ],
   "source": [
    "%%time\n",
    "best_trial = svm_sc_kpca_search.model_selection(X, y)"
   ]
  },
  {
   "cell_type": "code",
   "execution_count": 89,
   "metadata": {},
   "outputs": [
    {
     "data": {
      "text/plain": [
       "{'clf__C': 2.6843225952993026,\n",
       " 'clf__gamma': 0.05211313725687281,\n",
       " 'clf__max_iter': 10000000.0,\n",
       " 'dim_reducer__n_components': 250,\n",
       " 're_sample__sampling_strategy': 0.5}"
      ]
     },
     "execution_count": 89,
     "metadata": {},
     "output_type": "execute_result"
    }
   ],
   "source": [
    "best_trial['result']['params']"
   ]
  },
  {
   "cell_type": "code",
   "execution_count": 90,
   "metadata": {},
   "outputs": [
    {
     "data": {
      "text/html": [
       "<div>\n",
       "<style scoped>\n",
       "    .dataframe tbody tr th:only-of-type {\n",
       "        vertical-align: middle;\n",
       "    }\n",
       "\n",
       "    .dataframe tbody tr th {\n",
       "        vertical-align: top;\n",
       "    }\n",
       "\n",
       "    .dataframe thead th {\n",
       "        text-align: right;\n",
       "    }\n",
       "</style>\n",
       "<table border=\"1\" class=\"dataframe\">\n",
       "  <thead>\n",
       "    <tr style=\"text-align: right;\">\n",
       "      <th></th>\n",
       "      <th>ACC</th>\n",
       "      <th>AUC</th>\n",
       "      <th>F-1</th>\n",
       "      <th>MCC</th>\n",
       "      <th>Prec</th>\n",
       "      <th>Sens</th>\n",
       "      <th>Spec</th>\n",
       "      <th>Thres</th>\n",
       "    </tr>\n",
       "  </thead>\n",
       "  <tbody>\n",
       "    <tr>\n",
       "      <th>count</th>\n",
       "      <td>50.000000</td>\n",
       "      <td>50.000000</td>\n",
       "      <td>50.000000</td>\n",
       "      <td>50.000000</td>\n",
       "      <td>50.000000</td>\n",
       "      <td>50.000000</td>\n",
       "      <td>50.000000</td>\n",
       "      <td>50.000000</td>\n",
       "    </tr>\n",
       "    <tr>\n",
       "      <th>mean</th>\n",
       "      <td>0.664327</td>\n",
       "      <td>0.688341</td>\n",
       "      <td>0.273912</td>\n",
       "      <td>0.200720</td>\n",
       "      <td>0.181809</td>\n",
       "      <td>0.645294</td>\n",
       "      <td>0.666227</td>\n",
       "      <td>0.229302</td>\n",
       "    </tr>\n",
       "    <tr>\n",
       "      <th>std</th>\n",
       "      <td>0.115046</td>\n",
       "      <td>0.067301</td>\n",
       "      <td>0.051489</td>\n",
       "      <td>0.066784</td>\n",
       "      <td>0.048442</td>\n",
       "      <td>0.168983</td>\n",
       "      <td>0.141064</td>\n",
       "      <td>0.090872</td>\n",
       "    </tr>\n",
       "    <tr>\n",
       "      <th>min</th>\n",
       "      <td>0.403509</td>\n",
       "      <td>0.525806</td>\n",
       "      <td>0.181818</td>\n",
       "      <td>0.058345</td>\n",
       "      <td>0.115942</td>\n",
       "      <td>0.250000</td>\n",
       "      <td>0.354839</td>\n",
       "      <td>0.108248</td>\n",
       "    </tr>\n",
       "    <tr>\n",
       "      <th>25%</th>\n",
       "      <td>0.590643</td>\n",
       "      <td>0.647120</td>\n",
       "      <td>0.238934</td>\n",
       "      <td>0.157650</td>\n",
       "      <td>0.151772</td>\n",
       "      <td>0.562500</td>\n",
       "      <td>0.574194</td>\n",
       "      <td>0.168176</td>\n",
       "    </tr>\n",
       "    <tr>\n",
       "      <th>50%</th>\n",
       "      <td>0.681287</td>\n",
       "      <td>0.694960</td>\n",
       "      <td>0.266194</td>\n",
       "      <td>0.196039</td>\n",
       "      <td>0.167840</td>\n",
       "      <td>0.687500</td>\n",
       "      <td>0.687097</td>\n",
       "      <td>0.213813</td>\n",
       "    </tr>\n",
       "    <tr>\n",
       "      <th>75%</th>\n",
       "      <td>0.730994</td>\n",
       "      <td>0.726512</td>\n",
       "      <td>0.303138</td>\n",
       "      <td>0.250766</td>\n",
       "      <td>0.203784</td>\n",
       "      <td>0.750000</td>\n",
       "      <td>0.748387</td>\n",
       "      <td>0.257168</td>\n",
       "    </tr>\n",
       "    <tr>\n",
       "      <th>max</th>\n",
       "      <td>0.853801</td>\n",
       "      <td>0.836290</td>\n",
       "      <td>0.418605</td>\n",
       "      <td>0.356499</td>\n",
       "      <td>0.333333</td>\n",
       "      <td>0.882353</td>\n",
       "      <td>0.915584</td>\n",
       "      <td>0.585677</td>\n",
       "    </tr>\n",
       "  </tbody>\n",
       "</table>\n",
       "</div>"
      ],
      "text/plain": [
       "             ACC        AUC        F-1        MCC       Prec       Sens  \\\n",
       "count  50.000000  50.000000  50.000000  50.000000  50.000000  50.000000   \n",
       "mean    0.664327   0.688341   0.273912   0.200720   0.181809   0.645294   \n",
       "std     0.115046   0.067301   0.051489   0.066784   0.048442   0.168983   \n",
       "min     0.403509   0.525806   0.181818   0.058345   0.115942   0.250000   \n",
       "25%     0.590643   0.647120   0.238934   0.157650   0.151772   0.562500   \n",
       "50%     0.681287   0.694960   0.266194   0.196039   0.167840   0.687500   \n",
       "75%     0.730994   0.726512   0.303138   0.250766   0.203784   0.750000   \n",
       "max     0.853801   0.836290   0.418605   0.356499   0.333333   0.882353   \n",
       "\n",
       "            Spec      Thres  \n",
       "count  50.000000  50.000000  \n",
       "mean    0.666227   0.229302  \n",
       "std     0.141064   0.090872  \n",
       "min     0.354839   0.108248  \n",
       "25%     0.574194   0.168176  \n",
       "50%     0.687097   0.213813  \n",
       "75%     0.748387   0.257168  \n",
       "max     0.915584   0.585677  "
      ]
     },
     "execution_count": 90,
     "metadata": {},
     "output_type": "execute_result"
    }
   ],
   "source": [
    "scores = best_trial['result']['score']\n",
    "res = pd.DataFrame({'AUC': scores['test_auc'], \n",
    "              'ACC': scores['test_acc'], \n",
    "              'Sens': scores['test_sens'], \n",
    "              'Spec': scores['test_spec'],\n",
    "              'Prec': scores['test_prec'],\n",
    "              'F-1': scores['test_f1'],\n",
    "              'MCC': scores['test_mcc'],\n",
    "              'Thres': scores['test_thres']\n",
    "                   })\n",
    "res.describe()"
   ]
  },
  {
   "cell_type": "code",
   "execution_count": 91,
   "metadata": {},
   "outputs": [],
   "source": [
    "file_path = 'results/ros_svm_kpca_disc_pfi_lung_ml_100_iter_rep_kfold.csv'\n",
    "res.to_csv(file_path, index=False)"
   ]
  },
  {
   "cell_type": "markdown",
   "metadata": {},
   "source": [
    "##### ANN"
   ]
  },
  {
   "cell_type": "markdown",
   "metadata": {},
   "source": [
    "###### ANOVA"
   ]
  },
  {
   "cell_type": "code",
   "execution_count": 22,
   "metadata": {},
   "outputs": [],
   "source": [
    "ann_anova_sc_search = HyperoptCV(estimator=estim_pipeline['ann_anova_sc_pipe'], \n",
    "                                hyper_space=dict(ann_feat_sel_space, **ros_space), cv=outer_cv_split, \n",
    "                                scoring=eval_metric, opt_metric=model_sel_metric, n_iter=n, \n",
    "                                random_seed=random_state, parallel=8)"
   ]
  },
  {
   "cell_type": "code",
   "execution_count": 25,
   "metadata": {
    "scrolled": true
   },
   "outputs": [
    {
     "name": "stdout",
     "output_type": "stream",
     "text": [
      "100%|██████████| 100/100 [08:57<00:00,  4.62s/it, best loss: 0.33191271347248563]\n",
      "CPU times: user 1min 2s, sys: 3.07 s, total: 1min 5s\n",
      "Wall time: 8min 57s\n"
     ]
    },
    {
     "data": {
      "text/plain": [
       "HyperoptCV(cv=RepeatedStratifiedKFold(n_repeats=10, n_splits=5, random_state=23),\n",
       "           estimator=Pipeline(memory=None,\n",
       "                              steps=[('dim_reducer',\n",
       "                                      SelectKBest(k=300,\n",
       "                                                  score_func=<function f_classif at 0x7f3c33d89400>)),\n",
       "                                     ('scaler',\n",
       "                                      StandardScaler(copy=True, with_mean=True,\n",
       "                                                     with_std=True)),\n",
       "                                     ('re_sample',\n",
       "                                      RandomOverSampler(random_state=69,\n",
       "                                                        sampling_strategy=0.3333333333333333))...\n",
       "                    'auc': 'roc_auc',\n",
       "                    'f1': make_scorer(opt_f1_score, needs_proba=True),\n",
       "                    'mcc': make_scorer(opt_mcc_score, needs_proba=True),\n",
       "                    'prec': make_scorer(opt_precision_score, needs_proba=True),\n",
       "                    'sens': make_scorer(opt_recall_score, needs_proba=True),\n",
       "                    'spec': make_scorer(opt_specificity_score, needs_proba=True),\n",
       "                    'thres': make_scorer(opt_threshold_score, needs_proba=True)},\n",
       "           train_score=False)"
      ]
     },
     "execution_count": 25,
     "metadata": {},
     "output_type": "execute_result"
    }
   ],
   "source": [
    "%%time\n",
    "best_trial = ann_anova_sc_search.model_selection(X, y)"
   ]
  },
  {
   "cell_type": "code",
   "execution_count": 26,
   "metadata": {},
   "outputs": [
    {
     "data": {
      "text/plain": [
       "{'clf__alpha': 0.0003170875375418915,\n",
       " 'clf__batch_size': 20,\n",
       " 'clf__hidden_layer_sizes': (50,),\n",
       " 'clf__learning_rate_init': 8.855940259821627e-05,\n",
       " 'dim_reducer__k': 300,\n",
       " 're_sample__sampling_strategy': 0.3333333333333333}"
      ]
     },
     "execution_count": 26,
     "metadata": {},
     "output_type": "execute_result"
    }
   ],
   "source": [
    "best_trial['result']['params']"
   ]
  },
  {
   "cell_type": "code",
   "execution_count": 27,
   "metadata": {},
   "outputs": [
    {
     "data": {
      "text/html": [
       "<div>\n",
       "<style scoped>\n",
       "    .dataframe tbody tr th:only-of-type {\n",
       "        vertical-align: middle;\n",
       "    }\n",
       "\n",
       "    .dataframe tbody tr th {\n",
       "        vertical-align: top;\n",
       "    }\n",
       "\n",
       "    .dataframe thead th {\n",
       "        text-align: right;\n",
       "    }\n",
       "</style>\n",
       "<table border=\"1\" class=\"dataframe\">\n",
       "  <thead>\n",
       "    <tr style=\"text-align: right;\">\n",
       "      <th></th>\n",
       "      <th>ACC</th>\n",
       "      <th>AUC</th>\n",
       "      <th>F-1</th>\n",
       "      <th>MCC</th>\n",
       "      <th>Prec</th>\n",
       "      <th>Sens</th>\n",
       "      <th>Spec</th>\n",
       "      <th>Thres</th>\n",
       "    </tr>\n",
       "  </thead>\n",
       "  <tbody>\n",
       "    <tr>\n",
       "      <th>count</th>\n",
       "      <td>50.000000</td>\n",
       "      <td>50.000000</td>\n",
       "      <td>50.000000</td>\n",
       "      <td>50.000000</td>\n",
       "      <td>50.000000</td>\n",
       "      <td>50.000000</td>\n",
       "      <td>50.000000</td>\n",
       "      <td>50.000000</td>\n",
       "    </tr>\n",
       "    <tr>\n",
       "      <th>mean</th>\n",
       "      <td>0.694854</td>\n",
       "      <td>0.668087</td>\n",
       "      <td>0.278055</td>\n",
       "      <td>0.201227</td>\n",
       "      <td>0.209103</td>\n",
       "      <td>0.573309</td>\n",
       "      <td>0.707667</td>\n",
       "      <td>0.238906</td>\n",
       "    </tr>\n",
       "    <tr>\n",
       "      <th>std</th>\n",
       "      <td>0.152389</td>\n",
       "      <td>0.071172</td>\n",
       "      <td>0.058817</td>\n",
       "      <td>0.073657</td>\n",
       "      <td>0.085227</td>\n",
       "      <td>0.194114</td>\n",
       "      <td>0.185498</td>\n",
       "      <td>0.153885</td>\n",
       "    </tr>\n",
       "    <tr>\n",
       "      <th>min</th>\n",
       "      <td>0.315789</td>\n",
       "      <td>0.546371</td>\n",
       "      <td>0.188406</td>\n",
       "      <td>0.070383</td>\n",
       "      <td>0.106557</td>\n",
       "      <td>0.187500</td>\n",
       "      <td>0.258065</td>\n",
       "      <td>0.013625</td>\n",
       "    </tr>\n",
       "    <tr>\n",
       "      <th>25%</th>\n",
       "      <td>0.581871</td>\n",
       "      <td>0.614748</td>\n",
       "      <td>0.229885</td>\n",
       "      <td>0.146441</td>\n",
       "      <td>0.141484</td>\n",
       "      <td>0.445772</td>\n",
       "      <td>0.570475</td>\n",
       "      <td>0.109145</td>\n",
       "    </tr>\n",
       "    <tr>\n",
       "      <th>50%</th>\n",
       "      <td>0.728070</td>\n",
       "      <td>0.661867</td>\n",
       "      <td>0.262626</td>\n",
       "      <td>0.196429</td>\n",
       "      <td>0.186147</td>\n",
       "      <td>0.575368</td>\n",
       "      <td>0.754839</td>\n",
       "      <td>0.212967</td>\n",
       "    </tr>\n",
       "    <tr>\n",
       "      <th>75%</th>\n",
       "      <td>0.823099</td>\n",
       "      <td>0.713306</td>\n",
       "      <td>0.321935</td>\n",
       "      <td>0.255009</td>\n",
       "      <td>0.248106</td>\n",
       "      <td>0.701287</td>\n",
       "      <td>0.857834</td>\n",
       "      <td>0.343992</td>\n",
       "    </tr>\n",
       "    <tr>\n",
       "      <th>max</th>\n",
       "      <td>0.906433</td>\n",
       "      <td>0.844355</td>\n",
       "      <td>0.439024</td>\n",
       "      <td>0.378575</td>\n",
       "      <td>0.500000</td>\n",
       "      <td>0.875000</td>\n",
       "      <td>0.967742</td>\n",
       "      <td>0.640787</td>\n",
       "    </tr>\n",
       "  </tbody>\n",
       "</table>\n",
       "</div>"
      ],
      "text/plain": [
       "             ACC        AUC        F-1        MCC       Prec       Sens  \\\n",
       "count  50.000000  50.000000  50.000000  50.000000  50.000000  50.000000   \n",
       "mean    0.694854   0.668087   0.278055   0.201227   0.209103   0.573309   \n",
       "std     0.152389   0.071172   0.058817   0.073657   0.085227   0.194114   \n",
       "min     0.315789   0.546371   0.188406   0.070383   0.106557   0.187500   \n",
       "25%     0.581871   0.614748   0.229885   0.146441   0.141484   0.445772   \n",
       "50%     0.728070   0.661867   0.262626   0.196429   0.186147   0.575368   \n",
       "75%     0.823099   0.713306   0.321935   0.255009   0.248106   0.701287   \n",
       "max     0.906433   0.844355   0.439024   0.378575   0.500000   0.875000   \n",
       "\n",
       "            Spec      Thres  \n",
       "count  50.000000  50.000000  \n",
       "mean    0.707667   0.238906  \n",
       "std     0.185498   0.153885  \n",
       "min     0.258065   0.013625  \n",
       "25%     0.570475   0.109145  \n",
       "50%     0.754839   0.212967  \n",
       "75%     0.857834   0.343992  \n",
       "max     0.967742   0.640787  "
      ]
     },
     "execution_count": 27,
     "metadata": {},
     "output_type": "execute_result"
    }
   ],
   "source": [
    "scores = best_trial['result']['score']\n",
    "res = pd.DataFrame({'AUC': scores['test_auc'], \n",
    "              'ACC': scores['test_acc'], \n",
    "              'Sens': scores['test_sens'], \n",
    "              'Spec': scores['test_spec'],\n",
    "              'Prec': scores['test_prec'],\n",
    "              'F-1': scores['test_f1'],\n",
    "              'MCC': scores['test_mcc'],\n",
    "              'Thres': scores['test_thres']\n",
    "                   })\n",
    "res.describe()"
   ]
  },
  {
   "cell_type": "code",
   "execution_count": 28,
   "metadata": {},
   "outputs": [],
   "source": [
    "file_path = 'results/ros_ann_anova_disc_pfi_lung_ml_100_iter_rep_kfold.csv'\n",
    "res.to_csv(file_path, index=False)"
   ]
  },
  {
   "cell_type": "markdown",
   "metadata": {},
   "source": [
    "###### PCA"
   ]
  },
  {
   "cell_type": "code",
   "execution_count": 29,
   "metadata": {},
   "outputs": [],
   "source": [
    "ann_sc_pca_search = HyperoptCV(estimator=estim_pipeline['ann_sc_pca_pipe'], \n",
    "                                hyper_space=dict(ann_feat_ext_space, **ros_space), cv=outer_cv_split, \n",
    "                                scoring=eval_metric, opt_metric=model_sel_metric, n_iter=n, \n",
    "                                random_seed=random_state, parallel=8)"
   ]
  },
  {
   "cell_type": "code",
   "execution_count": 30,
   "metadata": {
    "scrolled": true
   },
   "outputs": [
    {
     "name": "stdout",
     "output_type": "stream",
     "text": [
      "100%|██████████| 100/100 [30:09<00:00, 19.10s/it, best loss: 0.36149737548978533]\n",
      "CPU times: user 1min 9s, sys: 2.98 s, total: 1min 12s\n",
      "Wall time: 30min 9s\n"
     ]
    },
    {
     "data": {
      "text/plain": [
       "HyperoptCV(cv=RepeatedStratifiedKFold(n_repeats=10, n_splits=5, random_state=23),\n",
       "           estimator=Pipeline(memory=None,\n",
       "                              steps=[('scaler',\n",
       "                                      StandardScaler(copy=True, with_mean=True,\n",
       "                                                     with_std=True)),\n",
       "                                     ('dim_reducer',\n",
       "                                      PCA(copy=True, iterated_power='auto',\n",
       "                                          n_components=200, random_state=None,\n",
       "                                          svd_solver='auto', tol=0.0,\n",
       "                                          whiten=False)),\n",
       "                                     ('re_sample',\n",
       "                                      RandomOverSampler(random_st...\n",
       "                    'auc': 'roc_auc',\n",
       "                    'f1': make_scorer(opt_f1_score, needs_proba=True),\n",
       "                    'mcc': make_scorer(opt_mcc_score, needs_proba=True),\n",
       "                    'prec': make_scorer(opt_precision_score, needs_proba=True),\n",
       "                    'sens': make_scorer(opt_recall_score, needs_proba=True),\n",
       "                    'spec': make_scorer(opt_specificity_score, needs_proba=True),\n",
       "                    'thres': make_scorer(opt_threshold_score, needs_proba=True)},\n",
       "           train_score=False)"
      ]
     },
     "execution_count": 30,
     "metadata": {},
     "output_type": "execute_result"
    }
   ],
   "source": [
    "%%time\n",
    "best_trial = ann_sc_pca_search.model_selection(X, y)"
   ]
  },
  {
   "cell_type": "code",
   "execution_count": 31,
   "metadata": {},
   "outputs": [
    {
     "data": {
      "text/plain": [
       "{'clf__alpha': 0.04837385908790528,\n",
       " 'clf__batch_size': 20,\n",
       " 'clf__hidden_layer_sizes': (50,),\n",
       " 'clf__learning_rate_init': 0.001726574572895734,\n",
       " 'dim_reducer__n_components': 200,\n",
       " 're_sample__sampling_strategy': 1}"
      ]
     },
     "execution_count": 31,
     "metadata": {},
     "output_type": "execute_result"
    }
   ],
   "source": [
    "best_trial['result']['params']"
   ]
  },
  {
   "cell_type": "code",
   "execution_count": 32,
   "metadata": {},
   "outputs": [
    {
     "data": {
      "text/html": [
       "<div>\n",
       "<style scoped>\n",
       "    .dataframe tbody tr th:only-of-type {\n",
       "        vertical-align: middle;\n",
       "    }\n",
       "\n",
       "    .dataframe tbody tr th {\n",
       "        vertical-align: top;\n",
       "    }\n",
       "\n",
       "    .dataframe thead th {\n",
       "        text-align: right;\n",
       "    }\n",
       "</style>\n",
       "<table border=\"1\" class=\"dataframe\">\n",
       "  <thead>\n",
       "    <tr style=\"text-align: right;\">\n",
       "      <th></th>\n",
       "      <th>ACC</th>\n",
       "      <th>AUC</th>\n",
       "      <th>F-1</th>\n",
       "      <th>MCC</th>\n",
       "      <th>Prec</th>\n",
       "      <th>Sens</th>\n",
       "      <th>Spec</th>\n",
       "      <th>Thres</th>\n",
       "    </tr>\n",
       "  </thead>\n",
       "  <tbody>\n",
       "    <tr>\n",
       "      <th>count</th>\n",
       "      <td>50.000000</td>\n",
       "      <td>50.000000</td>\n",
       "      <td>50.000000</td>\n",
       "      <td>50.000000</td>\n",
       "      <td>50.000000</td>\n",
       "      <td>50.000000</td>\n",
       "      <td>50.000000</td>\n",
       "      <td>50.000000</td>\n",
       "    </tr>\n",
       "    <tr>\n",
       "      <th>mean</th>\n",
       "      <td>0.634152</td>\n",
       "      <td>0.638503</td>\n",
       "      <td>0.255073</td>\n",
       "      <td>0.168430</td>\n",
       "      <td>0.173336</td>\n",
       "      <td>0.613309</td>\n",
       "      <td>0.636297</td>\n",
       "      <td>0.058079</td>\n",
       "    </tr>\n",
       "    <tr>\n",
       "      <th>std</th>\n",
       "      <td>0.166901</td>\n",
       "      <td>0.070931</td>\n",
       "      <td>0.058409</td>\n",
       "      <td>0.075432</td>\n",
       "      <td>0.060296</td>\n",
       "      <td>0.186234</td>\n",
       "      <td>0.200845</td>\n",
       "      <td>0.110091</td>\n",
       "    </tr>\n",
       "    <tr>\n",
       "      <th>min</th>\n",
       "      <td>0.251462</td>\n",
       "      <td>0.499194</td>\n",
       "      <td>0.179104</td>\n",
       "      <td>0.053904</td>\n",
       "      <td>0.105634</td>\n",
       "      <td>0.187500</td>\n",
       "      <td>0.180645</td>\n",
       "      <td>0.000024</td>\n",
       "    </tr>\n",
       "    <tr>\n",
       "      <th>25%</th>\n",
       "      <td>0.507310</td>\n",
       "      <td>0.590625</td>\n",
       "      <td>0.208448</td>\n",
       "      <td>0.109350</td>\n",
       "      <td>0.128205</td>\n",
       "      <td>0.500000</td>\n",
       "      <td>0.486280</td>\n",
       "      <td>0.002635</td>\n",
       "    </tr>\n",
       "    <tr>\n",
       "      <th>50%</th>\n",
       "      <td>0.669591</td>\n",
       "      <td>0.629032</td>\n",
       "      <td>0.241582</td>\n",
       "      <td>0.153259</td>\n",
       "      <td>0.159365</td>\n",
       "      <td>0.625000</td>\n",
       "      <td>0.680645</td>\n",
       "      <td>0.012406</td>\n",
       "    </tr>\n",
       "    <tr>\n",
       "      <th>75%</th>\n",
       "      <td>0.782164</td>\n",
       "      <td>0.678411</td>\n",
       "      <td>0.277083</td>\n",
       "      <td>0.206888</td>\n",
       "      <td>0.210714</td>\n",
       "      <td>0.761029</td>\n",
       "      <td>0.811290</td>\n",
       "      <td>0.071231</td>\n",
       "    </tr>\n",
       "    <tr>\n",
       "      <th>max</th>\n",
       "      <td>0.883041</td>\n",
       "      <td>0.832315</td>\n",
       "      <td>0.412698</td>\n",
       "      <td>0.371403</td>\n",
       "      <td>0.318182</td>\n",
       "      <td>0.941176</td>\n",
       "      <td>0.954839</td>\n",
       "      <td>0.551510</td>\n",
       "    </tr>\n",
       "  </tbody>\n",
       "</table>\n",
       "</div>"
      ],
      "text/plain": [
       "             ACC        AUC        F-1        MCC       Prec       Sens  \\\n",
       "count  50.000000  50.000000  50.000000  50.000000  50.000000  50.000000   \n",
       "mean    0.634152   0.638503   0.255073   0.168430   0.173336   0.613309   \n",
       "std     0.166901   0.070931   0.058409   0.075432   0.060296   0.186234   \n",
       "min     0.251462   0.499194   0.179104   0.053904   0.105634   0.187500   \n",
       "25%     0.507310   0.590625   0.208448   0.109350   0.128205   0.500000   \n",
       "50%     0.669591   0.629032   0.241582   0.153259   0.159365   0.625000   \n",
       "75%     0.782164   0.678411   0.277083   0.206888   0.210714   0.761029   \n",
       "max     0.883041   0.832315   0.412698   0.371403   0.318182   0.941176   \n",
       "\n",
       "            Spec      Thres  \n",
       "count  50.000000  50.000000  \n",
       "mean    0.636297   0.058079  \n",
       "std     0.200845   0.110091  \n",
       "min     0.180645   0.000024  \n",
       "25%     0.486280   0.002635  \n",
       "50%     0.680645   0.012406  \n",
       "75%     0.811290   0.071231  \n",
       "max     0.954839   0.551510  "
      ]
     },
     "execution_count": 32,
     "metadata": {},
     "output_type": "execute_result"
    }
   ],
   "source": [
    "scores = best_trial['result']['score']\n",
    "res = pd.DataFrame({'AUC': scores['test_auc'], \n",
    "              'ACC': scores['test_acc'], \n",
    "              'Sens': scores['test_sens'], \n",
    "              'Spec': scores['test_spec'],\n",
    "              'Prec': scores['test_prec'],\n",
    "              'F-1': scores['test_f1'],\n",
    "              'MCC': scores['test_mcc'],\n",
    "              'Thres': scores['test_thres']\n",
    "                   })\n",
    "res.describe()"
   ]
  },
  {
   "cell_type": "code",
   "execution_count": 33,
   "metadata": {},
   "outputs": [],
   "source": [
    "file_path = 'results/ros_ann_pca_disc_pfi_lung_ml_100_iter_rep_kfold.csv'\n",
    "res.to_csv(file_path, index=False)"
   ]
  },
  {
   "cell_type": "markdown",
   "metadata": {},
   "source": [
    "###### KPCA"
   ]
  },
  {
   "cell_type": "code",
   "execution_count": 34,
   "metadata": {},
   "outputs": [],
   "source": [
    "ann_sc_kpca_search = HyperoptCV(estimator=estim_pipeline['ann_sc_kpca_pipe'], \n",
    "                                hyper_space=dict(ann_feat_ext_space, **ros_space), cv=outer_cv_split, \n",
    "                                scoring=eval_metric, opt_metric=model_sel_metric, n_iter=n, \n",
    "                                random_seed=random_state, parallel=8)"
   ]
  },
  {
   "cell_type": "code",
   "execution_count": 35,
   "metadata": {
    "scrolled": true
   },
   "outputs": [
    {
     "name": "stdout",
     "output_type": "stream",
     "text": [
      "100%|██████████| 100/100 [13:38<00:00, 10.68s/it, best loss: 0.3265333916557823]\n",
      "CPU times: user 1min 5s, sys: 2.91 s, total: 1min 8s\n",
      "Wall time: 13min 38s\n"
     ]
    },
    {
     "data": {
      "text/plain": [
       "HyperoptCV(cv=RepeatedStratifiedKFold(n_repeats=10, n_splits=5, random_state=23),\n",
       "           estimator=Pipeline(memory=None,\n",
       "                              steps=[('scaler',\n",
       "                                      StandardScaler(copy=True, with_mean=True,\n",
       "                                                     with_std=True)),\n",
       "                                     ('dim_reducer',\n",
       "                                      KernelPCA(alpha=1.0, coef0=1, copy_X=True,\n",
       "                                                degree=3, eigen_solver='auto',\n",
       "                                                fit_inverse_transform=False,\n",
       "                                                gamma=None, kernel='rbf',\n",
       "                                                kernel_params=None,\n",
       "                                                max_iter=Non...\n",
       "                    'auc': 'roc_auc',\n",
       "                    'f1': make_scorer(opt_f1_score, needs_proba=True),\n",
       "                    'mcc': make_scorer(opt_mcc_score, needs_proba=True),\n",
       "                    'prec': make_scorer(opt_precision_score, needs_proba=True),\n",
       "                    'sens': make_scorer(opt_recall_score, needs_proba=True),\n",
       "                    'spec': make_scorer(opt_specificity_score, needs_proba=True),\n",
       "                    'thres': make_scorer(opt_threshold_score, needs_proba=True)},\n",
       "           train_score=False)"
      ]
     },
     "execution_count": 35,
     "metadata": {},
     "output_type": "execute_result"
    }
   ],
   "source": [
    "%%time\n",
    "best_trial = ann_sc_kpca_search.model_selection(X, y)"
   ]
  },
  {
   "cell_type": "code",
   "execution_count": 36,
   "metadata": {},
   "outputs": [
    {
     "data": {
      "text/plain": [
       "{'clf__alpha': 6.842149165139765e-05,\n",
       " 'clf__batch_size': 110,\n",
       " 'clf__hidden_layer_sizes': (100,),\n",
       " 'clf__learning_rate_init': 0.00018101273539469022,\n",
       " 'dim_reducer__n_components': 250,\n",
       " 're_sample__sampling_strategy': 1}"
      ]
     },
     "execution_count": 36,
     "metadata": {},
     "output_type": "execute_result"
    }
   ],
   "source": [
    "best_trial['result']['params']"
   ]
  },
  {
   "cell_type": "code",
   "execution_count": 37,
   "metadata": {},
   "outputs": [
    {
     "data": {
      "text/html": [
       "<div>\n",
       "<style scoped>\n",
       "    .dataframe tbody tr th:only-of-type {\n",
       "        vertical-align: middle;\n",
       "    }\n",
       "\n",
       "    .dataframe tbody tr th {\n",
       "        vertical-align: top;\n",
       "    }\n",
       "\n",
       "    .dataframe thead th {\n",
       "        text-align: right;\n",
       "    }\n",
       "</style>\n",
       "<table border=\"1\" class=\"dataframe\">\n",
       "  <thead>\n",
       "    <tr style=\"text-align: right;\">\n",
       "      <th></th>\n",
       "      <th>ACC</th>\n",
       "      <th>AUC</th>\n",
       "      <th>F-1</th>\n",
       "      <th>MCC</th>\n",
       "      <th>Prec</th>\n",
       "      <th>Sens</th>\n",
       "      <th>Spec</th>\n",
       "      <th>Thres</th>\n",
       "    </tr>\n",
       "  </thead>\n",
       "  <tbody>\n",
       "    <tr>\n",
       "      <th>count</th>\n",
       "      <td>50.000000</td>\n",
       "      <td>50.000000</td>\n",
       "      <td>50.000000</td>\n",
       "      <td>50.000000</td>\n",
       "      <td>50.000000</td>\n",
       "      <td>50.000000</td>\n",
       "      <td>50.000000</td>\n",
       "      <td>50.000000</td>\n",
       "    </tr>\n",
       "    <tr>\n",
       "      <th>mean</th>\n",
       "      <td>0.713450</td>\n",
       "      <td>0.673467</td>\n",
       "      <td>0.277433</td>\n",
       "      <td>0.201924</td>\n",
       "      <td>0.201109</td>\n",
       "      <td>0.567574</td>\n",
       "      <td>0.728622</td>\n",
       "      <td>0.460850</td>\n",
       "    </tr>\n",
       "    <tr>\n",
       "      <th>std</th>\n",
       "      <td>0.113832</td>\n",
       "      <td>0.070780</td>\n",
       "      <td>0.056465</td>\n",
       "      <td>0.067613</td>\n",
       "      <td>0.066110</td>\n",
       "      <td>0.183100</td>\n",
       "      <td>0.140504</td>\n",
       "      <td>0.040286</td>\n",
       "    </tr>\n",
       "    <tr>\n",
       "      <th>min</th>\n",
       "      <td>0.339181</td>\n",
       "      <td>0.504435</td>\n",
       "      <td>0.111111</td>\n",
       "      <td>0.086497</td>\n",
       "      <td>0.112000</td>\n",
       "      <td>0.062500</td>\n",
       "      <td>0.283871</td>\n",
       "      <td>0.314326</td>\n",
       "    </tr>\n",
       "    <tr>\n",
       "      <th>25%</th>\n",
       "      <td>0.654971</td>\n",
       "      <td>0.623555</td>\n",
       "      <td>0.244558</td>\n",
       "      <td>0.157284</td>\n",
       "      <td>0.164311</td>\n",
       "      <td>0.437500</td>\n",
       "      <td>0.642993</td>\n",
       "      <td>0.443136</td>\n",
       "    </tr>\n",
       "    <tr>\n",
       "      <th>50%</th>\n",
       "      <td>0.730994</td>\n",
       "      <td>0.673178</td>\n",
       "      <td>0.273619</td>\n",
       "      <td>0.193052</td>\n",
       "      <td>0.187953</td>\n",
       "      <td>0.562500</td>\n",
       "      <td>0.754043</td>\n",
       "      <td>0.470019</td>\n",
       "    </tr>\n",
       "    <tr>\n",
       "      <th>75%</th>\n",
       "      <td>0.799708</td>\n",
       "      <td>0.721304</td>\n",
       "      <td>0.311765</td>\n",
       "      <td>0.246770</td>\n",
       "      <td>0.218410</td>\n",
       "      <td>0.687500</td>\n",
       "      <td>0.836824</td>\n",
       "      <td>0.485911</td>\n",
       "    </tr>\n",
       "    <tr>\n",
       "      <th>max</th>\n",
       "      <td>0.906433</td>\n",
       "      <td>0.827016</td>\n",
       "      <td>0.416667</td>\n",
       "      <td>0.360702</td>\n",
       "      <td>0.500000</td>\n",
       "      <td>0.875000</td>\n",
       "      <td>0.993548</td>\n",
       "      <td>0.562949</td>\n",
       "    </tr>\n",
       "  </tbody>\n",
       "</table>\n",
       "</div>"
      ],
      "text/plain": [
       "             ACC        AUC        F-1        MCC       Prec       Sens  \\\n",
       "count  50.000000  50.000000  50.000000  50.000000  50.000000  50.000000   \n",
       "mean    0.713450   0.673467   0.277433   0.201924   0.201109   0.567574   \n",
       "std     0.113832   0.070780   0.056465   0.067613   0.066110   0.183100   \n",
       "min     0.339181   0.504435   0.111111   0.086497   0.112000   0.062500   \n",
       "25%     0.654971   0.623555   0.244558   0.157284   0.164311   0.437500   \n",
       "50%     0.730994   0.673178   0.273619   0.193052   0.187953   0.562500   \n",
       "75%     0.799708   0.721304   0.311765   0.246770   0.218410   0.687500   \n",
       "max     0.906433   0.827016   0.416667   0.360702   0.500000   0.875000   \n",
       "\n",
       "            Spec      Thres  \n",
       "count  50.000000  50.000000  \n",
       "mean    0.728622   0.460850  \n",
       "std     0.140504   0.040286  \n",
       "min     0.283871   0.314326  \n",
       "25%     0.642993   0.443136  \n",
       "50%     0.754043   0.470019  \n",
       "75%     0.836824   0.485911  \n",
       "max     0.993548   0.562949  "
      ]
     },
     "execution_count": 37,
     "metadata": {},
     "output_type": "execute_result"
    }
   ],
   "source": [
    "scores = best_trial['result']['score']\n",
    "res = pd.DataFrame({'AUC': scores['test_auc'], \n",
    "              'ACC': scores['test_acc'], \n",
    "              'Sens': scores['test_sens'], \n",
    "              'Spec': scores['test_spec'],\n",
    "              'Prec': scores['test_prec'],\n",
    "              'F-1': scores['test_f1'],\n",
    "              'MCC': scores['test_mcc'],\n",
    "              'Thres': scores['test_thres']\n",
    "                   })\n",
    "res.describe()"
   ]
  },
  {
   "cell_type": "code",
   "execution_count": 38,
   "metadata": {},
   "outputs": [],
   "source": [
    "file_path = 'results/ros_ann_kpca_disc_pfi_lung_ml_100_iter_rep_kfold.csv'\n",
    "res.to_csv(file_path, index=False)"
   ]
  },
  {
   "cell_type": "markdown",
   "metadata": {},
   "source": [
    "#### SMOTE"
   ]
  },
  {
   "cell_type": "code",
   "execution_count": 39,
   "metadata": {},
   "outputs": [],
   "source": [
    "from imblearn.over_sampling import SMOTE\n",
    "\n",
    "# Define the re-sampling method along with the hyper-parameter space\n",
    "smo = SMOTE(random_state=69)\n",
    "smo_space = {'re_sample__sampling_strategy': hp.choice('sampling_strategy', [1, 1/2, 1/3, 1/4]),\n",
    "             're_sample__k_neighbors': hp.choice('k_neighbors', [3, 5, 7, 9])}\n",
    "\n",
    "# Update Pipelines\n",
    "create_pipelines(dict_pipe=estim_pipeline, re_sampler=smo)"
   ]
  },
  {
   "cell_type": "markdown",
   "metadata": {},
   "source": [
    "##### RF"
   ]
  },
  {
   "cell_type": "markdown",
   "metadata": {},
   "source": [
    "###### ANOVA"
   ]
  },
  {
   "cell_type": "code",
   "execution_count": 40,
   "metadata": {},
   "outputs": [],
   "source": [
    "rf_anova_sc_search = HyperoptCV(estimator=estim_pipeline['rf_anova_sc_pipe'], \n",
    "                                hyper_space=dict(rf_feat_sel_space, **smo_space), cv=outer_cv_split, \n",
    "                                scoring=eval_metric, opt_metric=model_sel_metric, n_iter=n, \n",
    "                                random_seed=random_state, parallel=8)"
   ]
  },
  {
   "cell_type": "code",
   "execution_count": 41,
   "metadata": {
    "scrolled": true
   },
   "outputs": [
    {
     "name": "stdout",
     "output_type": "stream",
     "text": [
      "100%|██████████| 100/100 [18:17<00:00, 14.21s/it, best loss: 0.310500301880283] \n",
      "CPU times: user 55.7 s, sys: 2.49 s, total: 58.2 s\n",
      "Wall time: 18min 17s\n"
     ]
    },
    {
     "data": {
      "text/plain": [
       "HyperoptCV(cv=RepeatedStratifiedKFold(n_repeats=10, n_splits=5, random_state=23),\n",
       "           estimator=Pipeline(memory=None,\n",
       "                              steps=[('dim_reducer',\n",
       "                                      SelectKBest(k=150,\n",
       "                                                  score_func=<function f_classif at 0x7f3c33d89400>)),\n",
       "                                     ('scaler',\n",
       "                                      StandardScaler(copy=True, with_mean=True,\n",
       "                                                     with_std=True)),\n",
       "                                     ('re_sample',\n",
       "                                      SMOTE(k_neighbors=3, n_jobs=None,\n",
       "                                            random_state=69,\n",
       "                                            sampling_strategy=0.25))...\n",
       "                    'auc': 'roc_auc',\n",
       "                    'f1': make_scorer(opt_f1_score, needs_proba=True),\n",
       "                    'mcc': make_scorer(opt_mcc_score, needs_proba=True),\n",
       "                    'prec': make_scorer(opt_precision_score, needs_proba=True),\n",
       "                    'sens': make_scorer(opt_recall_score, needs_proba=True),\n",
       "                    'spec': make_scorer(opt_specificity_score, needs_proba=True),\n",
       "                    'thres': make_scorer(opt_threshold_score, needs_proba=True)},\n",
       "           train_score=False)"
      ]
     },
     "execution_count": 41,
     "metadata": {},
     "output_type": "execute_result"
    }
   ],
   "source": [
    "%%time\n",
    "best_trial = rf_anova_sc_search.model_selection(X, y)"
   ]
  },
  {
   "cell_type": "code",
   "execution_count": 42,
   "metadata": {},
   "outputs": [
    {
     "data": {
      "text/plain": [
       "{'clf__max_depth': 90,\n",
       " 'clf__min_samples_leaf': 0.03,\n",
       " 'clf__min_samples_split': 0.05,\n",
       " 'clf__n_estimators': 700,\n",
       " 'dim_reducer__k': 350,\n",
       " 're_sample__k_neighbors': 3,\n",
       " 're_sample__sampling_strategy': 0.25}"
      ]
     },
     "execution_count": 42,
     "metadata": {},
     "output_type": "execute_result"
    }
   ],
   "source": [
    "best_trial['result']['params']"
   ]
  },
  {
   "cell_type": "code",
   "execution_count": 43,
   "metadata": {},
   "outputs": [
    {
     "data": {
      "text/html": [
       "<div>\n",
       "<style scoped>\n",
       "    .dataframe tbody tr th:only-of-type {\n",
       "        vertical-align: middle;\n",
       "    }\n",
       "\n",
       "    .dataframe tbody tr th {\n",
       "        vertical-align: top;\n",
       "    }\n",
       "\n",
       "    .dataframe thead th {\n",
       "        text-align: right;\n",
       "    }\n",
       "</style>\n",
       "<table border=\"1\" class=\"dataframe\">\n",
       "  <thead>\n",
       "    <tr style=\"text-align: right;\">\n",
       "      <th></th>\n",
       "      <th>ACC</th>\n",
       "      <th>AUC</th>\n",
       "      <th>F-1</th>\n",
       "      <th>MCC</th>\n",
       "      <th>Prec</th>\n",
       "      <th>Sens</th>\n",
       "      <th>Spec</th>\n",
       "      <th>Thres</th>\n",
       "    </tr>\n",
       "  </thead>\n",
       "  <tbody>\n",
       "    <tr>\n",
       "      <th>count</th>\n",
       "      <td>50.000000</td>\n",
       "      <td>50.000000</td>\n",
       "      <td>50.000000</td>\n",
       "      <td>50.000000</td>\n",
       "      <td>50.000000</td>\n",
       "      <td>50.000000</td>\n",
       "      <td>50.000000</td>\n",
       "      <td>50.000000</td>\n",
       "    </tr>\n",
       "    <tr>\n",
       "      <th>mean</th>\n",
       "      <td>0.671579</td>\n",
       "      <td>0.689500</td>\n",
       "      <td>0.275097</td>\n",
       "      <td>0.201249</td>\n",
       "      <td>0.188489</td>\n",
       "      <td>0.630074</td>\n",
       "      <td>0.676019</td>\n",
       "      <td>0.197537</td>\n",
       "    </tr>\n",
       "    <tr>\n",
       "      <th>std</th>\n",
       "      <td>0.119750</td>\n",
       "      <td>0.062129</td>\n",
       "      <td>0.049534</td>\n",
       "      <td>0.062700</td>\n",
       "      <td>0.059010</td>\n",
       "      <td>0.167768</td>\n",
       "      <td>0.146919</td>\n",
       "      <td>0.053716</td>\n",
       "    </tr>\n",
       "    <tr>\n",
       "      <th>min</th>\n",
       "      <td>0.432749</td>\n",
       "      <td>0.543548</td>\n",
       "      <td>0.184615</td>\n",
       "      <td>0.055906</td>\n",
       "      <td>0.106796</td>\n",
       "      <td>0.235294</td>\n",
       "      <td>0.406452</td>\n",
       "      <td>0.124027</td>\n",
       "    </tr>\n",
       "    <tr>\n",
       "      <th>25%</th>\n",
       "      <td>0.562865</td>\n",
       "      <td>0.658669</td>\n",
       "      <td>0.241474</td>\n",
       "      <td>0.165868</td>\n",
       "      <td>0.145138</td>\n",
       "      <td>0.562500</td>\n",
       "      <td>0.548387</td>\n",
       "      <td>0.154961</td>\n",
       "    </tr>\n",
       "    <tr>\n",
       "      <th>50%</th>\n",
       "      <td>0.684211</td>\n",
       "      <td>0.697177</td>\n",
       "      <td>0.276393</td>\n",
       "      <td>0.202587</td>\n",
       "      <td>0.179563</td>\n",
       "      <td>0.687500</td>\n",
       "      <td>0.683871</td>\n",
       "      <td>0.185999</td>\n",
       "    </tr>\n",
       "    <tr>\n",
       "      <th>75%</th>\n",
       "      <td>0.757310</td>\n",
       "      <td>0.728831</td>\n",
       "      <td>0.293034</td>\n",
       "      <td>0.231421</td>\n",
       "      <td>0.203061</td>\n",
       "      <td>0.750000</td>\n",
       "      <td>0.767742</td>\n",
       "      <td>0.223617</td>\n",
       "    </tr>\n",
       "    <tr>\n",
       "      <th>max</th>\n",
       "      <td>0.877193</td>\n",
       "      <td>0.821371</td>\n",
       "      <td>0.409091</td>\n",
       "      <td>0.338513</td>\n",
       "      <td>0.368421</td>\n",
       "      <td>0.882353</td>\n",
       "      <td>0.948052</td>\n",
       "      <td>0.329120</td>\n",
       "    </tr>\n",
       "  </tbody>\n",
       "</table>\n",
       "</div>"
      ],
      "text/plain": [
       "             ACC        AUC        F-1        MCC       Prec       Sens  \\\n",
       "count  50.000000  50.000000  50.000000  50.000000  50.000000  50.000000   \n",
       "mean    0.671579   0.689500   0.275097   0.201249   0.188489   0.630074   \n",
       "std     0.119750   0.062129   0.049534   0.062700   0.059010   0.167768   \n",
       "min     0.432749   0.543548   0.184615   0.055906   0.106796   0.235294   \n",
       "25%     0.562865   0.658669   0.241474   0.165868   0.145138   0.562500   \n",
       "50%     0.684211   0.697177   0.276393   0.202587   0.179563   0.687500   \n",
       "75%     0.757310   0.728831   0.293034   0.231421   0.203061   0.750000   \n",
       "max     0.877193   0.821371   0.409091   0.338513   0.368421   0.882353   \n",
       "\n",
       "            Spec      Thres  \n",
       "count  50.000000  50.000000  \n",
       "mean    0.676019   0.197537  \n",
       "std     0.146919   0.053716  \n",
       "min     0.406452   0.124027  \n",
       "25%     0.548387   0.154961  \n",
       "50%     0.683871   0.185999  \n",
       "75%     0.767742   0.223617  \n",
       "max     0.948052   0.329120  "
      ]
     },
     "execution_count": 43,
     "metadata": {},
     "output_type": "execute_result"
    }
   ],
   "source": [
    "scores = best_trial['result']['score']\n",
    "res = pd.DataFrame({'AUC': scores['test_auc'], \n",
    "              'ACC': scores['test_acc'], \n",
    "              'Sens': scores['test_sens'], \n",
    "              'Spec': scores['test_spec'],\n",
    "              'Prec': scores['test_prec'],\n",
    "              'F-1': scores['test_f1'],\n",
    "              'MCC': scores['test_mcc'],\n",
    "              'Thres': scores['test_thres']\n",
    "                   })\n",
    "res.describe()"
   ]
  },
  {
   "cell_type": "code",
   "execution_count": 44,
   "metadata": {},
   "outputs": [],
   "source": [
    "file_path = 'results/smo_rf_anova_disc_pfi_lung_ml_100_iter_rep_kfold.csv'\n",
    "res.to_csv(file_path, index=False)"
   ]
  },
  {
   "cell_type": "markdown",
   "metadata": {},
   "source": [
    "###### PCA"
   ]
  },
  {
   "cell_type": "code",
   "execution_count": 45,
   "metadata": {},
   "outputs": [],
   "source": [
    "rf_sc_pca_search = HyperoptCV(estimator=estim_pipeline['rf_sc_pca_pipe'], \n",
    "                                hyper_space=dict(rf_feat_ext_space, **smo_space), cv=outer_cv_split, \n",
    "                                scoring=eval_metric, opt_metric=model_sel_metric, n_iter=n, \n",
    "                                random_seed=random_state, parallel=8)"
   ]
  },
  {
   "cell_type": "code",
   "execution_count": 46,
   "metadata": {
    "scrolled": true
   },
   "outputs": [
    {
     "name": "stdout",
     "output_type": "stream",
     "text": [
      "100%|██████████| 100/100 [35:24<00:00, 28.37s/it, best loss: 0.3501951009142661]\n",
      "CPU times: user 1min 9s, sys: 3.07 s, total: 1min 12s\n",
      "Wall time: 35min 24s\n"
     ]
    },
    {
     "data": {
      "text/plain": [
       "HyperoptCV(cv=RepeatedStratifiedKFold(n_repeats=10, n_splits=5, random_state=23),\n",
       "           estimator=Pipeline(memory=None,\n",
       "                              steps=[('scaler',\n",
       "                                      StandardScaler(copy=True, with_mean=True,\n",
       "                                                     with_std=True)),\n",
       "                                     ('dim_reducer',\n",
       "                                      PCA(copy=True, iterated_power='auto',\n",
       "                                          n_components=250, random_state=None,\n",
       "                                          svd_solver='auto', tol=0.0,\n",
       "                                          whiten=False)),\n",
       "                                     ('re_sample',\n",
       "                                      SMOTE(k_neighbors=9, n_jobs=...\n",
       "                    'auc': 'roc_auc',\n",
       "                    'f1': make_scorer(opt_f1_score, needs_proba=True),\n",
       "                    'mcc': make_scorer(opt_mcc_score, needs_proba=True),\n",
       "                    'prec': make_scorer(opt_precision_score, needs_proba=True),\n",
       "                    'sens': make_scorer(opt_recall_score, needs_proba=True),\n",
       "                    'spec': make_scorer(opt_specificity_score, needs_proba=True),\n",
       "                    'thres': make_scorer(opt_threshold_score, needs_proba=True)},\n",
       "           train_score=False)"
      ]
     },
     "execution_count": 46,
     "metadata": {},
     "output_type": "execute_result"
    }
   ],
   "source": [
    "%%time\n",
    "best_trial = rf_sc_pca_search.model_selection(X, y)"
   ]
  },
  {
   "cell_type": "code",
   "execution_count": 47,
   "metadata": {},
   "outputs": [
    {
     "data": {
      "text/plain": [
       "{'clf__max_depth': 70,\n",
       " 'clf__min_samples_leaf': 0.03,\n",
       " 'clf__min_samples_split': 0.05,\n",
       " 'clf__n_estimators': 700,\n",
       " 'dim_reducer__n_components': 150,\n",
       " 're_sample__k_neighbors': 9,\n",
       " 're_sample__sampling_strategy': 0.25}"
      ]
     },
     "execution_count": 47,
     "metadata": {},
     "output_type": "execute_result"
    }
   ],
   "source": [
    "best_trial['result']['params']"
   ]
  },
  {
   "cell_type": "code",
   "execution_count": 48,
   "metadata": {},
   "outputs": [
    {
     "data": {
      "text/html": [
       "<div>\n",
       "<style scoped>\n",
       "    .dataframe tbody tr th:only-of-type {\n",
       "        vertical-align: middle;\n",
       "    }\n",
       "\n",
       "    .dataframe tbody tr th {\n",
       "        vertical-align: top;\n",
       "    }\n",
       "\n",
       "    .dataframe thead th {\n",
       "        text-align: right;\n",
       "    }\n",
       "</style>\n",
       "<table border=\"1\" class=\"dataframe\">\n",
       "  <thead>\n",
       "    <tr style=\"text-align: right;\">\n",
       "      <th></th>\n",
       "      <th>ACC</th>\n",
       "      <th>AUC</th>\n",
       "      <th>F-1</th>\n",
       "      <th>MCC</th>\n",
       "      <th>Prec</th>\n",
       "      <th>Sens</th>\n",
       "      <th>Spec</th>\n",
       "      <th>Thres</th>\n",
       "    </tr>\n",
       "  </thead>\n",
       "  <tbody>\n",
       "    <tr>\n",
       "      <th>count</th>\n",
       "      <td>50.000000</td>\n",
       "      <td>50.000000</td>\n",
       "      <td>50.000000</td>\n",
       "      <td>50.000000</td>\n",
       "      <td>50.000000</td>\n",
       "      <td>50.000000</td>\n",
       "      <td>50.000000</td>\n",
       "      <td>50.000000</td>\n",
       "    </tr>\n",
       "    <tr>\n",
       "      <th>mean</th>\n",
       "      <td>0.692047</td>\n",
       "      <td>0.649805</td>\n",
       "      <td>0.265353</td>\n",
       "      <td>0.180719</td>\n",
       "      <td>0.193532</td>\n",
       "      <td>0.551618</td>\n",
       "      <td>0.706652</td>\n",
       "      <td>0.192657</td>\n",
       "    </tr>\n",
       "    <tr>\n",
       "      <th>std</th>\n",
       "      <td>0.130029</td>\n",
       "      <td>0.056493</td>\n",
       "      <td>0.057354</td>\n",
       "      <td>0.075037</td>\n",
       "      <td>0.082245</td>\n",
       "      <td>0.166671</td>\n",
       "      <td>0.157921</td>\n",
       "      <td>0.027660</td>\n",
       "    </tr>\n",
       "    <tr>\n",
       "      <th>min</th>\n",
       "      <td>0.374269</td>\n",
       "      <td>0.541129</td>\n",
       "      <td>0.166667</td>\n",
       "      <td>0.040562</td>\n",
       "      <td>0.110092</td>\n",
       "      <td>0.187500</td>\n",
       "      <td>0.318182</td>\n",
       "      <td>0.127043</td>\n",
       "    </tr>\n",
       "    <tr>\n",
       "      <th>25%</th>\n",
       "      <td>0.615497</td>\n",
       "      <td>0.614869</td>\n",
       "      <td>0.225893</td>\n",
       "      <td>0.128284</td>\n",
       "      <td>0.142857</td>\n",
       "      <td>0.437500</td>\n",
       "      <td>0.606452</td>\n",
       "      <td>0.176189</td>\n",
       "    </tr>\n",
       "    <tr>\n",
       "      <th>50%</th>\n",
       "      <td>0.701754</td>\n",
       "      <td>0.645993</td>\n",
       "      <td>0.253466</td>\n",
       "      <td>0.167259</td>\n",
       "      <td>0.168239</td>\n",
       "      <td>0.562500</td>\n",
       "      <td>0.718454</td>\n",
       "      <td>0.190891</td>\n",
       "    </tr>\n",
       "    <tr>\n",
       "      <th>75%</th>\n",
       "      <td>0.782164</td>\n",
       "      <td>0.683972</td>\n",
       "      <td>0.294949</td>\n",
       "      <td>0.227942</td>\n",
       "      <td>0.210220</td>\n",
       "      <td>0.687500</td>\n",
       "      <td>0.804839</td>\n",
       "      <td>0.204809</td>\n",
       "    </tr>\n",
       "    <tr>\n",
       "      <th>max</th>\n",
       "      <td>0.906433</td>\n",
       "      <td>0.805242</td>\n",
       "      <td>0.421053</td>\n",
       "      <td>0.356339</td>\n",
       "      <td>0.500000</td>\n",
       "      <td>0.882353</td>\n",
       "      <td>0.974194</td>\n",
       "      <td>0.280693</td>\n",
       "    </tr>\n",
       "  </tbody>\n",
       "</table>\n",
       "</div>"
      ],
      "text/plain": [
       "             ACC        AUC        F-1        MCC       Prec       Sens  \\\n",
       "count  50.000000  50.000000  50.000000  50.000000  50.000000  50.000000   \n",
       "mean    0.692047   0.649805   0.265353   0.180719   0.193532   0.551618   \n",
       "std     0.130029   0.056493   0.057354   0.075037   0.082245   0.166671   \n",
       "min     0.374269   0.541129   0.166667   0.040562   0.110092   0.187500   \n",
       "25%     0.615497   0.614869   0.225893   0.128284   0.142857   0.437500   \n",
       "50%     0.701754   0.645993   0.253466   0.167259   0.168239   0.562500   \n",
       "75%     0.782164   0.683972   0.294949   0.227942   0.210220   0.687500   \n",
       "max     0.906433   0.805242   0.421053   0.356339   0.500000   0.882353   \n",
       "\n",
       "            Spec      Thres  \n",
       "count  50.000000  50.000000  \n",
       "mean    0.706652   0.192657  \n",
       "std     0.157921   0.027660  \n",
       "min     0.318182   0.127043  \n",
       "25%     0.606452   0.176189  \n",
       "50%     0.718454   0.190891  \n",
       "75%     0.804839   0.204809  \n",
       "max     0.974194   0.280693  "
      ]
     },
     "execution_count": 48,
     "metadata": {},
     "output_type": "execute_result"
    }
   ],
   "source": [
    "scores = best_trial['result']['score']\n",
    "res = pd.DataFrame({'AUC': scores['test_auc'], \n",
    "              'ACC': scores['test_acc'], \n",
    "              'Sens': scores['test_sens'], \n",
    "              'Spec': scores['test_spec'],\n",
    "              'Prec': scores['test_prec'],\n",
    "              'F-1': scores['test_f1'],\n",
    "              'MCC': scores['test_mcc'],\n",
    "              'Thres': scores['test_thres']\n",
    "                   })\n",
    "res.describe()"
   ]
  },
  {
   "cell_type": "code",
   "execution_count": 49,
   "metadata": {},
   "outputs": [],
   "source": [
    "file_path = 'results/smo_rf_pca_disc_pfi_lung_ml_100_iter_rep_kfold.csv'\n",
    "res.to_csv(file_path, index=False)"
   ]
  },
  {
   "cell_type": "markdown",
   "metadata": {},
   "source": [
    "###### KPCA"
   ]
  },
  {
   "cell_type": "code",
   "execution_count": 50,
   "metadata": {},
   "outputs": [],
   "source": [
    "rf_sc_kpca_search = HyperoptCV(estimator=estim_pipeline['rf_sc_kpca_pipe'], \n",
    "                                hyper_space=dict(rf_feat_ext_space, **smo_space), cv=outer_cv_split, \n",
    "                                scoring=eval_metric, opt_metric=model_sel_metric, n_iter=n, \n",
    "                                random_seed=random_state, parallel=8)"
   ]
  },
  {
   "cell_type": "code",
   "execution_count": 51,
   "metadata": {
    "scrolled": true
   },
   "outputs": [
    {
     "name": "stdout",
     "output_type": "stream",
     "text": [
      "100%|██████████| 100/100 [22:56<00:00, 10.86s/it, best loss: 0.3350161783188349]\n",
      "CPU times: user 56.3 s, sys: 2.59 s, total: 58.9 s\n",
      "Wall time: 22min 56s\n"
     ]
    },
    {
     "data": {
      "text/plain": [
       "HyperoptCV(cv=RepeatedStratifiedKFold(n_repeats=10, n_splits=5, random_state=23),\n",
       "           estimator=Pipeline(memory=None,\n",
       "                              steps=[('scaler',\n",
       "                                      StandardScaler(copy=True, with_mean=True,\n",
       "                                                     with_std=True)),\n",
       "                                     ('dim_reducer',\n",
       "                                      KernelPCA(alpha=1.0, coef0=1, copy_X=True,\n",
       "                                                degree=3, eigen_solver='auto',\n",
       "                                                fit_inverse_transform=False,\n",
       "                                                gamma=None, kernel='rbf',\n",
       "                                                kernel_params=None,\n",
       "                                                max_iter=Non...\n",
       "                    'auc': 'roc_auc',\n",
       "                    'f1': make_scorer(opt_f1_score, needs_proba=True),\n",
       "                    'mcc': make_scorer(opt_mcc_score, needs_proba=True),\n",
       "                    'prec': make_scorer(opt_precision_score, needs_proba=True),\n",
       "                    'sens': make_scorer(opt_recall_score, needs_proba=True),\n",
       "                    'spec': make_scorer(opt_specificity_score, needs_proba=True),\n",
       "                    'thres': make_scorer(opt_threshold_score, needs_proba=True)},\n",
       "           train_score=False)"
      ]
     },
     "execution_count": 51,
     "metadata": {},
     "output_type": "execute_result"
    }
   ],
   "source": [
    "%%time\n",
    "best_trial = rf_sc_kpca_search.model_selection(X, y)"
   ]
  },
  {
   "cell_type": "code",
   "execution_count": 52,
   "metadata": {},
   "outputs": [
    {
     "data": {
      "text/plain": [
       "{'clf__max_depth': 70,\n",
       " 'clf__min_samples_leaf': 0.06,\n",
       " 'clf__min_samples_split': 0.05,\n",
       " 'clf__n_estimators': 700,\n",
       " 'dim_reducer__n_components': 150,\n",
       " 're_sample__k_neighbors': 9,\n",
       " 're_sample__sampling_strategy': 0.3333333333333333}"
      ]
     },
     "execution_count": 52,
     "metadata": {},
     "output_type": "execute_result"
    }
   ],
   "source": [
    "best_trial['result']['params']"
   ]
  },
  {
   "cell_type": "code",
   "execution_count": 53,
   "metadata": {},
   "outputs": [
    {
     "data": {
      "text/html": [
       "<div>\n",
       "<style scoped>\n",
       "    .dataframe tbody tr th:only-of-type {\n",
       "        vertical-align: middle;\n",
       "    }\n",
       "\n",
       "    .dataframe tbody tr th {\n",
       "        vertical-align: top;\n",
       "    }\n",
       "\n",
       "    .dataframe thead th {\n",
       "        text-align: right;\n",
       "    }\n",
       "</style>\n",
       "<table border=\"1\" class=\"dataframe\">\n",
       "  <thead>\n",
       "    <tr style=\"text-align: right;\">\n",
       "      <th></th>\n",
       "      <th>ACC</th>\n",
       "      <th>AUC</th>\n",
       "      <th>F-1</th>\n",
       "      <th>MCC</th>\n",
       "      <th>Prec</th>\n",
       "      <th>Sens</th>\n",
       "      <th>Spec</th>\n",
       "      <th>Thres</th>\n",
       "    </tr>\n",
       "  </thead>\n",
       "  <tbody>\n",
       "    <tr>\n",
       "      <th>count</th>\n",
       "      <td>50.000000</td>\n",
       "      <td>50.000000</td>\n",
       "      <td>50.000000</td>\n",
       "      <td>50.000000</td>\n",
       "      <td>50.000000</td>\n",
       "      <td>50.000000</td>\n",
       "      <td>50.000000</td>\n",
       "      <td>50.000000</td>\n",
       "    </tr>\n",
       "    <tr>\n",
       "      <th>mean</th>\n",
       "      <td>0.673450</td>\n",
       "      <td>0.664984</td>\n",
       "      <td>0.272772</td>\n",
       "      <td>0.195398</td>\n",
       "      <td>0.196024</td>\n",
       "      <td>0.604706</td>\n",
       "      <td>0.680834</td>\n",
       "      <td>0.244622</td>\n",
       "    </tr>\n",
       "    <tr>\n",
       "      <th>std</th>\n",
       "      <td>0.144058</td>\n",
       "      <td>0.061112</td>\n",
       "      <td>0.050089</td>\n",
       "      <td>0.065457</td>\n",
       "      <td>0.087175</td>\n",
       "      <td>0.167204</td>\n",
       "      <td>0.174234</td>\n",
       "      <td>0.031487</td>\n",
       "    </tr>\n",
       "    <tr>\n",
       "      <th>min</th>\n",
       "      <td>0.292398</td>\n",
       "      <td>0.525000</td>\n",
       "      <td>0.198675</td>\n",
       "      <td>0.074083</td>\n",
       "      <td>0.111111</td>\n",
       "      <td>0.187500</td>\n",
       "      <td>0.225806</td>\n",
       "      <td>0.175443</td>\n",
       "    </tr>\n",
       "    <tr>\n",
       "      <th>25%</th>\n",
       "      <td>0.599415</td>\n",
       "      <td>0.618944</td>\n",
       "      <td>0.238812</td>\n",
       "      <td>0.151921</td>\n",
       "      <td>0.147528</td>\n",
       "      <td>0.500000</td>\n",
       "      <td>0.588710</td>\n",
       "      <td>0.227512</td>\n",
       "    </tr>\n",
       "    <tr>\n",
       "      <th>50%</th>\n",
       "      <td>0.692982</td>\n",
       "      <td>0.673992</td>\n",
       "      <td>0.262821</td>\n",
       "      <td>0.191908</td>\n",
       "      <td>0.176242</td>\n",
       "      <td>0.625000</td>\n",
       "      <td>0.695769</td>\n",
       "      <td>0.245021</td>\n",
       "    </tr>\n",
       "    <tr>\n",
       "      <th>75%</th>\n",
       "      <td>0.776316</td>\n",
       "      <td>0.711794</td>\n",
       "      <td>0.312297</td>\n",
       "      <td>0.239371</td>\n",
       "      <td>0.233865</td>\n",
       "      <td>0.687500</td>\n",
       "      <td>0.793548</td>\n",
       "      <td>0.262056</td>\n",
       "    </tr>\n",
       "    <tr>\n",
       "      <th>max</th>\n",
       "      <td>0.912281</td>\n",
       "      <td>0.779985</td>\n",
       "      <td>0.400000</td>\n",
       "      <td>0.361510</td>\n",
       "      <td>0.666667</td>\n",
       "      <td>0.937500</td>\n",
       "      <td>0.987013</td>\n",
       "      <td>0.322776</td>\n",
       "    </tr>\n",
       "  </tbody>\n",
       "</table>\n",
       "</div>"
      ],
      "text/plain": [
       "             ACC        AUC        F-1        MCC       Prec       Sens  \\\n",
       "count  50.000000  50.000000  50.000000  50.000000  50.000000  50.000000   \n",
       "mean    0.673450   0.664984   0.272772   0.195398   0.196024   0.604706   \n",
       "std     0.144058   0.061112   0.050089   0.065457   0.087175   0.167204   \n",
       "min     0.292398   0.525000   0.198675   0.074083   0.111111   0.187500   \n",
       "25%     0.599415   0.618944   0.238812   0.151921   0.147528   0.500000   \n",
       "50%     0.692982   0.673992   0.262821   0.191908   0.176242   0.625000   \n",
       "75%     0.776316   0.711794   0.312297   0.239371   0.233865   0.687500   \n",
       "max     0.912281   0.779985   0.400000   0.361510   0.666667   0.937500   \n",
       "\n",
       "            Spec      Thres  \n",
       "count  50.000000  50.000000  \n",
       "mean    0.680834   0.244622  \n",
       "std     0.174234   0.031487  \n",
       "min     0.225806   0.175443  \n",
       "25%     0.588710   0.227512  \n",
       "50%     0.695769   0.245021  \n",
       "75%     0.793548   0.262056  \n",
       "max     0.987013   0.322776  "
      ]
     },
     "execution_count": 53,
     "metadata": {},
     "output_type": "execute_result"
    }
   ],
   "source": [
    "scores = best_trial['result']['score']\n",
    "res = pd.DataFrame({'AUC': scores['test_auc'], \n",
    "              'ACC': scores['test_acc'], \n",
    "              'Sens': scores['test_sens'], \n",
    "              'Spec': scores['test_spec'],\n",
    "              'Prec': scores['test_prec'],\n",
    "              'F-1': scores['test_f1'],\n",
    "              'MCC': scores['test_mcc'],\n",
    "              'Thres': scores['test_thres']\n",
    "                   })\n",
    "res.describe()"
   ]
  },
  {
   "cell_type": "code",
   "execution_count": 54,
   "metadata": {},
   "outputs": [],
   "source": [
    "file_path = 'results/smo_rf_kpca_disc_pfi_lung_ml_100_iter_rep_kfold.csv'\n",
    "res.to_csv(file_path, index=False)"
   ]
  },
  {
   "cell_type": "markdown",
   "metadata": {},
   "source": [
    "##### LR"
   ]
  },
  {
   "cell_type": "markdown",
   "metadata": {},
   "source": [
    "###### ANOVA"
   ]
  },
  {
   "cell_type": "code",
   "execution_count": 55,
   "metadata": {},
   "outputs": [],
   "source": [
    "log_reg_anova_sc_search = HyperoptCV(estimator=estim_pipeline['log_reg_anova_sc_pipe'], \n",
    "                                hyper_space=dict(log_reg_feat_sel_space, **smo_space), cv=outer_cv_split, \n",
    "                                scoring=eval_metric, opt_metric=model_sel_metric, n_iter=n, \n",
    "                                random_seed=random_state, parallel=8)"
   ]
  },
  {
   "cell_type": "code",
   "execution_count": 56,
   "metadata": {
    "scrolled": true
   },
   "outputs": [
    {
     "name": "stdout",
     "output_type": "stream",
     "text": [
      "100%|██████████| 100/100 [16:44<00:00, 17.14s/it, best loss: 0.30422328051455183]\n",
      "CPU times: user 52.2 s, sys: 2.64 s, total: 54.8 s\n",
      "Wall time: 16min 44s\n"
     ]
    },
    {
     "data": {
      "text/plain": [
       "HyperoptCV(cv=RepeatedStratifiedKFold(n_repeats=10, n_splits=5, random_state=23),\n",
       "           estimator=Pipeline(memory=None,\n",
       "                              steps=[('dim_reducer',\n",
       "                                      SelectKBest(k=300,\n",
       "                                                  score_func=<function f_classif at 0x7f3c33d89400>)),\n",
       "                                     ('scaler',\n",
       "                                      StandardScaler(copy=True, with_mean=True,\n",
       "                                                     with_std=True)),\n",
       "                                     ('re_sample',\n",
       "                                      SMOTE(k_neighbors=3, n_jobs=None,\n",
       "                                            random_state=69,\n",
       "                                            sampling_strategy=0.5)),...\n",
       "                    'auc': 'roc_auc',\n",
       "                    'f1': make_scorer(opt_f1_score, needs_proba=True),\n",
       "                    'mcc': make_scorer(opt_mcc_score, needs_proba=True),\n",
       "                    'prec': make_scorer(opt_precision_score, needs_proba=True),\n",
       "                    'sens': make_scorer(opt_recall_score, needs_proba=True),\n",
       "                    'spec': make_scorer(opt_specificity_score, needs_proba=True),\n",
       "                    'thres': make_scorer(opt_threshold_score, needs_proba=True)},\n",
       "           train_score=False)"
      ]
     },
     "execution_count": 56,
     "metadata": {},
     "output_type": "execute_result"
    }
   ],
   "source": [
    "%%time\n",
    "best_trial = log_reg_anova_sc_search.model_selection(X, y)"
   ]
  },
  {
   "cell_type": "code",
   "execution_count": 57,
   "metadata": {},
   "outputs": [
    {
     "data": {
      "text/plain": [
       "{'clf__C': 0.0005736647676464367,\n",
       " 'clf__max_iter': 10000000.0,\n",
       " 'clf__penalty': 'l2',\n",
       " 'dim_reducer__k': 300,\n",
       " 're_sample__k_neighbors': 7,\n",
       " 're_sample__sampling_strategy': 0.25}"
      ]
     },
     "execution_count": 57,
     "metadata": {},
     "output_type": "execute_result"
    }
   ],
   "source": [
    "best_trial['result']['params']"
   ]
  },
  {
   "cell_type": "code",
   "execution_count": 58,
   "metadata": {},
   "outputs": [
    {
     "data": {
      "text/html": [
       "<div>\n",
       "<style scoped>\n",
       "    .dataframe tbody tr th:only-of-type {\n",
       "        vertical-align: middle;\n",
       "    }\n",
       "\n",
       "    .dataframe tbody tr th {\n",
       "        vertical-align: top;\n",
       "    }\n",
       "\n",
       "    .dataframe thead th {\n",
       "        text-align: right;\n",
       "    }\n",
       "</style>\n",
       "<table border=\"1\" class=\"dataframe\">\n",
       "  <thead>\n",
       "    <tr style=\"text-align: right;\">\n",
       "      <th></th>\n",
       "      <th>ACC</th>\n",
       "      <th>AUC</th>\n",
       "      <th>F-1</th>\n",
       "      <th>MCC</th>\n",
       "      <th>Prec</th>\n",
       "      <th>Sens</th>\n",
       "      <th>Spec</th>\n",
       "      <th>Thres</th>\n",
       "    </tr>\n",
       "  </thead>\n",
       "  <tbody>\n",
       "    <tr>\n",
       "      <th>count</th>\n",
       "      <td>50.000000</td>\n",
       "      <td>50.000000</td>\n",
       "      <td>50.000000</td>\n",
       "      <td>50.000000</td>\n",
       "      <td>50.000000</td>\n",
       "      <td>50.000000</td>\n",
       "      <td>50.000000</td>\n",
       "      <td>50.000000</td>\n",
       "    </tr>\n",
       "    <tr>\n",
       "      <th>mean</th>\n",
       "      <td>0.689123</td>\n",
       "      <td>0.695777</td>\n",
       "      <td>0.285947</td>\n",
       "      <td>0.214618</td>\n",
       "      <td>0.196055</td>\n",
       "      <td>0.631103</td>\n",
       "      <td>0.695238</td>\n",
       "      <td>0.201226</td>\n",
       "    </tr>\n",
       "    <tr>\n",
       "      <th>std</th>\n",
       "      <td>0.103359</td>\n",
       "      <td>0.060969</td>\n",
       "      <td>0.050094</td>\n",
       "      <td>0.063678</td>\n",
       "      <td>0.059634</td>\n",
       "      <td>0.152144</td>\n",
       "      <td>0.126582</td>\n",
       "      <td>0.055301</td>\n",
       "    </tr>\n",
       "    <tr>\n",
       "      <th>min</th>\n",
       "      <td>0.415205</td>\n",
       "      <td>0.537903</td>\n",
       "      <td>0.193548</td>\n",
       "      <td>0.078875</td>\n",
       "      <td>0.111111</td>\n",
       "      <td>0.235294</td>\n",
       "      <td>0.380645</td>\n",
       "      <td>0.119364</td>\n",
       "    </tr>\n",
       "    <tr>\n",
       "      <th>25%</th>\n",
       "      <td>0.602339</td>\n",
       "      <td>0.657157</td>\n",
       "      <td>0.258065</td>\n",
       "      <td>0.175988</td>\n",
       "      <td>0.160494</td>\n",
       "      <td>0.537684</td>\n",
       "      <td>0.580645</td>\n",
       "      <td>0.162387</td>\n",
       "    </tr>\n",
       "    <tr>\n",
       "      <th>50%</th>\n",
       "      <td>0.704678</td>\n",
       "      <td>0.705691</td>\n",
       "      <td>0.276759</td>\n",
       "      <td>0.215871</td>\n",
       "      <td>0.178632</td>\n",
       "      <td>0.625000</td>\n",
       "      <td>0.706452</td>\n",
       "      <td>0.191742</td>\n",
       "    </tr>\n",
       "    <tr>\n",
       "      <th>75%</th>\n",
       "      <td>0.758772</td>\n",
       "      <td>0.734778</td>\n",
       "      <td>0.311840</td>\n",
       "      <td>0.251084</td>\n",
       "      <td>0.219322</td>\n",
       "      <td>0.750000</td>\n",
       "      <td>0.779032</td>\n",
       "      <td>0.220714</td>\n",
       "    </tr>\n",
       "    <tr>\n",
       "      <th>max</th>\n",
       "      <td>0.883041</td>\n",
       "      <td>0.815726</td>\n",
       "      <td>0.421053</td>\n",
       "      <td>0.356339</td>\n",
       "      <td>0.368421</td>\n",
       "      <td>0.882353</td>\n",
       "      <td>0.954545</td>\n",
       "      <td>0.397979</td>\n",
       "    </tr>\n",
       "  </tbody>\n",
       "</table>\n",
       "</div>"
      ],
      "text/plain": [
       "             ACC        AUC        F-1        MCC       Prec       Sens  \\\n",
       "count  50.000000  50.000000  50.000000  50.000000  50.000000  50.000000   \n",
       "mean    0.689123   0.695777   0.285947   0.214618   0.196055   0.631103   \n",
       "std     0.103359   0.060969   0.050094   0.063678   0.059634   0.152144   \n",
       "min     0.415205   0.537903   0.193548   0.078875   0.111111   0.235294   \n",
       "25%     0.602339   0.657157   0.258065   0.175988   0.160494   0.537684   \n",
       "50%     0.704678   0.705691   0.276759   0.215871   0.178632   0.625000   \n",
       "75%     0.758772   0.734778   0.311840   0.251084   0.219322   0.750000   \n",
       "max     0.883041   0.815726   0.421053   0.356339   0.368421   0.882353   \n",
       "\n",
       "            Spec      Thres  \n",
       "count  50.000000  50.000000  \n",
       "mean    0.695238   0.201226  \n",
       "std     0.126582   0.055301  \n",
       "min     0.380645   0.119364  \n",
       "25%     0.580645   0.162387  \n",
       "50%     0.706452   0.191742  \n",
       "75%     0.779032   0.220714  \n",
       "max     0.954545   0.397979  "
      ]
     },
     "execution_count": 58,
     "metadata": {},
     "output_type": "execute_result"
    }
   ],
   "source": [
    "scores = best_trial['result']['score']\n",
    "res = pd.DataFrame({'AUC': scores['test_auc'], \n",
    "              'ACC': scores['test_acc'], \n",
    "              'Sens': scores['test_sens'], \n",
    "              'Spec': scores['test_spec'],\n",
    "              'Prec': scores['test_prec'],\n",
    "              'F-1': scores['test_f1'],\n",
    "              'MCC': scores['test_mcc'],\n",
    "              'Thres': scores['test_thres']\n",
    "                   })\n",
    "res.describe()"
   ]
  },
  {
   "cell_type": "code",
   "execution_count": 59,
   "metadata": {},
   "outputs": [],
   "source": [
    "file_path = 'results/smo_lr_anova_disc_pfi_lung_ml_100_iter_rep_kfold.csv'\n",
    "res.to_csv(file_path, index=False)"
   ]
  },
  {
   "cell_type": "markdown",
   "metadata": {},
   "source": [
    "###### PCA"
   ]
  },
  {
   "cell_type": "code",
   "execution_count": 60,
   "metadata": {},
   "outputs": [],
   "source": [
    "log_reg_sc_pca_search = HyperoptCV(estimator=estim_pipeline['log_reg_sc_pca_pipe'], \n",
    "                                hyper_space=dict(log_reg_feat_ext_space, **smo_space), cv=outer_cv_split, \n",
    "                                scoring=eval_metric, opt_metric=model_sel_metric, n_iter=n, \n",
    "                                random_seed=random_state, parallel=8)"
   ]
  },
  {
   "cell_type": "code",
   "execution_count": 61,
   "metadata": {
    "scrolled": true
   },
   "outputs": [
    {
     "name": "stdout",
     "output_type": "stream",
     "text": [
      "100%|██████████| 100/100 [1:02:10<00:00, 24.40s/it, best loss: 0.31918762783705856]\n",
      "CPU times: user 56.3 s, sys: 2.39 s, total: 58.7 s\n",
      "Wall time: 1h 2min 10s\n"
     ]
    },
    {
     "data": {
      "text/plain": [
       "HyperoptCV(cv=RepeatedStratifiedKFold(n_repeats=10, n_splits=5, random_state=23),\n",
       "           estimator=Pipeline(memory=None,\n",
       "                              steps=[('scaler',\n",
       "                                      StandardScaler(copy=True, with_mean=True,\n",
       "                                                     with_std=True)),\n",
       "                                     ('dim_reducer',\n",
       "                                      PCA(copy=True, iterated_power='auto',\n",
       "                                          n_components=150, random_state=None,\n",
       "                                          svd_solver='auto', tol=0.0,\n",
       "                                          whiten=False)),\n",
       "                                     ('re_sample',\n",
       "                                      SMOTE(k_neighbors=7, n_jobs=...\n",
       "                    'auc': 'roc_auc',\n",
       "                    'f1': make_scorer(opt_f1_score, needs_proba=True),\n",
       "                    'mcc': make_scorer(opt_mcc_score, needs_proba=True),\n",
       "                    'prec': make_scorer(opt_precision_score, needs_proba=True),\n",
       "                    'sens': make_scorer(opt_recall_score, needs_proba=True),\n",
       "                    'spec': make_scorer(opt_specificity_score, needs_proba=True),\n",
       "                    'thres': make_scorer(opt_threshold_score, needs_proba=True)},\n",
       "           train_score=False)"
      ]
     },
     "execution_count": 61,
     "metadata": {},
     "output_type": "execute_result"
    }
   ],
   "source": [
    "%%time\n",
    "best_trial = log_reg_sc_pca_search.model_selection(X, y)"
   ]
  },
  {
   "cell_type": "code",
   "execution_count": 62,
   "metadata": {},
   "outputs": [
    {
     "data": {
      "text/plain": [
       "{'clf__C': 0.007568457206222195,\n",
       " 'clf__max_iter': 10000000.0,\n",
       " 'clf__penalty': 'l1',\n",
       " 'dim_reducer__n_components': 150,\n",
       " 're_sample__k_neighbors': 7,\n",
       " 're_sample__sampling_strategy': 0.3333333333333333}"
      ]
     },
     "execution_count": 62,
     "metadata": {},
     "output_type": "execute_result"
    }
   ],
   "source": [
    "best_trial['result']['params']"
   ]
  },
  {
   "cell_type": "code",
   "execution_count": 63,
   "metadata": {},
   "outputs": [
    {
     "data": {
      "text/html": [
       "<div>\n",
       "<style scoped>\n",
       "    .dataframe tbody tr th:only-of-type {\n",
       "        vertical-align: middle;\n",
       "    }\n",
       "\n",
       "    .dataframe tbody tr th {\n",
       "        vertical-align: top;\n",
       "    }\n",
       "\n",
       "    .dataframe thead th {\n",
       "        text-align: right;\n",
       "    }\n",
       "</style>\n",
       "<table border=\"1\" class=\"dataframe\">\n",
       "  <thead>\n",
       "    <tr style=\"text-align: right;\">\n",
       "      <th></th>\n",
       "      <th>ACC</th>\n",
       "      <th>AUC</th>\n",
       "      <th>F-1</th>\n",
       "      <th>MCC</th>\n",
       "      <th>Prec</th>\n",
       "      <th>Sens</th>\n",
       "      <th>Spec</th>\n",
       "      <th>Thres</th>\n",
       "    </tr>\n",
       "  </thead>\n",
       "  <tbody>\n",
       "    <tr>\n",
       "      <th>count</th>\n",
       "      <td>50.000000</td>\n",
       "      <td>50.000000</td>\n",
       "      <td>50.000000</td>\n",
       "      <td>50.000000</td>\n",
       "      <td>50.000000</td>\n",
       "      <td>50.000000</td>\n",
       "      <td>50.000000</td>\n",
       "      <td>50.000000</td>\n",
       "    </tr>\n",
       "    <tr>\n",
       "      <th>mean</th>\n",
       "      <td>0.677193</td>\n",
       "      <td>0.680812</td>\n",
       "      <td>0.281449</td>\n",
       "      <td>0.204892</td>\n",
       "      <td>0.194730</td>\n",
       "      <td>0.619632</td>\n",
       "      <td>0.683169</td>\n",
       "      <td>0.259168</td>\n",
       "    </tr>\n",
       "    <tr>\n",
       "      <th>std</th>\n",
       "      <td>0.144974</td>\n",
       "      <td>0.059027</td>\n",
       "      <td>0.056382</td>\n",
       "      <td>0.069430</td>\n",
       "      <td>0.065726</td>\n",
       "      <td>0.165829</td>\n",
       "      <td>0.174664</td>\n",
       "      <td>0.074565</td>\n",
       "    </tr>\n",
       "    <tr>\n",
       "      <th>min</th>\n",
       "      <td>0.245614</td>\n",
       "      <td>0.537097</td>\n",
       "      <td>0.188679</td>\n",
       "      <td>0.087904</td>\n",
       "      <td>0.104895</td>\n",
       "      <td>0.312500</td>\n",
       "      <td>0.174194</td>\n",
       "      <td>0.089232</td>\n",
       "    </tr>\n",
       "    <tr>\n",
       "      <th>25%</th>\n",
       "      <td>0.596491</td>\n",
       "      <td>0.637555</td>\n",
       "      <td>0.236689</td>\n",
       "      <td>0.150560</td>\n",
       "      <td>0.142534</td>\n",
       "      <td>0.515625</td>\n",
       "      <td>0.594512</td>\n",
       "      <td>0.215077</td>\n",
       "    </tr>\n",
       "    <tr>\n",
       "      <th>50%</th>\n",
       "      <td>0.710526</td>\n",
       "      <td>0.686895</td>\n",
       "      <td>0.269967</td>\n",
       "      <td>0.196367</td>\n",
       "      <td>0.188090</td>\n",
       "      <td>0.625000</td>\n",
       "      <td>0.709677</td>\n",
       "      <td>0.253770</td>\n",
       "    </tr>\n",
       "    <tr>\n",
       "      <th>75%</th>\n",
       "      <td>0.783626</td>\n",
       "      <td>0.721774</td>\n",
       "      <td>0.309148</td>\n",
       "      <td>0.249468</td>\n",
       "      <td>0.216615</td>\n",
       "      <td>0.701287</td>\n",
       "      <td>0.816862</td>\n",
       "      <td>0.302540</td>\n",
       "    </tr>\n",
       "    <tr>\n",
       "      <th>max</th>\n",
       "      <td>0.894737</td>\n",
       "      <td>0.794118</td>\n",
       "      <td>0.437500</td>\n",
       "      <td>0.379435</td>\n",
       "      <td>0.437500</td>\n",
       "      <td>0.937500</td>\n",
       "      <td>0.941935</td>\n",
       "      <td>0.425802</td>\n",
       "    </tr>\n",
       "  </tbody>\n",
       "</table>\n",
       "</div>"
      ],
      "text/plain": [
       "             ACC        AUC        F-1        MCC       Prec       Sens  \\\n",
       "count  50.000000  50.000000  50.000000  50.000000  50.000000  50.000000   \n",
       "mean    0.677193   0.680812   0.281449   0.204892   0.194730   0.619632   \n",
       "std     0.144974   0.059027   0.056382   0.069430   0.065726   0.165829   \n",
       "min     0.245614   0.537097   0.188679   0.087904   0.104895   0.312500   \n",
       "25%     0.596491   0.637555   0.236689   0.150560   0.142534   0.515625   \n",
       "50%     0.710526   0.686895   0.269967   0.196367   0.188090   0.625000   \n",
       "75%     0.783626   0.721774   0.309148   0.249468   0.216615   0.701287   \n",
       "max     0.894737   0.794118   0.437500   0.379435   0.437500   0.937500   \n",
       "\n",
       "            Spec      Thres  \n",
       "count  50.000000  50.000000  \n",
       "mean    0.683169   0.259168  \n",
       "std     0.174664   0.074565  \n",
       "min     0.174194   0.089232  \n",
       "25%     0.594512   0.215077  \n",
       "50%     0.709677   0.253770  \n",
       "75%     0.816862   0.302540  \n",
       "max     0.941935   0.425802  "
      ]
     },
     "execution_count": 63,
     "metadata": {},
     "output_type": "execute_result"
    }
   ],
   "source": [
    "scores = best_trial['result']['score']\n",
    "res = pd.DataFrame({'AUC': scores['test_auc'], \n",
    "              'ACC': scores['test_acc'], \n",
    "              'Sens': scores['test_sens'], \n",
    "              'Spec': scores['test_spec'],\n",
    "              'Prec': scores['test_prec'],\n",
    "              'F-1': scores['test_f1'],\n",
    "              'MCC': scores['test_mcc'],\n",
    "              'Thres': scores['test_thres']\n",
    "                   })\n",
    "res.describe()"
   ]
  },
  {
   "cell_type": "code",
   "execution_count": 64,
   "metadata": {},
   "outputs": [],
   "source": [
    "file_path = 'results/smo_lr_pca_disc_pfi_lung_ml_100_iter_rep_kfold.csv'\n",
    "res.to_csv(file_path, index=False)"
   ]
  },
  {
   "cell_type": "markdown",
   "metadata": {},
   "source": [
    "###### KPCA"
   ]
  },
  {
   "cell_type": "code",
   "execution_count": 65,
   "metadata": {},
   "outputs": [],
   "source": [
    "log_reg_sc_kpca_search = HyperoptCV(estimator=estim_pipeline['log_reg_sc_kpca_pipe'], \n",
    "                                hyper_space=dict(log_reg_feat_ext_space, **smo_space), cv=outer_cv_split, \n",
    "                                scoring=eval_metric, opt_metric=model_sel_metric, n_iter=n, \n",
    "                                random_seed=random_state, parallel=8)"
   ]
  },
  {
   "cell_type": "code",
   "execution_count": 66,
   "metadata": {
    "scrolled": true
   },
   "outputs": [
    {
     "name": "stdout",
     "output_type": "stream",
     "text": [
      "100%|██████████| 100/100 [12:54<00:00,  7.99s/it, best loss: 0.321220883954755]\n",
      "CPU times: user 58.8 s, sys: 2.62 s, total: 1min 1s\n",
      "Wall time: 12min 54s\n"
     ]
    },
    {
     "data": {
      "text/plain": [
       "HyperoptCV(cv=RepeatedStratifiedKFold(n_repeats=10, n_splits=5, random_state=23),\n",
       "           estimator=Pipeline(memory=None,\n",
       "                              steps=[('scaler',\n",
       "                                      StandardScaler(copy=True, with_mean=True,\n",
       "                                                     with_std=True)),\n",
       "                                     ('dim_reducer',\n",
       "                                      KernelPCA(alpha=1.0, coef0=1, copy_X=True,\n",
       "                                                degree=3, eigen_solver='auto',\n",
       "                                                fit_inverse_transform=False,\n",
       "                                                gamma=None, kernel='rbf',\n",
       "                                                kernel_params=None,\n",
       "                                                max_iter=Non...\n",
       "                    'auc': 'roc_auc',\n",
       "                    'f1': make_scorer(opt_f1_score, needs_proba=True),\n",
       "                    'mcc': make_scorer(opt_mcc_score, needs_proba=True),\n",
       "                    'prec': make_scorer(opt_precision_score, needs_proba=True),\n",
       "                    'sens': make_scorer(opt_recall_score, needs_proba=True),\n",
       "                    'spec': make_scorer(opt_specificity_score, needs_proba=True),\n",
       "                    'thres': make_scorer(opt_threshold_score, needs_proba=True)},\n",
       "           train_score=False)"
      ]
     },
     "execution_count": 66,
     "metadata": {},
     "output_type": "execute_result"
    }
   ],
   "source": [
    "%%time\n",
    "best_trial = log_reg_sc_kpca_search.model_selection(X, y)"
   ]
  },
  {
   "cell_type": "code",
   "execution_count": 67,
   "metadata": {},
   "outputs": [
    {
     "data": {
      "text/plain": [
       "{'clf__C': 0.5951167885875537,\n",
       " 'clf__max_iter': 100000.0,\n",
       " 'clf__penalty': 'l2',\n",
       " 'dim_reducer__n_components': 150,\n",
       " 're_sample__k_neighbors': 3,\n",
       " 're_sample__sampling_strategy': 0.25}"
      ]
     },
     "execution_count": 67,
     "metadata": {},
     "output_type": "execute_result"
    }
   ],
   "source": [
    "best_trial['result']['params']"
   ]
  },
  {
   "cell_type": "code",
   "execution_count": 68,
   "metadata": {},
   "outputs": [
    {
     "data": {
      "text/html": [
       "<div>\n",
       "<style scoped>\n",
       "    .dataframe tbody tr th:only-of-type {\n",
       "        vertical-align: middle;\n",
       "    }\n",
       "\n",
       "    .dataframe tbody tr th {\n",
       "        vertical-align: top;\n",
       "    }\n",
       "\n",
       "    .dataframe thead th {\n",
       "        text-align: right;\n",
       "    }\n",
       "</style>\n",
       "<table border=\"1\" class=\"dataframe\">\n",
       "  <thead>\n",
       "    <tr style=\"text-align: right;\">\n",
       "      <th></th>\n",
       "      <th>ACC</th>\n",
       "      <th>AUC</th>\n",
       "      <th>F-1</th>\n",
       "      <th>MCC</th>\n",
       "      <th>Prec</th>\n",
       "      <th>Sens</th>\n",
       "      <th>Spec</th>\n",
       "      <th>Thres</th>\n",
       "    </tr>\n",
       "  </thead>\n",
       "  <tbody>\n",
       "    <tr>\n",
       "      <th>count</th>\n",
       "      <td>50.000000</td>\n",
       "      <td>50.000000</td>\n",
       "      <td>50.000000</td>\n",
       "      <td>50.000000</td>\n",
       "      <td>50.000000</td>\n",
       "      <td>50.000000</td>\n",
       "      <td>50.000000</td>\n",
       "      <td>50.000000</td>\n",
       "    </tr>\n",
       "    <tr>\n",
       "      <th>mean</th>\n",
       "      <td>0.625965</td>\n",
       "      <td>0.678779</td>\n",
       "      <td>0.255769</td>\n",
       "      <td>0.180033</td>\n",
       "      <td>0.166364</td>\n",
       "      <td>0.665809</td>\n",
       "      <td>0.621883</td>\n",
       "      <td>0.190615</td>\n",
       "    </tr>\n",
       "    <tr>\n",
       "      <th>std</th>\n",
       "      <td>0.111984</td>\n",
       "      <td>0.058144</td>\n",
       "      <td>0.038083</td>\n",
       "      <td>0.051047</td>\n",
       "      <td>0.040740</td>\n",
       "      <td>0.162393</td>\n",
       "      <td>0.137730</td>\n",
       "      <td>0.025509</td>\n",
       "    </tr>\n",
       "    <tr>\n",
       "      <th>min</th>\n",
       "      <td>0.421053</td>\n",
       "      <td>0.560081</td>\n",
       "      <td>0.178571</td>\n",
       "      <td>0.059641</td>\n",
       "      <td>0.114583</td>\n",
       "      <td>0.125000</td>\n",
       "      <td>0.374194</td>\n",
       "      <td>0.146547</td>\n",
       "    </tr>\n",
       "    <tr>\n",
       "      <th>25%</th>\n",
       "      <td>0.533626</td>\n",
       "      <td>0.642475</td>\n",
       "      <td>0.233091</td>\n",
       "      <td>0.155523</td>\n",
       "      <td>0.138907</td>\n",
       "      <td>0.562500</td>\n",
       "      <td>0.511290</td>\n",
       "      <td>0.171922</td>\n",
       "    </tr>\n",
       "    <tr>\n",
       "      <th>50%</th>\n",
       "      <td>0.622807</td>\n",
       "      <td>0.686304</td>\n",
       "      <td>0.262461</td>\n",
       "      <td>0.187510</td>\n",
       "      <td>0.161395</td>\n",
       "      <td>0.687500</td>\n",
       "      <td>0.619355</td>\n",
       "      <td>0.185441</td>\n",
       "    </tr>\n",
       "    <tr>\n",
       "      <th>75%</th>\n",
       "      <td>0.716374</td>\n",
       "      <td>0.714513</td>\n",
       "      <td>0.276841</td>\n",
       "      <td>0.206806</td>\n",
       "      <td>0.179444</td>\n",
       "      <td>0.764706</td>\n",
       "      <td>0.732258</td>\n",
       "      <td>0.202731</td>\n",
       "    </tr>\n",
       "    <tr>\n",
       "      <th>max</th>\n",
       "      <td>0.894737</td>\n",
       "      <td>0.789919</td>\n",
       "      <td>0.357143</td>\n",
       "      <td>0.285195</td>\n",
       "      <td>0.333333</td>\n",
       "      <td>0.875000</td>\n",
       "      <td>0.974194</td>\n",
       "      <td>0.288389</td>\n",
       "    </tr>\n",
       "  </tbody>\n",
       "</table>\n",
       "</div>"
      ],
      "text/plain": [
       "             ACC        AUC        F-1        MCC       Prec       Sens  \\\n",
       "count  50.000000  50.000000  50.000000  50.000000  50.000000  50.000000   \n",
       "mean    0.625965   0.678779   0.255769   0.180033   0.166364   0.665809   \n",
       "std     0.111984   0.058144   0.038083   0.051047   0.040740   0.162393   \n",
       "min     0.421053   0.560081   0.178571   0.059641   0.114583   0.125000   \n",
       "25%     0.533626   0.642475   0.233091   0.155523   0.138907   0.562500   \n",
       "50%     0.622807   0.686304   0.262461   0.187510   0.161395   0.687500   \n",
       "75%     0.716374   0.714513   0.276841   0.206806   0.179444   0.764706   \n",
       "max     0.894737   0.789919   0.357143   0.285195   0.333333   0.875000   \n",
       "\n",
       "            Spec      Thres  \n",
       "count  50.000000  50.000000  \n",
       "mean    0.621883   0.190615  \n",
       "std     0.137730   0.025509  \n",
       "min     0.374194   0.146547  \n",
       "25%     0.511290   0.171922  \n",
       "50%     0.619355   0.185441  \n",
       "75%     0.732258   0.202731  \n",
       "max     0.974194   0.288389  "
      ]
     },
     "execution_count": 68,
     "metadata": {},
     "output_type": "execute_result"
    }
   ],
   "source": [
    "scores = best_trial['result']['score']\n",
    "res = pd.DataFrame({'AUC': scores['test_auc'], \n",
    "              'ACC': scores['test_acc'], \n",
    "              'Sens': scores['test_sens'], \n",
    "              'Spec': scores['test_spec'],\n",
    "              'Prec': scores['test_prec'],\n",
    "              'F-1': scores['test_f1'],\n",
    "              'MCC': scores['test_mcc'],\n",
    "              'Thres': scores['test_thres']\n",
    "                   })\n",
    "res.describe()"
   ]
  },
  {
   "cell_type": "code",
   "execution_count": 69,
   "metadata": {},
   "outputs": [],
   "source": [
    "file_path = 'results/smo_lr_kpca_disc_pfi_lung_ml_100_iter_rep_kfold.csv'\n",
    "res.to_csv(file_path, index=False)"
   ]
  },
  {
   "cell_type": "markdown",
   "metadata": {},
   "source": [
    "##### SVM"
   ]
  },
  {
   "cell_type": "markdown",
   "metadata": {},
   "source": [
    "###### ANOVA"
   ]
  },
  {
   "cell_type": "code",
   "execution_count": 70,
   "metadata": {},
   "outputs": [],
   "source": [
    "svm_anova_sc_search = HyperoptCV(estimator=estim_pipeline['svm_anova_sc_pipe'], \n",
    "                                hyper_space=dict(svm_feat_sel_space, **smo_space), cv=outer_cv_split, \n",
    "                                scoring=eval_metric, opt_metric=model_sel_metric, n_iter=n, \n",
    "                                random_seed=random_state, parallel=1)"
   ]
  },
  {
   "cell_type": "code",
   "execution_count": 71,
   "metadata": {
    "scrolled": true
   },
   "outputs": [
    {
     "name": "stdout",
     "output_type": "stream",
     "text": [
      "100%|██████████| 100/100 [1:23:18<00:00, 66.77s/it, best loss: 0.2965335949629119]\n",
      "CPU times: user 2h 49min 59s, sys: 1min 24s, total: 2h 51min 24s\n",
      "Wall time: 1h 23min 18s\n"
     ]
    },
    {
     "data": {
      "text/plain": [
       "HyperoptCV(cv=RepeatedStratifiedKFold(n_repeats=10, n_splits=5, random_state=23),\n",
       "           estimator=Pipeline(memory=None,\n",
       "                              steps=[('dim_reducer',\n",
       "                                      SelectKBest(k=300,\n",
       "                                                  score_func=<function f_classif at 0x7f3c33d89400>)),\n",
       "                                     ('scaler',\n",
       "                                      StandardScaler(copy=True, with_mean=True,\n",
       "                                                     with_std=True)),\n",
       "                                     ('re_sample',\n",
       "                                      SMOTE(k_neighbors=7, n_jobs=None,\n",
       "                                            random_state=69,\n",
       "                                            sampling_strategy=1)),\n",
       "                                     ('...\n",
       "                    'auc': 'roc_auc',\n",
       "                    'f1': make_scorer(opt_f1_score, needs_proba=True),\n",
       "                    'mcc': make_scorer(opt_mcc_score, needs_proba=True),\n",
       "                    'prec': make_scorer(opt_precision_score, needs_proba=True),\n",
       "                    'sens': make_scorer(opt_recall_score, needs_proba=True),\n",
       "                    'spec': make_scorer(opt_specificity_score, needs_proba=True),\n",
       "                    'thres': make_scorer(opt_threshold_score, needs_proba=True)},\n",
       "           train_score=False)"
      ]
     },
     "execution_count": 71,
     "metadata": {},
     "output_type": "execute_result"
    }
   ],
   "source": [
    "%%time\n",
    "best_trial = svm_anova_sc_search.model_selection(X, y)"
   ]
  },
  {
   "cell_type": "code",
   "execution_count": 72,
   "metadata": {},
   "outputs": [
    {
     "data": {
      "text/plain": [
       "{'clf__C': 1.3027563859589923,\n",
       " 'clf__gamma': 0.00010053145282036389,\n",
       " 'clf__max_iter': 10000.0,\n",
       " 'dim_reducer__k': 350,\n",
       " 're_sample__k_neighbors': 7,\n",
       " 're_sample__sampling_strategy': 0.3333333333333333}"
      ]
     },
     "execution_count": 72,
     "metadata": {},
     "output_type": "execute_result"
    }
   ],
   "source": [
    "best_trial['result']['params']"
   ]
  },
  {
   "cell_type": "code",
   "execution_count": 73,
   "metadata": {},
   "outputs": [
    {
     "data": {
      "text/html": [
       "<div>\n",
       "<style scoped>\n",
       "    .dataframe tbody tr th:only-of-type {\n",
       "        vertical-align: middle;\n",
       "    }\n",
       "\n",
       "    .dataframe tbody tr th {\n",
       "        vertical-align: top;\n",
       "    }\n",
       "\n",
       "    .dataframe thead th {\n",
       "        text-align: right;\n",
       "    }\n",
       "</style>\n",
       "<table border=\"1\" class=\"dataframe\">\n",
       "  <thead>\n",
       "    <tr style=\"text-align: right;\">\n",
       "      <th></th>\n",
       "      <th>ACC</th>\n",
       "      <th>AUC</th>\n",
       "      <th>F-1</th>\n",
       "      <th>MCC</th>\n",
       "      <th>Prec</th>\n",
       "      <th>Sens</th>\n",
       "      <th>Spec</th>\n",
       "      <th>Thres</th>\n",
       "    </tr>\n",
       "  </thead>\n",
       "  <tbody>\n",
       "    <tr>\n",
       "      <th>count</th>\n",
       "      <td>50.000000</td>\n",
       "      <td>50.000000</td>\n",
       "      <td>50.000000</td>\n",
       "      <td>50.000000</td>\n",
       "      <td>50.000000</td>\n",
       "      <td>50.000000</td>\n",
       "      <td>50.000000</td>\n",
       "      <td>50.000000</td>\n",
       "    </tr>\n",
       "    <tr>\n",
       "      <th>mean</th>\n",
       "      <td>0.691579</td>\n",
       "      <td>0.703466</td>\n",
       "      <td>0.293708</td>\n",
       "      <td>0.226564</td>\n",
       "      <td>0.206938</td>\n",
       "      <td>0.642574</td>\n",
       "      <td>0.696812</td>\n",
       "      <td>0.227405</td>\n",
       "    </tr>\n",
       "    <tr>\n",
       "      <th>std</th>\n",
       "      <td>0.108159</td>\n",
       "      <td>0.060444</td>\n",
       "      <td>0.054278</td>\n",
       "      <td>0.066669</td>\n",
       "      <td>0.077977</td>\n",
       "      <td>0.151602</td>\n",
       "      <td>0.132341</td>\n",
       "      <td>0.161551</td>\n",
       "    </tr>\n",
       "    <tr>\n",
       "      <th>min</th>\n",
       "      <td>0.467836</td>\n",
       "      <td>0.576210</td>\n",
       "      <td>0.202532</td>\n",
       "      <td>0.087638</td>\n",
       "      <td>0.121212</td>\n",
       "      <td>0.235294</td>\n",
       "      <td>0.438710</td>\n",
       "      <td>0.088515</td>\n",
       "    </tr>\n",
       "    <tr>\n",
       "      <th>25%</th>\n",
       "      <td>0.618421</td>\n",
       "      <td>0.671371</td>\n",
       "      <td>0.253976</td>\n",
       "      <td>0.176960</td>\n",
       "      <td>0.159048</td>\n",
       "      <td>0.562500</td>\n",
       "      <td>0.609677</td>\n",
       "      <td>0.140095</td>\n",
       "    </tr>\n",
       "    <tr>\n",
       "      <th>50%</th>\n",
       "      <td>0.687135</td>\n",
       "      <td>0.701626</td>\n",
       "      <td>0.284161</td>\n",
       "      <td>0.220142</td>\n",
       "      <td>0.181667</td>\n",
       "      <td>0.636029</td>\n",
       "      <td>0.687097</td>\n",
       "      <td>0.169199</td>\n",
       "    </tr>\n",
       "    <tr>\n",
       "      <th>75%</th>\n",
       "      <td>0.764620</td>\n",
       "      <td>0.740960</td>\n",
       "      <td>0.311352</td>\n",
       "      <td>0.261254</td>\n",
       "      <td>0.229297</td>\n",
       "      <td>0.750000</td>\n",
       "      <td>0.780645</td>\n",
       "      <td>0.243124</td>\n",
       "    </tr>\n",
       "    <tr>\n",
       "      <th>max</th>\n",
       "      <td>0.900585</td>\n",
       "      <td>0.869355</td>\n",
       "      <td>0.440678</td>\n",
       "      <td>0.415473</td>\n",
       "      <td>0.500000</td>\n",
       "      <td>0.941176</td>\n",
       "      <td>0.961039</td>\n",
       "      <td>0.851694</td>\n",
       "    </tr>\n",
       "  </tbody>\n",
       "</table>\n",
       "</div>"
      ],
      "text/plain": [
       "             ACC        AUC        F-1        MCC       Prec       Sens  \\\n",
       "count  50.000000  50.000000  50.000000  50.000000  50.000000  50.000000   \n",
       "mean    0.691579   0.703466   0.293708   0.226564   0.206938   0.642574   \n",
       "std     0.108159   0.060444   0.054278   0.066669   0.077977   0.151602   \n",
       "min     0.467836   0.576210   0.202532   0.087638   0.121212   0.235294   \n",
       "25%     0.618421   0.671371   0.253976   0.176960   0.159048   0.562500   \n",
       "50%     0.687135   0.701626   0.284161   0.220142   0.181667   0.636029   \n",
       "75%     0.764620   0.740960   0.311352   0.261254   0.229297   0.750000   \n",
       "max     0.900585   0.869355   0.440678   0.415473   0.500000   0.941176   \n",
       "\n",
       "            Spec      Thres  \n",
       "count  50.000000  50.000000  \n",
       "mean    0.696812   0.227405  \n",
       "std     0.132341   0.161551  \n",
       "min     0.438710   0.088515  \n",
       "25%     0.609677   0.140095  \n",
       "50%     0.687097   0.169199  \n",
       "75%     0.780645   0.243124  \n",
       "max     0.961039   0.851694  "
      ]
     },
     "execution_count": 73,
     "metadata": {},
     "output_type": "execute_result"
    }
   ],
   "source": [
    "scores = best_trial['result']['score']\n",
    "res = pd.DataFrame({'AUC': scores['test_auc'], \n",
    "              'ACC': scores['test_acc'], \n",
    "              'Sens': scores['test_sens'], \n",
    "              'Spec': scores['test_spec'],\n",
    "              'Prec': scores['test_prec'],\n",
    "              'F-1': scores['test_f1'],\n",
    "              'MCC': scores['test_mcc'],\n",
    "              'Thres': scores['test_thres']\n",
    "                   })\n",
    "res.describe()"
   ]
  },
  {
   "cell_type": "code",
   "execution_count": 74,
   "metadata": {},
   "outputs": [],
   "source": [
    "file_path = 'results/smo_svm_anova_disc_pfi_lung_ml_100_iter_rep_kfold.csv'\n",
    "res.to_csv(file_path, index=False)"
   ]
  },
  {
   "cell_type": "markdown",
   "metadata": {},
   "source": [
    "###### PCA"
   ]
  },
  {
   "cell_type": "code",
   "execution_count": 75,
   "metadata": {},
   "outputs": [],
   "source": [
    "svm_sc_pca_search = HyperoptCV(estimator=estim_pipeline['svm_sc_pca_pipe'], \n",
    "                                hyper_space=dict(svm_feat_ext_space, **smo_space), cv=outer_cv_split, \n",
    "                                scoring=eval_metric, opt_metric=model_sel_metric, n_iter=n, \n",
    "                                random_seed=random_state, parallel=8)"
   ]
  },
  {
   "cell_type": "code",
   "execution_count": 76,
   "metadata": {
    "scrolled": true
   },
   "outputs": [
    {
     "name": "stdout",
     "output_type": "stream",
     "text": [
      "100%|██████████| 100/100 [37:50<00:00, 29.68s/it, best loss: 0.3263955309396487] \n",
      "CPU times: user 1min 1s, sys: 2.93 s, total: 1min 3s\n",
      "Wall time: 37min 50s\n"
     ]
    },
    {
     "data": {
      "text/plain": [
       "HyperoptCV(cv=RepeatedStratifiedKFold(n_repeats=10, n_splits=5, random_state=23),\n",
       "           estimator=Pipeline(memory=None,\n",
       "                              steps=[('scaler',\n",
       "                                      StandardScaler(copy=True, with_mean=True,\n",
       "                                                     with_std=True)),\n",
       "                                     ('dim_reducer',\n",
       "                                      PCA(copy=True, iterated_power='auto',\n",
       "                                          n_components=250, random_state=None,\n",
       "                                          svd_solver='auto', tol=0.0,\n",
       "                                          whiten=False)),\n",
       "                                     ('re_sample',\n",
       "                                      SMOTE(k_neighbors=3, n_jobs=...\n",
       "                    'auc': 'roc_auc',\n",
       "                    'f1': make_scorer(opt_f1_score, needs_proba=True),\n",
       "                    'mcc': make_scorer(opt_mcc_score, needs_proba=True),\n",
       "                    'prec': make_scorer(opt_precision_score, needs_proba=True),\n",
       "                    'sens': make_scorer(opt_recall_score, needs_proba=True),\n",
       "                    'spec': make_scorer(opt_specificity_score, needs_proba=True),\n",
       "                    'thres': make_scorer(opt_threshold_score, needs_proba=True)},\n",
       "           train_score=False)"
      ]
     },
     "execution_count": 76,
     "metadata": {},
     "output_type": "execute_result"
    }
   ],
   "source": [
    "%%time\n",
    "best_trial = svm_sc_pca_search.model_selection(X, y)"
   ]
  },
  {
   "cell_type": "code",
   "execution_count": 77,
   "metadata": {},
   "outputs": [
    {
     "data": {
      "text/plain": [
       "{'clf__C': 0.00048211741877555764,\n",
       " 'clf__gamma': 0.00011058567403620571,\n",
       " 'clf__max_iter': 100000.0,\n",
       " 'dim_reducer__n_components': 150,\n",
       " 're_sample__k_neighbors': 5,\n",
       " 're_sample__sampling_strategy': 0.25}"
      ]
     },
     "execution_count": 77,
     "metadata": {},
     "output_type": "execute_result"
    }
   ],
   "source": [
    "best_trial['result']['params']"
   ]
  },
  {
   "cell_type": "code",
   "execution_count": 78,
   "metadata": {},
   "outputs": [
    {
     "data": {
      "text/html": [
       "<div>\n",
       "<style scoped>\n",
       "    .dataframe tbody tr th:only-of-type {\n",
       "        vertical-align: middle;\n",
       "    }\n",
       "\n",
       "    .dataframe tbody tr th {\n",
       "        vertical-align: top;\n",
       "    }\n",
       "\n",
       "    .dataframe thead th {\n",
       "        text-align: right;\n",
       "    }\n",
       "</style>\n",
       "<table border=\"1\" class=\"dataframe\">\n",
       "  <thead>\n",
       "    <tr style=\"text-align: right;\">\n",
       "      <th></th>\n",
       "      <th>ACC</th>\n",
       "      <th>AUC</th>\n",
       "      <th>F-1</th>\n",
       "      <th>MCC</th>\n",
       "      <th>Prec</th>\n",
       "      <th>Sens</th>\n",
       "      <th>Spec</th>\n",
       "      <th>Thres</th>\n",
       "    </tr>\n",
       "  </thead>\n",
       "  <tbody>\n",
       "    <tr>\n",
       "      <th>count</th>\n",
       "      <td>50.000000</td>\n",
       "      <td>50.000000</td>\n",
       "      <td>50.000000</td>\n",
       "      <td>50.000000</td>\n",
       "      <td>50.000000</td>\n",
       "      <td>50.000000</td>\n",
       "      <td>50.000000</td>\n",
       "      <td>50.000000</td>\n",
       "    </tr>\n",
       "    <tr>\n",
       "      <th>mean</th>\n",
       "      <td>0.683158</td>\n",
       "      <td>0.673604</td>\n",
       "      <td>0.282696</td>\n",
       "      <td>0.206380</td>\n",
       "      <td>0.212054</td>\n",
       "      <td>0.596838</td>\n",
       "      <td>0.692294</td>\n",
       "      <td>0.251902</td>\n",
       "    </tr>\n",
       "    <tr>\n",
       "      <th>std</th>\n",
       "      <td>0.143356</td>\n",
       "      <td>0.058840</td>\n",
       "      <td>0.071893</td>\n",
       "      <td>0.088447</td>\n",
       "      <td>0.118649</td>\n",
       "      <td>0.171224</td>\n",
       "      <td>0.173906</td>\n",
       "      <td>0.127030</td>\n",
       "    </tr>\n",
       "    <tr>\n",
       "      <th>min</th>\n",
       "      <td>0.350877</td>\n",
       "      <td>0.529435</td>\n",
       "      <td>0.192771</td>\n",
       "      <td>0.071205</td>\n",
       "      <td>0.115789</td>\n",
       "      <td>0.294118</td>\n",
       "      <td>0.290323</td>\n",
       "      <td>0.093001</td>\n",
       "    </tr>\n",
       "    <tr>\n",
       "      <th>25%</th>\n",
       "      <td>0.570175</td>\n",
       "      <td>0.637601</td>\n",
       "      <td>0.238812</td>\n",
       "      <td>0.149006</td>\n",
       "      <td>0.147608</td>\n",
       "      <td>0.500000</td>\n",
       "      <td>0.559677</td>\n",
       "      <td>0.158131</td>\n",
       "    </tr>\n",
       "    <tr>\n",
       "      <th>50%</th>\n",
       "      <td>0.652047</td>\n",
       "      <td>0.670069</td>\n",
       "      <td>0.263483</td>\n",
       "      <td>0.192442</td>\n",
       "      <td>0.164470</td>\n",
       "      <td>0.625000</td>\n",
       "      <td>0.658065</td>\n",
       "      <td>0.219420</td>\n",
       "    </tr>\n",
       "    <tr>\n",
       "      <th>75%</th>\n",
       "      <td>0.802632</td>\n",
       "      <td>0.715524</td>\n",
       "      <td>0.307040</td>\n",
       "      <td>0.231337</td>\n",
       "      <td>0.222222</td>\n",
       "      <td>0.687500</td>\n",
       "      <td>0.833871</td>\n",
       "      <td>0.297953</td>\n",
       "    </tr>\n",
       "    <tr>\n",
       "      <th>max</th>\n",
       "      <td>0.929825</td>\n",
       "      <td>0.826613</td>\n",
       "      <td>0.500000</td>\n",
       "      <td>0.499358</td>\n",
       "      <td>0.750000</td>\n",
       "      <td>0.937500</td>\n",
       "      <td>0.987097</td>\n",
       "      <td>0.605055</td>\n",
       "    </tr>\n",
       "  </tbody>\n",
       "</table>\n",
       "</div>"
      ],
      "text/plain": [
       "             ACC        AUC        F-1        MCC       Prec       Sens  \\\n",
       "count  50.000000  50.000000  50.000000  50.000000  50.000000  50.000000   \n",
       "mean    0.683158   0.673604   0.282696   0.206380   0.212054   0.596838   \n",
       "std     0.143356   0.058840   0.071893   0.088447   0.118649   0.171224   \n",
       "min     0.350877   0.529435   0.192771   0.071205   0.115789   0.294118   \n",
       "25%     0.570175   0.637601   0.238812   0.149006   0.147608   0.500000   \n",
       "50%     0.652047   0.670069   0.263483   0.192442   0.164470   0.625000   \n",
       "75%     0.802632   0.715524   0.307040   0.231337   0.222222   0.687500   \n",
       "max     0.929825   0.826613   0.500000   0.499358   0.750000   0.937500   \n",
       "\n",
       "            Spec      Thres  \n",
       "count  50.000000  50.000000  \n",
       "mean    0.692294   0.251902  \n",
       "std     0.173906   0.127030  \n",
       "min     0.290323   0.093001  \n",
       "25%     0.559677   0.158131  \n",
       "50%     0.658065   0.219420  \n",
       "75%     0.833871   0.297953  \n",
       "max     0.987097   0.605055  "
      ]
     },
     "execution_count": 78,
     "metadata": {},
     "output_type": "execute_result"
    }
   ],
   "source": [
    "scores = best_trial['result']['score']\n",
    "res = pd.DataFrame({'AUC': scores['test_auc'], \n",
    "              'ACC': scores['test_acc'], \n",
    "              'Sens': scores['test_sens'], \n",
    "              'Spec': scores['test_spec'],\n",
    "              'Prec': scores['test_prec'],\n",
    "              'F-1': scores['test_f1'],\n",
    "              'MCC': scores['test_mcc'],\n",
    "              'Thres': scores['test_thres']\n",
    "                   })\n",
    "res.describe()"
   ]
  },
  {
   "cell_type": "code",
   "execution_count": 79,
   "metadata": {},
   "outputs": [],
   "source": [
    "file_path = 'results/smo_svm_pca_disc_pfi_lung_ml_100_iter_rep_kfold.csv'\n",
    "res.to_csv(file_path, index=False)"
   ]
  },
  {
   "cell_type": "markdown",
   "metadata": {},
   "source": [
    "###### KPCA"
   ]
  },
  {
   "cell_type": "code",
   "execution_count": 80,
   "metadata": {},
   "outputs": [],
   "source": [
    "svm_sc_kpca_search = HyperoptCV(estimator=estim_pipeline['svm_sc_kpca_pipe'], \n",
    "                                hyper_space=dict(svm_feat_ext_space, **smo_space), cv=outer_cv_split, \n",
    "                                scoring=eval_metric, opt_metric=model_sel_metric, n_iter=n, \n",
    "                                random_seed=random_state, parallel=8)"
   ]
  },
  {
   "cell_type": "code",
   "execution_count": 81,
   "metadata": {
    "scrolled": true
   },
   "outputs": [
    {
     "name": "stdout",
     "output_type": "stream",
     "text": [
      "100%|██████████| 100/100 [20:52<00:00, 21.62s/it, best loss: 0.2992618534217205]\n",
      "CPU times: user 55.9 s, sys: 2.54 s, total: 58.5 s\n",
      "Wall time: 20min 52s\n"
     ]
    },
    {
     "data": {
      "text/plain": [
       "HyperoptCV(cv=RepeatedStratifiedKFold(n_repeats=10, n_splits=5, random_state=23),\n",
       "           estimator=Pipeline(memory=None,\n",
       "                              steps=[('scaler',\n",
       "                                      StandardScaler(copy=True, with_mean=True,\n",
       "                                                     with_std=True)),\n",
       "                                     ('dim_reducer',\n",
       "                                      KernelPCA(alpha=1.0, coef0=1, copy_X=True,\n",
       "                                                degree=3, eigen_solver='auto',\n",
       "                                                fit_inverse_transform=False,\n",
       "                                                gamma=None, kernel='rbf',\n",
       "                                                kernel_params=None,\n",
       "                                                max_iter=Non...\n",
       "                    'auc': 'roc_auc',\n",
       "                    'f1': make_scorer(opt_f1_score, needs_proba=True),\n",
       "                    'mcc': make_scorer(opt_mcc_score, needs_proba=True),\n",
       "                    'prec': make_scorer(opt_precision_score, needs_proba=True),\n",
       "                    'sens': make_scorer(opt_recall_score, needs_proba=True),\n",
       "                    'spec': make_scorer(opt_specificity_score, needs_proba=True),\n",
       "                    'thres': make_scorer(opt_threshold_score, needs_proba=True)},\n",
       "           train_score=False)"
      ]
     },
     "execution_count": 81,
     "metadata": {},
     "output_type": "execute_result"
    }
   ],
   "source": [
    "%%time\n",
    "best_trial = svm_sc_kpca_search.model_selection(X, y)"
   ]
  },
  {
   "cell_type": "code",
   "execution_count": 82,
   "metadata": {},
   "outputs": [
    {
     "data": {
      "text/plain": [
       "{'clf__C': 0.03121330748848976,\n",
       " 'clf__gamma': 0.008341103607021559,\n",
       " 'clf__max_iter': 10000000.0,\n",
       " 'dim_reducer__n_components': 250,\n",
       " 're_sample__k_neighbors': 7,\n",
       " 're_sample__sampling_strategy': 0.3333333333333333}"
      ]
     },
     "execution_count": 82,
     "metadata": {},
     "output_type": "execute_result"
    }
   ],
   "source": [
    "best_trial['result']['params']"
   ]
  },
  {
   "cell_type": "code",
   "execution_count": 83,
   "metadata": {},
   "outputs": [
    {
     "data": {
      "text/html": [
       "<div>\n",
       "<style scoped>\n",
       "    .dataframe tbody tr th:only-of-type {\n",
       "        vertical-align: middle;\n",
       "    }\n",
       "\n",
       "    .dataframe tbody tr th {\n",
       "        vertical-align: top;\n",
       "    }\n",
       "\n",
       "    .dataframe thead th {\n",
       "        text-align: right;\n",
       "    }\n",
       "</style>\n",
       "<table border=\"1\" class=\"dataframe\">\n",
       "  <thead>\n",
       "    <tr style=\"text-align: right;\">\n",
       "      <th></th>\n",
       "      <th>ACC</th>\n",
       "      <th>AUC</th>\n",
       "      <th>F-1</th>\n",
       "      <th>MCC</th>\n",
       "      <th>Prec</th>\n",
       "      <th>Sens</th>\n",
       "      <th>Spec</th>\n",
       "      <th>Thres</th>\n",
       "    </tr>\n",
       "  </thead>\n",
       "  <tbody>\n",
       "    <tr>\n",
       "      <th>count</th>\n",
       "      <td>50.000000</td>\n",
       "      <td>50.000000</td>\n",
       "      <td>50.000000</td>\n",
       "      <td>50.000000</td>\n",
       "      <td>50.000000</td>\n",
       "      <td>50.000000</td>\n",
       "      <td>50.000000</td>\n",
       "      <td>50.000000</td>\n",
       "    </tr>\n",
       "    <tr>\n",
       "      <th>mean</th>\n",
       "      <td>0.674152</td>\n",
       "      <td>0.700738</td>\n",
       "      <td>0.289543</td>\n",
       "      <td>0.221789</td>\n",
       "      <td>0.199501</td>\n",
       "      <td>0.658897</td>\n",
       "      <td>0.675652</td>\n",
       "      <td>0.300594</td>\n",
       "    </tr>\n",
       "    <tr>\n",
       "      <th>std</th>\n",
       "      <td>0.128812</td>\n",
       "      <td>0.068652</td>\n",
       "      <td>0.064890</td>\n",
       "      <td>0.078078</td>\n",
       "      <td>0.074939</td>\n",
       "      <td>0.168071</td>\n",
       "      <td>0.155856</td>\n",
       "      <td>0.100925</td>\n",
       "    </tr>\n",
       "    <tr>\n",
       "      <th>min</th>\n",
       "      <td>0.380117</td>\n",
       "      <td>0.529032</td>\n",
       "      <td>0.148148</td>\n",
       "      <td>0.079456</td>\n",
       "      <td>0.121212</td>\n",
       "      <td>0.125000</td>\n",
       "      <td>0.322581</td>\n",
       "      <td>0.139051</td>\n",
       "    </tr>\n",
       "    <tr>\n",
       "      <th>25%</th>\n",
       "      <td>0.609649</td>\n",
       "      <td>0.653594</td>\n",
       "      <td>0.241641</td>\n",
       "      <td>0.162194</td>\n",
       "      <td>0.152868</td>\n",
       "      <td>0.562500</td>\n",
       "      <td>0.598052</td>\n",
       "      <td>0.238595</td>\n",
       "    </tr>\n",
       "    <tr>\n",
       "      <th>50%</th>\n",
       "      <td>0.684211</td>\n",
       "      <td>0.688903</td>\n",
       "      <td>0.268468</td>\n",
       "      <td>0.196377</td>\n",
       "      <td>0.174457</td>\n",
       "      <td>0.687500</td>\n",
       "      <td>0.680645</td>\n",
       "      <td>0.272133</td>\n",
       "    </tr>\n",
       "    <tr>\n",
       "      <th>75%</th>\n",
       "      <td>0.752924</td>\n",
       "      <td>0.742641</td>\n",
       "      <td>0.331395</td>\n",
       "      <td>0.279006</td>\n",
       "      <td>0.217210</td>\n",
       "      <td>0.761029</td>\n",
       "      <td>0.764118</td>\n",
       "      <td>0.326036</td>\n",
       "    </tr>\n",
       "    <tr>\n",
       "      <th>max</th>\n",
       "      <td>0.900585</td>\n",
       "      <td>0.864113</td>\n",
       "      <td>0.484848</td>\n",
       "      <td>0.430130</td>\n",
       "      <td>0.470588</td>\n",
       "      <td>0.941176</td>\n",
       "      <td>0.954545</td>\n",
       "      <td>0.597029</td>\n",
       "    </tr>\n",
       "  </tbody>\n",
       "</table>\n",
       "</div>"
      ],
      "text/plain": [
       "             ACC        AUC        F-1        MCC       Prec       Sens  \\\n",
       "count  50.000000  50.000000  50.000000  50.000000  50.000000  50.000000   \n",
       "mean    0.674152   0.700738   0.289543   0.221789   0.199501   0.658897   \n",
       "std     0.128812   0.068652   0.064890   0.078078   0.074939   0.168071   \n",
       "min     0.380117   0.529032   0.148148   0.079456   0.121212   0.125000   \n",
       "25%     0.609649   0.653594   0.241641   0.162194   0.152868   0.562500   \n",
       "50%     0.684211   0.688903   0.268468   0.196377   0.174457   0.687500   \n",
       "75%     0.752924   0.742641   0.331395   0.279006   0.217210   0.761029   \n",
       "max     0.900585   0.864113   0.484848   0.430130   0.470588   0.941176   \n",
       "\n",
       "            Spec      Thres  \n",
       "count  50.000000  50.000000  \n",
       "mean    0.675652   0.300594  \n",
       "std     0.155856   0.100925  \n",
       "min     0.322581   0.139051  \n",
       "25%     0.598052   0.238595  \n",
       "50%     0.680645   0.272133  \n",
       "75%     0.764118   0.326036  \n",
       "max     0.954545   0.597029  "
      ]
     },
     "execution_count": 83,
     "metadata": {},
     "output_type": "execute_result"
    }
   ],
   "source": [
    "scores = best_trial['result']['score']\n",
    "res = pd.DataFrame({'AUC': scores['test_auc'], \n",
    "              'ACC': scores['test_acc'], \n",
    "              'Sens': scores['test_sens'], \n",
    "              'Spec': scores['test_spec'],\n",
    "              'Prec': scores['test_prec'],\n",
    "              'F-1': scores['test_f1'],\n",
    "              'MCC': scores['test_mcc'],\n",
    "              'Thres': scores['test_thres']\n",
    "                   })\n",
    "res.describe()"
   ]
  },
  {
   "cell_type": "code",
   "execution_count": 84,
   "metadata": {},
   "outputs": [],
   "source": [
    "file_path = 'results/smo_svm_kpca_disc_pfi_lung_ml_100_iter_rep_kfold.csv'\n",
    "res.to_csv(file_path, index=False)"
   ]
  },
  {
   "cell_type": "markdown",
   "metadata": {},
   "source": [
    "##### ANN"
   ]
  },
  {
   "cell_type": "markdown",
   "metadata": {},
   "source": [
    "###### ANOVA"
   ]
  },
  {
   "cell_type": "code",
   "execution_count": 85,
   "metadata": {},
   "outputs": [],
   "source": [
    "ann_anova_sc_search = HyperoptCV(estimator=estim_pipeline['ann_anova_sc_pipe'], \n",
    "                                hyper_space=dict(ann_feat_sel_space, **smo_space), cv=outer_cv_split, \n",
    "                                scoring=eval_metric, opt_metric=model_sel_metric, n_iter=n, \n",
    "                                random_seed=random_state, parallel=8)"
   ]
  },
  {
   "cell_type": "code",
   "execution_count": 86,
   "metadata": {
    "scrolled": true
   },
   "outputs": [
    {
     "name": "stdout",
     "output_type": "stream",
     "text": [
      "100%|██████████| 100/100 [08:23<00:00,  4.17s/it, best loss: 0.3269799033983094]\n",
      "CPU times: user 1min 4s, sys: 2.91 s, total: 1min 7s\n",
      "Wall time: 8min 23s\n"
     ]
    },
    {
     "data": {
      "text/plain": [
       "HyperoptCV(cv=RepeatedStratifiedKFold(n_repeats=10, n_splits=5, random_state=23),\n",
       "           estimator=Pipeline(memory=None,\n",
       "                              steps=[('dim_reducer',\n",
       "                                      SelectKBest(k=250,\n",
       "                                                  score_func=<function f_classif at 0x7f3c33d89400>)),\n",
       "                                     ('scaler',\n",
       "                                      StandardScaler(copy=True, with_mean=True,\n",
       "                                                     with_std=True)),\n",
       "                                     ('re_sample',\n",
       "                                      SMOTE(k_neighbors=9, n_jobs=None,\n",
       "                                            random_state=69,\n",
       "                                            sampling_strategy=0.3333...\n",
       "                    'auc': 'roc_auc',\n",
       "                    'f1': make_scorer(opt_f1_score, needs_proba=True),\n",
       "                    'mcc': make_scorer(opt_mcc_score, needs_proba=True),\n",
       "                    'prec': make_scorer(opt_precision_score, needs_proba=True),\n",
       "                    'sens': make_scorer(opt_recall_score, needs_proba=True),\n",
       "                    'spec': make_scorer(opt_specificity_score, needs_proba=True),\n",
       "                    'thres': make_scorer(opt_threshold_score, needs_proba=True)},\n",
       "           train_score=False)"
      ]
     },
     "execution_count": 86,
     "metadata": {},
     "output_type": "execute_result"
    }
   ],
   "source": [
    "%%time\n",
    "best_trial = ann_anova_sc_search.model_selection(X, y)"
   ]
  },
  {
   "cell_type": "code",
   "execution_count": 87,
   "metadata": {},
   "outputs": [
    {
     "data": {
      "text/plain": [
       "{'clf__alpha': 2.6196908117454092e-06,\n",
       " 'clf__batch_size': 110,\n",
       " 'clf__hidden_layer_sizes': (50,),\n",
       " 'clf__learning_rate_init': 6.37391696496336e-05,\n",
       " 'dim_reducer__k': 300,\n",
       " 're_sample__k_neighbors': 9,\n",
       " 're_sample__sampling_strategy': 1}"
      ]
     },
     "execution_count": 87,
     "metadata": {},
     "output_type": "execute_result"
    }
   ],
   "source": [
    "best_trial['result']['params']"
   ]
  },
  {
   "cell_type": "code",
   "execution_count": 88,
   "metadata": {},
   "outputs": [
    {
     "data": {
      "text/html": [
       "<div>\n",
       "<style scoped>\n",
       "    .dataframe tbody tr th:only-of-type {\n",
       "        vertical-align: middle;\n",
       "    }\n",
       "\n",
       "    .dataframe tbody tr th {\n",
       "        vertical-align: top;\n",
       "    }\n",
       "\n",
       "    .dataframe thead th {\n",
       "        text-align: right;\n",
       "    }\n",
       "</style>\n",
       "<table border=\"1\" class=\"dataframe\">\n",
       "  <thead>\n",
       "    <tr style=\"text-align: right;\">\n",
       "      <th></th>\n",
       "      <th>ACC</th>\n",
       "      <th>AUC</th>\n",
       "      <th>F-1</th>\n",
       "      <th>MCC</th>\n",
       "      <th>Prec</th>\n",
       "      <th>Sens</th>\n",
       "      <th>Spec</th>\n",
       "      <th>Thres</th>\n",
       "    </tr>\n",
       "  </thead>\n",
       "  <tbody>\n",
       "    <tr>\n",
       "      <th>count</th>\n",
       "      <td>50.000000</td>\n",
       "      <td>50.000000</td>\n",
       "      <td>50.000000</td>\n",
       "      <td>50.000000</td>\n",
       "      <td>50.000000</td>\n",
       "      <td>50.000000</td>\n",
       "      <td>50.000000</td>\n",
       "      <td>50.000000</td>\n",
       "    </tr>\n",
       "    <tr>\n",
       "      <th>mean</th>\n",
       "      <td>0.676257</td>\n",
       "      <td>0.673020</td>\n",
       "      <td>0.273170</td>\n",
       "      <td>0.198958</td>\n",
       "      <td>0.204128</td>\n",
       "      <td>0.602868</td>\n",
       "      <td>0.684024</td>\n",
       "      <td>0.389912</td>\n",
       "    </tr>\n",
       "    <tr>\n",
       "      <th>std</th>\n",
       "      <td>0.139352</td>\n",
       "      <td>0.067506</td>\n",
       "      <td>0.055578</td>\n",
       "      <td>0.076294</td>\n",
       "      <td>0.109712</td>\n",
       "      <td>0.189692</td>\n",
       "      <td>0.170054</td>\n",
       "      <td>0.197696</td>\n",
       "    </tr>\n",
       "    <tr>\n",
       "      <th>min</th>\n",
       "      <td>0.339181</td>\n",
       "      <td>0.543952</td>\n",
       "      <td>0.191781</td>\n",
       "      <td>0.059668</td>\n",
       "      <td>0.113208</td>\n",
       "      <td>0.187500</td>\n",
       "      <td>0.277419</td>\n",
       "      <td>0.102853</td>\n",
       "    </tr>\n",
       "    <tr>\n",
       "      <th>25%</th>\n",
       "      <td>0.557018</td>\n",
       "      <td>0.622681</td>\n",
       "      <td>0.224359</td>\n",
       "      <td>0.145142</td>\n",
       "      <td>0.136755</td>\n",
       "      <td>0.445772</td>\n",
       "      <td>0.540323</td>\n",
       "      <td>0.242653</td>\n",
       "    </tr>\n",
       "    <tr>\n",
       "      <th>50%</th>\n",
       "      <td>0.690058</td>\n",
       "      <td>0.662903</td>\n",
       "      <td>0.260870</td>\n",
       "      <td>0.170403</td>\n",
       "      <td>0.178211</td>\n",
       "      <td>0.647059</td>\n",
       "      <td>0.683871</td>\n",
       "      <td>0.331910</td>\n",
       "    </tr>\n",
       "    <tr>\n",
       "      <th>75%</th>\n",
       "      <td>0.782164</td>\n",
       "      <td>0.719254</td>\n",
       "      <td>0.311688</td>\n",
       "      <td>0.261159</td>\n",
       "      <td>0.215110</td>\n",
       "      <td>0.750000</td>\n",
       "      <td>0.810411</td>\n",
       "      <td>0.523435</td>\n",
       "    </tr>\n",
       "    <tr>\n",
       "      <th>max</th>\n",
       "      <td>0.918129</td>\n",
       "      <td>0.824597</td>\n",
       "      <td>0.413793</td>\n",
       "      <td>0.362433</td>\n",
       "      <td>0.750000</td>\n",
       "      <td>0.937500</td>\n",
       "      <td>0.993548</td>\n",
       "      <td>0.915404</td>\n",
       "    </tr>\n",
       "  </tbody>\n",
       "</table>\n",
       "</div>"
      ],
      "text/plain": [
       "             ACC        AUC        F-1        MCC       Prec       Sens  \\\n",
       "count  50.000000  50.000000  50.000000  50.000000  50.000000  50.000000   \n",
       "mean    0.676257   0.673020   0.273170   0.198958   0.204128   0.602868   \n",
       "std     0.139352   0.067506   0.055578   0.076294   0.109712   0.189692   \n",
       "min     0.339181   0.543952   0.191781   0.059668   0.113208   0.187500   \n",
       "25%     0.557018   0.622681   0.224359   0.145142   0.136755   0.445772   \n",
       "50%     0.690058   0.662903   0.260870   0.170403   0.178211   0.647059   \n",
       "75%     0.782164   0.719254   0.311688   0.261159   0.215110   0.750000   \n",
       "max     0.918129   0.824597   0.413793   0.362433   0.750000   0.937500   \n",
       "\n",
       "            Spec      Thres  \n",
       "count  50.000000  50.000000  \n",
       "mean    0.684024   0.389912  \n",
       "std     0.170054   0.197696  \n",
       "min     0.277419   0.102853  \n",
       "25%     0.540323   0.242653  \n",
       "50%     0.683871   0.331910  \n",
       "75%     0.810411   0.523435  \n",
       "max     0.993548   0.915404  "
      ]
     },
     "execution_count": 88,
     "metadata": {},
     "output_type": "execute_result"
    }
   ],
   "source": [
    "scores = best_trial['result']['score']\n",
    "res = pd.DataFrame({'AUC': scores['test_auc'], \n",
    "              'ACC': scores['test_acc'], \n",
    "              'Sens': scores['test_sens'], \n",
    "              'Spec': scores['test_spec'],\n",
    "              'Prec': scores['test_prec'],\n",
    "              'F-1': scores['test_f1'],\n",
    "              'MCC': scores['test_mcc'],\n",
    "              'Thres': scores['test_thres']\n",
    "                   })\n",
    "res.describe()"
   ]
  },
  {
   "cell_type": "code",
   "execution_count": 89,
   "metadata": {},
   "outputs": [],
   "source": [
    "file_path = 'results/smo_ann_anova_disc_pfi_lung_ml_100_iter_rep_kfold.csv'\n",
    "res.to_csv(file_path, index=False)"
   ]
  },
  {
   "cell_type": "markdown",
   "metadata": {},
   "source": [
    "###### PCA"
   ]
  },
  {
   "cell_type": "code",
   "execution_count": 90,
   "metadata": {},
   "outputs": [],
   "source": [
    "ann_sc_pca_search = HyperoptCV(estimator=estim_pipeline['ann_sc_pca_pipe'], \n",
    "                                hyper_space=dict(ann_feat_ext_space, **smo_space), cv=outer_cv_split, \n",
    "                                scoring=eval_metric, opt_metric=model_sel_metric, n_iter=n, \n",
    "                                random_seed=random_state, parallel=8)"
   ]
  },
  {
   "cell_type": "code",
   "execution_count": 91,
   "metadata": {
    "scrolled": true
   },
   "outputs": [
    {
     "name": "stdout",
     "output_type": "stream",
     "text": [
      "100%|██████████| 100/100 [27:36<00:00, 14.14s/it, best loss: 0.35255223144976466]\n",
      "CPU times: user 1min 10s, sys: 3.07 s, total: 1min 13s\n",
      "Wall time: 27min 36s\n"
     ]
    },
    {
     "data": {
      "text/plain": [
       "HyperoptCV(cv=RepeatedStratifiedKFold(n_repeats=10, n_splits=5, random_state=23),\n",
       "           estimator=Pipeline(memory=None,\n",
       "                              steps=[('scaler',\n",
       "                                      StandardScaler(copy=True, with_mean=True,\n",
       "                                                     with_std=True)),\n",
       "                                     ('dim_reducer',\n",
       "                                      PCA(copy=True, iterated_power='auto',\n",
       "                                          n_components=150, random_state=None,\n",
       "                                          svd_solver='auto', tol=0.0,\n",
       "                                          whiten=False)),\n",
       "                                     ('re_sample',\n",
       "                                      SMOTE(k_neighbors=3, n_jobs=...\n",
       "                    'auc': 'roc_auc',\n",
       "                    'f1': make_scorer(opt_f1_score, needs_proba=True),\n",
       "                    'mcc': make_scorer(opt_mcc_score, needs_proba=True),\n",
       "                    'prec': make_scorer(opt_precision_score, needs_proba=True),\n",
       "                    'sens': make_scorer(opt_recall_score, needs_proba=True),\n",
       "                    'spec': make_scorer(opt_specificity_score, needs_proba=True),\n",
       "                    'thres': make_scorer(opt_threshold_score, needs_proba=True)},\n",
       "           train_score=False)"
      ]
     },
     "execution_count": 91,
     "metadata": {},
     "output_type": "execute_result"
    }
   ],
   "source": [
    "%%time\n",
    "best_trial = ann_sc_pca_search.model_selection(X, y)"
   ]
  },
  {
   "cell_type": "code",
   "execution_count": 92,
   "metadata": {},
   "outputs": [
    {
     "data": {
      "text/plain": [
       "{'clf__alpha': 0.00029753448642246114,\n",
       " 'clf__batch_size': 20,\n",
       " 'clf__hidden_layer_sizes': (25,),\n",
       " 'clf__learning_rate_init': 0.028406988095464734,\n",
       " 'dim_reducer__n_components': 150,\n",
       " 're_sample__k_neighbors': 3,\n",
       " 're_sample__sampling_strategy': 1}"
      ]
     },
     "execution_count": 92,
     "metadata": {},
     "output_type": "execute_result"
    }
   ],
   "source": [
    "best_trial['result']['params']"
   ]
  },
  {
   "cell_type": "code",
   "execution_count": 93,
   "metadata": {},
   "outputs": [
    {
     "data": {
      "text/html": [
       "<div>\n",
       "<style scoped>\n",
       "    .dataframe tbody tr th:only-of-type {\n",
       "        vertical-align: middle;\n",
       "    }\n",
       "\n",
       "    .dataframe tbody tr th {\n",
       "        vertical-align: top;\n",
       "    }\n",
       "\n",
       "    .dataframe thead th {\n",
       "        text-align: right;\n",
       "    }\n",
       "</style>\n",
       "<table border=\"1\" class=\"dataframe\">\n",
       "  <thead>\n",
       "    <tr style=\"text-align: right;\">\n",
       "      <th></th>\n",
       "      <th>ACC</th>\n",
       "      <th>AUC</th>\n",
       "      <th>F-1</th>\n",
       "      <th>MCC</th>\n",
       "      <th>Prec</th>\n",
       "      <th>Sens</th>\n",
       "      <th>Spec</th>\n",
       "      <th>Thres</th>\n",
       "    </tr>\n",
       "  </thead>\n",
       "  <tbody>\n",
       "    <tr>\n",
       "      <th>count</th>\n",
       "      <td>50.000000</td>\n",
       "      <td>50.000000</td>\n",
       "      <td>50.000000</td>\n",
       "      <td>50.000000</td>\n",
       "      <td>50.000000</td>\n",
       "      <td>50.000000</td>\n",
       "      <td>50.000000</td>\n",
       "      <td>5.000000e+01</td>\n",
       "    </tr>\n",
       "    <tr>\n",
       "      <th>mean</th>\n",
       "      <td>0.701871</td>\n",
       "      <td>0.647448</td>\n",
       "      <td>0.268124</td>\n",
       "      <td>0.183086</td>\n",
       "      <td>0.192546</td>\n",
       "      <td>0.544118</td>\n",
       "      <td>0.718538</td>\n",
       "      <td>3.704428e-02</td>\n",
       "    </tr>\n",
       "    <tr>\n",
       "      <th>std</th>\n",
       "      <td>0.124360</td>\n",
       "      <td>0.053692</td>\n",
       "      <td>0.050916</td>\n",
       "      <td>0.064599</td>\n",
       "      <td>0.067314</td>\n",
       "      <td>0.156868</td>\n",
       "      <td>0.151422</td>\n",
       "      <td>1.350759e-01</td>\n",
       "    </tr>\n",
       "    <tr>\n",
       "      <th>min</th>\n",
       "      <td>0.444444</td>\n",
       "      <td>0.535905</td>\n",
       "      <td>0.193548</td>\n",
       "      <td>0.067743</td>\n",
       "      <td>0.119048</td>\n",
       "      <td>0.235294</td>\n",
       "      <td>0.400000</td>\n",
       "      <td>7.732033e-18</td>\n",
       "    </tr>\n",
       "    <tr>\n",
       "      <th>25%</th>\n",
       "      <td>0.618421</td>\n",
       "      <td>0.608669</td>\n",
       "      <td>0.227875</td>\n",
       "      <td>0.137110</td>\n",
       "      <td>0.141997</td>\n",
       "      <td>0.437500</td>\n",
       "      <td>0.627210</td>\n",
       "      <td>9.030469e-08</td>\n",
       "    </tr>\n",
       "    <tr>\n",
       "      <th>50%</th>\n",
       "      <td>0.716374</td>\n",
       "      <td>0.644179</td>\n",
       "      <td>0.255556</td>\n",
       "      <td>0.168717</td>\n",
       "      <td>0.173163</td>\n",
       "      <td>0.500000</td>\n",
       "      <td>0.744344</td>\n",
       "      <td>1.092140e-04</td>\n",
       "    </tr>\n",
       "    <tr>\n",
       "      <th>75%</th>\n",
       "      <td>0.812865</td>\n",
       "      <td>0.682689</td>\n",
       "      <td>0.306856</td>\n",
       "      <td>0.230796</td>\n",
       "      <td>0.228632</td>\n",
       "      <td>0.641544</td>\n",
       "      <td>0.849277</td>\n",
       "      <td>5.367380e-03</td>\n",
       "    </tr>\n",
       "    <tr>\n",
       "      <th>max</th>\n",
       "      <td>0.894737</td>\n",
       "      <td>0.750000</td>\n",
       "      <td>0.400000</td>\n",
       "      <td>0.333678</td>\n",
       "      <td>0.444444</td>\n",
       "      <td>0.875000</td>\n",
       "      <td>0.967532</td>\n",
       "      <td>8.331336e-01</td>\n",
       "    </tr>\n",
       "  </tbody>\n",
       "</table>\n",
       "</div>"
      ],
      "text/plain": [
       "             ACC        AUC        F-1        MCC       Prec       Sens  \\\n",
       "count  50.000000  50.000000  50.000000  50.000000  50.000000  50.000000   \n",
       "mean    0.701871   0.647448   0.268124   0.183086   0.192546   0.544118   \n",
       "std     0.124360   0.053692   0.050916   0.064599   0.067314   0.156868   \n",
       "min     0.444444   0.535905   0.193548   0.067743   0.119048   0.235294   \n",
       "25%     0.618421   0.608669   0.227875   0.137110   0.141997   0.437500   \n",
       "50%     0.716374   0.644179   0.255556   0.168717   0.173163   0.500000   \n",
       "75%     0.812865   0.682689   0.306856   0.230796   0.228632   0.641544   \n",
       "max     0.894737   0.750000   0.400000   0.333678   0.444444   0.875000   \n",
       "\n",
       "            Spec         Thres  \n",
       "count  50.000000  5.000000e+01  \n",
       "mean    0.718538  3.704428e-02  \n",
       "std     0.151422  1.350759e-01  \n",
       "min     0.400000  7.732033e-18  \n",
       "25%     0.627210  9.030469e-08  \n",
       "50%     0.744344  1.092140e-04  \n",
       "75%     0.849277  5.367380e-03  \n",
       "max     0.967532  8.331336e-01  "
      ]
     },
     "execution_count": 93,
     "metadata": {},
     "output_type": "execute_result"
    }
   ],
   "source": [
    "scores = best_trial['result']['score']\n",
    "res = pd.DataFrame({'AUC': scores['test_auc'], \n",
    "              'ACC': scores['test_acc'], \n",
    "              'Sens': scores['test_sens'], \n",
    "              'Spec': scores['test_spec'],\n",
    "              'Prec': scores['test_prec'],\n",
    "              'F-1': scores['test_f1'],\n",
    "              'MCC': scores['test_mcc'],\n",
    "              'Thres': scores['test_thres']\n",
    "                   })\n",
    "res.describe()"
   ]
  },
  {
   "cell_type": "code",
   "execution_count": 94,
   "metadata": {},
   "outputs": [],
   "source": [
    "file_path = 'results/smo_ann_pca_disc_pfi_lung_ml_100_iter_rep_kfold.csv'\n",
    "res.to_csv(file_path, index=False)"
   ]
  },
  {
   "cell_type": "markdown",
   "metadata": {},
   "source": [
    "###### KPCA"
   ]
  },
  {
   "cell_type": "code",
   "execution_count": 95,
   "metadata": {},
   "outputs": [],
   "source": [
    "ann_sc_kpca_search = HyperoptCV(estimator=estim_pipeline['ann_sc_kpca_pipe'], \n",
    "                                hyper_space=dict(ann_feat_ext_space, **smo_space), cv=outer_cv_split, \n",
    "                                scoring=eval_metric, opt_metric=model_sel_metric, n_iter=n, \n",
    "                                random_seed=random_state, parallel=8)"
   ]
  },
  {
   "cell_type": "code",
   "execution_count": 96,
   "metadata": {
    "scrolled": true
   },
   "outputs": [
    {
     "name": "stdout",
     "output_type": "stream",
     "text": [
      "100%|██████████| 100/100 [12:01<00:00,  6.21s/it, best loss: 0.3404023756130017]\n",
      "CPU times: user 1min 3s, sys: 2.59 s, total: 1min 5s\n",
      "Wall time: 12min 1s\n"
     ]
    },
    {
     "data": {
      "text/plain": [
       "HyperoptCV(cv=RepeatedStratifiedKFold(n_repeats=10, n_splits=5, random_state=23),\n",
       "           estimator=Pipeline(memory=None,\n",
       "                              steps=[('scaler',\n",
       "                                      StandardScaler(copy=True, with_mean=True,\n",
       "                                                     with_std=True)),\n",
       "                                     ('dim_reducer',\n",
       "                                      KernelPCA(alpha=1.0, coef0=1, copy_X=True,\n",
       "                                                degree=3, eigen_solver='auto',\n",
       "                                                fit_inverse_transform=False,\n",
       "                                                gamma=None, kernel='rbf',\n",
       "                                                kernel_params=None,\n",
       "                                                max_iter=Non...\n",
       "                    'auc': 'roc_auc',\n",
       "                    'f1': make_scorer(opt_f1_score, needs_proba=True),\n",
       "                    'mcc': make_scorer(opt_mcc_score, needs_proba=True),\n",
       "                    'prec': make_scorer(opt_precision_score, needs_proba=True),\n",
       "                    'sens': make_scorer(opt_recall_score, needs_proba=True),\n",
       "                    'spec': make_scorer(opt_specificity_score, needs_proba=True),\n",
       "                    'thres': make_scorer(opt_threshold_score, needs_proba=True)},\n",
       "           train_score=False)"
      ]
     },
     "execution_count": 96,
     "metadata": {},
     "output_type": "execute_result"
    }
   ],
   "source": [
    "%%time\n",
    "best_trial = ann_sc_kpca_search.model_selection(X, y)"
   ]
  },
  {
   "cell_type": "code",
   "execution_count": 97,
   "metadata": {},
   "outputs": [
    {
     "data": {
      "text/plain": [
       "{'clf__alpha': 0.0799461480511143,\n",
       " 'clf__batch_size': 20,\n",
       " 'clf__hidden_layer_sizes': (50,),\n",
       " 'clf__learning_rate_init': 0.01641955427558416,\n",
       " 'dim_reducer__n_components': 200,\n",
       " 're_sample__k_neighbors': 3,\n",
       " 're_sample__sampling_strategy': 0.3333333333333333}"
      ]
     },
     "execution_count": 97,
     "metadata": {},
     "output_type": "execute_result"
    }
   ],
   "source": [
    "best_trial['result']['params']"
   ]
  },
  {
   "cell_type": "code",
   "execution_count": 98,
   "metadata": {},
   "outputs": [
    {
     "data": {
      "text/html": [
       "<div>\n",
       "<style scoped>\n",
       "    .dataframe tbody tr th:only-of-type {\n",
       "        vertical-align: middle;\n",
       "    }\n",
       "\n",
       "    .dataframe tbody tr th {\n",
       "        vertical-align: top;\n",
       "    }\n",
       "\n",
       "    .dataframe thead th {\n",
       "        text-align: right;\n",
       "    }\n",
       "</style>\n",
       "<table border=\"1\" class=\"dataframe\">\n",
       "  <thead>\n",
       "    <tr style=\"text-align: right;\">\n",
       "      <th></th>\n",
       "      <th>ACC</th>\n",
       "      <th>AUC</th>\n",
       "      <th>F-1</th>\n",
       "      <th>MCC</th>\n",
       "      <th>Prec</th>\n",
       "      <th>Sens</th>\n",
       "      <th>Spec</th>\n",
       "      <th>Thres</th>\n",
       "    </tr>\n",
       "  </thead>\n",
       "  <tbody>\n",
       "    <tr>\n",
       "      <th>count</th>\n",
       "      <td>50.000000</td>\n",
       "      <td>50.000000</td>\n",
       "      <td>50.000000</td>\n",
       "      <td>50.000000</td>\n",
       "      <td>50.000000</td>\n",
       "      <td>50.000000</td>\n",
       "      <td>50.000000</td>\n",
       "      <td>50.000000</td>\n",
       "    </tr>\n",
       "    <tr>\n",
       "      <th>mean</th>\n",
       "      <td>0.688070</td>\n",
       "      <td>0.659598</td>\n",
       "      <td>0.267289</td>\n",
       "      <td>0.188462</td>\n",
       "      <td>0.196344</td>\n",
       "      <td>0.570956</td>\n",
       "      <td>0.700451</td>\n",
       "      <td>0.223808</td>\n",
       "    </tr>\n",
       "    <tr>\n",
       "      <th>std</th>\n",
       "      <td>0.130730</td>\n",
       "      <td>0.055588</td>\n",
       "      <td>0.051327</td>\n",
       "      <td>0.060443</td>\n",
       "      <td>0.073401</td>\n",
       "      <td>0.181250</td>\n",
       "      <td>0.161404</td>\n",
       "      <td>0.084783</td>\n",
       "    </tr>\n",
       "    <tr>\n",
       "      <th>min</th>\n",
       "      <td>0.415205</td>\n",
       "      <td>0.559677</td>\n",
       "      <td>0.181818</td>\n",
       "      <td>0.087638</td>\n",
       "      <td>0.119266</td>\n",
       "      <td>0.125000</td>\n",
       "      <td>0.376623</td>\n",
       "      <td>0.108020</td>\n",
       "    </tr>\n",
       "    <tr>\n",
       "      <th>25%</th>\n",
       "      <td>0.577485</td>\n",
       "      <td>0.615649</td>\n",
       "      <td>0.230972</td>\n",
       "      <td>0.146307</td>\n",
       "      <td>0.145388</td>\n",
       "      <td>0.477941</td>\n",
       "      <td>0.562903</td>\n",
       "      <td>0.159351</td>\n",
       "    </tr>\n",
       "    <tr>\n",
       "      <th>50%</th>\n",
       "      <td>0.669591</td>\n",
       "      <td>0.660265</td>\n",
       "      <td>0.260150</td>\n",
       "      <td>0.182447</td>\n",
       "      <td>0.167840</td>\n",
       "      <td>0.575368</td>\n",
       "      <td>0.683871</td>\n",
       "      <td>0.204627</td>\n",
       "    </tr>\n",
       "    <tr>\n",
       "      <th>75%</th>\n",
       "      <td>0.811404</td>\n",
       "      <td>0.693244</td>\n",
       "      <td>0.276658</td>\n",
       "      <td>0.217235</td>\n",
       "      <td>0.222321</td>\n",
       "      <td>0.750000</td>\n",
       "      <td>0.856211</td>\n",
       "      <td>0.270012</td>\n",
       "    </tr>\n",
       "    <tr>\n",
       "      <th>max</th>\n",
       "      <td>0.894737</td>\n",
       "      <td>0.772984</td>\n",
       "      <td>0.439024</td>\n",
       "      <td>0.372146</td>\n",
       "      <td>0.384615</td>\n",
       "      <td>0.812500</td>\n",
       "      <td>0.974194</td>\n",
       "      <td>0.453962</td>\n",
       "    </tr>\n",
       "  </tbody>\n",
       "</table>\n",
       "</div>"
      ],
      "text/plain": [
       "             ACC        AUC        F-1        MCC       Prec       Sens  \\\n",
       "count  50.000000  50.000000  50.000000  50.000000  50.000000  50.000000   \n",
       "mean    0.688070   0.659598   0.267289   0.188462   0.196344   0.570956   \n",
       "std     0.130730   0.055588   0.051327   0.060443   0.073401   0.181250   \n",
       "min     0.415205   0.559677   0.181818   0.087638   0.119266   0.125000   \n",
       "25%     0.577485   0.615649   0.230972   0.146307   0.145388   0.477941   \n",
       "50%     0.669591   0.660265   0.260150   0.182447   0.167840   0.575368   \n",
       "75%     0.811404   0.693244   0.276658   0.217235   0.222321   0.750000   \n",
       "max     0.894737   0.772984   0.439024   0.372146   0.384615   0.812500   \n",
       "\n",
       "            Spec      Thres  \n",
       "count  50.000000  50.000000  \n",
       "mean    0.700451   0.223808  \n",
       "std     0.161404   0.084783  \n",
       "min     0.376623   0.108020  \n",
       "25%     0.562903   0.159351  \n",
       "50%     0.683871   0.204627  \n",
       "75%     0.856211   0.270012  \n",
       "max     0.974194   0.453962  "
      ]
     },
     "execution_count": 98,
     "metadata": {},
     "output_type": "execute_result"
    }
   ],
   "source": [
    "scores = best_trial['result']['score']\n",
    "res = pd.DataFrame({'AUC': scores['test_auc'], \n",
    "              'ACC': scores['test_acc'], \n",
    "              'Sens': scores['test_sens'], \n",
    "              'Spec': scores['test_spec'],\n",
    "              'Prec': scores['test_prec'],\n",
    "              'F-1': scores['test_f1'],\n",
    "              'MCC': scores['test_mcc'],\n",
    "              'Thres': scores['test_thres']\n",
    "                   })\n",
    "res.describe()"
   ]
  },
  {
   "cell_type": "code",
   "execution_count": 99,
   "metadata": {},
   "outputs": [],
   "source": [
    "file_path = 'results/smo_ann_kpca_disc_pfi_lung_ml_100_iter_rep_kfold.csv'\n",
    "res.to_csv(file_path, index=False)"
   ]
  }
 ],
 "metadata": {
  "kernelspec": {
   "display_name": "Python 3",
   "language": "python",
   "name": "python3"
  },
  "language_info": {
   "codemirror_mode": {
    "name": "ipython",
    "version": 3
   },
   "file_extension": ".py",
   "mimetype": "text/x-python",
   "name": "python",
   "nbconvert_exporter": "python",
   "pygments_lexer": "ipython3",
   "version": "3.6.5"
  }
 },
 "nbformat": 4,
 "nbformat_minor": 2
}
