{
 "cells": [
  {
   "cell_type": "markdown",
   "metadata": {},
   "source": [
    "# Treemapping procedure\n",
    "\n",
    "In this notebook, gene-expression vectors are transformed into images. Firstly, the KEGG BRITE functional-hierarchies tree is converted into a *KEGG BRITE functional-hierarchies image* **T**, whose resolution has already been determined in `KEGG_BRITE_Image_Resolution` notebook. The locations of every gene-expression value in **T** are determined by the KEGG BRITE functional hierarchies to which the corresponding gene is associated as well as by the mean expression value of the gene across all PanCancer samples. In order to generate **T**, we used the [R package treemap](https://cran.r-project.org/web/packages/treemap/treemap.pdf), which implements the ordered-treemap, pivot-by-size,\n",
    "algorithm presented in [*Bederson et al.*](http://www.cs.umd.edu/hcil/trs/2001-18/2001-18.pdf)\n",
    "\n",
    "Then, for every gene-expression vector **g<sub>i</sub>**, we generate the corresponding gene-expression image **G<sub>i</sub>**, using **T** as a template to complete the mapping process."
   ]
  },
  {
   "cell_type": "markdown",
   "metadata": {},
   "source": [
    "Firstly, we load the KEGG Brite hierarchical dataset generated in `1-KEGG_BRITE_Hierarchy` Python notebook:"
   ]
  },
  {
   "cell_type": "code",
   "execution_count": 1,
   "metadata": {},
   "outputs": [],
   "source": [
    "start.time <- Sys.time()\n",
    "exp_to_tree_map <- read.csv(\"./KEGG_exp_to_tree_map.csv\", header = TRUE, stringsAsFactors = FALSE)\n",
    "end.time <- Sys.time()"
   ]
  },
  {
   "cell_type": "code",
   "execution_count": 2,
   "metadata": {},
   "outputs": [
    {
     "data": {
      "text/plain": [
       "Time difference of 1.185902 mins"
      ]
     },
     "metadata": {},
     "output_type": "display_data"
    }
   ],
   "source": [
    "end.time - start.time"
   ]
  },
  {
   "cell_type": "code",
   "execution_count": 3,
   "metadata": {},
   "outputs": [
    {
     "data": {
      "text/html": [
       "7509"
      ],
      "text/latex": [
       "7509"
      ],
      "text/markdown": [
       "7509"
      ],
      "text/plain": [
       "[1] 7509"
      ]
     },
     "metadata": {},
     "output_type": "display_data"
    }
   ],
   "source": [
    "# Number of ENSEMBLE genes included in the dataset\n",
    "length(unique(exp_to_tree_map$geneId))"
   ]
  },
  {
   "cell_type": "code",
   "execution_count": 4,
   "metadata": {},
   "outputs": [
    {
     "name": "stderr",
     "output_type": "stream",
     "text": [
      "ERROR while rich displaying an object: Error in sprintf(wrap, caption, header, body): 'fmt' length exceeds maximal format length 8192\n",
      "\n",
      "Traceback:\n",
      "1. FUN(X[[i]], ...)\n",
      "2. tryCatch(withCallingHandlers({\n",
      " .     if (!mime %in% names(repr::mime2repr)) \n",
      " .         stop(\"No repr_* for mimetype \", mime, \" in repr::mime2repr\")\n",
      " .     rpr <- repr::mime2repr[[mime]](obj)\n",
      " .     if (is.null(rpr)) \n",
      " .         return(NULL)\n",
      " .     prepare_content(is.raw(rpr), rpr)\n",
      " . }, error = error_handler), error = outer_handler)\n",
      "3. tryCatchList(expr, classes, parentenv, handlers)\n",
      "4. tryCatchOne(expr, names, parentenv, handlers[[1L]])\n",
      "5. doTryCatch(return(expr), name, parentenv, handler)\n",
      "6. withCallingHandlers({\n",
      " .     if (!mime %in% names(repr::mime2repr)) \n",
      " .         stop(\"No repr_* for mimetype \", mime, \" in repr::mime2repr\")\n",
      " .     rpr <- repr::mime2repr[[mime]](obj)\n",
      " .     if (is.null(rpr)) \n",
      " .         return(NULL)\n",
      " .     prepare_content(is.raw(rpr), rpr)\n",
      " . }, error = error_handler)\n",
      "7. repr::mime2repr[[mime]](obj)\n",
      "8. repr_latex.data.frame(obj)\n",
      "9. repr_matrix_generic(obj, sprintf(\"%%s\\n\\\\begin{tabular}{%s}\\n%%s%%s\\\\end{tabular}\\n\", \n",
      " .     cols), \"%s\\\\hline\\n\", \"%s\\\\\\\\\\n\", \"  &\", \" %s &\", \"%s\", \"\\t%s\\\\\\\\\\n\", \n",
      " .     \"%s &\", \" %s &\", escape_fun = latex_escape_vec, rows = rows, \n",
      " .     cols = cols, ...)\n",
      "10. sprintf(wrap, caption, header, body)\n"
     ]
    },
    {
     "data": {
      "text/html": [
       "<table>\n",
       "<caption>A data.frame: 6 × 10544</caption>\n",
       "<thead>\n",
       "\t<tr><th scope=col>geneId</th><th scope=col>geneName</th><th scope=col>keggId</th><th scope=col>keggBriteId</th><th scope=col>Functional.Annotation.Group</th><th scope=col>Functional.Annotation.Subgroup</th><th scope=col>Functional.Annotation</th><th scope=col>TCGA.02.0047.01</th><th scope=col>TCGA.02.0055.01</th><th scope=col>TCGA.02.2483.01</th><th scope=col>⋯</th><th scope=col>TCGA.ZS.A9CE.01</th><th scope=col>TCGA.ZS.A9CF.01</th><th scope=col>TCGA.ZS.A9CF.02</th><th scope=col>TCGA.ZS.A9CG.01</th><th scope=col>TCGA.ZT.A8OM.01</th><th scope=col>TCGA.ZU.A8S4.01</th><th scope=col>TCGA.ZU.A8S4.11</th><th scope=col>TCGA.ZX.AA5X.01</th><th scope=col>tamPixel</th><th scope=col>order</th></tr>\n",
       "\t<tr><th scope=col>&lt;chr&gt;</th><th scope=col>&lt;chr&gt;</th><th scope=col>&lt;chr&gt;</th><th scope=col>&lt;int&gt;</th><th scope=col>&lt;chr&gt;</th><th scope=col>&lt;chr&gt;</th><th scope=col>&lt;chr&gt;</th><th scope=col>&lt;dbl&gt;</th><th scope=col>&lt;dbl&gt;</th><th scope=col>&lt;dbl&gt;</th><th scope=col>⋯</th><th scope=col>&lt;dbl&gt;</th><th scope=col>&lt;dbl&gt;</th><th scope=col>&lt;dbl&gt;</th><th scope=col>&lt;dbl&gt;</th><th scope=col>&lt;dbl&gt;</th><th scope=col>&lt;dbl&gt;</th><th scope=col>&lt;dbl&gt;</th><th scope=col>&lt;dbl&gt;</th><th scope=col>&lt;dbl&gt;</th><th scope=col>&lt;dbl&gt;</th></tr>\n",
       "</thead>\n",
       "<tbody>\n",
       "\t<tr><td>ENSG00000187961.13</td><td>KLHL17</td><td>hsa:339451</td><td>   1</td><td>Genes and Proteins</td><td>Orthologs and modules                           </td><td>KEGG Orthology (KO)  </td><td>1.3225</td><td>2.3135</td><td>2.5707</td><td>⋯</td><td> 0.8883</td><td>1.7532</td><td> 0.7664</td><td>0.2998</td><td>1.9226</td><td>2.7336</td><td>-0.3752</td><td>2.7972</td><td>1</td><td>1.992469</td></tr>\n",
       "\t<tr><td>ENSG00000187961.13</td><td>KLHL17</td><td>hsa:339451</td><td>4121</td><td>Genes and Proteins</td><td>Protein families: genetic information processing</td><td>Ubiquitin system     </td><td>1.3225</td><td>2.3135</td><td>2.5707</td><td>⋯</td><td> 0.8883</td><td>1.7532</td><td> 0.7664</td><td>0.2998</td><td>1.9226</td><td>2.7336</td><td>-0.3752</td><td>2.7972</td><td>1</td><td>1.992469</td></tr>\n",
       "\t<tr><td>ENSG00000188290.10</td><td>HES4  </td><td>hsa:57801 </td><td>   1</td><td>Genes and Proteins</td><td>Orthologs and modules                           </td><td>KEGG Orthology (KO)  </td><td>4.1604</td><td>3.6148</td><td>3.8729</td><td>⋯</td><td>-0.3201</td><td>0.9642</td><td>-0.8084</td><td>0.2762</td><td>5.8595</td><td>3.9156</td><td>-0.1504</td><td>4.3751</td><td>1</td><td>2.791702</td></tr>\n",
       "\t<tr><td>ENSG00000188290.10</td><td>HES4  </td><td>hsa:57801 </td><td>3000</td><td>Genes and Proteins</td><td>Protein families: genetic information processing</td><td>Transcription factors</td><td>4.1604</td><td>3.6148</td><td>3.8729</td><td>⋯</td><td>-0.3201</td><td>0.9642</td><td>-0.8084</td><td>0.2762</td><td>5.8595</td><td>3.9156</td><td>-0.1504</td><td>4.3751</td><td>1</td><td>2.791702</td></tr>\n",
       "\t<tr><td>ENSG00000187608.8 </td><td>ISG15 </td><td>hsa:9636  </td><td>   1</td><td>Genes and Proteins</td><td>Orthologs and modules                           </td><td>KEGG Orthology (KO)  </td><td>5.8166</td><td>6.9599</td><td>5.9072</td><td>⋯</td><td> 6.4074</td><td>6.1183</td><td> 5.0592</td><td>5.2122</td><td>7.4520</td><td>6.6671</td><td> 4.7783</td><td>9.7576</td><td>1</td><td>6.491173</td></tr>\n",
       "\t<tr><td>ENSG00000187608.8 </td><td>ISG15 </td><td>hsa:9636  </td><td>4121</td><td>Genes and Proteins</td><td>Protein families: genetic information processing</td><td>Ubiquitin system     </td><td>5.8166</td><td>6.9599</td><td>5.9072</td><td>⋯</td><td> 6.4074</td><td>6.1183</td><td> 5.0592</td><td>5.2122</td><td>7.4520</td><td>6.6671</td><td> 4.7783</td><td>9.7576</td><td>1</td><td>6.491173</td></tr>\n",
       "</tbody>\n",
       "</table>\n"
      ],
      "text/markdown": [
       "\n",
       "A data.frame: 6 × 10544\n",
       "\n",
       "| geneId &lt;chr&gt; | geneName &lt;chr&gt; | keggId &lt;chr&gt; | keggBriteId &lt;int&gt; | Functional.Annotation.Group &lt;chr&gt; | Functional.Annotation.Subgroup &lt;chr&gt; | Functional.Annotation &lt;chr&gt; | TCGA.02.0047.01 &lt;dbl&gt; | TCGA.02.0055.01 &lt;dbl&gt; | TCGA.02.2483.01 &lt;dbl&gt; | ⋯ ⋯ | TCGA.ZS.A9CE.01 &lt;dbl&gt; | TCGA.ZS.A9CF.01 &lt;dbl&gt; | TCGA.ZS.A9CF.02 &lt;dbl&gt; | TCGA.ZS.A9CG.01 &lt;dbl&gt; | TCGA.ZT.A8OM.01 &lt;dbl&gt; | TCGA.ZU.A8S4.01 &lt;dbl&gt; | TCGA.ZU.A8S4.11 &lt;dbl&gt; | TCGA.ZX.AA5X.01 &lt;dbl&gt; | tamPixel &lt;dbl&gt; | order &lt;dbl&gt; |\n",
       "|---|---|---|---|---|---|---|---|---|---|---|---|---|---|---|---|---|---|---|---|---|\n",
       "| ENSG00000187961.13 | KLHL17 | hsa:339451 |    1 | Genes and Proteins | Orthologs and modules                            | KEGG Orthology (KO)   | 1.3225 | 2.3135 | 2.5707 | ⋯ |  0.8883 | 1.7532 |  0.7664 | 0.2998 | 1.9226 | 2.7336 | -0.3752 | 2.7972 | 1 | 1.992469 |\n",
       "| ENSG00000187961.13 | KLHL17 | hsa:339451 | 4121 | Genes and Proteins | Protein families: genetic information processing | Ubiquitin system      | 1.3225 | 2.3135 | 2.5707 | ⋯ |  0.8883 | 1.7532 |  0.7664 | 0.2998 | 1.9226 | 2.7336 | -0.3752 | 2.7972 | 1 | 1.992469 |\n",
       "| ENSG00000188290.10 | HES4   | hsa:57801  |    1 | Genes and Proteins | Orthologs and modules                            | KEGG Orthology (KO)   | 4.1604 | 3.6148 | 3.8729 | ⋯ | -0.3201 | 0.9642 | -0.8084 | 0.2762 | 5.8595 | 3.9156 | -0.1504 | 4.3751 | 1 | 2.791702 |\n",
       "| ENSG00000188290.10 | HES4   | hsa:57801  | 3000 | Genes and Proteins | Protein families: genetic information processing | Transcription factors | 4.1604 | 3.6148 | 3.8729 | ⋯ | -0.3201 | 0.9642 | -0.8084 | 0.2762 | 5.8595 | 3.9156 | -0.1504 | 4.3751 | 1 | 2.791702 |\n",
       "| ENSG00000187608.8  | ISG15  | hsa:9636   |    1 | Genes and Proteins | Orthologs and modules                            | KEGG Orthology (KO)   | 5.8166 | 6.9599 | 5.9072 | ⋯ |  6.4074 | 6.1183 |  5.0592 | 5.2122 | 7.4520 | 6.6671 |  4.7783 | 9.7576 | 1 | 6.491173 |\n",
       "| ENSG00000187608.8  | ISG15  | hsa:9636   | 4121 | Genes and Proteins | Protein families: genetic information processing | Ubiquitin system      | 5.8166 | 6.9599 | 5.9072 | ⋯ |  6.4074 | 6.1183 |  5.0592 | 5.2122 | 7.4520 | 6.6671 |  4.7783 | 9.7576 | 1 | 6.491173 |\n",
       "\n"
      ],
      "text/plain": [
       "  geneId             geneName keggId     keggBriteId\n",
       "1 ENSG00000187961.13 KLHL17   hsa:339451    1       \n",
       "2 ENSG00000187961.13 KLHL17   hsa:339451 4121       \n",
       "3 ENSG00000188290.10 HES4     hsa:57801     1       \n",
       "4 ENSG00000188290.10 HES4     hsa:57801  3000       \n",
       "5 ENSG00000187608.8  ISG15    hsa:9636      1       \n",
       "6 ENSG00000187608.8  ISG15    hsa:9636   4121       \n",
       "  Functional.Annotation.Group Functional.Annotation.Subgroup                  \n",
       "1 Genes and Proteins          Orthologs and modules                           \n",
       "2 Genes and Proteins          Protein families: genetic information processing\n",
       "3 Genes and Proteins          Orthologs and modules                           \n",
       "4 Genes and Proteins          Protein families: genetic information processing\n",
       "5 Genes and Proteins          Orthologs and modules                           \n",
       "6 Genes and Proteins          Protein families: genetic information processing\n",
       "  Functional.Annotation TCGA.02.0047.01 TCGA.02.0055.01 TCGA.02.2483.01 ⋯\n",
       "1 KEGG Orthology (KO)   1.3225          2.3135          2.5707          ⋯\n",
       "2 Ubiquitin system      1.3225          2.3135          2.5707          ⋯\n",
       "3 KEGG Orthology (KO)   4.1604          3.6148          3.8729          ⋯\n",
       "4 Transcription factors 4.1604          3.6148          3.8729          ⋯\n",
       "5 KEGG Orthology (KO)   5.8166          6.9599          5.9072          ⋯\n",
       "6 Ubiquitin system      5.8166          6.9599          5.9072          ⋯\n",
       "  TCGA.ZS.A9CE.01 TCGA.ZS.A9CF.01 TCGA.ZS.A9CF.02 TCGA.ZS.A9CG.01\n",
       "1  0.8883         1.7532           0.7664         0.2998         \n",
       "2  0.8883         1.7532           0.7664         0.2998         \n",
       "3 -0.3201         0.9642          -0.8084         0.2762         \n",
       "4 -0.3201         0.9642          -0.8084         0.2762         \n",
       "5  6.4074         6.1183           5.0592         5.2122         \n",
       "6  6.4074         6.1183           5.0592         5.2122         \n",
       "  TCGA.ZT.A8OM.01 TCGA.ZU.A8S4.01 TCGA.ZU.A8S4.11 TCGA.ZX.AA5X.01 tamPixel\n",
       "1 1.9226          2.7336          -0.3752         2.7972          1       \n",
       "2 1.9226          2.7336          -0.3752         2.7972          1       \n",
       "3 5.8595          3.9156          -0.1504         4.3751          1       \n",
       "4 5.8595          3.9156          -0.1504         4.3751          1       \n",
       "5 7.4520          6.6671           4.7783         9.7576          1       \n",
       "6 7.4520          6.6671           4.7783         9.7576          1       \n",
       "  order   \n",
       "1 1.992469\n",
       "2 1.992469\n",
       "3 2.791702\n",
       "4 2.791702\n",
       "5 6.491173\n",
       "6 6.491173"
      ]
     },
     "metadata": {},
     "output_type": "display_data"
    }
   ],
   "source": [
    "head(exp_to_tree_map)"
   ]
  },
  {
   "cell_type": "markdown",
   "metadata": {},
   "source": [
    "To be coherent with the information given in the paper, we must indicate that in the KEGG BRITE hierarchical dataset shown above, \"Functional.Annotation.Group\" column contains the root name of the KEGG BRITE functional-hierarchies tree; \"Functional.Annotation.Subgroup\" column includes the *functional categories*, corresponding to the first level of the tree; and \"Functional.Annotation\" column contains the *functional hierarchies*, the second level of the tree."
   ]
  },
  {
   "cell_type": "markdown",
   "metadata": {},
   "source": [
    "## KEGG BRITE functional-hierarchies image"
   ]
  },
  {
   "cell_type": "markdown",
   "metadata": {},
   "source": [
    "### Realtions multiplicity exploration"
   ]
  },
  {
   "cell_type": "markdown",
   "metadata": {},
   "source": [
    "ENSEMBLE-Hugo N:1 relation:"
   ]
  },
  {
   "cell_type": "code",
   "execution_count": 5,
   "metadata": {},
   "outputs": [
    {
     "data": {
      "text/html": [
       "18494"
      ],
      "text/latex": [
       "18494"
      ],
      "text/markdown": [
       "18494"
      ],
      "text/plain": [
       "[1] 18494"
      ]
     },
     "metadata": {},
     "output_type": "display_data"
    }
   ],
   "source": [
    "ens_hugo <- exp_to_tree_map[, c(\"geneId\", \"geneName\")]\n",
    "nrow(ens_hugo)"
   ]
  },
  {
   "cell_type": "code",
   "execution_count": 6,
   "metadata": {},
   "outputs": [
    {
     "data": {
      "text/html": [
       "7509"
      ],
      "text/latex": [
       "7509"
      ],
      "text/markdown": [
       "7509"
      ],
      "text/plain": [
       "[1] 7509"
      ]
     },
     "metadata": {},
     "output_type": "display_data"
    }
   ],
   "source": [
    "ens_hugo <- ens_hugo[!duplicated(ens_hugo), ]\n",
    "nrow(ens_hugo)"
   ]
  },
  {
   "cell_type": "code",
   "execution_count": 7,
   "metadata": {},
   "outputs": [
    {
     "data": {
      "text/html": [
       "1"
      ],
      "text/latex": [
       "1"
      ],
      "text/markdown": [
       "1"
      ],
      "text/plain": [
       "[1] 1"
      ]
     },
     "metadata": {},
     "output_type": "display_data"
    }
   ],
   "source": [
    "max(table(ens_hugo[\"geneId\"]))"
   ]
  },
  {
   "cell_type": "code",
   "execution_count": 8,
   "metadata": {
    "scrolled": true
   },
   "outputs": [
    {
     "data": {
      "text/html": [
       "2"
      ],
      "text/latex": [
       "2"
      ],
      "text/markdown": [
       "2"
      ],
      "text/plain": [
       "[1] 2"
      ]
     },
     "metadata": {},
     "output_type": "display_data"
    }
   ],
   "source": [
    "max(table(ens_hugo[\"geneName\"]))"
   ]
  },
  {
   "cell_type": "markdown",
   "metadata": {},
   "source": [
    "Hugo-KEGG ID N:M relation:"
   ]
  },
  {
   "cell_type": "code",
   "execution_count": 9,
   "metadata": {},
   "outputs": [
    {
     "data": {
      "text/html": [
       "18494"
      ],
      "text/latex": [
       "18494"
      ],
      "text/markdown": [
       "18494"
      ],
      "text/plain": [
       "[1] 18494"
      ]
     },
     "metadata": {},
     "output_type": "display_data"
    }
   ],
   "source": [
    "hugo_kegg <- exp_to_tree_map[, c(\"geneName\", \"keggId\")]\n",
    "nrow(hugo_kegg)"
   ]
  },
  {
   "cell_type": "code",
   "execution_count": 10,
   "metadata": {},
   "outputs": [
    {
     "data": {
      "text/html": [
       "7925"
      ],
      "text/latex": [
       "7925"
      ],
      "text/markdown": [
       "7925"
      ],
      "text/plain": [
       "[1] 7925"
      ]
     },
     "metadata": {},
     "output_type": "display_data"
    }
   ],
   "source": [
    "hugo_kegg <- hugo_kegg[!duplicated(hugo_kegg), ]\n",
    "nrow(hugo_kegg)"
   ]
  },
  {
   "cell_type": "code",
   "execution_count": 11,
   "metadata": {},
   "outputs": [
    {
     "data": {
      "text/html": [
       "6"
      ],
      "text/latex": [
       "6"
      ],
      "text/markdown": [
       "6"
      ],
      "text/plain": [
       "[1] 6"
      ]
     },
     "metadata": {},
     "output_type": "display_data"
    }
   ],
   "source": [
    "max(table(hugo_kegg[\"geneName\"]))"
   ]
  },
  {
   "cell_type": "code",
   "execution_count": 12,
   "metadata": {
    "scrolled": true
   },
   "outputs": [
    {
     "data": {
      "text/html": [
       "5"
      ],
      "text/latex": [
       "5"
      ],
      "text/markdown": [
       "5"
      ],
      "text/plain": [
       "[1] 5"
      ]
     },
     "metadata": {},
     "output_type": "display_data"
    }
   ],
   "source": [
    "max(table(hugo_kegg[\"keggId\"]))"
   ]
  },
  {
   "cell_type": "markdown",
   "metadata": {},
   "source": [
    "KEGG ID-KEGG Brite N:M relation:"
   ]
  },
  {
   "cell_type": "code",
   "execution_count": 13,
   "metadata": {},
   "outputs": [
    {
     "data": {
      "text/html": [
       "18494"
      ],
      "text/latex": [
       "18494"
      ],
      "text/markdown": [
       "18494"
      ],
      "text/plain": [
       "[1] 18494"
      ]
     },
     "metadata": {},
     "output_type": "display_data"
    }
   ],
   "source": [
    "kegg_brite <- exp_to_tree_map[, c(\"keggId\", \"keggBriteId\")]\n",
    "nrow(kegg_brite)"
   ]
  },
  {
   "cell_type": "code",
   "execution_count": 14,
   "metadata": {},
   "outputs": [
    {
     "data": {
      "text/html": [
       "17673"
      ],
      "text/latex": [
       "17673"
      ],
      "text/markdown": [
       "17673"
      ],
      "text/plain": [
       "[1] 17673"
      ]
     },
     "metadata": {},
     "output_type": "display_data"
    }
   ],
   "source": [
    "kegg_brite <- kegg_brite[!duplicated(kegg_brite), ]\n",
    "nrow(kegg_brite)"
   ]
  },
  {
   "cell_type": "code",
   "execution_count": 15,
   "metadata": {},
   "outputs": [
    {
     "data": {
      "text/html": [
       "9"
      ],
      "text/latex": [
       "9"
      ],
      "text/markdown": [
       "9"
      ],
      "text/plain": [
       "[1] 9"
      ]
     },
     "metadata": {},
     "output_type": "display_data"
    }
   ],
   "source": [
    "max(table(kegg_brite[\"keggId\"]))"
   ]
  },
  {
   "cell_type": "code",
   "execution_count": 16,
   "metadata": {
    "scrolled": true
   },
   "outputs": [
    {
     "data": {
      "text/html": [
       "7588"
      ],
      "text/latex": [
       "7588"
      ],
      "text/markdown": [
       "7588"
      ],
      "text/plain": [
       "[1] 7588"
      ]
     },
     "metadata": {},
     "output_type": "display_data"
    }
   ],
   "source": [
    "max(table(kegg_brite[\"keggBriteId\"]))"
   ]
  },
  {
   "cell_type": "markdown",
   "metadata": {},
   "source": [
    "KEGG Brite-Functional annotation 1:1 relation:"
   ]
  },
  {
   "cell_type": "code",
   "execution_count": 17,
   "metadata": {},
   "outputs": [
    {
     "data": {
      "text/html": [
       "18494"
      ],
      "text/latex": [
       "18494"
      ],
      "text/markdown": [
       "18494"
      ],
      "text/plain": [
       "[1] 18494"
      ]
     },
     "metadata": {},
     "output_type": "display_data"
    }
   ],
   "source": [
    "brite_annot <- exp_to_tree_map[, c(\"keggBriteId\", \"Functional.Annotation\")]\n",
    "nrow(brite_annot)"
   ]
  },
  {
   "cell_type": "code",
   "execution_count": 18,
   "metadata": {},
   "outputs": [
    {
     "data": {
      "text/html": [
       "46"
      ],
      "text/latex": [
       "46"
      ],
      "text/markdown": [
       "46"
      ],
      "text/plain": [
       "[1] 46"
      ]
     },
     "metadata": {},
     "output_type": "display_data"
    }
   ],
   "source": [
    "brite_annot <- brite_annot[!duplicated(brite_annot), ]\n",
    "nrow(brite_annot)"
   ]
  },
  {
   "cell_type": "code",
   "execution_count": 19,
   "metadata": {
    "scrolled": true
   },
   "outputs": [
    {
     "data": {
      "text/html": [
       "1"
      ],
      "text/latex": [
       "1"
      ],
      "text/markdown": [
       "1"
      ],
      "text/plain": [
       "[1] 1"
      ]
     },
     "metadata": {},
     "output_type": "display_data"
    }
   ],
   "source": [
    "max(table(brite_annot[\"keggBriteId\"]))"
   ]
  },
  {
   "cell_type": "code",
   "execution_count": 20,
   "metadata": {},
   "outputs": [
    {
     "data": {
      "text/html": [
       "1"
      ],
      "text/latex": [
       "1"
      ],
      "text/markdown": [
       "1"
      ],
      "text/plain": [
       "[1] 1"
      ]
     },
     "metadata": {},
     "output_type": "display_data"
    }
   ],
   "source": [
    "max(table(brite_annot[\"Functional.Annotation\"]))"
   ]
  },
  {
   "cell_type": "markdown",
   "metadata": {},
   "source": [
    "Functional annotation-Functional subgroup N:1 relation:"
   ]
  },
  {
   "cell_type": "code",
   "execution_count": 21,
   "metadata": {},
   "outputs": [
    {
     "data": {
      "text/html": [
       "18494"
      ],
      "text/latex": [
       "18494"
      ],
      "text/markdown": [
       "18494"
      ],
      "text/plain": [
       "[1] 18494"
      ]
     },
     "metadata": {},
     "output_type": "display_data"
    }
   ],
   "source": [
    "annot_group <- exp_to_tree_map[, c(\"Functional.Annotation\", \"Functional.Annotation.Subgroup\")]\n",
    "nrow(annot_group)"
   ]
  },
  {
   "cell_type": "code",
   "execution_count": 22,
   "metadata": {},
   "outputs": [
    {
     "data": {
      "text/html": [
       "46"
      ],
      "text/latex": [
       "46"
      ],
      "text/markdown": [
       "46"
      ],
      "text/plain": [
       "[1] 46"
      ]
     },
     "metadata": {},
     "output_type": "display_data"
    }
   ],
   "source": [
    "annot_group <- annot_group[!duplicated(annot_group), ]\n",
    "nrow(annot_group)"
   ]
  },
  {
   "cell_type": "code",
   "execution_count": 23,
   "metadata": {},
   "outputs": [
    {
     "data": {
      "text/html": [
       "1"
      ],
      "text/latex": [
       "1"
      ],
      "text/markdown": [
       "1"
      ],
      "text/plain": [
       "[1] 1"
      ]
     },
     "metadata": {},
     "output_type": "display_data"
    }
   ],
   "source": [
    "max(table(annot_group[\"Functional.Annotation\"]))"
   ]
  },
  {
   "cell_type": "code",
   "execution_count": 24,
   "metadata": {
    "scrolled": true
   },
   "outputs": [
    {
     "data": {
      "text/html": [
       "19"
      ],
      "text/latex": [
       "19"
      ],
      "text/markdown": [
       "19"
      ],
      "text/plain": [
       "[1] 19"
      ]
     },
     "metadata": {},
     "output_type": "display_data"
    }
   ],
   "source": [
    "max(table(annot_group[\"Functional.Annotation.Subgroup\"]))"
   ]
  },
  {
   "cell_type": "markdown",
   "metadata": {},
   "source": [
    "When performing the treemapping procedure, `geneId` column must be the last hierarchy level (leaves of the tree), as the `exp_to_tree_map` table contains the gene expression values of the ENSEMBLE ID genes."
   ]
  },
  {
   "cell_type": "markdown",
   "metadata": {},
   "source": [
    "It is assumed that 1 ENSEMBLE ID can be associated to > 1 KEGG BRITE functional hierarchy at the same time, but 1 ENSEMBLE ID can also be duplicated in the same KEGG BRITE functional hierarchy (because of the ENSEMBLE-Hugo 1:N relation, Hugo-KEGG ID N:M relation and KEGG gene ID-KEGG Brite N:M relation)."
   ]
  },
  {
   "cell_type": "code",
   "execution_count": 25,
   "metadata": {},
   "outputs": [
    {
     "data": {
      "text/html": [
       "762"
      ],
      "text/latex": [
       "762"
      ],
      "text/markdown": [
       "762"
      ],
      "text/plain": [
       "[1] 762"
      ]
     },
     "metadata": {},
     "output_type": "display_data"
    }
   ],
   "source": [
    "ens_map <- exp_to_tree_map[, c(\"Functional.Annotation.Subgroup\", \"Functional.Annotation\", \"geneId\")]\n",
    "\n",
    "# Repetitions of 1 ENSEMBL ID in the same functional annotation\n",
    "sum(duplicated(ens_map))"
   ]
  },
  {
   "cell_type": "code",
   "execution_count": 26,
   "metadata": {},
   "outputs": [],
   "source": [
    "ens_map <- ens_map[!duplicated(ens_map), ]"
   ]
  },
  {
   "cell_type": "code",
   "execution_count": 27,
   "metadata": {},
   "outputs": [
    {
     "data": {
      "text/html": [
       "10223"
      ],
      "text/latex": [
       "10223"
      ],
      "text/markdown": [
       "10223"
      ],
      "text/plain": [
       "[1] 10223"
      ]
     },
     "metadata": {},
     "output_type": "display_data"
    }
   ],
   "source": [
    "# Times ENSEMBLE IDs are associated to > 1 functional annotation\n",
    "sum(duplicated(ens_map[\"geneId\"]))"
   ]
  },
  {
   "cell_type": "markdown",
   "metadata": {},
   "source": [
    "Repetitions of 1 ENSEMBLE ID in the same functional hyerarchies are removed. We assume that a gene can be either associated or not associated to one functional hierarchy. Alternatively, other approaches could consider the repetitions of genes in one functional hierarchy in the treemap, or setting a gene expression value in the treemap equals to the product of the number of repetitions and the expression value of the gene."
   ]
  },
  {
   "cell_type": "code",
   "execution_count": 28,
   "metadata": {},
   "outputs": [
    {
     "data": {
      "text/html": [
       "17732"
      ],
      "text/latex": [
       "17732"
      ],
      "text/markdown": [
       "17732"
      ],
      "text/plain": [
       "[1] 17732"
      ]
     },
     "metadata": {},
     "output_type": "display_data"
    }
   ],
   "source": [
    "# Remove repetitions of 1 ENSEMBLE ID in the same functional annotations\n",
    "exp_to_tree_map <- exp_to_tree_map[!duplicated(exp_to_tree_map[, \n",
    "                        c(\"Functional.Annotation.Subgroup\", \"Functional.Annotation\", \"geneId\")]), ]\n",
    "nrow(exp_to_tree_map)"
   ]
  },
  {
   "cell_type": "code",
   "execution_count": 29,
   "metadata": {},
   "outputs": [
    {
     "name": "stderr",
     "output_type": "stream",
     "text": [
      "ERROR while rich displaying an object: Error in sprintf(wrap, caption, header, body): 'fmt' length exceeds maximal format length 8192\n",
      "\n",
      "Traceback:\n",
      "1. FUN(X[[i]], ...)\n",
      "2. tryCatch(withCallingHandlers({\n",
      " .     if (!mime %in% names(repr::mime2repr)) \n",
      " .         stop(\"No repr_* for mimetype \", mime, \" in repr::mime2repr\")\n",
      " .     rpr <- repr::mime2repr[[mime]](obj)\n",
      " .     if (is.null(rpr)) \n",
      " .         return(NULL)\n",
      " .     prepare_content(is.raw(rpr), rpr)\n",
      " . }, error = error_handler), error = outer_handler)\n",
      "3. tryCatchList(expr, classes, parentenv, handlers)\n",
      "4. tryCatchOne(expr, names, parentenv, handlers[[1L]])\n",
      "5. doTryCatch(return(expr), name, parentenv, handler)\n",
      "6. withCallingHandlers({\n",
      " .     if (!mime %in% names(repr::mime2repr)) \n",
      " .         stop(\"No repr_* for mimetype \", mime, \" in repr::mime2repr\")\n",
      " .     rpr <- repr::mime2repr[[mime]](obj)\n",
      " .     if (is.null(rpr)) \n",
      " .         return(NULL)\n",
      " .     prepare_content(is.raw(rpr), rpr)\n",
      " . }, error = error_handler)\n",
      "7. repr::mime2repr[[mime]](obj)\n",
      "8. repr_latex.data.frame(obj)\n",
      "9. repr_matrix_generic(obj, sprintf(\"%%s\\n\\\\begin{tabular}{%s}\\n%%s%%s\\\\end{tabular}\\n\", \n",
      " .     cols), \"%s\\\\hline\\n\", \"%s\\\\\\\\\\n\", \"  &\", \" %s &\", \"%s\", \"\\t%s\\\\\\\\\\n\", \n",
      " .     \"%s &\", \" %s &\", escape_fun = latex_escape_vec, rows = rows, \n",
      " .     cols = cols, ...)\n",
      "10. sprintf(wrap, caption, header, body)\n"
     ]
    },
    {
     "data": {
      "text/html": [
       "<table>\n",
       "<caption>A data.frame: 6 × 10544</caption>\n",
       "<thead>\n",
       "\t<tr><th scope=col>geneId</th><th scope=col>geneName</th><th scope=col>keggId</th><th scope=col>keggBriteId</th><th scope=col>Functional.Annotation.Group</th><th scope=col>Functional.Annotation.Subgroup</th><th scope=col>Functional.Annotation</th><th scope=col>TCGA.02.0047.01</th><th scope=col>TCGA.02.0055.01</th><th scope=col>TCGA.02.2483.01</th><th scope=col>⋯</th><th scope=col>TCGA.ZS.A9CE.01</th><th scope=col>TCGA.ZS.A9CF.01</th><th scope=col>TCGA.ZS.A9CF.02</th><th scope=col>TCGA.ZS.A9CG.01</th><th scope=col>TCGA.ZT.A8OM.01</th><th scope=col>TCGA.ZU.A8S4.01</th><th scope=col>TCGA.ZU.A8S4.11</th><th scope=col>TCGA.ZX.AA5X.01</th><th scope=col>tamPixel</th><th scope=col>order</th></tr>\n",
       "\t<tr><th scope=col>&lt;chr&gt;</th><th scope=col>&lt;chr&gt;</th><th scope=col>&lt;chr&gt;</th><th scope=col>&lt;int&gt;</th><th scope=col>&lt;chr&gt;</th><th scope=col>&lt;chr&gt;</th><th scope=col>&lt;chr&gt;</th><th scope=col>&lt;dbl&gt;</th><th scope=col>&lt;dbl&gt;</th><th scope=col>&lt;dbl&gt;</th><th scope=col>⋯</th><th scope=col>&lt;dbl&gt;</th><th scope=col>&lt;dbl&gt;</th><th scope=col>&lt;dbl&gt;</th><th scope=col>&lt;dbl&gt;</th><th scope=col>&lt;dbl&gt;</th><th scope=col>&lt;dbl&gt;</th><th scope=col>&lt;dbl&gt;</th><th scope=col>&lt;dbl&gt;</th><th scope=col>&lt;dbl&gt;</th><th scope=col>&lt;dbl&gt;</th></tr>\n",
       "</thead>\n",
       "<tbody>\n",
       "\t<tr><td>ENSG00000187961.13</td><td>KLHL17</td><td>hsa:339451</td><td>   1</td><td>Genes and Proteins</td><td>Orthologs and modules                           </td><td>KEGG Orthology (KO)  </td><td>1.3225</td><td>2.3135</td><td>2.5707</td><td>⋯</td><td> 0.8883</td><td>1.7532</td><td> 0.7664</td><td>0.2998</td><td>1.9226</td><td>2.7336</td><td>-0.3752</td><td>2.7972</td><td>1</td><td>1.992469</td></tr>\n",
       "\t<tr><td>ENSG00000187961.13</td><td>KLHL17</td><td>hsa:339451</td><td>4121</td><td>Genes and Proteins</td><td>Protein families: genetic information processing</td><td>Ubiquitin system     </td><td>1.3225</td><td>2.3135</td><td>2.5707</td><td>⋯</td><td> 0.8883</td><td>1.7532</td><td> 0.7664</td><td>0.2998</td><td>1.9226</td><td>2.7336</td><td>-0.3752</td><td>2.7972</td><td>1</td><td>1.992469</td></tr>\n",
       "\t<tr><td>ENSG00000188290.10</td><td>HES4  </td><td>hsa:57801 </td><td>   1</td><td>Genes and Proteins</td><td>Orthologs and modules                           </td><td>KEGG Orthology (KO)  </td><td>4.1604</td><td>3.6148</td><td>3.8729</td><td>⋯</td><td>-0.3201</td><td>0.9642</td><td>-0.8084</td><td>0.2762</td><td>5.8595</td><td>3.9156</td><td>-0.1504</td><td>4.3751</td><td>1</td><td>2.791702</td></tr>\n",
       "\t<tr><td>ENSG00000188290.10</td><td>HES4  </td><td>hsa:57801 </td><td>3000</td><td>Genes and Proteins</td><td>Protein families: genetic information processing</td><td>Transcription factors</td><td>4.1604</td><td>3.6148</td><td>3.8729</td><td>⋯</td><td>-0.3201</td><td>0.9642</td><td>-0.8084</td><td>0.2762</td><td>5.8595</td><td>3.9156</td><td>-0.1504</td><td>4.3751</td><td>1</td><td>2.791702</td></tr>\n",
       "\t<tr><td>ENSG00000187608.8 </td><td>ISG15 </td><td>hsa:9636  </td><td>   1</td><td>Genes and Proteins</td><td>Orthologs and modules                           </td><td>KEGG Orthology (KO)  </td><td>5.8166</td><td>6.9599</td><td>5.9072</td><td>⋯</td><td> 6.4074</td><td>6.1183</td><td> 5.0592</td><td>5.2122</td><td>7.4520</td><td>6.6671</td><td> 4.7783</td><td>9.7576</td><td>1</td><td>6.491173</td></tr>\n",
       "\t<tr><td>ENSG00000187608.8 </td><td>ISG15 </td><td>hsa:9636  </td><td>4121</td><td>Genes and Proteins</td><td>Protein families: genetic information processing</td><td>Ubiquitin system     </td><td>5.8166</td><td>6.9599</td><td>5.9072</td><td>⋯</td><td> 6.4074</td><td>6.1183</td><td> 5.0592</td><td>5.2122</td><td>7.4520</td><td>6.6671</td><td> 4.7783</td><td>9.7576</td><td>1</td><td>6.491173</td></tr>\n",
       "</tbody>\n",
       "</table>\n"
      ],
      "text/markdown": [
       "\n",
       "A data.frame: 6 × 10544\n",
       "\n",
       "| geneId &lt;chr&gt; | geneName &lt;chr&gt; | keggId &lt;chr&gt; | keggBriteId &lt;int&gt; | Functional.Annotation.Group &lt;chr&gt; | Functional.Annotation.Subgroup &lt;chr&gt; | Functional.Annotation &lt;chr&gt; | TCGA.02.0047.01 &lt;dbl&gt; | TCGA.02.0055.01 &lt;dbl&gt; | TCGA.02.2483.01 &lt;dbl&gt; | ⋯ ⋯ | TCGA.ZS.A9CE.01 &lt;dbl&gt; | TCGA.ZS.A9CF.01 &lt;dbl&gt; | TCGA.ZS.A9CF.02 &lt;dbl&gt; | TCGA.ZS.A9CG.01 &lt;dbl&gt; | TCGA.ZT.A8OM.01 &lt;dbl&gt; | TCGA.ZU.A8S4.01 &lt;dbl&gt; | TCGA.ZU.A8S4.11 &lt;dbl&gt; | TCGA.ZX.AA5X.01 &lt;dbl&gt; | tamPixel &lt;dbl&gt; | order &lt;dbl&gt; |\n",
       "|---|---|---|---|---|---|---|---|---|---|---|---|---|---|---|---|---|---|---|---|---|\n",
       "| ENSG00000187961.13 | KLHL17 | hsa:339451 |    1 | Genes and Proteins | Orthologs and modules                            | KEGG Orthology (KO)   | 1.3225 | 2.3135 | 2.5707 | ⋯ |  0.8883 | 1.7532 |  0.7664 | 0.2998 | 1.9226 | 2.7336 | -0.3752 | 2.7972 | 1 | 1.992469 |\n",
       "| ENSG00000187961.13 | KLHL17 | hsa:339451 | 4121 | Genes and Proteins | Protein families: genetic information processing | Ubiquitin system      | 1.3225 | 2.3135 | 2.5707 | ⋯ |  0.8883 | 1.7532 |  0.7664 | 0.2998 | 1.9226 | 2.7336 | -0.3752 | 2.7972 | 1 | 1.992469 |\n",
       "| ENSG00000188290.10 | HES4   | hsa:57801  |    1 | Genes and Proteins | Orthologs and modules                            | KEGG Orthology (KO)   | 4.1604 | 3.6148 | 3.8729 | ⋯ | -0.3201 | 0.9642 | -0.8084 | 0.2762 | 5.8595 | 3.9156 | -0.1504 | 4.3751 | 1 | 2.791702 |\n",
       "| ENSG00000188290.10 | HES4   | hsa:57801  | 3000 | Genes and Proteins | Protein families: genetic information processing | Transcription factors | 4.1604 | 3.6148 | 3.8729 | ⋯ | -0.3201 | 0.9642 | -0.8084 | 0.2762 | 5.8595 | 3.9156 | -0.1504 | 4.3751 | 1 | 2.791702 |\n",
       "| ENSG00000187608.8  | ISG15  | hsa:9636   |    1 | Genes and Proteins | Orthologs and modules                            | KEGG Orthology (KO)   | 5.8166 | 6.9599 | 5.9072 | ⋯ |  6.4074 | 6.1183 |  5.0592 | 5.2122 | 7.4520 | 6.6671 |  4.7783 | 9.7576 | 1 | 6.491173 |\n",
       "| ENSG00000187608.8  | ISG15  | hsa:9636   | 4121 | Genes and Proteins | Protein families: genetic information processing | Ubiquitin system      | 5.8166 | 6.9599 | 5.9072 | ⋯ |  6.4074 | 6.1183 |  5.0592 | 5.2122 | 7.4520 | 6.6671 |  4.7783 | 9.7576 | 1 | 6.491173 |\n",
       "\n"
      ],
      "text/plain": [
       "  geneId             geneName keggId     keggBriteId\n",
       "1 ENSG00000187961.13 KLHL17   hsa:339451    1       \n",
       "2 ENSG00000187961.13 KLHL17   hsa:339451 4121       \n",
       "3 ENSG00000188290.10 HES4     hsa:57801     1       \n",
       "4 ENSG00000188290.10 HES4     hsa:57801  3000       \n",
       "5 ENSG00000187608.8  ISG15    hsa:9636      1       \n",
       "6 ENSG00000187608.8  ISG15    hsa:9636   4121       \n",
       "  Functional.Annotation.Group Functional.Annotation.Subgroup                  \n",
       "1 Genes and Proteins          Orthologs and modules                           \n",
       "2 Genes and Proteins          Protein families: genetic information processing\n",
       "3 Genes and Proteins          Orthologs and modules                           \n",
       "4 Genes and Proteins          Protein families: genetic information processing\n",
       "5 Genes and Proteins          Orthologs and modules                           \n",
       "6 Genes and Proteins          Protein families: genetic information processing\n",
       "  Functional.Annotation TCGA.02.0047.01 TCGA.02.0055.01 TCGA.02.2483.01 ⋯\n",
       "1 KEGG Orthology (KO)   1.3225          2.3135          2.5707          ⋯\n",
       "2 Ubiquitin system      1.3225          2.3135          2.5707          ⋯\n",
       "3 KEGG Orthology (KO)   4.1604          3.6148          3.8729          ⋯\n",
       "4 Transcription factors 4.1604          3.6148          3.8729          ⋯\n",
       "5 KEGG Orthology (KO)   5.8166          6.9599          5.9072          ⋯\n",
       "6 Ubiquitin system      5.8166          6.9599          5.9072          ⋯\n",
       "  TCGA.ZS.A9CE.01 TCGA.ZS.A9CF.01 TCGA.ZS.A9CF.02 TCGA.ZS.A9CG.01\n",
       "1  0.8883         1.7532           0.7664         0.2998         \n",
       "2  0.8883         1.7532           0.7664         0.2998         \n",
       "3 -0.3201         0.9642          -0.8084         0.2762         \n",
       "4 -0.3201         0.9642          -0.8084         0.2762         \n",
       "5  6.4074         6.1183           5.0592         5.2122         \n",
       "6  6.4074         6.1183           5.0592         5.2122         \n",
       "  TCGA.ZT.A8OM.01 TCGA.ZU.A8S4.01 TCGA.ZU.A8S4.11 TCGA.ZX.AA5X.01 tamPixel\n",
       "1 1.9226          2.7336          -0.3752         2.7972          1       \n",
       "2 1.9226          2.7336          -0.3752         2.7972          1       \n",
       "3 5.8595          3.9156          -0.1504         4.3751          1       \n",
       "4 5.8595          3.9156          -0.1504         4.3751          1       \n",
       "5 7.4520          6.6671           4.7783         9.7576          1       \n",
       "6 7.4520          6.6671           4.7783         9.7576          1       \n",
       "  order   \n",
       "1 1.992469\n",
       "2 1.992469\n",
       "3 2.791702\n",
       "4 2.791702\n",
       "5 6.491173\n",
       "6 6.491173"
      ]
     },
     "metadata": {},
     "output_type": "display_data"
    }
   ],
   "source": [
    "head(exp_to_tree_map)"
   ]
  },
  {
   "cell_type": "markdown",
   "metadata": {},
   "source": [
    "### Genes to colours\n",
    "\n",
    "We create a treemap in which every color maps to a distinct gene. Hence, all leaves in the KEGG BRITE functional hierarchies tree corresponding to the same gene are represented by the same color."
   ]
  },
  {
   "cell_type": "code",
   "execution_count": 30,
   "metadata": {},
   "outputs": [
    {
     "data": {
      "text/html": [
       "7509"
      ],
      "text/latex": [
       "7509"
      ],
      "text/markdown": [
       "7509"
      ],
      "text/plain": [
       "[1] 7509"
      ]
     },
     "metadata": {},
     "output_type": "display_data"
    }
   ],
   "source": [
    "gene <- unique(exp_to_tree_map$geneId)\n",
    "length(gene)"
   ]
  },
  {
   "cell_type": "markdown",
   "metadata": {},
   "source": [
    "We first generate a set of 65536 RGB colors:"
   ]
  },
  {
   "cell_type": "code",
   "execution_count": 31,
   "metadata": {},
   "outputs": [],
   "source": [
    "start.time <- Sys.time()\n",
    "col_rgb <- character()\n",
    "for (i in 0:255) {\n",
    "  for (j in 0:255) {\n",
    "    col_rgb <- append(col_rgb, rgb(red=i, green=j, blue=j, maxColorValue=255))\n",
    "  }\n",
    "}\n",
    "end.time <- Sys.time()"
   ]
  },
  {
   "cell_type": "code",
   "execution_count": 32,
   "metadata": {},
   "outputs": [
    {
     "data": {
      "text/plain": [
       "Time difference of 11.95584 secs"
      ]
     },
     "metadata": {},
     "output_type": "display_data"
    }
   ],
   "source": [
    "end.time - start.time"
   ]
  },
  {
   "cell_type": "code",
   "execution_count": 33,
   "metadata": {},
   "outputs": [
    {
     "data": {
      "text/html": [
       "65536"
      ],
      "text/latex": [
       "65536"
      ],
      "text/markdown": [
       "65536"
      ],
      "text/plain": [
       "[1] 65536"
      ]
     },
     "metadata": {},
     "output_type": "display_data"
    }
   ],
   "source": [
    "length(col_rgb)"
   ]
  },
  {
   "cell_type": "markdown",
   "metadata": {},
   "source": [
    "From the complete set of colours, we select a subset of 7509 colors, in order to associate one distinct color to every gene:"
   ]
  },
  {
   "cell_type": "code",
   "execution_count": 34,
   "metadata": {},
   "outputs": [],
   "source": [
    "gene_color <- data.frame(color = col_rgb[seq(from=1, to=length(col_rgb), \n",
    "                by=as.integer(length(col_rgb)/length(gene)))][1:length(gene)], stringsAsFactors = FALSE)"
   ]
  },
  {
   "cell_type": "code",
   "execution_count": 35,
   "metadata": {},
   "outputs": [],
   "source": [
    "rownames(gene_color) <- gene"
   ]
  },
  {
   "cell_type": "code",
   "execution_count": 36,
   "metadata": {},
   "outputs": [
    {
     "data": {
      "text/html": [
       "<table>\n",
       "<caption>A data.frame: 6 × 1</caption>\n",
       "<thead>\n",
       "\t<tr><th></th><th scope=col>color</th></tr>\n",
       "\t<tr><th></th><th scope=col>&lt;chr&gt;</th></tr>\n",
       "</thead>\n",
       "<tbody>\n",
       "\t<tr><th scope=row>ENSG00000012817.15</th><td>#EA7878</td></tr>\n",
       "\t<tr><th scope=row>ENSG00000198692.9</th><td>#EA8080</td></tr>\n",
       "\t<tr><th scope=row>ENSG00000105227.14</th><td>#EA8888</td></tr>\n",
       "\t<tr><th scope=row>ENSG00000164237.8</th><td>#EA9090</td></tr>\n",
       "\t<tr><th scope=row>ENSG00000175048.16</th><td>#EA9898</td></tr>\n",
       "\t<tr><th scope=row>ENSG00000188706.12</th><td>#EAA0A0</td></tr>\n",
       "</tbody>\n",
       "</table>\n"
      ],
      "text/latex": [
       "A data.frame: 6 × 1\n",
       "\\begin{tabular}{r|l}\n",
       "  & color\\\\\n",
       "  & <chr>\\\\\n",
       "\\hline\n",
       "\tENSG00000012817.15 & \\#EA7878\\\\\n",
       "\tENSG00000198692.9 & \\#EA8080\\\\\n",
       "\tENSG00000105227.14 & \\#EA8888\\\\\n",
       "\tENSG00000164237.8 & \\#EA9090\\\\\n",
       "\tENSG00000175048.16 & \\#EA9898\\\\\n",
       "\tENSG00000188706.12 & \\#EAA0A0\\\\\n",
       "\\end{tabular}\n"
      ],
      "text/markdown": [
       "\n",
       "A data.frame: 6 × 1\n",
       "\n",
       "| <!--/--> | color &lt;chr&gt; |\n",
       "|---|---|\n",
       "| ENSG00000012817.15 | #EA7878 |\n",
       "| ENSG00000198692.9 | #EA8080 |\n",
       "| ENSG00000105227.14 | #EA8888 |\n",
       "| ENSG00000164237.8 | #EA9090 |\n",
       "| ENSG00000175048.16 | #EA9898 |\n",
       "| ENSG00000188706.12 | #EAA0A0 |\n",
       "\n"
      ],
      "text/plain": [
       "                   color  \n",
       "ENSG00000012817.15 #EA7878\n",
       "ENSG00000198692.9  #EA8080\n",
       "ENSG00000105227.14 #EA8888\n",
       "ENSG00000164237.8  #EA9090\n",
       "ENSG00000175048.16 #EA9898\n",
       "ENSG00000188706.12 #EAA0A0"
      ]
     },
     "metadata": {},
     "output_type": "display_data"
    }
   ],
   "source": [
    "# Background color, e.g. #FFFFFF, used later to generate the PNG image, \n",
    "# can not be contained in the set of colors\n",
    "tail(gene_color)"
   ]
  },
  {
   "cell_type": "markdown",
   "metadata": {},
   "source": [
    "We create a new column in the `exp_to_tree_map` dataset that specifies the colors to which genes are associated:"
   ]
  },
  {
   "cell_type": "code",
   "execution_count": 37,
   "metadata": {},
   "outputs": [],
   "source": [
    "exp_to_tree_map[\"colorGene\"] <- gene_color[exp_to_tree_map$geneId, \"color\"]"
   ]
  },
  {
   "cell_type": "code",
   "execution_count": 38,
   "metadata": {},
   "outputs": [
    {
     "name": "stderr",
     "output_type": "stream",
     "text": [
      "ERROR while rich displaying an object: Error in sprintf(wrap, caption, header, body): 'fmt' length exceeds maximal format length 8192\n",
      "\n",
      "Traceback:\n",
      "1. FUN(X[[i]], ...)\n",
      "2. tryCatch(withCallingHandlers({\n",
      " .     if (!mime %in% names(repr::mime2repr)) \n",
      " .         stop(\"No repr_* for mimetype \", mime, \" in repr::mime2repr\")\n",
      " .     rpr <- repr::mime2repr[[mime]](obj)\n",
      " .     if (is.null(rpr)) \n",
      " .         return(NULL)\n",
      " .     prepare_content(is.raw(rpr), rpr)\n",
      " . }, error = error_handler), error = outer_handler)\n",
      "3. tryCatchList(expr, classes, parentenv, handlers)\n",
      "4. tryCatchOne(expr, names, parentenv, handlers[[1L]])\n",
      "5. doTryCatch(return(expr), name, parentenv, handler)\n",
      "6. withCallingHandlers({\n",
      " .     if (!mime %in% names(repr::mime2repr)) \n",
      " .         stop(\"No repr_* for mimetype \", mime, \" in repr::mime2repr\")\n",
      " .     rpr <- repr::mime2repr[[mime]](obj)\n",
      " .     if (is.null(rpr)) \n",
      " .         return(NULL)\n",
      " .     prepare_content(is.raw(rpr), rpr)\n",
      " . }, error = error_handler)\n",
      "7. repr::mime2repr[[mime]](obj)\n",
      "8. repr_latex.data.frame(obj)\n",
      "9. repr_matrix_generic(obj, sprintf(\"%%s\\n\\\\begin{tabular}{%s}\\n%%s%%s\\\\end{tabular}\\n\", \n",
      " .     cols), \"%s\\\\hline\\n\", \"%s\\\\\\\\\\n\", \"  &\", \" %s &\", \"%s\", \"\\t%s\\\\\\\\\\n\", \n",
      " .     \"%s &\", \" %s &\", escape_fun = latex_escape_vec, rows = rows, \n",
      " .     cols = cols, ...)\n",
      "10. sprintf(wrap, caption, header, body)\n"
     ]
    },
    {
     "data": {
      "text/html": [
       "<table>\n",
       "<caption>A data.frame: 6 × 10545</caption>\n",
       "<thead>\n",
       "\t<tr><th scope=col>geneId</th><th scope=col>geneName</th><th scope=col>keggId</th><th scope=col>keggBriteId</th><th scope=col>Functional.Annotation.Group</th><th scope=col>Functional.Annotation.Subgroup</th><th scope=col>Functional.Annotation</th><th scope=col>TCGA.02.0047.01</th><th scope=col>TCGA.02.0055.01</th><th scope=col>TCGA.02.2483.01</th><th scope=col>⋯</th><th scope=col>TCGA.ZS.A9CF.01</th><th scope=col>TCGA.ZS.A9CF.02</th><th scope=col>TCGA.ZS.A9CG.01</th><th scope=col>TCGA.ZT.A8OM.01</th><th scope=col>TCGA.ZU.A8S4.01</th><th scope=col>TCGA.ZU.A8S4.11</th><th scope=col>TCGA.ZX.AA5X.01</th><th scope=col>tamPixel</th><th scope=col>order</th><th scope=col>colorGene</th></tr>\n",
       "\t<tr><th scope=col>&lt;chr&gt;</th><th scope=col>&lt;chr&gt;</th><th scope=col>&lt;chr&gt;</th><th scope=col>&lt;int&gt;</th><th scope=col>&lt;chr&gt;</th><th scope=col>&lt;chr&gt;</th><th scope=col>&lt;chr&gt;</th><th scope=col>&lt;dbl&gt;</th><th scope=col>&lt;dbl&gt;</th><th scope=col>&lt;dbl&gt;</th><th scope=col>⋯</th><th scope=col>&lt;dbl&gt;</th><th scope=col>&lt;dbl&gt;</th><th scope=col>&lt;dbl&gt;</th><th scope=col>&lt;dbl&gt;</th><th scope=col>&lt;dbl&gt;</th><th scope=col>&lt;dbl&gt;</th><th scope=col>&lt;dbl&gt;</th><th scope=col>&lt;dbl&gt;</th><th scope=col>&lt;dbl&gt;</th><th scope=col>&lt;chr&gt;</th></tr>\n",
       "</thead>\n",
       "<tbody>\n",
       "\t<tr><td>ENSG00000187961.13</td><td>KLHL17</td><td>hsa:339451</td><td>   1</td><td>Genes and Proteins</td><td>Orthologs and modules                           </td><td>KEGG Orthology (KO)  </td><td>1.3225</td><td>2.3135</td><td>2.5707</td><td>⋯</td><td>1.7532</td><td> 0.7664</td><td>0.2998</td><td>1.9226</td><td>2.7336</td><td>-0.3752</td><td>2.7972</td><td>1</td><td>1.992469</td><td>#000000</td></tr>\n",
       "\t<tr><td>ENSG00000187961.13</td><td>KLHL17</td><td>hsa:339451</td><td>4121</td><td>Genes and Proteins</td><td>Protein families: genetic information processing</td><td>Ubiquitin system     </td><td>1.3225</td><td>2.3135</td><td>2.5707</td><td>⋯</td><td>1.7532</td><td> 0.7664</td><td>0.2998</td><td>1.9226</td><td>2.7336</td><td>-0.3752</td><td>2.7972</td><td>1</td><td>1.992469</td><td>#000000</td></tr>\n",
       "\t<tr><td>ENSG00000188290.10</td><td>HES4  </td><td>hsa:57801 </td><td>   1</td><td>Genes and Proteins</td><td>Orthologs and modules                           </td><td>KEGG Orthology (KO)  </td><td>4.1604</td><td>3.6148</td><td>3.8729</td><td>⋯</td><td>0.9642</td><td>-0.8084</td><td>0.2762</td><td>5.8595</td><td>3.9156</td><td>-0.1504</td><td>4.3751</td><td>1</td><td>2.791702</td><td>#000808</td></tr>\n",
       "\t<tr><td>ENSG00000188290.10</td><td>HES4  </td><td>hsa:57801 </td><td>3000</td><td>Genes and Proteins</td><td>Protein families: genetic information processing</td><td>Transcription factors</td><td>4.1604</td><td>3.6148</td><td>3.8729</td><td>⋯</td><td>0.9642</td><td>-0.8084</td><td>0.2762</td><td>5.8595</td><td>3.9156</td><td>-0.1504</td><td>4.3751</td><td>1</td><td>2.791702</td><td>#000808</td></tr>\n",
       "\t<tr><td>ENSG00000187608.8 </td><td>ISG15 </td><td>hsa:9636  </td><td>   1</td><td>Genes and Proteins</td><td>Orthologs and modules                           </td><td>KEGG Orthology (KO)  </td><td>5.8166</td><td>6.9599</td><td>5.9072</td><td>⋯</td><td>6.1183</td><td> 5.0592</td><td>5.2122</td><td>7.4520</td><td>6.6671</td><td> 4.7783</td><td>9.7576</td><td>1</td><td>6.491173</td><td>#001010</td></tr>\n",
       "\t<tr><td>ENSG00000187608.8 </td><td>ISG15 </td><td>hsa:9636  </td><td>4121</td><td>Genes and Proteins</td><td>Protein families: genetic information processing</td><td>Ubiquitin system     </td><td>5.8166</td><td>6.9599</td><td>5.9072</td><td>⋯</td><td>6.1183</td><td> 5.0592</td><td>5.2122</td><td>7.4520</td><td>6.6671</td><td> 4.7783</td><td>9.7576</td><td>1</td><td>6.491173</td><td>#001010</td></tr>\n",
       "</tbody>\n",
       "</table>\n"
      ],
      "text/markdown": [
       "\n",
       "A data.frame: 6 × 10545\n",
       "\n",
       "| geneId &lt;chr&gt; | geneName &lt;chr&gt; | keggId &lt;chr&gt; | keggBriteId &lt;int&gt; | Functional.Annotation.Group &lt;chr&gt; | Functional.Annotation.Subgroup &lt;chr&gt; | Functional.Annotation &lt;chr&gt; | TCGA.02.0047.01 &lt;dbl&gt; | TCGA.02.0055.01 &lt;dbl&gt; | TCGA.02.2483.01 &lt;dbl&gt; | ⋯ ⋯ | TCGA.ZS.A9CF.01 &lt;dbl&gt; | TCGA.ZS.A9CF.02 &lt;dbl&gt; | TCGA.ZS.A9CG.01 &lt;dbl&gt; | TCGA.ZT.A8OM.01 &lt;dbl&gt; | TCGA.ZU.A8S4.01 &lt;dbl&gt; | TCGA.ZU.A8S4.11 &lt;dbl&gt; | TCGA.ZX.AA5X.01 &lt;dbl&gt; | tamPixel &lt;dbl&gt; | order &lt;dbl&gt; | colorGene &lt;chr&gt; |\n",
       "|---|---|---|---|---|---|---|---|---|---|---|---|---|---|---|---|---|---|---|---|---|\n",
       "| ENSG00000187961.13 | KLHL17 | hsa:339451 |    1 | Genes and Proteins | Orthologs and modules                            | KEGG Orthology (KO)   | 1.3225 | 2.3135 | 2.5707 | ⋯ | 1.7532 |  0.7664 | 0.2998 | 1.9226 | 2.7336 | -0.3752 | 2.7972 | 1 | 1.992469 | #000000 |\n",
       "| ENSG00000187961.13 | KLHL17 | hsa:339451 | 4121 | Genes and Proteins | Protein families: genetic information processing | Ubiquitin system      | 1.3225 | 2.3135 | 2.5707 | ⋯ | 1.7532 |  0.7664 | 0.2998 | 1.9226 | 2.7336 | -0.3752 | 2.7972 | 1 | 1.992469 | #000000 |\n",
       "| ENSG00000188290.10 | HES4   | hsa:57801  |    1 | Genes and Proteins | Orthologs and modules                            | KEGG Orthology (KO)   | 4.1604 | 3.6148 | 3.8729 | ⋯ | 0.9642 | -0.8084 | 0.2762 | 5.8595 | 3.9156 | -0.1504 | 4.3751 | 1 | 2.791702 | #000808 |\n",
       "| ENSG00000188290.10 | HES4   | hsa:57801  | 3000 | Genes and Proteins | Protein families: genetic information processing | Transcription factors | 4.1604 | 3.6148 | 3.8729 | ⋯ | 0.9642 | -0.8084 | 0.2762 | 5.8595 | 3.9156 | -0.1504 | 4.3751 | 1 | 2.791702 | #000808 |\n",
       "| ENSG00000187608.8  | ISG15  | hsa:9636   |    1 | Genes and Proteins | Orthologs and modules                            | KEGG Orthology (KO)   | 5.8166 | 6.9599 | 5.9072 | ⋯ | 6.1183 |  5.0592 | 5.2122 | 7.4520 | 6.6671 |  4.7783 | 9.7576 | 1 | 6.491173 | #001010 |\n",
       "| ENSG00000187608.8  | ISG15  | hsa:9636   | 4121 | Genes and Proteins | Protein families: genetic information processing | Ubiquitin system      | 5.8166 | 6.9599 | 5.9072 | ⋯ | 6.1183 |  5.0592 | 5.2122 | 7.4520 | 6.6671 |  4.7783 | 9.7576 | 1 | 6.491173 | #001010 |\n",
       "\n"
      ],
      "text/plain": [
       "  geneId             geneName keggId     keggBriteId\n",
       "1 ENSG00000187961.13 KLHL17   hsa:339451    1       \n",
       "2 ENSG00000187961.13 KLHL17   hsa:339451 4121       \n",
       "3 ENSG00000188290.10 HES4     hsa:57801     1       \n",
       "4 ENSG00000188290.10 HES4     hsa:57801  3000       \n",
       "5 ENSG00000187608.8  ISG15    hsa:9636      1       \n",
       "6 ENSG00000187608.8  ISG15    hsa:9636   4121       \n",
       "  Functional.Annotation.Group Functional.Annotation.Subgroup                  \n",
       "1 Genes and Proteins          Orthologs and modules                           \n",
       "2 Genes and Proteins          Protein families: genetic information processing\n",
       "3 Genes and Proteins          Orthologs and modules                           \n",
       "4 Genes and Proteins          Protein families: genetic information processing\n",
       "5 Genes and Proteins          Orthologs and modules                           \n",
       "6 Genes and Proteins          Protein families: genetic information processing\n",
       "  Functional.Annotation TCGA.02.0047.01 TCGA.02.0055.01 TCGA.02.2483.01 ⋯\n",
       "1 KEGG Orthology (KO)   1.3225          2.3135          2.5707          ⋯\n",
       "2 Ubiquitin system      1.3225          2.3135          2.5707          ⋯\n",
       "3 KEGG Orthology (KO)   4.1604          3.6148          3.8729          ⋯\n",
       "4 Transcription factors 4.1604          3.6148          3.8729          ⋯\n",
       "5 KEGG Orthology (KO)   5.8166          6.9599          5.9072          ⋯\n",
       "6 Ubiquitin system      5.8166          6.9599          5.9072          ⋯\n",
       "  TCGA.ZS.A9CF.01 TCGA.ZS.A9CF.02 TCGA.ZS.A9CG.01 TCGA.ZT.A8OM.01\n",
       "1 1.7532           0.7664         0.2998          1.9226         \n",
       "2 1.7532           0.7664         0.2998          1.9226         \n",
       "3 0.9642          -0.8084         0.2762          5.8595         \n",
       "4 0.9642          -0.8084         0.2762          5.8595         \n",
       "5 6.1183           5.0592         5.2122          7.4520         \n",
       "6 6.1183           5.0592         5.2122          7.4520         \n",
       "  TCGA.ZU.A8S4.01 TCGA.ZU.A8S4.11 TCGA.ZX.AA5X.01 tamPixel order    colorGene\n",
       "1 2.7336          -0.3752         2.7972          1        1.992469 #000000  \n",
       "2 2.7336          -0.3752         2.7972          1        1.992469 #000000  \n",
       "3 3.9156          -0.1504         4.3751          1        2.791702 #000808  \n",
       "4 3.9156          -0.1504         4.3751          1        2.791702 #000808  \n",
       "5 6.6671           4.7783         9.7576          1        6.491173 #001010  \n",
       "6 6.6671           4.7783         9.7576          1        6.491173 #001010  "
      ]
     },
     "metadata": {},
     "output_type": "display_data"
    }
   ],
   "source": [
    "head(exp_to_tree_map)"
   ]
  },
  {
   "cell_type": "markdown",
   "metadata": {},
   "source": [
    "Now, we generate the KEGG BRITE functional-hierarchies treemap, and show it as an image with an arbitrary resolution:"
   ]
  },
  {
   "cell_type": "code",
   "execution_count": 39,
   "metadata": {},
   "outputs": [],
   "source": [
    "library(treemap)"
   ]
  },
  {
   "cell_type": "code",
   "execution_count": 40,
   "metadata": {},
   "outputs": [
    {
     "data": {
      "image/png": "[encoded data removed]",
      "text/plain": [
       "plot without title"
      ]
     },
     "metadata": {},
     "output_type": "display_data"
    }
   ],
   "source": [
    "start.time <- Sys.time()\n",
    "res <- treemap(dtf=exp_to_tree_map, index=c(\"Functional.Annotation.Subgroup\", \"Functional.Annotation\", \"geneId\"), \n",
    "               vSize=\"tamPixel\", vColor=\"colorGene\", type=\"color\", algorithm=\"pivotSize\", sortID=\"order\", \n",
    "               fontsize.labels=0, fontsize.title=0,\n",
    "               border.lwds=0, position.legend=\"none\", aspRatio=1, frame.plot=FALSE, draw=TRUE)\n",
    "end.time <- Sys.time()"
   ]
  },
  {
   "cell_type": "code",
   "execution_count": 41,
   "metadata": {
    "scrolled": true
   },
   "outputs": [
    {
     "data": {
      "text/plain": [
       "Time difference of 1,304629 mins"
      ]
     },
     "metadata": {},
     "output_type": "display_data"
    }
   ],
   "source": [
    "end.time - start.time"
   ]
  },
  {
   "cell_type": "markdown",
   "metadata": {},
   "source": [
    "The output dataset corresponds to a continuous description of the generated treemap:"
   ]
  },
  {
   "cell_type": "code",
   "execution_count": 42,
   "metadata": {},
   "outputs": [
    {
     "data": {
      "text/html": [
       "<table>\n",
       "<caption>A data.frame: 6 × 13</caption>\n",
       "<thead>\n",
       "\t<tr><th scope=col>Functional.Annotation.Subgroup</th><th scope=col>Functional.Annotation</th><th scope=col>geneId</th><th scope=col>vSize</th><th scope=col>vColor</th><th scope=col>stdErr</th><th scope=col>vColorValue</th><th scope=col>level</th><th scope=col>x0</th><th scope=col>y0</th><th scope=col>w</th><th scope=col>h</th><th scope=col>color</th></tr>\n",
       "\t<tr><th scope=col>&lt;fct&gt;</th><th scope=col>&lt;fct&gt;</th><th scope=col>&lt;fct&gt;</th><th scope=col>&lt;dbl&gt;</th><th scope=col>&lt;fct&gt;</th><th scope=col>&lt;dbl&gt;</th><th scope=col>&lt;lgl&gt;</th><th scope=col>&lt;int&gt;</th><th scope=col>&lt;dbl&gt;</th><th scope=col>&lt;dbl&gt;</th><th scope=col>&lt;dbl&gt;</th><th scope=col>&lt;dbl&gt;</th><th scope=col>&lt;chr&gt;</th></tr>\n",
       "</thead>\n",
       "<tbody>\n",
       "\t<tr><td>Orthologs and modules</td><td>KEGG Orthology (KO)</td><td>ENSG00000000003.14</td><td>1</td><td>#E78080</td><td>1</td><td>NA</td><td>3</td><td>0,8941280</td><td>0,19418004</td><td>0,007562284</td><td>0,007457432</td><td>#E78080</td></tr>\n",
       "\t<tr><td>Orthologs and modules</td><td>KEGG Orthology (KO)</td><td>ENSG00000000938.12</td><td>1</td><td>#044848</td><td>1</td><td>NA</td><td>3</td><td>0,8034905</td><td>0,40306476</td><td>0,007558056</td><td>0,007461603</td><td>#044848</td></tr>\n",
       "\t<tr><td>Orthologs and modules</td><td>KEGG Orthology (KO)</td><td>ENSG00000000971.15</td><td>1</td><td>#149898</td><td>1</td><td>NA</td><td>3</td><td>0,8336708</td><td>0,23892978</td><td>0,007560419</td><td>0,007459271</td><td>#149898</td></tr>\n",
       "\t<tr><td>Orthologs and modules</td><td>KEGG Orthology (KO)</td><td>ENSG00000001084.10</td><td>1</td><td>#C2D0D0</td><td>1</td><td>NA</td><td>3</td><td>0,7580666</td><td>0,01493311</td><td>0,007553043</td><td>0,007466556</td><td>#C2D0D0</td></tr>\n",
       "\t<tr><td>Orthologs and modules</td><td>KEGG Orthology (KO)</td><td>ENSG00000001461.16</td><td>1</td><td>#038080</td><td>1</td><td>NA</td><td>3</td><td>0,7505411</td><td>0,28368828</td><td>0,007559362</td><td>0,007460315</td><td>#038080</td></tr>\n",
       "\t<tr><td>Orthologs and modules</td><td>KEGG Orthology (KO)</td><td>ENSG00000001561.6 </td><td>1</td><td>#C20808</td><td>1</td><td>NA</td><td>3</td><td>0,6372110</td><td>0,39560320</td><td>0,007558105</td><td>0,007461555</td><td>#C20808</td></tr>\n",
       "</tbody>\n",
       "</table>\n"
      ],
      "text/latex": [
       "A data.frame: 6 × 13\n",
       "\\begin{tabular}{r|lllllllllllll}\n",
       " Functional.Annotation.Subgroup & Functional.Annotation & geneId & vSize & vColor & stdErr & vColorValue & level & x0 & y0 & w & h & color\\\\\n",
       " <fct> & <fct> & <fct> & <dbl> & <fct> & <dbl> & <lgl> & <int> & <dbl> & <dbl> & <dbl> & <dbl> & <chr>\\\\\n",
       "\\hline\n",
       "\t Orthologs and modules & KEGG Orthology (KO) & ENSG00000000003.14 & 1 & \\#E78080 & 1 & NA & 3 & 0,8941280 & 0,19418004 & 0,007562284 & 0,007457432 & \\#E78080\\\\\n",
       "\t Orthologs and modules & KEGG Orthology (KO) & ENSG00000000938.12 & 1 & \\#044848 & 1 & NA & 3 & 0,8034905 & 0,40306476 & 0,007558056 & 0,007461603 & \\#044848\\\\\n",
       "\t Orthologs and modules & KEGG Orthology (KO) & ENSG00000000971.15 & 1 & \\#149898 & 1 & NA & 3 & 0,8336708 & 0,23892978 & 0,007560419 & 0,007459271 & \\#149898\\\\\n",
       "\t Orthologs and modules & KEGG Orthology (KO) & ENSG00000001084.10 & 1 & \\#C2D0D0 & 1 & NA & 3 & 0,7580666 & 0,01493311 & 0,007553043 & 0,007466556 & \\#C2D0D0\\\\\n",
       "\t Orthologs and modules & KEGG Orthology (KO) & ENSG00000001461.16 & 1 & \\#038080 & 1 & NA & 3 & 0,7505411 & 0,28368828 & 0,007559362 & 0,007460315 & \\#038080\\\\\n",
       "\t Orthologs and modules & KEGG Orthology (KO) & ENSG00000001561.6  & 1 & \\#C20808 & 1 & NA & 3 & 0,6372110 & 0,39560320 & 0,007558105 & 0,007461555 & \\#C20808\\\\\n",
       "\\end{tabular}\n"
      ],
      "text/markdown": [
       "\n",
       "A data.frame: 6 × 13\n",
       "\n",
       "| Functional.Annotation.Subgroup &lt;fct&gt; | Functional.Annotation &lt;fct&gt; | geneId &lt;fct&gt; | vSize &lt;dbl&gt; | vColor &lt;fct&gt; | stdErr &lt;dbl&gt; | vColorValue &lt;lgl&gt; | level &lt;int&gt; | x0 &lt;dbl&gt; | y0 &lt;dbl&gt; | w &lt;dbl&gt; | h &lt;dbl&gt; | color &lt;chr&gt; |\n",
       "|---|---|---|---|---|---|---|---|---|---|---|---|---|\n",
       "| Orthologs and modules | KEGG Orthology (KO) | ENSG00000000003.14 | 1 | #E78080 | 1 | NA | 3 | 0,8941280 | 0,19418004 | 0,007562284 | 0,007457432 | #E78080 |\n",
       "| Orthologs and modules | KEGG Orthology (KO) | ENSG00000000938.12 | 1 | #044848 | 1 | NA | 3 | 0,8034905 | 0,40306476 | 0,007558056 | 0,007461603 | #044848 |\n",
       "| Orthologs and modules | KEGG Orthology (KO) | ENSG00000000971.15 | 1 | #149898 | 1 | NA | 3 | 0,8336708 | 0,23892978 | 0,007560419 | 0,007459271 | #149898 |\n",
       "| Orthologs and modules | KEGG Orthology (KO) | ENSG00000001084.10 | 1 | #C2D0D0 | 1 | NA | 3 | 0,7580666 | 0,01493311 | 0,007553043 | 0,007466556 | #C2D0D0 |\n",
       "| Orthologs and modules | KEGG Orthology (KO) | ENSG00000001461.16 | 1 | #038080 | 1 | NA | 3 | 0,7505411 | 0,28368828 | 0,007559362 | 0,007460315 | #038080 |\n",
       "| Orthologs and modules | KEGG Orthology (KO) | ENSG00000001561.6  | 1 | #C20808 | 1 | NA | 3 | 0,6372110 | 0,39560320 | 0,007558105 | 0,007461555 | #C20808 |\n",
       "\n"
      ],
      "text/plain": [
       "  Functional.Annotation.Subgroup Functional.Annotation geneId             vSize\n",
       "1 Orthologs and modules          KEGG Orthology (KO)   ENSG00000000003.14 1    \n",
       "2 Orthologs and modules          KEGG Orthology (KO)   ENSG00000000938.12 1    \n",
       "3 Orthologs and modules          KEGG Orthology (KO)   ENSG00000000971.15 1    \n",
       "4 Orthologs and modules          KEGG Orthology (KO)   ENSG00000001084.10 1    \n",
       "5 Orthologs and modules          KEGG Orthology (KO)   ENSG00000001461.16 1    \n",
       "6 Orthologs and modules          KEGG Orthology (KO)   ENSG00000001561.6  1    \n",
       "  vColor  stdErr vColorValue level x0        y0         w           h          \n",
       "1 #E78080 1      NA          3     0,8941280 0,19418004 0,007562284 0,007457432\n",
       "2 #044848 1      NA          3     0,8034905 0,40306476 0,007558056 0,007461603\n",
       "3 #149898 1      NA          3     0,8336708 0,23892978 0,007560419 0,007459271\n",
       "4 #C2D0D0 1      NA          3     0,7580666 0,01493311 0,007553043 0,007466556\n",
       "5 #038080 1      NA          3     0,7505411 0,28368828 0,007559362 0,007460315\n",
       "6 #C20808 1      NA          3     0,6372110 0,39560320 0,007558105 0,007461555\n",
       "  color  \n",
       "1 #E78080\n",
       "2 #044848\n",
       "3 #149898\n",
       "4 #C2D0D0\n",
       "5 #038080\n",
       "6 #C20808"
      ]
     },
     "metadata": {},
     "output_type": "display_data"
    }
   ],
   "source": [
    "df_res <- res$tm\n",
    "head(df_res)"
   ]
  },
  {
   "cell_type": "markdown",
   "metadata": {},
   "source": [
    "From the output dataset, we only select the rows corresponding to genes ('pixels' of the generated treemap), the leaves of KEGG BRITE functional hierarchy tree:"
   ]
  },
  {
   "cell_type": "code",
   "execution_count": 43,
   "metadata": {},
   "outputs": [
    {
     "data": {
      "text/html": [
       "17732"
      ],
      "text/latex": [
       "17732"
      ],
      "text/markdown": [
       "17732"
      ],
      "text/plain": [
       "[1] 17732"
      ]
     },
     "metadata": {},
     "output_type": "display_data"
    }
   ],
   "source": [
    "df_res_pix <- df_res[!is.na(df_res[\"geneId\"]), ]\n",
    "nrow(df_res_pix)"
   ]
  },
  {
   "cell_type": "code",
   "execution_count": 44,
   "metadata": {},
   "outputs": [
    {
     "data": {
      "text/html": [
       "TRUE"
      ],
      "text/latex": [
       "TRUE"
      ],
      "text/markdown": [
       "TRUE"
      ],
      "text/plain": [
       "[1] TRUE"
      ]
     },
     "metadata": {},
     "output_type": "display_data"
    }
   ],
   "source": [
    "nrow(df_res_pix) == nrow(exp_to_tree_map)"
   ]
  },
  {
   "cell_type": "markdown",
   "metadata": {},
   "source": [
    "We can check that all genes occupy approximately the same area in the generated treemap:"
   ]
  },
  {
   "cell_type": "code",
   "execution_count": 45,
   "metadata": {},
   "outputs": [],
   "source": [
    "rect_area <- df_res_pix[\"w\"] * df_res_pix[\"h\"]"
   ]
  },
  {
   "cell_type": "code",
   "execution_count": 46,
   "metadata": {},
   "outputs": [
    {
     "data": {
      "text/html": [
       "5,63952176855402e-05"
      ],
      "text/latex": [
       "5,63952176855402e-05"
      ],
      "text/markdown": [
       "5,63952176855402e-05"
      ],
      "text/plain": [
       "[1] 5,639522e-05"
      ]
     },
     "metadata": {},
     "output_type": "display_data"
    }
   ],
   "source": [
    "rect_area[1, ]"
   ]
  },
  {
   "cell_type": "code",
   "execution_count": 47,
   "metadata": {},
   "outputs": [
    {
     "data": {
      "text/html": [
       "1,34847645202885e-18"
      ],
      "text/latex": [
       "1,34847645202885e-18"
      ],
      "text/markdown": [
       "1,34847645202885e-18"
      ],
      "text/plain": [
       "[1] 1,348476e-18"
      ]
     },
     "metadata": {},
     "output_type": "display_data"
    }
   ],
   "source": [
    "# |min - max| ~= 0\n",
    "abs(min(rect_area) - max(rect_area))"
   ]
  },
  {
   "cell_type": "markdown",
   "metadata": {},
   "source": [
    "Finally, in the output dataset, we sort the genes by their position in the treemap:"
   ]
  },
  {
   "cell_type": "code",
   "execution_count": 48,
   "metadata": {},
   "outputs": [
    {
     "data": {
      "text/html": [
       "<table>\n",
       "<caption>A data.frame: 6 × 13</caption>\n",
       "<thead>\n",
       "\t<tr><th></th><th scope=col>Functional.Annotation.Subgroup</th><th scope=col>Functional.Annotation</th><th scope=col>geneId</th><th scope=col>vSize</th><th scope=col>vColor</th><th scope=col>stdErr</th><th scope=col>vColorValue</th><th scope=col>level</th><th scope=col>x0</th><th scope=col>y0</th><th scope=col>w</th><th scope=col>h</th><th scope=col>color</th></tr>\n",
       "\t<tr><th></th><th scope=col>&lt;fct&gt;</th><th scope=col>&lt;fct&gt;</th><th scope=col>&lt;fct&gt;</th><th scope=col>&lt;dbl&gt;</th><th scope=col>&lt;fct&gt;</th><th scope=col>&lt;dbl&gt;</th><th scope=col>&lt;lgl&gt;</th><th scope=col>&lt;int&gt;</th><th scope=col>&lt;dbl&gt;</th><th scope=col>&lt;dbl&gt;</th><th scope=col>&lt;dbl&gt;</th><th scope=col>&lt;dbl&gt;</th><th scope=col>&lt;chr&gt;</th></tr>\n",
       "</thead>\n",
       "<tbody>\n",
       "\t<tr><th scope=row>9477</th><td>Protein families: genetic information processing</td><td>Spliceosome                     </td><td>ENSG00000096063.14</td><td>1</td><td>#C0B0B0</td><td>1</td><td>NA</td><td>3</td><td>0,000000000</td><td>0</td><td>0,008236726</td><td>0,006846800</td><td>#C0B0B0</td></tr>\n",
       "\t<tr><th scope=row>9500</th><td>Protein families: genetic information processing</td><td>Spliceosome                     </td><td>ENSG00000132424.14</td><td>1</td><td>#C43030</td><td>1</td><td>NA</td><td>3</td><td>0,008236726</td><td>0</td><td>0,008472062</td><td>0,006656611</td><td>#C43030</td></tr>\n",
       "\t<tr><th scope=row>9529</th><td>Protein families: genetic information processing</td><td>Spliceosome                     </td><td>ENSG00000204389.9 </td><td>1</td><td>#BF3838</td><td>1</td><td>NA</td><td>3</td><td>0,016708788</td><td>0</td><td>0,009077209</td><td>0,006212837</td><td>#BF3838</td></tr>\n",
       "\t<tr><th scope=row>9484</th><td>Protein families: genetic information processing</td><td>Spliceosome                     </td><td>ENSG00000106211.8 </td><td>1</td><td>#CCB8B8</td><td>1</td><td>NA</td><td>3</td><td>0,025785997</td><td>0</td><td>0,006051473</td><td>0,009319255</td><td>#CCB8B8</td></tr>\n",
       "\t<tr><th scope=row>9472</th><td>Protein families: genetic information processing</td><td>Spliceosome                     </td><td>ENSG00000070756.13</td><td>1</td><td>#D80808</td><td>1</td><td>NA</td><td>3</td><td>0,031837469</td><td>0</td><td>0,006051473</td><td>0,009319255</td><td>#D80808</td></tr>\n",
       "\t<tr><th scope=row>7599</th><td>Protein families: genetic information processing</td><td>Chaperones and folding catalysts</td><td>ENSG00000263464.2 </td><td>1</td><td>#0D9898</td><td>1</td><td>NA</td><td>3</td><td>0,037888942</td><td>0</td><td>0,007687395</td><td>0,007336063</td><td>#0D9898</td></tr>\n",
       "</tbody>\n",
       "</table>\n"
      ],
      "text/latex": [
       "A data.frame: 6 × 13\n",
       "\\begin{tabular}{r|lllllllllllll}\n",
       "  & Functional.Annotation.Subgroup & Functional.Annotation & geneId & vSize & vColor & stdErr & vColorValue & level & x0 & y0 & w & h & color\\\\\n",
       "  & <fct> & <fct> & <fct> & <dbl> & <fct> & <dbl> & <lgl> & <int> & <dbl> & <dbl> & <dbl> & <dbl> & <chr>\\\\\n",
       "\\hline\n",
       "\t9477 & Protein families: genetic information processing & Spliceosome                      & ENSG00000096063.14 & 1 & \\#C0B0B0 & 1 & NA & 3 & 0,000000000 & 0 & 0,008236726 & 0,006846800 & \\#C0B0B0\\\\\n",
       "\t9500 & Protein families: genetic information processing & Spliceosome                      & ENSG00000132424.14 & 1 & \\#C43030 & 1 & NA & 3 & 0,008236726 & 0 & 0,008472062 & 0,006656611 & \\#C43030\\\\\n",
       "\t9529 & Protein families: genetic information processing & Spliceosome                      & ENSG00000204389.9  & 1 & \\#BF3838 & 1 & NA & 3 & 0,016708788 & 0 & 0,009077209 & 0,006212837 & \\#BF3838\\\\\n",
       "\t9484 & Protein families: genetic information processing & Spliceosome                      & ENSG00000106211.8  & 1 & \\#CCB8B8 & 1 & NA & 3 & 0,025785997 & 0 & 0,006051473 & 0,009319255 & \\#CCB8B8\\\\\n",
       "\t9472 & Protein families: genetic information processing & Spliceosome                      & ENSG00000070756.13 & 1 & \\#D80808 & 1 & NA & 3 & 0,031837469 & 0 & 0,006051473 & 0,009319255 & \\#D80808\\\\\n",
       "\t7599 & Protein families: genetic information processing & Chaperones and folding catalysts & ENSG00000263464.2  & 1 & \\#0D9898 & 1 & NA & 3 & 0,037888942 & 0 & 0,007687395 & 0,007336063 & \\#0D9898\\\\\n",
       "\\end{tabular}\n"
      ],
      "text/markdown": [
       "\n",
       "A data.frame: 6 × 13\n",
       "\n",
       "| <!--/--> | Functional.Annotation.Subgroup &lt;fct&gt; | Functional.Annotation &lt;fct&gt; | geneId &lt;fct&gt; | vSize &lt;dbl&gt; | vColor &lt;fct&gt; | stdErr &lt;dbl&gt; | vColorValue &lt;lgl&gt; | level &lt;int&gt; | x0 &lt;dbl&gt; | y0 &lt;dbl&gt; | w &lt;dbl&gt; | h &lt;dbl&gt; | color &lt;chr&gt; |\n",
       "|---|---|---|---|---|---|---|---|---|---|---|---|---|---|\n",
       "| 9477 | Protein families: genetic information processing | Spliceosome                      | ENSG00000096063.14 | 1 | #C0B0B0 | 1 | NA | 3 | 0,000000000 | 0 | 0,008236726 | 0,006846800 | #C0B0B0 |\n",
       "| 9500 | Protein families: genetic information processing | Spliceosome                      | ENSG00000132424.14 | 1 | #C43030 | 1 | NA | 3 | 0,008236726 | 0 | 0,008472062 | 0,006656611 | #C43030 |\n",
       "| 9529 | Protein families: genetic information processing | Spliceosome                      | ENSG00000204389.9  | 1 | #BF3838 | 1 | NA | 3 | 0,016708788 | 0 | 0,009077209 | 0,006212837 | #BF3838 |\n",
       "| 9484 | Protein families: genetic information processing | Spliceosome                      | ENSG00000106211.8  | 1 | #CCB8B8 | 1 | NA | 3 | 0,025785997 | 0 | 0,006051473 | 0,009319255 | #CCB8B8 |\n",
       "| 9472 | Protein families: genetic information processing | Spliceosome                      | ENSG00000070756.13 | 1 | #D80808 | 1 | NA | 3 | 0,031837469 | 0 | 0,006051473 | 0,009319255 | #D80808 |\n",
       "| 7599 | Protein families: genetic information processing | Chaperones and folding catalysts | ENSG00000263464.2  | 1 | #0D9898 | 1 | NA | 3 | 0,037888942 | 0 | 0,007687395 | 0,007336063 | #0D9898 |\n",
       "\n"
      ],
      "text/plain": [
       "     Functional.Annotation.Subgroup                  \n",
       "9477 Protein families: genetic information processing\n",
       "9500 Protein families: genetic information processing\n",
       "9529 Protein families: genetic information processing\n",
       "9484 Protein families: genetic information processing\n",
       "9472 Protein families: genetic information processing\n",
       "7599 Protein families: genetic information processing\n",
       "     Functional.Annotation            geneId             vSize vColor  stdErr\n",
       "9477 Spliceosome                      ENSG00000096063.14 1     #C0B0B0 1     \n",
       "9500 Spliceosome                      ENSG00000132424.14 1     #C43030 1     \n",
       "9529 Spliceosome                      ENSG00000204389.9  1     #BF3838 1     \n",
       "9484 Spliceosome                      ENSG00000106211.8  1     #CCB8B8 1     \n",
       "9472 Spliceosome                      ENSG00000070756.13 1     #D80808 1     \n",
       "7599 Chaperones and folding catalysts ENSG00000263464.2  1     #0D9898 1     \n",
       "     vColorValue level x0          y0 w           h           color  \n",
       "9477 NA          3     0,000000000 0  0,008236726 0,006846800 #C0B0B0\n",
       "9500 NA          3     0,008236726 0  0,008472062 0,006656611 #C43030\n",
       "9529 NA          3     0,016708788 0  0,009077209 0,006212837 #BF3838\n",
       "9484 NA          3     0,025785997 0  0,006051473 0,009319255 #CCB8B8\n",
       "9472 NA          3     0,031837469 0  0,006051473 0,009319255 #D80808\n",
       "7599 NA          3     0,037888942 0  0,007687395 0,007336063 #0D9898"
      ]
     },
     "metadata": {},
     "output_type": "display_data"
    }
   ],
   "source": [
    "df_res_pix <- df_res_pix[order(df_res_pix[\"y0\"], df_res_pix[\"x0\"], decreasing=FALSE), ]\n",
    "head(df_res_pix)"
   ]
  },
  {
   "cell_type": "code",
   "execution_count": 49,
   "metadata": {},
   "outputs": [
    {
     "data": {
      "text/html": [
       "TRUE"
      ],
      "text/latex": [
       "TRUE"
      ],
      "text/markdown": [
       "TRUE"
      ],
      "text/plain": [
       "[1] TRUE"
      ]
     },
     "metadata": {},
     "output_type": "display_data"
    }
   ],
   "source": [
    "# Check we have one distinct color for every gene\n",
    "length(unique(df_res_pix$color)) == nrow(gene_color)"
   ]
  },
  {
   "cell_type": "markdown",
   "metadata": {},
   "source": [
    "### Treemap discretization\n",
    "\n",
    "In this subsection, we convert the KEGG BRITE functional-hierarchies treemap into an image, which represents **T**. To do so, we discretize the continuous treemap description given as the output dataset by the `treemap` package into a raster image in PNG format, whose size has already been determined in `KEGG_BRITE_Image_Resolution` notebook."
   ]
  },
  {
   "cell_type": "markdown",
   "metadata": {},
   "source": [
    "Firstly, we generate a gene-expression data frame that will be used later to generate the different gene-expression images **G<sub>i</sub>**:"
   ]
  },
  {
   "cell_type": "code",
   "execution_count": 50,
   "metadata": {},
   "outputs": [],
   "source": [
    "tcga_samples <- colnames(exp_to_tree_map)[grep(\"TCGA\", colnames(exp_to_tree_map))]"
   ]
  },
  {
   "cell_type": "code",
   "execution_count": 51,
   "metadata": {},
   "outputs": [],
   "source": [
    "gene_exp <- exp_to_tree_map[!duplicated(exp_to_tree_map[, \"geneId\"]), c(\"geneId\", tcga_samples, \"order\")]"
   ]
  },
  {
   "cell_type": "code",
   "execution_count": 52,
   "metadata": {},
   "outputs": [
    {
     "data": {
      "text/html": [
       "<ol class=list-inline>\n",
       "\t<li>7509</li>\n",
       "\t<li>10537</li>\n",
       "</ol>\n"
      ],
      "text/latex": [
       "\\begin{enumerate*}\n",
       "\\item 7509\n",
       "\\item 10537\n",
       "\\end{enumerate*}\n"
      ],
      "text/markdown": [
       "1. 7509\n",
       "2. 10537\n",
       "\n",
       "\n"
      ],
      "text/plain": [
       "[1]  7509 10537"
      ]
     },
     "metadata": {},
     "output_type": "display_data"
    }
   ],
   "source": [
    "dim(gene_exp)"
   ]
  },
  {
   "cell_type": "code",
   "execution_count": 53,
   "metadata": {},
   "outputs": [
    {
     "name": "stderr",
     "output_type": "stream",
     "text": [
      "ERROR while rich displaying an object: Error in sprintf(wrap, caption, header, body): 'fmt' length exceeds maximal format length 8192\n",
      "\n",
      "Traceback:\n",
      "1. FUN(X[[i]], ...)\n",
      "2. tryCatch(withCallingHandlers({\n",
      " .     if (!mime %in% names(repr::mime2repr)) \n",
      " .         stop(\"No repr_* for mimetype \", mime, \" in repr::mime2repr\")\n",
      " .     rpr <- repr::mime2repr[[mime]](obj)\n",
      " .     if (is.null(rpr)) \n",
      " .         return(NULL)\n",
      " .     prepare_content(is.raw(rpr), rpr)\n",
      " . }, error = error_handler), error = outer_handler)\n",
      "3. tryCatchList(expr, classes, parentenv, handlers)\n",
      "4. tryCatchOne(expr, names, parentenv, handlers[[1L]])\n",
      "5. doTryCatch(return(expr), name, parentenv, handler)\n",
      "6. withCallingHandlers({\n",
      " .     if (!mime %in% names(repr::mime2repr)) \n",
      " .         stop(\"No repr_* for mimetype \", mime, \" in repr::mime2repr\")\n",
      " .     rpr <- repr::mime2repr[[mime]](obj)\n",
      " .     if (is.null(rpr)) \n",
      " .         return(NULL)\n",
      " .     prepare_content(is.raw(rpr), rpr)\n",
      " . }, error = error_handler)\n",
      "7. repr::mime2repr[[mime]](obj)\n",
      "8. repr_latex.data.frame(obj)\n",
      "9. repr_matrix_generic(obj, sprintf(\"%%s\\n\\\\begin{tabular}{%s}\\n%%s%%s\\\\end{tabular}\\n\", \n",
      " .     cols), \"%s\\\\hline\\n\", \"%s\\\\\\\\\\n\", \"  &\", \" %s &\", \"%s\", \"\\t%s\\\\\\\\\\n\", \n",
      " .     \"%s &\", \" %s &\", escape_fun = latex_escape_vec, rows = rows, \n",
      " .     cols = cols, ...)\n",
      "10. sprintf(wrap, caption, header, body)\n"
     ]
    },
    {
     "data": {
      "text/html": [
       "<table>\n",
       "<caption>A data.frame: 6 × 10537</caption>\n",
       "<thead>\n",
       "\t<tr><th></th><th scope=col>geneId</th><th scope=col>TCGA.02.0047.01</th><th scope=col>TCGA.02.0055.01</th><th scope=col>TCGA.02.2483.01</th><th scope=col>TCGA.02.2485.01</th><th scope=col>TCGA.04.1331.01</th><th scope=col>TCGA.04.1332.01</th><th scope=col>TCGA.04.1337.01</th><th scope=col>TCGA.04.1338.01</th><th scope=col>TCGA.04.1341.01</th><th scope=col>⋯</th><th scope=col>TCGA.ZS.A9CD.01</th><th scope=col>TCGA.ZS.A9CE.01</th><th scope=col>TCGA.ZS.A9CF.01</th><th scope=col>TCGA.ZS.A9CF.02</th><th scope=col>TCGA.ZS.A9CG.01</th><th scope=col>TCGA.ZT.A8OM.01</th><th scope=col>TCGA.ZU.A8S4.01</th><th scope=col>TCGA.ZU.A8S4.11</th><th scope=col>TCGA.ZX.AA5X.01</th><th scope=col>order</th></tr>\n",
       "\t<tr><th></th><th scope=col>&lt;chr&gt;</th><th scope=col>&lt;dbl&gt;</th><th scope=col>&lt;dbl&gt;</th><th scope=col>&lt;dbl&gt;</th><th scope=col>&lt;dbl&gt;</th><th scope=col>&lt;dbl&gt;</th><th scope=col>&lt;dbl&gt;</th><th scope=col>&lt;dbl&gt;</th><th scope=col>&lt;dbl&gt;</th><th scope=col>&lt;dbl&gt;</th><th scope=col>⋯</th><th scope=col>&lt;dbl&gt;</th><th scope=col>&lt;dbl&gt;</th><th scope=col>&lt;dbl&gt;</th><th scope=col>&lt;dbl&gt;</th><th scope=col>&lt;dbl&gt;</th><th scope=col>&lt;dbl&gt;</th><th scope=col>&lt;dbl&gt;</th><th scope=col>&lt;dbl&gt;</th><th scope=col>&lt;dbl&gt;</th><th scope=col>&lt;dbl&gt;</th></tr>\n",
       "</thead>\n",
       "<tbody>\n",
       "\t<tr><th scope=row>18485</th><td>ENSG00000012817.15</td><td>3,7614</td><td>-3,0469</td><td> 2,7270</td><td>4,0019</td><td>-9,9658</td><td>-9,9658</td><td>-9,9658</td><td>-9,9658</td><td>-9,9658</td><td>⋯</td><td> 1,3051</td><td>-9,9658</td><td> 3,2781</td><td>3,8491</td><td> 2,2663</td><td>-5,5735</td><td>2,0289</td><td> 1,8762</td><td>-9,9658</td><td>-2,9807250</td></tr>\n",
       "\t<tr><th scope=row>18489</th><td>ENSG00000198692.9 </td><td>4,6508</td><td>-4,0350</td><td> 5,3042</td><td>4,8090</td><td>-9,9658</td><td>-9,9658</td><td>-9,9658</td><td>-9,9658</td><td>-9,9658</td><td>⋯</td><td> 4,4556</td><td>-9,9658</td><td> 4,8802</td><td>5,0968</td><td>-0,0425</td><td>-9,9658</td><td>3,6405</td><td> 3,9561</td><td>-9,9658</td><td>-2,4597650</td></tr>\n",
       "\t<tr><th scope=row>18491</th><td>ENSG00000105227.14</td><td>1,2815</td><td> 0,2881</td><td>-1,1172</td><td>0,9642</td><td> 0,5955</td><td> 3,4304</td><td> 0,3231</td><td>-1,8836</td><td>-2,1779</td><td>⋯</td><td>-0,4521</td><td> 0,6969</td><td>-0,4325</td><td>0,7664</td><td>-0,1187</td><td> 1,1316</td><td>0,5859</td><td>-1,8836</td><td> 0,8246</td><td> 0,6511954</td></tr>\n",
       "\t<tr><th scope=row>18492</th><td>ENSG00000164237.8 </td><td>4,3618</td><td> 2,5924</td><td> 3,5523</td><td>3,6635</td><td> 4,3660</td><td> 1,7995</td><td> 1,7053</td><td> 1,2516</td><td> 0,5470</td><td>⋯</td><td> 5,2126</td><td> 7,6705</td><td> 6,7502</td><td>5,8888</td><td> 6,5694</td><td> 0,4233</td><td>4,0549</td><td> 6,3338</td><td> 1,0573</td><td> 4,0465881</td></tr>\n",
       "\t<tr><th scope=row>18493</th><td>ENSG00000175048.16</td><td>4,9426</td><td> 2,9488</td><td> 3,3450</td><td>3,9468</td><td> 1,4547</td><td> 1,9415</td><td> 0,7233</td><td> 0,6145</td><td> 1,1447</td><td>⋯</td><td> 3,5584</td><td> 2,3760</td><td> 3,0740</td><td>2,4623</td><td> 1,8564</td><td> 1,5366</td><td>3,9232</td><td> 2,8055</td><td> 2,7826</td><td> 2,5296664</td></tr>\n",
       "\t<tr><th scope=row>18494</th><td>ENSG00000188706.12</td><td>5,7748</td><td> 5,6056</td><td> 4,8360</td><td>4,5571</td><td> 5,1486</td><td> 3,5098</td><td> 5,0760</td><td> 3,8187</td><td> 3,0481</td><td>⋯</td><td> 5,2005</td><td> 4,2366</td><td> 3,6242</td><td>4,0713</td><td> 5,1863</td><td>-0,3566</td><td>4,1612</td><td> 3,6066</td><td> 3,9829</td><td> 4,5475844</td></tr>\n",
       "</tbody>\n",
       "</table>\n"
      ],
      "text/markdown": [
       "\n",
       "A data.frame: 6 × 10537\n",
       "\n",
       "| <!--/--> | geneId &lt;chr&gt; | TCGA.02.0047.01 &lt;dbl&gt; | TCGA.02.0055.01 &lt;dbl&gt; | TCGA.02.2483.01 &lt;dbl&gt; | TCGA.02.2485.01 &lt;dbl&gt; | TCGA.04.1331.01 &lt;dbl&gt; | TCGA.04.1332.01 &lt;dbl&gt; | TCGA.04.1337.01 &lt;dbl&gt; | TCGA.04.1338.01 &lt;dbl&gt; | TCGA.04.1341.01 &lt;dbl&gt; | ⋯ ⋯ | TCGA.ZS.A9CD.01 &lt;dbl&gt; | TCGA.ZS.A9CE.01 &lt;dbl&gt; | TCGA.ZS.A9CF.01 &lt;dbl&gt; | TCGA.ZS.A9CF.02 &lt;dbl&gt; | TCGA.ZS.A9CG.01 &lt;dbl&gt; | TCGA.ZT.A8OM.01 &lt;dbl&gt; | TCGA.ZU.A8S4.01 &lt;dbl&gt; | TCGA.ZU.A8S4.11 &lt;dbl&gt; | TCGA.ZX.AA5X.01 &lt;dbl&gt; | order &lt;dbl&gt; |\n",
       "|---|---|---|---|---|---|---|---|---|---|---|---|---|---|---|---|---|---|---|---|---|---|\n",
       "| 18485 | ENSG00000012817.15 | 3,7614 | -3,0469 |  2,7270 | 4,0019 | -9,9658 | -9,9658 | -9,9658 | -9,9658 | -9,9658 | ⋯ |  1,3051 | -9,9658 |  3,2781 | 3,8491 |  2,2663 | -5,5735 | 2,0289 |  1,8762 | -9,9658 | -2,9807250 |\n",
       "| 18489 | ENSG00000198692.9  | 4,6508 | -4,0350 |  5,3042 | 4,8090 | -9,9658 | -9,9658 | -9,9658 | -9,9658 | -9,9658 | ⋯ |  4,4556 | -9,9658 |  4,8802 | 5,0968 | -0,0425 | -9,9658 | 3,6405 |  3,9561 | -9,9658 | -2,4597650 |\n",
       "| 18491 | ENSG00000105227.14 | 1,2815 |  0,2881 | -1,1172 | 0,9642 |  0,5955 |  3,4304 |  0,3231 | -1,8836 | -2,1779 | ⋯ | -0,4521 |  0,6969 | -0,4325 | 0,7664 | -0,1187 |  1,1316 | 0,5859 | -1,8836 |  0,8246 |  0,6511954 |\n",
       "| 18492 | ENSG00000164237.8  | 4,3618 |  2,5924 |  3,5523 | 3,6635 |  4,3660 |  1,7995 |  1,7053 |  1,2516 |  0,5470 | ⋯ |  5,2126 |  7,6705 |  6,7502 | 5,8888 |  6,5694 |  0,4233 | 4,0549 |  6,3338 |  1,0573 |  4,0465881 |\n",
       "| 18493 | ENSG00000175048.16 | 4,9426 |  2,9488 |  3,3450 | 3,9468 |  1,4547 |  1,9415 |  0,7233 |  0,6145 |  1,1447 | ⋯ |  3,5584 |  2,3760 |  3,0740 | 2,4623 |  1,8564 |  1,5366 | 3,9232 |  2,8055 |  2,7826 |  2,5296664 |\n",
       "| 18494 | ENSG00000188706.12 | 5,7748 |  5,6056 |  4,8360 | 4,5571 |  5,1486 |  3,5098 |  5,0760 |  3,8187 |  3,0481 | ⋯ |  5,2005 |  4,2366 |  3,6242 | 4,0713 |  5,1863 | -0,3566 | 4,1612 |  3,6066 |  3,9829 |  4,5475844 |\n",
       "\n"
      ],
      "text/plain": [
       "      geneId             TCGA.02.0047.01 TCGA.02.0055.01 TCGA.02.2483.01\n",
       "18485 ENSG00000012817.15 3,7614          -3,0469          2,7270        \n",
       "18489 ENSG00000198692.9  4,6508          -4,0350          5,3042        \n",
       "18491 ENSG00000105227.14 1,2815           0,2881         -1,1172        \n",
       "18492 ENSG00000164237.8  4,3618           2,5924          3,5523        \n",
       "18493 ENSG00000175048.16 4,9426           2,9488          3,3450        \n",
       "18494 ENSG00000188706.12 5,7748           5,6056          4,8360        \n",
       "      TCGA.02.2485.01 TCGA.04.1331.01 TCGA.04.1332.01 TCGA.04.1337.01\n",
       "18485 4,0019          -9,9658         -9,9658         -9,9658        \n",
       "18489 4,8090          -9,9658         -9,9658         -9,9658        \n",
       "18491 0,9642           0,5955          3,4304          0,3231        \n",
       "18492 3,6635           4,3660          1,7995          1,7053        \n",
       "18493 3,9468           1,4547          1,9415          0,7233        \n",
       "18494 4,5571           5,1486          3,5098          5,0760        \n",
       "      TCGA.04.1338.01 TCGA.04.1341.01 ⋯ TCGA.ZS.A9CD.01 TCGA.ZS.A9CE.01\n",
       "18485 -9,9658         -9,9658         ⋯  1,3051         -9,9658        \n",
       "18489 -9,9658         -9,9658         ⋯  4,4556         -9,9658        \n",
       "18491 -1,8836         -2,1779         ⋯ -0,4521          0,6969        \n",
       "18492  1,2516          0,5470         ⋯  5,2126          7,6705        \n",
       "18493  0,6145          1,1447         ⋯  3,5584          2,3760        \n",
       "18494  3,8187          3,0481         ⋯  5,2005          4,2366        \n",
       "      TCGA.ZS.A9CF.01 TCGA.ZS.A9CF.02 TCGA.ZS.A9CG.01 TCGA.ZT.A8OM.01\n",
       "18485  3,2781         3,8491           2,2663         -5,5735        \n",
       "18489  4,8802         5,0968          -0,0425         -9,9658        \n",
       "18491 -0,4325         0,7664          -0,1187          1,1316        \n",
       "18492  6,7502         5,8888           6,5694          0,4233        \n",
       "18493  3,0740         2,4623           1,8564          1,5366        \n",
       "18494  3,6242         4,0713           5,1863         -0,3566        \n",
       "      TCGA.ZU.A8S4.01 TCGA.ZU.A8S4.11 TCGA.ZX.AA5X.01 order     \n",
       "18485 2,0289           1,8762         -9,9658         -2,9807250\n",
       "18489 3,6405           3,9561         -9,9658         -2,4597650\n",
       "18491 0,5859          -1,8836          0,8246          0,6511954\n",
       "18492 4,0549           6,3338          1,0573          4,0465881\n",
       "18493 3,9232           2,8055          2,7826          2,5296664\n",
       "18494 4,1612           3,6066          3,9829          4,5475844"
      ]
     },
     "metadata": {},
     "output_type": "display_data"
    }
   ],
   "source": [
    "tail(gene_exp)"
   ]
  },
  {
   "cell_type": "markdown",
   "metadata": {},
   "source": [
    "Background elements will be set to 0 values in gene-expression images, as there is no gene having 0 expression value in any sample:"
   ]
  },
  {
   "cell_type": "code",
   "execution_count": 54,
   "metadata": {},
   "outputs": [],
   "source": [
    "start.time <- Sys.time()\n",
    "exp_v <- unique(as.numeric(as.matrix(gene_exp[, c(tcga_samples, \"order\")])))\n",
    "end.time <- Sys.time()"
   ]
  },
  {
   "cell_type": "code",
   "execution_count": 55,
   "metadata": {},
   "outputs": [
    {
     "data": {
      "text/plain": [
       "Time difference of 3,408635 secs"
      ]
     },
     "metadata": {},
     "output_type": "display_data"
    }
   ],
   "source": [
    "end.time - start.time"
   ]
  },
  {
   "cell_type": "code",
   "execution_count": 56,
   "metadata": {},
   "outputs": [
    {
     "data": {
      "text/html": [
       "0"
      ],
      "text/latex": [
       "0"
      ],
      "text/markdown": [
       "0"
      ],
      "text/plain": [
       "[1] 0"
      ]
     },
     "metadata": {},
     "output_type": "display_data"
    }
   ],
   "source": [
    "sum(exp_v == 0)"
   ]
  },
  {
   "cell_type": "code",
   "execution_count": 57,
   "metadata": {},
   "outputs": [
    {
     "data": {
      "text/html": [
       "<ol class=list-inline>\n",
       "\t<li>-0,00142384886206</li>\n",
       "\t<li>-0,00140459028807</li>\n",
       "\t<li>-0,000133780538539186</li>\n",
       "\t<li>0,00139819048018</li>\n",
       "\t<li>0,0014</li>\n",
       "\t<li>0,0014005199664</li>\n",
       "</ol>\n"
      ],
      "text/latex": [
       "\\begin{enumerate*}\n",
       "\\item -0,00142384886206\n",
       "\\item -0,00140459028807\n",
       "\\item -0,000133780538539186\n",
       "\\item 0,00139819048018\n",
       "\\item 0,0014\n",
       "\\item 0,0014005199664\n",
       "\\end{enumerate*}\n"
      ],
      "text/markdown": [
       "1. -0,00142384886206\n",
       "2. -0,00140459028807\n",
       "3. -0,000133780538539186\n",
       "4. 0,00139819048018\n",
       "5. 0,0014\n",
       "6. 0,0014005199664\n",
       "\n",
       "\n"
      ],
      "text/plain": [
       "[1] -0,0014238489 -0,0014045903 -0,0001337805  0,0013981905  0,0014000000\n",
       "[6]  0,0014005200"
      ]
     },
     "metadata": {},
     "output_type": "display_data"
    }
   ],
   "source": [
    "exp_v <- exp_v[order(exp_v)]\n",
    "w <- which(exp_v > 0)\n",
    "exp_v[(w[1]-3):(w[1]+2)]"
   ]
  },
  {
   "cell_type": "code",
   "execution_count": 58,
   "metadata": {},
   "outputs": [],
   "source": [
    "# Add last row representing background\n",
    "gene_exp <- rbind(gene_exp, c(list(\"#FFFFFF\"), as.list(rep(0, times = (ncol(gene_exp)-1)))))"
   ]
  },
  {
   "cell_type": "code",
   "execution_count": 59,
   "metadata": {},
   "outputs": [
    {
     "data": {
      "text/html": [
       "<ol class=list-inline>\n",
       "\t<li>7510</li>\n",
       "\t<li>10537</li>\n",
       "</ol>\n"
      ],
      "text/latex": [
       "\\begin{enumerate*}\n",
       "\\item 7510\n",
       "\\item 10537\n",
       "\\end{enumerate*}\n"
      ],
      "text/markdown": [
       "1. 7510\n",
       "2. 10537\n",
       "\n",
       "\n"
      ],
      "text/plain": [
       "[1]  7510 10537"
      ]
     },
     "metadata": {},
     "output_type": "display_data"
    }
   ],
   "source": [
    "dim(gene_exp)"
   ]
  },
  {
   "cell_type": "code",
   "execution_count": 60,
   "metadata": {},
   "outputs": [],
   "source": [
    "rownames(gene_exp) <- gene_exp[, \"geneId\"]"
   ]
  },
  {
   "cell_type": "code",
   "execution_count": 61,
   "metadata": {},
   "outputs": [
    {
     "name": "stderr",
     "output_type": "stream",
     "text": [
      "ERROR while rich displaying an object: Error in sprintf(wrap, caption, header, body): 'fmt' length exceeds maximal format length 8192\n",
      "\n",
      "Traceback:\n",
      "1. FUN(X[[i]], ...)\n",
      "2. tryCatch(withCallingHandlers({\n",
      " .     if (!mime %in% names(repr::mime2repr)) \n",
      " .         stop(\"No repr_* for mimetype \", mime, \" in repr::mime2repr\")\n",
      " .     rpr <- repr::mime2repr[[mime]](obj)\n",
      " .     if (is.null(rpr)) \n",
      " .         return(NULL)\n",
      " .     prepare_content(is.raw(rpr), rpr)\n",
      " . }, error = error_handler), error = outer_handler)\n",
      "3. tryCatchList(expr, classes, parentenv, handlers)\n",
      "4. tryCatchOne(expr, names, parentenv, handlers[[1L]])\n",
      "5. doTryCatch(return(expr), name, parentenv, handler)\n",
      "6. withCallingHandlers({\n",
      " .     if (!mime %in% names(repr::mime2repr)) \n",
      " .         stop(\"No repr_* for mimetype \", mime, \" in repr::mime2repr\")\n",
      " .     rpr <- repr::mime2repr[[mime]](obj)\n",
      " .     if (is.null(rpr)) \n",
      " .         return(NULL)\n",
      " .     prepare_content(is.raw(rpr), rpr)\n",
      " . }, error = error_handler)\n",
      "7. repr::mime2repr[[mime]](obj)\n",
      "8. repr_latex.data.frame(obj)\n",
      "9. repr_matrix_generic(obj, sprintf(\"%%s\\n\\\\begin{tabular}{%s}\\n%%s%%s\\\\end{tabular}\\n\", \n",
      " .     cols), \"%s\\\\hline\\n\", \"%s\\\\\\\\\\n\", \"  &\", \" %s &\", \"%s\", \"\\t%s\\\\\\\\\\n\", \n",
      " .     \"%s &\", \" %s &\", escape_fun = latex_escape_vec, rows = rows, \n",
      " .     cols = cols, ...)\n",
      "10. sprintf(wrap, caption, header, body)\n"
     ]
    },
    {
     "data": {
      "text/html": [
       "<table>\n",
       "<caption>A data.frame: 6 × 10537</caption>\n",
       "<thead>\n",
       "\t<tr><th></th><th scope=col>geneId</th><th scope=col>TCGA.02.0047.01</th><th scope=col>TCGA.02.0055.01</th><th scope=col>TCGA.02.2483.01</th><th scope=col>TCGA.02.2485.01</th><th scope=col>TCGA.04.1331.01</th><th scope=col>TCGA.04.1332.01</th><th scope=col>TCGA.04.1337.01</th><th scope=col>TCGA.04.1338.01</th><th scope=col>TCGA.04.1341.01</th><th scope=col>⋯</th><th scope=col>TCGA.ZS.A9CD.01</th><th scope=col>TCGA.ZS.A9CE.01</th><th scope=col>TCGA.ZS.A9CF.01</th><th scope=col>TCGA.ZS.A9CF.02</th><th scope=col>TCGA.ZS.A9CG.01</th><th scope=col>TCGA.ZT.A8OM.01</th><th scope=col>TCGA.ZU.A8S4.01</th><th scope=col>TCGA.ZU.A8S4.11</th><th scope=col>TCGA.ZX.AA5X.01</th><th scope=col>order</th></tr>\n",
       "\t<tr><th></th><th scope=col>&lt;chr&gt;</th><th scope=col>&lt;dbl&gt;</th><th scope=col>&lt;dbl&gt;</th><th scope=col>&lt;dbl&gt;</th><th scope=col>&lt;dbl&gt;</th><th scope=col>&lt;dbl&gt;</th><th scope=col>&lt;dbl&gt;</th><th scope=col>&lt;dbl&gt;</th><th scope=col>&lt;dbl&gt;</th><th scope=col>&lt;dbl&gt;</th><th scope=col>⋯</th><th scope=col>&lt;dbl&gt;</th><th scope=col>&lt;dbl&gt;</th><th scope=col>&lt;dbl&gt;</th><th scope=col>&lt;dbl&gt;</th><th scope=col>&lt;dbl&gt;</th><th scope=col>&lt;dbl&gt;</th><th scope=col>&lt;dbl&gt;</th><th scope=col>&lt;dbl&gt;</th><th scope=col>&lt;dbl&gt;</th><th scope=col>&lt;dbl&gt;</th></tr>\n",
       "</thead>\n",
       "<tbody>\n",
       "\t<tr><th scope=row>ENSG00000198692.9</th><td>ENSG00000198692.9 </td><td>4,6508</td><td>-4,0350</td><td> 5,3042</td><td>4,8090</td><td>-9,9658</td><td>-9,9658</td><td>-9,9658</td><td>-9,9658</td><td>-9,9658</td><td>⋯</td><td> 4,4556</td><td>-9,9658</td><td> 4,8802</td><td>5,0968</td><td>-0,0425</td><td>-9,9658</td><td>3,6405</td><td> 3,9561</td><td>-9,9658</td><td>-2,4597650</td></tr>\n",
       "\t<tr><th scope=row>ENSG00000105227.14</th><td>ENSG00000105227.14</td><td>1,2815</td><td> 0,2881</td><td>-1,1172</td><td>0,9642</td><td> 0,5955</td><td> 3,4304</td><td> 0,3231</td><td>-1,8836</td><td>-2,1779</td><td>⋯</td><td>-0,4521</td><td> 0,6969</td><td>-0,4325</td><td>0,7664</td><td>-0,1187</td><td> 1,1316</td><td>0,5859</td><td>-1,8836</td><td> 0,8246</td><td> 0,6511954</td></tr>\n",
       "\t<tr><th scope=row>ENSG00000164237.8</th><td>ENSG00000164237.8 </td><td>4,3618</td><td> 2,5924</td><td> 3,5523</td><td>3,6635</td><td> 4,3660</td><td> 1,7995</td><td> 1,7053</td><td> 1,2516</td><td> 0,5470</td><td>⋯</td><td> 5,2126</td><td> 7,6705</td><td> 6,7502</td><td>5,8888</td><td> 6,5694</td><td> 0,4233</td><td>4,0549</td><td> 6,3338</td><td> 1,0573</td><td> 4,0465881</td></tr>\n",
       "\t<tr><th scope=row>ENSG00000175048.16</th><td>ENSG00000175048.16</td><td>4,9426</td><td> 2,9488</td><td> 3,3450</td><td>3,9468</td><td> 1,4547</td><td> 1,9415</td><td> 0,7233</td><td> 0,6145</td><td> 1,1447</td><td>⋯</td><td> 3,5584</td><td> 2,3760</td><td> 3,0740</td><td>2,4623</td><td> 1,8564</td><td> 1,5366</td><td>3,9232</td><td> 2,8055</td><td> 2,7826</td><td> 2,5296664</td></tr>\n",
       "\t<tr><th scope=row>ENSG00000188706.12</th><td>ENSG00000188706.12</td><td>5,7748</td><td> 5,6056</td><td> 4,8360</td><td>4,5571</td><td> 5,1486</td><td> 3,5098</td><td> 5,0760</td><td> 3,8187</td><td> 3,0481</td><td>⋯</td><td> 5,2005</td><td> 4,2366</td><td> 3,6242</td><td>4,0713</td><td> 5,1863</td><td>-0,3566</td><td>4,1612</td><td> 3,6066</td><td> 3,9829</td><td> 4,5475844</td></tr>\n",
       "\t<tr><th scope=row>#FFFFFF</th><td>#FFFFFF           </td><td>0,0000</td><td> 0,0000</td><td> 0,0000</td><td>0,0000</td><td> 0,0000</td><td> 0,0000</td><td> 0,0000</td><td> 0,0000</td><td> 0,0000</td><td>⋯</td><td> 0,0000</td><td> 0,0000</td><td> 0,0000</td><td>0,0000</td><td> 0,0000</td><td> 0,0000</td><td>0,0000</td><td> 0,0000</td><td> 0,0000</td><td> 0,0000000</td></tr>\n",
       "</tbody>\n",
       "</table>\n"
      ],
      "text/markdown": [
       "\n",
       "A data.frame: 6 × 10537\n",
       "\n",
       "| <!--/--> | geneId &lt;chr&gt; | TCGA.02.0047.01 &lt;dbl&gt; | TCGA.02.0055.01 &lt;dbl&gt; | TCGA.02.2483.01 &lt;dbl&gt; | TCGA.02.2485.01 &lt;dbl&gt; | TCGA.04.1331.01 &lt;dbl&gt; | TCGA.04.1332.01 &lt;dbl&gt; | TCGA.04.1337.01 &lt;dbl&gt; | TCGA.04.1338.01 &lt;dbl&gt; | TCGA.04.1341.01 &lt;dbl&gt; | ⋯ ⋯ | TCGA.ZS.A9CD.01 &lt;dbl&gt; | TCGA.ZS.A9CE.01 &lt;dbl&gt; | TCGA.ZS.A9CF.01 &lt;dbl&gt; | TCGA.ZS.A9CF.02 &lt;dbl&gt; | TCGA.ZS.A9CG.01 &lt;dbl&gt; | TCGA.ZT.A8OM.01 &lt;dbl&gt; | TCGA.ZU.A8S4.01 &lt;dbl&gt; | TCGA.ZU.A8S4.11 &lt;dbl&gt; | TCGA.ZX.AA5X.01 &lt;dbl&gt; | order &lt;dbl&gt; |\n",
       "|---|---|---|---|---|---|---|---|---|---|---|---|---|---|---|---|---|---|---|---|---|---|\n",
       "| ENSG00000198692.9 | ENSG00000198692.9  | 4,6508 | -4,0350 |  5,3042 | 4,8090 | -9,9658 | -9,9658 | -9,9658 | -9,9658 | -9,9658 | ⋯ |  4,4556 | -9,9658 |  4,8802 | 5,0968 | -0,0425 | -9,9658 | 3,6405 |  3,9561 | -9,9658 | -2,4597650 |\n",
       "| ENSG00000105227.14 | ENSG00000105227.14 | 1,2815 |  0,2881 | -1,1172 | 0,9642 |  0,5955 |  3,4304 |  0,3231 | -1,8836 | -2,1779 | ⋯ | -0,4521 |  0,6969 | -0,4325 | 0,7664 | -0,1187 |  1,1316 | 0,5859 | -1,8836 |  0,8246 |  0,6511954 |\n",
       "| ENSG00000164237.8 | ENSG00000164237.8  | 4,3618 |  2,5924 |  3,5523 | 3,6635 |  4,3660 |  1,7995 |  1,7053 |  1,2516 |  0,5470 | ⋯ |  5,2126 |  7,6705 |  6,7502 | 5,8888 |  6,5694 |  0,4233 | 4,0549 |  6,3338 |  1,0573 |  4,0465881 |\n",
       "| ENSG00000175048.16 | ENSG00000175048.16 | 4,9426 |  2,9488 |  3,3450 | 3,9468 |  1,4547 |  1,9415 |  0,7233 |  0,6145 |  1,1447 | ⋯ |  3,5584 |  2,3760 |  3,0740 | 2,4623 |  1,8564 |  1,5366 | 3,9232 |  2,8055 |  2,7826 |  2,5296664 |\n",
       "| ENSG00000188706.12 | ENSG00000188706.12 | 5,7748 |  5,6056 |  4,8360 | 4,5571 |  5,1486 |  3,5098 |  5,0760 |  3,8187 |  3,0481 | ⋯ |  5,2005 |  4,2366 |  3,6242 | 4,0713 |  5,1863 | -0,3566 | 4,1612 |  3,6066 |  3,9829 |  4,5475844 |\n",
       "| #FFFFFF | #FFFFFF            | 0,0000 |  0,0000 |  0,0000 | 0,0000 |  0,0000 |  0,0000 |  0,0000 |  0,0000 |  0,0000 | ⋯ |  0,0000 |  0,0000 |  0,0000 | 0,0000 |  0,0000 |  0,0000 | 0,0000 |  0,0000 |  0,0000 |  0,0000000 |\n",
       "\n"
      ],
      "text/plain": [
       "                   geneId             TCGA.02.0047.01 TCGA.02.0055.01\n",
       "ENSG00000198692.9  ENSG00000198692.9  4,6508          -4,0350        \n",
       "ENSG00000105227.14 ENSG00000105227.14 1,2815           0,2881        \n",
       "ENSG00000164237.8  ENSG00000164237.8  4,3618           2,5924        \n",
       "ENSG00000175048.16 ENSG00000175048.16 4,9426           2,9488        \n",
       "ENSG00000188706.12 ENSG00000188706.12 5,7748           5,6056        \n",
       "#FFFFFF            #FFFFFF            0,0000           0,0000        \n",
       "                   TCGA.02.2483.01 TCGA.02.2485.01 TCGA.04.1331.01\n",
       "ENSG00000198692.9   5,3042         4,8090          -9,9658        \n",
       "ENSG00000105227.14 -1,1172         0,9642           0,5955        \n",
       "ENSG00000164237.8   3,5523         3,6635           4,3660        \n",
       "ENSG00000175048.16  3,3450         3,9468           1,4547        \n",
       "ENSG00000188706.12  4,8360         4,5571           5,1486        \n",
       "#FFFFFF             0,0000         0,0000           0,0000        \n",
       "                   TCGA.04.1332.01 TCGA.04.1337.01 TCGA.04.1338.01\n",
       "ENSG00000198692.9  -9,9658         -9,9658         -9,9658        \n",
       "ENSG00000105227.14  3,4304          0,3231         -1,8836        \n",
       "ENSG00000164237.8   1,7995          1,7053          1,2516        \n",
       "ENSG00000175048.16  1,9415          0,7233          0,6145        \n",
       "ENSG00000188706.12  3,5098          5,0760          3,8187        \n",
       "#FFFFFF             0,0000          0,0000          0,0000        \n",
       "                   TCGA.04.1341.01 ⋯ TCGA.ZS.A9CD.01 TCGA.ZS.A9CE.01\n",
       "ENSG00000198692.9  -9,9658         ⋯  4,4556         -9,9658        \n",
       "ENSG00000105227.14 -2,1779         ⋯ -0,4521          0,6969        \n",
       "ENSG00000164237.8   0,5470         ⋯  5,2126          7,6705        \n",
       "ENSG00000175048.16  1,1447         ⋯  3,5584          2,3760        \n",
       "ENSG00000188706.12  3,0481         ⋯  5,2005          4,2366        \n",
       "#FFFFFF             0,0000         ⋯  0,0000          0,0000        \n",
       "                   TCGA.ZS.A9CF.01 TCGA.ZS.A9CF.02 TCGA.ZS.A9CG.01\n",
       "ENSG00000198692.9   4,8802         5,0968          -0,0425        \n",
       "ENSG00000105227.14 -0,4325         0,7664          -0,1187        \n",
       "ENSG00000164237.8   6,7502         5,8888           6,5694        \n",
       "ENSG00000175048.16  3,0740         2,4623           1,8564        \n",
       "ENSG00000188706.12  3,6242         4,0713           5,1863        \n",
       "#FFFFFF             0,0000         0,0000           0,0000        \n",
       "                   TCGA.ZT.A8OM.01 TCGA.ZU.A8S4.01 TCGA.ZU.A8S4.11\n",
       "ENSG00000198692.9  -9,9658         3,6405           3,9561        \n",
       "ENSG00000105227.14  1,1316         0,5859          -1,8836        \n",
       "ENSG00000164237.8   0,4233         4,0549           6,3338        \n",
       "ENSG00000175048.16  1,5366         3,9232           2,8055        \n",
       "ENSG00000188706.12 -0,3566         4,1612           3,6066        \n",
       "#FFFFFF             0,0000         0,0000           0,0000        \n",
       "                   TCGA.ZX.AA5X.01 order     \n",
       "ENSG00000198692.9  -9,9658         -2,4597650\n",
       "ENSG00000105227.14  0,8246          0,6511954\n",
       "ENSG00000164237.8   1,0573          4,0465881\n",
       "ENSG00000175048.16  2,7826          2,5296664\n",
       "ENSG00000188706.12  3,9829          4,5475844\n",
       "#FFFFFF             0,0000          0,0000000"
      ]
     },
     "metadata": {},
     "output_type": "display_data"
    }
   ],
   "source": [
    "tail(gene_exp)"
   ]
  },
  {
   "cell_type": "markdown",
   "metadata": {},
   "source": [
    "We now proceed to generate image **T** using the best pixels configuration found in `KEGG_BRITE_Image_Resolution` notebook:"
   ]
  },
  {
   "cell_type": "code",
   "execution_count": 62,
   "metadata": {},
   "outputs": [],
   "source": [
    "library(grid)"
   ]
  },
  {
   "cell_type": "code",
   "execution_count": 63,
   "metadata": {},
   "outputs": [],
   "source": [
    "n_width <- 175\n",
    "n_height <- 175\n",
    "\n",
    "img_path <- paste0(\"./GENE_COLOR_GRID_TREEMAP_\", n_width, \"_\", n_height, \".png\")"
   ]
  },
  {
   "cell_type": "code",
   "execution_count": 64,
   "metadata": {},
   "outputs": [
    {
     "data": {
      "text/html": [
       "<strong>png:</strong> 2"
      ],
      "text/latex": [
       "\\textbf{png:} 2"
      ],
      "text/markdown": [
       "**png:** 2"
      ],
      "text/plain": [
       "png \n",
       "  2 "
      ]
     },
     "metadata": {},
     "output_type": "display_data"
    }
   ],
   "source": [
    "# Background is set to white (#FFFFFF in RRGGBB format)\n",
    "png(filename = img_path, width = n_width, height = n_height, bg = \"white\")\n",
    "# Same arguments values used in https://github.com/mtennekes/treemap/blob/master/pkg/R/createRec.R#L29\n",
    "grid.rect(x = df_res_pix$x0, y = df_res_pix$y0, width = df_res_pix$w, df_res_pix$h, default.units = \"npc\",\n",
    "          just=c(\"left\",\"bottom\"), gp = gpar(lwd=0, fill = df_res_pix$color))\n",
    "dev.off()"
   ]
  },
  {
   "cell_type": "code",
   "execution_count": 65,
   "metadata": {},
   "outputs": [
    {
     "data": {
      "image/png": "[encoded data removed]",
      "text/plain": [
       "plot without title"
      ]
     },
     "metadata": {},
     "output_type": "display_data"
    }
   ],
   "source": [
    "# Just for visualization purpose\n",
    "grid.rect(x = df_res_pix$x0, y = df_res_pix$y0, width = df_res_pix$w, df_res_pix$h, default.units = \"npc\",\n",
    "          just=c(\"left\",\"bottom\"), gp = gpar(lwd=0, fill = df_res_pix$color))"
   ]
  },
  {
   "cell_type": "markdown",
   "metadata": {},
   "source": [
    "#### Colors to genes\n",
    "\n",
    "Using the previously generated gene-color PNG image, we transform it to a matrix where each color is converted back to the gene it codes, in order to use **T** as a template to generate the different gene-expression images."
   ]
  },
  {
   "cell_type": "markdown",
   "metadata": {},
   "source": [
    "Firstly, we load the gene-color image:"
   ]
  },
  {
   "cell_type": "code",
   "execution_count": 66,
   "metadata": {},
   "outputs": [],
   "source": [
    "library(png)"
   ]
  },
  {
   "cell_type": "code",
   "execution_count": 67,
   "metadata": {},
   "outputs": [],
   "source": [
    "png_mat <- readPNG(img_path)"
   ]
  },
  {
   "cell_type": "code",
   "execution_count": 68,
   "metadata": {},
   "outputs": [
    {
     "data": {
      "text/html": [
       "175"
      ],
      "text/latex": [
       "175"
      ],
      "text/markdown": [
       "175"
      ],
      "text/plain": [
       "[1] 175"
      ]
     },
     "metadata": {},
     "output_type": "display_data"
    },
    {
     "data": {
      "text/html": [
       "175"
      ],
      "text/latex": [
       "175"
      ],
      "text/markdown": [
       "175"
      ],
      "text/plain": [
       "[1] 175"
      ]
     },
     "metadata": {},
     "output_type": "display_data"
    }
   ],
   "source": [
    "(n_row <- dim(png_mat)[1])\n",
    "(n_col <- dim(png_mat)[2])"
   ]
  },
  {
   "cell_type": "code",
   "execution_count": 69,
   "metadata": {},
   "outputs": [
    {
     "data": {
      "text/html": [
       "<table>\n",
       "<caption>A matrix: 6 × 175 of type dbl</caption>\n",
       "<tbody>\n",
       "\t<tr><td>0,6352941</td><td>0,1176471</td><td>0,1176471</td><td>0,1333333</td><td>0,01568627</td><td>0,62745098</td><td>0,78039216</td><td>0,78039216</td><td>0,6313725</td><td>0,87843137</td><td>⋯</td><td>0,58039216</td><td>0,41568627</td><td>0,5490196</td><td>0,2117647</td><td>0,2117647</td><td>0,4549020</td><td>0,4156863</td><td>0,9058824</td><td>0,9058824</td><td>0,3058824</td></tr>\n",
       "\t<tr><td>0,4039216</td><td>0,4431373</td><td>0,4431373</td><td>0,6862745</td><td>0,14117647</td><td>0,66666667</td><td>0,66666667</td><td>0,87843137</td><td>0,6627451</td><td>0,01176471</td><td>⋯</td><td>0,01568627</td><td>0,09019608</td><td>0,5215686</td><td>0,8470588</td><td>0,8470588</td><td>0,6745098</td><td>0,6274510</td><td>0,4235294</td><td>0,4235294</td><td>0,8156863</td></tr>\n",
       "\t<tr><td>0,4039216</td><td>0,4431373</td><td>0,4431373</td><td>0,6862745</td><td>0,14117647</td><td>0,66666667</td><td>0,66666667</td><td>0,87843137</td><td>0,6627451</td><td>0,01176471</td><td>⋯</td><td>0,01568627</td><td>0,09019608</td><td>0,5215686</td><td>0,8470588</td><td>0,8470588</td><td>0,6745098</td><td>0,6274510</td><td>0,4235294</td><td>0,4235294</td><td>0,8156863</td></tr>\n",
       "\t<tr><td>0,8627451</td><td>0,8352941</td><td>0,8352941</td><td>0,8196078</td><td>0,79215686</td><td>0,62745098</td><td>0,62745098</td><td>0,03921569</td><td>0,4431373</td><td>0,25490196</td><td>⋯</td><td>0,03137255</td><td>0,06274510</td><td>0,2509804</td><td>0,5450980</td><td>0,5450980</td><td>0,2745098</td><td>0,2549020</td><td>0,2392157</td><td>0,2392157</td><td>0,2862745</td></tr>\n",
       "\t<tr><td>0,5960784</td><td>0,3215686</td><td>0,3215686</td><td>0,2941176</td><td>0,87058824</td><td>0,01176471</td><td>0,01176471</td><td>0,08235294</td><td>0,7058824</td><td>0,68627451</td><td>⋯</td><td>0,56078431</td><td>0,85490196</td><td>0,8627451</td><td>0,3019608</td><td>0,3019608</td><td>0,8352941</td><td>0,4588235</td><td>0,8941176</td><td>0,8941176</td><td>0,6627451</td></tr>\n",
       "\t<tr><td>0,1411765</td><td>0,9019608</td><td>0,9019608</td><td>0,7647059</td><td>0,89019608</td><td>0,01176471</td><td>0,01176471</td><td>0,08235294</td><td>0,7058824</td><td>0,68627451</td><td>⋯</td><td>0,62745098</td><td>0,16470588</td><td>0,5803922</td><td>0,1882353</td><td>0,1882353</td><td>0,2666667</td><td>0,2627451</td><td>0,8627451</td><td>0,8627451</td><td>0,0745098</td></tr>\n",
       "</tbody>\n",
       "</table>\n"
      ],
      "text/latex": [
       "A matrix: 6 × 175 of type dbl\n",
       "\\begin{tabular}{lllllllllllllllllllllllllllllllllllllllllllllllllllllllllllllllllllllllllllllllllllllllllllllllllllllllllllllllllllllllllllllllllllllllllllllllllllllllllllllllllllllllllllllll}\n",
       "\t 0,6352941 & 0,1176471 & 0,1176471 & 0,1333333 & 0,01568627 & 0,62745098 & 0,78039216 & 0,78039216 & 0,6313725 & 0,87843137 & 0,7607843 & 0,7607843 & 0,1411765 & 0,4117647 & 0,627450980 & 0,627450980 & 0,5098039 & 0,007843137 & 0,2117647 & 0,4156863 & 0,4156863 & 0,8313725 & 0,8352941 & 0,8117647 & 0,8117647 & 0,4745098 & 0,8196078 & 0,5490196 & 0,34901961 & 0,34901961 & 0,5294118 & 0,2039216 & 0,8431373 & 0,8431373 & 0,5803922 & 0,5490196 & 0,6941176 & 0,8470588 & 0,8470588 & 0,6745098 & 0,19607843 & 0,6627451 & 0,6627451 & 0,1529412 & 0,1058824 & 0,68235294 & 0,68235294 & 0,2352941 & 0,10588235 & 0,4392157 & 0,4392157 & 0,5333333 & 0,5058824 & 0,2156863 & 0,2156863 & 0,0745098 & 0,27843137 & 0,8352941 & 0,8352941 & 0,2823529 & 0,27450980 & 0,05882353 & 0,05882353 & 0,75686275 & 0,1254902 & 0,71764706 & 0,71764706 & 0,3529412 & 0,7294118 & 0,6117647 & 0,6117647 & 0,1254902 & 0,06274510 & 0,4352941 & 0,48627451 & 0,48627451 & 0,20000000 & 0,5294118 & 0,7411765 & 0,4862745 & 0,4862745 & 0,38823529 & 0,4666667 & 0,21960784 & 0,3803922 & 0,3803922 & 0,3803922 & 0,53333333 & 0,3803922 & 0,3803922 & 0,3803922 & 0,2156863 & 0,38431373 & 0,2509804 & 0,2509804 & 0,5254902 & 0,3803922 & 0,7294118 & 0,1490196 & 0,1490196 & 0,5490196 & 0,6352941 & 0,41960784 & 0,41960784 & 0,79607843 & 0,11764706 & 0,66666667 & 0,66666667 & 0,7254902 & 0,6078431 & 0,71764706 & 0,71764706 & 0,4745098 & 0,69019608 & 0,8156863 & 0,1058824 & 0,1058824 & 0,2392157 & 0,8196078 & 0,52549020 & 0,52549020 & 0,2196078 & 0,6196078 & 0,38039216 & 0,38039216 & 0,698039216 & 0,5490196 & 0,3294118 & 0,3294118 & 0,02745098 & 0,4039216 & 0,59215686 & 0,59215686 & 0,3490196 & 0,6823529 & 0,3803922 & 0,3803922 & 0,07058824 & 0,8627451 & 0,62745098 & 0,62745098 & 0,2627451 & 0,59607843 & 0,141176471 & 0,141176471 & 0,12549020 & 0,22352941 & 0,4156863 & 0,4156863 & 0,74509804 & 0,529411765 & 0,2039216 & 0,2039216 & 0,0627451 & 0,4941176 & 0,2352941 & 0,4549020 & 0,4549020 & 0,4509804 & 0,1058824 & 0,8431373 & 0,8431373 & 0,13333333 & 0,7803922 & 0,58039216 & 0,58039216 & 0,41568627 & 0,5490196 & 0,2117647 & 0,2117647 & 0,4549020 & 0,4156863 & 0,9058824 & 0,9058824 & 0,3058824\\\\\n",
       "\t 0,4039216 & 0,4431373 & 0,4431373 & 0,6862745 & 0,14117647 & 0,66666667 & 0,66666667 & 0,87843137 & 0,6627451 & 0,01176471 & 0,7333333 & 0,7333333 & 0,7568627 & 0,7450980 & 0,109803922 & 0,109803922 & 0,1411765 & 0,203921569 & 0,3647059 & 0,4078431 & 0,4078431 & 0,6274510 & 0,6549020 & 0,5921569 & 0,5921569 & 0,6862745 & 0,8313725 & 0,8392157 & 0,06666667 & 0,06666667 & 0,5725490 & 0,8549020 & 0,2901961 & 0,2901961 & 0,2941176 & 0,1607843 & 0,6588235 & 0,1372549 & 0,1372549 & 0,3098039 & 0,51764706 & 0,8431373 & 0,8431373 & 0,7137255 & 0,3137255 & 0,90196078 & 0,90196078 & 0,1019608 & 0,61176471 & 0,5294118 & 0,5294118 & 0,3333333 & 0,7019608 & 0,6901961 & 0,6901961 & 0,3725490 & 0,15686275 & 0,8862745 & 0,8862745 & 0,2862745 & 0,50588235 & 0,27450980 & 0,27450980 & 0,10588235 & 0,4470588 & 0,22352941 & 0,22352941 & 0,3411765 & 0,4156863 & 0,4549020 & 0,4549020 & 0,2274510 & 0,06274510 & 0,4352941 & 0,48627451 & 0,48627451 & 0,20000000 & 0,5294118 & 0,7411765 & 0,4862745 & 0,4862745 & 0,38823529 & 0,4666667 & 0,21960784 & 0,3803922 & 0,3803922 & 0,3803922 & 0,53333333 & 0,3803922 & 0,3803922 & 0,3803922 & 0,2156863 & 0,38431373 & 0,2509804 & 0,2509804 & 0,5254902 & 0,3803922 & 0,7294118 & 0,1490196 & 0,1490196 & 0,5490196 & 0,4392157 & 0,07843137 & 0,07843137 & 0,21568627 & 0,38039216 & 0,49411765 & 0,49411765 & 0,8078431 & 0,2509804 & 0,67843137 & 0,67843137 & 0,1098039 & 0,05098039 & 0,4627451 & 0,2274510 & 0,2274510 & 0,2078431 & 0,3960784 & 0,57254902 & 0,57254902 & 0,7764706 & 0,8549020 & 0,42352941 & 0,42352941 & 0,819607843 & 0,3803922 & 0,5333333 & 0,5333333 & 0,09803922 & 0,6941176 & 0,08627451 & 0,08627451 & 0,6588235 & 0,2196078 & 0,3803922 & 0,3803922 & 0,38039216 & 0,1529412 & 0,70196078 & 0,70196078 & 0,8470588 & 0,75686275 & 0,254901961 & 0,254901961 & 0,01960784 & 0,44313725 & 0,9058824 & 0,9058824 & 0,72156863 & 0,505882353 & 0,3098039 & 0,3098039 & 0,4196078 & 0,4352941 & 0,1176471 & 0,6666667 & 0,6666667 & 0,2431373 & 0,7137255 & 0,6705882 & 0,6705882 & 0,83529412 & 0,1333333 & 0,01568627 & 0,01568627 & 0,09019608 & 0,5215686 & 0,8470588 & 0,8470588 & 0,6745098 & 0,6274510 & 0,4235294 & 0,4235294 & 0,8156863\\\\\n",
       "\t 0,4039216 & 0,4431373 & 0,4431373 & 0,6862745 & 0,14117647 & 0,66666667 & 0,66666667 & 0,87843137 & 0,6627451 & 0,01176471 & 0,7333333 & 0,7333333 & 0,7568627 & 0,7450980 & 0,109803922 & 0,109803922 & 0,1411765 & 0,203921569 & 0,3647059 & 0,4078431 & 0,4078431 & 0,6274510 & 0,6549020 & 0,5921569 & 0,5921569 & 0,6862745 & 0,8313725 & 0,8392157 & 0,06666667 & 0,06666667 & 0,5725490 & 0,8549020 & 0,2901961 & 0,2901961 & 0,2941176 & 0,1607843 & 0,6588235 & 0,1372549 & 0,1372549 & 0,3098039 & 0,51764706 & 0,8431373 & 0,8431373 & 0,7137255 & 0,3137255 & 0,90196078 & 0,90196078 & 0,1019608 & 0,61176471 & 0,5294118 & 0,5294118 & 0,3333333 & 0,7019608 & 0,6901961 & 0,6901961 & 0,3725490 & 0,15686275 & 0,8862745 & 0,8862745 & 0,2862745 & 0,50588235 & 0,27450980 & 0,27450980 & 0,10588235 & 0,4470588 & 0,22352941 & 0,22352941 & 0,3411765 & 0,4156863 & 0,4549020 & 0,4549020 & 0,2274510 & 0,38431373 & 0,4862745 & 0,48627451 & 0,48627451 & 0,65098039 & 0,4862745 & 0,2039216 & 0,2039216 & 0,2039216 & 0,02352941 & 0,4627451 & 0,05098039 & 0,3803922 & 0,3803922 & 0,2196078 & 0,87058824 & 0,7411765 & 0,6352941 & 0,6352941 & 0,3294118 & 0,16470588 & 0,3019608 & 0,3019608 & 0,2196078 & 0,6509804 & 0,3803922 & 0,2156863 & 0,2156863 & 0,3882353 & 0,4392157 & 0,07843137 & 0,07843137 & 0,21568627 & 0,38039216 & 0,49411765 & 0,49411765 & 0,8078431 & 0,2509804 & 0,67843137 & 0,67843137 & 0,1098039 & 0,05098039 & 0,4627451 & 0,2274510 & 0,2274510 & 0,2078431 & 0,3960784 & 0,57254902 & 0,57254902 & 0,7764706 & 0,8549020 & 0,42352941 & 0,42352941 & 0,819607843 & 0,3803922 & 0,5333333 & 0,5333333 & 0,09803922 & 0,6941176 & 0,08627451 & 0,08627451 & 0,6588235 & 0,2196078 & 0,3803922 & 0,3803922 & 0,38039216 & 0,1529412 & 0,70196078 & 0,70196078 & 0,8470588 & 0,75686275 & 0,254901961 & 0,254901961 & 0,01960784 & 0,44313725 & 0,9058824 & 0,9058824 & 0,72156863 & 0,505882353 & 0,3098039 & 0,3098039 & 0,4196078 & 0,4352941 & 0,1176471 & 0,6666667 & 0,6666667 & 0,2431373 & 0,7137255 & 0,6705882 & 0,6705882 & 0,83529412 & 0,1333333 & 0,01568627 & 0,01568627 & 0,09019608 & 0,5215686 & 0,8470588 & 0,8470588 & 0,6745098 & 0,6274510 & 0,4235294 & 0,4235294 & 0,8156863\\\\\n",
       "\t 0,8627451 & 0,8352941 & 0,8352941 & 0,8196078 & 0,79215686 & 0,62745098 & 0,62745098 & 0,03921569 & 0,4431373 & 0,25490196 & 0,6784314 & 0,6784314 & 0,2039216 & 0,1764706 & 0,003921569 & 0,003921569 & 0,4549020 & 0,403921569 & 0,6196078 & 0,1411765 & 0,1411765 & 0,1607843 & 0,8156863 & 0,8509804 & 0,8509804 & 0,4823529 & 0,4000000 & 0,7647059 & 0,59607843 & 0,59607843 & 0,4000000 & 0,1450980 & 0,2901961 & 0,2901961 & 0,2470588 & 0,5764706 & 0,7254902 & 0,6627451 & 0,6627451 & 0,4823529 & 0,03529412 & 0,6862745 & 0,6862745 & 0,2823529 & 0,6274510 & 0,01960784 & 0,01960784 & 0,2313725 & 0,06274510 & 0,8470588 & 0,8470588 & 0,7725490 & 0,6039216 & 0,3607843 & 0,3607843 & 0,8745098 & 0,16862745 & 0,3725490 & 0,3725490 & 0,2156863 & 0,18039216 & 0,70980392 & 0,70980392 & 0,28627451 & 0,2627451 & 0,66274510 & 0,66274510 & 0,4313725 & 0,5647059 & 0,5882353 & 0,5882353 & 0,1843137 & 0,08627451 & 0,7254902 & 0,61960784 & 0,61960784 & 0,06274510 & 0,6156863 & 0,2000000 & 0,0627451 & 0,0627451 & 0,48627451 & 0,6039216 & 0,49803922 & 0,2196078 & 0,2196078 & 0,7411765 & 0,02352941 & 0,8627451 & 0,5137255 & 0,5137255 & 0,9176471 & 0,15294118 & 0,3803922 & 0,3803922 & 0,3058824 & 0,3568627 & 0,8196078 & 0,2196078 & 0,2196078 & 0,7411765 & 0,1960784 & 0,78039216 & 0,78039216 & 0,04705882 & 0,38823529 & 0,57647059 & 0,57647059 & 0,6313725 & 0,1294118 & 0,05098039 & 0,05098039 & 0,2000000 & 0,21568627 & 0,8784314 & 0,7607843 & 0,7607843 & 0,1333333 & 0,6274510 & 0,01568627 & 0,01568627 & 0,2862745 & 0,8784314 & 0,03137255 & 0,03137255 & 0,376470588 & 0,0745098 & 0,5843137 & 0,5843137 & 0,14117647 & 0,4627451 & 0,66274510 & 0,66274510 & 0,1686275 & 0,4117647 & 0,6274510 & 0,6274510 & 0,50980392 & 0,2666667 & 0,05882353 & 0,05882353 & 0,9098039 & 0,63529412 & 0,152941176 & 0,152941176 & 0,56078431 & 0,38431373 & 0,2784314 & 0,2784314 & 0,02745098 & 0,007843137 & 0,8745098 & 0,8745098 & 0,8352941 & 0,1686275 & 0,2823529 & 0,6705882 & 0,6705882 & 0,1647059 & 0,6862745 & 0,6941176 & 0,6941176 & 0,02352941 & 0,4078431 & 0,03137255 & 0,03137255 & 0,06274510 & 0,2509804 & 0,5450980 & 0,5450980 & 0,2745098 & 0,2549020 & 0,2392157 & 0,2392157 & 0,2862745\\\\\n",
       "\t 0,5960784 & 0,3215686 & 0,3215686 & 0,2941176 & 0,87058824 & 0,01176471 & 0,01176471 & 0,08235294 & 0,7058824 & 0,68627451 & 0,4431373 & 0,4431373 & 0,5490196 & 0,9058824 & 0,501960784 & 0,501960784 & 0,6313725 & 0,274509804 & 0,1568627 & 0,5254902 & 0,5254902 & 0,5411765 & 0,8196078 & 0,7921569 & 0,7921569 & 0,8862745 & 0,8196078 & 0,6117647 & 0,34509804 & 0,34509804 & 0,0745098 & 0,1882353 & 0,5058824 & 0,5058824 & 0,8352941 & 0,5450980 & 0,4274510 & 0,5058824 & 0,5058824 & 0,5490196 & 0,31372549 & 0,8666667 & 0,8666667 & 0,5725490 & 0,8470588 & 0,41568627 & 0,41568627 & 0,4784314 & 0,77254902 & 0,8392157 & 0,3058824 & 0,3058824 & 0,2588235 & 0,6705882 & 0,6705882 & 0,6901961 & 0,01176471 & 0,8352941 & 0,8352941 & 0,1568627 & 0,02745098 & 0,20784314 & 0,20784314 & 0,14901961 & 0,1254902 & 0,02745098 & 0,02745098 & 0,3176471 & 0,5176471 & 0,7254902 & 0,7254902 & 0,1450980 & 0,06274510 & 0,3411765 & 0,05490196 & 0,05490196 & 0,01176471 & 0,4862745 & 0,4784314 & 0,4862745 & 0,4862745 & 0,61176471 & 0,0627451 & 0,40000000 & 0,8627451 & 0,8627451 & 0,6862745 & 0,34901961 & 0,6823529 & 0,7607843 & 0,7607843 & 0,7411765 & 0,05882353 & 0,7372549 & 0,7372549 & 0,2196078 & 0,4274510 & 0,7411765 & 0,8862745 & 0,8862745 & 0,4627451 & 0,3019608 & 0,42352941 & 0,42352941 & 0,52549020 & 0,05882353 & 0,12549020 & 0,12549020 & 0,8313725 & 0,1372549 & 0,66666667 & 0,66666667 & 0,7568627 & 0,48627451 & 0,2392157 & 0,5803922 & 0,5803922 & 0,2117647 & 0,4156863 & 0,38039216 & 0,38039216 & 0,2000000 & 0,2823529 & 0,65882353 & 0,65882353 & 0,007843137 & 0,5490196 & 0,7254902 & 0,7254902 & 0,60784314 & 0,8941176 & 0,24705882 & 0,24705882 & 0,1254902 & 0,7176471 & 0,7843137 & 0,7843137 & 0,76862745 & 0,8901961 & 0,63921569 & 0,63921569 & 0,3529412 & 0,04705882 & 0,133333333 & 0,133333333 & 0,41568627 & 0,72941176 & 0,1490196 & 0,1490196 & 0,61176471 & 0,462745098 & 0,2000000 & 0,2000000 & 0,4313725 & 0,2000000 & 0,8313725 & 0,6901961 & 0,6901961 & 0,5529412 & 0,6627451 & 0,1254902 & 0,1254902 & 0,27843137 & 0,2980392 & 0,56078431 & 0,56078431 & 0,85490196 & 0,8627451 & 0,3019608 & 0,3019608 & 0,8352941 & 0,4588235 & 0,8941176 & 0,8941176 & 0,6627451\\\\\n",
       "\t 0,1411765 & 0,9019608 & 0,9019608 & 0,7647059 & 0,89019608 & 0,01176471 & 0,01176471 & 0,08235294 & 0,7058824 & 0,68627451 & 0,4431373 & 0,4431373 & 0,5490196 & 0,9058824 & 0,501960784 & 0,501960784 & 0,6313725 & 0,274509804 & 0,1568627 & 0,5254902 & 0,5254902 & 0,5411765 & 0,8196078 & 0,7921569 & 0,7921569 & 0,8862745 & 0,8196078 & 0,6117647 & 0,34509804 & 0,34509804 & 0,0745098 & 0,1882353 & 0,5058824 & 0,5058824 & 0,8352941 & 0,5450980 & 0,4274510 & 0,5058824 & 0,5058824 & 0,5490196 & 0,31372549 & 0,8666667 & 0,8666667 & 0,5725490 & 0,8117647 & 0,14901961 & 0,14901961 & 0,5450980 & 0,09411765 & 0,1254902 & 0,8117647 & 0,8117647 & 0,4509804 & 0,8509804 & 0,4000000 & 0,4000000 & 0,59215686 & 0,5921569 & 0,5921569 & 0,2705882 & 0,50588235 & 0,58431373 & 0,58431373 & 0,01568627 & 0,5568627 & 0,57254902 & 0,57254902 & 0,2235294 & 0,7803922 & 0,3176471 & 0,3176471 & 0,1568627 & 0,06274510 & 0,3411765 & 0,05490196 & 0,05490196 & 0,01176471 & 0,4862745 & 0,4784314 & 0,4862745 & 0,4862745 & 0,61176471 & 0,0627451 & 0,40000000 & 0,8627451 & 0,8627451 & 0,6862745 & 0,34901961 & 0,6823529 & 0,7607843 & 0,7607843 & 0,7411765 & 0,05882353 & 0,7372549 & 0,7372549 & 0,2196078 & 0,4274510 & 0,7411765 & 0,8862745 & 0,8862745 & 0,4627451 & 0,8117647 & 0,83921569 & 0,83921569 & 0,25882353 & 0,54901961 & 0,05098039 & 0,05098039 & 0,4431373 & 0,4039216 & 0,14117647 & 0,14117647 & 0,9058824 & 0,91372549 & 0,3686275 & 0,5294118 & 0,5294118 & 0,3803922 & 0,4156863 & 0,10196078 & 0,10196078 & 0,1098039 & 0,4901961 & 0,21960784 & 0,21960784 & 0,313725490 & 0,8705882 & 0,1254902 & 0,1254902 & 0,83529412 & 0,7294118 & 0,46274510 & 0,46274510 & 0,3764706 & 0,7098039 & 0,8941176 & 0,8941176 & 0,70980392 & 0,7411765 & 0,06666667 & 0,06666667 & 0,6352941 & 0,12156863 & 0,007843137 & 0,007843137 & 0,69019608 & 0,02745098 & 0,3254902 & 0,3254902 & 0,89411765 & 0,572549020 & 0,8941176 & 0,8941176 & 0,6745098 & 0,3294118 & 0,8588235 & 0,4352941 & 0,4352941 & 0,1333333 & 0,6392157 & 0,4705882 & 0,4705882 & 0,23137255 & 0,8549020 & 0,62745098 & 0,62745098 & 0,16470588 & 0,5803922 & 0,1882353 & 0,1882353 & 0,2666667 & 0,2627451 & 0,8627451 & 0,8627451 & 0,0745098\\\\\n",
       "\\end{tabular}\n"
      ],
      "text/markdown": [
       "\n",
       "A matrix: 6 × 175 of type dbl\n",
       "\n",
       "| 0,6352941 | 0,1176471 | 0,1176471 | 0,1333333 | 0,01568627 | 0,62745098 | 0,78039216 | 0,78039216 | 0,6313725 | 0,87843137 | ⋯ | 0,58039216 | 0,41568627 | 0,5490196 | 0,2117647 | 0,2117647 | 0,4549020 | 0,4156863 | 0,9058824 | 0,9058824 | 0,3058824 |\n",
       "| 0,4039216 | 0,4431373 | 0,4431373 | 0,6862745 | 0,14117647 | 0,66666667 | 0,66666667 | 0,87843137 | 0,6627451 | 0,01176471 | ⋯ | 0,01568627 | 0,09019608 | 0,5215686 | 0,8470588 | 0,8470588 | 0,6745098 | 0,6274510 | 0,4235294 | 0,4235294 | 0,8156863 |\n",
       "| 0,4039216 | 0,4431373 | 0,4431373 | 0,6862745 | 0,14117647 | 0,66666667 | 0,66666667 | 0,87843137 | 0,6627451 | 0,01176471 | ⋯ | 0,01568627 | 0,09019608 | 0,5215686 | 0,8470588 | 0,8470588 | 0,6745098 | 0,6274510 | 0,4235294 | 0,4235294 | 0,8156863 |\n",
       "| 0,8627451 | 0,8352941 | 0,8352941 | 0,8196078 | 0,79215686 | 0,62745098 | 0,62745098 | 0,03921569 | 0,4431373 | 0,25490196 | ⋯ | 0,03137255 | 0,06274510 | 0,2509804 | 0,5450980 | 0,5450980 | 0,2745098 | 0,2549020 | 0,2392157 | 0,2392157 | 0,2862745 |\n",
       "| 0,5960784 | 0,3215686 | 0,3215686 | 0,2941176 | 0,87058824 | 0,01176471 | 0,01176471 | 0,08235294 | 0,7058824 | 0,68627451 | ⋯ | 0,56078431 | 0,85490196 | 0,8627451 | 0,3019608 | 0,3019608 | 0,8352941 | 0,4588235 | 0,8941176 | 0,8941176 | 0,6627451 |\n",
       "| 0,1411765 | 0,9019608 | 0,9019608 | 0,7647059 | 0,89019608 | 0,01176471 | 0,01176471 | 0,08235294 | 0,7058824 | 0,68627451 | ⋯ | 0,62745098 | 0,16470588 | 0,5803922 | 0,1882353 | 0,1882353 | 0,2666667 | 0,2627451 | 0,8627451 | 0,8627451 | 0,0745098 |\n",
       "\n"
      ],
      "text/plain": [
       "     [,1]      [,2]      [,3]      [,4]      [,5]       [,6]       [,7]      \n",
       "[1,] 0,6352941 0,1176471 0,1176471 0,1333333 0,01568627 0,62745098 0,78039216\n",
       "[2,] 0,4039216 0,4431373 0,4431373 0,6862745 0,14117647 0,66666667 0,66666667\n",
       "[3,] 0,4039216 0,4431373 0,4431373 0,6862745 0,14117647 0,66666667 0,66666667\n",
       "[4,] 0,8627451 0,8352941 0,8352941 0,8196078 0,79215686 0,62745098 0,62745098\n",
       "[5,] 0,5960784 0,3215686 0,3215686 0,2941176 0,87058824 0,01176471 0,01176471\n",
       "[6,] 0,1411765 0,9019608 0,9019608 0,7647059 0,89019608 0,01176471 0,01176471\n",
       "     [,8]       [,9]      [,10]      [,11] [,12]      [,13]      [,14]    \n",
       "[1,] 0,78039216 0,6313725 0,87843137 ⋯     0,58039216 0,41568627 0,5490196\n",
       "[2,] 0,87843137 0,6627451 0,01176471 ⋯     0,01568627 0,09019608 0,5215686\n",
       "[3,] 0,87843137 0,6627451 0,01176471 ⋯     0,01568627 0,09019608 0,5215686\n",
       "[4,] 0,03921569 0,4431373 0,25490196 ⋯     0,03137255 0,06274510 0,2509804\n",
       "[5,] 0,08235294 0,7058824 0,68627451 ⋯     0,56078431 0,85490196 0,8627451\n",
       "[6,] 0,08235294 0,7058824 0,68627451 ⋯     0,62745098 0,16470588 0,5803922\n",
       "     [,15]     [,16]     [,17]     [,18]     [,19]     [,20]     [,21]    \n",
       "[1,] 0,2117647 0,2117647 0,4549020 0,4156863 0,9058824 0,9058824 0,3058824\n",
       "[2,] 0,8470588 0,8470588 0,6745098 0,6274510 0,4235294 0,4235294 0,8156863\n",
       "[3,] 0,8470588 0,8470588 0,6745098 0,6274510 0,4235294 0,4235294 0,8156863\n",
       "[4,] 0,5450980 0,5450980 0,2745098 0,2549020 0,2392157 0,2392157 0,2862745\n",
       "[5,] 0,3019608 0,3019608 0,8352941 0,4588235 0,8941176 0,8941176 0,6627451\n",
       "[6,] 0,1882353 0,1882353 0,2666667 0,2627451 0,8627451 0,8627451 0,0745098"
      ]
     },
     "metadata": {},
     "output_type": "display_data"
    }
   ],
   "source": [
    "head(png_mat[, , 1])"
   ]
  },
  {
   "cell_type": "markdown",
   "metadata": {},
   "source": [
    "We convert pixels values from 0-1 to 0-255 scale:"
   ]
  },
  {
   "cell_type": "code",
   "execution_count": 70,
   "metadata": {},
   "outputs": [],
   "source": [
    "png_mat <- png_mat*255"
   ]
  },
  {
   "cell_type": "markdown",
   "metadata": {},
   "source": [
    "We extract RGB matrices:"
   ]
  },
  {
   "cell_type": "code",
   "execution_count": 71,
   "metadata": {},
   "outputs": [],
   "source": [
    "r_png_mat <- png_mat[, , 1]\n",
    "g_png_mat <- png_mat[, , 2]\n",
    "b_png_mat <- png_mat[, , 3]"
   ]
  },
  {
   "cell_type": "markdown",
   "metadata": {},
   "source": [
    "We convert RGB color values to hexadecimal format:"
   ]
  },
  {
   "cell_type": "code",
   "execution_count": 72,
   "metadata": {},
   "outputs": [],
   "source": [
    "hex_r_png_mat <- format(as.hexmode(r_png_mat), width = 2, upper.case = TRUE)\n",
    "hex_g_png_mat <- format(as.hexmode(g_png_mat), width = 2, upper.case = TRUE)\n",
    "hex_b_png_mat <- format(as.hexmode(b_png_mat), width = 2, upper.case = TRUE)"
   ]
  },
  {
   "cell_type": "markdown",
   "metadata": {},
   "source": [
    "G and B colors component were originally generated to be the same:"
   ]
  },
  {
   "cell_type": "code",
   "execution_count": 73,
   "metadata": {},
   "outputs": [
    {
     "data": {
      "text/html": [
       "TRUE"
      ],
      "text/latex": [
       "TRUE"
      ],
      "text/markdown": [
       "TRUE"
      ],
      "text/plain": [
       "[1] TRUE"
      ]
     },
     "metadata": {},
     "output_type": "display_data"
    }
   ],
   "source": [
    "# TRUE expected\n",
    "all(hex_g_png_mat == hex_b_png_mat)"
   ]
  },
  {
   "cell_type": "code",
   "execution_count": 74,
   "metadata": {},
   "outputs": [
    {
     "data": {
      "text/html": [
       "FALSE"
      ],
      "text/latex": [
       "FALSE"
      ],
      "text/markdown": [
       "FALSE"
      ],
      "text/plain": [
       "[1] FALSE"
      ]
     },
     "metadata": {},
     "output_type": "display_data"
    }
   ],
   "source": [
    "# FALSE expected\n",
    "all(hex_r_png_mat == hex_g_png_mat)"
   ]
  },
  {
   "cell_type": "markdown",
   "metadata": {},
   "source": [
    "We create RRGGBB (hexadecimal format) color value matrix:"
   ]
  },
  {
   "cell_type": "code",
   "execution_count": 75,
   "metadata": {},
   "outputs": [],
   "source": [
    "hex_rgb_png_mat <- paste0(\"#\", hex_r_png_mat, hex_g_png_mat, hex_b_png_mat)"
   ]
  },
  {
   "cell_type": "code",
   "execution_count": 76,
   "metadata": {},
   "outputs": [
    {
     "data": {
      "text/html": [
       "<ol class=list-inline>\n",
       "\t<li>'#A2B0B0'</li>\n",
       "\t<li>'#671818'</li>\n",
       "\t<li>'#671818'</li>\n",
       "\t<li>'#DC6868'</li>\n",
       "\t<li>'#984040'</li>\n",
       "\t<li>'#248080'</li>\n",
       "</ol>\n"
      ],
      "text/latex": [
       "\\begin{enumerate*}\n",
       "\\item '\\#A2B0B0'\n",
       "\\item '\\#671818'\n",
       "\\item '\\#671818'\n",
       "\\item '\\#DC6868'\n",
       "\\item '\\#984040'\n",
       "\\item '\\#248080'\n",
       "\\end{enumerate*}\n"
      ],
      "text/markdown": [
       "1. '#A2B0B0'\n",
       "2. '#671818'\n",
       "3. '#671818'\n",
       "4. '#DC6868'\n",
       "5. '#984040'\n",
       "6. '#248080'\n",
       "\n",
       "\n"
      ],
      "text/plain": [
       "[1] \"#A2B0B0\" \"#671818\" \"#671818\" \"#DC6868\" \"#984040\" \"#248080\""
      ]
     },
     "metadata": {},
     "output_type": "display_data"
    }
   ],
   "source": [
    "head(hex_rgb_png_mat)"
   ]
  },
  {
   "cell_type": "markdown",
   "metadata": {},
   "source": [
    "The discretized RRGGBB matrix contains one extra color (white background):"
   ]
  },
  {
   "cell_type": "code",
   "execution_count": 77,
   "metadata": {},
   "outputs": [
    {
     "data": {
      "text/html": [
       "7510"
      ],
      "text/latex": [
       "7510"
      ],
      "text/markdown": [
       "7510"
      ],
      "text/plain": [
       "[1] 7510"
      ]
     },
     "metadata": {},
     "output_type": "display_data"
    }
   ],
   "source": [
    "length(unique(hex_rgb_png_mat))"
   ]
  },
  {
   "cell_type": "code",
   "execution_count": 78,
   "metadata": {},
   "outputs": [
    {
     "data": {
      "text/html": [
       "'#FFFFFF'"
      ],
      "text/latex": [
       "'\\#FFFFFF'"
      ],
      "text/markdown": [
       "'#FFFFFF'"
      ],
      "text/plain": [
       "[1] \"#FFFFFF\""
      ]
     },
     "metadata": {},
     "output_type": "display_data"
    }
   ],
   "source": [
    "(back_col <- setdiff(unique(hex_rgb_png_mat), unique(df_res_pix$color)))"
   ]
  },
  {
   "cell_type": "markdown",
   "metadata": {},
   "source": [
    "We now create a color-gene mapping table, adding background color as the last row:"
   ]
  },
  {
   "cell_type": "code",
   "execution_count": 79,
   "metadata": {},
   "outputs": [],
   "source": [
    "color_gene <- data.frame(geneId = c(rownames(gene_color), back_col), stringsAsFactors = FALSE)\n",
    "rownames(color_gene) <- c(gene_color$color, back_col)"
   ]
  },
  {
   "cell_type": "code",
   "execution_count": 80,
   "metadata": {},
   "outputs": [
    {
     "data": {
      "text/html": [
       "<table>\n",
       "<caption>A data.frame: 6 × 1</caption>\n",
       "<thead>\n",
       "\t<tr><th></th><th scope=col>geneId</th></tr>\n",
       "\t<tr><th></th><th scope=col>&lt;chr&gt;</th></tr>\n",
       "</thead>\n",
       "<tbody>\n",
       "\t<tr><th scope=row>#EA8080</th><td>ENSG00000198692.9 </td></tr>\n",
       "\t<tr><th scope=row>#EA8888</th><td>ENSG00000105227.14</td></tr>\n",
       "\t<tr><th scope=row>#EA9090</th><td>ENSG00000164237.8 </td></tr>\n",
       "\t<tr><th scope=row>#EA9898</th><td>ENSG00000175048.16</td></tr>\n",
       "\t<tr><th scope=row>#EAA0A0</th><td>ENSG00000188706.12</td></tr>\n",
       "\t<tr><th scope=row>#FFFFFF</th><td>#FFFFFF           </td></tr>\n",
       "</tbody>\n",
       "</table>\n"
      ],
      "text/latex": [
       "A data.frame: 6 × 1\n",
       "\\begin{tabular}{r|l}\n",
       "  & geneId\\\\\n",
       "  & <chr>\\\\\n",
       "\\hline\n",
       "\t\\#EA8080 & ENSG00000198692.9 \\\\\n",
       "\t\\#EA8888 & ENSG00000105227.14\\\\\n",
       "\t\\#EA9090 & ENSG00000164237.8 \\\\\n",
       "\t\\#EA9898 & ENSG00000175048.16\\\\\n",
       "\t\\#EAA0A0 & ENSG00000188706.12\\\\\n",
       "\t\\#FFFFFF & \\#FFFFFF           \\\\\n",
       "\\end{tabular}\n"
      ],
      "text/markdown": [
       "\n",
       "A data.frame: 6 × 1\n",
       "\n",
       "| <!--/--> | geneId &lt;chr&gt; |\n",
       "|---|---|\n",
       "| #EA8080 | ENSG00000198692.9  |\n",
       "| #EA8888 | ENSG00000105227.14 |\n",
       "| #EA9090 | ENSG00000164237.8  |\n",
       "| #EA9898 | ENSG00000175048.16 |\n",
       "| #EAA0A0 | ENSG00000188706.12 |\n",
       "| #FFFFFF | #FFFFFF            |\n",
       "\n"
      ],
      "text/plain": [
       "        geneId            \n",
       "#EA8080 ENSG00000198692.9 \n",
       "#EA8888 ENSG00000105227.14\n",
       "#EA9090 ENSG00000164237.8 \n",
       "#EA9898 ENSG00000175048.16\n",
       "#EAA0A0 ENSG00000188706.12\n",
       "#FFFFFF #FFFFFF           "
      ]
     },
     "metadata": {},
     "output_type": "display_data"
    }
   ],
   "source": [
    "tail(color_gene)"
   ]
  },
  {
   "cell_type": "markdown",
   "metadata": {},
   "source": [
    "Finally, we create the template matrix, mapping the colors from the RRGGBB color value matrix to genes:"
   ]
  },
  {
   "cell_type": "code",
   "execution_count": 81,
   "metadata": {},
   "outputs": [],
   "source": [
    "gene_treemap <- matrix(color_gene[hex_rgb_png_mat, \"geneId\"], nrow = n_row, ncol = n_col, byrow = FALSE)"
   ]
  },
  {
   "cell_type": "markdown",
   "metadata": {},
   "source": [
    "The template matrix also contains one extra color corresponding to background:"
   ]
  },
  {
   "cell_type": "code",
   "execution_count": 82,
   "metadata": {},
   "outputs": [
    {
     "data": {
      "text/html": [
       "7510"
      ],
      "text/latex": [
       "7510"
      ],
      "text/markdown": [
       "7510"
      ],
      "text/plain": [
       "[1] 7510"
      ]
     },
     "metadata": {},
     "output_type": "display_data"
    }
   ],
   "source": [
    "length(unique(as.character(gene_treemap)))"
   ]
  },
  {
   "cell_type": "code",
   "execution_count": 83,
   "metadata": {},
   "outputs": [
    {
     "data": {
      "text/html": [
       "'#FFFFFF'"
      ],
      "text/latex": [
       "'\\#FFFFFF'"
      ],
      "text/markdown": [
       "'#FFFFFF'"
      ],
      "text/plain": [
       "[1] \"#FFFFFF\""
      ]
     },
     "metadata": {},
     "output_type": "display_data"
    }
   ],
   "source": [
    "setdiff(unique(as.character(gene_treemap)), gene)"
   ]
  },
  {
   "cell_type": "code",
   "execution_count": 84,
   "metadata": {},
   "outputs": [
    {
     "data": {
      "text/html": [
       "<table>\n",
       "<caption>A matrix: 6 × 2 of type int</caption>\n",
       "<thead>\n",
       "\t<tr><th scope=col>row</th><th scope=col>col</th></tr>\n",
       "</thead>\n",
       "<tbody>\n",
       "\t<tr><td> 19</td><td>  8</td></tr>\n",
       "\t<tr><td> 23</td><td> 57</td></tr>\n",
       "\t<tr><td>135</td><td>122</td></tr>\n",
       "\t<tr><td>135</td><td>123</td></tr>\n",
       "\t<tr><td>135</td><td>124</td></tr>\n",
       "\t<tr><td>135</td><td>125</td></tr>\n",
       "</tbody>\n",
       "</table>\n"
      ],
      "text/latex": [
       "A matrix: 6 × 2 of type int\n",
       "\\begin{tabular}{ll}\n",
       " row & col\\\\\n",
       "\\hline\n",
       "\t  19 &   8\\\\\n",
       "\t  23 &  57\\\\\n",
       "\t 135 & 122\\\\\n",
       "\t 135 & 123\\\\\n",
       "\t 135 & 124\\\\\n",
       "\t 135 & 125\\\\\n",
       "\\end{tabular}\n"
      ],
      "text/markdown": [
       "\n",
       "A matrix: 6 × 2 of type int\n",
       "\n",
       "| row | col |\n",
       "|---|---|\n",
       "|  19 |   8 |\n",
       "|  23 |  57 |\n",
       "| 135 | 122 |\n",
       "| 135 | 123 |\n",
       "| 135 | 124 |\n",
       "| 135 | 125 |\n",
       "\n"
      ],
      "text/plain": [
       "     row col\n",
       "[1,]  19   8\n",
       "[2,]  23  57\n",
       "[3,] 135 122\n",
       "[4,] 135 123\n",
       "[5,] 135 124\n",
       "[6,] 135 125"
      ]
     },
     "metadata": {},
     "output_type": "display_data"
    }
   ],
   "source": [
    "back_pos <- which(gene_treemap==\"#FFFFFF\", arr.ind = TRUE)\n",
    "back_pos[order(back_pos[, \"row\"], back_pos[, \"col\"]), ]"
   ]
  },
  {
   "cell_type": "code",
   "execution_count": 85,
   "metadata": {},
   "outputs": [
    {
     "data": {
      "text/html": [
       "<table>\n",
       "<caption>A matrix: 6 × 175 of type chr</caption>\n",
       "<tbody>\n",
       "\t<tr><td>ENSG00000163914.4</td><td>ENSG00000122375.11</td><td>ENSG00000122375.11</td><td>ENSG00000197177.15</td><td>ENSG00000121764.11</td><td>ENSG00000231861.2 </td><td>ENSG00000120436.3 </td><td>ENSG00000120436.3</td><td>ENSG00000036828.13</td><td>ENSG00000171496.3 </td><td>⋯</td><td>ENSG00000157542.9 </td><td>ENSG00000104237.6 </td><td>ENSG00000196811.11</td><td>ENSG00000173157.16</td><td>ENSG00000173157.16</td><td>ENSG00000105675.8 </td><td>ENSG00000141434.11</td><td>ENSG00000102290.21</td><td>ENSG00000102290.21</td><td>ENSG00000171956.6 </td></tr>\n",
       "\t<tr><td>ENSG00000257008.6</td><td>ENSG00000188269.8 </td><td>ENSG00000188269.8 </td><td>ENSG00000164129.11</td><td>ENSG00000181074.3 </td><td>ENSG00000056291.17</td><td>ENSG00000056291.17</td><td>ENSG00000188394.6</td><td>ENSG00000109163.6 </td><td>ENSG00000188822.7 </td><td>⋯</td><td>ENSG00000121764.11</td><td>ENSG00000042781.12</td><td>ENSG00000144119.3 </td><td>ENSG00000164796.17</td><td>ENSG00000164796.17</td><td>ENSG00000152208.11</td><td>ENSG00000231861.2 </td><td>ENSG00000081138.13</td><td>ENSG00000081138.13</td><td>ENSG00000106302.9 </td></tr>\n",
       "\t<tr><td>ENSG00000257008.6</td><td>ENSG00000188269.8 </td><td>ENSG00000188269.8 </td><td>ENSG00000164129.11</td><td>ENSG00000181074.3 </td><td>ENSG00000056291.17</td><td>ENSG00000056291.17</td><td>ENSG00000188394.6</td><td>ENSG00000109163.6 </td><td>ENSG00000188822.7 </td><td>⋯</td><td>ENSG00000121764.11</td><td>ENSG00000042781.12</td><td>ENSG00000144119.3 </td><td>ENSG00000164796.17</td><td>ENSG00000164796.17</td><td>ENSG00000152208.11</td><td>ENSG00000231861.2 </td><td>ENSG00000081138.13</td><td>ENSG00000081138.13</td><td>ENSG00000106302.9 </td></tr>\n",
       "\t<tr><td>ENSG00000168828.5</td><td>ENSG00000082556.10</td><td>ENSG00000082556.10</td><td>ENSG00000221970.1 </td><td>ENSG00000106113.18</td><td>ENSG00000179097.5 </td><td>ENSG00000179097.5 </td><td>ENSG00000181656.6</td><td>ENSG00000131355.14</td><td>ENSG00000102468.10</td><td>⋯</td><td>ENSG00000162594.14</td><td>ENSG00000132693.12</td><td>ENSG00000133115.11</td><td>ENSG00000163497.2 </td><td>ENSG00000163497.2 </td><td>ENSG00000151812.14</td><td>ENSG00000215475.4 </td><td>ENSG00000111783.12</td><td>ENSG00000111783.12</td><td>ENSG00000140093.9 </td></tr>\n",
       "\t<tr><td>ENSG00000128310.2</td><td>ENSG00000162009.8 </td><td>ENSG00000162009.8 </td><td>ENSG00000184984.9 </td><td>ENSG00000136928.4 </td><td>ENSG00000179546.4 </td><td>ENSG00000179546.4 </td><td>ENSG00000170075.8</td><td>ENSG00000178015.4 </td><td>ENSG00000171509.15</td><td>⋯</td><td>ENSG00000101251.11</td><td>ENSG00000261678.2 </td><td>ENSG00000187559.5 </td><td>ENSG00000137766.16</td><td>ENSG00000137766.16</td><td>ENSG00000183729.3 </td><td>ENSG00000105261.7 </td><td>ENSG00000169297.7 </td><td>ENSG00000169297.7 </td><td>ENSG00000145242.13</td></tr>\n",
       "\t<tr><td>ENSG00000180919.3</td><td>ENSG00000186912.6 </td><td>ENSG00000186912.6 </td><td>ENSG00000135312.5 </td><td>ENSG00000126010.5 </td><td>ENSG00000179546.4 </td><td>ENSG00000179546.4 </td><td>ENSG00000170075.8</td><td>ENSG00000178015.4 </td><td>ENSG00000171509.15</td><td>⋯</td><td>ENSG00000172139.14</td><td>ENSG00000248746.5 </td><td>ENSG00000160224.16</td><td>ENSG00000165478.6 </td><td>ENSG00000165478.6 </td><td>ENSG00000145526.11</td><td>ENSG00000185974.6 </td><td>ENSG00000184659.5 </td><td>ENSG00000184659.5 </td><td>ENSG00000135824.12</td></tr>\n",
       "</tbody>\n",
       "</table>\n"
      ],
      "text/latex": [
       "A matrix: 6 × 175 of type chr\n",
       "\\begin{tabular}{lllllllllllllllllllllllllllllllllllllllllllllllllllllllllllllllllllllllllllllllllllllllllllllllllllllllllllllllllllllllllllllllllllllllllllllllllllllllllllllllllllllllllllllll}\n",
       "\t ENSG00000163914.4 & ENSG00000122375.11 & ENSG00000122375.11 & ENSG00000197177.15 & ENSG00000121764.11 & ENSG00000231861.2  & ENSG00000120436.3  & ENSG00000120436.3 & ENSG00000036828.13 & ENSG00000171496.3  & ENSG00000164393.8  & ENSG00000164393.8  & ENSG00000184350.9 & ENSG00000181408.3 & ENSG00000144820.7  & ENSG00000144820.7  & ENSG00000169618.6  & ENSG00000158748.3 & ENSG00000172640.3  & ENSG00000134489.6  & ENSG00000134489.6  & ENSG00000188778.4 & ENSG00000183729.3  & ENSG00000172209.5  & ENSG00000172209.5  & ENSG00000104848.1  & ENSG00000127412.6  & ENSG00000135902.9  & ENSG00000277481.1  & ENSG00000277481.1  & ENSG00000184611.11 & ENSG00000273079.4  & ENSG00000170289.12 & ENSG00000170289.12 & ENSG00000157542.9  & ENSG00000196811.11 & ENSG00000164588.4  & ENSG00000164794.8  & ENSG00000164794.8  & ENSG00000152208.11 & ENSG00000111262.4  & ENSG00000163288.13 & ENSG00000163288.13 & ENSG00000109991.8  & ENSG00000177291.3  & ENSG00000109424.3  & ENSG00000109424.3  & ENSG00000179520.10 & ENSG00000148482.11 & ENSG00000039987.6  & ENSG00000039987.6  & ENSG00000073734.8  & ENSG00000143921.6  & ENSG00000167580.7  & ENSG00000167580.7  & ENSG00000162753.11 & ENSG00000100652.4  & ENSG00000185942.11 & ENSG00000185942.11 & ENSG00000165553.4  & ENSG00000151812.14 & ENSG00000143595.12 & ENSG00000143595.12 & ENSG00000137204.14 & ENSG00000185933.6  & ENSG00000120329.6  & ENSG00000120329.6  & ENSG00000166558.10 & ENSG00000131183.10 & ENSG00000172940.11 & ENSG00000172940.11 & ENSG00000183128.7  & ENSG00000163518.10 & ENSG00000104938.16 & ENSG00000125498.19 & ENSG00000125498.19 & ENSG00000198178.10 & ENSG00000248672.5  & ENSG00000124557.12 & ENSG00000221957.8  & ENSG00000221957.8  & ENSG00000004939.13 & ENSG00000243137.7  & ENSG00000170486.10 & ENSG00000187242.4 & ENSG00000187242.4 & ENSG00000108759.3  & ENSG00000073734.8  & ENSG00000196859.7  & ENSG00000204889.10 & ENSG00000204889.10 & ENSG00000167580.7  & ENSG00000171403.9  & ENSG00000133115.11 & ENSG00000133115.11 & ENSG00000152086.8 & ENSG00000171446.6  & ENSG00000131183.10 & ENSG00000166800.9  & ENSG00000166800.9  & ENSG00000163283.6  & ENSG00000163914.4 & ENSG00000206181.5  & ENSG00000206181.5  & ENSG00000154997.8  & ENSG00000204010.3  & ENSG00000156194.17 & ENSG00000156194.17 & ENSG00000226650.5  & ENSG00000144644.14 & ENSG00000171815.5  & ENSG00000171815.5  & ENSG00000104848.1  & ENSG00000168594.15 & ENSG00000170807.11 & ENSG00000177291.3  & ENSG00000177291.3  & ENSG00000187855.5 & ENSG00000127412.6  & ENSG00000115850.9  & ENSG00000115850.9  & ENSG00000170486.10 & ENSG00000114349.9  & ENSG00000171532.4 & ENSG00000171532.4 & ENSG00000152670.18 & ENSG00000135902.9  & ENSG00000130182.7 & ENSG00000130182.7 & ENSG00000162399.6  & ENSG00000257008.6  & ENSG00000243902.6  & ENSG00000243902.6  & ENSG00000277481.1 & ENSG00000109424.3 & ENSG00000187242.4  & ENSG00000187242.4  & ENSG00000162761.14 & ENSG00000168828.5  & ENSG00000064835.10 & ENSG00000064835.10 & ENSG00000186009.4  & ENSG00000128310.2  & ENSG00000180919.3 & ENSG00000180919.3 & ENSG00000235376.5  & ENSG00000160505.15 & ENSG00000154611.14 & ENSG00000154611.14 & ENSG00000204657.3  & ENSG00000184611.11 & ENSG00000273079.4  & ENSG00000273079.4  & ENSG00000163518.10 & ENSG00000151360.9  & ENSG00000179520.10 & ENSG00000126251.6  & ENSG00000126251.6  & ENSG00000213973.8  & ENSG00000148482.11 & ENSG00000170289.12 & ENSG00000170289.12 & ENSG00000130561.16 & ENSG00000198670.11 & ENSG00000157542.9  & ENSG00000157542.9  & ENSG00000104237.6  & ENSG00000196811.11 & ENSG00000173157.16 & ENSG00000173157.16 & ENSG00000105675.8  & ENSG00000141434.11 & ENSG00000102290.21 & ENSG00000102290.21 & ENSG00000171956.6 \\\\\n",
       "\t ENSG00000257008.6 & ENSG00000188269.8  & ENSG00000188269.8  & ENSG00000164129.11 & ENSG00000181074.3  & ENSG00000056291.17 & ENSG00000056291.17 & ENSG00000188394.6 & ENSG00000109163.6  & ENSG00000188822.7  & ENSG00000113262.14 & ENSG00000113262.14 & ENSG00000112164.5 & ENSG00000124657.1 & ENSG00000256574.6  & ENSG00000256574.6  & ENSG00000110148.9  & ENSG00000121318.2 & ENSG00000065325.12 & ENSG00000215644.9  & ENSG00000215644.9  & ENSG00000154165.4 & ENSG00000155269.11 & ENSG00000278195.1  & ENSG00000278195.1  & ENSG00000145451.12 & ENSG00000120903.10 & ENSG00000182674.5  & ENSG00000162728.4  & ENSG00000162728.4  & ENSG00000101204.15 & ENSG00000168263.8  & ENSG00000186297.11 & ENSG00000186297.11 & ENSG00000134160.13 & ENSG00000182450.12 & ENSG00000174343.5  & ENSG00000070985.13 & ENSG00000070985.13 & ENSG00000138622.3  & ENSG00000144191.11 & ENSG00000156486.7  & ENSG00000156486.7  & ENSG00000078795.16 & ENSG00000188869.12 & ENSG00000165349.11 & ENSG00000165349.11 & ENSG00000103546.18 & ENSG00000144671.10 & ENSG00000144290.16 & ENSG00000144290.16 & ENSG00000103375.10 & ENSG00000122012.13 & ENSG00000142319.17 & ENSG00000142319.17 & ENSG00000007216.14 & ENSG00000166961.14 & ENSG00000198569.9  & ENSG00000198569.9  & ENSG00000155886.11 & ENSG00000138075.11 & ENSG00000196860.7  & ENSG00000196860.7  & ENSG00000150201.14 & ENSG00000105641.3  & ENSG00000135517.6  & ENSG00000135517.6  & ENSG00000070915.9  & ENSG00000132874.13 & ENSG00000130876.11 & ENSG00000130876.11 & ENSG00000127325.18 & ENSG00000163518.10 & ENSG00000104938.16 & ENSG00000125498.19 & ENSG00000125498.19 & ENSG00000198178.10 & ENSG00000248672.5  & ENSG00000124557.12 & ENSG00000221957.8  & ENSG00000221957.8  & ENSG00000004939.13 & ENSG00000243137.7  & ENSG00000170486.10 & ENSG00000187242.4 & ENSG00000187242.4 & ENSG00000108759.3  & ENSG00000073734.8  & ENSG00000196859.7  & ENSG00000204889.10 & ENSG00000204889.10 & ENSG00000167580.7  & ENSG00000171403.9  & ENSG00000133115.11 & ENSG00000133115.11 & ENSG00000152086.8 & ENSG00000171446.6  & ENSG00000131183.10 & ENSG00000166800.9  & ENSG00000166800.9  & ENSG00000163283.6  & ENSG00000039987.6 & ENSG00000116703.13 & ENSG00000116703.13 & ENSG00000167612.12 & ENSG00000141748.12 & ENSG00000186487.17 & ENSG00000186487.17 & ENSG00000021461.16 & ENSG00000132975.7  & ENSG00000109471.4  & ENSG00000109471.4  & ENSG00000138347.15 & ENSG00000236334.2  & ENSG00000198077.10 & ENSG00000111536.4  & ENSG00000111536.4  & ENSG00000187950.8 & ENSG00000181013.3  & ENSG00000101180.15 & ENSG00000101180.15 & ENSG00000135577.4  & ENSG00000137090.11 & ENSG00000242550.5 & ENSG00000242550.5 & ENSG00000212807.1  & ENSG00000108759.3  & ENSG00000073734.8 & ENSG00000073734.8 & ENSG00000196071.3  & ENSG00000164588.4  & ENSG00000198049.6  & ENSG00000198049.6  & ENSG00000169676.5 & ENSG00000170374.5 & ENSG00000196859.7  & ENSG00000196859.7  & ENSG00000204889.10 & ENSG00000175097.7  & ENSG00000172497.8  & ENSG00000172497.8  & ENSG00000164794.8  & ENSG00000124721.17 & ENSG00000102539.5 & ENSG00000102539.5 & ENSG00000116981.3  & ENSG00000127530.2  & ENSG00000174225.14 & ENSG00000174225.14 & ENSG00000164270.17 & ENSG00000143921.6  & ENSG00000140506.16 & ENSG00000140506.16 & ENSG00000166603.4  & ENSG00000104938.16 & ENSG00000122375.11 & ENSG00000187054.14 & ENSG00000187054.14 & ENSG00000089116.3  & ENSG00000204961.6  & ENSG00000152592.13 & ENSG00000152592.13 & ENSG00000167910.3  & ENSG00000197177.15 & ENSG00000121764.11 & ENSG00000121764.11 & ENSG00000042781.12 & ENSG00000144119.3  & ENSG00000164796.17 & ENSG00000164796.17 & ENSG00000152208.11 & ENSG00000231861.2  & ENSG00000081138.13 & ENSG00000081138.13 & ENSG00000106302.9 \\\\\n",
       "\t ENSG00000257008.6 & ENSG00000188269.8  & ENSG00000188269.8  & ENSG00000164129.11 & ENSG00000181074.3  & ENSG00000056291.17 & ENSG00000056291.17 & ENSG00000188394.6 & ENSG00000109163.6  & ENSG00000188822.7  & ENSG00000113262.14 & ENSG00000113262.14 & ENSG00000112164.5 & ENSG00000124657.1 & ENSG00000256574.6  & ENSG00000256574.6  & ENSG00000110148.9  & ENSG00000121318.2 & ENSG00000065325.12 & ENSG00000215644.9  & ENSG00000215644.9  & ENSG00000154165.4 & ENSG00000155269.11 & ENSG00000278195.1  & ENSG00000278195.1  & ENSG00000145451.12 & ENSG00000120903.10 & ENSG00000182674.5  & ENSG00000162728.4  & ENSG00000162728.4  & ENSG00000101204.15 & ENSG00000168263.8  & ENSG00000186297.11 & ENSG00000186297.11 & ENSG00000134160.13 & ENSG00000182450.12 & ENSG00000174343.5  & ENSG00000070985.13 & ENSG00000070985.13 & ENSG00000138622.3  & ENSG00000144191.11 & ENSG00000156486.7  & ENSG00000156486.7  & ENSG00000078795.16 & ENSG00000188869.12 & ENSG00000165349.11 & ENSG00000165349.11 & ENSG00000103546.18 & ENSG00000144671.10 & ENSG00000144290.16 & ENSG00000144290.16 & ENSG00000103375.10 & ENSG00000122012.13 & ENSG00000142319.17 & ENSG00000142319.17 & ENSG00000007216.14 & ENSG00000166961.14 & ENSG00000198569.9  & ENSG00000198569.9  & ENSG00000155886.11 & ENSG00000138075.11 & ENSG00000196860.7  & ENSG00000196860.7  & ENSG00000150201.14 & ENSG00000105641.3  & ENSG00000135517.6  & ENSG00000135517.6  & ENSG00000070915.9  & ENSG00000132874.13 & ENSG00000130876.11 & ENSG00000130876.11 & ENSG00000127325.18 & ENSG00000173585.15 & ENSG00000167633.16 & ENSG00000240403.5  & ENSG00000240403.5  & ENSG00000178732.5  & ENSG00000243772.6  & ENSG00000205810.8  & ENSG00000183542.5  & ENSG00000183542.5  & ENSG00000117400.14 & ENSG00000007306.14 & ENSG00000184270.4  & ENSG00000094796.4 & ENSG00000094796.4 & ENSG00000172867.3  & ENSG00000130957.4  & ENSG00000124557.12 & ENSG00000172752.14 & ENSG00000172752.14 & ENSG00000140623.13 & ENSG00000248746.5  & ENSG00000074803.17 & ENSG00000074803.17 & ENSG00000185640.5 & ENSG00000113889.11 & ENSG00000171431.3  & ENSG00000170523.3  & ENSG00000170523.3  & ENSG00000004939.13 & ENSG00000039987.6 & ENSG00000116703.13 & ENSG00000116703.13 & ENSG00000167612.12 & ENSG00000141748.12 & ENSG00000186487.17 & ENSG00000186487.17 & ENSG00000021461.16 & ENSG00000132975.7  & ENSG00000109471.4  & ENSG00000109471.4  & ENSG00000138347.15 & ENSG00000236334.2  & ENSG00000198077.10 & ENSG00000111536.4  & ENSG00000111536.4  & ENSG00000187950.8 & ENSG00000181013.3  & ENSG00000101180.15 & ENSG00000101180.15 & ENSG00000135577.4  & ENSG00000137090.11 & ENSG00000242550.5 & ENSG00000242550.5 & ENSG00000212807.1  & ENSG00000108759.3  & ENSG00000073734.8 & ENSG00000073734.8 & ENSG00000196071.3  & ENSG00000164588.4  & ENSG00000198049.6  & ENSG00000198049.6  & ENSG00000169676.5 & ENSG00000170374.5 & ENSG00000196859.7  & ENSG00000196859.7  & ENSG00000204889.10 & ENSG00000175097.7  & ENSG00000172497.8  & ENSG00000172497.8  & ENSG00000164794.8  & ENSG00000124721.17 & ENSG00000102539.5 & ENSG00000102539.5 & ENSG00000116981.3  & ENSG00000127530.2  & ENSG00000174225.14 & ENSG00000174225.14 & ENSG00000164270.17 & ENSG00000143921.6  & ENSG00000140506.16 & ENSG00000140506.16 & ENSG00000166603.4  & ENSG00000104938.16 & ENSG00000122375.11 & ENSG00000187054.14 & ENSG00000187054.14 & ENSG00000089116.3  & ENSG00000204961.6  & ENSG00000152592.13 & ENSG00000152592.13 & ENSG00000167910.3  & ENSG00000197177.15 & ENSG00000121764.11 & ENSG00000121764.11 & ENSG00000042781.12 & ENSG00000144119.3  & ENSG00000164796.17 & ENSG00000164796.17 & ENSG00000152208.11 & ENSG00000231861.2  & ENSG00000081138.13 & ENSG00000081138.13 & ENSG00000106302.9 \\\\\n",
       "\t ENSG00000168828.5 & ENSG00000082556.10 & ENSG00000082556.10 & ENSG00000221970.1  & ENSG00000106113.18 & ENSG00000179097.5  & ENSG00000179097.5  & ENSG00000181656.6 & ENSG00000131355.14 & ENSG00000102468.10 & ENSG00000180245.4  & ENSG00000180245.4  & ENSG00000256436.1 & ENSG00000123901.8 & ENSG00000173662.19 & ENSG00000173662.19 & ENSG00000185897.6  & ENSG00000182687.3 & ENSG00000180929.5  & ENSG00000167332.7  & ENSG00000167332.7  & ENSG00000168539.3 & ENSG00000128617.2  & ENSG00000204882.3  & ENSG00000204882.3  & ENSG00000130433.7  & ENSG00000108878.4  & ENSG00000146276.11 & ENSG00000168135.4  & ENSG00000168135.4  & ENSG00000173826.14 & ENSG00000129159.6  & ENSG00000182256.12 & ENSG00000182256.12 & ENSG00000187848.12 & ENSG00000171189.16 & ENSG00000155511.17 & ENSG00000151834.15 & ENSG00000151834.15 & ENSG00000142408.2  & ENSG00000016602.9  & ENSG00000120251.18 & ENSG00000120251.18 & ENSG00000100433.15 & ENSG00000172139.14 & ENSG00000131233.9  & ENSG00000131233.9  & ENSG00000072041.16 & ENSG00000132677.12 & ENSG00000174226.8  & ENSG00000174226.8  & ENSG00000188580.13 & ENSG00000132164.9  & ENSG00000141485.15 & ENSG00000141485.15 & ENSG00000119457.7  & ENSG00000110203.8  & ENSG00000108576.9  & ENSG00000108576.9  & ENSG00000086159.12 & ENSG00000170290.3  & ENSG00000113396.12 & ENSG00000113396.12 & ENSG00000140090.17 & ENSG00000165794.9  & ENSG00000145248.6  & ENSG00000145248.6  & ENSG00000181240.13 & ENSG00000129988.5  & ENSG00000099984.10 & ENSG00000099984.10 & ENSG00000172350.9  & ENSG00000162897.14 & ENSG00000113249.12 & ENSG00000239732.3  & ENSG00000239732.3  & ENSG00000163534.14 & ENSG00000183625.14 & ENSG00000166527.7  & ENSG00000158485.10 & ENSG00000158485.10 & ENSG00000189430.12 & ENSG00000091181.19 & ENSG00000084674.13 & ENSG00000170454.5 & ENSG00000170454.5 & ENSG00000277775.1  & ENSG00000164007.10 & ENSG00000183148.6  & ENSG00000249884.8  & ENSG00000249884.8  & ENSG00000277745.1  & ENSG00000180210.14 & ENSG00000126337.13 & ENSG00000126337.13 & ENSG00000171989.5 & ENSG00000198211.8  & ENSG00000204983.12 & ENSG00000170423.12 & ENSG00000170423.12 & ENSG00000274997.1  & ENSG00000111262.4 & ENSG00000120436.3  & ENSG00000120436.3  & ENSG00000203859.9  & ENSG00000167941.2  & ENSG00000205927.4  & ENSG00000205927.4  & ENSG00000036828.13 & ENSG00000197893.13 & ENSG00000168509.17 & ENSG00000168509.17 & ENSG00000111704.10 & ENSG00000167580.7  & ENSG00000171496.3  & ENSG00000164393.8  & ENSG00000164393.8  & ENSG00000229544.8 & ENSG00000176040.13 & ENSG00000273274.1  & ENSG00000273274.1  & ENSG00000170054.14 & ENSG00000136931.9  & ENSG00000116745.6 & ENSG00000116745.6 & ENSG00000274933.4  & ENSG00000162753.11 & ENSG00000280604.1 & ENSG00000280604.1 & ENSG00000184350.9  & ENSG00000182393.2  & ENSG00000163288.13 & ENSG00000163288.13 & ENSG00000162344.3 & ENSG00000181408.3 & ENSG00000144820.7  & ENSG00000144820.7  & ENSG00000169618.6  & ENSG00000092054.12 & ENSG00000143552.9  & ENSG00000143552.9  & ENSG00000077279.16 & ENSG00000159650.8  & ENSG00000109991.8 & ENSG00000109991.8 & ENSG00000125813.13 & ENSG00000171403.9  & ENSG00000100652.4  & ENSG00000100652.4  & ENSG00000162365.11 & ENSG00000158748.3  & ENSG00000030304.12 & ENSG00000030304.12 & ENSG00000185942.11 & ENSG00000167800.9  & ENSG00000165553.4  & ENSG00000138675.16 & ENSG00000138675.16 & ENSG00000198488.10 & ENSG00000145451.12 & ENSG00000154162.13 & ENSG00000154162.13 & ENSG00000171872.4  & ENSG00000182156.9  & ENSG00000162594.14 & ENSG00000162594.14 & ENSG00000132693.12 & ENSG00000133115.11 & ENSG00000163497.2  & ENSG00000163497.2  & ENSG00000151812.14 & ENSG00000215475.4  & ENSG00000111783.12 & ENSG00000111783.12 & ENSG00000140093.9 \\\\\n",
       "\t ENSG00000128310.2 & ENSG00000162009.8  & ENSG00000162009.8  & ENSG00000184984.9  & ENSG00000136928.4  & ENSG00000179546.4  & ENSG00000179546.4  & ENSG00000170075.8 & ENSG00000178015.4  & ENSG00000171509.15 & ENSG00000160951.3  & ENSG00000160951.3  & ENSG00000135898.9 & ENSG00000147138.1 & ENSG00000173567.14 & ENSG00000173567.14 & ENSG00000175697.10 & ENSG00000168229.3 & ENSG00000183134.4  & ENSG00000144230.16 & ENSG00000144230.16 & ENSG00000144407.9 & ENSG00000127364.3  & ENSG00000078549.14 & ENSG00000078549.14 & ENSG00000148408.12 & ENSG00000188037.10 & ENSG00000168356.11 & ENSG00000070729.13 & ENSG00000070729.13 & ENSG00000198216.10 & ENSG00000151704.15 & ENSG00000171126.7  & ENSG00000171126.7  & ENSG00000147434.8  & ENSG00000072182.12 & ENSG00000116032.5  & ENSG00000184261.4  & ENSG00000184261.4  & ENSG00000115474.6  & ENSG00000108684.14 & ENSG00000083067.22 & ENSG00000083067.22 & ENSG00000075043.17 & ENSG00000164756.12 & ENSG00000118271.9  & ENSG00000118271.9  & ENSG00000105509.10 & ENSG00000196376.10 & ENSG00000137571.10 & ENSG00000186198.3  & ENSG00000186198.3  & ENSG00000088386.15 & ENSG00000145283.7  & ENSG00000145283.7  & ENSG00000066230.10 & ENSG00000158014.14 & ENSG00000181195.10 & ENSG00000181195.10 & ENSG00000214787.8  & ENSG00000117834.12 & ENSG00000139155.8  & ENSG00000139155.8  & ENSG00000110436.11 & ENSG00000119946.10 & ENSG00000162383.11 & ENSG00000162383.11 & ENSG00000185518.11 & ENSG00000115616.2  & ENSG00000172548.14 & ENSG00000172548.14 & ENSG00000006071.11 & ENSG00000132704.15 & ENSG00000156886.11 & ENSG00000143631.10 & ENSG00000143631.10 & ENSG00000187010.18 & ENSG00000186431.18 & ENSG00000105492.15 & ENSG00000268734.1  & ENSG00000268734.1  & ENSG00000179934.6  & ENSG00000132677.12 & ENSG00000091583.10 & ENSG00000233111.1 & ENSG00000233111.1 & ENSG00000109511.10 & ENSG00000141096.4  & ENSG00000171560.14 & ENSG00000112818.9  & ENSG00000112818.9  & ENSG00000197153.4  & ENSG00000143627.17 & ENSG00000275714.1  & ENSG00000275714.1  & ENSG00000170465.9 & ENSG00000197561.6  & ENSG00000276903.1  & ENSG00000198569.9  & ENSG00000198569.9  & ENSG00000007306.14 & ENSG00000169856.8 & ENSG00000185198.11 & ENSG00000185198.11 & ENSG00000152086.8  & ENSG00000143595.12 & ENSG00000107831.12 & ENSG00000107831.12 & ENSG00000120903.10 & ENSG00000198788.8  & ENSG00000213759.8  & ENSG00000213759.8  & ENSG00000137204.14 & ENSG00000125498.19 & ENSG00000111245.14 & ENSG00000171587.14 & ENSG00000171587.14 & ENSG00000172640.3 & ENSG00000134765.9  & ENSG00000171446.6  & ENSG00000171446.6  & ENSG00000111732.10 & ENSG00000177108.5  & ENSG00000250254.1 & ENSG00000250254.1 & ENSG00000158786.4  & ENSG00000135903.18 & ENSG00000237693.4 & ENSG00000237693.4 & ENSG00000206557.5  & ENSG00000171489.10 & ENSG00000151952.14 & ENSG00000151952.14 & ENSG00000185933.6 & ENSG00000120329.6 & ENSG00000122584.12 & ENSG00000122584.12 & ENSG00000172461.10 & ENSG00000205667.2  & ENSG00000114124.2  & ENSG00000114124.2  & ENSG00000166558.10 & ENSG00000177551.5  & ENSG00000154485.4 & ENSG00000154485.4 & ENSG00000134489.6  & ENSG00000131183.10 & ENSG00000166800.9  & ENSG00000166800.9  & ENSG00000172940.11 & ENSG00000197446.8  & ENSG00000198178.10 & ENSG00000198178.10 & ENSG00000077009.13 & ENSG00000205846.3  & ENSG00000188778.4  & ENSG00000164122.8  & ENSG00000164122.8  & ENSG00000244122.2  & ENSG00000177752.14 & ENSG00000183128.7  & ENSG00000183128.7  & ENSG00000205669.2  & ENSG00000178997.11 & ENSG00000101251.11 & ENSG00000101251.11 & ENSG00000261678.2  & ENSG00000187559.5  & ENSG00000137766.16 & ENSG00000137766.16 & ENSG00000183729.3  & ENSG00000105261.7  & ENSG00000169297.7  & ENSG00000169297.7  & ENSG00000145242.13\\\\\n",
       "\t ENSG00000180919.3 & ENSG00000186912.6  & ENSG00000186912.6  & ENSG00000135312.5  & ENSG00000126010.5  & ENSG00000179546.4  & ENSG00000179546.4  & ENSG00000170075.8 & ENSG00000178015.4  & ENSG00000171509.15 & ENSG00000160951.3  & ENSG00000160951.3  & ENSG00000135898.9 & ENSG00000147138.1 & ENSG00000173567.14 & ENSG00000173567.14 & ENSG00000175697.10 & ENSG00000168229.3 & ENSG00000183134.4  & ENSG00000144230.16 & ENSG00000144230.16 & ENSG00000144407.9 & ENSG00000127364.3  & ENSG00000078549.14 & ENSG00000078549.14 & ENSG00000148408.12 & ENSG00000188037.10 & ENSG00000168356.11 & ENSG00000070729.13 & ENSG00000070729.13 & ENSG00000198216.10 & ENSG00000151704.15 & ENSG00000171126.7  & ENSG00000171126.7  & ENSG00000147434.8  & ENSG00000072182.12 & ENSG00000116032.5  & ENSG00000184261.4  & ENSG00000184261.4  & ENSG00000115474.6  & ENSG00000108684.14 & ENSG00000083067.22 & ENSG00000083067.22 & ENSG00000075043.17 & ENSG00000091138.12 & ENSG00000148942.14 & ENSG00000148942.14 & ENSG00000144452.14 & ENSG00000183780.12 & ENSG00000023839.10 & ENSG00000001626.14 & ENSG00000001626.14 & ENSG00000021488.12 & ENSG00000147697.8  & ENSG00000154258.16 & ENSG00000154258.16 & ENSG00000100170.9  & ENSG00000100362.12 & ENSG00000100362.12 & ENSG00000183032.10 & ENSG00000138079.13 & ENSG00000099960.12 & ENSG00000099960.12 & ENSG00000084628.9  & ENSG00000170482.16 & ENSG00000101198.14 & ENSG00000101198.14 & ENSG00000139540.11 & ENSG00000175003.12 & ENSG00000140519.12 & ENSG00000140519.12 & ENSG00000156738.17 & ENSG00000132704.15 & ENSG00000156886.11 & ENSG00000143631.10 & ENSG00000143631.10 & ENSG00000187010.18 & ENSG00000186431.18 & ENSG00000105492.15 & ENSG00000268734.1  & ENSG00000268734.1  & ENSG00000179934.6  & ENSG00000132677.12 & ENSG00000091583.10 & ENSG00000233111.1 & ENSG00000233111.1 & ENSG00000109511.10 & ENSG00000141096.4  & ENSG00000171560.14 & ENSG00000112818.9  & ENSG00000112818.9  & ENSG00000197153.4  & ENSG00000143627.17 & ENSG00000275714.1  & ENSG00000275714.1  & ENSG00000170465.9 & ENSG00000197561.6  & ENSG00000276903.1  & ENSG00000198569.9  & ENSG00000198569.9  & ENSG00000007306.14 & ENSG00000172209.5 & ENSG00000182674.5  & ENSG00000182674.5  & ENSG00000152192.7  & ENSG00000163283.6  & ENSG00000184270.4  & ENSG00000184270.4  & ENSG00000188269.8  & ENSG00000171595.13 & ENSG00000158077.4  & ENSG00000158077.4  & ENSG00000102128.7  & ENSG00000067842.17 & ENSG00000128438.10 & ENSG00000248672.5  & ENSG00000248672.5  & ENSG00000094796.4 & ENSG00000132872.11 & ENSG00000113600.10 & ENSG00000113600.10 & ENSG00000150275.17 & ENSG00000197213.9  & ENSG00000172867.3 & ENSG00000172867.3 & ENSG00000188869.12 & ENSG00000130957.4  & ENSG00000107859.9 & ENSG00000107859.9 & ENSG00000082556.10 & ENSG00000183072.9  & ENSG00000197408.8  & ENSG00000197408.8  & ENSG00000275152.4 & ENSG00000145808.8 & ENSG00000185915.5  & ENSG00000185915.5  & ENSG00000169194.9  & ENSG00000124557.12 & ENSG00000162728.4  & ENSG00000162728.4  & ENSG00000172752.14 & ENSG00000187553.8  & ENSG00000187980.6 & ENSG00000187980.6 & ENSG00000088926.13 & ENSG00000186790.5  & ENSG00000103355.12 & ENSG00000103355.12 & ENSG00000169306.9  & ENSG00000101204.15 & ENSG00000036473.6  & ENSG00000036473.6  & ENSG00000187758.7  & ENSG00000140623.13 & ENSG00000120160.10 & ENSG00000198028.3  & ENSG00000198028.3  & ENSG00000186766.7  & ENSG00000118017.3  & ENSG00000008438.4  & ENSG00000008438.4  & ENSG00000139330.5  & ENSG00000168263.8  & ENSG00000172139.14 & ENSG00000172139.14 & ENSG00000248746.5  & ENSG00000160224.16 & ENSG00000165478.6  & ENSG00000165478.6  & ENSG00000145526.11 & ENSG00000185974.6  & ENSG00000184659.5  & ENSG00000184659.5  & ENSG00000135824.12\\\\\n",
       "\\end{tabular}\n"
      ],
      "text/markdown": [
       "\n",
       "A matrix: 6 × 175 of type chr\n",
       "\n",
       "| ENSG00000163914.4 | ENSG00000122375.11 | ENSG00000122375.11 | ENSG00000197177.15 | ENSG00000121764.11 | ENSG00000231861.2  | ENSG00000120436.3  | ENSG00000120436.3 | ENSG00000036828.13 | ENSG00000171496.3  | ⋯ | ENSG00000157542.9  | ENSG00000104237.6  | ENSG00000196811.11 | ENSG00000173157.16 | ENSG00000173157.16 | ENSG00000105675.8  | ENSG00000141434.11 | ENSG00000102290.21 | ENSG00000102290.21 | ENSG00000171956.6  |\n",
       "| ENSG00000257008.6 | ENSG00000188269.8  | ENSG00000188269.8  | ENSG00000164129.11 | ENSG00000181074.3  | ENSG00000056291.17 | ENSG00000056291.17 | ENSG00000188394.6 | ENSG00000109163.6  | ENSG00000188822.7  | ⋯ | ENSG00000121764.11 | ENSG00000042781.12 | ENSG00000144119.3  | ENSG00000164796.17 | ENSG00000164796.17 | ENSG00000152208.11 | ENSG00000231861.2  | ENSG00000081138.13 | ENSG00000081138.13 | ENSG00000106302.9  |\n",
       "| ENSG00000257008.6 | ENSG00000188269.8  | ENSG00000188269.8  | ENSG00000164129.11 | ENSG00000181074.3  | ENSG00000056291.17 | ENSG00000056291.17 | ENSG00000188394.6 | ENSG00000109163.6  | ENSG00000188822.7  | ⋯ | ENSG00000121764.11 | ENSG00000042781.12 | ENSG00000144119.3  | ENSG00000164796.17 | ENSG00000164796.17 | ENSG00000152208.11 | ENSG00000231861.2  | ENSG00000081138.13 | ENSG00000081138.13 | ENSG00000106302.9  |\n",
       "| ENSG00000168828.5 | ENSG00000082556.10 | ENSG00000082556.10 | ENSG00000221970.1  | ENSG00000106113.18 | ENSG00000179097.5  | ENSG00000179097.5  | ENSG00000181656.6 | ENSG00000131355.14 | ENSG00000102468.10 | ⋯ | ENSG00000162594.14 | ENSG00000132693.12 | ENSG00000133115.11 | ENSG00000163497.2  | ENSG00000163497.2  | ENSG00000151812.14 | ENSG00000215475.4  | ENSG00000111783.12 | ENSG00000111783.12 | ENSG00000140093.9  |\n",
       "| ENSG00000128310.2 | ENSG00000162009.8  | ENSG00000162009.8  | ENSG00000184984.9  | ENSG00000136928.4  | ENSG00000179546.4  | ENSG00000179546.4  | ENSG00000170075.8 | ENSG00000178015.4  | ENSG00000171509.15 | ⋯ | ENSG00000101251.11 | ENSG00000261678.2  | ENSG00000187559.5  | ENSG00000137766.16 | ENSG00000137766.16 | ENSG00000183729.3  | ENSG00000105261.7  | ENSG00000169297.7  | ENSG00000169297.7  | ENSG00000145242.13 |\n",
       "| ENSG00000180919.3 | ENSG00000186912.6  | ENSG00000186912.6  | ENSG00000135312.5  | ENSG00000126010.5  | ENSG00000179546.4  | ENSG00000179546.4  | ENSG00000170075.8 | ENSG00000178015.4  | ENSG00000171509.15 | ⋯ | ENSG00000172139.14 | ENSG00000248746.5  | ENSG00000160224.16 | ENSG00000165478.6  | ENSG00000165478.6  | ENSG00000145526.11 | ENSG00000185974.6  | ENSG00000184659.5  | ENSG00000184659.5  | ENSG00000135824.12 |\n",
       "\n"
      ],
      "text/plain": [
       "     [,1]              [,2]               [,3]               [,4]              \n",
       "[1,] ENSG00000163914.4 ENSG00000122375.11 ENSG00000122375.11 ENSG00000197177.15\n",
       "[2,] ENSG00000257008.6 ENSG00000188269.8  ENSG00000188269.8  ENSG00000164129.11\n",
       "[3,] ENSG00000257008.6 ENSG00000188269.8  ENSG00000188269.8  ENSG00000164129.11\n",
       "[4,] ENSG00000168828.5 ENSG00000082556.10 ENSG00000082556.10 ENSG00000221970.1 \n",
       "[5,] ENSG00000128310.2 ENSG00000162009.8  ENSG00000162009.8  ENSG00000184984.9 \n",
       "[6,] ENSG00000180919.3 ENSG00000186912.6  ENSG00000186912.6  ENSG00000135312.5 \n",
       "     [,5]               [,6]               [,7]               [,8]             \n",
       "[1,] ENSG00000121764.11 ENSG00000231861.2  ENSG00000120436.3  ENSG00000120436.3\n",
       "[2,] ENSG00000181074.3  ENSG00000056291.17 ENSG00000056291.17 ENSG00000188394.6\n",
       "[3,] ENSG00000181074.3  ENSG00000056291.17 ENSG00000056291.17 ENSG00000188394.6\n",
       "[4,] ENSG00000106113.18 ENSG00000179097.5  ENSG00000179097.5  ENSG00000181656.6\n",
       "[5,] ENSG00000136928.4  ENSG00000179546.4  ENSG00000179546.4  ENSG00000170075.8\n",
       "[6,] ENSG00000126010.5  ENSG00000179546.4  ENSG00000179546.4  ENSG00000170075.8\n",
       "     [,9]               [,10]              [,11] [,12]             \n",
       "[1,] ENSG00000036828.13 ENSG00000171496.3  ⋯     ENSG00000157542.9 \n",
       "[2,] ENSG00000109163.6  ENSG00000188822.7  ⋯     ENSG00000121764.11\n",
       "[3,] ENSG00000109163.6  ENSG00000188822.7  ⋯     ENSG00000121764.11\n",
       "[4,] ENSG00000131355.14 ENSG00000102468.10 ⋯     ENSG00000162594.14\n",
       "[5,] ENSG00000178015.4  ENSG00000171509.15 ⋯     ENSG00000101251.11\n",
       "[6,] ENSG00000178015.4  ENSG00000171509.15 ⋯     ENSG00000172139.14\n",
       "     [,13]              [,14]              [,15]             \n",
       "[1,] ENSG00000104237.6  ENSG00000196811.11 ENSG00000173157.16\n",
       "[2,] ENSG00000042781.12 ENSG00000144119.3  ENSG00000164796.17\n",
       "[3,] ENSG00000042781.12 ENSG00000144119.3  ENSG00000164796.17\n",
       "[4,] ENSG00000132693.12 ENSG00000133115.11 ENSG00000163497.2 \n",
       "[5,] ENSG00000261678.2  ENSG00000187559.5  ENSG00000137766.16\n",
       "[6,] ENSG00000248746.5  ENSG00000160224.16 ENSG00000165478.6 \n",
       "     [,16]              [,17]              [,18]             \n",
       "[1,] ENSG00000173157.16 ENSG00000105675.8  ENSG00000141434.11\n",
       "[2,] ENSG00000164796.17 ENSG00000152208.11 ENSG00000231861.2 \n",
       "[3,] ENSG00000164796.17 ENSG00000152208.11 ENSG00000231861.2 \n",
       "[4,] ENSG00000163497.2  ENSG00000151812.14 ENSG00000215475.4 \n",
       "[5,] ENSG00000137766.16 ENSG00000183729.3  ENSG00000105261.7 \n",
       "[6,] ENSG00000165478.6  ENSG00000145526.11 ENSG00000185974.6 \n",
       "     [,19]              [,20]              [,21]             \n",
       "[1,] ENSG00000102290.21 ENSG00000102290.21 ENSG00000171956.6 \n",
       "[2,] ENSG00000081138.13 ENSG00000081138.13 ENSG00000106302.9 \n",
       "[3,] ENSG00000081138.13 ENSG00000081138.13 ENSG00000106302.9 \n",
       "[4,] ENSG00000111783.12 ENSG00000111783.12 ENSG00000140093.9 \n",
       "[5,] ENSG00000169297.7  ENSG00000169297.7  ENSG00000145242.13\n",
       "[6,] ENSG00000184659.5  ENSG00000184659.5  ENSG00000135824.12"
      ]
     },
     "metadata": {},
     "output_type": "display_data"
    }
   ],
   "source": [
    "head(gene_treemap)"
   ]
  },
  {
   "cell_type": "markdown",
   "metadata": {},
   "source": [
    "## Gene-expression images\n",
    "\n",
    "Once we have generated the KEGG BRITE functional-hierarchies image **T**, we proceed to create the gene-expression images. Using **T** as a template, for each gene-expression vector **g<sub>i</sub>**, we map the expression values to the positions\n",
    "of the genes in **T**, thus obtaining a unique gene-expression image **G<sub>i</sub>** for each sample *i*. \n",
    "\n",
    "We save each **G<sub>i</sub>** image as a *numpy* file, using the sample ID as the file name:"
   ]
  },
  {
   "cell_type": "code",
   "execution_count": 86,
   "metadata": {},
   "outputs": [],
   "source": [
    "library(RcppCNPy)"
   ]
  },
  {
   "cell_type": "code",
   "execution_count": 87,
   "metadata": {},
   "outputs": [
    {
     "data": {
      "text/html": [],
      "text/latex": [],
      "text/markdown": [],
      "text/plain": [
       "character(0)"
      ]
     },
     "metadata": {},
     "output_type": "display_data"
    }
   ],
   "source": [
    "# Create gene-expression images folder\n",
    "dir_name <- paste0(\"gene_exp_treemap_\", n_width, \"_\", n_height, \"_npy/\") \n",
    "system(paste0(\"mkdir -p \", dir_name), intern = TRUE)"
   ]
  },
  {
   "cell_type": "code",
   "execution_count": 96,
   "metadata": {},
   "outputs": [],
   "source": [
    "start.time <- Sys.time()\n",
    "for (sample_id in tcga_samples) {\n",
    "    npySave(filename = paste0(dir_name, strsplit(head(sample_id)[1], \"_\")[[1]][1], \".npy\"), \n",
    "            object = matrix(gene_exp[gene_treemap, sample_id], nrow = n_row, ncol = n_col, byrow = FALSE))\n",
    "}\n",
    "end.time <- Sys.time()"
   ]
  },
  {
   "cell_type": "code",
   "execution_count": 97,
   "metadata": {},
   "outputs": [
    {
     "data": {
      "text/plain": [
       "Time difference of 16,25554 secs"
      ]
     },
     "metadata": {},
     "output_type": "display_data"
    }
   ],
   "source": [
    "end.time - start.time"
   ]
  },
  {
   "cell_type": "markdown",
   "metadata": {},
   "source": [
    "Finally, we also create a treemap image with the average expression values across all samples. When visualized, the pixels colors transition is expected to be very smooth, as the average expression values across all samples have been used to sort the genes inside the treemap."
   ]
  },
  {
   "cell_type": "code",
   "execution_count": 98,
   "metadata": {},
   "outputs": [],
   "source": [
    "npySave(filename = paste0(dir_name, \"AVERAGE_EXPRESSION_TCGA_SAMPLES.npy\"), \n",
    "            object = matrix(gene_exp[gene_treemap, \"order\"], nrow = n_row, ncol = n_col, byrow = FALSE))"
   ]
  }
 ],
 "metadata": {
  "kernelspec": {
   "display_name": "R",
   "language": "R",
   "name": "ir"
  },
  "language_info": {
   "codemirror_mode": "r",
   "file_extension": ".r",
   "mimetype": "text/x-r-source",
   "name": "R",
   "pygments_lexer": "r",
   "version": "3.5.0"
  }
 },
 "nbformat": 4,
 "nbformat_minor": 2
}
