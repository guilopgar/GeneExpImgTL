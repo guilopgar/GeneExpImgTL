{
 "cells": [
  {
   "cell_type": "markdown",
   "metadata": {},
   "source": [
    "# Treemapping procedure\n",
    "\n",
    "In this notebook, every gene-expression vector **g<sub>i</sub>** is transformed into a gene-expression image **M<sub>i</sub>**. However, as opposed to `2-KEGG_BRITE_Treemap`, in this notebook, the position of each gene in **M<sub>i</sub>** is solely determined by its mean expression value across all the PanCancer samples, not considering any KEGG BRITE hierarchical information in this rearrangement criterion. This is the only difference between the workflow presented in this notebook and the workflow carried out in the previously referenced notebook.\n",
    "\n",
    "For each image **M<sub>i</sub>**, we use the same resolution used in `2-KEGG_BRITE_Treemap` notebook."
   ]
  },
  {
   "cell_type": "markdown",
   "metadata": {},
   "source": [
    "Firstly, we load the KEGG Brite hierarchical dataset generated in `1-KEGG_BRITE_Hierarchy` Python notebook:"
   ]
  },
  {
   "cell_type": "code",
   "execution_count": 1,
   "metadata": {},
   "outputs": [],
   "source": [
    "start.time <- Sys.time()\n",
    "exp_to_tree_map <- read.csv(\"../KEGG_exp_to_tree_map.csv\", header = TRUE, stringsAsFactors = FALSE)\n",
    "end.time <- Sys.time()"
   ]
  },
  {
   "cell_type": "code",
   "execution_count": 2,
   "metadata": {},
   "outputs": [
    {
     "data": {
      "text/plain": [
       "Time difference of 1.176719 mins"
      ]
     },
     "metadata": {},
     "output_type": "display_data"
    }
   ],
   "source": [
    "end.time - start.time"
   ]
  },
  {
   "cell_type": "code",
   "execution_count": 3,
   "metadata": {},
   "outputs": [
    {
     "data": {
      "text/html": [
       "7509"
      ],
      "text/latex": [
       "7509"
      ],
      "text/markdown": [
       "7509"
      ],
      "text/plain": [
       "[1] 7509"
      ]
     },
     "metadata": {},
     "output_type": "display_data"
    }
   ],
   "source": [
    "# Number of ENSEMBLE genes included in the dataset\n",
    "length(unique(exp_to_tree_map$geneId))"
   ]
  },
  {
   "cell_type": "code",
   "execution_count": 4,
   "metadata": {},
   "outputs": [
    {
     "name": "stderr",
     "output_type": "stream",
     "text": [
      "ERROR while rich displaying an object: Error in sprintf(wrap, caption, header, body): 'fmt' length exceeds maximal format length 8192\n",
      "\n",
      "Traceback:\n",
      "1. FUN(X[[i]], ...)\n",
      "2. tryCatch(withCallingHandlers({\n",
      " .     if (!mime %in% names(repr::mime2repr)) \n",
      " .         stop(\"No repr_* for mimetype \", mime, \" in repr::mime2repr\")\n",
      " .     rpr <- repr::mime2repr[[mime]](obj)\n",
      " .     if (is.null(rpr)) \n",
      " .         return(NULL)\n",
      " .     prepare_content(is.raw(rpr), rpr)\n",
      " . }, error = error_handler), error = outer_handler)\n",
      "3. tryCatchList(expr, classes, parentenv, handlers)\n",
      "4. tryCatchOne(expr, names, parentenv, handlers[[1L]])\n",
      "5. doTryCatch(return(expr), name, parentenv, handler)\n",
      "6. withCallingHandlers({\n",
      " .     if (!mime %in% names(repr::mime2repr)) \n",
      " .         stop(\"No repr_* for mimetype \", mime, \" in repr::mime2repr\")\n",
      " .     rpr <- repr::mime2repr[[mime]](obj)\n",
      " .     if (is.null(rpr)) \n",
      " .         return(NULL)\n",
      " .     prepare_content(is.raw(rpr), rpr)\n",
      " . }, error = error_handler)\n",
      "7. repr::mime2repr[[mime]](obj)\n",
      "8. repr_latex.data.frame(obj)\n",
      "9. repr_matrix_generic(obj, sprintf(\"%%s\\n\\\\begin{tabular}{%s}\\n%%s%%s\\\\end{tabular}\\n\", \n",
      " .     cols), \"%s\\\\hline\\n\", \"%s\\\\\\\\\\n\", \"  &\", \" %s &\", \"%s\", \"\\t%s\\\\\\\\\\n\", \n",
      " .     \"%s &\", \" %s &\", escape_fun = latex_escape_vec, rows = rows, \n",
      " .     cols = cols, ...)\n",
      "10. sprintf(wrap, caption, header, body)\n"
     ]
    },
    {
     "data": {
      "text/html": [
       "<table>\n",
       "<caption>A data.frame: 6 × 10544</caption>\n",
       "<thead>\n",
       "\t<tr><th scope=col>geneId</th><th scope=col>geneName</th><th scope=col>keggId</th><th scope=col>keggBriteId</th><th scope=col>Functional.Annotation.Group</th><th scope=col>Functional.Annotation.Subgroup</th><th scope=col>Functional.Annotation</th><th scope=col>TCGA.02.0047.01</th><th scope=col>TCGA.02.0055.01</th><th scope=col>TCGA.02.2483.01</th><th scope=col>⋯</th><th scope=col>TCGA.ZS.A9CE.01</th><th scope=col>TCGA.ZS.A9CF.01</th><th scope=col>TCGA.ZS.A9CF.02</th><th scope=col>TCGA.ZS.A9CG.01</th><th scope=col>TCGA.ZT.A8OM.01</th><th scope=col>TCGA.ZU.A8S4.01</th><th scope=col>TCGA.ZU.A8S4.11</th><th scope=col>TCGA.ZX.AA5X.01</th><th scope=col>tamPixel</th><th scope=col>order</th></tr>\n",
       "\t<tr><th scope=col>&lt;chr&gt;</th><th scope=col>&lt;chr&gt;</th><th scope=col>&lt;chr&gt;</th><th scope=col>&lt;int&gt;</th><th scope=col>&lt;chr&gt;</th><th scope=col>&lt;chr&gt;</th><th scope=col>&lt;chr&gt;</th><th scope=col>&lt;dbl&gt;</th><th scope=col>&lt;dbl&gt;</th><th scope=col>&lt;dbl&gt;</th><th scope=col>⋯</th><th scope=col>&lt;dbl&gt;</th><th scope=col>&lt;dbl&gt;</th><th scope=col>&lt;dbl&gt;</th><th scope=col>&lt;dbl&gt;</th><th scope=col>&lt;dbl&gt;</th><th scope=col>&lt;dbl&gt;</th><th scope=col>&lt;dbl&gt;</th><th scope=col>&lt;dbl&gt;</th><th scope=col>&lt;dbl&gt;</th><th scope=col>&lt;dbl&gt;</th></tr>\n",
       "</thead>\n",
       "<tbody>\n",
       "\t<tr><td>ENSG00000187961.13</td><td>KLHL17</td><td>hsa:339451</td><td>   1</td><td>Genes and Proteins</td><td>Orthologs and modules                           </td><td>KEGG Orthology (KO)  </td><td>1.3225</td><td>2.3135</td><td>2.5707</td><td>⋯</td><td> 0.8883</td><td>1.7532</td><td> 0.7664</td><td>0.2998</td><td>1.9226</td><td>2.7336</td><td>-0.3752</td><td>2.7972</td><td>1</td><td>1.992469</td></tr>\n",
       "\t<tr><td>ENSG00000187961.13</td><td>KLHL17</td><td>hsa:339451</td><td>4121</td><td>Genes and Proteins</td><td>Protein families: genetic information processing</td><td>Ubiquitin system     </td><td>1.3225</td><td>2.3135</td><td>2.5707</td><td>⋯</td><td> 0.8883</td><td>1.7532</td><td> 0.7664</td><td>0.2998</td><td>1.9226</td><td>2.7336</td><td>-0.3752</td><td>2.7972</td><td>1</td><td>1.992469</td></tr>\n",
       "\t<tr><td>ENSG00000188290.10</td><td>HES4  </td><td>hsa:57801 </td><td>   1</td><td>Genes and Proteins</td><td>Orthologs and modules                           </td><td>KEGG Orthology (KO)  </td><td>4.1604</td><td>3.6148</td><td>3.8729</td><td>⋯</td><td>-0.3201</td><td>0.9642</td><td>-0.8084</td><td>0.2762</td><td>5.8595</td><td>3.9156</td><td>-0.1504</td><td>4.3751</td><td>1</td><td>2.791702</td></tr>\n",
       "\t<tr><td>ENSG00000188290.10</td><td>HES4  </td><td>hsa:57801 </td><td>3000</td><td>Genes and Proteins</td><td>Protein families: genetic information processing</td><td>Transcription factors</td><td>4.1604</td><td>3.6148</td><td>3.8729</td><td>⋯</td><td>-0.3201</td><td>0.9642</td><td>-0.8084</td><td>0.2762</td><td>5.8595</td><td>3.9156</td><td>-0.1504</td><td>4.3751</td><td>1</td><td>2.791702</td></tr>\n",
       "\t<tr><td>ENSG00000187608.8 </td><td>ISG15 </td><td>hsa:9636  </td><td>   1</td><td>Genes and Proteins</td><td>Orthologs and modules                           </td><td>KEGG Orthology (KO)  </td><td>5.8166</td><td>6.9599</td><td>5.9072</td><td>⋯</td><td> 6.4074</td><td>6.1183</td><td> 5.0592</td><td>5.2122</td><td>7.4520</td><td>6.6671</td><td> 4.7783</td><td>9.7576</td><td>1</td><td>6.491173</td></tr>\n",
       "\t<tr><td>ENSG00000187608.8 </td><td>ISG15 </td><td>hsa:9636  </td><td>4121</td><td>Genes and Proteins</td><td>Protein families: genetic information processing</td><td>Ubiquitin system     </td><td>5.8166</td><td>6.9599</td><td>5.9072</td><td>⋯</td><td> 6.4074</td><td>6.1183</td><td> 5.0592</td><td>5.2122</td><td>7.4520</td><td>6.6671</td><td> 4.7783</td><td>9.7576</td><td>1</td><td>6.491173</td></tr>\n",
       "</tbody>\n",
       "</table>\n"
      ],
      "text/markdown": [
       "\n",
       "A data.frame: 6 × 10544\n",
       "\n",
       "| geneId &lt;chr&gt; | geneName &lt;chr&gt; | keggId &lt;chr&gt; | keggBriteId &lt;int&gt; | Functional.Annotation.Group &lt;chr&gt; | Functional.Annotation.Subgroup &lt;chr&gt; | Functional.Annotation &lt;chr&gt; | TCGA.02.0047.01 &lt;dbl&gt; | TCGA.02.0055.01 &lt;dbl&gt; | TCGA.02.2483.01 &lt;dbl&gt; | ⋯ ⋯ | TCGA.ZS.A9CE.01 &lt;dbl&gt; | TCGA.ZS.A9CF.01 &lt;dbl&gt; | TCGA.ZS.A9CF.02 &lt;dbl&gt; | TCGA.ZS.A9CG.01 &lt;dbl&gt; | TCGA.ZT.A8OM.01 &lt;dbl&gt; | TCGA.ZU.A8S4.01 &lt;dbl&gt; | TCGA.ZU.A8S4.11 &lt;dbl&gt; | TCGA.ZX.AA5X.01 &lt;dbl&gt; | tamPixel &lt;dbl&gt; | order &lt;dbl&gt; |\n",
       "|---|---|---|---|---|---|---|---|---|---|---|---|---|---|---|---|---|---|---|---|---|\n",
       "| ENSG00000187961.13 | KLHL17 | hsa:339451 |    1 | Genes and Proteins | Orthologs and modules                            | KEGG Orthology (KO)   | 1.3225 | 2.3135 | 2.5707 | ⋯ |  0.8883 | 1.7532 |  0.7664 | 0.2998 | 1.9226 | 2.7336 | -0.3752 | 2.7972 | 1 | 1.992469 |\n",
       "| ENSG00000187961.13 | KLHL17 | hsa:339451 | 4121 | Genes and Proteins | Protein families: genetic information processing | Ubiquitin system      | 1.3225 | 2.3135 | 2.5707 | ⋯ |  0.8883 | 1.7532 |  0.7664 | 0.2998 | 1.9226 | 2.7336 | -0.3752 | 2.7972 | 1 | 1.992469 |\n",
       "| ENSG00000188290.10 | HES4   | hsa:57801  |    1 | Genes and Proteins | Orthologs and modules                            | KEGG Orthology (KO)   | 4.1604 | 3.6148 | 3.8729 | ⋯ | -0.3201 | 0.9642 | -0.8084 | 0.2762 | 5.8595 | 3.9156 | -0.1504 | 4.3751 | 1 | 2.791702 |\n",
       "| ENSG00000188290.10 | HES4   | hsa:57801  | 3000 | Genes and Proteins | Protein families: genetic information processing | Transcription factors | 4.1604 | 3.6148 | 3.8729 | ⋯ | -0.3201 | 0.9642 | -0.8084 | 0.2762 | 5.8595 | 3.9156 | -0.1504 | 4.3751 | 1 | 2.791702 |\n",
       "| ENSG00000187608.8  | ISG15  | hsa:9636   |    1 | Genes and Proteins | Orthologs and modules                            | KEGG Orthology (KO)   | 5.8166 | 6.9599 | 5.9072 | ⋯ |  6.4074 | 6.1183 |  5.0592 | 5.2122 | 7.4520 | 6.6671 |  4.7783 | 9.7576 | 1 | 6.491173 |\n",
       "| ENSG00000187608.8  | ISG15  | hsa:9636   | 4121 | Genes and Proteins | Protein families: genetic information processing | Ubiquitin system      | 5.8166 | 6.9599 | 5.9072 | ⋯ |  6.4074 | 6.1183 |  5.0592 | 5.2122 | 7.4520 | 6.6671 |  4.7783 | 9.7576 | 1 | 6.491173 |\n",
       "\n"
      ],
      "text/plain": [
       "  geneId             geneName keggId     keggBriteId\n",
       "1 ENSG00000187961.13 KLHL17   hsa:339451    1       \n",
       "2 ENSG00000187961.13 KLHL17   hsa:339451 4121       \n",
       "3 ENSG00000188290.10 HES4     hsa:57801     1       \n",
       "4 ENSG00000188290.10 HES4     hsa:57801  3000       \n",
       "5 ENSG00000187608.8  ISG15    hsa:9636      1       \n",
       "6 ENSG00000187608.8  ISG15    hsa:9636   4121       \n",
       "  Functional.Annotation.Group Functional.Annotation.Subgroup                  \n",
       "1 Genes and Proteins          Orthologs and modules                           \n",
       "2 Genes and Proteins          Protein families: genetic information processing\n",
       "3 Genes and Proteins          Orthologs and modules                           \n",
       "4 Genes and Proteins          Protein families: genetic information processing\n",
       "5 Genes and Proteins          Orthologs and modules                           \n",
       "6 Genes and Proteins          Protein families: genetic information processing\n",
       "  Functional.Annotation TCGA.02.0047.01 TCGA.02.0055.01 TCGA.02.2483.01 ⋯\n",
       "1 KEGG Orthology (KO)   1.3225          2.3135          2.5707          ⋯\n",
       "2 Ubiquitin system      1.3225          2.3135          2.5707          ⋯\n",
       "3 KEGG Orthology (KO)   4.1604          3.6148          3.8729          ⋯\n",
       "4 Transcription factors 4.1604          3.6148          3.8729          ⋯\n",
       "5 KEGG Orthology (KO)   5.8166          6.9599          5.9072          ⋯\n",
       "6 Ubiquitin system      5.8166          6.9599          5.9072          ⋯\n",
       "  TCGA.ZS.A9CE.01 TCGA.ZS.A9CF.01 TCGA.ZS.A9CF.02 TCGA.ZS.A9CG.01\n",
       "1  0.8883         1.7532           0.7664         0.2998         \n",
       "2  0.8883         1.7532           0.7664         0.2998         \n",
       "3 -0.3201         0.9642          -0.8084         0.2762         \n",
       "4 -0.3201         0.9642          -0.8084         0.2762         \n",
       "5  6.4074         6.1183           5.0592         5.2122         \n",
       "6  6.4074         6.1183           5.0592         5.2122         \n",
       "  TCGA.ZT.A8OM.01 TCGA.ZU.A8S4.01 TCGA.ZU.A8S4.11 TCGA.ZX.AA5X.01 tamPixel\n",
       "1 1.9226          2.7336          -0.3752         2.7972          1       \n",
       "2 1.9226          2.7336          -0.3752         2.7972          1       \n",
       "3 5.8595          3.9156          -0.1504         4.3751          1       \n",
       "4 5.8595          3.9156          -0.1504         4.3751          1       \n",
       "5 7.4520          6.6671           4.7783         9.7576          1       \n",
       "6 7.4520          6.6671           4.7783         9.7576          1       \n",
       "  order   \n",
       "1 1.992469\n",
       "2 1.992469\n",
       "3 2.791702\n",
       "4 2.791702\n",
       "5 6.491173\n",
       "6 6.491173"
      ]
     },
     "metadata": {},
     "output_type": "display_data"
    }
   ],
   "source": [
    "head(exp_to_tree_map)"
   ]
  },
  {
   "cell_type": "markdown",
   "metadata": {},
   "source": [
    "## Template image\n",
    "\n",
    "As we are going to perform a treemapping procedure only based on the average expression value of each gene, we remove all the KEGG BRITE hierarchy from the `exp_to_tree_map` dataset, only keeping the `geneId` level:"
   ]
  },
  {
   "cell_type": "code",
   "execution_count": 5,
   "metadata": {},
   "outputs": [
    {
     "name": "stderr",
     "output_type": "stream",
     "text": [
      "ERROR while rich displaying an object: Error in sprintf(wrap, caption, header, body): 'fmt' length exceeds maximal format length 8192\n",
      "\n",
      "Traceback:\n",
      "1. FUN(X[[i]], ...)\n",
      "2. tryCatch(withCallingHandlers({\n",
      " .     if (!mime %in% names(repr::mime2repr)) \n",
      " .         stop(\"No repr_* for mimetype \", mime, \" in repr::mime2repr\")\n",
      " .     rpr <- repr::mime2repr[[mime]](obj)\n",
      " .     if (is.null(rpr)) \n",
      " .         return(NULL)\n",
      " .     prepare_content(is.raw(rpr), rpr)\n",
      " . }, error = error_handler), error = outer_handler)\n",
      "3. tryCatchList(expr, classes, parentenv, handlers)\n",
      "4. tryCatchOne(expr, names, parentenv, handlers[[1L]])\n",
      "5. doTryCatch(return(expr), name, parentenv, handler)\n",
      "6. withCallingHandlers({\n",
      " .     if (!mime %in% names(repr::mime2repr)) \n",
      " .         stop(\"No repr_* for mimetype \", mime, \" in repr::mime2repr\")\n",
      " .     rpr <- repr::mime2repr[[mime]](obj)\n",
      " .     if (is.null(rpr)) \n",
      " .         return(NULL)\n",
      " .     prepare_content(is.raw(rpr), rpr)\n",
      " . }, error = error_handler)\n",
      "7. repr::mime2repr[[mime]](obj)\n",
      "8. repr_latex.data.frame(obj)\n",
      "9. repr_matrix_generic(obj, sprintf(\"%%s\\n\\\\begin{tabular}{%s}\\n%%s%%s\\\\end{tabular}\\n\", \n",
      " .     cols), \"%s\\\\hline\\n\", \"%s\\\\\\\\\\n\", \"  &\", \" %s &\", \"%s\", \"\\t%s\\\\\\\\\\n\", \n",
      " .     \"%s &\", \" %s &\", escape_fun = latex_escape_vec, rows = rows, \n",
      " .     cols = cols, ...)\n",
      "10. sprintf(wrap, caption, header, body)\n"
     ]
    },
    {
     "data": {
      "text/html": [
       "<table>\n",
       "<caption>A data.frame: 6 × 10538</caption>\n",
       "<thead>\n",
       "\t<tr><th scope=col>geneId</th><th scope=col>TCGA.02.0047.01</th><th scope=col>TCGA.02.0055.01</th><th scope=col>TCGA.02.2483.01</th><th scope=col>TCGA.02.2485.01</th><th scope=col>TCGA.04.1331.01</th><th scope=col>TCGA.04.1332.01</th><th scope=col>TCGA.04.1337.01</th><th scope=col>TCGA.04.1338.01</th><th scope=col>TCGA.04.1341.01</th><th scope=col>⋯</th><th scope=col>TCGA.ZS.A9CE.01</th><th scope=col>TCGA.ZS.A9CF.01</th><th scope=col>TCGA.ZS.A9CF.02</th><th scope=col>TCGA.ZS.A9CG.01</th><th scope=col>TCGA.ZT.A8OM.01</th><th scope=col>TCGA.ZU.A8S4.01</th><th scope=col>TCGA.ZU.A8S4.11</th><th scope=col>TCGA.ZX.AA5X.01</th><th scope=col>tamPixel</th><th scope=col>order</th></tr>\n",
       "\t<tr><th scope=col>&lt;chr&gt;</th><th scope=col>&lt;dbl&gt;</th><th scope=col>&lt;dbl&gt;</th><th scope=col>&lt;dbl&gt;</th><th scope=col>&lt;dbl&gt;</th><th scope=col>&lt;dbl&gt;</th><th scope=col>&lt;dbl&gt;</th><th scope=col>&lt;dbl&gt;</th><th scope=col>&lt;dbl&gt;</th><th scope=col>&lt;dbl&gt;</th><th scope=col>⋯</th><th scope=col>&lt;dbl&gt;</th><th scope=col>&lt;dbl&gt;</th><th scope=col>&lt;dbl&gt;</th><th scope=col>&lt;dbl&gt;</th><th scope=col>&lt;dbl&gt;</th><th scope=col>&lt;dbl&gt;</th><th scope=col>&lt;dbl&gt;</th><th scope=col>&lt;dbl&gt;</th><th scope=col>&lt;dbl&gt;</th><th scope=col>&lt;dbl&gt;</th></tr>\n",
       "</thead>\n",
       "<tbody>\n",
       "\t<tr><td>ENSG00000187961.13</td><td>1.3225</td><td>2.3135</td><td>2.5707</td><td>3.3814</td><td>2.0500</td><td>2.2990</td><td>3.5086</td><td>0.7664</td><td>1.5514</td><td>⋯</td><td> 0.8883</td><td>1.7532</td><td> 0.7664</td><td>0.2998</td><td>1.9226</td><td>2.7336</td><td>-0.3752</td><td>2.7972</td><td>1</td><td>1.992469</td></tr>\n",
       "\t<tr><td>ENSG00000187961.13</td><td>1.3225</td><td>2.3135</td><td>2.5707</td><td>3.3814</td><td>2.0500</td><td>2.2990</td><td>3.5086</td><td>0.7664</td><td>1.5514</td><td>⋯</td><td> 0.8883</td><td>1.7532</td><td> 0.7664</td><td>0.2998</td><td>1.9226</td><td>2.7336</td><td>-0.3752</td><td>2.7972</td><td>1</td><td>1.992469</td></tr>\n",
       "\t<tr><td>ENSG00000188290.10</td><td>4.1604</td><td>3.6148</td><td>3.8729</td><td>5.8875</td><td>4.7661</td><td>3.9645</td><td>5.9463</td><td>3.3235</td><td>4.4490</td><td>⋯</td><td>-0.3201</td><td>0.9642</td><td>-0.8084</td><td>0.2762</td><td>5.8595</td><td>3.9156</td><td>-0.1504</td><td>4.3751</td><td>1</td><td>2.791702</td></tr>\n",
       "\t<tr><td>ENSG00000188290.10</td><td>4.1604</td><td>3.6148</td><td>3.8729</td><td>5.8875</td><td>4.7661</td><td>3.9645</td><td>5.9463</td><td>3.3235</td><td>4.4490</td><td>⋯</td><td>-0.3201</td><td>0.9642</td><td>-0.8084</td><td>0.2762</td><td>5.8595</td><td>3.9156</td><td>-0.1504</td><td>4.3751</td><td>1</td><td>2.791702</td></tr>\n",
       "\t<tr><td>ENSG00000187608.8 </td><td>5.8166</td><td>6.9599</td><td>5.9072</td><td>9.9433</td><td>8.6119</td><td>7.5186</td><td>6.1985</td><td>4.6206</td><td>8.2873</td><td>⋯</td><td> 6.4074</td><td>6.1183</td><td> 5.0592</td><td>5.2122</td><td>7.4520</td><td>6.6671</td><td> 4.7783</td><td>9.7576</td><td>1</td><td>6.491173</td></tr>\n",
       "\t<tr><td>ENSG00000187608.8 </td><td>5.8166</td><td>6.9599</td><td>5.9072</td><td>9.9433</td><td>8.6119</td><td>7.5186</td><td>6.1985</td><td>4.6206</td><td>8.2873</td><td>⋯</td><td> 6.4074</td><td>6.1183</td><td> 5.0592</td><td>5.2122</td><td>7.4520</td><td>6.6671</td><td> 4.7783</td><td>9.7576</td><td>1</td><td>6.491173</td></tr>\n",
       "</tbody>\n",
       "</table>\n"
      ],
      "text/markdown": [
       "\n",
       "A data.frame: 6 × 10538\n",
       "\n",
       "| geneId &lt;chr&gt; | TCGA.02.0047.01 &lt;dbl&gt; | TCGA.02.0055.01 &lt;dbl&gt; | TCGA.02.2483.01 &lt;dbl&gt; | TCGA.02.2485.01 &lt;dbl&gt; | TCGA.04.1331.01 &lt;dbl&gt; | TCGA.04.1332.01 &lt;dbl&gt; | TCGA.04.1337.01 &lt;dbl&gt; | TCGA.04.1338.01 &lt;dbl&gt; | TCGA.04.1341.01 &lt;dbl&gt; | ⋯ ⋯ | TCGA.ZS.A9CE.01 &lt;dbl&gt; | TCGA.ZS.A9CF.01 &lt;dbl&gt; | TCGA.ZS.A9CF.02 &lt;dbl&gt; | TCGA.ZS.A9CG.01 &lt;dbl&gt; | TCGA.ZT.A8OM.01 &lt;dbl&gt; | TCGA.ZU.A8S4.01 &lt;dbl&gt; | TCGA.ZU.A8S4.11 &lt;dbl&gt; | TCGA.ZX.AA5X.01 &lt;dbl&gt; | tamPixel &lt;dbl&gt; | order &lt;dbl&gt; |\n",
       "|---|---|---|---|---|---|---|---|---|---|---|---|---|---|---|---|---|---|---|---|---|\n",
       "| ENSG00000187961.13 | 1.3225 | 2.3135 | 2.5707 | 3.3814 | 2.0500 | 2.2990 | 3.5086 | 0.7664 | 1.5514 | ⋯ |  0.8883 | 1.7532 |  0.7664 | 0.2998 | 1.9226 | 2.7336 | -0.3752 | 2.7972 | 1 | 1.992469 |\n",
       "| ENSG00000187961.13 | 1.3225 | 2.3135 | 2.5707 | 3.3814 | 2.0500 | 2.2990 | 3.5086 | 0.7664 | 1.5514 | ⋯ |  0.8883 | 1.7532 |  0.7664 | 0.2998 | 1.9226 | 2.7336 | -0.3752 | 2.7972 | 1 | 1.992469 |\n",
       "| ENSG00000188290.10 | 4.1604 | 3.6148 | 3.8729 | 5.8875 | 4.7661 | 3.9645 | 5.9463 | 3.3235 | 4.4490 | ⋯ | -0.3201 | 0.9642 | -0.8084 | 0.2762 | 5.8595 | 3.9156 | -0.1504 | 4.3751 | 1 | 2.791702 |\n",
       "| ENSG00000188290.10 | 4.1604 | 3.6148 | 3.8729 | 5.8875 | 4.7661 | 3.9645 | 5.9463 | 3.3235 | 4.4490 | ⋯ | -0.3201 | 0.9642 | -0.8084 | 0.2762 | 5.8595 | 3.9156 | -0.1504 | 4.3751 | 1 | 2.791702 |\n",
       "| ENSG00000187608.8  | 5.8166 | 6.9599 | 5.9072 | 9.9433 | 8.6119 | 7.5186 | 6.1985 | 4.6206 | 8.2873 | ⋯ |  6.4074 | 6.1183 |  5.0592 | 5.2122 | 7.4520 | 6.6671 |  4.7783 | 9.7576 | 1 | 6.491173 |\n",
       "| ENSG00000187608.8  | 5.8166 | 6.9599 | 5.9072 | 9.9433 | 8.6119 | 7.5186 | 6.1985 | 4.6206 | 8.2873 | ⋯ |  6.4074 | 6.1183 |  5.0592 | 5.2122 | 7.4520 | 6.6671 |  4.7783 | 9.7576 | 1 | 6.491173 |\n",
       "\n"
      ],
      "text/plain": [
       "  geneId             TCGA.02.0047.01 TCGA.02.0055.01 TCGA.02.2483.01\n",
       "1 ENSG00000187961.13 1.3225          2.3135          2.5707         \n",
       "2 ENSG00000187961.13 1.3225          2.3135          2.5707         \n",
       "3 ENSG00000188290.10 4.1604          3.6148          3.8729         \n",
       "4 ENSG00000188290.10 4.1604          3.6148          3.8729         \n",
       "5 ENSG00000187608.8  5.8166          6.9599          5.9072         \n",
       "6 ENSG00000187608.8  5.8166          6.9599          5.9072         \n",
       "  TCGA.02.2485.01 TCGA.04.1331.01 TCGA.04.1332.01 TCGA.04.1337.01\n",
       "1 3.3814          2.0500          2.2990          3.5086         \n",
       "2 3.3814          2.0500          2.2990          3.5086         \n",
       "3 5.8875          4.7661          3.9645          5.9463         \n",
       "4 5.8875          4.7661          3.9645          5.9463         \n",
       "5 9.9433          8.6119          7.5186          6.1985         \n",
       "6 9.9433          8.6119          7.5186          6.1985         \n",
       "  TCGA.04.1338.01 TCGA.04.1341.01 ⋯ TCGA.ZS.A9CE.01 TCGA.ZS.A9CF.01\n",
       "1 0.7664          1.5514          ⋯  0.8883         1.7532         \n",
       "2 0.7664          1.5514          ⋯  0.8883         1.7532         \n",
       "3 3.3235          4.4490          ⋯ -0.3201         0.9642         \n",
       "4 3.3235          4.4490          ⋯ -0.3201         0.9642         \n",
       "5 4.6206          8.2873          ⋯  6.4074         6.1183         \n",
       "6 4.6206          8.2873          ⋯  6.4074         6.1183         \n",
       "  TCGA.ZS.A9CF.02 TCGA.ZS.A9CG.01 TCGA.ZT.A8OM.01 TCGA.ZU.A8S4.01\n",
       "1  0.7664         0.2998          1.9226          2.7336         \n",
       "2  0.7664         0.2998          1.9226          2.7336         \n",
       "3 -0.8084         0.2762          5.8595          3.9156         \n",
       "4 -0.8084         0.2762          5.8595          3.9156         \n",
       "5  5.0592         5.2122          7.4520          6.6671         \n",
       "6  5.0592         5.2122          7.4520          6.6671         \n",
       "  TCGA.ZU.A8S4.11 TCGA.ZX.AA5X.01 tamPixel order   \n",
       "1 -0.3752         2.7972          1        1.992469\n",
       "2 -0.3752         2.7972          1        1.992469\n",
       "3 -0.1504         4.3751          1        2.791702\n",
       "4 -0.1504         4.3751          1        2.791702\n",
       "5  4.7783         9.7576          1        6.491173\n",
       "6  4.7783         9.7576          1        6.491173"
      ]
     },
     "metadata": {},
     "output_type": "display_data"
    }
   ],
   "source": [
    "exp_to_tree_map <- exp_to_tree_map[, -c(2:7)]\n",
    "head(exp_to_tree_map)"
   ]
  },
  {
   "cell_type": "code",
   "execution_count": 6,
   "metadata": {},
   "outputs": [
    {
     "data": {
      "text/html": [
       "<ol class=list-inline>\n",
       "\t<li>18494</li>\n",
       "\t<li>10538</li>\n",
       "</ol>\n"
      ],
      "text/latex": [
       "\\begin{enumerate*}\n",
       "\\item 18494\n",
       "\\item 10538\n",
       "\\end{enumerate*}\n"
      ],
      "text/markdown": [
       "1. 18494\n",
       "2. 10538\n",
       "\n",
       "\n"
      ],
      "text/plain": [
       "[1] 18494 10538"
      ]
     },
     "metadata": {},
     "output_type": "display_data"
    }
   ],
   "source": [
    "dim(exp_to_tree_map)"
   ]
  },
  {
   "cell_type": "markdown",
   "metadata": {},
   "source": [
    "We remove all the duplicated rows:"
   ]
  },
  {
   "cell_type": "code",
   "execution_count": 7,
   "metadata": {},
   "outputs": [
    {
     "data": {
      "text/html": [
       "<ol class=list-inline>\n",
       "\t<li>7509</li>\n",
       "\t<li>10538</li>\n",
       "</ol>\n"
      ],
      "text/latex": [
       "\\begin{enumerate*}\n",
       "\\item 7509\n",
       "\\item 10538\n",
       "\\end{enumerate*}\n"
      ],
      "text/markdown": [
       "1. 7509\n",
       "2. 10538\n",
       "\n",
       "\n"
      ],
      "text/plain": [
       "[1]  7509 10538"
      ]
     },
     "metadata": {},
     "output_type": "display_data"
    }
   ],
   "source": [
    "exp_to_tree_map <- exp_to_tree_map[!duplicated(exp_to_tree_map$geneId), ]\n",
    "dim(exp_to_tree_map)"
   ]
  },
  {
   "cell_type": "markdown",
   "metadata": {},
   "source": [
    "### Genes to colours\n",
    "\n",
    "We create a treemap in which every color maps to a distinct gene."
   ]
  },
  {
   "cell_type": "code",
   "execution_count": 8,
   "metadata": {},
   "outputs": [
    {
     "data": {
      "text/html": [
       "7509"
      ],
      "text/latex": [
       "7509"
      ],
      "text/markdown": [
       "7509"
      ],
      "text/plain": [
       "[1] 7509"
      ]
     },
     "metadata": {},
     "output_type": "display_data"
    }
   ],
   "source": [
    "gene <- exp_to_tree_map$geneId\n",
    "length(gene)"
   ]
  },
  {
   "cell_type": "markdown",
   "metadata": {},
   "source": [
    "We first generate a set of 65536 RGB colors:"
   ]
  },
  {
   "cell_type": "code",
   "execution_count": 9,
   "metadata": {},
   "outputs": [],
   "source": [
    "start.time <- Sys.time()\n",
    "col_rgb <- character()\n",
    "for (i in 0:255) {\n",
    "  for (j in 0:255) {\n",
    "    col_rgb <- append(col_rgb, rgb(red=i, green=j, blue=j, maxColorValue=255))\n",
    "  }\n",
    "}\n",
    "end.time <- Sys.time()"
   ]
  },
  {
   "cell_type": "code",
   "execution_count": 10,
   "metadata": {},
   "outputs": [
    {
     "data": {
      "text/plain": [
       "Time difference of 9.845132 secs"
      ]
     },
     "metadata": {},
     "output_type": "display_data"
    }
   ],
   "source": [
    "end.time - start.time"
   ]
  },
  {
   "cell_type": "code",
   "execution_count": 11,
   "metadata": {},
   "outputs": [
    {
     "data": {
      "text/html": [
       "65536"
      ],
      "text/latex": [
       "65536"
      ],
      "text/markdown": [
       "65536"
      ],
      "text/plain": [
       "[1] 65536"
      ]
     },
     "metadata": {},
     "output_type": "display_data"
    }
   ],
   "source": [
    "length(col_rgb)"
   ]
  },
  {
   "cell_type": "markdown",
   "metadata": {},
   "source": [
    "From the complete set of colours, we select a subset of 7509 colors, in order to associate one distinct color to every gene:"
   ]
  },
  {
   "cell_type": "code",
   "execution_count": 12,
   "metadata": {},
   "outputs": [],
   "source": [
    "gene_color <- data.frame(color = col_rgb[seq(from=1, to=length(col_rgb), \n",
    "                by=as.integer(length(col_rgb)/length(gene)))][1:length(gene)], stringsAsFactors = FALSE)"
   ]
  },
  {
   "cell_type": "code",
   "execution_count": 13,
   "metadata": {},
   "outputs": [
    {
     "data": {
      "text/html": [
       "7509"
      ],
      "text/latex": [
       "7509"
      ],
      "text/markdown": [
       "7509"
      ],
      "text/plain": [
       "[1] 7509"
      ]
     },
     "metadata": {},
     "output_type": "display_data"
    }
   ],
   "source": [
    "nrow(gene_color)"
   ]
  },
  {
   "cell_type": "code",
   "execution_count": 14,
   "metadata": {},
   "outputs": [],
   "source": [
    "rownames(gene_color) <- gene"
   ]
  },
  {
   "cell_type": "code",
   "execution_count": 15,
   "metadata": {},
   "outputs": [
    {
     "data": {
      "text/html": [
       "<table>\n",
       "<caption>A data.frame: 6 × 1</caption>\n",
       "<thead>\n",
       "\t<tr><th></th><th scope=col>color</th></tr>\n",
       "\t<tr><th></th><th scope=col>&lt;chr&gt;</th></tr>\n",
       "</thead>\n",
       "<tbody>\n",
       "\t<tr><th scope=row>ENSG00000012817.15</th><td>#EA7878</td></tr>\n",
       "\t<tr><th scope=row>ENSG00000198692.9</th><td>#EA8080</td></tr>\n",
       "\t<tr><th scope=row>ENSG00000105227.14</th><td>#EA8888</td></tr>\n",
       "\t<tr><th scope=row>ENSG00000164237.8</th><td>#EA9090</td></tr>\n",
       "\t<tr><th scope=row>ENSG00000175048.16</th><td>#EA9898</td></tr>\n",
       "\t<tr><th scope=row>ENSG00000188706.12</th><td>#EAA0A0</td></tr>\n",
       "</tbody>\n",
       "</table>\n"
      ],
      "text/latex": [
       "A data.frame: 6 × 1\n",
       "\\begin{tabular}{r|l}\n",
       "  & color\\\\\n",
       "  & <chr>\\\\\n",
       "\\hline\n",
       "\tENSG00000012817.15 & \\#EA7878\\\\\n",
       "\tENSG00000198692.9 & \\#EA8080\\\\\n",
       "\tENSG00000105227.14 & \\#EA8888\\\\\n",
       "\tENSG00000164237.8 & \\#EA9090\\\\\n",
       "\tENSG00000175048.16 & \\#EA9898\\\\\n",
       "\tENSG00000188706.12 & \\#EAA0A0\\\\\n",
       "\\end{tabular}\n"
      ],
      "text/markdown": [
       "\n",
       "A data.frame: 6 × 1\n",
       "\n",
       "| <!--/--> | color &lt;chr&gt; |\n",
       "|---|---|\n",
       "| ENSG00000012817.15 | #EA7878 |\n",
       "| ENSG00000198692.9 | #EA8080 |\n",
       "| ENSG00000105227.14 | #EA8888 |\n",
       "| ENSG00000164237.8 | #EA9090 |\n",
       "| ENSG00000175048.16 | #EA9898 |\n",
       "| ENSG00000188706.12 | #EAA0A0 |\n",
       "\n"
      ],
      "text/plain": [
       "                   color  \n",
       "ENSG00000012817.15 #EA7878\n",
       "ENSG00000198692.9  #EA8080\n",
       "ENSG00000105227.14 #EA8888\n",
       "ENSG00000164237.8  #EA9090\n",
       "ENSG00000175048.16 #EA9898\n",
       "ENSG00000188706.12 #EAA0A0"
      ]
     },
     "metadata": {},
     "output_type": "display_data"
    }
   ],
   "source": [
    "# Background color, e.g. #FFFFFF, used later to generate the PNG image, \n",
    "# can not be contained in the set of colors\n",
    "tail(gene_color)"
   ]
  },
  {
   "cell_type": "markdown",
   "metadata": {},
   "source": [
    "We create a new column in the `exp_to_tree_map` dataset that specifies the colors to which genes are associated:"
   ]
  },
  {
   "cell_type": "code",
   "execution_count": 16,
   "metadata": {},
   "outputs": [],
   "source": [
    "exp_to_tree_map[\"colorGene\"] <- gene_color[exp_to_tree_map$geneId, \"color\"]"
   ]
  },
  {
   "cell_type": "code",
   "execution_count": 17,
   "metadata": {},
   "outputs": [
    {
     "name": "stderr",
     "output_type": "stream",
     "text": [
      "ERROR while rich displaying an object: Error in sprintf(wrap, caption, header, body): 'fmt' length exceeds maximal format length 8192\n",
      "\n",
      "Traceback:\n",
      "1. FUN(X[[i]], ...)\n",
      "2. tryCatch(withCallingHandlers({\n",
      " .     if (!mime %in% names(repr::mime2repr)) \n",
      " .         stop(\"No repr_* for mimetype \", mime, \" in repr::mime2repr\")\n",
      " .     rpr <- repr::mime2repr[[mime]](obj)\n",
      " .     if (is.null(rpr)) \n",
      " .         return(NULL)\n",
      " .     prepare_content(is.raw(rpr), rpr)\n",
      " . }, error = error_handler), error = outer_handler)\n",
      "3. tryCatchList(expr, classes, parentenv, handlers)\n",
      "4. tryCatchOne(expr, names, parentenv, handlers[[1L]])\n",
      "5. doTryCatch(return(expr), name, parentenv, handler)\n",
      "6. withCallingHandlers({\n",
      " .     if (!mime %in% names(repr::mime2repr)) \n",
      " .         stop(\"No repr_* for mimetype \", mime, \" in repr::mime2repr\")\n",
      " .     rpr <- repr::mime2repr[[mime]](obj)\n",
      " .     if (is.null(rpr)) \n",
      " .         return(NULL)\n",
      " .     prepare_content(is.raw(rpr), rpr)\n",
      " . }, error = error_handler)\n",
      "7. repr::mime2repr[[mime]](obj)\n",
      "8. repr_latex.data.frame(obj)\n",
      "9. repr_matrix_generic(obj, sprintf(\"%%s\\n\\\\begin{tabular}{%s}\\n%%s%%s\\\\end{tabular}\\n\", \n",
      " .     cols), \"%s\\\\hline\\n\", \"%s\\\\\\\\\\n\", \"  &\", \" %s &\", \"%s\", \"\\t%s\\\\\\\\\\n\", \n",
      " .     \"%s &\", \" %s &\", escape_fun = latex_escape_vec, rows = rows, \n",
      " .     cols = cols, ...)\n",
      "10. sprintf(wrap, caption, header, body)\n"
     ]
    },
    {
     "data": {
      "text/html": [
       "<table>\n",
       "<caption>A data.frame: 6 × 10539</caption>\n",
       "<thead>\n",
       "\t<tr><th></th><th scope=col>geneId</th><th scope=col>TCGA.02.0047.01</th><th scope=col>TCGA.02.0055.01</th><th scope=col>TCGA.02.2483.01</th><th scope=col>TCGA.02.2485.01</th><th scope=col>TCGA.04.1331.01</th><th scope=col>TCGA.04.1332.01</th><th scope=col>TCGA.04.1337.01</th><th scope=col>TCGA.04.1338.01</th><th scope=col>TCGA.04.1341.01</th><th scope=col>⋯</th><th scope=col>TCGA.ZS.A9CF.01</th><th scope=col>TCGA.ZS.A9CF.02</th><th scope=col>TCGA.ZS.A9CG.01</th><th scope=col>TCGA.ZT.A8OM.01</th><th scope=col>TCGA.ZU.A8S4.01</th><th scope=col>TCGA.ZU.A8S4.11</th><th scope=col>TCGA.ZX.AA5X.01</th><th scope=col>tamPixel</th><th scope=col>order</th><th scope=col>colorGene</th></tr>\n",
       "\t<tr><th></th><th scope=col>&lt;chr&gt;</th><th scope=col>&lt;dbl&gt;</th><th scope=col>&lt;dbl&gt;</th><th scope=col>&lt;dbl&gt;</th><th scope=col>&lt;dbl&gt;</th><th scope=col>&lt;dbl&gt;</th><th scope=col>&lt;dbl&gt;</th><th scope=col>&lt;dbl&gt;</th><th scope=col>&lt;dbl&gt;</th><th scope=col>&lt;dbl&gt;</th><th scope=col>⋯</th><th scope=col>&lt;dbl&gt;</th><th scope=col>&lt;dbl&gt;</th><th scope=col>&lt;dbl&gt;</th><th scope=col>&lt;dbl&gt;</th><th scope=col>&lt;dbl&gt;</th><th scope=col>&lt;dbl&gt;</th><th scope=col>&lt;dbl&gt;</th><th scope=col>&lt;dbl&gt;</th><th scope=col>&lt;dbl&gt;</th><th scope=col>&lt;chr&gt;</th></tr>\n",
       "</thead>\n",
       "<tbody>\n",
       "\t<tr><th scope=row>1</th><td>ENSG00000187961.13</td><td> 1.3225</td><td>2.3135</td><td> 2.5707</td><td> 3.3814</td><td> 2.0500</td><td> 2.2990</td><td>3.5086</td><td> 0.7664</td><td>1.5514</td><td>⋯</td><td> 1.7532</td><td> 0.7664</td><td> 0.2998</td><td>1.9226</td><td>2.7336</td><td>-0.3752</td><td>2.7972</td><td>1</td><td>1.992469</td><td>#000000</td></tr>\n",
       "\t<tr><th scope=row>3</th><td>ENSG00000188290.10</td><td> 4.1604</td><td>3.6148</td><td> 3.8729</td><td> 5.8875</td><td> 4.7661</td><td> 3.9645</td><td>5.9463</td><td> 3.3235</td><td>4.4490</td><td>⋯</td><td> 0.9642</td><td>-0.8084</td><td> 0.2762</td><td>5.8595</td><td>3.9156</td><td>-0.1504</td><td>4.3751</td><td>1</td><td>2.791702</td><td>#000808</td></tr>\n",
       "\t<tr><th scope=row>5</th><td>ENSG00000187608.8 </td><td> 5.8166</td><td>6.9599</td><td> 5.9072</td><td> 9.9433</td><td> 8.6119</td><td> 7.5186</td><td>6.1985</td><td> 4.6206</td><td>8.2873</td><td>⋯</td><td> 6.1183</td><td> 5.0592</td><td> 5.2122</td><td>7.4520</td><td>6.6671</td><td> 4.7783</td><td>9.7576</td><td>1</td><td>6.491173</td><td>#001010</td></tr>\n",
       "\t<tr><th scope=row>7</th><td>ENSG00000188157.13</td><td> 6.3983</td><td>4.3356</td><td> 6.3946</td><td> 6.2132</td><td> 6.6414</td><td> 7.8886</td><td>8.1206</td><td> 5.6453</td><td>6.0032</td><td>⋯</td><td> 4.7104</td><td> 3.4945</td><td> 3.0234</td><td>4.7756</td><td>6.2132</td><td> 2.5263</td><td>7.1030</td><td>1</td><td>5.739239</td><td>#001818</td></tr>\n",
       "\t<tr><th scope=row>9</th><td>ENSG00000186891.13</td><td>-1.9942</td><td>2.9281</td><td>-1.9379</td><td>-0.8599</td><td>-1.6850</td><td>-0.7108</td><td>2.0844</td><td>-0.0574</td><td>0.0440</td><td>⋯</td><td>-0.0574</td><td>-0.1993</td><td>-1.4699</td><td>1.7828</td><td>1.2209</td><td>-2.3884</td><td>2.7422</td><td>1</td><td>1.166822</td><td>#002020</td></tr>\n",
       "\t<tr><th scope=row>12</th><td>ENSG00000186827.10</td><td> 0.7493</td><td>1.5266</td><td> 2.2813</td><td> 1.3051</td><td> 1.3846</td><td> 0.8883</td><td>2.6984</td><td> 1.0363</td><td>0.5470</td><td>⋯</td><td> 2.2813</td><td> 1.5266</td><td> 1.6740</td><td>3.0757</td><td>2.6418</td><td>-2.1779</td><td>2.3508</td><td>1</td><td>1.538701</td><td>#002828</td></tr>\n",
       "</tbody>\n",
       "</table>\n"
      ],
      "text/markdown": [
       "\n",
       "A data.frame: 6 × 10539\n",
       "\n",
       "| <!--/--> | geneId &lt;chr&gt; | TCGA.02.0047.01 &lt;dbl&gt; | TCGA.02.0055.01 &lt;dbl&gt; | TCGA.02.2483.01 &lt;dbl&gt; | TCGA.02.2485.01 &lt;dbl&gt; | TCGA.04.1331.01 &lt;dbl&gt; | TCGA.04.1332.01 &lt;dbl&gt; | TCGA.04.1337.01 &lt;dbl&gt; | TCGA.04.1338.01 &lt;dbl&gt; | TCGA.04.1341.01 &lt;dbl&gt; | ⋯ ⋯ | TCGA.ZS.A9CF.01 &lt;dbl&gt; | TCGA.ZS.A9CF.02 &lt;dbl&gt; | TCGA.ZS.A9CG.01 &lt;dbl&gt; | TCGA.ZT.A8OM.01 &lt;dbl&gt; | TCGA.ZU.A8S4.01 &lt;dbl&gt; | TCGA.ZU.A8S4.11 &lt;dbl&gt; | TCGA.ZX.AA5X.01 &lt;dbl&gt; | tamPixel &lt;dbl&gt; | order &lt;dbl&gt; | colorGene &lt;chr&gt; |\n",
       "|---|---|---|---|---|---|---|---|---|---|---|---|---|---|---|---|---|---|---|---|---|---|\n",
       "| 1 | ENSG00000187961.13 |  1.3225 | 2.3135 |  2.5707 |  3.3814 |  2.0500 |  2.2990 | 3.5086 |  0.7664 | 1.5514 | ⋯ |  1.7532 |  0.7664 |  0.2998 | 1.9226 | 2.7336 | -0.3752 | 2.7972 | 1 | 1.992469 | #000000 |\n",
       "| 3 | ENSG00000188290.10 |  4.1604 | 3.6148 |  3.8729 |  5.8875 |  4.7661 |  3.9645 | 5.9463 |  3.3235 | 4.4490 | ⋯ |  0.9642 | -0.8084 |  0.2762 | 5.8595 | 3.9156 | -0.1504 | 4.3751 | 1 | 2.791702 | #000808 |\n",
       "| 5 | ENSG00000187608.8  |  5.8166 | 6.9599 |  5.9072 |  9.9433 |  8.6119 |  7.5186 | 6.1985 |  4.6206 | 8.2873 | ⋯ |  6.1183 |  5.0592 |  5.2122 | 7.4520 | 6.6671 |  4.7783 | 9.7576 | 1 | 6.491173 | #001010 |\n",
       "| 7 | ENSG00000188157.13 |  6.3983 | 4.3356 |  6.3946 |  6.2132 |  6.6414 |  7.8886 | 8.1206 |  5.6453 | 6.0032 | ⋯ |  4.7104 |  3.4945 |  3.0234 | 4.7756 | 6.2132 |  2.5263 | 7.1030 | 1 | 5.739239 | #001818 |\n",
       "| 9 | ENSG00000186891.13 | -1.9942 | 2.9281 | -1.9379 | -0.8599 | -1.6850 | -0.7108 | 2.0844 | -0.0574 | 0.0440 | ⋯ | -0.0574 | -0.1993 | -1.4699 | 1.7828 | 1.2209 | -2.3884 | 2.7422 | 1 | 1.166822 | #002020 |\n",
       "| 12 | ENSG00000186827.10 |  0.7493 | 1.5266 |  2.2813 |  1.3051 |  1.3846 |  0.8883 | 2.6984 |  1.0363 | 0.5470 | ⋯ |  2.2813 |  1.5266 |  1.6740 | 3.0757 | 2.6418 | -2.1779 | 2.3508 | 1 | 1.538701 | #002828 |\n",
       "\n"
      ],
      "text/plain": [
       "   geneId             TCGA.02.0047.01 TCGA.02.0055.01 TCGA.02.2483.01\n",
       "1  ENSG00000187961.13  1.3225         2.3135           2.5707        \n",
       "3  ENSG00000188290.10  4.1604         3.6148           3.8729        \n",
       "5  ENSG00000187608.8   5.8166         6.9599           5.9072        \n",
       "7  ENSG00000188157.13  6.3983         4.3356           6.3946        \n",
       "9  ENSG00000186891.13 -1.9942         2.9281          -1.9379        \n",
       "12 ENSG00000186827.10  0.7493         1.5266           2.2813        \n",
       "   TCGA.02.2485.01 TCGA.04.1331.01 TCGA.04.1332.01 TCGA.04.1337.01\n",
       "1   3.3814          2.0500          2.2990         3.5086         \n",
       "3   5.8875          4.7661          3.9645         5.9463         \n",
       "5   9.9433          8.6119          7.5186         6.1985         \n",
       "7   6.2132          6.6414          7.8886         8.1206         \n",
       "9  -0.8599         -1.6850         -0.7108         2.0844         \n",
       "12  1.3051          1.3846          0.8883         2.6984         \n",
       "   TCGA.04.1338.01 TCGA.04.1341.01 ⋯ TCGA.ZS.A9CF.01 TCGA.ZS.A9CF.02\n",
       "1   0.7664         1.5514          ⋯  1.7532          0.7664        \n",
       "3   3.3235         4.4490          ⋯  0.9642         -0.8084        \n",
       "5   4.6206         8.2873          ⋯  6.1183          5.0592        \n",
       "7   5.6453         6.0032          ⋯  4.7104          3.4945        \n",
       "9  -0.0574         0.0440          ⋯ -0.0574         -0.1993        \n",
       "12  1.0363         0.5470          ⋯  2.2813          1.5266        \n",
       "   TCGA.ZS.A9CG.01 TCGA.ZT.A8OM.01 TCGA.ZU.A8S4.01 TCGA.ZU.A8S4.11\n",
       "1   0.2998         1.9226          2.7336          -0.3752        \n",
       "3   0.2762         5.8595          3.9156          -0.1504        \n",
       "5   5.2122         7.4520          6.6671           4.7783        \n",
       "7   3.0234         4.7756          6.2132           2.5263        \n",
       "9  -1.4699         1.7828          1.2209          -2.3884        \n",
       "12  1.6740         3.0757          2.6418          -2.1779        \n",
       "   TCGA.ZX.AA5X.01 tamPixel order    colorGene\n",
       "1  2.7972          1        1.992469 #000000  \n",
       "3  4.3751          1        2.791702 #000808  \n",
       "5  9.7576          1        6.491173 #001010  \n",
       "7  7.1030          1        5.739239 #001818  \n",
       "9  2.7422          1        1.166822 #002020  \n",
       "12 2.3508          1        1.538701 #002828  "
      ]
     },
     "metadata": {},
     "output_type": "display_data"
    }
   ],
   "source": [
    "head(exp_to_tree_map)"
   ]
  },
  {
   "cell_type": "markdown",
   "metadata": {},
   "source": [
    "Now, we generate the template treemap and show it as an image with an arbitrary resolution:"
   ]
  },
  {
   "cell_type": "code",
   "execution_count": 19,
   "metadata": {},
   "outputs": [],
   "source": [
    "library(treemap)"
   ]
  },
  {
   "cell_type": "code",
   "execution_count": 20,
   "metadata": {},
   "outputs": [
    {
     "data": {
      "image/png": "[encoded data removed]",
      "text/plain": [
       "plot without title"
      ]
     },
     "metadata": {},
     "output_type": "display_data"
    }
   ],
   "source": [
    "start.time <- Sys.time()\n",
    "res <- treemap(dtf=exp_to_tree_map, index=c(\"geneId\"), \n",
    "               vSize=\"tamPixel\", vColor=\"colorGene\", type=\"color\", algorithm=\"pivotSize\", sortID=\"order\", \n",
    "               fontsize.labels=0, fontsize.title=0,\n",
    "               border.lwds=0, position.legend=\"none\", aspRatio=1, frame.plot=FALSE, draw=TRUE)\n",
    "end.time <- Sys.time()"
   ]
  },
  {
   "cell_type": "code",
   "execution_count": 21,
   "metadata": {
    "scrolled": true
   },
   "outputs": [
    {
     "data": {
      "text/plain": [
       "Time difference of 26,81804 secs"
      ]
     },
     "metadata": {},
     "output_type": "display_data"
    }
   ],
   "source": [
    "end.time - start.time"
   ]
  },
  {
   "cell_type": "markdown",
   "metadata": {},
   "source": [
    "The output dataset corresponds to a continuous description of the generated treemap:"
   ]
  },
  {
   "cell_type": "code",
   "execution_count": 22,
   "metadata": {},
   "outputs": [
    {
     "data": {
      "text/html": [
       "<table>\n",
       "<caption>A data.frame: 6 × 11</caption>\n",
       "<thead>\n",
       "\t<tr><th scope=col>geneId</th><th scope=col>vSize</th><th scope=col>vColor</th><th scope=col>stdErr</th><th scope=col>vColorValue</th><th scope=col>level</th><th scope=col>x0</th><th scope=col>y0</th><th scope=col>w</th><th scope=col>h</th><th scope=col>color</th></tr>\n",
       "\t<tr><th scope=col>&lt;fct&gt;</th><th scope=col>&lt;dbl&gt;</th><th scope=col>&lt;fct&gt;</th><th scope=col>&lt;dbl&gt;</th><th scope=col>&lt;lgl&gt;</th><th scope=col>&lt;int&gt;</th><th scope=col>&lt;dbl&gt;</th><th scope=col>&lt;dbl&gt;</th><th scope=col>&lt;dbl&gt;</th><th scope=col>&lt;dbl&gt;</th><th scope=col>&lt;chr&gt;</th></tr>\n",
       "</thead>\n",
       "<tbody>\n",
       "\t<tr><td>ENSG00000000003.14</td><td>1</td><td>#E78080</td><td>1</td><td>NA</td><td>1</td><td>0,6910153</td><td>0,1629194</td><td>0,01144388</td><td>0,0116371</td><td>#E78080</td></tr>\n",
       "\t<tr><td>ENSG00000000938.12</td><td>1</td><td>#044848</td><td>1</td><td>NA</td><td>1</td><td>0,3705868</td><td>0,3374759</td><td>0,01144388</td><td>0,0116371</td><td>#044848</td></tr>\n",
       "\t<tr><td>ENSG00000000971.15</td><td>1</td><td>#149898</td><td>1</td><td>NA</td><td>1</td><td>0,6223521</td><td>0,2676533</td><td>0,01144388</td><td>0,0116371</td><td>#149898</td></tr>\n",
       "\t<tr><td>ENSG00000001084.10</td><td>1</td><td>#C2D0D0</td><td>1</td><td>NA</td><td>1</td><td>0,9427806</td><td>0,3607501</td><td>0,01144388</td><td>0,0116371</td><td>#C2D0D0</td></tr>\n",
       "\t<tr><td>ENSG00000001461.16</td><td>1</td><td>#038080</td><td>1</td><td>NA</td><td>1</td><td>0,5536888</td><td>0,4072984</td><td>0,01144388</td><td>0,0116371</td><td>#038080</td></tr>\n",
       "\t<tr><td>ENSG00000001561.6 </td><td>1</td><td>#C20808</td><td>1</td><td>NA</td><td>1</td><td>0,3820306</td><td>0,5934920</td><td>0,01144388</td><td>0,0116371</td><td>#C20808</td></tr>\n",
       "</tbody>\n",
       "</table>\n"
      ],
      "text/latex": [
       "A data.frame: 6 × 11\n",
       "\\begin{tabular}{r|lllllllllll}\n",
       " geneId & vSize & vColor & stdErr & vColorValue & level & x0 & y0 & w & h & color\\\\\n",
       " <fct> & <dbl> & <fct> & <dbl> & <lgl> & <int> & <dbl> & <dbl> & <dbl> & <dbl> & <chr>\\\\\n",
       "\\hline\n",
       "\t ENSG00000000003.14 & 1 & \\#E78080 & 1 & NA & 1 & 0,6910153 & 0,1629194 & 0,01144388 & 0,0116371 & \\#E78080\\\\\n",
       "\t ENSG00000000938.12 & 1 & \\#044848 & 1 & NA & 1 & 0,3705868 & 0,3374759 & 0,01144388 & 0,0116371 & \\#044848\\\\\n",
       "\t ENSG00000000971.15 & 1 & \\#149898 & 1 & NA & 1 & 0,6223521 & 0,2676533 & 0,01144388 & 0,0116371 & \\#149898\\\\\n",
       "\t ENSG00000001084.10 & 1 & \\#C2D0D0 & 1 & NA & 1 & 0,9427806 & 0,3607501 & 0,01144388 & 0,0116371 & \\#C2D0D0\\\\\n",
       "\t ENSG00000001461.16 & 1 & \\#038080 & 1 & NA & 1 & 0,5536888 & 0,4072984 & 0,01144388 & 0,0116371 & \\#038080\\\\\n",
       "\t ENSG00000001561.6  & 1 & \\#C20808 & 1 & NA & 1 & 0,3820306 & 0,5934920 & 0,01144388 & 0,0116371 & \\#C20808\\\\\n",
       "\\end{tabular}\n"
      ],
      "text/markdown": [
       "\n",
       "A data.frame: 6 × 11\n",
       "\n",
       "| geneId &lt;fct&gt; | vSize &lt;dbl&gt; | vColor &lt;fct&gt; | stdErr &lt;dbl&gt; | vColorValue &lt;lgl&gt; | level &lt;int&gt; | x0 &lt;dbl&gt; | y0 &lt;dbl&gt; | w &lt;dbl&gt; | h &lt;dbl&gt; | color &lt;chr&gt; |\n",
       "|---|---|---|---|---|---|---|---|---|---|---|\n",
       "| ENSG00000000003.14 | 1 | #E78080 | 1 | NA | 1 | 0,6910153 | 0,1629194 | 0,01144388 | 0,0116371 | #E78080 |\n",
       "| ENSG00000000938.12 | 1 | #044848 | 1 | NA | 1 | 0,3705868 | 0,3374759 | 0,01144388 | 0,0116371 | #044848 |\n",
       "| ENSG00000000971.15 | 1 | #149898 | 1 | NA | 1 | 0,6223521 | 0,2676533 | 0,01144388 | 0,0116371 | #149898 |\n",
       "| ENSG00000001084.10 | 1 | #C2D0D0 | 1 | NA | 1 | 0,9427806 | 0,3607501 | 0,01144388 | 0,0116371 | #C2D0D0 |\n",
       "| ENSG00000001461.16 | 1 | #038080 | 1 | NA | 1 | 0,5536888 | 0,4072984 | 0,01144388 | 0,0116371 | #038080 |\n",
       "| ENSG00000001561.6  | 1 | #C20808 | 1 | NA | 1 | 0,3820306 | 0,5934920 | 0,01144388 | 0,0116371 | #C20808 |\n",
       "\n"
      ],
      "text/plain": [
       "  geneId             vSize vColor  stdErr vColorValue level x0        y0       \n",
       "1 ENSG00000000003.14 1     #E78080 1      NA          1     0,6910153 0,1629194\n",
       "2 ENSG00000000938.12 1     #044848 1      NA          1     0,3705868 0,3374759\n",
       "3 ENSG00000000971.15 1     #149898 1      NA          1     0,6223521 0,2676533\n",
       "4 ENSG00000001084.10 1     #C2D0D0 1      NA          1     0,9427806 0,3607501\n",
       "5 ENSG00000001461.16 1     #038080 1      NA          1     0,5536888 0,4072984\n",
       "6 ENSG00000001561.6  1     #C20808 1      NA          1     0,3820306 0,5934920\n",
       "  w          h         color  \n",
       "1 0,01144388 0,0116371 #E78080\n",
       "2 0,01144388 0,0116371 #044848\n",
       "3 0,01144388 0,0116371 #149898\n",
       "4 0,01144388 0,0116371 #C2D0D0\n",
       "5 0,01144388 0,0116371 #038080\n",
       "6 0,01144388 0,0116371 #C20808"
      ]
     },
     "metadata": {},
     "output_type": "display_data"
    }
   ],
   "source": [
    "df_res_pix <- res$tm\n",
    "head(df_res_pix)"
   ]
  },
  {
   "cell_type": "code",
   "execution_count": 23,
   "metadata": {},
   "outputs": [
    {
     "data": {
      "text/html": [
       "7509"
      ],
      "text/latex": [
       "7509"
      ],
      "text/markdown": [
       "7509"
      ],
      "text/plain": [
       "[1] 7509"
      ]
     },
     "metadata": {},
     "output_type": "display_data"
    }
   ],
   "source": [
    "nrow(df_res_pix)"
   ]
  },
  {
   "cell_type": "markdown",
   "metadata": {},
   "source": [
    "We can check that all genes occupy approximately the same area in the generated treemap:"
   ]
  },
  {
   "cell_type": "code",
   "execution_count": 24,
   "metadata": {},
   "outputs": [],
   "source": [
    "rect_area <- df_res_pix[\"w\"] * df_res_pix[\"h\"]"
   ]
  },
  {
   "cell_type": "code",
   "execution_count": 25,
   "metadata": {},
   "outputs": [
    {
     "data": {
      "text/html": [
       "0,000133173525103209"
      ],
      "text/latex": [
       "0,000133173525103209"
      ],
      "text/markdown": [
       "0,000133173525103209"
      ],
      "text/plain": [
       "[1] 0,0001331735"
      ]
     },
     "metadata": {},
     "output_type": "display_data"
    }
   ],
   "source": [
    "rect_area[1, ]"
   ]
  },
  {
   "cell_type": "code",
   "execution_count": 26,
   "metadata": {},
   "outputs": [
    {
     "data": {
      "text/html": [
       "2,5207700510288e-18"
      ],
      "text/latex": [
       "2,5207700510288e-18"
      ],
      "text/markdown": [
       "2,5207700510288e-18"
      ],
      "text/plain": [
       "[1] 2,52077e-18"
      ]
     },
     "metadata": {},
     "output_type": "display_data"
    }
   ],
   "source": [
    "# |min - max| ~= 0\n",
    "abs(min(rect_area) - max(rect_area))"
   ]
  },
  {
   "cell_type": "markdown",
   "metadata": {},
   "source": [
    "Finally, in the output dataset, we sort the genes by their position in the treemap:"
   ]
  },
  {
   "cell_type": "code",
   "execution_count": 27,
   "metadata": {},
   "outputs": [
    {
     "data": {
      "text/html": [
       "<table>\n",
       "<caption>A data.frame: 6 × 11</caption>\n",
       "<thead>\n",
       "\t<tr><th></th><th scope=col>geneId</th><th scope=col>vSize</th><th scope=col>vColor</th><th scope=col>stdErr</th><th scope=col>vColorValue</th><th scope=col>level</th><th scope=col>x0</th><th scope=col>y0</th><th scope=col>w</th><th scope=col>h</th><th scope=col>color</th></tr>\n",
       "\t<tr><th></th><th scope=col>&lt;fct&gt;</th><th scope=col>&lt;dbl&gt;</th><th scope=col>&lt;fct&gt;</th><th scope=col>&lt;dbl&gt;</th><th scope=col>&lt;lgl&gt;</th><th scope=col>&lt;int&gt;</th><th scope=col>&lt;dbl&gt;</th><th scope=col>&lt;dbl&gt;</th><th scope=col>&lt;dbl&gt;</th><th scope=col>&lt;dbl&gt;</th><th scope=col>&lt;chr&gt;</th></tr>\n",
       "</thead>\n",
       "<tbody>\n",
       "\t<tr><th scope=row>4816</th><td>ENSG00000164794.8 </td><td>1</td><td>#D86868</td><td>1</td><td>NA</td><td>1</td><td>0,00000000</td><td>0</td><td>0,01158610</td><td>0,01149425</td><td>#D86868</td></tr>\n",
       "\t<tr><th scope=row>6357</th><td>ENSG00000186790.5 </td><td>1</td><td>#074040</td><td>1</td><td>NA</td><td>1</td><td>0,01158610</td><td>0</td><td>0,01158719</td><td>0,01149317</td><td>#074040</td></tr>\n",
       "\t<tr><th scope=row>2211</th><td>ENSG00000120440.13</td><td>1</td><td>#C7C8C8</td><td>1</td><td>NA</td><td>1</td><td>0,02317328</td><td>0</td><td>0,01158831</td><td>0,01149205</td><td>#C7C8C8</td></tr>\n",
       "\t<tr><th scope=row>5090</th><td>ENSG00000167780.11</td><td>1</td><td>#387070</td><td>1</td><td>NA</td><td>1</td><td>0,03476160</td><td>0</td><td>0,01158948</td><td>0,01149089</td><td>#387070</td></tr>\n",
       "\t<tr><th scope=row>548</th><td>ENSG00000072182.12</td><td>1</td><td>#8BE8E8</td><td>1</td><td>NA</td><td>1</td><td>0,04635108</td><td>0</td><td>0,01159070</td><td>0,01148969</td><td>#8BE8E8</td></tr>\n",
       "\t<tr><th scope=row>3744</th><td>ENSG00000145864.12</td><td>1</td><td>#BA0000</td><td>1</td><td>NA</td><td>1</td><td>0,05794178</td><td>0</td><td>0,01159195</td><td>0,01148845</td><td>#BA0000</td></tr>\n",
       "</tbody>\n",
       "</table>\n"
      ],
      "text/latex": [
       "A data.frame: 6 × 11\n",
       "\\begin{tabular}{r|lllllllllll}\n",
       "  & geneId & vSize & vColor & stdErr & vColorValue & level & x0 & y0 & w & h & color\\\\\n",
       "  & <fct> & <dbl> & <fct> & <dbl> & <lgl> & <int> & <dbl> & <dbl> & <dbl> & <dbl> & <chr>\\\\\n",
       "\\hline\n",
       "\t4816 & ENSG00000164794.8  & 1 & \\#D86868 & 1 & NA & 1 & 0,00000000 & 0 & 0,01158610 & 0,01149425 & \\#D86868\\\\\n",
       "\t6357 & ENSG00000186790.5  & 1 & \\#074040 & 1 & NA & 1 & 0,01158610 & 0 & 0,01158719 & 0,01149317 & \\#074040\\\\\n",
       "\t2211 & ENSG00000120440.13 & 1 & \\#C7C8C8 & 1 & NA & 1 & 0,02317328 & 0 & 0,01158831 & 0,01149205 & \\#C7C8C8\\\\\n",
       "\t5090 & ENSG00000167780.11 & 1 & \\#387070 & 1 & NA & 1 & 0,03476160 & 0 & 0,01158948 & 0,01149089 & \\#387070\\\\\n",
       "\t548 & ENSG00000072182.12 & 1 & \\#8BE8E8 & 1 & NA & 1 & 0,04635108 & 0 & 0,01159070 & 0,01148969 & \\#8BE8E8\\\\\n",
       "\t3744 & ENSG00000145864.12 & 1 & \\#BA0000 & 1 & NA & 1 & 0,05794178 & 0 & 0,01159195 & 0,01148845 & \\#BA0000\\\\\n",
       "\\end{tabular}\n"
      ],
      "text/markdown": [
       "\n",
       "A data.frame: 6 × 11\n",
       "\n",
       "| <!--/--> | geneId &lt;fct&gt; | vSize &lt;dbl&gt; | vColor &lt;fct&gt; | stdErr &lt;dbl&gt; | vColorValue &lt;lgl&gt; | level &lt;int&gt; | x0 &lt;dbl&gt; | y0 &lt;dbl&gt; | w &lt;dbl&gt; | h &lt;dbl&gt; | color &lt;chr&gt; |\n",
       "|---|---|---|---|---|---|---|---|---|---|---|---|\n",
       "| 4816 | ENSG00000164794.8  | 1 | #D86868 | 1 | NA | 1 | 0,00000000 | 0 | 0,01158610 | 0,01149425 | #D86868 |\n",
       "| 6357 | ENSG00000186790.5  | 1 | #074040 | 1 | NA | 1 | 0,01158610 | 0 | 0,01158719 | 0,01149317 | #074040 |\n",
       "| 2211 | ENSG00000120440.13 | 1 | #C7C8C8 | 1 | NA | 1 | 0,02317328 | 0 | 0,01158831 | 0,01149205 | #C7C8C8 |\n",
       "| 5090 | ENSG00000167780.11 | 1 | #387070 | 1 | NA | 1 | 0,03476160 | 0 | 0,01158948 | 0,01149089 | #387070 |\n",
       "| 548 | ENSG00000072182.12 | 1 | #8BE8E8 | 1 | NA | 1 | 0,04635108 | 0 | 0,01159070 | 0,01148969 | #8BE8E8 |\n",
       "| 3744 | ENSG00000145864.12 | 1 | #BA0000 | 1 | NA | 1 | 0,05794178 | 0 | 0,01159195 | 0,01148845 | #BA0000 |\n",
       "\n"
      ],
      "text/plain": [
       "     geneId             vSize vColor  stdErr vColorValue level x0         y0\n",
       "4816 ENSG00000164794.8  1     #D86868 1      NA          1     0,00000000 0 \n",
       "6357 ENSG00000186790.5  1     #074040 1      NA          1     0,01158610 0 \n",
       "2211 ENSG00000120440.13 1     #C7C8C8 1      NA          1     0,02317328 0 \n",
       "5090 ENSG00000167780.11 1     #387070 1      NA          1     0,03476160 0 \n",
       "548  ENSG00000072182.12 1     #8BE8E8 1      NA          1     0,04635108 0 \n",
       "3744 ENSG00000145864.12 1     #BA0000 1      NA          1     0,05794178 0 \n",
       "     w          h          color  \n",
       "4816 0,01158610 0,01149425 #D86868\n",
       "6357 0,01158719 0,01149317 #074040\n",
       "2211 0,01158831 0,01149205 #C7C8C8\n",
       "5090 0,01158948 0,01149089 #387070\n",
       "548  0,01159070 0,01148969 #8BE8E8\n",
       "3744 0,01159195 0,01148845 #BA0000"
      ]
     },
     "metadata": {},
     "output_type": "display_data"
    }
   ],
   "source": [
    "df_res_pix <- df_res_pix[order(df_res_pix[\"y0\"], df_res_pix[\"x0\"], decreasing=FALSE), ]\n",
    "head(df_res_pix)"
   ]
  },
  {
   "cell_type": "code",
   "execution_count": 28,
   "metadata": {},
   "outputs": [
    {
     "data": {
      "text/html": [
       "TRUE"
      ],
      "text/latex": [
       "TRUE"
      ],
      "text/markdown": [
       "TRUE"
      ],
      "text/plain": [
       "[1] TRUE"
      ]
     },
     "metadata": {},
     "output_type": "display_data"
    }
   ],
   "source": [
    "# Check we have one distinct color for every gene\n",
    "length(unique(df_res_pix$color)) == nrow(gene_color)"
   ]
  },
  {
   "cell_type": "markdown",
   "metadata": {},
   "source": [
    "### Treemap discretization\n",
    "\n",
    "In this subsection, we convert the template treemap into an image. To do so, we discretize the continuous treemap description given as the output dataset by the `treemap` package into a raster image in PNG format, setting the same image size as the resolution used in `2-KEGG_BRITE_Treemap` notebook."
   ]
  },
  {
   "cell_type": "markdown",
   "metadata": {},
   "source": [
    "Firstly, we generate a gene-expression data frame that will be used later to generate the different gene-expression images **M<sub>i</sub>**:"
   ]
  },
  {
   "cell_type": "code",
   "execution_count": 29,
   "metadata": {},
   "outputs": [],
   "source": [
    "tcga_samples <- colnames(exp_to_tree_map)[grep(\"TCGA\", colnames(exp_to_tree_map))]"
   ]
  },
  {
   "cell_type": "code",
   "execution_count": 30,
   "metadata": {},
   "outputs": [],
   "source": [
    "gene_exp <- exp_to_tree_map[!duplicated(exp_to_tree_map[, \"geneId\"]), c(\"geneId\", tcga_samples, \"order\")]"
   ]
  },
  {
   "cell_type": "code",
   "execution_count": 31,
   "metadata": {},
   "outputs": [
    {
     "data": {
      "text/html": [
       "<ol class=list-inline>\n",
       "\t<li>7509</li>\n",
       "\t<li>10537</li>\n",
       "</ol>\n"
      ],
      "text/latex": [
       "\\begin{enumerate*}\n",
       "\\item 7509\n",
       "\\item 10537\n",
       "\\end{enumerate*}\n"
      ],
      "text/markdown": [
       "1. 7509\n",
       "2. 10537\n",
       "\n",
       "\n"
      ],
      "text/plain": [
       "[1]  7509 10537"
      ]
     },
     "metadata": {},
     "output_type": "display_data"
    }
   ],
   "source": [
    "dim(gene_exp)"
   ]
  },
  {
   "cell_type": "code",
   "execution_count": 32,
   "metadata": {},
   "outputs": [
    {
     "name": "stderr",
     "output_type": "stream",
     "text": [
      "ERROR while rich displaying an object: Error in sprintf(wrap, caption, header, body): 'fmt' length exceeds maximal format length 8192\n",
      "\n",
      "Traceback:\n",
      "1. FUN(X[[i]], ...)\n",
      "2. tryCatch(withCallingHandlers({\n",
      " .     if (!mime %in% names(repr::mime2repr)) \n",
      " .         stop(\"No repr_* for mimetype \", mime, \" in repr::mime2repr\")\n",
      " .     rpr <- repr::mime2repr[[mime]](obj)\n",
      " .     if (is.null(rpr)) \n",
      " .         return(NULL)\n",
      " .     prepare_content(is.raw(rpr), rpr)\n",
      " . }, error = error_handler), error = outer_handler)\n",
      "3. tryCatchList(expr, classes, parentenv, handlers)\n",
      "4. tryCatchOne(expr, names, parentenv, handlers[[1L]])\n",
      "5. doTryCatch(return(expr), name, parentenv, handler)\n",
      "6. withCallingHandlers({\n",
      " .     if (!mime %in% names(repr::mime2repr)) \n",
      " .         stop(\"No repr_* for mimetype \", mime, \" in repr::mime2repr\")\n",
      " .     rpr <- repr::mime2repr[[mime]](obj)\n",
      " .     if (is.null(rpr)) \n",
      " .         return(NULL)\n",
      " .     prepare_content(is.raw(rpr), rpr)\n",
      " . }, error = error_handler)\n",
      "7. repr::mime2repr[[mime]](obj)\n",
      "8. repr_latex.data.frame(obj)\n",
      "9. repr_matrix_generic(obj, sprintf(\"%%s\\n\\\\begin{tabular}{%s}\\n%%s%%s\\\\end{tabular}\\n\", \n",
      " .     cols), \"%s\\\\hline\\n\", \"%s\\\\\\\\\\n\", \"  &\", \" %s &\", \"%s\", \"\\t%s\\\\\\\\\\n\", \n",
      " .     \"%s &\", \" %s &\", escape_fun = latex_escape_vec, rows = rows, \n",
      " .     cols = cols, ...)\n",
      "10. sprintf(wrap, caption, header, body)\n"
     ]
    },
    {
     "data": {
      "text/html": [
       "<table>\n",
       "<caption>A data.frame: 6 × 10537</caption>\n",
       "<thead>\n",
       "\t<tr><th></th><th scope=col>geneId</th><th scope=col>TCGA.02.0047.01</th><th scope=col>TCGA.02.0055.01</th><th scope=col>TCGA.02.2483.01</th><th scope=col>TCGA.02.2485.01</th><th scope=col>TCGA.04.1331.01</th><th scope=col>TCGA.04.1332.01</th><th scope=col>TCGA.04.1337.01</th><th scope=col>TCGA.04.1338.01</th><th scope=col>TCGA.04.1341.01</th><th scope=col>⋯</th><th scope=col>TCGA.ZS.A9CD.01</th><th scope=col>TCGA.ZS.A9CE.01</th><th scope=col>TCGA.ZS.A9CF.01</th><th scope=col>TCGA.ZS.A9CF.02</th><th scope=col>TCGA.ZS.A9CG.01</th><th scope=col>TCGA.ZT.A8OM.01</th><th scope=col>TCGA.ZU.A8S4.01</th><th scope=col>TCGA.ZU.A8S4.11</th><th scope=col>TCGA.ZX.AA5X.01</th><th scope=col>order</th></tr>\n",
       "\t<tr><th></th><th scope=col>&lt;chr&gt;</th><th scope=col>&lt;dbl&gt;</th><th scope=col>&lt;dbl&gt;</th><th scope=col>&lt;dbl&gt;</th><th scope=col>&lt;dbl&gt;</th><th scope=col>&lt;dbl&gt;</th><th scope=col>&lt;dbl&gt;</th><th scope=col>&lt;dbl&gt;</th><th scope=col>&lt;dbl&gt;</th><th scope=col>&lt;dbl&gt;</th><th scope=col>⋯</th><th scope=col>&lt;dbl&gt;</th><th scope=col>&lt;dbl&gt;</th><th scope=col>&lt;dbl&gt;</th><th scope=col>&lt;dbl&gt;</th><th scope=col>&lt;dbl&gt;</th><th scope=col>&lt;dbl&gt;</th><th scope=col>&lt;dbl&gt;</th><th scope=col>&lt;dbl&gt;</th><th scope=col>&lt;dbl&gt;</th><th scope=col>&lt;dbl&gt;</th></tr>\n",
       "</thead>\n",
       "<tbody>\n",
       "\t<tr><th scope=row>18485</th><td>ENSG00000012817.15</td><td>3,7614</td><td>-3,0469</td><td> 2,7270</td><td>4,0019</td><td>-9,9658</td><td>-9,9658</td><td>-9,9658</td><td>-9,9658</td><td>-9,9658</td><td>⋯</td><td> 1,3051</td><td>-9,9658</td><td> 3,2781</td><td>3,8491</td><td> 2,2663</td><td>-5,5735</td><td>2,0289</td><td> 1,8762</td><td>-9,9658</td><td>-2,9807250</td></tr>\n",
       "\t<tr><th scope=row>18489</th><td>ENSG00000198692.9 </td><td>4,6508</td><td>-4,0350</td><td> 5,3042</td><td>4,8090</td><td>-9,9658</td><td>-9,9658</td><td>-9,9658</td><td>-9,9658</td><td>-9,9658</td><td>⋯</td><td> 4,4556</td><td>-9,9658</td><td> 4,8802</td><td>5,0968</td><td>-0,0425</td><td>-9,9658</td><td>3,6405</td><td> 3,9561</td><td>-9,9658</td><td>-2,4597650</td></tr>\n",
       "\t<tr><th scope=row>18491</th><td>ENSG00000105227.14</td><td>1,2815</td><td> 0,2881</td><td>-1,1172</td><td>0,9642</td><td> 0,5955</td><td> 3,4304</td><td> 0,3231</td><td>-1,8836</td><td>-2,1779</td><td>⋯</td><td>-0,4521</td><td> 0,6969</td><td>-0,4325</td><td>0,7664</td><td>-0,1187</td><td> 1,1316</td><td>0,5859</td><td>-1,8836</td><td> 0,8246</td><td> 0,6511954</td></tr>\n",
       "\t<tr><th scope=row>18492</th><td>ENSG00000164237.8 </td><td>4,3618</td><td> 2,5924</td><td> 3,5523</td><td>3,6635</td><td> 4,3660</td><td> 1,7995</td><td> 1,7053</td><td> 1,2516</td><td> 0,5470</td><td>⋯</td><td> 5,2126</td><td> 7,6705</td><td> 6,7502</td><td>5,8888</td><td> 6,5694</td><td> 0,4233</td><td>4,0549</td><td> 6,3338</td><td> 1,0573</td><td> 4,0465881</td></tr>\n",
       "\t<tr><th scope=row>18493</th><td>ENSG00000175048.16</td><td>4,9426</td><td> 2,9488</td><td> 3,3450</td><td>3,9468</td><td> 1,4547</td><td> 1,9415</td><td> 0,7233</td><td> 0,6145</td><td> 1,1447</td><td>⋯</td><td> 3,5584</td><td> 2,3760</td><td> 3,0740</td><td>2,4623</td><td> 1,8564</td><td> 1,5366</td><td>3,9232</td><td> 2,8055</td><td> 2,7826</td><td> 2,5296664</td></tr>\n",
       "\t<tr><th scope=row>18494</th><td>ENSG00000188706.12</td><td>5,7748</td><td> 5,6056</td><td> 4,8360</td><td>4,5571</td><td> 5,1486</td><td> 3,5098</td><td> 5,0760</td><td> 3,8187</td><td> 3,0481</td><td>⋯</td><td> 5,2005</td><td> 4,2366</td><td> 3,6242</td><td>4,0713</td><td> 5,1863</td><td>-0,3566</td><td>4,1612</td><td> 3,6066</td><td> 3,9829</td><td> 4,5475844</td></tr>\n",
       "</tbody>\n",
       "</table>\n"
      ],
      "text/markdown": [
       "\n",
       "A data.frame: 6 × 10537\n",
       "\n",
       "| <!--/--> | geneId &lt;chr&gt; | TCGA.02.0047.01 &lt;dbl&gt; | TCGA.02.0055.01 &lt;dbl&gt; | TCGA.02.2483.01 &lt;dbl&gt; | TCGA.02.2485.01 &lt;dbl&gt; | TCGA.04.1331.01 &lt;dbl&gt; | TCGA.04.1332.01 &lt;dbl&gt; | TCGA.04.1337.01 &lt;dbl&gt; | TCGA.04.1338.01 &lt;dbl&gt; | TCGA.04.1341.01 &lt;dbl&gt; | ⋯ ⋯ | TCGA.ZS.A9CD.01 &lt;dbl&gt; | TCGA.ZS.A9CE.01 &lt;dbl&gt; | TCGA.ZS.A9CF.01 &lt;dbl&gt; | TCGA.ZS.A9CF.02 &lt;dbl&gt; | TCGA.ZS.A9CG.01 &lt;dbl&gt; | TCGA.ZT.A8OM.01 &lt;dbl&gt; | TCGA.ZU.A8S4.01 &lt;dbl&gt; | TCGA.ZU.A8S4.11 &lt;dbl&gt; | TCGA.ZX.AA5X.01 &lt;dbl&gt; | order &lt;dbl&gt; |\n",
       "|---|---|---|---|---|---|---|---|---|---|---|---|---|---|---|---|---|---|---|---|---|---|\n",
       "| 18485 | ENSG00000012817.15 | 3,7614 | -3,0469 |  2,7270 | 4,0019 | -9,9658 | -9,9658 | -9,9658 | -9,9658 | -9,9658 | ⋯ |  1,3051 | -9,9658 |  3,2781 | 3,8491 |  2,2663 | -5,5735 | 2,0289 |  1,8762 | -9,9658 | -2,9807250 |\n",
       "| 18489 | ENSG00000198692.9  | 4,6508 | -4,0350 |  5,3042 | 4,8090 | -9,9658 | -9,9658 | -9,9658 | -9,9658 | -9,9658 | ⋯ |  4,4556 | -9,9658 |  4,8802 | 5,0968 | -0,0425 | -9,9658 | 3,6405 |  3,9561 | -9,9658 | -2,4597650 |\n",
       "| 18491 | ENSG00000105227.14 | 1,2815 |  0,2881 | -1,1172 | 0,9642 |  0,5955 |  3,4304 |  0,3231 | -1,8836 | -2,1779 | ⋯ | -0,4521 |  0,6969 | -0,4325 | 0,7664 | -0,1187 |  1,1316 | 0,5859 | -1,8836 |  0,8246 |  0,6511954 |\n",
       "| 18492 | ENSG00000164237.8  | 4,3618 |  2,5924 |  3,5523 | 3,6635 |  4,3660 |  1,7995 |  1,7053 |  1,2516 |  0,5470 | ⋯ |  5,2126 |  7,6705 |  6,7502 | 5,8888 |  6,5694 |  0,4233 | 4,0549 |  6,3338 |  1,0573 |  4,0465881 |\n",
       "| 18493 | ENSG00000175048.16 | 4,9426 |  2,9488 |  3,3450 | 3,9468 |  1,4547 |  1,9415 |  0,7233 |  0,6145 |  1,1447 | ⋯ |  3,5584 |  2,3760 |  3,0740 | 2,4623 |  1,8564 |  1,5366 | 3,9232 |  2,8055 |  2,7826 |  2,5296664 |\n",
       "| 18494 | ENSG00000188706.12 | 5,7748 |  5,6056 |  4,8360 | 4,5571 |  5,1486 |  3,5098 |  5,0760 |  3,8187 |  3,0481 | ⋯ |  5,2005 |  4,2366 |  3,6242 | 4,0713 |  5,1863 | -0,3566 | 4,1612 |  3,6066 |  3,9829 |  4,5475844 |\n",
       "\n"
      ],
      "text/plain": [
       "      geneId             TCGA.02.0047.01 TCGA.02.0055.01 TCGA.02.2483.01\n",
       "18485 ENSG00000012817.15 3,7614          -3,0469          2,7270        \n",
       "18489 ENSG00000198692.9  4,6508          -4,0350          5,3042        \n",
       "18491 ENSG00000105227.14 1,2815           0,2881         -1,1172        \n",
       "18492 ENSG00000164237.8  4,3618           2,5924          3,5523        \n",
       "18493 ENSG00000175048.16 4,9426           2,9488          3,3450        \n",
       "18494 ENSG00000188706.12 5,7748           5,6056          4,8360        \n",
       "      TCGA.02.2485.01 TCGA.04.1331.01 TCGA.04.1332.01 TCGA.04.1337.01\n",
       "18485 4,0019          -9,9658         -9,9658         -9,9658        \n",
       "18489 4,8090          -9,9658         -9,9658         -9,9658        \n",
       "18491 0,9642           0,5955          3,4304          0,3231        \n",
       "18492 3,6635           4,3660          1,7995          1,7053        \n",
       "18493 3,9468           1,4547          1,9415          0,7233        \n",
       "18494 4,5571           5,1486          3,5098          5,0760        \n",
       "      TCGA.04.1338.01 TCGA.04.1341.01 ⋯ TCGA.ZS.A9CD.01 TCGA.ZS.A9CE.01\n",
       "18485 -9,9658         -9,9658         ⋯  1,3051         -9,9658        \n",
       "18489 -9,9658         -9,9658         ⋯  4,4556         -9,9658        \n",
       "18491 -1,8836         -2,1779         ⋯ -0,4521          0,6969        \n",
       "18492  1,2516          0,5470         ⋯  5,2126          7,6705        \n",
       "18493  0,6145          1,1447         ⋯  3,5584          2,3760        \n",
       "18494  3,8187          3,0481         ⋯  5,2005          4,2366        \n",
       "      TCGA.ZS.A9CF.01 TCGA.ZS.A9CF.02 TCGA.ZS.A9CG.01 TCGA.ZT.A8OM.01\n",
       "18485  3,2781         3,8491           2,2663         -5,5735        \n",
       "18489  4,8802         5,0968          -0,0425         -9,9658        \n",
       "18491 -0,4325         0,7664          -0,1187          1,1316        \n",
       "18492  6,7502         5,8888           6,5694          0,4233        \n",
       "18493  3,0740         2,4623           1,8564          1,5366        \n",
       "18494  3,6242         4,0713           5,1863         -0,3566        \n",
       "      TCGA.ZU.A8S4.01 TCGA.ZU.A8S4.11 TCGA.ZX.AA5X.01 order     \n",
       "18485 2,0289           1,8762         -9,9658         -2,9807250\n",
       "18489 3,6405           3,9561         -9,9658         -2,4597650\n",
       "18491 0,5859          -1,8836          0,8246          0,6511954\n",
       "18492 4,0549           6,3338          1,0573          4,0465881\n",
       "18493 3,9232           2,8055          2,7826          2,5296664\n",
       "18494 4,1612           3,6066          3,9829          4,5475844"
      ]
     },
     "metadata": {},
     "output_type": "display_data"
    }
   ],
   "source": [
    "tail(gene_exp)"
   ]
  },
  {
   "cell_type": "markdown",
   "metadata": {},
   "source": [
    "Background elements will be set to 0 values in gene-expression images, as there is no gene having 0 expression value in any sample:"
   ]
  },
  {
   "cell_type": "code",
   "execution_count": 33,
   "metadata": {},
   "outputs": [],
   "source": [
    "start.time <- Sys.time()\n",
    "exp_v <- unique(as.numeric(as.matrix(gene_exp[, c(tcga_samples, \"order\")])))\n",
    "end.time <- Sys.time()"
   ]
  },
  {
   "cell_type": "code",
   "execution_count": 34,
   "metadata": {},
   "outputs": [
    {
     "data": {
      "text/plain": [
       "Time difference of 3,262662 secs"
      ]
     },
     "metadata": {},
     "output_type": "display_data"
    }
   ],
   "source": [
    "end.time - start.time"
   ]
  },
  {
   "cell_type": "code",
   "execution_count": 35,
   "metadata": {},
   "outputs": [
    {
     "data": {
      "text/html": [
       "0"
      ],
      "text/latex": [
       "0"
      ],
      "text/markdown": [
       "0"
      ],
      "text/plain": [
       "[1] 0"
      ]
     },
     "metadata": {},
     "output_type": "display_data"
    }
   ],
   "source": [
    "sum(exp_v == 0)"
   ]
  },
  {
   "cell_type": "code",
   "execution_count": 36,
   "metadata": {},
   "outputs": [
    {
     "data": {
      "text/html": [
       "475188"
      ],
      "text/latex": [
       "475188"
      ],
      "text/markdown": [
       "475188"
      ],
      "text/plain": [
       "[1] 475188"
      ]
     },
     "metadata": {},
     "output_type": "display_data"
    }
   ],
   "source": [
    "length(exp_v)"
   ]
  },
  {
   "cell_type": "code",
   "execution_count": 37,
   "metadata": {},
   "outputs": [
    {
     "data": {
      "text/html": [
       "<ol class=list-inline>\n",
       "\t<li>-0,00142384886206</li>\n",
       "\t<li>-0,00140459028807</li>\n",
       "\t<li>-0,000133780538539186</li>\n",
       "\t<li>0,00139819048018</li>\n",
       "\t<li>0,0014</li>\n",
       "\t<li>0,0014005199664</li>\n",
       "</ol>\n"
      ],
      "text/latex": [
       "\\begin{enumerate*}\n",
       "\\item -0,00142384886206\n",
       "\\item -0,00140459028807\n",
       "\\item -0,000133780538539186\n",
       "\\item 0,00139819048018\n",
       "\\item 0,0014\n",
       "\\item 0,0014005199664\n",
       "\\end{enumerate*}\n"
      ],
      "text/markdown": [
       "1. -0,00142384886206\n",
       "2. -0,00140459028807\n",
       "3. -0,000133780538539186\n",
       "4. 0,00139819048018\n",
       "5. 0,0014\n",
       "6. 0,0014005199664\n",
       "\n",
       "\n"
      ],
      "text/plain": [
       "[1] -0,0014238489 -0,0014045903 -0,0001337805  0,0013981905  0,0014000000\n",
       "[6]  0,0014005200"
      ]
     },
     "metadata": {},
     "output_type": "display_data"
    }
   ],
   "source": [
    "exp_v <- exp_v[order(exp_v)]\n",
    "w <- which(exp_v > 0)\n",
    "exp_v[(w[1]-3):(w[1]+2)]"
   ]
  },
  {
   "cell_type": "code",
   "execution_count": 38,
   "metadata": {},
   "outputs": [],
   "source": [
    "# Add last row representing background\n",
    "gene_exp <- rbind(gene_exp, c(list(\"#FFFFFF\"), as.list(rep(0, times = (ncol(gene_exp)-1)))))"
   ]
  },
  {
   "cell_type": "code",
   "execution_count": 39,
   "metadata": {},
   "outputs": [
    {
     "data": {
      "text/html": [
       "<ol class=list-inline>\n",
       "\t<li>7510</li>\n",
       "\t<li>10537</li>\n",
       "</ol>\n"
      ],
      "text/latex": [
       "\\begin{enumerate*}\n",
       "\\item 7510\n",
       "\\item 10537\n",
       "\\end{enumerate*}\n"
      ],
      "text/markdown": [
       "1. 7510\n",
       "2. 10537\n",
       "\n",
       "\n"
      ],
      "text/plain": [
       "[1]  7510 10537"
      ]
     },
     "metadata": {},
     "output_type": "display_data"
    }
   ],
   "source": [
    "dim(gene_exp)"
   ]
  },
  {
   "cell_type": "code",
   "execution_count": 40,
   "metadata": {},
   "outputs": [],
   "source": [
    "rownames(gene_exp) <- gene_exp[, \"geneId\"]"
   ]
  },
  {
   "cell_type": "code",
   "execution_count": 41,
   "metadata": {},
   "outputs": [
    {
     "name": "stderr",
     "output_type": "stream",
     "text": [
      "ERROR while rich displaying an object: Error in sprintf(wrap, caption, header, body): 'fmt' length exceeds maximal format length 8192\n",
      "\n",
      "Traceback:\n",
      "1. FUN(X[[i]], ...)\n",
      "2. tryCatch(withCallingHandlers({\n",
      " .     if (!mime %in% names(repr::mime2repr)) \n",
      " .         stop(\"No repr_* for mimetype \", mime, \" in repr::mime2repr\")\n",
      " .     rpr <- repr::mime2repr[[mime]](obj)\n",
      " .     if (is.null(rpr)) \n",
      " .         return(NULL)\n",
      " .     prepare_content(is.raw(rpr), rpr)\n",
      " . }, error = error_handler), error = outer_handler)\n",
      "3. tryCatchList(expr, classes, parentenv, handlers)\n",
      "4. tryCatchOne(expr, names, parentenv, handlers[[1L]])\n",
      "5. doTryCatch(return(expr), name, parentenv, handler)\n",
      "6. withCallingHandlers({\n",
      " .     if (!mime %in% names(repr::mime2repr)) \n",
      " .         stop(\"No repr_* for mimetype \", mime, \" in repr::mime2repr\")\n",
      " .     rpr <- repr::mime2repr[[mime]](obj)\n",
      " .     if (is.null(rpr)) \n",
      " .         return(NULL)\n",
      " .     prepare_content(is.raw(rpr), rpr)\n",
      " . }, error = error_handler)\n",
      "7. repr::mime2repr[[mime]](obj)\n",
      "8. repr_latex.data.frame(obj)\n",
      "9. repr_matrix_generic(obj, sprintf(\"%%s\\n\\\\begin{tabular}{%s}\\n%%s%%s\\\\end{tabular}\\n\", \n",
      " .     cols), \"%s\\\\hline\\n\", \"%s\\\\\\\\\\n\", \"  &\", \" %s &\", \"%s\", \"\\t%s\\\\\\\\\\n\", \n",
      " .     \"%s &\", \" %s &\", escape_fun = latex_escape_vec, rows = rows, \n",
      " .     cols = cols, ...)\n",
      "10. sprintf(wrap, caption, header, body)\n"
     ]
    },
    {
     "data": {
      "text/html": [
       "<table>\n",
       "<caption>A data.frame: 6 × 10537</caption>\n",
       "<thead>\n",
       "\t<tr><th></th><th scope=col>geneId</th><th scope=col>TCGA.02.0047.01</th><th scope=col>TCGA.02.0055.01</th><th scope=col>TCGA.02.2483.01</th><th scope=col>TCGA.02.2485.01</th><th scope=col>TCGA.04.1331.01</th><th scope=col>TCGA.04.1332.01</th><th scope=col>TCGA.04.1337.01</th><th scope=col>TCGA.04.1338.01</th><th scope=col>TCGA.04.1341.01</th><th scope=col>⋯</th><th scope=col>TCGA.ZS.A9CD.01</th><th scope=col>TCGA.ZS.A9CE.01</th><th scope=col>TCGA.ZS.A9CF.01</th><th scope=col>TCGA.ZS.A9CF.02</th><th scope=col>TCGA.ZS.A9CG.01</th><th scope=col>TCGA.ZT.A8OM.01</th><th scope=col>TCGA.ZU.A8S4.01</th><th scope=col>TCGA.ZU.A8S4.11</th><th scope=col>TCGA.ZX.AA5X.01</th><th scope=col>order</th></tr>\n",
       "\t<tr><th></th><th scope=col>&lt;chr&gt;</th><th scope=col>&lt;dbl&gt;</th><th scope=col>&lt;dbl&gt;</th><th scope=col>&lt;dbl&gt;</th><th scope=col>&lt;dbl&gt;</th><th scope=col>&lt;dbl&gt;</th><th scope=col>&lt;dbl&gt;</th><th scope=col>&lt;dbl&gt;</th><th scope=col>&lt;dbl&gt;</th><th scope=col>&lt;dbl&gt;</th><th scope=col>⋯</th><th scope=col>&lt;dbl&gt;</th><th scope=col>&lt;dbl&gt;</th><th scope=col>&lt;dbl&gt;</th><th scope=col>&lt;dbl&gt;</th><th scope=col>&lt;dbl&gt;</th><th scope=col>&lt;dbl&gt;</th><th scope=col>&lt;dbl&gt;</th><th scope=col>&lt;dbl&gt;</th><th scope=col>&lt;dbl&gt;</th><th scope=col>&lt;dbl&gt;</th></tr>\n",
       "</thead>\n",
       "<tbody>\n",
       "\t<tr><th scope=row>ENSG00000198692.9</th><td>ENSG00000198692.9 </td><td>4,6508</td><td>-4,0350</td><td> 5,3042</td><td>4,8090</td><td>-9,9658</td><td>-9,9658</td><td>-9,9658</td><td>-9,9658</td><td>-9,9658</td><td>⋯</td><td> 4,4556</td><td>-9,9658</td><td> 4,8802</td><td>5,0968</td><td>-0,0425</td><td>-9,9658</td><td>3,6405</td><td> 3,9561</td><td>-9,9658</td><td>-2,4597650</td></tr>\n",
       "\t<tr><th scope=row>ENSG00000105227.14</th><td>ENSG00000105227.14</td><td>1,2815</td><td> 0,2881</td><td>-1,1172</td><td>0,9642</td><td> 0,5955</td><td> 3,4304</td><td> 0,3231</td><td>-1,8836</td><td>-2,1779</td><td>⋯</td><td>-0,4521</td><td> 0,6969</td><td>-0,4325</td><td>0,7664</td><td>-0,1187</td><td> 1,1316</td><td>0,5859</td><td>-1,8836</td><td> 0,8246</td><td> 0,6511954</td></tr>\n",
       "\t<tr><th scope=row>ENSG00000164237.8</th><td>ENSG00000164237.8 </td><td>4,3618</td><td> 2,5924</td><td> 3,5523</td><td>3,6635</td><td> 4,3660</td><td> 1,7995</td><td> 1,7053</td><td> 1,2516</td><td> 0,5470</td><td>⋯</td><td> 5,2126</td><td> 7,6705</td><td> 6,7502</td><td>5,8888</td><td> 6,5694</td><td> 0,4233</td><td>4,0549</td><td> 6,3338</td><td> 1,0573</td><td> 4,0465881</td></tr>\n",
       "\t<tr><th scope=row>ENSG00000175048.16</th><td>ENSG00000175048.16</td><td>4,9426</td><td> 2,9488</td><td> 3,3450</td><td>3,9468</td><td> 1,4547</td><td> 1,9415</td><td> 0,7233</td><td> 0,6145</td><td> 1,1447</td><td>⋯</td><td> 3,5584</td><td> 2,3760</td><td> 3,0740</td><td>2,4623</td><td> 1,8564</td><td> 1,5366</td><td>3,9232</td><td> 2,8055</td><td> 2,7826</td><td> 2,5296664</td></tr>\n",
       "\t<tr><th scope=row>ENSG00000188706.12</th><td>ENSG00000188706.12</td><td>5,7748</td><td> 5,6056</td><td> 4,8360</td><td>4,5571</td><td> 5,1486</td><td> 3,5098</td><td> 5,0760</td><td> 3,8187</td><td> 3,0481</td><td>⋯</td><td> 5,2005</td><td> 4,2366</td><td> 3,6242</td><td>4,0713</td><td> 5,1863</td><td>-0,3566</td><td>4,1612</td><td> 3,6066</td><td> 3,9829</td><td> 4,5475844</td></tr>\n",
       "\t<tr><th scope=row>#FFFFFF</th><td>#FFFFFF           </td><td>0,0000</td><td> 0,0000</td><td> 0,0000</td><td>0,0000</td><td> 0,0000</td><td> 0,0000</td><td> 0,0000</td><td> 0,0000</td><td> 0,0000</td><td>⋯</td><td> 0,0000</td><td> 0,0000</td><td> 0,0000</td><td>0,0000</td><td> 0,0000</td><td> 0,0000</td><td>0,0000</td><td> 0,0000</td><td> 0,0000</td><td> 0,0000000</td></tr>\n",
       "</tbody>\n",
       "</table>\n"
      ],
      "text/markdown": [
       "\n",
       "A data.frame: 6 × 10537\n",
       "\n",
       "| <!--/--> | geneId &lt;chr&gt; | TCGA.02.0047.01 &lt;dbl&gt; | TCGA.02.0055.01 &lt;dbl&gt; | TCGA.02.2483.01 &lt;dbl&gt; | TCGA.02.2485.01 &lt;dbl&gt; | TCGA.04.1331.01 &lt;dbl&gt; | TCGA.04.1332.01 &lt;dbl&gt; | TCGA.04.1337.01 &lt;dbl&gt; | TCGA.04.1338.01 &lt;dbl&gt; | TCGA.04.1341.01 &lt;dbl&gt; | ⋯ ⋯ | TCGA.ZS.A9CD.01 &lt;dbl&gt; | TCGA.ZS.A9CE.01 &lt;dbl&gt; | TCGA.ZS.A9CF.01 &lt;dbl&gt; | TCGA.ZS.A9CF.02 &lt;dbl&gt; | TCGA.ZS.A9CG.01 &lt;dbl&gt; | TCGA.ZT.A8OM.01 &lt;dbl&gt; | TCGA.ZU.A8S4.01 &lt;dbl&gt; | TCGA.ZU.A8S4.11 &lt;dbl&gt; | TCGA.ZX.AA5X.01 &lt;dbl&gt; | order &lt;dbl&gt; |\n",
       "|---|---|---|---|---|---|---|---|---|---|---|---|---|---|---|---|---|---|---|---|---|---|\n",
       "| ENSG00000198692.9 | ENSG00000198692.9  | 4,6508 | -4,0350 |  5,3042 | 4,8090 | -9,9658 | -9,9658 | -9,9658 | -9,9658 | -9,9658 | ⋯ |  4,4556 | -9,9658 |  4,8802 | 5,0968 | -0,0425 | -9,9658 | 3,6405 |  3,9561 | -9,9658 | -2,4597650 |\n",
       "| ENSG00000105227.14 | ENSG00000105227.14 | 1,2815 |  0,2881 | -1,1172 | 0,9642 |  0,5955 |  3,4304 |  0,3231 | -1,8836 | -2,1779 | ⋯ | -0,4521 |  0,6969 | -0,4325 | 0,7664 | -0,1187 |  1,1316 | 0,5859 | -1,8836 |  0,8246 |  0,6511954 |\n",
       "| ENSG00000164237.8 | ENSG00000164237.8  | 4,3618 |  2,5924 |  3,5523 | 3,6635 |  4,3660 |  1,7995 |  1,7053 |  1,2516 |  0,5470 | ⋯ |  5,2126 |  7,6705 |  6,7502 | 5,8888 |  6,5694 |  0,4233 | 4,0549 |  6,3338 |  1,0573 |  4,0465881 |\n",
       "| ENSG00000175048.16 | ENSG00000175048.16 | 4,9426 |  2,9488 |  3,3450 | 3,9468 |  1,4547 |  1,9415 |  0,7233 |  0,6145 |  1,1447 | ⋯ |  3,5584 |  2,3760 |  3,0740 | 2,4623 |  1,8564 |  1,5366 | 3,9232 |  2,8055 |  2,7826 |  2,5296664 |\n",
       "| ENSG00000188706.12 | ENSG00000188706.12 | 5,7748 |  5,6056 |  4,8360 | 4,5571 |  5,1486 |  3,5098 |  5,0760 |  3,8187 |  3,0481 | ⋯ |  5,2005 |  4,2366 |  3,6242 | 4,0713 |  5,1863 | -0,3566 | 4,1612 |  3,6066 |  3,9829 |  4,5475844 |\n",
       "| #FFFFFF | #FFFFFF            | 0,0000 |  0,0000 |  0,0000 | 0,0000 |  0,0000 |  0,0000 |  0,0000 |  0,0000 |  0,0000 | ⋯ |  0,0000 |  0,0000 |  0,0000 | 0,0000 |  0,0000 |  0,0000 | 0,0000 |  0,0000 |  0,0000 |  0,0000000 |\n",
       "\n"
      ],
      "text/plain": [
       "                   geneId             TCGA.02.0047.01 TCGA.02.0055.01\n",
       "ENSG00000198692.9  ENSG00000198692.9  4,6508          -4,0350        \n",
       "ENSG00000105227.14 ENSG00000105227.14 1,2815           0,2881        \n",
       "ENSG00000164237.8  ENSG00000164237.8  4,3618           2,5924        \n",
       "ENSG00000175048.16 ENSG00000175048.16 4,9426           2,9488        \n",
       "ENSG00000188706.12 ENSG00000188706.12 5,7748           5,6056        \n",
       "#FFFFFF            #FFFFFF            0,0000           0,0000        \n",
       "                   TCGA.02.2483.01 TCGA.02.2485.01 TCGA.04.1331.01\n",
       "ENSG00000198692.9   5,3042         4,8090          -9,9658        \n",
       "ENSG00000105227.14 -1,1172         0,9642           0,5955        \n",
       "ENSG00000164237.8   3,5523         3,6635           4,3660        \n",
       "ENSG00000175048.16  3,3450         3,9468           1,4547        \n",
       "ENSG00000188706.12  4,8360         4,5571           5,1486        \n",
       "#FFFFFF             0,0000         0,0000           0,0000        \n",
       "                   TCGA.04.1332.01 TCGA.04.1337.01 TCGA.04.1338.01\n",
       "ENSG00000198692.9  -9,9658         -9,9658         -9,9658        \n",
       "ENSG00000105227.14  3,4304          0,3231         -1,8836        \n",
       "ENSG00000164237.8   1,7995          1,7053          1,2516        \n",
       "ENSG00000175048.16  1,9415          0,7233          0,6145        \n",
       "ENSG00000188706.12  3,5098          5,0760          3,8187        \n",
       "#FFFFFF             0,0000          0,0000          0,0000        \n",
       "                   TCGA.04.1341.01 ⋯ TCGA.ZS.A9CD.01 TCGA.ZS.A9CE.01\n",
       "ENSG00000198692.9  -9,9658         ⋯  4,4556         -9,9658        \n",
       "ENSG00000105227.14 -2,1779         ⋯ -0,4521          0,6969        \n",
       "ENSG00000164237.8   0,5470         ⋯  5,2126          7,6705        \n",
       "ENSG00000175048.16  1,1447         ⋯  3,5584          2,3760        \n",
       "ENSG00000188706.12  3,0481         ⋯  5,2005          4,2366        \n",
       "#FFFFFF             0,0000         ⋯  0,0000          0,0000        \n",
       "                   TCGA.ZS.A9CF.01 TCGA.ZS.A9CF.02 TCGA.ZS.A9CG.01\n",
       "ENSG00000198692.9   4,8802         5,0968          -0,0425        \n",
       "ENSG00000105227.14 -0,4325         0,7664          -0,1187        \n",
       "ENSG00000164237.8   6,7502         5,8888           6,5694        \n",
       "ENSG00000175048.16  3,0740         2,4623           1,8564        \n",
       "ENSG00000188706.12  3,6242         4,0713           5,1863        \n",
       "#FFFFFF             0,0000         0,0000           0,0000        \n",
       "                   TCGA.ZT.A8OM.01 TCGA.ZU.A8S4.01 TCGA.ZU.A8S4.11\n",
       "ENSG00000198692.9  -9,9658         3,6405           3,9561        \n",
       "ENSG00000105227.14  1,1316         0,5859          -1,8836        \n",
       "ENSG00000164237.8   0,4233         4,0549           6,3338        \n",
       "ENSG00000175048.16  1,5366         3,9232           2,8055        \n",
       "ENSG00000188706.12 -0,3566         4,1612           3,6066        \n",
       "#FFFFFF             0,0000         0,0000           0,0000        \n",
       "                   TCGA.ZX.AA5X.01 order     \n",
       "ENSG00000198692.9  -9,9658         -2,4597650\n",
       "ENSG00000105227.14  0,8246          0,6511954\n",
       "ENSG00000164237.8   1,0573          4,0465881\n",
       "ENSG00000175048.16  2,7826          2,5296664\n",
       "ENSG00000188706.12  3,9829          4,5475844\n",
       "#FFFFFF             0,0000          0,0000000"
      ]
     },
     "metadata": {},
     "output_type": "display_data"
    }
   ],
   "source": [
    "tail(gene_exp)"
   ]
  },
  {
   "cell_type": "markdown",
   "metadata": {},
   "source": [
    "We now proceed to generate the template image:"
   ]
  },
  {
   "cell_type": "code",
   "execution_count": 58,
   "metadata": {},
   "outputs": [],
   "source": [
    "library(grid)"
   ]
  },
  {
   "cell_type": "code",
   "execution_count": 59,
   "metadata": {},
   "outputs": [],
   "source": [
    "n_width <- 175\n",
    "n_height <- 175\n",
    "\n",
    "img_path <- paste0(\"./mean_GENE_COLOR_GRID_TREEMAP_\", n_width, \"_\", n_height, \".png\")"
   ]
  },
  {
   "cell_type": "code",
   "execution_count": 60,
   "metadata": {},
   "outputs": [
    {
     "data": {
      "text/html": [
       "<strong>png:</strong> 2"
      ],
      "text/latex": [
       "\\textbf{png:} 2"
      ],
      "text/markdown": [
       "**png:** 2"
      ],
      "text/plain": [
       "png \n",
       "  2 "
      ]
     },
     "metadata": {},
     "output_type": "display_data"
    }
   ],
   "source": [
    "# Background is set to white (#FFFFFF in RRGGBB format)\n",
    "png(filename = img_path, width = n_width, height = n_height, bg = \"white\")\n",
    "# Same arguments values used in https://github.com/mtennekes/treemap/blob/master/pkg/R/createRec.R#L29\n",
    "grid.rect(x = df_res_pix$x0, y = df_res_pix$y0, width = df_res_pix$w, df_res_pix$h, default.units = \"npc\",\n",
    "          just=c(\"left\",\"bottom\"), gp = gpar(lwd=0, fill = df_res_pix$color))\n",
    "dev.off()"
   ]
  },
  {
   "cell_type": "code",
   "execution_count": 61,
   "metadata": {},
   "outputs": [
    {
     "data": {
      "image/png": "[encoded data removed]",
      "text/plain": [
       "plot without title"
      ]
     },
     "metadata": {},
     "output_type": "display_data"
    }
   ],
   "source": [
    "# Just for visualization purpose\n",
    "grid.rect(x = df_res_pix$x0, y = df_res_pix$y0, width = df_res_pix$w, df_res_pix$h, default.units = \"npc\",\n",
    "          just=c(\"left\",\"bottom\"), gp = gpar(lwd=0, fill = df_res_pix$color))"
   ]
  },
  {
   "cell_type": "markdown",
   "metadata": {},
   "source": [
    "#### Colors to genes\n",
    "\n",
    "Using the previously generated gene-color PNG image, we transform it to a matrix where each color is converted back to the gene it codes, in order to use the matrix as a template to generate the different gene-expression images."
   ]
  },
  {
   "cell_type": "markdown",
   "metadata": {},
   "source": [
    "Firstly, we load the gene-color image:"
   ]
  },
  {
   "cell_type": "code",
   "execution_count": 62,
   "metadata": {},
   "outputs": [],
   "source": [
    "library(png)"
   ]
  },
  {
   "cell_type": "code",
   "execution_count": 63,
   "metadata": {},
   "outputs": [],
   "source": [
    "png_mat <- readPNG(img_path)"
   ]
  },
  {
   "cell_type": "code",
   "execution_count": 64,
   "metadata": {},
   "outputs": [
    {
     "data": {
      "text/html": [
       "175"
      ],
      "text/latex": [
       "175"
      ],
      "text/markdown": [
       "175"
      ],
      "text/plain": [
       "[1] 175"
      ]
     },
     "metadata": {},
     "output_type": "display_data"
    },
    {
     "data": {
      "text/html": [
       "175"
      ],
      "text/latex": [
       "175"
      ],
      "text/markdown": [
       "175"
      ],
      "text/plain": [
       "[1] 175"
      ]
     },
     "metadata": {},
     "output_type": "display_data"
    }
   ],
   "source": [
    "(n_row <- dim(png_mat)[1])\n",
    "(n_col <- dim(png_mat)[2])"
   ]
  },
  {
   "cell_type": "code",
   "execution_count": 65,
   "metadata": {},
   "outputs": [
    {
     "data": {
      "text/html": [
       "<table>\n",
       "<caption>A matrix: 6 × 175 of type dbl</caption>\n",
       "<tbody>\n",
       "\t<tr><td>0,6352941</td><td>0,6352941</td><td>0,7568627</td><td>0,7568627</td><td>0,2549020</td><td>0,2549020</td><td>0,01960784</td><td>0,01960784</td><td>0,4431373</td><td>0,4431373</td><td>⋯</td><td>0,3019608</td><td>0,3019608</td><td>0,4235294</td><td>0,4235294</td><td>0,5254902</td><td>0,5254902</td><td>0,05882353</td><td>0,05882353</td><td>0,1254902</td><td>0,1254902</td></tr>\n",
       "\t<tr><td>0,6352941</td><td>0,6352941</td><td>0,7568627</td><td>0,7568627</td><td>0,2549020</td><td>0,2549020</td><td>0,01960784</td><td>0,01960784</td><td>0,4431373</td><td>0,4431373</td><td>⋯</td><td>0,3019608</td><td>0,3019608</td><td>0,4235294</td><td>0,4235294</td><td>0,5254902</td><td>0,5254902</td><td>0,05882353</td><td>0,05882353</td><td>0,1254902</td><td>0,1254902</td></tr>\n",
       "\t<tr><td>0,4196078</td><td>0,4196078</td><td>0,8313725</td><td>0,8313725</td><td>0,3254902</td><td>0,3254902</td><td>0,89411765</td><td>0,89411765</td><td>0,5725490</td><td>0,5725490</td><td>⋯</td><td>0,1294118</td><td>0,1294118</td><td>0,3450980</td><td>0,3450980</td><td>0,7450980</td><td>0,7450980</td><td>0,39215686</td><td>0,39215686</td><td>0,4235294</td><td>0,4235294</td></tr>\n",
       "\t<tr><td>0,4196078</td><td>0,4196078</td><td>0,8313725</td><td>0,8313725</td><td>0,3254902</td><td>0,3254902</td><td>0,89411765</td><td>0,89411765</td><td>0,5725490</td><td>0,5725490</td><td>⋯</td><td>0,1294118</td><td>0,1294118</td><td>0,3450980</td><td>0,3450980</td><td>0,7450980</td><td>0,7450980</td><td>0,39215686</td><td>0,39215686</td><td>0,4235294</td><td>0,4235294</td></tr>\n",
       "\t<tr><td>0,7960784</td><td>0,7960784</td><td>0,1372549</td><td>0,1372549</td><td>0,3882353</td><td>0,3882353</td><td>0,38823529</td><td>0,38823529</td><td>0,6352941</td><td>0,6352941</td><td>⋯</td><td>0,1725490</td><td>0,1725490</td><td>0,6313725</td><td>0,6313725</td><td>0,7333333</td><td>0,7333333</td><td>0,30196078</td><td>0,30196078</td><td>0,9176471</td><td>0,9176471</td></tr>\n",
       "\t<tr><td>0,7960784</td><td>0,7960784</td><td>0,1372549</td><td>0,1372549</td><td>0,3882353</td><td>0,3882353</td><td>0,38823529</td><td>0,38823529</td><td>0,6352941</td><td>0,6352941</td><td>⋯</td><td>0,1725490</td><td>0,1725490</td><td>0,6313725</td><td>0,6313725</td><td>0,7333333</td><td>0,7333333</td><td>0,30196078</td><td>0,30196078</td><td>0,9176471</td><td>0,9176471</td></tr>\n",
       "</tbody>\n",
       "</table>\n"
      ],
      "text/latex": [
       "A matrix: 6 × 175 of type dbl\n",
       "\\begin{tabular}{lllllllllllllllllllllllllllllllllllllllllllllllllllllllllllllllllllllllllllllllllllllllllllllllllllllllllllllllllllllllllllllllllllllllllllllllllllllllllllllllllllllllllllllll}\n",
       "\t 0,6352941 & 0,6352941 & 0,7568627 & 0,7568627 & 0,2549020 & 0,2549020 & 0,01960784 & 0,01960784 & 0,4431373 & 0,4431373 & 0,9058824 & 0,9058824 & 0,7215686 & 0,7215686 & 0,5058824 & 0,5058824 & 0,3098039 & 0,3098039 & 0,4196078 & 0,4196078 & 0,43529412 & 0,43529412 & 0,1176471 & 0,1176471 & 0,6666667 & 0,6666667 & 0,2431373 & 0,2431373 & 0,7137255 & 0,7137255 & 0,6705882 & 0,6705882 & 0,8352941 & 0,8352941 & 0,1333333 & 0,1333333 & 0,01568627 & 0,01568627 & 0,09019608 & 0,09019608 & 0,5215686 & 0,5215686 & 0,8470588 & 0,8470588 & 0,6745098 & 0,6745098 & 0,6274510 & 0,6274510 & 0,4235294 & 0,4235294 & 0,8156863 & 0,8156863 & 0,1960784 & 0,1960784 & 0,7803922 & 0,7803922 & 0,04705882 & 0,04705882 & 0,3882353 & 0,3882353 & 0,5764706 & 0,5764706 & 0,6313725 & 0,6313725 & 0,1294118 & 0,1294118 & 0,05098039 & 0,05098039 & 0,2000000 & 0,2000000 & 0,2156863 & 0,2156863 & 0,87843137 & 0,87843137 & 0,7607843 & 0,7607843 & 0,1333333 & 0,1333333 & 0,6274510 & 0,6274510 & 0,01568627 & 0,01568627 & 0,2862745 & 0,2862745 & 0,8784314 & 0,8784314 & 0,8784314 & 0,03137255 & 0,03137255 & 0,3764706 & 0,3764706 & 0,0745098 & 0,0745098 & 0,5843137 & 0,5843137 & 0,1411765 & 0,1411765 & 0,4627451 & 0,4627451 & 0,6627451 & 0,6627451 & 0,1686275 & 0,1686275 & 0,4117647 & 0,4117647 & 0,62745098 & 0,62745098 & 0,5098039 & 0,5098039 & 0,2666667 & 0,2666667 & 0,05882353 & 0,05882353 & 0,9098039 & 0,9098039 & 0,6352941 & 0,6352941 & 0,15294118 & 0,15294118 & 0,5607843 & 0,5607843 & 0,3843137 & 0,3843137 & 0,2784314 & 0,2784314 & 0,02745098 & 0,02745098 & 0,007843137 & 0,007843137 & 0,8745098 & 0,8745098 & 0,8352941 & 0,8352941 & 0,1686275 & 0,1686275 & 0,2823529 & 0,2823529 & 0,6705882 & 0,6705882 & 0,16470588 & 0,16470588 & 0,6862745 & 0,6862745 & 0,6941176 & 0,6941176 & 0,02352941 & 0,02352941 & 0,40784314 & 0,40784314 & 0,03137255 & 0,03137255 & 0,0627451 & 0,0627451 & 0,2509804 & 0,2509804 & 0,5450980 & 0,5450980 & 0,2745098 & 0,2745098 & 0,2549020 & 0,2549020 & 0,23921569 & 0,23921569 & 0,2862745 & 0,2862745 & 0,3019608 & 0,3019608 & 0,4235294 & 0,4235294 & 0,5254902 & 0,5254902 & 0,05882353 & 0,05882353 & 0,1254902 & 0,1254902\\\\\n",
       "\t 0,6352941 & 0,6352941 & 0,7568627 & 0,7568627 & 0,2549020 & 0,2549020 & 0,01960784 & 0,01960784 & 0,4431373 & 0,4431373 & 0,9058824 & 0,9058824 & 0,7215686 & 0,7215686 & 0,5058824 & 0,5058824 & 0,3098039 & 0,3098039 & 0,4196078 & 0,4196078 & 0,43529412 & 0,43529412 & 0,1176471 & 0,1176471 & 0,6666667 & 0,6666667 & 0,2431373 & 0,2431373 & 0,7137255 & 0,7137255 & 0,6705882 & 0,6705882 & 0,8352941 & 0,8352941 & 0,1333333 & 0,1333333 & 0,01568627 & 0,01568627 & 0,09019608 & 0,09019608 & 0,5215686 & 0,5215686 & 0,8470588 & 0,8470588 & 0,6745098 & 0,6745098 & 0,6274510 & 0,6274510 & 0,4235294 & 0,4235294 & 0,8156863 & 0,8156863 & 0,1960784 & 0,1960784 & 0,7803922 & 0,7803922 & 0,04705882 & 0,04705882 & 0,3882353 & 0,3882353 & 0,5764706 & 0,5764706 & 0,6313725 & 0,6313725 & 0,1294118 & 0,1294118 & 0,05098039 & 0,05098039 & 0,2000000 & 0,2000000 & 0,2156863 & 0,2156863 & 0,87843137 & 0,87843137 & 0,7607843 & 0,7607843 & 0,1333333 & 0,1333333 & 0,6274510 & 0,6274510 & 0,01568627 & 0,01568627 & 0,2862745 & 0,2862745 & 0,8784314 & 0,8784314 & 0,8784314 & 0,03137255 & 0,03137255 & 0,3764706 & 0,3764706 & 0,0745098 & 0,0745098 & 0,5843137 & 0,5843137 & 0,1411765 & 0,1411765 & 0,4627451 & 0,4627451 & 0,6627451 & 0,6627451 & 0,1686275 & 0,1686275 & 0,4117647 & 0,4117647 & 0,62745098 & 0,62745098 & 0,5098039 & 0,5098039 & 0,2666667 & 0,2666667 & 0,05882353 & 0,05882353 & 0,9098039 & 0,9098039 & 0,6352941 & 0,6352941 & 0,15294118 & 0,15294118 & 0,5607843 & 0,5607843 & 0,3843137 & 0,3843137 & 0,2784314 & 0,2784314 & 0,02745098 & 0,02745098 & 0,007843137 & 0,007843137 & 0,8745098 & 0,8745098 & 0,8352941 & 0,8352941 & 0,1686275 & 0,1686275 & 0,2823529 & 0,2823529 & 0,6705882 & 0,6705882 & 0,16470588 & 0,16470588 & 0,6862745 & 0,6862745 & 0,6941176 & 0,6941176 & 0,02352941 & 0,02352941 & 0,40784314 & 0,40784314 & 0,03137255 & 0,03137255 & 0,0627451 & 0,0627451 & 0,2509804 & 0,2509804 & 0,5450980 & 0,5450980 & 0,2745098 & 0,2745098 & 0,2549020 & 0,2549020 & 0,23921569 & 0,23921569 & 0,2862745 & 0,2862745 & 0,3019608 & 0,3019608 & 0,4235294 & 0,4235294 & 0,5254902 & 0,5254902 & 0,05882353 & 0,05882353 & 0,1254902 & 0,1254902\\\\\n",
       "\t 0,4196078 & 0,4196078 & 0,8313725 & 0,8313725 & 0,3254902 & 0,3254902 & 0,89411765 & 0,89411765 & 0,5725490 & 0,5725490 & 0,8941176 & 0,8941176 & 0,6745098 & 0,6745098 & 0,3294118 & 0,3294118 & 0,8588235 & 0,8588235 & 0,4352941 & 0,4352941 & 0,13333333 & 0,13333333 & 0,6392157 & 0,6392157 & 0,4705882 & 0,4705882 & 0,2313725 & 0,2313725 & 0,8549020 & 0,8549020 & 0,6274510 & 0,6274510 & 0,1647059 & 0,1647059 & 0,5803922 & 0,5803922 & 0,18823529 & 0,18823529 & 0,26666667 & 0,26666667 & 0,2627451 & 0,2627451 & 0,8627451 & 0,8627451 & 0,0745098 & 0,0745098 & 0,3215686 & 0,3215686 & 0,3960784 & 0,3960784 & 0,8196078 & 0,8196078 & 0,8470588 & 0,8470588 & 0,8117647 & 0,8117647 & 0,90196078 & 0,90196078 & 0,3019608 & 0,3019608 & 0,1686275 & 0,1686275 & 0,6666667 & 0,6666667 & 0,5215686 & 0,5215686 & 0,72156863 & 0,72156863 & 0,4352941 & 0,4352941 & 0,7764706 & 0,7764706 & 0,76078431 & 0,76078431 & 0,1803922 & 0,1803922 & 0,7686275 & 0,7686275 & 0,5568627 & 0,5568627 & 0,05098039 & 0,05098039 & 0,5215686 & 0,5215686 & 0,7686275 & 0,7686275 & 0,7686275 & 0,35686275 & 0,35686275 & 0,4431373 & 0,4431373 & 0,3215686 & 0,3215686 & 0,4862745 & 0,4862745 & 0,5254902 & 0,5254902 & 0,8156863 & 0,8156863 & 0,2196078 & 0,2196078 & 0,2901961 & 0,2901961 & 0,7921569 & 0,7921569 & 0,26274510 & 0,26274510 & 0,1607843 & 0,1607843 & 0,2862745 & 0,2862745 & 0,49019608 & 0,49019608 & 0,8352941 & 0,8352941 & 0,1803922 & 0,1803922 & 0,08627451 & 0,08627451 & 0,6509804 & 0,6509804 & 0,3764706 & 0,3764706 & 0,6156863 & 0,6156863 & 0,63921569 & 0,63921569 & 0,482352941 & 0,482352941 & 0,3372549 & 0,3372549 & 0,4431373 & 0,4431373 & 0,4313725 & 0,4313725 & 0,8039216 & 0,8039216 & 0,4980392 & 0,4980392 & 0,29411765 & 0,29411765 & 0,3803922 & 0,3803922 & 0,1607843 & 0,1607843 & 0,23921569 & 0,23921569 & 0,24705882 & 0,24705882 & 0,33333333 & 0,33333333 & 0,5176471 & 0,5176471 & 0,2156863 & 0,2156863 & 0,2627451 & 0,2627451 & 0,7450980 & 0,7450980 & 0,3294118 & 0,3294118 & 0,08627451 & 0,08627451 & 0,3098039 & 0,3098039 & 0,1294118 & 0,1294118 & 0,3450980 & 0,3450980 & 0,7450980 & 0,7450980 & 0,39215686 & 0,39215686 & 0,4235294 & 0,4235294\\\\\n",
       "\t 0,4196078 & 0,4196078 & 0,8313725 & 0,8313725 & 0,3254902 & 0,3254902 & 0,89411765 & 0,89411765 & 0,5725490 & 0,5725490 & 0,8941176 & 0,8941176 & 0,6745098 & 0,6745098 & 0,3294118 & 0,3294118 & 0,8588235 & 0,8588235 & 0,4352941 & 0,4352941 & 0,13333333 & 0,13333333 & 0,6392157 & 0,6392157 & 0,4705882 & 0,4705882 & 0,2313725 & 0,2313725 & 0,8549020 & 0,8549020 & 0,6274510 & 0,6274510 & 0,1647059 & 0,1647059 & 0,5803922 & 0,5803922 & 0,18823529 & 0,18823529 & 0,26666667 & 0,26666667 & 0,2627451 & 0,2627451 & 0,8627451 & 0,8627451 & 0,0745098 & 0,0745098 & 0,3215686 & 0,3215686 & 0,3960784 & 0,3960784 & 0,8196078 & 0,8196078 & 0,8470588 & 0,8470588 & 0,8117647 & 0,8117647 & 0,90196078 & 0,90196078 & 0,3019608 & 0,3019608 & 0,1686275 & 0,1686275 & 0,6666667 & 0,6666667 & 0,5215686 & 0,5215686 & 0,72156863 & 0,72156863 & 0,4352941 & 0,4352941 & 0,7764706 & 0,7764706 & 0,76078431 & 0,76078431 & 0,1803922 & 0,1803922 & 0,7686275 & 0,7686275 & 0,5568627 & 0,5568627 & 0,05098039 & 0,05098039 & 0,5215686 & 0,5215686 & 0,7686275 & 0,7686275 & 0,7686275 & 0,35686275 & 0,35686275 & 0,4431373 & 0,4431373 & 0,3215686 & 0,3215686 & 0,4862745 & 0,4862745 & 0,5254902 & 0,5254902 & 0,8156863 & 0,8156863 & 0,2196078 & 0,2196078 & 0,2901961 & 0,2901961 & 0,7921569 & 0,7921569 & 0,26274510 & 0,26274510 & 0,1607843 & 0,1607843 & 0,2862745 & 0,2862745 & 0,49019608 & 0,49019608 & 0,8352941 & 0,8352941 & 0,1803922 & 0,1803922 & 0,08627451 & 0,08627451 & 0,6509804 & 0,6509804 & 0,3764706 & 0,3764706 & 0,6156863 & 0,6156863 & 0,63921569 & 0,63921569 & 0,482352941 & 0,482352941 & 0,3372549 & 0,3372549 & 0,4431373 & 0,4431373 & 0,4313725 & 0,4313725 & 0,8039216 & 0,8039216 & 0,4980392 & 0,4980392 & 0,29411765 & 0,29411765 & 0,3803922 & 0,3803922 & 0,1607843 & 0,1607843 & 0,23921569 & 0,23921569 & 0,24705882 & 0,24705882 & 0,33333333 & 0,33333333 & 0,5176471 & 0,5176471 & 0,2156863 & 0,2156863 & 0,2627451 & 0,2627451 & 0,7450980 & 0,7450980 & 0,3294118 & 0,3294118 & 0,08627451 & 0,08627451 & 0,3098039 & 0,3098039 & 0,1294118 & 0,1294118 & 0,3450980 & 0,3450980 & 0,7450980 & 0,7450980 & 0,39215686 & 0,39215686 & 0,4235294 & 0,4235294\\\\\n",
       "\t 0,7960784 & 0,7960784 & 0,1372549 & 0,1372549 & 0,3882353 & 0,3882353 & 0,38823529 & 0,38823529 & 0,6352941 & 0,6352941 & 0,8627451 & 0,8627451 & 0,5490196 & 0,5490196 & 0,6666667 & 0,6666667 & 0,3372549 & 0,3372549 & 0,7764706 & 0,7764706 & 0,09411765 & 0,09411765 & 0,3607843 & 0,3607843 & 0,5215686 & 0,5215686 & 0,5137255 & 0,5137255 & 0,7882353 & 0,7882353 & 0,7215686 & 0,7215686 & 0,1176471 & 0,1176471 & 0,8000000 & 0,8000000 & 0,65098039 & 0,65098039 & 0,09411765 & 0,09411765 & 0,9098039 & 0,9098039 & 0,4509804 & 0,4509804 & 0,2039216 & 0,2039216 & 0,9176471 & 0,9176471 & 0,5058824 & 0,5058824 & 0,3215686 & 0,3215686 & 0,2980392 & 0,2980392 & 0,1529412 & 0,1529412 & 0,88627451 & 0,88627451 & 0,4862745 & 0,4862745 & 0,5607843 & 0,5607843 & 0,9058824 & 0,9058824 & 0,4000000 & 0,4000000 & 0,78039216 & 0,78039216 & 0,8470588 & 0,8470588 & 0,3803922 & 0,3803922 & 0,02745098 & 0,02745098 & 0,6039216 & 0,6039216 & 0,3058824 & 0,3058824 & 0,2862745 & 0,2862745 & 0,76470588 & 0,76470588 & 0,7137255 & 0,7137255 & 0,7137255 & 0,6862745 & 0,6862745 & 0,23137255 & 0,23137255 & 0,8431373 & 0,8431373 & 0,4784314 & 0,4784314 & 0,5019608 & 0,5019608 & 0,2000000 & 0,2000000 & 0,1411765 & 0,1411765 & 0,2039216 & 0,2039216 & 0,6666667 & 0,6666667 & 0,3568627 & 0,3568627 & 0,09019608 & 0,09019608 & 0,8980392 & 0,8980392 & 0,8235294 & 0,8235294 & 0,12549020 & 0,12549020 & 0,5294118 & 0,5294118 & 0,3254902 & 0,3254902 & 0,18823529 & 0,18823529 & 0,2784314 & 0,2784314 & 0,3921569 & 0,3921569 & 0,5529412 & 0,5529412 & 0,59607843 & 0,59607843 & 0,878431373 & 0,878431373 & 0,8823529 & 0,8823529 & 0,0627451 & 0,0627451 & 0,2862745 & 0,2862745 & 0,9058824 & 0,9058824 & 0,2549020 & 0,2549020 & 0,05490196 & 0,05490196 & 0,5058824 & 0,5058824 & 0,6627451 & 0,6627451 & 0,46274510 & 0,46274510 & 0,01176471 & 0,01176471 & 0,16862745 & 0,16862745 & 0,4901961 & 0,4901961 & 0,9019608 & 0,9019608 & 0,8196078 & 0,8196078 & 0,3490196 & 0,3490196 & 0,7647059 & 0,7647059 & 0,75686275 & 0,75686275 & 0,1529412 & 0,1529412 & 0,1725490 & 0,1725490 & 0,6313725 & 0,6313725 & 0,7333333 & 0,7333333 & 0,30196078 & 0,30196078 & 0,9176471 & 0,9176471\\\\\n",
       "\t 0,7960784 & 0,7960784 & 0,1372549 & 0,1372549 & 0,3882353 & 0,3882353 & 0,38823529 & 0,38823529 & 0,6352941 & 0,6352941 & 0,8627451 & 0,8627451 & 0,5490196 & 0,5490196 & 0,6666667 & 0,6666667 & 0,3372549 & 0,3372549 & 0,7764706 & 0,7764706 & 0,09411765 & 0,09411765 & 0,3607843 & 0,3607843 & 0,5215686 & 0,5215686 & 0,5137255 & 0,5137255 & 0,7882353 & 0,7882353 & 0,7215686 & 0,7215686 & 0,1176471 & 0,1176471 & 0,8000000 & 0,8000000 & 0,65098039 & 0,65098039 & 0,09411765 & 0,09411765 & 0,9098039 & 0,9098039 & 0,4509804 & 0,4509804 & 0,2039216 & 0,2039216 & 0,9176471 & 0,9176471 & 0,5058824 & 0,5058824 & 0,3215686 & 0,3215686 & 0,2980392 & 0,2980392 & 0,1529412 & 0,1529412 & 0,88627451 & 0,88627451 & 0,4862745 & 0,4862745 & 0,5607843 & 0,5607843 & 0,9058824 & 0,9058824 & 0,4000000 & 0,4000000 & 0,78039216 & 0,78039216 & 0,8470588 & 0,8470588 & 0,3803922 & 0,3803922 & 0,02745098 & 0,02745098 & 0,6039216 & 0,6039216 & 0,3058824 & 0,3058824 & 0,2862745 & 0,2862745 & 0,76470588 & 0,76470588 & 0,7137255 & 0,7137255 & 0,7137255 & 0,6862745 & 0,6862745 & 0,23137255 & 0,23137255 & 0,8431373 & 0,8431373 & 0,4784314 & 0,4784314 & 0,5019608 & 0,5019608 & 0,2000000 & 0,2000000 & 0,1411765 & 0,1411765 & 0,2039216 & 0,2039216 & 0,6666667 & 0,6666667 & 0,3568627 & 0,3568627 & 0,09019608 & 0,09019608 & 0,8980392 & 0,8980392 & 0,8235294 & 0,8235294 & 0,12549020 & 0,12549020 & 0,5294118 & 0,5294118 & 0,3254902 & 0,3254902 & 0,18823529 & 0,18823529 & 0,2784314 & 0,2784314 & 0,3921569 & 0,3921569 & 0,5529412 & 0,5529412 & 0,59607843 & 0,59607843 & 0,878431373 & 0,878431373 & 0,8823529 & 0,8823529 & 0,0627451 & 0,0627451 & 0,2862745 & 0,2862745 & 0,9058824 & 0,9058824 & 0,2549020 & 0,2549020 & 0,05490196 & 0,05490196 & 0,5058824 & 0,5058824 & 0,6627451 & 0,6627451 & 0,46274510 & 0,46274510 & 0,01176471 & 0,01176471 & 0,16862745 & 0,16862745 & 0,4901961 & 0,4901961 & 0,9019608 & 0,9019608 & 0,8196078 & 0,8196078 & 0,3490196 & 0,3490196 & 0,7647059 & 0,7647059 & 0,75686275 & 0,75686275 & 0,1529412 & 0,1529412 & 0,1725490 & 0,1725490 & 0,6313725 & 0,6313725 & 0,7333333 & 0,7333333 & 0,30196078 & 0,30196078 & 0,9176471 & 0,9176471\\\\\n",
       "\\end{tabular}\n"
      ],
      "text/markdown": [
       "\n",
       "A matrix: 6 × 175 of type dbl\n",
       "\n",
       "| 0,6352941 | 0,6352941 | 0,7568627 | 0,7568627 | 0,2549020 | 0,2549020 | 0,01960784 | 0,01960784 | 0,4431373 | 0,4431373 | ⋯ | 0,3019608 | 0,3019608 | 0,4235294 | 0,4235294 | 0,5254902 | 0,5254902 | 0,05882353 | 0,05882353 | 0,1254902 | 0,1254902 |\n",
       "| 0,6352941 | 0,6352941 | 0,7568627 | 0,7568627 | 0,2549020 | 0,2549020 | 0,01960784 | 0,01960784 | 0,4431373 | 0,4431373 | ⋯ | 0,3019608 | 0,3019608 | 0,4235294 | 0,4235294 | 0,5254902 | 0,5254902 | 0,05882353 | 0,05882353 | 0,1254902 | 0,1254902 |\n",
       "| 0,4196078 | 0,4196078 | 0,8313725 | 0,8313725 | 0,3254902 | 0,3254902 | 0,89411765 | 0,89411765 | 0,5725490 | 0,5725490 | ⋯ | 0,1294118 | 0,1294118 | 0,3450980 | 0,3450980 | 0,7450980 | 0,7450980 | 0,39215686 | 0,39215686 | 0,4235294 | 0,4235294 |\n",
       "| 0,4196078 | 0,4196078 | 0,8313725 | 0,8313725 | 0,3254902 | 0,3254902 | 0,89411765 | 0,89411765 | 0,5725490 | 0,5725490 | ⋯ | 0,1294118 | 0,1294118 | 0,3450980 | 0,3450980 | 0,7450980 | 0,7450980 | 0,39215686 | 0,39215686 | 0,4235294 | 0,4235294 |\n",
       "| 0,7960784 | 0,7960784 | 0,1372549 | 0,1372549 | 0,3882353 | 0,3882353 | 0,38823529 | 0,38823529 | 0,6352941 | 0,6352941 | ⋯ | 0,1725490 | 0,1725490 | 0,6313725 | 0,6313725 | 0,7333333 | 0,7333333 | 0,30196078 | 0,30196078 | 0,9176471 | 0,9176471 |\n",
       "| 0,7960784 | 0,7960784 | 0,1372549 | 0,1372549 | 0,3882353 | 0,3882353 | 0,38823529 | 0,38823529 | 0,6352941 | 0,6352941 | ⋯ | 0,1725490 | 0,1725490 | 0,6313725 | 0,6313725 | 0,7333333 | 0,7333333 | 0,30196078 | 0,30196078 | 0,9176471 | 0,9176471 |\n",
       "\n"
      ],
      "text/plain": [
       "     [,1]      [,2]      [,3]      [,4]      [,5]      [,6]      [,7]      \n",
       "[1,] 0,6352941 0,6352941 0,7568627 0,7568627 0,2549020 0,2549020 0,01960784\n",
       "[2,] 0,6352941 0,6352941 0,7568627 0,7568627 0,2549020 0,2549020 0,01960784\n",
       "[3,] 0,4196078 0,4196078 0,8313725 0,8313725 0,3254902 0,3254902 0,89411765\n",
       "[4,] 0,4196078 0,4196078 0,8313725 0,8313725 0,3254902 0,3254902 0,89411765\n",
       "[5,] 0,7960784 0,7960784 0,1372549 0,1372549 0,3882353 0,3882353 0,38823529\n",
       "[6,] 0,7960784 0,7960784 0,1372549 0,1372549 0,3882353 0,3882353 0,38823529\n",
       "     [,8]       [,9]      [,10]     [,11] [,12]     [,13]     [,14]    \n",
       "[1,] 0,01960784 0,4431373 0,4431373 ⋯     0,3019608 0,3019608 0,4235294\n",
       "[2,] 0,01960784 0,4431373 0,4431373 ⋯     0,3019608 0,3019608 0,4235294\n",
       "[3,] 0,89411765 0,5725490 0,5725490 ⋯     0,1294118 0,1294118 0,3450980\n",
       "[4,] 0,89411765 0,5725490 0,5725490 ⋯     0,1294118 0,1294118 0,3450980\n",
       "[5,] 0,38823529 0,6352941 0,6352941 ⋯     0,1725490 0,1725490 0,6313725\n",
       "[6,] 0,38823529 0,6352941 0,6352941 ⋯     0,1725490 0,1725490 0,6313725\n",
       "     [,15]     [,16]     [,17]     [,18]      [,19]      [,20]     [,21]    \n",
       "[1,] 0,4235294 0,5254902 0,5254902 0,05882353 0,05882353 0,1254902 0,1254902\n",
       "[2,] 0,4235294 0,5254902 0,5254902 0,05882353 0,05882353 0,1254902 0,1254902\n",
       "[3,] 0,3450980 0,7450980 0,7450980 0,39215686 0,39215686 0,4235294 0,4235294\n",
       "[4,] 0,3450980 0,7450980 0,7450980 0,39215686 0,39215686 0,4235294 0,4235294\n",
       "[5,] 0,6313725 0,7333333 0,7333333 0,30196078 0,30196078 0,9176471 0,9176471\n",
       "[6,] 0,6313725 0,7333333 0,7333333 0,30196078 0,30196078 0,9176471 0,9176471"
      ]
     },
     "metadata": {},
     "output_type": "display_data"
    }
   ],
   "source": [
    "head(png_mat[, , 1])"
   ]
  },
  {
   "cell_type": "markdown",
   "metadata": {},
   "source": [
    "We convert pixels values from 0-1 to 0-255 scale:"
   ]
  },
  {
   "cell_type": "code",
   "execution_count": 66,
   "metadata": {},
   "outputs": [],
   "source": [
    "png_mat <- png_mat*255"
   ]
  },
  {
   "cell_type": "markdown",
   "metadata": {},
   "source": [
    "We extract RGB matrices:"
   ]
  },
  {
   "cell_type": "code",
   "execution_count": 67,
   "metadata": {},
   "outputs": [],
   "source": [
    "r_png_mat <- png_mat[, , 1]\n",
    "g_png_mat <- png_mat[, , 2]\n",
    "b_png_mat <- png_mat[, , 3]"
   ]
  },
  {
   "cell_type": "markdown",
   "metadata": {},
   "source": [
    "We convert RGB color values to hexadecimal format:"
   ]
  },
  {
   "cell_type": "code",
   "execution_count": 68,
   "metadata": {},
   "outputs": [],
   "source": [
    "hex_r_png_mat <- format(as.hexmode(r_png_mat), width = 2, upper.case = TRUE)\n",
    "hex_g_png_mat <- format(as.hexmode(g_png_mat), width = 2, upper.case = TRUE)\n",
    "hex_b_png_mat <- format(as.hexmode(b_png_mat), width = 2, upper.case = TRUE)"
   ]
  },
  {
   "cell_type": "markdown",
   "metadata": {},
   "source": [
    "G and B colors component were originally generated to be the same:"
   ]
  },
  {
   "cell_type": "code",
   "execution_count": 69,
   "metadata": {},
   "outputs": [
    {
     "data": {
      "text/html": [
       "TRUE"
      ],
      "text/latex": [
       "TRUE"
      ],
      "text/markdown": [
       "TRUE"
      ],
      "text/plain": [
       "[1] TRUE"
      ]
     },
     "metadata": {},
     "output_type": "display_data"
    }
   ],
   "source": [
    "# TRUE expected\n",
    "all(hex_g_png_mat == hex_b_png_mat)"
   ]
  },
  {
   "cell_type": "code",
   "execution_count": 70,
   "metadata": {},
   "outputs": [
    {
     "data": {
      "text/html": [
       "FALSE"
      ],
      "text/latex": [
       "FALSE"
      ],
      "text/markdown": [
       "FALSE"
      ],
      "text/plain": [
       "[1] FALSE"
      ]
     },
     "metadata": {},
     "output_type": "display_data"
    }
   ],
   "source": [
    "# FALSE expected\n",
    "all(hex_r_png_mat == hex_g_png_mat)"
   ]
  },
  {
   "cell_type": "markdown",
   "metadata": {},
   "source": [
    "We create RRGGBB (hexadecimal format) color value matrix:"
   ]
  },
  {
   "cell_type": "code",
   "execution_count": 71,
   "metadata": {},
   "outputs": [],
   "source": [
    "hex_rgb_png_mat <- paste0(\"#\", hex_r_png_mat, hex_g_png_mat, hex_b_png_mat)"
   ]
  },
  {
   "cell_type": "code",
   "execution_count": 72,
   "metadata": {},
   "outputs": [
    {
     "data": {
      "text/html": [
       "<ol class=list-inline>\n",
       "\t<li>'#A2B0B0'</li>\n",
       "\t<li>'#A2B0B0'</li>\n",
       "\t<li>'#6B3838'</li>\n",
       "\t<li>'#6B3838'</li>\n",
       "\t<li>'#CB9898'</li>\n",
       "\t<li>'#CB9898'</li>\n",
       "</ol>\n"
      ],
      "text/latex": [
       "\\begin{enumerate*}\n",
       "\\item '\\#A2B0B0'\n",
       "\\item '\\#A2B0B0'\n",
       "\\item '\\#6B3838'\n",
       "\\item '\\#6B3838'\n",
       "\\item '\\#CB9898'\n",
       "\\item '\\#CB9898'\n",
       "\\end{enumerate*}\n"
      ],
      "text/markdown": [
       "1. '#A2B0B0'\n",
       "2. '#A2B0B0'\n",
       "3. '#6B3838'\n",
       "4. '#6B3838'\n",
       "5. '#CB9898'\n",
       "6. '#CB9898'\n",
       "\n",
       "\n"
      ],
      "text/plain": [
       "[1] \"#A2B0B0\" \"#A2B0B0\" \"#6B3838\" \"#6B3838\" \"#CB9898\" \"#CB9898\""
      ]
     },
     "metadata": {},
     "output_type": "display_data"
    }
   ],
   "source": [
    "head(hex_rgb_png_mat)"
   ]
  },
  {
   "cell_type": "markdown",
   "metadata": {},
   "source": [
    "The discretized RRGGBB matrix contains one extra color (white background):"
   ]
  },
  {
   "cell_type": "code",
   "execution_count": 73,
   "metadata": {},
   "outputs": [
    {
     "data": {
      "text/html": [
       "7510"
      ],
      "text/latex": [
       "7510"
      ],
      "text/markdown": [
       "7510"
      ],
      "text/plain": [
       "[1] 7510"
      ]
     },
     "metadata": {},
     "output_type": "display_data"
    }
   ],
   "source": [
    "length(unique(hex_rgb_png_mat))"
   ]
  },
  {
   "cell_type": "code",
   "execution_count": 74,
   "metadata": {},
   "outputs": [
    {
     "data": {
      "text/html": [
       "'#FFFFFF'"
      ],
      "text/latex": [
       "'\\#FFFFFF'"
      ],
      "text/markdown": [
       "'#FFFFFF'"
      ],
      "text/plain": [
       "[1] \"#FFFFFF\""
      ]
     },
     "metadata": {},
     "output_type": "display_data"
    }
   ],
   "source": [
    "(back_col <- setdiff(unique(hex_rgb_png_mat), unique(df_res_pix$color)))"
   ]
  },
  {
   "cell_type": "markdown",
   "metadata": {},
   "source": [
    "We now create a color-gene mapping table, adding background color as the last row:"
   ]
  },
  {
   "cell_type": "code",
   "execution_count": 75,
   "metadata": {},
   "outputs": [],
   "source": [
    "color_gene <- data.frame(geneId = c(rownames(gene_color), back_col), stringsAsFactors = FALSE)\n",
    "rownames(color_gene) <- c(gene_color$color, back_col)"
   ]
  },
  {
   "cell_type": "code",
   "execution_count": 76,
   "metadata": {},
   "outputs": [
    {
     "data": {
      "text/html": [
       "<table>\n",
       "<caption>A data.frame: 6 × 1</caption>\n",
       "<thead>\n",
       "\t<tr><th></th><th scope=col>geneId</th></tr>\n",
       "\t<tr><th></th><th scope=col>&lt;chr&gt;</th></tr>\n",
       "</thead>\n",
       "<tbody>\n",
       "\t<tr><th scope=row>#EA8080</th><td>ENSG00000198692.9 </td></tr>\n",
       "\t<tr><th scope=row>#EA8888</th><td>ENSG00000105227.14</td></tr>\n",
       "\t<tr><th scope=row>#EA9090</th><td>ENSG00000164237.8 </td></tr>\n",
       "\t<tr><th scope=row>#EA9898</th><td>ENSG00000175048.16</td></tr>\n",
       "\t<tr><th scope=row>#EAA0A0</th><td>ENSG00000188706.12</td></tr>\n",
       "\t<tr><th scope=row>#FFFFFF</th><td>#FFFFFF           </td></tr>\n",
       "</tbody>\n",
       "</table>\n"
      ],
      "text/latex": [
       "A data.frame: 6 × 1\n",
       "\\begin{tabular}{r|l}\n",
       "  & geneId\\\\\n",
       "  & <chr>\\\\\n",
       "\\hline\n",
       "\t\\#EA8080 & ENSG00000198692.9 \\\\\n",
       "\t\\#EA8888 & ENSG00000105227.14\\\\\n",
       "\t\\#EA9090 & ENSG00000164237.8 \\\\\n",
       "\t\\#EA9898 & ENSG00000175048.16\\\\\n",
       "\t\\#EAA0A0 & ENSG00000188706.12\\\\\n",
       "\t\\#FFFFFF & \\#FFFFFF           \\\\\n",
       "\\end{tabular}\n"
      ],
      "text/markdown": [
       "\n",
       "A data.frame: 6 × 1\n",
       "\n",
       "| <!--/--> | geneId &lt;chr&gt; |\n",
       "|---|---|\n",
       "| #EA8080 | ENSG00000198692.9  |\n",
       "| #EA8888 | ENSG00000105227.14 |\n",
       "| #EA9090 | ENSG00000164237.8  |\n",
       "| #EA9898 | ENSG00000175048.16 |\n",
       "| #EAA0A0 | ENSG00000188706.12 |\n",
       "| #FFFFFF | #FFFFFF            |\n",
       "\n"
      ],
      "text/plain": [
       "        geneId            \n",
       "#EA8080 ENSG00000198692.9 \n",
       "#EA8888 ENSG00000105227.14\n",
       "#EA9090 ENSG00000164237.8 \n",
       "#EA9898 ENSG00000175048.16\n",
       "#EAA0A0 ENSG00000188706.12\n",
       "#FFFFFF #FFFFFF           "
      ]
     },
     "metadata": {},
     "output_type": "display_data"
    }
   ],
   "source": [
    "tail(color_gene)"
   ]
  },
  {
   "cell_type": "markdown",
   "metadata": {},
   "source": [
    "Finally, we create the template matrix, mapping the colors from the RRGGBB color value matrix to genes:"
   ]
  },
  {
   "cell_type": "code",
   "execution_count": 77,
   "metadata": {},
   "outputs": [],
   "source": [
    "gene_treemap <- matrix(color_gene[hex_rgb_png_mat, \"geneId\"], nrow = n_row, ncol = n_col, byrow = FALSE)"
   ]
  },
  {
   "cell_type": "markdown",
   "metadata": {},
   "source": [
    "The template matrix also contains one extra color corresponding to background:"
   ]
  },
  {
   "cell_type": "code",
   "execution_count": 78,
   "metadata": {},
   "outputs": [
    {
     "data": {
      "text/html": [
       "7510"
      ],
      "text/latex": [
       "7510"
      ],
      "text/markdown": [
       "7510"
      ],
      "text/plain": [
       "[1] 7510"
      ]
     },
     "metadata": {},
     "output_type": "display_data"
    }
   ],
   "source": [
    "length(unique(as.character(gene_treemap)))"
   ]
  },
  {
   "cell_type": "code",
   "execution_count": 79,
   "metadata": {},
   "outputs": [
    {
     "data": {
      "text/html": [
       "'#FFFFFF'"
      ],
      "text/latex": [
       "'\\#FFFFFF'"
      ],
      "text/markdown": [
       "'#FFFFFF'"
      ],
      "text/plain": [
       "[1] \"#FFFFFF\""
      ]
     },
     "metadata": {},
     "output_type": "display_data"
    }
   ],
   "source": [
    "setdiff(unique(as.character(gene_treemap)), gene)"
   ]
  },
  {
   "cell_type": "code",
   "execution_count": 80,
   "metadata": {},
   "outputs": [
    {
     "data": {
      "text/html": [
       "<table>\n",
       "<caption>A matrix: 4 × 2 of type int</caption>\n",
       "<thead>\n",
       "\t<tr><th scope=col>row</th><th scope=col>col</th></tr>\n",
       "</thead>\n",
       "<tbody>\n",
       "\t<tr><td>23</td><td>61</td></tr>\n",
       "\t<tr><td>24</td><td>61</td></tr>\n",
       "\t<tr><td>25</td><td>57</td></tr>\n",
       "\t<tr><td>26</td><td>57</td></tr>\n",
       "</tbody>\n",
       "</table>\n"
      ],
      "text/latex": [
       "A matrix: 4 × 2 of type int\n",
       "\\begin{tabular}{ll}\n",
       " row & col\\\\\n",
       "\\hline\n",
       "\t 23 & 61\\\\\n",
       "\t 24 & 61\\\\\n",
       "\t 25 & 57\\\\\n",
       "\t 26 & 57\\\\\n",
       "\\end{tabular}\n"
      ],
      "text/markdown": [
       "\n",
       "A matrix: 4 × 2 of type int\n",
       "\n",
       "| row | col |\n",
       "|---|---|\n",
       "| 23 | 61 |\n",
       "| 24 | 61 |\n",
       "| 25 | 57 |\n",
       "| 26 | 57 |\n",
       "\n"
      ],
      "text/plain": [
       "     row col\n",
       "[1,] 23  61 \n",
       "[2,] 24  61 \n",
       "[3,] 25  57 \n",
       "[4,] 26  57 "
      ]
     },
     "metadata": {},
     "output_type": "display_data"
    }
   ],
   "source": [
    "back_pos <- which(gene_treemap==\"#FFFFFF\", arr.ind = TRUE)\n",
    "back_pos[order(back_pos[, \"row\"], back_pos[, \"col\"]), ]"
   ]
  },
  {
   "cell_type": "code",
   "execution_count": 81,
   "metadata": {},
   "outputs": [
    {
     "data": {
      "text/html": [
       "<table>\n",
       "<caption>A matrix: 6 × 175 of type chr</caption>\n",
       "<tbody>\n",
       "\t<tr><td>ENSG00000163914.4</td><td>ENSG00000163914.4</td><td>ENSG00000124721.17</td><td>ENSG00000124721.17</td><td>ENSG00000102539.5 </td><td>ENSG00000102539.5 </td><td>ENSG00000116981.3 </td><td>ENSG00000116981.3 </td><td>ENSG00000127530.2 </td><td>ENSG00000127530.2 </td><td>⋯</td><td>ENSG00000169856.8</td><td>ENSG00000169856.8</td><td>ENSG00000185198.11</td><td>ENSG00000185198.11</td><td>ENSG00000152086.8 </td><td>ENSG00000152086.8 </td><td>ENSG00000143595.12</td><td>ENSG00000143595.12</td><td>ENSG00000107831.12</td><td>ENSG00000107831.12</td></tr>\n",
       "\t<tr><td>ENSG00000163914.4</td><td>ENSG00000163914.4</td><td>ENSG00000124721.17</td><td>ENSG00000124721.17</td><td>ENSG00000102539.5 </td><td>ENSG00000102539.5 </td><td>ENSG00000116981.3 </td><td>ENSG00000116981.3 </td><td>ENSG00000127530.2 </td><td>ENSG00000127530.2 </td><td>⋯</td><td>ENSG00000169856.8</td><td>ENSG00000169856.8</td><td>ENSG00000185198.11</td><td>ENSG00000185198.11</td><td>ENSG00000152086.8 </td><td>ENSG00000152086.8 </td><td>ENSG00000143595.12</td><td>ENSG00000143595.12</td><td>ENSG00000107831.12</td><td>ENSG00000107831.12</td></tr>\n",
       "\t<tr><td>ENSG00000206181.5</td><td>ENSG00000206181.5</td><td>ENSG00000120903.10</td><td>ENSG00000120903.10</td><td>ENSG00000103355.12</td><td>ENSG00000103355.12</td><td>ENSG00000169306.9 </td><td>ENSG00000169306.9 </td><td>ENSG00000101204.15</td><td>ENSG00000101204.15</td><td>⋯</td><td>ENSG00000095627.9</td><td>ENSG00000095627.9</td><td>ENSG00000168748.13</td><td>ENSG00000168748.13</td><td>ENSG00000204613.10</td><td>ENSG00000204613.10</td><td>ENSG00000266265.2 </td><td>ENSG00000266265.2 </td><td>ENSG00000196415.9 </td><td>ENSG00000196415.9 </td></tr>\n",
       "\t<tr><td>ENSG00000206181.5</td><td>ENSG00000206181.5</td><td>ENSG00000120903.10</td><td>ENSG00000120903.10</td><td>ENSG00000103355.12</td><td>ENSG00000103355.12</td><td>ENSG00000169306.9 </td><td>ENSG00000169306.9 </td><td>ENSG00000101204.15</td><td>ENSG00000101204.15</td><td>⋯</td><td>ENSG00000095627.9</td><td>ENSG00000095627.9</td><td>ENSG00000168748.13</td><td>ENSG00000168748.13</td><td>ENSG00000204613.10</td><td>ENSG00000204613.10</td><td>ENSG00000266265.2 </td><td>ENSG00000266265.2 </td><td>ENSG00000196415.9 </td><td>ENSG00000196415.9 </td></tr>\n",
       "\t<tr><td>ENSG00000154997.8</td><td>ENSG00000154997.8</td><td>ENSG00000198788.8 </td><td>ENSG00000198788.8 </td><td>ENSG00000004939.13</td><td>ENSG00000004939.13</td><td>ENSG00000036565.14</td><td>ENSG00000036565.14</td><td>ENSG00000170893.3 </td><td>ENSG00000170893.3 </td><td>⋯</td><td>ENSG00000259112.1</td><td>ENSG00000259112.1</td><td>ENSG00000145087.12</td><td>ENSG00000145087.12</td><td>ENSG00000113262.14</td><td>ENSG00000113262.14</td><td>ENSG00000137860.11</td><td>ENSG00000137860.11</td><td>ENSG00000154620.5 </td><td>ENSG00000154620.5 </td></tr>\n",
       "\t<tr><td>ENSG00000154997.8</td><td>ENSG00000154997.8</td><td>ENSG00000198788.8 </td><td>ENSG00000198788.8 </td><td>ENSG00000004939.13</td><td>ENSG00000004939.13</td><td>ENSG00000036565.14</td><td>ENSG00000036565.14</td><td>ENSG00000170893.3 </td><td>ENSG00000170893.3 </td><td>⋯</td><td>ENSG00000259112.1</td><td>ENSG00000259112.1</td><td>ENSG00000145087.12</td><td>ENSG00000145087.12</td><td>ENSG00000113262.14</td><td>ENSG00000113262.14</td><td>ENSG00000137860.11</td><td>ENSG00000137860.11</td><td>ENSG00000154620.5 </td><td>ENSG00000154620.5 </td></tr>\n",
       "</tbody>\n",
       "</table>\n"
      ],
      "text/latex": [
       "A matrix: 6 × 175 of type chr\n",
       "\\begin{tabular}{lllllllllllllllllllllllllllllllllllllllllllllllllllllllllllllllllllllllllllllllllllllllllllllllllllllllllllllllllllllllllllllllllllllllllllllllllllllllllllllllllllllllllllllll}\n",
       "\t ENSG00000163914.4 & ENSG00000163914.4 & ENSG00000124721.17 & ENSG00000124721.17 & ENSG00000102539.5  & ENSG00000102539.5  & ENSG00000116981.3  & ENSG00000116981.3  & ENSG00000127530.2  & ENSG00000127530.2  & ENSG00000174225.14 & ENSG00000174225.14 & ENSG00000164270.17 & ENSG00000164270.17 & ENSG00000143921.6  & ENSG00000143921.6  & ENSG00000140506.16 & ENSG00000140506.16 & ENSG00000166603.4  & ENSG00000166603.4  & ENSG00000104938.16 & ENSG00000104938.16 & ENSG00000122375.11 & ENSG00000122375.11 & ENSG00000187054.14 & ENSG00000187054.14 & ENSG00000089116.3 & ENSG00000089116.3 & ENSG00000204961.6  & ENSG00000204961.6  & ENSG00000152592.13 & ENSG00000152592.13 & ENSG00000167910.3  & ENSG00000167910.3  & ENSG00000197177.15 & ENSG00000197177.15 & ENSG00000121764.11 & ENSG00000121764.11 & ENSG00000042781.12 & ENSG00000042781.12 & ENSG00000144119.3  & ENSG00000144119.3  & ENSG00000164796.17 & ENSG00000164796.17 & ENSG00000152208.11 & ENSG00000152208.11 & ENSG00000231861.2 & ENSG00000231861.2 & ENSG00000081138.13 & ENSG00000081138.13 & ENSG00000106302.9 & ENSG00000106302.9 & ENSG00000111262.4  & ENSG00000111262.4  & ENSG00000120436.3  & ENSG00000120436.3  & ENSG00000203859.9 & ENSG00000203859.9 & ENSG00000167941.2  & ENSG00000167941.2  & ENSG00000205927.4  & ENSG00000205927.4  & ENSG00000036828.13 & ENSG00000036828.13 & ENSG00000197893.13 & ENSG00000197893.13 & ENSG00000168509.17 & ENSG00000168509.17 & ENSG00000111704.10 & ENSG00000111704.10 & ENSG00000167580.7  & ENSG00000167580.7  & ENSG00000171496.3  & ENSG00000171496.3  & ENSG00000164393.8  & ENSG00000164393.8  & ENSG00000229544.8 & ENSG00000229544.8 & ENSG00000176040.13 & ENSG00000176040.13 & ENSG00000273274.1  & ENSG00000273274.1  & ENSG00000170054.14 & ENSG00000170054.14 & ENSG00000136931.9  & ENSG00000136931.9  & ENSG00000136931.9  & ENSG00000116745.6  & ENSG00000116745.6  & ENSG00000274933.4  & ENSG00000274933.4  & ENSG00000162753.11 & ENSG00000162753.11 & ENSG00000280604.1  & ENSG00000280604.1  & ENSG00000184350.9  & ENSG00000184350.9  & ENSG00000182393.2 & ENSG00000182393.2 & ENSG00000163288.13 & ENSG00000163288.13 & ENSG00000162344.3  & ENSG00000162344.3  & ENSG00000181408.3  & ENSG00000181408.3  & ENSG00000144820.7  & ENSG00000144820.7  & ENSG00000169618.6  & ENSG00000169618.6  & ENSG00000092054.12 & ENSG00000092054.12 & ENSG00000143552.9  & ENSG00000143552.9  & ENSG00000077279.16 & ENSG00000077279.16 & ENSG00000159650.8  & ENSG00000159650.8  & ENSG00000109991.8  & ENSG00000109991.8  & ENSG00000125813.13 & ENSG00000125813.13 & ENSG00000171403.9  & ENSG00000171403.9  & ENSG00000100652.4  & ENSG00000100652.4  & ENSG00000162365.11 & ENSG00000162365.11 & ENSG00000158748.3  & ENSG00000158748.3  & ENSG00000030304.12 & ENSG00000030304.12 & ENSG00000185942.11 & ENSG00000185942.11 & ENSG00000167800.9  & ENSG00000167800.9  & ENSG00000165553.4  & ENSG00000165553.4  & ENSG00000138675.16 & ENSG00000138675.16 & ENSG00000198488.10 & ENSG00000198488.10 & ENSG00000145451.12 & ENSG00000145451.12 & ENSG00000154162.13 & ENSG00000154162.13 & ENSG00000171872.4  & ENSG00000171872.4  & ENSG00000182156.9 & ENSG00000182156.9 & ENSG00000162594.14 & ENSG00000162594.14 & ENSG00000132693.12 & ENSG00000132693.12 & ENSG00000133115.11 & ENSG00000133115.11 & ENSG00000163497.2 & ENSG00000163497.2 & ENSG00000151812.14 & ENSG00000151812.14 & ENSG00000215475.4  & ENSG00000215475.4  & ENSG00000111783.12 & ENSG00000111783.12 & ENSG00000140093.9 & ENSG00000140093.9 & ENSG00000169856.8 & ENSG00000169856.8 & ENSG00000185198.11 & ENSG00000185198.11 & ENSG00000152086.8  & ENSG00000152086.8  & ENSG00000143595.12 & ENSG00000143595.12 & ENSG00000107831.12 & ENSG00000107831.12\\\\\n",
       "\t ENSG00000163914.4 & ENSG00000163914.4 & ENSG00000124721.17 & ENSG00000124721.17 & ENSG00000102539.5  & ENSG00000102539.5  & ENSG00000116981.3  & ENSG00000116981.3  & ENSG00000127530.2  & ENSG00000127530.2  & ENSG00000174225.14 & ENSG00000174225.14 & ENSG00000164270.17 & ENSG00000164270.17 & ENSG00000143921.6  & ENSG00000143921.6  & ENSG00000140506.16 & ENSG00000140506.16 & ENSG00000166603.4  & ENSG00000166603.4  & ENSG00000104938.16 & ENSG00000104938.16 & ENSG00000122375.11 & ENSG00000122375.11 & ENSG00000187054.14 & ENSG00000187054.14 & ENSG00000089116.3 & ENSG00000089116.3 & ENSG00000204961.6  & ENSG00000204961.6  & ENSG00000152592.13 & ENSG00000152592.13 & ENSG00000167910.3  & ENSG00000167910.3  & ENSG00000197177.15 & ENSG00000197177.15 & ENSG00000121764.11 & ENSG00000121764.11 & ENSG00000042781.12 & ENSG00000042781.12 & ENSG00000144119.3  & ENSG00000144119.3  & ENSG00000164796.17 & ENSG00000164796.17 & ENSG00000152208.11 & ENSG00000152208.11 & ENSG00000231861.2 & ENSG00000231861.2 & ENSG00000081138.13 & ENSG00000081138.13 & ENSG00000106302.9 & ENSG00000106302.9 & ENSG00000111262.4  & ENSG00000111262.4  & ENSG00000120436.3  & ENSG00000120436.3  & ENSG00000203859.9 & ENSG00000203859.9 & ENSG00000167941.2  & ENSG00000167941.2  & ENSG00000205927.4  & ENSG00000205927.4  & ENSG00000036828.13 & ENSG00000036828.13 & ENSG00000197893.13 & ENSG00000197893.13 & ENSG00000168509.17 & ENSG00000168509.17 & ENSG00000111704.10 & ENSG00000111704.10 & ENSG00000167580.7  & ENSG00000167580.7  & ENSG00000171496.3  & ENSG00000171496.3  & ENSG00000164393.8  & ENSG00000164393.8  & ENSG00000229544.8 & ENSG00000229544.8 & ENSG00000176040.13 & ENSG00000176040.13 & ENSG00000273274.1  & ENSG00000273274.1  & ENSG00000170054.14 & ENSG00000170054.14 & ENSG00000136931.9  & ENSG00000136931.9  & ENSG00000136931.9  & ENSG00000116745.6  & ENSG00000116745.6  & ENSG00000274933.4  & ENSG00000274933.4  & ENSG00000162753.11 & ENSG00000162753.11 & ENSG00000280604.1  & ENSG00000280604.1  & ENSG00000184350.9  & ENSG00000184350.9  & ENSG00000182393.2 & ENSG00000182393.2 & ENSG00000163288.13 & ENSG00000163288.13 & ENSG00000162344.3  & ENSG00000162344.3  & ENSG00000181408.3  & ENSG00000181408.3  & ENSG00000144820.7  & ENSG00000144820.7  & ENSG00000169618.6  & ENSG00000169618.6  & ENSG00000092054.12 & ENSG00000092054.12 & ENSG00000143552.9  & ENSG00000143552.9  & ENSG00000077279.16 & ENSG00000077279.16 & ENSG00000159650.8  & ENSG00000159650.8  & ENSG00000109991.8  & ENSG00000109991.8  & ENSG00000125813.13 & ENSG00000125813.13 & ENSG00000171403.9  & ENSG00000171403.9  & ENSG00000100652.4  & ENSG00000100652.4  & ENSG00000162365.11 & ENSG00000162365.11 & ENSG00000158748.3  & ENSG00000158748.3  & ENSG00000030304.12 & ENSG00000030304.12 & ENSG00000185942.11 & ENSG00000185942.11 & ENSG00000167800.9  & ENSG00000167800.9  & ENSG00000165553.4  & ENSG00000165553.4  & ENSG00000138675.16 & ENSG00000138675.16 & ENSG00000198488.10 & ENSG00000198488.10 & ENSG00000145451.12 & ENSG00000145451.12 & ENSG00000154162.13 & ENSG00000154162.13 & ENSG00000171872.4  & ENSG00000171872.4  & ENSG00000182156.9 & ENSG00000182156.9 & ENSG00000162594.14 & ENSG00000162594.14 & ENSG00000132693.12 & ENSG00000132693.12 & ENSG00000133115.11 & ENSG00000133115.11 & ENSG00000163497.2 & ENSG00000163497.2 & ENSG00000151812.14 & ENSG00000151812.14 & ENSG00000215475.4  & ENSG00000215475.4  & ENSG00000111783.12 & ENSG00000111783.12 & ENSG00000140093.9 & ENSG00000140093.9 & ENSG00000169856.8 & ENSG00000169856.8 & ENSG00000185198.11 & ENSG00000185198.11 & ENSG00000152086.8  & ENSG00000152086.8  & ENSG00000143595.12 & ENSG00000143595.12 & ENSG00000107831.12 & ENSG00000107831.12\\\\\n",
       "\t ENSG00000206181.5 & ENSG00000206181.5 & ENSG00000120903.10 & ENSG00000120903.10 & ENSG00000103355.12 & ENSG00000103355.12 & ENSG00000169306.9  & ENSG00000169306.9  & ENSG00000101204.15 & ENSG00000101204.15 & ENSG00000036473.6  & ENSG00000036473.6  & ENSG00000187758.7  & ENSG00000187758.7  & ENSG00000140623.13 & ENSG00000140623.13 & ENSG00000120160.10 & ENSG00000120160.10 & ENSG00000198028.3  & ENSG00000198028.3  & ENSG00000186766.7  & ENSG00000186766.7  & ENSG00000118017.3  & ENSG00000118017.3  & ENSG00000008438.4  & ENSG00000008438.4  & ENSG00000139330.5 & ENSG00000139330.5 & ENSG00000168263.8  & ENSG00000168263.8  & ENSG00000172139.14 & ENSG00000172139.14 & ENSG00000248746.5  & ENSG00000248746.5  & ENSG00000160224.16 & ENSG00000160224.16 & ENSG00000165478.6  & ENSG00000165478.6  & ENSG00000145526.11 & ENSG00000145526.11 & ENSG00000185974.6  & ENSG00000185974.6  & ENSG00000184659.5  & ENSG00000184659.5  & ENSG00000135824.12 & ENSG00000135824.12 & ENSG00000162009.8 & ENSG00000162009.8 & ENSG00000121053.5  & ENSG00000121053.5  & ENSG00000214102.7 & ENSG00000214102.7 & ENSG00000164756.12 & ENSG00000164756.12 & ENSG00000091138.12 & ENSG00000091138.12 & ENSG00000186912.6 & ENSG00000186912.6 & ENSG00000074803.17 & ENSG00000074803.17 & ENSG00000105205.6  & ENSG00000105205.6  & ENSG00000153802.11 & ENSG00000153802.11 & ENSG00000135973.2  & ENSG00000135973.2  & ENSG00000091010.4  & ENSG00000091010.4  & ENSG00000188000.3  & ENSG00000188000.3  & ENSG00000182747.4  & ENSG00000182747.4  & ENSG00000137270.10 & ENSG00000137270.10 & ENSG00000255221.2  & ENSG00000255221.2  & ENSG00000184486.8 & ENSG00000184486.8 & ENSG00000149488.12 & ENSG00000149488.12 & ENSG00000256374.2  & ENSG00000256374.2  & ENSG00000125571.9  & ENSG00000125571.9  & ENSG00000112333.11 & ENSG00000112333.11 & ENSG00000112333.11 & ENSG00000141255.12 & ENSG00000141255.12 & ENSG00000269058.5  & ENSG00000269058.5  & ENSG00000127588.4  & ENSG00000127588.4  & ENSG00000221957.8  & ENSG00000221957.8  & ENSG00000176601.11 & ENSG00000176601.11 & ENSG00000188050.2 & ENSG00000188050.2 & ENSG00000185640.5  & ENSG00000185640.5  & ENSG00000186297.11 & ENSG00000186297.11 & ENSG00000106128.18 & ENSG00000106128.18 & ENSG00000185271.6  & ENSG00000185271.6  & ENSG00000204710.2  & ENSG00000204710.2  & ENSG00000135346.8  & ENSG00000135346.8  & ENSG00000180532.10 & ENSG00000180532.10 & ENSG00000104371.4  & ENSG00000104371.4  & ENSG00000118113.11 & ENSG00000118113.11 & ENSG00000142224.15 & ENSG00000142224.15 & ENSG00000113889.11 & ENSG00000113889.11 & ENSG00000273706.4  & ENSG00000273706.4  & ENSG00000164049.14 & ENSG00000164049.14 & ENSG00000174963.17 & ENSG00000174963.17 & ENSG00000198633.10 & ENSG00000198633.10 & ENSG00000169900.7  & ENSG00000169900.7  & ENSG00000105143.12 & ENSG00000105143.12 & ENSG00000167654.17 & ENSG00000167654.17 & ENSG00000198822.10 & ENSG00000198822.10 & ENSG00000155897.9  & ENSG00000155897.9  & ENSG00000134160.13 & ENSG00000134160.13 & ENSG00000171431.3  & ENSG00000171431.3  & ENSG00000182450.12 & ENSG00000182450.12 & ENSG00000139445.17 & ENSG00000139445.17 & ENSG00000125207.7 & ENSG00000125207.7 & ENSG00000175311.6  & ENSG00000175311.6  & ENSG00000249715.9  & ENSG00000249715.9  & ENSG00000170523.3  & ENSG00000170523.3  & ENSG00000258806.1 & ENSG00000258806.1 & ENSG00000204544.5  & ENSG00000204544.5  & ENSG00000168158.3  & ENSG00000168158.3  & ENSG00000162891.10 & ENSG00000162891.10 & ENSG00000213578.5 & ENSG00000213578.5 & ENSG00000095627.9 & ENSG00000095627.9 & ENSG00000168748.13 & ENSG00000168748.13 & ENSG00000204613.10 & ENSG00000204613.10 & ENSG00000266265.2  & ENSG00000266265.2  & ENSG00000196415.9  & ENSG00000196415.9 \\\\\n",
       "\t ENSG00000206181.5 & ENSG00000206181.5 & ENSG00000120903.10 & ENSG00000120903.10 & ENSG00000103355.12 & ENSG00000103355.12 & ENSG00000169306.9  & ENSG00000169306.9  & ENSG00000101204.15 & ENSG00000101204.15 & ENSG00000036473.6  & ENSG00000036473.6  & ENSG00000187758.7  & ENSG00000187758.7  & ENSG00000140623.13 & ENSG00000140623.13 & ENSG00000120160.10 & ENSG00000120160.10 & ENSG00000198028.3  & ENSG00000198028.3  & ENSG00000186766.7  & ENSG00000186766.7  & ENSG00000118017.3  & ENSG00000118017.3  & ENSG00000008438.4  & ENSG00000008438.4  & ENSG00000139330.5 & ENSG00000139330.5 & ENSG00000168263.8  & ENSG00000168263.8  & ENSG00000172139.14 & ENSG00000172139.14 & ENSG00000248746.5  & ENSG00000248746.5  & ENSG00000160224.16 & ENSG00000160224.16 & ENSG00000165478.6  & ENSG00000165478.6  & ENSG00000145526.11 & ENSG00000145526.11 & ENSG00000185974.6  & ENSG00000185974.6  & ENSG00000184659.5  & ENSG00000184659.5  & ENSG00000135824.12 & ENSG00000135824.12 & ENSG00000162009.8 & ENSG00000162009.8 & ENSG00000121053.5  & ENSG00000121053.5  & ENSG00000214102.7 & ENSG00000214102.7 & ENSG00000164756.12 & ENSG00000164756.12 & ENSG00000091138.12 & ENSG00000091138.12 & ENSG00000186912.6 & ENSG00000186912.6 & ENSG00000074803.17 & ENSG00000074803.17 & ENSG00000105205.6  & ENSG00000105205.6  & ENSG00000153802.11 & ENSG00000153802.11 & ENSG00000135973.2  & ENSG00000135973.2  & ENSG00000091010.4  & ENSG00000091010.4  & ENSG00000188000.3  & ENSG00000188000.3  & ENSG00000182747.4  & ENSG00000182747.4  & ENSG00000137270.10 & ENSG00000137270.10 & ENSG00000255221.2  & ENSG00000255221.2  & ENSG00000184486.8 & ENSG00000184486.8 & ENSG00000149488.12 & ENSG00000149488.12 & ENSG00000256374.2  & ENSG00000256374.2  & ENSG00000125571.9  & ENSG00000125571.9  & ENSG00000112333.11 & ENSG00000112333.11 & ENSG00000112333.11 & ENSG00000141255.12 & ENSG00000141255.12 & ENSG00000269058.5  & ENSG00000269058.5  & ENSG00000127588.4  & ENSG00000127588.4  & ENSG00000221957.8  & ENSG00000221957.8  & ENSG00000176601.11 & ENSG00000176601.11 & ENSG00000188050.2 & ENSG00000188050.2 & ENSG00000185640.5  & ENSG00000185640.5  & ENSG00000186297.11 & ENSG00000186297.11 & ENSG00000106128.18 & ENSG00000106128.18 & ENSG00000185271.6  & ENSG00000185271.6  & ENSG00000204710.2  & ENSG00000204710.2  & ENSG00000135346.8  & ENSG00000135346.8  & ENSG00000180532.10 & ENSG00000180532.10 & ENSG00000104371.4  & ENSG00000104371.4  & ENSG00000118113.11 & ENSG00000118113.11 & ENSG00000142224.15 & ENSG00000142224.15 & ENSG00000113889.11 & ENSG00000113889.11 & ENSG00000273706.4  & ENSG00000273706.4  & ENSG00000164049.14 & ENSG00000164049.14 & ENSG00000174963.17 & ENSG00000174963.17 & ENSG00000198633.10 & ENSG00000198633.10 & ENSG00000169900.7  & ENSG00000169900.7  & ENSG00000105143.12 & ENSG00000105143.12 & ENSG00000167654.17 & ENSG00000167654.17 & ENSG00000198822.10 & ENSG00000198822.10 & ENSG00000155897.9  & ENSG00000155897.9  & ENSG00000134160.13 & ENSG00000134160.13 & ENSG00000171431.3  & ENSG00000171431.3  & ENSG00000182450.12 & ENSG00000182450.12 & ENSG00000139445.17 & ENSG00000139445.17 & ENSG00000125207.7 & ENSG00000125207.7 & ENSG00000175311.6  & ENSG00000175311.6  & ENSG00000249715.9  & ENSG00000249715.9  & ENSG00000170523.3  & ENSG00000170523.3  & ENSG00000258806.1 & ENSG00000258806.1 & ENSG00000204544.5  & ENSG00000204544.5  & ENSG00000168158.3  & ENSG00000168158.3  & ENSG00000162891.10 & ENSG00000162891.10 & ENSG00000213578.5 & ENSG00000213578.5 & ENSG00000095627.9 & ENSG00000095627.9 & ENSG00000168748.13 & ENSG00000168748.13 & ENSG00000204613.10 & ENSG00000204613.10 & ENSG00000266265.2  & ENSG00000266265.2  & ENSG00000196415.9  & ENSG00000196415.9 \\\\\n",
       "\t ENSG00000154997.8 & ENSG00000154997.8 & ENSG00000198788.8  & ENSG00000198788.8  & ENSG00000004939.13 & ENSG00000004939.13 & ENSG00000036565.14 & ENSG00000036565.14 & ENSG00000170893.3  & ENSG00000170893.3  & ENSG00000183148.6  & ENSG00000183148.6  & ENSG00000123977.9  & ENSG00000123977.9  & ENSG00000109272.3  & ENSG00000109272.3  & ENSG00000177238.13 & ENSG00000177238.13 & ENSG00000152822.13 & ENSG00000152822.13 & ENSG00000172482.4  & ENSG00000172482.4  & ENSG00000167858.12 & ENSG00000167858.12 & ENSG00000136695.14 & ENSG00000136695.14 & ENSG00000249884.8 & ENSG00000249884.8 & ENSG00000004846.16 & ENSG00000004846.16 & ENSG00000214510.9  & ENSG00000214510.9  & ENSG00000122852.14 & ENSG00000122852.14 & ENSG00000077800.11 & ENSG00000077800.11 & ENSG00000178732.5  & ENSG00000178732.5  & ENSG00000119283.15 & ENSG00000119283.15 & ENSG00000186471.12 & ENSG00000186471.12 & ENSG00000269421.1  & ENSG00000269421.1  & ENSG00000111305.18 & ENSG00000111305.18 & ENSG00000277745.1 & ENSG00000277745.1 & ENSG00000205111.8  & ENSG00000205111.8  & ENSG00000086506.2 & ENSG00000086506.2 & ENSG00000188089.13 & ENSG00000188089.13 & ENSG00000180210.14 & ENSG00000180210.14 & ENSG00000281796.1 & ENSG00000281796.1 & ENSG00000243772.6  & ENSG00000243772.6  & ENSG00000100987.14 & ENSG00000100987.14 & ENSG00000189108.12 & ENSG00000189108.12 & ENSG00000108878.4  & ENSG00000108878.4  & ENSG00000112499.12 & ENSG00000112499.12 & ENSG00000214814.6  & ENSG00000214814.6  & ENSG00000126337.13 & ENSG00000126337.13 & ENSG00000142700.11 & ENSG00000142700.11 & ENSG00000196277.15 & ENSG00000196277.15 & ENSG00000171989.5 & ENSG00000171989.5 & ENSG00000100665.11 & ENSG00000100665.11 & ENSG00000146276.11 & ENSG00000146276.11 & ENSG00000113073.14 & ENSG00000113073.14 & ENSG00000113073.14 & ENSG00000164129.11 & ENSG00000164129.11 & ENSG00000180318.3  & ENSG00000180318.3  & ENSG00000133742.13 & ENSG00000133742.13 & ENSG00000142515.14 & ENSG00000142515.14 & ENSG00000157851.16 & ENSG00000157851.16 & ENSG00000256660.5  & ENSG00000256660.5  & ENSG00000181074.3 & ENSG00000181074.3 & ENSG00000205810.8  & ENSG00000205810.8  & ENSG00000056291.17 & ENSG00000056291.17 & ENSG00000198211.8  & ENSG00000198211.8  & ENSG00000196660.10 & ENSG00000196660.10 & ENSG00000102145.13 & ENSG00000102145.13 & ENSG00000183638.5  & ENSG00000183638.5  & ENSG00000107807.12 & ENSG00000107807.12 & ENSG00000007001.12 & ENSG00000007001.12 & ENSG00000249853.7  & ENSG00000249853.7  & ENSG00000221932.6  & ENSG00000221932.6  & ENSG00000139973.15 & ENSG00000139973.15 & ENSG00000176358.15 & ENSG00000176358.15 & ENSG00000241635.7  & ENSG00000241635.7  & ENSG00000168135.4  & ENSG00000168135.4  & ENSG00000188394.6  & ENSG00000188394.6  & ENSG00000165702.12 & ENSG00000165702.12 & ENSG00000163554.11 & ENSG00000163554.11 & ENSG00000186910.3  & ENSG00000186910.3  & ENSG00000204086.4  & ENSG00000204086.4  & ENSG00000136099.13 & ENSG00000136099.13 & ENSG00000163218.14 & ENSG00000163218.14 & ENSG00000138083.4  & ENSG00000138083.4  & ENSG00000109163.6  & ENSG00000109163.6  & ENSG00000183760.10 & ENSG00000183760.10 & ENSG00000188822.7 & ENSG00000188822.7 & ENSG00000214534.4  & ENSG00000214534.4  & ENSG00000231274.5  & ENSG00000231274.5  & ENSG00000269502.5  & ENSG00000269502.5  & ENSG00000257743.8 & ENSG00000257743.8 & ENSG00000159723.4  & ENSG00000159723.4  & ENSG00000164411.10 & ENSG00000164411.10 & ENSG00000156564.8  & ENSG00000156564.8  & ENSG00000052850.5 & ENSG00000052850.5 & ENSG00000259112.1 & ENSG00000259112.1 & ENSG00000145087.12 & ENSG00000145087.12 & ENSG00000113262.14 & ENSG00000113262.14 & ENSG00000137860.11 & ENSG00000137860.11 & ENSG00000154620.5  & ENSG00000154620.5 \\\\\n",
       "\t ENSG00000154997.8 & ENSG00000154997.8 & ENSG00000198788.8  & ENSG00000198788.8  & ENSG00000004939.13 & ENSG00000004939.13 & ENSG00000036565.14 & ENSG00000036565.14 & ENSG00000170893.3  & ENSG00000170893.3  & ENSG00000183148.6  & ENSG00000183148.6  & ENSG00000123977.9  & ENSG00000123977.9  & ENSG00000109272.3  & ENSG00000109272.3  & ENSG00000177238.13 & ENSG00000177238.13 & ENSG00000152822.13 & ENSG00000152822.13 & ENSG00000172482.4  & ENSG00000172482.4  & ENSG00000167858.12 & ENSG00000167858.12 & ENSG00000136695.14 & ENSG00000136695.14 & ENSG00000249884.8 & ENSG00000249884.8 & ENSG00000004846.16 & ENSG00000004846.16 & ENSG00000214510.9  & ENSG00000214510.9  & ENSG00000122852.14 & ENSG00000122852.14 & ENSG00000077800.11 & ENSG00000077800.11 & ENSG00000178732.5  & ENSG00000178732.5  & ENSG00000119283.15 & ENSG00000119283.15 & ENSG00000186471.12 & ENSG00000186471.12 & ENSG00000269421.1  & ENSG00000269421.1  & ENSG00000111305.18 & ENSG00000111305.18 & ENSG00000277745.1 & ENSG00000277745.1 & ENSG00000205111.8  & ENSG00000205111.8  & ENSG00000086506.2 & ENSG00000086506.2 & ENSG00000188089.13 & ENSG00000188089.13 & ENSG00000180210.14 & ENSG00000180210.14 & ENSG00000281796.1 & ENSG00000281796.1 & ENSG00000243772.6  & ENSG00000243772.6  & ENSG00000100987.14 & ENSG00000100987.14 & ENSG00000189108.12 & ENSG00000189108.12 & ENSG00000108878.4  & ENSG00000108878.4  & ENSG00000112499.12 & ENSG00000112499.12 & ENSG00000214814.6  & ENSG00000214814.6  & ENSG00000126337.13 & ENSG00000126337.13 & ENSG00000142700.11 & ENSG00000142700.11 & ENSG00000196277.15 & ENSG00000196277.15 & ENSG00000171989.5 & ENSG00000171989.5 & ENSG00000100665.11 & ENSG00000100665.11 & ENSG00000146276.11 & ENSG00000146276.11 & ENSG00000113073.14 & ENSG00000113073.14 & ENSG00000113073.14 & ENSG00000164129.11 & ENSG00000164129.11 & ENSG00000180318.3  & ENSG00000180318.3  & ENSG00000133742.13 & ENSG00000133742.13 & ENSG00000142515.14 & ENSG00000142515.14 & ENSG00000157851.16 & ENSG00000157851.16 & ENSG00000256660.5  & ENSG00000256660.5  & ENSG00000181074.3 & ENSG00000181074.3 & ENSG00000205810.8  & ENSG00000205810.8  & ENSG00000056291.17 & ENSG00000056291.17 & ENSG00000198211.8  & ENSG00000198211.8  & ENSG00000196660.10 & ENSG00000196660.10 & ENSG00000102145.13 & ENSG00000102145.13 & ENSG00000183638.5  & ENSG00000183638.5  & ENSG00000107807.12 & ENSG00000107807.12 & ENSG00000007001.12 & ENSG00000007001.12 & ENSG00000249853.7  & ENSG00000249853.7  & ENSG00000221932.6  & ENSG00000221932.6  & ENSG00000139973.15 & ENSG00000139973.15 & ENSG00000176358.15 & ENSG00000176358.15 & ENSG00000241635.7  & ENSG00000241635.7  & ENSG00000168135.4  & ENSG00000168135.4  & ENSG00000188394.6  & ENSG00000188394.6  & ENSG00000165702.12 & ENSG00000165702.12 & ENSG00000163554.11 & ENSG00000163554.11 & ENSG00000186910.3  & ENSG00000186910.3  & ENSG00000204086.4  & ENSG00000204086.4  & ENSG00000136099.13 & ENSG00000136099.13 & ENSG00000163218.14 & ENSG00000163218.14 & ENSG00000138083.4  & ENSG00000138083.4  & ENSG00000109163.6  & ENSG00000109163.6  & ENSG00000183760.10 & ENSG00000183760.10 & ENSG00000188822.7 & ENSG00000188822.7 & ENSG00000214534.4  & ENSG00000214534.4  & ENSG00000231274.5  & ENSG00000231274.5  & ENSG00000269502.5  & ENSG00000269502.5  & ENSG00000257743.8 & ENSG00000257743.8 & ENSG00000159723.4  & ENSG00000159723.4  & ENSG00000164411.10 & ENSG00000164411.10 & ENSG00000156564.8  & ENSG00000156564.8  & ENSG00000052850.5 & ENSG00000052850.5 & ENSG00000259112.1 & ENSG00000259112.1 & ENSG00000145087.12 & ENSG00000145087.12 & ENSG00000113262.14 & ENSG00000113262.14 & ENSG00000137860.11 & ENSG00000137860.11 & ENSG00000154620.5  & ENSG00000154620.5 \\\\\n",
       "\\end{tabular}\n"
      ],
      "text/markdown": [
       "\n",
       "A matrix: 6 × 175 of type chr\n",
       "\n",
       "| ENSG00000163914.4 | ENSG00000163914.4 | ENSG00000124721.17 | ENSG00000124721.17 | ENSG00000102539.5  | ENSG00000102539.5  | ENSG00000116981.3  | ENSG00000116981.3  | ENSG00000127530.2  | ENSG00000127530.2  | ⋯ | ENSG00000169856.8 | ENSG00000169856.8 | ENSG00000185198.11 | ENSG00000185198.11 | ENSG00000152086.8  | ENSG00000152086.8  | ENSG00000143595.12 | ENSG00000143595.12 | ENSG00000107831.12 | ENSG00000107831.12 |\n",
       "| ENSG00000163914.4 | ENSG00000163914.4 | ENSG00000124721.17 | ENSG00000124721.17 | ENSG00000102539.5  | ENSG00000102539.5  | ENSG00000116981.3  | ENSG00000116981.3  | ENSG00000127530.2  | ENSG00000127530.2  | ⋯ | ENSG00000169856.8 | ENSG00000169856.8 | ENSG00000185198.11 | ENSG00000185198.11 | ENSG00000152086.8  | ENSG00000152086.8  | ENSG00000143595.12 | ENSG00000143595.12 | ENSG00000107831.12 | ENSG00000107831.12 |\n",
       "| ENSG00000206181.5 | ENSG00000206181.5 | ENSG00000120903.10 | ENSG00000120903.10 | ENSG00000103355.12 | ENSG00000103355.12 | ENSG00000169306.9  | ENSG00000169306.9  | ENSG00000101204.15 | ENSG00000101204.15 | ⋯ | ENSG00000095627.9 | ENSG00000095627.9 | ENSG00000168748.13 | ENSG00000168748.13 | ENSG00000204613.10 | ENSG00000204613.10 | ENSG00000266265.2  | ENSG00000266265.2  | ENSG00000196415.9  | ENSG00000196415.9  |\n",
       "| ENSG00000206181.5 | ENSG00000206181.5 | ENSG00000120903.10 | ENSG00000120903.10 | ENSG00000103355.12 | ENSG00000103355.12 | ENSG00000169306.9  | ENSG00000169306.9  | ENSG00000101204.15 | ENSG00000101204.15 | ⋯ | ENSG00000095627.9 | ENSG00000095627.9 | ENSG00000168748.13 | ENSG00000168748.13 | ENSG00000204613.10 | ENSG00000204613.10 | ENSG00000266265.2  | ENSG00000266265.2  | ENSG00000196415.9  | ENSG00000196415.9  |\n",
       "| ENSG00000154997.8 | ENSG00000154997.8 | ENSG00000198788.8  | ENSG00000198788.8  | ENSG00000004939.13 | ENSG00000004939.13 | ENSG00000036565.14 | ENSG00000036565.14 | ENSG00000170893.3  | ENSG00000170893.3  | ⋯ | ENSG00000259112.1 | ENSG00000259112.1 | ENSG00000145087.12 | ENSG00000145087.12 | ENSG00000113262.14 | ENSG00000113262.14 | ENSG00000137860.11 | ENSG00000137860.11 | ENSG00000154620.5  | ENSG00000154620.5  |\n",
       "| ENSG00000154997.8 | ENSG00000154997.8 | ENSG00000198788.8  | ENSG00000198788.8  | ENSG00000004939.13 | ENSG00000004939.13 | ENSG00000036565.14 | ENSG00000036565.14 | ENSG00000170893.3  | ENSG00000170893.3  | ⋯ | ENSG00000259112.1 | ENSG00000259112.1 | ENSG00000145087.12 | ENSG00000145087.12 | ENSG00000113262.14 | ENSG00000113262.14 | ENSG00000137860.11 | ENSG00000137860.11 | ENSG00000154620.5  | ENSG00000154620.5  |\n",
       "\n"
      ],
      "text/plain": [
       "     [,1]              [,2]              [,3]               [,4]              \n",
       "[1,] ENSG00000163914.4 ENSG00000163914.4 ENSG00000124721.17 ENSG00000124721.17\n",
       "[2,] ENSG00000163914.4 ENSG00000163914.4 ENSG00000124721.17 ENSG00000124721.17\n",
       "[3,] ENSG00000206181.5 ENSG00000206181.5 ENSG00000120903.10 ENSG00000120903.10\n",
       "[4,] ENSG00000206181.5 ENSG00000206181.5 ENSG00000120903.10 ENSG00000120903.10\n",
       "[5,] ENSG00000154997.8 ENSG00000154997.8 ENSG00000198788.8  ENSG00000198788.8 \n",
       "[6,] ENSG00000154997.8 ENSG00000154997.8 ENSG00000198788.8  ENSG00000198788.8 \n",
       "     [,5]               [,6]               [,7]              \n",
       "[1,] ENSG00000102539.5  ENSG00000102539.5  ENSG00000116981.3 \n",
       "[2,] ENSG00000102539.5  ENSG00000102539.5  ENSG00000116981.3 \n",
       "[3,] ENSG00000103355.12 ENSG00000103355.12 ENSG00000169306.9 \n",
       "[4,] ENSG00000103355.12 ENSG00000103355.12 ENSG00000169306.9 \n",
       "[5,] ENSG00000004939.13 ENSG00000004939.13 ENSG00000036565.14\n",
       "[6,] ENSG00000004939.13 ENSG00000004939.13 ENSG00000036565.14\n",
       "     [,8]               [,9]               [,10]              [,11]\n",
       "[1,] ENSG00000116981.3  ENSG00000127530.2  ENSG00000127530.2  ⋯    \n",
       "[2,] ENSG00000116981.3  ENSG00000127530.2  ENSG00000127530.2  ⋯    \n",
       "[3,] ENSG00000169306.9  ENSG00000101204.15 ENSG00000101204.15 ⋯    \n",
       "[4,] ENSG00000169306.9  ENSG00000101204.15 ENSG00000101204.15 ⋯    \n",
       "[5,] ENSG00000036565.14 ENSG00000170893.3  ENSG00000170893.3  ⋯    \n",
       "[6,] ENSG00000036565.14 ENSG00000170893.3  ENSG00000170893.3  ⋯    \n",
       "     [,12]             [,13]             [,14]              [,15]             \n",
       "[1,] ENSG00000169856.8 ENSG00000169856.8 ENSG00000185198.11 ENSG00000185198.11\n",
       "[2,] ENSG00000169856.8 ENSG00000169856.8 ENSG00000185198.11 ENSG00000185198.11\n",
       "[3,] ENSG00000095627.9 ENSG00000095627.9 ENSG00000168748.13 ENSG00000168748.13\n",
       "[4,] ENSG00000095627.9 ENSG00000095627.9 ENSG00000168748.13 ENSG00000168748.13\n",
       "[5,] ENSG00000259112.1 ENSG00000259112.1 ENSG00000145087.12 ENSG00000145087.12\n",
       "[6,] ENSG00000259112.1 ENSG00000259112.1 ENSG00000145087.12 ENSG00000145087.12\n",
       "     [,16]              [,17]              [,18]             \n",
       "[1,] ENSG00000152086.8  ENSG00000152086.8  ENSG00000143595.12\n",
       "[2,] ENSG00000152086.8  ENSG00000152086.8  ENSG00000143595.12\n",
       "[3,] ENSG00000204613.10 ENSG00000204613.10 ENSG00000266265.2 \n",
       "[4,] ENSG00000204613.10 ENSG00000204613.10 ENSG00000266265.2 \n",
       "[5,] ENSG00000113262.14 ENSG00000113262.14 ENSG00000137860.11\n",
       "[6,] ENSG00000113262.14 ENSG00000113262.14 ENSG00000137860.11\n",
       "     [,19]              [,20]              [,21]             \n",
       "[1,] ENSG00000143595.12 ENSG00000107831.12 ENSG00000107831.12\n",
       "[2,] ENSG00000143595.12 ENSG00000107831.12 ENSG00000107831.12\n",
       "[3,] ENSG00000266265.2  ENSG00000196415.9  ENSG00000196415.9 \n",
       "[4,] ENSG00000266265.2  ENSG00000196415.9  ENSG00000196415.9 \n",
       "[5,] ENSG00000137860.11 ENSG00000154620.5  ENSG00000154620.5 \n",
       "[6,] ENSG00000137860.11 ENSG00000154620.5  ENSG00000154620.5 "
      ]
     },
     "metadata": {},
     "output_type": "display_data"
    }
   ],
   "source": [
    "head(gene_treemap)"
   ]
  },
  {
   "cell_type": "markdown",
   "metadata": {},
   "source": [
    "## Gene-expression images\n",
    "\n",
    "Once we have generated the template image, we proceed to create the gene-expression images. For each gene-expression vector **g<sub>i</sub>**, we map the expression values to the positions\n",
    "of the genes in the template, thus obtaining a unique gene-expression image **M<sub>i</sub>** for each sample *i*. \n",
    "\n",
    "We save each **M<sub>i</sub>** image as a *numpy* file, using the sample ID as the file name:"
   ]
  },
  {
   "cell_type": "code",
   "execution_count": 94,
   "metadata": {},
   "outputs": [],
   "source": [
    "library(RcppCNPy)"
   ]
  },
  {
   "cell_type": "code",
   "execution_count": 46,
   "metadata": {},
   "outputs": [
    {
     "data": {
      "text/html": [],
      "text/latex": [],
      "text/markdown": [],
      "text/plain": [
       "character(0)"
      ]
     },
     "metadata": {},
     "output_type": "display_data"
    }
   ],
   "source": [
    "# Create gene-expression images folder\n",
    "dir_name <- paste0(\"mean_gene_exp_treemap_\", n_width, \"_\", n_height, \"_npy/\") \n",
    "system(paste0(\"mkdir -p \", dir_name), intern = TRUE)"
   ]
  },
  {
   "cell_type": "code",
   "execution_count": 96,
   "metadata": {},
   "outputs": [],
   "source": [
    "start.time <- Sys.time()\n",
    "for (sample_id in tcga_samples) {\n",
    "    npySave(filename = paste0(dir_name, strsplit(head(sample_id)[1], \"_\")[[1]][1], \".npy\"), \n",
    "                              strsplit(head(sample_id)[1], \"_\")[[1]][1], \".npy\"), \n",
    "            object = matrix(gene_exp[gene_treemap, sample_id], nrow = n_row, ncol = n_col, byrow = FALSE))\n",
    "}\n",
    "end.time <- Sys.time()"
   ]
  },
  {
   "cell_type": "code",
   "execution_count": 97,
   "metadata": {},
   "outputs": [
    {
     "data": {
      "text/plain": [
       "Time difference of 14,21427 secs"
      ]
     },
     "metadata": {},
     "output_type": "display_data"
    }
   ],
   "source": [
    "end.time - start.time"
   ]
  },
  {
   "cell_type": "markdown",
   "metadata": {},
   "source": [
    "Finally, we also create a treemap image with the average expression values across all samples. When visualized, the pixels colors transition is expected to be very smooth, as the average expression values across all samples have been used to sort the genes inside the treemap."
   ]
  },
  {
   "cell_type": "code",
   "execution_count": 104,
   "metadata": {},
   "outputs": [],
   "source": [
    "npySave(filename = paste0(dir_name, \"AVERAGE_EXPRESSION_TCGA_SAMPLES.npy\"), \n",
    "            object = matrix(gene_exp[gene_treemap, \"order\"], nrow = n_row, ncol = n_col, byrow = FALSE))"
   ]
  }
 ],
 "metadata": {
  "kernelspec": {
   "display_name": "R",
   "language": "R",
   "name": "ir"
  },
  "language_info": {
   "codemirror_mode": "r",
   "file_extension": ".r",
   "mimetype": "text/x-r-source",
   "name": "R",
   "pygments_lexer": "r",
   "version": "3.5.0"
  }
 },
 "nbformat": 4,
 "nbformat_minor": 2
}
